{
  "nbformat": 4,
  "nbformat_minor": 0,
  "metadata": {
    "colab": {
      "name": "ビッグデータ分析4-5.ipynb",
      "provenance": [],
      "collapsed_sections": [],
      "authorship_tag": "ABX9TyNGTJucbJMNZ4mmUg3dUyiB",
      "include_colab_link": true
    },
    "kernelspec": {
      "name": "python3",
      "display_name": "Python 3"
    },
    "language_info": {
      "name": "python"
    }
  },
  "cells": [
    {
      "cell_type": "markdown",
      "metadata": {
        "id": "view-in-github",
        "colab_type": "text"
      },
      "source": [
        "<a href=\"https://colab.research.google.com/github/DSF-Kotaro/classroom/blob/main/%E3%83%93%E3%83%83%E3%82%B0%E3%83%87%E3%83%BC%E3%82%BF%E5%88%86%E6%9E%904_5.ipynb\" target=\"_parent\"><img src=\"https://colab.research.google.com/assets/colab-badge.svg\" alt=\"Open In Colab\"/></a>"
      ]
    },
    {
      "cell_type": "code",
      "metadata": {
        "id": "7Xca9kbrM_ap"
      },
      "source": [
        "import numpy as np\n",
        "import pandas as pd\n",
        "from pandas import Series,DataFrame\n",
        "from numpy.random import randn\n",
        "from numpy import nan"
      ],
      "execution_count": 101,
      "outputs": []
    },
    {
      "cell_type": "code",
      "metadata": {
        "colab": {
          "base_uri": "https://localhost:8080/"
        },
        "id": "pCdqyQSLOZfq",
        "outputId": "5a65c793-abe9-4cb8-a505-4ae24cb62e65"
      },
      "source": [
        "obj = Series([3,6,9,12])\n",
        "obj"
      ],
      "execution_count": 2,
      "outputs": [
        {
          "output_type": "execute_result",
          "data": {
            "text/plain": [
              "0     3\n",
              "1     6\n",
              "2     9\n",
              "3    12\n",
              "dtype: int64"
            ]
          },
          "metadata": {},
          "execution_count": 2
        }
      ]
    },
    {
      "cell_type": "code",
      "metadata": {
        "colab": {
          "base_uri": "https://localhost:8080/"
        },
        "id": "zdhmJa5sOgao",
        "outputId": "dce02226-a838-4acb-f4d5-a6b288001a9f"
      },
      "source": [
        "obj.values"
      ],
      "execution_count": 3,
      "outputs": [
        {
          "output_type": "execute_result",
          "data": {
            "text/plain": [
              "array([ 3,  6,  9, 12])"
            ]
          },
          "metadata": {},
          "execution_count": 3
        }
      ]
    },
    {
      "cell_type": "code",
      "metadata": {
        "colab": {
          "base_uri": "https://localhost:8080/"
        },
        "id": "hdIoQgSNOlxJ",
        "outputId": "1af6e965-95c7-4d13-9538-5e0d1407c276"
      },
      "source": [
        "obj.index"
      ],
      "execution_count": 4,
      "outputs": [
        {
          "output_type": "execute_result",
          "data": {
            "text/plain": [
              "RangeIndex(start=0, stop=4, step=1)"
            ]
          },
          "metadata": {},
          "execution_count": 4
        }
      ]
    },
    {
      "cell_type": "code",
      "metadata": {
        "colab": {
          "base_uri": "https://localhost:8080/"
        },
        "id": "yaXz0oBWOqDH",
        "outputId": "a2671a83-1e8f-4d99-d3e7-604b75723c14"
      },
      "source": [
        "ww2_cos = Series([8700000,4300000,300000,2100000,400000],index=['USSR','Germany','China','Japnan','USA'])\n",
        "ww2_cos"
      ],
      "execution_count": 5,
      "outputs": [
        {
          "output_type": "execute_result",
          "data": {
            "text/plain": [
              "USSR       8700000\n",
              "Germany    4300000\n",
              "China       300000\n",
              "Japnan     2100000\n",
              "USA         400000\n",
              "dtype: int64"
            ]
          },
          "metadata": {},
          "execution_count": 5
        }
      ]
    },
    {
      "cell_type": "code",
      "metadata": {
        "colab": {
          "base_uri": "https://localhost:8080/"
        },
        "id": "OtlR0jm5O_bq",
        "outputId": "df04a5e2-1de6-45f8-c739-a5e039d7743f"
      },
      "source": [
        "ww2_cos['USA']"
      ],
      "execution_count": 6,
      "outputs": [
        {
          "output_type": "execute_result",
          "data": {
            "text/plain": [
              "400000"
            ]
          },
          "metadata": {},
          "execution_count": 6
        }
      ]
    },
    {
      "cell_type": "code",
      "metadata": {
        "colab": {
          "base_uri": "https://localhost:8080/"
        },
        "id": "tzsWNR-uPDXV",
        "outputId": "2c84b090-a202-4955-e05f-6dc1be53ffa9"
      },
      "source": [
        "ww2_cos > 4000000"
      ],
      "execution_count": 7,
      "outputs": [
        {
          "output_type": "execute_result",
          "data": {
            "text/plain": [
              "USSR        True\n",
              "Germany     True\n",
              "China      False\n",
              "Japnan     False\n",
              "USA        False\n",
              "dtype: bool"
            ]
          },
          "metadata": {},
          "execution_count": 7
        }
      ]
    },
    {
      "cell_type": "code",
      "metadata": {
        "colab": {
          "base_uri": "https://localhost:8080/"
        },
        "id": "k9YymhB3PJAi",
        "outputId": "5ea18260-1bc9-47cc-c4a4-f0f99cc09b76"
      },
      "source": [
        "'USSR' in ww2_cos"
      ],
      "execution_count": 8,
      "outputs": [
        {
          "output_type": "execute_result",
          "data": {
            "text/plain": [
              "True"
            ]
          },
          "metadata": {},
          "execution_count": 8
        }
      ]
    },
    {
      "cell_type": "code",
      "metadata": {
        "id": "rybs_i0oRGuC"
      },
      "source": [
        "nfl_frame = pd.read_csv('/content/List of all-time NFL win-loss records.csv',sep = ',')"
      ],
      "execution_count": 9,
      "outputs": []
    },
    {
      "cell_type": "code",
      "metadata": {
        "colab": {
          "base_uri": "https://localhost:8080/",
          "height": 359
        },
        "id": "Fjc0R9j9RRy4",
        "outputId": "26ea1e6c-6113-4e95-9706-0d5dd96977e3"
      },
      "source": [
        "nfl_frame"
      ],
      "execution_count": 10,
      "outputs": [
        {
          "output_type": "execute_result",
          "data": {
            "text/html": [
              "<div>\n",
              "<style scoped>\n",
              "    .dataframe tbody tr th:only-of-type {\n",
              "        vertical-align: middle;\n",
              "    }\n",
              "\n",
              "    .dataframe tbody tr th {\n",
              "        vertical-align: top;\n",
              "    }\n",
              "\n",
              "    .dataframe thead th {\n",
              "        text-align: right;\n",
              "    }\n",
              "</style>\n",
              "<table border=\"1\" class=\"dataframe\">\n",
              "  <thead>\n",
              "    <tr style=\"text-align: right;\">\n",
              "      <th></th>\n",
              "      <th>Rank</th>\n",
              "      <th>Team</th>\n",
              "      <th>GP</th>\n",
              "      <th>Won</th>\n",
              "      <th>Lost</th>\n",
              "      <th>Tied</th>\n",
              "      <th>Pct.</th>\n",
              "      <th>Season</th>\n",
              "      <th>Division</th>\n",
              "    </tr>\n",
              "  </thead>\n",
              "  <tbody>\n",
              "    <tr>\n",
              "      <th>0</th>\n",
              "      <td>1</td>\n",
              "      <td>Green Bay Packers</td>\n",
              "      <td>1,385</td>\n",
              "      <td>769</td>\n",
              "      <td>578</td>\n",
              "      <td>38</td>\n",
              "      <td>0.569</td>\n",
              "      <td>1921</td>\n",
              "      <td>NFC North</td>\n",
              "    </tr>\n",
              "    <tr>\n",
              "      <th>1</th>\n",
              "      <td>2</td>\n",
              "      <td>Dallas Cowboys</td>\n",
              "      <td>930</td>\n",
              "      <td>526</td>\n",
              "      <td>398</td>\n",
              "      <td>6</td>\n",
              "      <td>0.569</td>\n",
              "      <td>1960</td>\n",
              "      <td>NFC East</td>\n",
              "    </tr>\n",
              "    <tr>\n",
              "      <th>2</th>\n",
              "      <td>3</td>\n",
              "      <td>Baltimore Ravens</td>\n",
              "      <td>400</td>\n",
              "      <td>225</td>\n",
              "      <td>174</td>\n",
              "      <td>1</td>\n",
              "      <td>0.564</td>\n",
              "      <td>1996</td>\n",
              "      <td>AFC North</td>\n",
              "    </tr>\n",
              "    <tr>\n",
              "      <th>3</th>\n",
              "      <td>4</td>\n",
              "      <td>Chicago Bears</td>\n",
              "      <td>1,418</td>\n",
              "      <td>777</td>\n",
              "      <td>599</td>\n",
              "      <td>42</td>\n",
              "      <td>0.563</td>\n",
              "      <td>1920</td>\n",
              "      <td>NFC North</td>\n",
              "    </tr>\n",
              "    <tr>\n",
              "      <th>4</th>\n",
              "      <td>5</td>\n",
              "      <td>New England Patriots</td>\n",
              "      <td>933</td>\n",
              "      <td>519</td>\n",
              "      <td>405</td>\n",
              "      <td>9</td>\n",
              "      <td>0.561</td>\n",
              "      <td>1960</td>\n",
              "      <td>AFC East</td>\n",
              "    </tr>\n",
              "    <tr>\n",
              "      <th>5</th>\n",
              "      <td>6</td>\n",
              "      <td>Miami Dolphins</td>\n",
              "      <td>849</td>\n",
              "      <td>468</td>\n",
              "      <td>377</td>\n",
              "      <td>4</td>\n",
              "      <td>0.554</td>\n",
              "      <td>1966</td>\n",
              "      <td>AFC East</td>\n",
              "    </tr>\n",
              "    <tr>\n",
              "      <th>6</th>\n",
              "      <td>7</td>\n",
              "      <td>Minnesota Vikings</td>\n",
              "      <td>919</td>\n",
              "      <td>495</td>\n",
              "      <td>413</td>\n",
              "      <td>11</td>\n",
              "      <td>0.545</td>\n",
              "      <td>1961</td>\n",
              "      <td>NFC North</td>\n",
              "    </tr>\n",
              "    <tr>\n",
              "      <th>7</th>\n",
              "      <td>8</td>\n",
              "      <td>Kansas City Chiefs</td>\n",
              "      <td>933</td>\n",
              "      <td>496</td>\n",
              "      <td>425</td>\n",
              "      <td>12</td>\n",
              "      <td>0.537</td>\n",
              "      <td>1960</td>\n",
              "      <td>AFC West</td>\n",
              "    </tr>\n",
              "    <tr>\n",
              "      <th>8</th>\n",
              "      <td>9</td>\n",
              "      <td>Pittsburgh Steelers</td>\n",
              "      <td>1,221</td>\n",
              "      <td>644</td>\n",
              "      <td>556</td>\n",
              "      <td>21</td>\n",
              "      <td>0.536</td>\n",
              "      <td>1933</td>\n",
              "      <td>AFC North</td>\n",
              "    </tr>\n",
              "    <tr>\n",
              "      <th>9</th>\n",
              "      <td>10</td>\n",
              "      <td>San Francisco 49ers</td>\n",
              "      <td>1,051</td>\n",
              "      <td>552</td>\n",
              "      <td>485</td>\n",
              "      <td>14</td>\n",
              "      <td>0.532</td>\n",
              "      <td>1950</td>\n",
              "      <td>NFC West</td>\n",
              "    </tr>\n",
              "  </tbody>\n",
              "</table>\n",
              "</div>"
            ],
            "text/plain": [
              "   Rank                  Team     GP  Won  Lost  Tied   Pct.  Season   Division\n",
              "0     1     Green Bay Packers  1,385  769   578    38  0.569    1921  NFC North\n",
              "1     2        Dallas Cowboys    930  526   398     6  0.569    1960   NFC East\n",
              "2     3      Baltimore Ravens    400  225   174     1  0.564    1996  AFC North\n",
              "3     4         Chicago Bears  1,418  777   599    42  0.563    1920  NFC North\n",
              "4     5  New England Patriots    933  519   405     9  0.561    1960   AFC East\n",
              "5     6        Miami Dolphins    849  468   377     4  0.554    1966   AFC East\n",
              "6     7     Minnesota Vikings    919  495   413    11  0.545    1961  NFC North\n",
              "7     8    Kansas City Chiefs    933  496   425    12  0.537    1960   AFC West\n",
              "8     9   Pittsburgh Steelers  1,221  644   556    21  0.536    1933  AFC North\n",
              "9    10   San Francisco 49ers  1,051  552   485    14  0.532    1950   NFC West"
            ]
          },
          "metadata": {},
          "execution_count": 10
        }
      ]
    },
    {
      "cell_type": "code",
      "metadata": {
        "colab": {
          "base_uri": "https://localhost:8080/"
        },
        "id": "sUjzmBzcSiUn",
        "outputId": "c87f55cc-d4eb-43a8-a691-b2096ce57d3d"
      },
      "source": [
        "nfl_frame.columns"
      ],
      "execution_count": 11,
      "outputs": [
        {
          "output_type": "execute_result",
          "data": {
            "text/plain": [
              "Index(['Rank', 'Team', 'GP', 'Won', 'Lost', 'Tied', 'Pct.', 'Season',\n",
              "       'Division'],\n",
              "      dtype='object')"
            ]
          },
          "metadata": {},
          "execution_count": 11
        }
      ]
    },
    {
      "cell_type": "code",
      "metadata": {
        "colab": {
          "base_uri": "https://localhost:8080/"
        },
        "id": "HUYSIREMSq-_",
        "outputId": "0679d701-06fe-468a-a560-c17139de8411"
      },
      "source": [
        "nfl_frame['Season']"
      ],
      "execution_count": 12,
      "outputs": [
        {
          "output_type": "execute_result",
          "data": {
            "text/plain": [
              "0    1921\n",
              "1    1960\n",
              "2    1996\n",
              "3    1920\n",
              "4    1960\n",
              "5    1966\n",
              "6    1961\n",
              "7    1960\n",
              "8    1933\n",
              "9    1950\n",
              "Name: Season, dtype: int64"
            ]
          },
          "metadata": {},
          "execution_count": 12
        }
      ]
    },
    {
      "cell_type": "code",
      "metadata": {
        "colab": {
          "base_uri": "https://localhost:8080/"
        },
        "id": "kpM5eLMJSvJr",
        "outputId": "d675f393-534c-4bb3-db44-e9bd3d458d03"
      },
      "source": [
        "nfl_frame.Team"
      ],
      "execution_count": 13,
      "outputs": [
        {
          "output_type": "execute_result",
          "data": {
            "text/plain": [
              "0       Green Bay Packers\n",
              "1          Dallas Cowboys\n",
              "2        Baltimore Ravens\n",
              "3           Chicago Bears\n",
              "4    New England Patriots\n",
              "5          Miami Dolphins\n",
              "6       Minnesota Vikings\n",
              "7      Kansas City Chiefs\n",
              "8     Pittsburgh Steelers\n",
              "9     San Francisco 49ers\n",
              "Name: Team, dtype: object"
            ]
          },
          "metadata": {},
          "execution_count": 13
        }
      ]
    },
    {
      "cell_type": "code",
      "metadata": {
        "colab": {
          "base_uri": "https://localhost:8080/",
          "height": 359
        },
        "id": "-MfisFjaS3X6",
        "outputId": "35080427-0807-442b-8a6a-cc8a9a92bd9d"
      },
      "source": [
        "nfl_frame[['Team','Season']]"
      ],
      "execution_count": 14,
      "outputs": [
        {
          "output_type": "execute_result",
          "data": {
            "text/html": [
              "<div>\n",
              "<style scoped>\n",
              "    .dataframe tbody tr th:only-of-type {\n",
              "        vertical-align: middle;\n",
              "    }\n",
              "\n",
              "    .dataframe tbody tr th {\n",
              "        vertical-align: top;\n",
              "    }\n",
              "\n",
              "    .dataframe thead th {\n",
              "        text-align: right;\n",
              "    }\n",
              "</style>\n",
              "<table border=\"1\" class=\"dataframe\">\n",
              "  <thead>\n",
              "    <tr style=\"text-align: right;\">\n",
              "      <th></th>\n",
              "      <th>Team</th>\n",
              "      <th>Season</th>\n",
              "    </tr>\n",
              "  </thead>\n",
              "  <tbody>\n",
              "    <tr>\n",
              "      <th>0</th>\n",
              "      <td>Green Bay Packers</td>\n",
              "      <td>1921</td>\n",
              "    </tr>\n",
              "    <tr>\n",
              "      <th>1</th>\n",
              "      <td>Dallas Cowboys</td>\n",
              "      <td>1960</td>\n",
              "    </tr>\n",
              "    <tr>\n",
              "      <th>2</th>\n",
              "      <td>Baltimore Ravens</td>\n",
              "      <td>1996</td>\n",
              "    </tr>\n",
              "    <tr>\n",
              "      <th>3</th>\n",
              "      <td>Chicago Bears</td>\n",
              "      <td>1920</td>\n",
              "    </tr>\n",
              "    <tr>\n",
              "      <th>4</th>\n",
              "      <td>New England Patriots</td>\n",
              "      <td>1960</td>\n",
              "    </tr>\n",
              "    <tr>\n",
              "      <th>5</th>\n",
              "      <td>Miami Dolphins</td>\n",
              "      <td>1966</td>\n",
              "    </tr>\n",
              "    <tr>\n",
              "      <th>6</th>\n",
              "      <td>Minnesota Vikings</td>\n",
              "      <td>1961</td>\n",
              "    </tr>\n",
              "    <tr>\n",
              "      <th>7</th>\n",
              "      <td>Kansas City Chiefs</td>\n",
              "      <td>1960</td>\n",
              "    </tr>\n",
              "    <tr>\n",
              "      <th>8</th>\n",
              "      <td>Pittsburgh Steelers</td>\n",
              "      <td>1933</td>\n",
              "    </tr>\n",
              "    <tr>\n",
              "      <th>9</th>\n",
              "      <td>San Francisco 49ers</td>\n",
              "      <td>1950</td>\n",
              "    </tr>\n",
              "  </tbody>\n",
              "</table>\n",
              "</div>"
            ],
            "text/plain": [
              "                   Team  Season\n",
              "0     Green Bay Packers    1921\n",
              "1        Dallas Cowboys    1960\n",
              "2      Baltimore Ravens    1996\n",
              "3         Chicago Bears    1920\n",
              "4  New England Patriots    1960\n",
              "5        Miami Dolphins    1966\n",
              "6     Minnesota Vikings    1961\n",
              "7    Kansas City Chiefs    1960\n",
              "8   Pittsburgh Steelers    1933\n",
              "9   San Francisco 49ers    1950"
            ]
          },
          "metadata": {},
          "execution_count": 14
        }
      ]
    },
    {
      "cell_type": "code",
      "metadata": {
        "colab": {
          "base_uri": "https://localhost:8080/",
          "height": 359
        },
        "id": "q6qwRrF1S-QN",
        "outputId": "6b3aa4ab-3a19-4f40-dd70-bd6780009573"
      },
      "source": [
        "DataFrame(nfl_frame,columns = ['Team','Season'])"
      ],
      "execution_count": 15,
      "outputs": [
        {
          "output_type": "execute_result",
          "data": {
            "text/html": [
              "<div>\n",
              "<style scoped>\n",
              "    .dataframe tbody tr th:only-of-type {\n",
              "        vertical-align: middle;\n",
              "    }\n",
              "\n",
              "    .dataframe tbody tr th {\n",
              "        vertical-align: top;\n",
              "    }\n",
              "\n",
              "    .dataframe thead th {\n",
              "        text-align: right;\n",
              "    }\n",
              "</style>\n",
              "<table border=\"1\" class=\"dataframe\">\n",
              "  <thead>\n",
              "    <tr style=\"text-align: right;\">\n",
              "      <th></th>\n",
              "      <th>Team</th>\n",
              "      <th>Season</th>\n",
              "    </tr>\n",
              "  </thead>\n",
              "  <tbody>\n",
              "    <tr>\n",
              "      <th>0</th>\n",
              "      <td>Green Bay Packers</td>\n",
              "      <td>1921</td>\n",
              "    </tr>\n",
              "    <tr>\n",
              "      <th>1</th>\n",
              "      <td>Dallas Cowboys</td>\n",
              "      <td>1960</td>\n",
              "    </tr>\n",
              "    <tr>\n",
              "      <th>2</th>\n",
              "      <td>Baltimore Ravens</td>\n",
              "      <td>1996</td>\n",
              "    </tr>\n",
              "    <tr>\n",
              "      <th>3</th>\n",
              "      <td>Chicago Bears</td>\n",
              "      <td>1920</td>\n",
              "    </tr>\n",
              "    <tr>\n",
              "      <th>4</th>\n",
              "      <td>New England Patriots</td>\n",
              "      <td>1960</td>\n",
              "    </tr>\n",
              "    <tr>\n",
              "      <th>5</th>\n",
              "      <td>Miami Dolphins</td>\n",
              "      <td>1966</td>\n",
              "    </tr>\n",
              "    <tr>\n",
              "      <th>6</th>\n",
              "      <td>Minnesota Vikings</td>\n",
              "      <td>1961</td>\n",
              "    </tr>\n",
              "    <tr>\n",
              "      <th>7</th>\n",
              "      <td>Kansas City Chiefs</td>\n",
              "      <td>1960</td>\n",
              "    </tr>\n",
              "    <tr>\n",
              "      <th>8</th>\n",
              "      <td>Pittsburgh Steelers</td>\n",
              "      <td>1933</td>\n",
              "    </tr>\n",
              "    <tr>\n",
              "      <th>9</th>\n",
              "      <td>San Francisco 49ers</td>\n",
              "      <td>1950</td>\n",
              "    </tr>\n",
              "  </tbody>\n",
              "</table>\n",
              "</div>"
            ],
            "text/plain": [
              "                   Team  Season\n",
              "0     Green Bay Packers    1921\n",
              "1        Dallas Cowboys    1960\n",
              "2      Baltimore Ravens    1996\n",
              "3         Chicago Bears    1920\n",
              "4  New England Patriots    1960\n",
              "5        Miami Dolphins    1966\n",
              "6     Minnesota Vikings    1961\n",
              "7    Kansas City Chiefs    1960\n",
              "8   Pittsburgh Steelers    1933\n",
              "9   San Francisco 49ers    1950"
            ]
          },
          "metadata": {},
          "execution_count": 15
        }
      ]
    },
    {
      "cell_type": "code",
      "metadata": {
        "colab": {
          "base_uri": "https://localhost:8080/",
          "height": 359
        },
        "id": "hrvsebJJTJgZ",
        "outputId": "99d9996f-49cc-4344-9698-15afe852a0ba"
      },
      "source": [
        "DataFrame(nfl_frame,columns = ['Team','Season','Studium'])"
      ],
      "execution_count": 16,
      "outputs": [
        {
          "output_type": "execute_result",
          "data": {
            "text/html": [
              "<div>\n",
              "<style scoped>\n",
              "    .dataframe tbody tr th:only-of-type {\n",
              "        vertical-align: middle;\n",
              "    }\n",
              "\n",
              "    .dataframe tbody tr th {\n",
              "        vertical-align: top;\n",
              "    }\n",
              "\n",
              "    .dataframe thead th {\n",
              "        text-align: right;\n",
              "    }\n",
              "</style>\n",
              "<table border=\"1\" class=\"dataframe\">\n",
              "  <thead>\n",
              "    <tr style=\"text-align: right;\">\n",
              "      <th></th>\n",
              "      <th>Team</th>\n",
              "      <th>Season</th>\n",
              "      <th>Studium</th>\n",
              "    </tr>\n",
              "  </thead>\n",
              "  <tbody>\n",
              "    <tr>\n",
              "      <th>0</th>\n",
              "      <td>Green Bay Packers</td>\n",
              "      <td>1921</td>\n",
              "      <td>NaN</td>\n",
              "    </tr>\n",
              "    <tr>\n",
              "      <th>1</th>\n",
              "      <td>Dallas Cowboys</td>\n",
              "      <td>1960</td>\n",
              "      <td>NaN</td>\n",
              "    </tr>\n",
              "    <tr>\n",
              "      <th>2</th>\n",
              "      <td>Baltimore Ravens</td>\n",
              "      <td>1996</td>\n",
              "      <td>NaN</td>\n",
              "    </tr>\n",
              "    <tr>\n",
              "      <th>3</th>\n",
              "      <td>Chicago Bears</td>\n",
              "      <td>1920</td>\n",
              "      <td>NaN</td>\n",
              "    </tr>\n",
              "    <tr>\n",
              "      <th>4</th>\n",
              "      <td>New England Patriots</td>\n",
              "      <td>1960</td>\n",
              "      <td>NaN</td>\n",
              "    </tr>\n",
              "    <tr>\n",
              "      <th>5</th>\n",
              "      <td>Miami Dolphins</td>\n",
              "      <td>1966</td>\n",
              "      <td>NaN</td>\n",
              "    </tr>\n",
              "    <tr>\n",
              "      <th>6</th>\n",
              "      <td>Minnesota Vikings</td>\n",
              "      <td>1961</td>\n",
              "      <td>NaN</td>\n",
              "    </tr>\n",
              "    <tr>\n",
              "      <th>7</th>\n",
              "      <td>Kansas City Chiefs</td>\n",
              "      <td>1960</td>\n",
              "      <td>NaN</td>\n",
              "    </tr>\n",
              "    <tr>\n",
              "      <th>8</th>\n",
              "      <td>Pittsburgh Steelers</td>\n",
              "      <td>1933</td>\n",
              "      <td>NaN</td>\n",
              "    </tr>\n",
              "    <tr>\n",
              "      <th>9</th>\n",
              "      <td>San Francisco 49ers</td>\n",
              "      <td>1950</td>\n",
              "      <td>NaN</td>\n",
              "    </tr>\n",
              "  </tbody>\n",
              "</table>\n",
              "</div>"
            ],
            "text/plain": [
              "                   Team  Season  Studium\n",
              "0     Green Bay Packers    1921      NaN\n",
              "1        Dallas Cowboys    1960      NaN\n",
              "2      Baltimore Ravens    1996      NaN\n",
              "3         Chicago Bears    1920      NaN\n",
              "4  New England Patriots    1960      NaN\n",
              "5        Miami Dolphins    1966      NaN\n",
              "6     Minnesota Vikings    1961      NaN\n",
              "7    Kansas City Chiefs    1960      NaN\n",
              "8   Pittsburgh Steelers    1933      NaN\n",
              "9   San Francisco 49ers    1950      NaN"
            ]
          },
          "metadata": {},
          "execution_count": 16
        }
      ]
    },
    {
      "cell_type": "code",
      "metadata": {
        "colab": {
          "base_uri": "https://localhost:8080/",
          "height": 142
        },
        "id": "Mc-j9WrrTXO9",
        "outputId": "635b2682-dacb-4f44-a865-71d9bc2a58f4"
      },
      "source": [
        "nfl_frame.head(3)"
      ],
      "execution_count": 17,
      "outputs": [
        {
          "output_type": "execute_result",
          "data": {
            "text/html": [
              "<div>\n",
              "<style scoped>\n",
              "    .dataframe tbody tr th:only-of-type {\n",
              "        vertical-align: middle;\n",
              "    }\n",
              "\n",
              "    .dataframe tbody tr th {\n",
              "        vertical-align: top;\n",
              "    }\n",
              "\n",
              "    .dataframe thead th {\n",
              "        text-align: right;\n",
              "    }\n",
              "</style>\n",
              "<table border=\"1\" class=\"dataframe\">\n",
              "  <thead>\n",
              "    <tr style=\"text-align: right;\">\n",
              "      <th></th>\n",
              "      <th>Rank</th>\n",
              "      <th>Team</th>\n",
              "      <th>GP</th>\n",
              "      <th>Won</th>\n",
              "      <th>Lost</th>\n",
              "      <th>Tied</th>\n",
              "      <th>Pct.</th>\n",
              "      <th>Season</th>\n",
              "      <th>Division</th>\n",
              "    </tr>\n",
              "  </thead>\n",
              "  <tbody>\n",
              "    <tr>\n",
              "      <th>0</th>\n",
              "      <td>1</td>\n",
              "      <td>Green Bay Packers</td>\n",
              "      <td>1,385</td>\n",
              "      <td>769</td>\n",
              "      <td>578</td>\n",
              "      <td>38</td>\n",
              "      <td>0.569</td>\n",
              "      <td>1921</td>\n",
              "      <td>NFC North</td>\n",
              "    </tr>\n",
              "    <tr>\n",
              "      <th>1</th>\n",
              "      <td>2</td>\n",
              "      <td>Dallas Cowboys</td>\n",
              "      <td>930</td>\n",
              "      <td>526</td>\n",
              "      <td>398</td>\n",
              "      <td>6</td>\n",
              "      <td>0.569</td>\n",
              "      <td>1960</td>\n",
              "      <td>NFC East</td>\n",
              "    </tr>\n",
              "    <tr>\n",
              "      <th>2</th>\n",
              "      <td>3</td>\n",
              "      <td>Baltimore Ravens</td>\n",
              "      <td>400</td>\n",
              "      <td>225</td>\n",
              "      <td>174</td>\n",
              "      <td>1</td>\n",
              "      <td>0.564</td>\n",
              "      <td>1996</td>\n",
              "      <td>AFC North</td>\n",
              "    </tr>\n",
              "  </tbody>\n",
              "</table>\n",
              "</div>"
            ],
            "text/plain": [
              "   Rank               Team     GP  Won  Lost  Tied   Pct.  Season   Division\n",
              "0     1  Green Bay Packers  1,385  769   578    38  0.569    1921  NFC North\n",
              "1     2     Dallas Cowboys    930  526   398     6  0.569    1960   NFC East\n",
              "2     3   Baltimore Ravens    400  225   174     1  0.564    1996  AFC North"
            ]
          },
          "metadata": {},
          "execution_count": 17
        }
      ]
    },
    {
      "cell_type": "code",
      "metadata": {
        "colab": {
          "base_uri": "https://localhost:8080/",
          "height": 142
        },
        "id": "kJTymZsUTbNR",
        "outputId": "58b76281-1022-4ce4-9949-4079755d50c5"
      },
      "source": [
        "nfl_frame.tail(3)"
      ],
      "execution_count": 18,
      "outputs": [
        {
          "output_type": "execute_result",
          "data": {
            "text/html": [
              "<div>\n",
              "<style scoped>\n",
              "    .dataframe tbody tr th:only-of-type {\n",
              "        vertical-align: middle;\n",
              "    }\n",
              "\n",
              "    .dataframe tbody tr th {\n",
              "        vertical-align: top;\n",
              "    }\n",
              "\n",
              "    .dataframe thead th {\n",
              "        text-align: right;\n",
              "    }\n",
              "</style>\n",
              "<table border=\"1\" class=\"dataframe\">\n",
              "  <thead>\n",
              "    <tr style=\"text-align: right;\">\n",
              "      <th></th>\n",
              "      <th>Rank</th>\n",
              "      <th>Team</th>\n",
              "      <th>GP</th>\n",
              "      <th>Won</th>\n",
              "      <th>Lost</th>\n",
              "      <th>Tied</th>\n",
              "      <th>Pct.</th>\n",
              "      <th>Season</th>\n",
              "      <th>Division</th>\n",
              "    </tr>\n",
              "  </thead>\n",
              "  <tbody>\n",
              "    <tr>\n",
              "      <th>7</th>\n",
              "      <td>8</td>\n",
              "      <td>Kansas City Chiefs</td>\n",
              "      <td>933</td>\n",
              "      <td>496</td>\n",
              "      <td>425</td>\n",
              "      <td>12</td>\n",
              "      <td>0.537</td>\n",
              "      <td>1960</td>\n",
              "      <td>AFC West</td>\n",
              "    </tr>\n",
              "    <tr>\n",
              "      <th>8</th>\n",
              "      <td>9</td>\n",
              "      <td>Pittsburgh Steelers</td>\n",
              "      <td>1,221</td>\n",
              "      <td>644</td>\n",
              "      <td>556</td>\n",
              "      <td>21</td>\n",
              "      <td>0.536</td>\n",
              "      <td>1933</td>\n",
              "      <td>AFC North</td>\n",
              "    </tr>\n",
              "    <tr>\n",
              "      <th>9</th>\n",
              "      <td>10</td>\n",
              "      <td>San Francisco 49ers</td>\n",
              "      <td>1,051</td>\n",
              "      <td>552</td>\n",
              "      <td>485</td>\n",
              "      <td>14</td>\n",
              "      <td>0.532</td>\n",
              "      <td>1950</td>\n",
              "      <td>NFC West</td>\n",
              "    </tr>\n",
              "  </tbody>\n",
              "</table>\n",
              "</div>"
            ],
            "text/plain": [
              "   Rank                 Team     GP  Won  Lost  Tied   Pct.  Season   Division\n",
              "7     8   Kansas City Chiefs    933  496   425    12  0.537    1960   AFC West\n",
              "8     9  Pittsburgh Steelers  1,221  644   556    21  0.536    1933  AFC North\n",
              "9    10  San Francisco 49ers  1,051  552   485    14  0.532    1950   NFC West"
            ]
          },
          "metadata": {},
          "execution_count": 18
        }
      ]
    },
    {
      "cell_type": "code",
      "metadata": {
        "colab": {
          "base_uri": "https://localhost:8080/",
          "height": 359
        },
        "id": "ZOlorRlGTipW",
        "outputId": "dd52daa5-8ce3-4902-eefa-bdee134ed652"
      },
      "source": [
        "nfl_frame['Stadium'] = \"Levi's Stadium\"\n",
        "nfl_frame"
      ],
      "execution_count": 19,
      "outputs": [
        {
          "output_type": "execute_result",
          "data": {
            "text/html": [
              "<div>\n",
              "<style scoped>\n",
              "    .dataframe tbody tr th:only-of-type {\n",
              "        vertical-align: middle;\n",
              "    }\n",
              "\n",
              "    .dataframe tbody tr th {\n",
              "        vertical-align: top;\n",
              "    }\n",
              "\n",
              "    .dataframe thead th {\n",
              "        text-align: right;\n",
              "    }\n",
              "</style>\n",
              "<table border=\"1\" class=\"dataframe\">\n",
              "  <thead>\n",
              "    <tr style=\"text-align: right;\">\n",
              "      <th></th>\n",
              "      <th>Rank</th>\n",
              "      <th>Team</th>\n",
              "      <th>GP</th>\n",
              "      <th>Won</th>\n",
              "      <th>Lost</th>\n",
              "      <th>Tied</th>\n",
              "      <th>Pct.</th>\n",
              "      <th>Season</th>\n",
              "      <th>Division</th>\n",
              "      <th>Stadium</th>\n",
              "    </tr>\n",
              "  </thead>\n",
              "  <tbody>\n",
              "    <tr>\n",
              "      <th>0</th>\n",
              "      <td>1</td>\n",
              "      <td>Green Bay Packers</td>\n",
              "      <td>1,385</td>\n",
              "      <td>769</td>\n",
              "      <td>578</td>\n",
              "      <td>38</td>\n",
              "      <td>0.569</td>\n",
              "      <td>1921</td>\n",
              "      <td>NFC North</td>\n",
              "      <td>Levi's Stadium</td>\n",
              "    </tr>\n",
              "    <tr>\n",
              "      <th>1</th>\n",
              "      <td>2</td>\n",
              "      <td>Dallas Cowboys</td>\n",
              "      <td>930</td>\n",
              "      <td>526</td>\n",
              "      <td>398</td>\n",
              "      <td>6</td>\n",
              "      <td>0.569</td>\n",
              "      <td>1960</td>\n",
              "      <td>NFC East</td>\n",
              "      <td>Levi's Stadium</td>\n",
              "    </tr>\n",
              "    <tr>\n",
              "      <th>2</th>\n",
              "      <td>3</td>\n",
              "      <td>Baltimore Ravens</td>\n",
              "      <td>400</td>\n",
              "      <td>225</td>\n",
              "      <td>174</td>\n",
              "      <td>1</td>\n",
              "      <td>0.564</td>\n",
              "      <td>1996</td>\n",
              "      <td>AFC North</td>\n",
              "      <td>Levi's Stadium</td>\n",
              "    </tr>\n",
              "    <tr>\n",
              "      <th>3</th>\n",
              "      <td>4</td>\n",
              "      <td>Chicago Bears</td>\n",
              "      <td>1,418</td>\n",
              "      <td>777</td>\n",
              "      <td>599</td>\n",
              "      <td>42</td>\n",
              "      <td>0.563</td>\n",
              "      <td>1920</td>\n",
              "      <td>NFC North</td>\n",
              "      <td>Levi's Stadium</td>\n",
              "    </tr>\n",
              "    <tr>\n",
              "      <th>4</th>\n",
              "      <td>5</td>\n",
              "      <td>New England Patriots</td>\n",
              "      <td>933</td>\n",
              "      <td>519</td>\n",
              "      <td>405</td>\n",
              "      <td>9</td>\n",
              "      <td>0.561</td>\n",
              "      <td>1960</td>\n",
              "      <td>AFC East</td>\n",
              "      <td>Levi's Stadium</td>\n",
              "    </tr>\n",
              "    <tr>\n",
              "      <th>5</th>\n",
              "      <td>6</td>\n",
              "      <td>Miami Dolphins</td>\n",
              "      <td>849</td>\n",
              "      <td>468</td>\n",
              "      <td>377</td>\n",
              "      <td>4</td>\n",
              "      <td>0.554</td>\n",
              "      <td>1966</td>\n",
              "      <td>AFC East</td>\n",
              "      <td>Levi's Stadium</td>\n",
              "    </tr>\n",
              "    <tr>\n",
              "      <th>6</th>\n",
              "      <td>7</td>\n",
              "      <td>Minnesota Vikings</td>\n",
              "      <td>919</td>\n",
              "      <td>495</td>\n",
              "      <td>413</td>\n",
              "      <td>11</td>\n",
              "      <td>0.545</td>\n",
              "      <td>1961</td>\n",
              "      <td>NFC North</td>\n",
              "      <td>Levi's Stadium</td>\n",
              "    </tr>\n",
              "    <tr>\n",
              "      <th>7</th>\n",
              "      <td>8</td>\n",
              "      <td>Kansas City Chiefs</td>\n",
              "      <td>933</td>\n",
              "      <td>496</td>\n",
              "      <td>425</td>\n",
              "      <td>12</td>\n",
              "      <td>0.537</td>\n",
              "      <td>1960</td>\n",
              "      <td>AFC West</td>\n",
              "      <td>Levi's Stadium</td>\n",
              "    </tr>\n",
              "    <tr>\n",
              "      <th>8</th>\n",
              "      <td>9</td>\n",
              "      <td>Pittsburgh Steelers</td>\n",
              "      <td>1,221</td>\n",
              "      <td>644</td>\n",
              "      <td>556</td>\n",
              "      <td>21</td>\n",
              "      <td>0.536</td>\n",
              "      <td>1933</td>\n",
              "      <td>AFC North</td>\n",
              "      <td>Levi's Stadium</td>\n",
              "    </tr>\n",
              "    <tr>\n",
              "      <th>9</th>\n",
              "      <td>10</td>\n",
              "      <td>San Francisco 49ers</td>\n",
              "      <td>1,051</td>\n",
              "      <td>552</td>\n",
              "      <td>485</td>\n",
              "      <td>14</td>\n",
              "      <td>0.532</td>\n",
              "      <td>1950</td>\n",
              "      <td>NFC West</td>\n",
              "      <td>Levi's Stadium</td>\n",
              "    </tr>\n",
              "  </tbody>\n",
              "</table>\n",
              "</div>"
            ],
            "text/plain": [
              "   Rank                  Team     GP  ...  Season   Division         Stadium\n",
              "0     1     Green Bay Packers  1,385  ...    1921  NFC North  Levi's Stadium\n",
              "1     2        Dallas Cowboys    930  ...    1960   NFC East  Levi's Stadium\n",
              "2     3      Baltimore Ravens    400  ...    1996  AFC North  Levi's Stadium\n",
              "3     4         Chicago Bears  1,418  ...    1920  NFC North  Levi's Stadium\n",
              "4     5  New England Patriots    933  ...    1960   AFC East  Levi's Stadium\n",
              "5     6        Miami Dolphins    849  ...    1966   AFC East  Levi's Stadium\n",
              "6     7     Minnesota Vikings    919  ...    1961  NFC North  Levi's Stadium\n",
              "7     8    Kansas City Chiefs    933  ...    1960   AFC West  Levi's Stadium\n",
              "8     9   Pittsburgh Steelers  1,221  ...    1933  AFC North  Levi's Stadium\n",
              "9    10   San Francisco 49ers  1,051  ...    1950   NFC West  Levi's Stadium\n",
              "\n",
              "[10 rows x 10 columns]"
            ]
          },
          "metadata": {},
          "execution_count": 19
        }
      ]
    },
    {
      "cell_type": "code",
      "metadata": {
        "colab": {
          "base_uri": "https://localhost:8080/",
          "height": 359
        },
        "id": "sfAP1UpwT5vv",
        "outputId": "519a34d4-de16-4909-857a-d64b795b6289"
      },
      "source": [
        "nfl_frame['Stadium'] = np.arange(10)\n",
        "nfl_frame"
      ],
      "execution_count": 20,
      "outputs": [
        {
          "output_type": "execute_result",
          "data": {
            "text/html": [
              "<div>\n",
              "<style scoped>\n",
              "    .dataframe tbody tr th:only-of-type {\n",
              "        vertical-align: middle;\n",
              "    }\n",
              "\n",
              "    .dataframe tbody tr th {\n",
              "        vertical-align: top;\n",
              "    }\n",
              "\n",
              "    .dataframe thead th {\n",
              "        text-align: right;\n",
              "    }\n",
              "</style>\n",
              "<table border=\"1\" class=\"dataframe\">\n",
              "  <thead>\n",
              "    <tr style=\"text-align: right;\">\n",
              "      <th></th>\n",
              "      <th>Rank</th>\n",
              "      <th>Team</th>\n",
              "      <th>GP</th>\n",
              "      <th>Won</th>\n",
              "      <th>Lost</th>\n",
              "      <th>Tied</th>\n",
              "      <th>Pct.</th>\n",
              "      <th>Season</th>\n",
              "      <th>Division</th>\n",
              "      <th>Stadium</th>\n",
              "    </tr>\n",
              "  </thead>\n",
              "  <tbody>\n",
              "    <tr>\n",
              "      <th>0</th>\n",
              "      <td>1</td>\n",
              "      <td>Green Bay Packers</td>\n",
              "      <td>1,385</td>\n",
              "      <td>769</td>\n",
              "      <td>578</td>\n",
              "      <td>38</td>\n",
              "      <td>0.569</td>\n",
              "      <td>1921</td>\n",
              "      <td>NFC North</td>\n",
              "      <td>0</td>\n",
              "    </tr>\n",
              "    <tr>\n",
              "      <th>1</th>\n",
              "      <td>2</td>\n",
              "      <td>Dallas Cowboys</td>\n",
              "      <td>930</td>\n",
              "      <td>526</td>\n",
              "      <td>398</td>\n",
              "      <td>6</td>\n",
              "      <td>0.569</td>\n",
              "      <td>1960</td>\n",
              "      <td>NFC East</td>\n",
              "      <td>1</td>\n",
              "    </tr>\n",
              "    <tr>\n",
              "      <th>2</th>\n",
              "      <td>3</td>\n",
              "      <td>Baltimore Ravens</td>\n",
              "      <td>400</td>\n",
              "      <td>225</td>\n",
              "      <td>174</td>\n",
              "      <td>1</td>\n",
              "      <td>0.564</td>\n",
              "      <td>1996</td>\n",
              "      <td>AFC North</td>\n",
              "      <td>2</td>\n",
              "    </tr>\n",
              "    <tr>\n",
              "      <th>3</th>\n",
              "      <td>4</td>\n",
              "      <td>Chicago Bears</td>\n",
              "      <td>1,418</td>\n",
              "      <td>777</td>\n",
              "      <td>599</td>\n",
              "      <td>42</td>\n",
              "      <td>0.563</td>\n",
              "      <td>1920</td>\n",
              "      <td>NFC North</td>\n",
              "      <td>3</td>\n",
              "    </tr>\n",
              "    <tr>\n",
              "      <th>4</th>\n",
              "      <td>5</td>\n",
              "      <td>New England Patriots</td>\n",
              "      <td>933</td>\n",
              "      <td>519</td>\n",
              "      <td>405</td>\n",
              "      <td>9</td>\n",
              "      <td>0.561</td>\n",
              "      <td>1960</td>\n",
              "      <td>AFC East</td>\n",
              "      <td>4</td>\n",
              "    </tr>\n",
              "    <tr>\n",
              "      <th>5</th>\n",
              "      <td>6</td>\n",
              "      <td>Miami Dolphins</td>\n",
              "      <td>849</td>\n",
              "      <td>468</td>\n",
              "      <td>377</td>\n",
              "      <td>4</td>\n",
              "      <td>0.554</td>\n",
              "      <td>1966</td>\n",
              "      <td>AFC East</td>\n",
              "      <td>5</td>\n",
              "    </tr>\n",
              "    <tr>\n",
              "      <th>6</th>\n",
              "      <td>7</td>\n",
              "      <td>Minnesota Vikings</td>\n",
              "      <td>919</td>\n",
              "      <td>495</td>\n",
              "      <td>413</td>\n",
              "      <td>11</td>\n",
              "      <td>0.545</td>\n",
              "      <td>1961</td>\n",
              "      <td>NFC North</td>\n",
              "      <td>6</td>\n",
              "    </tr>\n",
              "    <tr>\n",
              "      <th>7</th>\n",
              "      <td>8</td>\n",
              "      <td>Kansas City Chiefs</td>\n",
              "      <td>933</td>\n",
              "      <td>496</td>\n",
              "      <td>425</td>\n",
              "      <td>12</td>\n",
              "      <td>0.537</td>\n",
              "      <td>1960</td>\n",
              "      <td>AFC West</td>\n",
              "      <td>7</td>\n",
              "    </tr>\n",
              "    <tr>\n",
              "      <th>8</th>\n",
              "      <td>9</td>\n",
              "      <td>Pittsburgh Steelers</td>\n",
              "      <td>1,221</td>\n",
              "      <td>644</td>\n",
              "      <td>556</td>\n",
              "      <td>21</td>\n",
              "      <td>0.536</td>\n",
              "      <td>1933</td>\n",
              "      <td>AFC North</td>\n",
              "      <td>8</td>\n",
              "    </tr>\n",
              "    <tr>\n",
              "      <th>9</th>\n",
              "      <td>10</td>\n",
              "      <td>San Francisco 49ers</td>\n",
              "      <td>1,051</td>\n",
              "      <td>552</td>\n",
              "      <td>485</td>\n",
              "      <td>14</td>\n",
              "      <td>0.532</td>\n",
              "      <td>1950</td>\n",
              "      <td>NFC West</td>\n",
              "      <td>9</td>\n",
              "    </tr>\n",
              "  </tbody>\n",
              "</table>\n",
              "</div>"
            ],
            "text/plain": [
              "   Rank                  Team     GP  Won  ...   Pct.  Season   Division  Stadium\n",
              "0     1     Green Bay Packers  1,385  769  ...  0.569    1921  NFC North        0\n",
              "1     2        Dallas Cowboys    930  526  ...  0.569    1960   NFC East        1\n",
              "2     3      Baltimore Ravens    400  225  ...  0.564    1996  AFC North        2\n",
              "3     4         Chicago Bears  1,418  777  ...  0.563    1920  NFC North        3\n",
              "4     5  New England Patriots    933  519  ...  0.561    1960   AFC East        4\n",
              "5     6        Miami Dolphins    849  468  ...  0.554    1966   AFC East        5\n",
              "6     7     Minnesota Vikings    919  495  ...  0.545    1961  NFC North        6\n",
              "7     8    Kansas City Chiefs    933  496  ...  0.537    1960   AFC West        7\n",
              "8     9   Pittsburgh Steelers  1,221  644  ...  0.536    1933  AFC North        8\n",
              "9    10   San Francisco 49ers  1,051  552  ...  0.532    1950   NFC West        9\n",
              "\n",
              "[10 rows x 10 columns]"
            ]
          },
          "metadata": {},
          "execution_count": 20
        }
      ]
    },
    {
      "cell_type": "code",
      "metadata": {
        "colab": {
          "base_uri": "https://localhost:8080/"
        },
        "id": "uoYuh1fvUE1Z",
        "outputId": "11250b97-6398-4776-f4d6-e14f16926c30"
      },
      "source": [
        "stadiums = Series([\"Levi's stadium\",'AT&T Stadium'],index =[4,0])\n",
        "stadiums"
      ],
      "execution_count": 21,
      "outputs": [
        {
          "output_type": "execute_result",
          "data": {
            "text/plain": [
              "4    Levi's stadium\n",
              "0      AT&T Stadium\n",
              "dtype: object"
            ]
          },
          "metadata": {},
          "execution_count": 21
        }
      ]
    },
    {
      "cell_type": "code",
      "metadata": {
        "colab": {
          "base_uri": "https://localhost:8080/",
          "height": 359
        },
        "id": "lCYEWkD_W-w7",
        "outputId": "66781250-72b5-4f85-90c8-9f51ec6df83d"
      },
      "source": [
        "nfl_frame['Stadium'] = stadiums\n",
        "nfl_frame"
      ],
      "execution_count": 22,
      "outputs": [
        {
          "output_type": "execute_result",
          "data": {
            "text/html": [
              "<div>\n",
              "<style scoped>\n",
              "    .dataframe tbody tr th:only-of-type {\n",
              "        vertical-align: middle;\n",
              "    }\n",
              "\n",
              "    .dataframe tbody tr th {\n",
              "        vertical-align: top;\n",
              "    }\n",
              "\n",
              "    .dataframe thead th {\n",
              "        text-align: right;\n",
              "    }\n",
              "</style>\n",
              "<table border=\"1\" class=\"dataframe\">\n",
              "  <thead>\n",
              "    <tr style=\"text-align: right;\">\n",
              "      <th></th>\n",
              "      <th>Rank</th>\n",
              "      <th>Team</th>\n",
              "      <th>GP</th>\n",
              "      <th>Won</th>\n",
              "      <th>Lost</th>\n",
              "      <th>Tied</th>\n",
              "      <th>Pct.</th>\n",
              "      <th>Season</th>\n",
              "      <th>Division</th>\n",
              "      <th>Stadium</th>\n",
              "    </tr>\n",
              "  </thead>\n",
              "  <tbody>\n",
              "    <tr>\n",
              "      <th>0</th>\n",
              "      <td>1</td>\n",
              "      <td>Green Bay Packers</td>\n",
              "      <td>1,385</td>\n",
              "      <td>769</td>\n",
              "      <td>578</td>\n",
              "      <td>38</td>\n",
              "      <td>0.569</td>\n",
              "      <td>1921</td>\n",
              "      <td>NFC North</td>\n",
              "      <td>AT&amp;T Stadium</td>\n",
              "    </tr>\n",
              "    <tr>\n",
              "      <th>1</th>\n",
              "      <td>2</td>\n",
              "      <td>Dallas Cowboys</td>\n",
              "      <td>930</td>\n",
              "      <td>526</td>\n",
              "      <td>398</td>\n",
              "      <td>6</td>\n",
              "      <td>0.569</td>\n",
              "      <td>1960</td>\n",
              "      <td>NFC East</td>\n",
              "      <td>NaN</td>\n",
              "    </tr>\n",
              "    <tr>\n",
              "      <th>2</th>\n",
              "      <td>3</td>\n",
              "      <td>Baltimore Ravens</td>\n",
              "      <td>400</td>\n",
              "      <td>225</td>\n",
              "      <td>174</td>\n",
              "      <td>1</td>\n",
              "      <td>0.564</td>\n",
              "      <td>1996</td>\n",
              "      <td>AFC North</td>\n",
              "      <td>NaN</td>\n",
              "    </tr>\n",
              "    <tr>\n",
              "      <th>3</th>\n",
              "      <td>4</td>\n",
              "      <td>Chicago Bears</td>\n",
              "      <td>1,418</td>\n",
              "      <td>777</td>\n",
              "      <td>599</td>\n",
              "      <td>42</td>\n",
              "      <td>0.563</td>\n",
              "      <td>1920</td>\n",
              "      <td>NFC North</td>\n",
              "      <td>NaN</td>\n",
              "    </tr>\n",
              "    <tr>\n",
              "      <th>4</th>\n",
              "      <td>5</td>\n",
              "      <td>New England Patriots</td>\n",
              "      <td>933</td>\n",
              "      <td>519</td>\n",
              "      <td>405</td>\n",
              "      <td>9</td>\n",
              "      <td>0.561</td>\n",
              "      <td>1960</td>\n",
              "      <td>AFC East</td>\n",
              "      <td>Levi's stadium</td>\n",
              "    </tr>\n",
              "    <tr>\n",
              "      <th>5</th>\n",
              "      <td>6</td>\n",
              "      <td>Miami Dolphins</td>\n",
              "      <td>849</td>\n",
              "      <td>468</td>\n",
              "      <td>377</td>\n",
              "      <td>4</td>\n",
              "      <td>0.554</td>\n",
              "      <td>1966</td>\n",
              "      <td>AFC East</td>\n",
              "      <td>NaN</td>\n",
              "    </tr>\n",
              "    <tr>\n",
              "      <th>6</th>\n",
              "      <td>7</td>\n",
              "      <td>Minnesota Vikings</td>\n",
              "      <td>919</td>\n",
              "      <td>495</td>\n",
              "      <td>413</td>\n",
              "      <td>11</td>\n",
              "      <td>0.545</td>\n",
              "      <td>1961</td>\n",
              "      <td>NFC North</td>\n",
              "      <td>NaN</td>\n",
              "    </tr>\n",
              "    <tr>\n",
              "      <th>7</th>\n",
              "      <td>8</td>\n",
              "      <td>Kansas City Chiefs</td>\n",
              "      <td>933</td>\n",
              "      <td>496</td>\n",
              "      <td>425</td>\n",
              "      <td>12</td>\n",
              "      <td>0.537</td>\n",
              "      <td>1960</td>\n",
              "      <td>AFC West</td>\n",
              "      <td>NaN</td>\n",
              "    </tr>\n",
              "    <tr>\n",
              "      <th>8</th>\n",
              "      <td>9</td>\n",
              "      <td>Pittsburgh Steelers</td>\n",
              "      <td>1,221</td>\n",
              "      <td>644</td>\n",
              "      <td>556</td>\n",
              "      <td>21</td>\n",
              "      <td>0.536</td>\n",
              "      <td>1933</td>\n",
              "      <td>AFC North</td>\n",
              "      <td>NaN</td>\n",
              "    </tr>\n",
              "    <tr>\n",
              "      <th>9</th>\n",
              "      <td>10</td>\n",
              "      <td>San Francisco 49ers</td>\n",
              "      <td>1,051</td>\n",
              "      <td>552</td>\n",
              "      <td>485</td>\n",
              "      <td>14</td>\n",
              "      <td>0.532</td>\n",
              "      <td>1950</td>\n",
              "      <td>NFC West</td>\n",
              "      <td>NaN</td>\n",
              "    </tr>\n",
              "  </tbody>\n",
              "</table>\n",
              "</div>"
            ],
            "text/plain": [
              "   Rank                  Team     GP  ...  Season   Division         Stadium\n",
              "0     1     Green Bay Packers  1,385  ...    1921  NFC North    AT&T Stadium\n",
              "1     2        Dallas Cowboys    930  ...    1960   NFC East             NaN\n",
              "2     3      Baltimore Ravens    400  ...    1996  AFC North             NaN\n",
              "3     4         Chicago Bears  1,418  ...    1920  NFC North             NaN\n",
              "4     5  New England Patriots    933  ...    1960   AFC East  Levi's stadium\n",
              "5     6        Miami Dolphins    849  ...    1966   AFC East             NaN\n",
              "6     7     Minnesota Vikings    919  ...    1961  NFC North             NaN\n",
              "7     8    Kansas City Chiefs    933  ...    1960   AFC West             NaN\n",
              "8     9   Pittsburgh Steelers  1,221  ...    1933  AFC North             NaN\n",
              "9    10   San Francisco 49ers  1,051  ...    1950   NFC West             NaN\n",
              "\n",
              "[10 rows x 10 columns]"
            ]
          },
          "metadata": {},
          "execution_count": 22
        }
      ]
    },
    {
      "cell_type": "code",
      "metadata": {
        "colab": {
          "base_uri": "https://localhost:8080/",
          "height": 359
        },
        "id": "9JQIh8sGXG61",
        "outputId": "4a11a112-614b-423d-f261-05a724be9094"
      },
      "source": [
        "del nfl_frame['Stadium']\n",
        "nfl_frame"
      ],
      "execution_count": 23,
      "outputs": [
        {
          "output_type": "execute_result",
          "data": {
            "text/html": [
              "<div>\n",
              "<style scoped>\n",
              "    .dataframe tbody tr th:only-of-type {\n",
              "        vertical-align: middle;\n",
              "    }\n",
              "\n",
              "    .dataframe tbody tr th {\n",
              "        vertical-align: top;\n",
              "    }\n",
              "\n",
              "    .dataframe thead th {\n",
              "        text-align: right;\n",
              "    }\n",
              "</style>\n",
              "<table border=\"1\" class=\"dataframe\">\n",
              "  <thead>\n",
              "    <tr style=\"text-align: right;\">\n",
              "      <th></th>\n",
              "      <th>Rank</th>\n",
              "      <th>Team</th>\n",
              "      <th>GP</th>\n",
              "      <th>Won</th>\n",
              "      <th>Lost</th>\n",
              "      <th>Tied</th>\n",
              "      <th>Pct.</th>\n",
              "      <th>Season</th>\n",
              "      <th>Division</th>\n",
              "    </tr>\n",
              "  </thead>\n",
              "  <tbody>\n",
              "    <tr>\n",
              "      <th>0</th>\n",
              "      <td>1</td>\n",
              "      <td>Green Bay Packers</td>\n",
              "      <td>1,385</td>\n",
              "      <td>769</td>\n",
              "      <td>578</td>\n",
              "      <td>38</td>\n",
              "      <td>0.569</td>\n",
              "      <td>1921</td>\n",
              "      <td>NFC North</td>\n",
              "    </tr>\n",
              "    <tr>\n",
              "      <th>1</th>\n",
              "      <td>2</td>\n",
              "      <td>Dallas Cowboys</td>\n",
              "      <td>930</td>\n",
              "      <td>526</td>\n",
              "      <td>398</td>\n",
              "      <td>6</td>\n",
              "      <td>0.569</td>\n",
              "      <td>1960</td>\n",
              "      <td>NFC East</td>\n",
              "    </tr>\n",
              "    <tr>\n",
              "      <th>2</th>\n",
              "      <td>3</td>\n",
              "      <td>Baltimore Ravens</td>\n",
              "      <td>400</td>\n",
              "      <td>225</td>\n",
              "      <td>174</td>\n",
              "      <td>1</td>\n",
              "      <td>0.564</td>\n",
              "      <td>1996</td>\n",
              "      <td>AFC North</td>\n",
              "    </tr>\n",
              "    <tr>\n",
              "      <th>3</th>\n",
              "      <td>4</td>\n",
              "      <td>Chicago Bears</td>\n",
              "      <td>1,418</td>\n",
              "      <td>777</td>\n",
              "      <td>599</td>\n",
              "      <td>42</td>\n",
              "      <td>0.563</td>\n",
              "      <td>1920</td>\n",
              "      <td>NFC North</td>\n",
              "    </tr>\n",
              "    <tr>\n",
              "      <th>4</th>\n",
              "      <td>5</td>\n",
              "      <td>New England Patriots</td>\n",
              "      <td>933</td>\n",
              "      <td>519</td>\n",
              "      <td>405</td>\n",
              "      <td>9</td>\n",
              "      <td>0.561</td>\n",
              "      <td>1960</td>\n",
              "      <td>AFC East</td>\n",
              "    </tr>\n",
              "    <tr>\n",
              "      <th>5</th>\n",
              "      <td>6</td>\n",
              "      <td>Miami Dolphins</td>\n",
              "      <td>849</td>\n",
              "      <td>468</td>\n",
              "      <td>377</td>\n",
              "      <td>4</td>\n",
              "      <td>0.554</td>\n",
              "      <td>1966</td>\n",
              "      <td>AFC East</td>\n",
              "    </tr>\n",
              "    <tr>\n",
              "      <th>6</th>\n",
              "      <td>7</td>\n",
              "      <td>Minnesota Vikings</td>\n",
              "      <td>919</td>\n",
              "      <td>495</td>\n",
              "      <td>413</td>\n",
              "      <td>11</td>\n",
              "      <td>0.545</td>\n",
              "      <td>1961</td>\n",
              "      <td>NFC North</td>\n",
              "    </tr>\n",
              "    <tr>\n",
              "      <th>7</th>\n",
              "      <td>8</td>\n",
              "      <td>Kansas City Chiefs</td>\n",
              "      <td>933</td>\n",
              "      <td>496</td>\n",
              "      <td>425</td>\n",
              "      <td>12</td>\n",
              "      <td>0.537</td>\n",
              "      <td>1960</td>\n",
              "      <td>AFC West</td>\n",
              "    </tr>\n",
              "    <tr>\n",
              "      <th>8</th>\n",
              "      <td>9</td>\n",
              "      <td>Pittsburgh Steelers</td>\n",
              "      <td>1,221</td>\n",
              "      <td>644</td>\n",
              "      <td>556</td>\n",
              "      <td>21</td>\n",
              "      <td>0.536</td>\n",
              "      <td>1933</td>\n",
              "      <td>AFC North</td>\n",
              "    </tr>\n",
              "    <tr>\n",
              "      <th>9</th>\n",
              "      <td>10</td>\n",
              "      <td>San Francisco 49ers</td>\n",
              "      <td>1,051</td>\n",
              "      <td>552</td>\n",
              "      <td>485</td>\n",
              "      <td>14</td>\n",
              "      <td>0.532</td>\n",
              "      <td>1950</td>\n",
              "      <td>NFC West</td>\n",
              "    </tr>\n",
              "  </tbody>\n",
              "</table>\n",
              "</div>"
            ],
            "text/plain": [
              "   Rank                  Team     GP  Won  Lost  Tied   Pct.  Season   Division\n",
              "0     1     Green Bay Packers  1,385  769   578    38  0.569    1921  NFC North\n",
              "1     2        Dallas Cowboys    930  526   398     6  0.569    1960   NFC East\n",
              "2     3      Baltimore Ravens    400  225   174     1  0.564    1996  AFC North\n",
              "3     4         Chicago Bears  1,418  777   599    42  0.563    1920  NFC North\n",
              "4     5  New England Patriots    933  519   405     9  0.561    1960   AFC East\n",
              "5     6        Miami Dolphins    849  468   377     4  0.554    1966   AFC East\n",
              "6     7     Minnesota Vikings    919  495   413    11  0.545    1961  NFC North\n",
              "7     8    Kansas City Chiefs    933  496   425    12  0.537    1960   AFC West\n",
              "8     9   Pittsburgh Steelers  1,221  644   556    21  0.536    1933  AFC North\n",
              "9    10   San Francisco 49ers  1,051  552   485    14  0.532    1950   NFC West"
            ]
          },
          "metadata": {},
          "execution_count": 23
        }
      ]
    },
    {
      "cell_type": "code",
      "metadata": {
        "colab": {
          "base_uri": "https://localhost:8080/"
        },
        "id": "rA31Ws6lXUw-",
        "outputId": "61d53d68-f67a-43cb-898d-2c6d942dae8f"
      },
      "source": [
        "my_ser = Series([1,2,3,4], index =['A','B','C','D'])\n",
        "my_ser"
      ],
      "execution_count": 24,
      "outputs": [
        {
          "output_type": "execute_result",
          "data": {
            "text/plain": [
              "A    1\n",
              "B    2\n",
              "C    3\n",
              "D    4\n",
              "dtype: int64"
            ]
          },
          "metadata": {},
          "execution_count": 24
        }
      ]
    },
    {
      "cell_type": "code",
      "metadata": {
        "id": "7rcXY_UnX3xv"
      },
      "source": [
        "my_index = my_ser.index"
      ],
      "execution_count": 25,
      "outputs": []
    },
    {
      "cell_type": "code",
      "metadata": {
        "colab": {
          "base_uri": "https://localhost:8080/"
        },
        "id": "w6DfBNayX-gb",
        "outputId": "edcefb48-c880-4901-8342-4e38a8b36983"
      },
      "source": [
        "my_index"
      ],
      "execution_count": 26,
      "outputs": [
        {
          "output_type": "execute_result",
          "data": {
            "text/plain": [
              "Index(['A', 'B', 'C', 'D'], dtype='object')"
            ]
          },
          "metadata": {},
          "execution_count": 26
        }
      ]
    },
    {
      "cell_type": "code",
      "metadata": {
        "colab": {
          "base_uri": "https://localhost:8080/",
          "height": 35
        },
        "id": "nKRXG4VZYBmB",
        "outputId": "9619e5cf-fee6-49e5-892a-9da36a9789c4"
      },
      "source": [
        "my_index[0]"
      ],
      "execution_count": 27,
      "outputs": [
        {
          "output_type": "execute_result",
          "data": {
            "application/vnd.google.colaboratory.intrinsic+json": {
              "type": "string"
            },
            "text/plain": [
              "'A'"
            ]
          },
          "metadata": {},
          "execution_count": 27
        }
      ]
    },
    {
      "cell_type": "code",
      "metadata": {
        "colab": {
          "base_uri": "https://localhost:8080/",
          "height": 35
        },
        "id": "713fxWQqYD7F",
        "outputId": "31304603-f406-4375-e3b1-57bfe9efddae"
      },
      "source": [
        "my_index[2]"
      ],
      "execution_count": 28,
      "outputs": [
        {
          "output_type": "execute_result",
          "data": {
            "application/vnd.google.colaboratory.intrinsic+json": {
              "type": "string"
            },
            "text/plain": [
              "'C'"
            ]
          },
          "metadata": {},
          "execution_count": 28
        }
      ]
    },
    {
      "cell_type": "code",
      "metadata": {
        "colab": {
          "base_uri": "https://localhost:8080/"
        },
        "id": "nCw04fPmYF70",
        "outputId": "cb7ef97b-9714-4dcd-ad0d-6f65cc769e35"
      },
      "source": [
        "my_index[2:]"
      ],
      "execution_count": 29,
      "outputs": [
        {
          "output_type": "execute_result",
          "data": {
            "text/plain": [
              "Index(['C', 'D'], dtype='object')"
            ]
          },
          "metadata": {},
          "execution_count": 29
        }
      ]
    },
    {
      "cell_type": "code",
      "metadata": {
        "colab": {
          "base_uri": "https://localhost:8080/"
        },
        "id": "BxhQz_A5YPMZ",
        "outputId": "a37e861b-0333-4cda-fcd2-49cd3dd995dd"
      },
      "source": [
        "ser1 = Series([1,2,3,4], index = ['A','B','C','D'])\n",
        "ser1"
      ],
      "execution_count": 30,
      "outputs": [
        {
          "output_type": "execute_result",
          "data": {
            "text/plain": [
              "A    1\n",
              "B    2\n",
              "C    3\n",
              "D    4\n",
              "dtype: int64"
            ]
          },
          "metadata": {},
          "execution_count": 30
        }
      ]
    },
    {
      "cell_type": "code",
      "metadata": {
        "colab": {
          "base_uri": "https://localhost:8080/"
        },
        "id": "8GqOpmU0YyRe",
        "outputId": "fb8ed296-d5d3-4175-96f5-cea5db41564e"
      },
      "source": [
        "ser2 = ser1.reindex(['A','B','C','D','E','F'])\n",
        "ser2"
      ],
      "execution_count": 31,
      "outputs": [
        {
          "output_type": "execute_result",
          "data": {
            "text/plain": [
              "A    1.0\n",
              "B    2.0\n",
              "C    3.0\n",
              "D    4.0\n",
              "E    NaN\n",
              "F    NaN\n",
              "dtype: float64"
            ]
          },
          "metadata": {},
          "execution_count": 31
        }
      ]
    },
    {
      "cell_type": "code",
      "metadata": {
        "colab": {
          "base_uri": "https://localhost:8080/"
        },
        "id": "cRmKA_sHY9FW",
        "outputId": "cf4b6014-4816-4654-e840-3d707baf16d3"
      },
      "source": [
        "ser2.reindex(['A','B','C','D','E','F','G'],fill_value = 0)"
      ],
      "execution_count": 32,
      "outputs": [
        {
          "output_type": "execute_result",
          "data": {
            "text/plain": [
              "A    1.0\n",
              "B    2.0\n",
              "C    3.0\n",
              "D    4.0\n",
              "E    NaN\n",
              "F    NaN\n",
              "G    0.0\n",
              "dtype: float64"
            ]
          },
          "metadata": {},
          "execution_count": 32
        }
      ]
    },
    {
      "cell_type": "code",
      "metadata": {
        "colab": {
          "base_uri": "https://localhost:8080/"
        },
        "id": "lbYYMv9hZG7Z",
        "outputId": "21373542-b7a5-4683-c35a-f7e81e9b552b"
      },
      "source": [
        "ser3 = Series(['USA','Mexico','Canada'], index = [0,5,10])\n",
        "ser3"
      ],
      "execution_count": 33,
      "outputs": [
        {
          "output_type": "execute_result",
          "data": {
            "text/plain": [
              "0        USA\n",
              "5     Mexico\n",
              "10    Canada\n",
              "dtype: object"
            ]
          },
          "metadata": {},
          "execution_count": 33
        }
      ]
    },
    {
      "cell_type": "code",
      "metadata": {
        "colab": {
          "base_uri": "https://localhost:8080/"
        },
        "id": "Q3N7757oZVZh",
        "outputId": "9c119c99-daf3-4e21-e721-f9ade91563c7"
      },
      "source": [
        "ser3.reindex(range(15),method = 'ffill')"
      ],
      "execution_count": 34,
      "outputs": [
        {
          "output_type": "execute_result",
          "data": {
            "text/plain": [
              "0        USA\n",
              "1        USA\n",
              "2        USA\n",
              "3        USA\n",
              "4        USA\n",
              "5     Mexico\n",
              "6     Mexico\n",
              "7     Mexico\n",
              "8     Mexico\n",
              "9     Mexico\n",
              "10    Canada\n",
              "11    Canada\n",
              "12    Canada\n",
              "13    Canada\n",
              "14    Canada\n",
              "dtype: object"
            ]
          },
          "metadata": {},
          "execution_count": 34
        }
      ]
    },
    {
      "cell_type": "code",
      "metadata": {
        "colab": {
          "base_uri": "https://localhost:8080/",
          "height": 204
        },
        "id": "eDOnADz6ZdIy",
        "outputId": "14d68077-5f3a-4bc9-e238-a39b9289d55f"
      },
      "source": [
        "dframe = DataFrame(randn(25).reshape((5,5)), index = ['A','B','D','E','F'],\n",
        "                   columns = ['col1','col2','col3','col4','col5'])\n",
        "dframe"
      ],
      "execution_count": 35,
      "outputs": [
        {
          "output_type": "execute_result",
          "data": {
            "text/html": [
              "<div>\n",
              "<style scoped>\n",
              "    .dataframe tbody tr th:only-of-type {\n",
              "        vertical-align: middle;\n",
              "    }\n",
              "\n",
              "    .dataframe tbody tr th {\n",
              "        vertical-align: top;\n",
              "    }\n",
              "\n",
              "    .dataframe thead th {\n",
              "        text-align: right;\n",
              "    }\n",
              "</style>\n",
              "<table border=\"1\" class=\"dataframe\">\n",
              "  <thead>\n",
              "    <tr style=\"text-align: right;\">\n",
              "      <th></th>\n",
              "      <th>col1</th>\n",
              "      <th>col2</th>\n",
              "      <th>col3</th>\n",
              "      <th>col4</th>\n",
              "      <th>col5</th>\n",
              "    </tr>\n",
              "  </thead>\n",
              "  <tbody>\n",
              "    <tr>\n",
              "      <th>A</th>\n",
              "      <td>-0.334830</td>\n",
              "      <td>0.996724</td>\n",
              "      <td>0.028553</td>\n",
              "      <td>-0.098026</td>\n",
              "      <td>0.923997</td>\n",
              "    </tr>\n",
              "    <tr>\n",
              "      <th>B</th>\n",
              "      <td>-0.328386</td>\n",
              "      <td>0.739169</td>\n",
              "      <td>0.209554</td>\n",
              "      <td>1.290290</td>\n",
              "      <td>0.312208</td>\n",
              "    </tr>\n",
              "    <tr>\n",
              "      <th>D</th>\n",
              "      <td>-0.352329</td>\n",
              "      <td>1.493767</td>\n",
              "      <td>0.687509</td>\n",
              "      <td>0.511844</td>\n",
              "      <td>1.050248</td>\n",
              "    </tr>\n",
              "    <tr>\n",
              "      <th>E</th>\n",
              "      <td>0.682813</td>\n",
              "      <td>-1.289137</td>\n",
              "      <td>-1.125020</td>\n",
              "      <td>2.532720</td>\n",
              "      <td>-1.810973</td>\n",
              "    </tr>\n",
              "    <tr>\n",
              "      <th>F</th>\n",
              "      <td>-0.926263</td>\n",
              "      <td>-0.352143</td>\n",
              "      <td>1.463657</td>\n",
              "      <td>-0.719171</td>\n",
              "      <td>-0.968676</td>\n",
              "    </tr>\n",
              "  </tbody>\n",
              "</table>\n",
              "</div>"
            ],
            "text/plain": [
              "       col1      col2      col3      col4      col5\n",
              "A -0.334830  0.996724  0.028553 -0.098026  0.923997\n",
              "B -0.328386  0.739169  0.209554  1.290290  0.312208\n",
              "D -0.352329  1.493767  0.687509  0.511844  1.050248\n",
              "E  0.682813 -1.289137 -1.125020  2.532720 -1.810973\n",
              "F -0.926263 -0.352143  1.463657 -0.719171 -0.968676"
            ]
          },
          "metadata": {},
          "execution_count": 35
        }
      ]
    },
    {
      "cell_type": "code",
      "metadata": {
        "colab": {
          "base_uri": "https://localhost:8080/",
          "height": 235
        },
        "id": "UVtX8qmrZ9o9",
        "outputId": "3f35ae41-5eb8-49da-db26-2672ff671644"
      },
      "source": [
        "new_index = ['A','B','C','D','E','F']\n",
        "dframe2 = dframe.reindex(new_index)\n",
        "dframe2"
      ],
      "execution_count": 36,
      "outputs": [
        {
          "output_type": "execute_result",
          "data": {
            "text/html": [
              "<div>\n",
              "<style scoped>\n",
              "    .dataframe tbody tr th:only-of-type {\n",
              "        vertical-align: middle;\n",
              "    }\n",
              "\n",
              "    .dataframe tbody tr th {\n",
              "        vertical-align: top;\n",
              "    }\n",
              "\n",
              "    .dataframe thead th {\n",
              "        text-align: right;\n",
              "    }\n",
              "</style>\n",
              "<table border=\"1\" class=\"dataframe\">\n",
              "  <thead>\n",
              "    <tr style=\"text-align: right;\">\n",
              "      <th></th>\n",
              "      <th>col1</th>\n",
              "      <th>col2</th>\n",
              "      <th>col3</th>\n",
              "      <th>col4</th>\n",
              "      <th>col5</th>\n",
              "    </tr>\n",
              "  </thead>\n",
              "  <tbody>\n",
              "    <tr>\n",
              "      <th>A</th>\n",
              "      <td>-0.334830</td>\n",
              "      <td>0.996724</td>\n",
              "      <td>0.028553</td>\n",
              "      <td>-0.098026</td>\n",
              "      <td>0.923997</td>\n",
              "    </tr>\n",
              "    <tr>\n",
              "      <th>B</th>\n",
              "      <td>-0.328386</td>\n",
              "      <td>0.739169</td>\n",
              "      <td>0.209554</td>\n",
              "      <td>1.290290</td>\n",
              "      <td>0.312208</td>\n",
              "    </tr>\n",
              "    <tr>\n",
              "      <th>C</th>\n",
              "      <td>NaN</td>\n",
              "      <td>NaN</td>\n",
              "      <td>NaN</td>\n",
              "      <td>NaN</td>\n",
              "      <td>NaN</td>\n",
              "    </tr>\n",
              "    <tr>\n",
              "      <th>D</th>\n",
              "      <td>-0.352329</td>\n",
              "      <td>1.493767</td>\n",
              "      <td>0.687509</td>\n",
              "      <td>0.511844</td>\n",
              "      <td>1.050248</td>\n",
              "    </tr>\n",
              "    <tr>\n",
              "      <th>E</th>\n",
              "      <td>0.682813</td>\n",
              "      <td>-1.289137</td>\n",
              "      <td>-1.125020</td>\n",
              "      <td>2.532720</td>\n",
              "      <td>-1.810973</td>\n",
              "    </tr>\n",
              "    <tr>\n",
              "      <th>F</th>\n",
              "      <td>-0.926263</td>\n",
              "      <td>-0.352143</td>\n",
              "      <td>1.463657</td>\n",
              "      <td>-0.719171</td>\n",
              "      <td>-0.968676</td>\n",
              "    </tr>\n",
              "  </tbody>\n",
              "</table>\n",
              "</div>"
            ],
            "text/plain": [
              "       col1      col2      col3      col4      col5\n",
              "A -0.334830  0.996724  0.028553 -0.098026  0.923997\n",
              "B -0.328386  0.739169  0.209554  1.290290  0.312208\n",
              "C       NaN       NaN       NaN       NaN       NaN\n",
              "D -0.352329  1.493767  0.687509  0.511844  1.050248\n",
              "E  0.682813 -1.289137 -1.125020  2.532720 -1.810973\n",
              "F -0.926263 -0.352143  1.463657 -0.719171 -0.968676"
            ]
          },
          "metadata": {},
          "execution_count": 36
        }
      ]
    },
    {
      "cell_type": "code",
      "metadata": {
        "colab": {
          "base_uri": "https://localhost:8080/",
          "height": 235
        },
        "id": "2MDx2JX0aMBQ",
        "outputId": "c8ba89d0-4455-4df3-d03f-9a6acd14080f"
      },
      "source": [
        "new_columns = ['col1','col2','col3','col4','col5','col6']\n",
        "dframe2.reindex(columns = new_columns)"
      ],
      "execution_count": 37,
      "outputs": [
        {
          "output_type": "execute_result",
          "data": {
            "text/html": [
              "<div>\n",
              "<style scoped>\n",
              "    .dataframe tbody tr th:only-of-type {\n",
              "        vertical-align: middle;\n",
              "    }\n",
              "\n",
              "    .dataframe tbody tr th {\n",
              "        vertical-align: top;\n",
              "    }\n",
              "\n",
              "    .dataframe thead th {\n",
              "        text-align: right;\n",
              "    }\n",
              "</style>\n",
              "<table border=\"1\" class=\"dataframe\">\n",
              "  <thead>\n",
              "    <tr style=\"text-align: right;\">\n",
              "      <th></th>\n",
              "      <th>col1</th>\n",
              "      <th>col2</th>\n",
              "      <th>col3</th>\n",
              "      <th>col4</th>\n",
              "      <th>col5</th>\n",
              "      <th>col6</th>\n",
              "    </tr>\n",
              "  </thead>\n",
              "  <tbody>\n",
              "    <tr>\n",
              "      <th>A</th>\n",
              "      <td>-0.334830</td>\n",
              "      <td>0.996724</td>\n",
              "      <td>0.028553</td>\n",
              "      <td>-0.098026</td>\n",
              "      <td>0.923997</td>\n",
              "      <td>NaN</td>\n",
              "    </tr>\n",
              "    <tr>\n",
              "      <th>B</th>\n",
              "      <td>-0.328386</td>\n",
              "      <td>0.739169</td>\n",
              "      <td>0.209554</td>\n",
              "      <td>1.290290</td>\n",
              "      <td>0.312208</td>\n",
              "      <td>NaN</td>\n",
              "    </tr>\n",
              "    <tr>\n",
              "      <th>C</th>\n",
              "      <td>NaN</td>\n",
              "      <td>NaN</td>\n",
              "      <td>NaN</td>\n",
              "      <td>NaN</td>\n",
              "      <td>NaN</td>\n",
              "      <td>NaN</td>\n",
              "    </tr>\n",
              "    <tr>\n",
              "      <th>D</th>\n",
              "      <td>-0.352329</td>\n",
              "      <td>1.493767</td>\n",
              "      <td>0.687509</td>\n",
              "      <td>0.511844</td>\n",
              "      <td>1.050248</td>\n",
              "      <td>NaN</td>\n",
              "    </tr>\n",
              "    <tr>\n",
              "      <th>E</th>\n",
              "      <td>0.682813</td>\n",
              "      <td>-1.289137</td>\n",
              "      <td>-1.125020</td>\n",
              "      <td>2.532720</td>\n",
              "      <td>-1.810973</td>\n",
              "      <td>NaN</td>\n",
              "    </tr>\n",
              "    <tr>\n",
              "      <th>F</th>\n",
              "      <td>-0.926263</td>\n",
              "      <td>-0.352143</td>\n",
              "      <td>1.463657</td>\n",
              "      <td>-0.719171</td>\n",
              "      <td>-0.968676</td>\n",
              "      <td>NaN</td>\n",
              "    </tr>\n",
              "  </tbody>\n",
              "</table>\n",
              "</div>"
            ],
            "text/plain": [
              "       col1      col2      col3      col4      col5  col6\n",
              "A -0.334830  0.996724  0.028553 -0.098026  0.923997   NaN\n",
              "B -0.328386  0.739169  0.209554  1.290290  0.312208   NaN\n",
              "C       NaN       NaN       NaN       NaN       NaN   NaN\n",
              "D -0.352329  1.493767  0.687509  0.511844  1.050248   NaN\n",
              "E  0.682813 -1.289137 -1.125020  2.532720 -1.810973   NaN\n",
              "F -0.926263 -0.352143  1.463657 -0.719171 -0.968676   NaN"
            ]
          },
          "metadata": {},
          "execution_count": 37
        }
      ]
    },
    {
      "cell_type": "code",
      "metadata": {
        "colab": {
          "base_uri": "https://localhost:8080/",
          "height": 204
        },
        "id": "KlKVK_TKajXa",
        "outputId": "5e03bdf9-9ca0-46bc-9a61-a1e6a7f5794d"
      },
      "source": [
        "dframe"
      ],
      "execution_count": 38,
      "outputs": [
        {
          "output_type": "execute_result",
          "data": {
            "text/html": [
              "<div>\n",
              "<style scoped>\n",
              "    .dataframe tbody tr th:only-of-type {\n",
              "        vertical-align: middle;\n",
              "    }\n",
              "\n",
              "    .dataframe tbody tr th {\n",
              "        vertical-align: top;\n",
              "    }\n",
              "\n",
              "    .dataframe thead th {\n",
              "        text-align: right;\n",
              "    }\n",
              "</style>\n",
              "<table border=\"1\" class=\"dataframe\">\n",
              "  <thead>\n",
              "    <tr style=\"text-align: right;\">\n",
              "      <th></th>\n",
              "      <th>col1</th>\n",
              "      <th>col2</th>\n",
              "      <th>col3</th>\n",
              "      <th>col4</th>\n",
              "      <th>col5</th>\n",
              "    </tr>\n",
              "  </thead>\n",
              "  <tbody>\n",
              "    <tr>\n",
              "      <th>A</th>\n",
              "      <td>-0.334830</td>\n",
              "      <td>0.996724</td>\n",
              "      <td>0.028553</td>\n",
              "      <td>-0.098026</td>\n",
              "      <td>0.923997</td>\n",
              "    </tr>\n",
              "    <tr>\n",
              "      <th>B</th>\n",
              "      <td>-0.328386</td>\n",
              "      <td>0.739169</td>\n",
              "      <td>0.209554</td>\n",
              "      <td>1.290290</td>\n",
              "      <td>0.312208</td>\n",
              "    </tr>\n",
              "    <tr>\n",
              "      <th>D</th>\n",
              "      <td>-0.352329</td>\n",
              "      <td>1.493767</td>\n",
              "      <td>0.687509</td>\n",
              "      <td>0.511844</td>\n",
              "      <td>1.050248</td>\n",
              "    </tr>\n",
              "    <tr>\n",
              "      <th>E</th>\n",
              "      <td>0.682813</td>\n",
              "      <td>-1.289137</td>\n",
              "      <td>-1.125020</td>\n",
              "      <td>2.532720</td>\n",
              "      <td>-1.810973</td>\n",
              "    </tr>\n",
              "    <tr>\n",
              "      <th>F</th>\n",
              "      <td>-0.926263</td>\n",
              "      <td>-0.352143</td>\n",
              "      <td>1.463657</td>\n",
              "      <td>-0.719171</td>\n",
              "      <td>-0.968676</td>\n",
              "    </tr>\n",
              "  </tbody>\n",
              "</table>\n",
              "</div>"
            ],
            "text/plain": [
              "       col1      col2      col3      col4      col5\n",
              "A -0.334830  0.996724  0.028553 -0.098026  0.923997\n",
              "B -0.328386  0.739169  0.209554  1.290290  0.312208\n",
              "D -0.352329  1.493767  0.687509  0.511844  1.050248\n",
              "E  0.682813 -1.289137 -1.125020  2.532720 -1.810973\n",
              "F -0.926263 -0.352143  1.463657 -0.719171 -0.968676"
            ]
          },
          "metadata": {},
          "execution_count": 38
        }
      ]
    },
    {
      "cell_type": "code",
      "metadata": {
        "colab": {
          "base_uri": "https://localhost:8080/"
        },
        "id": "J0CfR8DiavBT",
        "outputId": "6f717e6a-fbd7-4845-8ba2-d40511891764"
      },
      "source": [
        "ser1 = Series(np.arange(3),index = ['a','b','c'])\n",
        "ser1"
      ],
      "execution_count": 39,
      "outputs": [
        {
          "output_type": "execute_result",
          "data": {
            "text/plain": [
              "a    0\n",
              "b    1\n",
              "c    2\n",
              "dtype: int64"
            ]
          },
          "metadata": {},
          "execution_count": 39
        }
      ]
    },
    {
      "cell_type": "code",
      "metadata": {
        "colab": {
          "base_uri": "https://localhost:8080/"
        },
        "id": "Pza7NjC9cQ6F",
        "outputId": "1618a9ab-a2a0-4e76-89cd-17b01a733b80"
      },
      "source": [
        "ser1.drop('b')"
      ],
      "execution_count": 40,
      "outputs": [
        {
          "output_type": "execute_result",
          "data": {
            "text/plain": [
              "a    0\n",
              "c    2\n",
              "dtype: int64"
            ]
          },
          "metadata": {},
          "execution_count": 40
        }
      ]
    },
    {
      "cell_type": "code",
      "metadata": {
        "colab": {
          "base_uri": "https://localhost:8080/",
          "height": 142
        },
        "id": "lR192KkxcT1o",
        "outputId": "24d0e7a6-25ba-4de9-fd81-7af3b525d7cf"
      },
      "source": [
        "dframe1 = DataFrame(np.arange(9).reshape((3,3)), index = ['SF','LA','NY'], columns = ['pop','size','year'])\n",
        "dframe1"
      ],
      "execution_count": 41,
      "outputs": [
        {
          "output_type": "execute_result",
          "data": {
            "text/html": [
              "<div>\n",
              "<style scoped>\n",
              "    .dataframe tbody tr th:only-of-type {\n",
              "        vertical-align: middle;\n",
              "    }\n",
              "\n",
              "    .dataframe tbody tr th {\n",
              "        vertical-align: top;\n",
              "    }\n",
              "\n",
              "    .dataframe thead th {\n",
              "        text-align: right;\n",
              "    }\n",
              "</style>\n",
              "<table border=\"1\" class=\"dataframe\">\n",
              "  <thead>\n",
              "    <tr style=\"text-align: right;\">\n",
              "      <th></th>\n",
              "      <th>pop</th>\n",
              "      <th>size</th>\n",
              "      <th>year</th>\n",
              "    </tr>\n",
              "  </thead>\n",
              "  <tbody>\n",
              "    <tr>\n",
              "      <th>SF</th>\n",
              "      <td>0</td>\n",
              "      <td>1</td>\n",
              "      <td>2</td>\n",
              "    </tr>\n",
              "    <tr>\n",
              "      <th>LA</th>\n",
              "      <td>3</td>\n",
              "      <td>4</td>\n",
              "      <td>5</td>\n",
              "    </tr>\n",
              "    <tr>\n",
              "      <th>NY</th>\n",
              "      <td>6</td>\n",
              "      <td>7</td>\n",
              "      <td>8</td>\n",
              "    </tr>\n",
              "  </tbody>\n",
              "</table>\n",
              "</div>"
            ],
            "text/plain": [
              "    pop  size  year\n",
              "SF    0     1     2\n",
              "LA    3     4     5\n",
              "NY    6     7     8"
            ]
          },
          "metadata": {},
          "execution_count": 41
        }
      ]
    },
    {
      "cell_type": "code",
      "metadata": {
        "colab": {
          "base_uri": "https://localhost:8080/",
          "height": 111
        },
        "id": "gPzC7259cpxk",
        "outputId": "d2a037e9-8f5d-4202-8dd3-4a98a5f21e2c"
      },
      "source": [
        "dframe1.drop('LA',axis = 0)"
      ],
      "execution_count": 42,
      "outputs": [
        {
          "output_type": "execute_result",
          "data": {
            "text/html": [
              "<div>\n",
              "<style scoped>\n",
              "    .dataframe tbody tr th:only-of-type {\n",
              "        vertical-align: middle;\n",
              "    }\n",
              "\n",
              "    .dataframe tbody tr th {\n",
              "        vertical-align: top;\n",
              "    }\n",
              "\n",
              "    .dataframe thead th {\n",
              "        text-align: right;\n",
              "    }\n",
              "</style>\n",
              "<table border=\"1\" class=\"dataframe\">\n",
              "  <thead>\n",
              "    <tr style=\"text-align: right;\">\n",
              "      <th></th>\n",
              "      <th>pop</th>\n",
              "      <th>size</th>\n",
              "      <th>year</th>\n",
              "    </tr>\n",
              "  </thead>\n",
              "  <tbody>\n",
              "    <tr>\n",
              "      <th>SF</th>\n",
              "      <td>0</td>\n",
              "      <td>1</td>\n",
              "      <td>2</td>\n",
              "    </tr>\n",
              "    <tr>\n",
              "      <th>NY</th>\n",
              "      <td>6</td>\n",
              "      <td>7</td>\n",
              "      <td>8</td>\n",
              "    </tr>\n",
              "  </tbody>\n",
              "</table>\n",
              "</div>"
            ],
            "text/plain": [
              "    pop  size  year\n",
              "SF    0     1     2\n",
              "NY    6     7     8"
            ]
          },
          "metadata": {},
          "execution_count": 42
        }
      ]
    },
    {
      "cell_type": "code",
      "metadata": {
        "colab": {
          "base_uri": "https://localhost:8080/",
          "height": 142
        },
        "id": "mjkxyMoicwrU",
        "outputId": "72291033-05fd-42e1-9c72-cafb1452d500"
      },
      "source": [
        "dframe1"
      ],
      "execution_count": 43,
      "outputs": [
        {
          "output_type": "execute_result",
          "data": {
            "text/html": [
              "<div>\n",
              "<style scoped>\n",
              "    .dataframe tbody tr th:only-of-type {\n",
              "        vertical-align: middle;\n",
              "    }\n",
              "\n",
              "    .dataframe tbody tr th {\n",
              "        vertical-align: top;\n",
              "    }\n",
              "\n",
              "    .dataframe thead th {\n",
              "        text-align: right;\n",
              "    }\n",
              "</style>\n",
              "<table border=\"1\" class=\"dataframe\">\n",
              "  <thead>\n",
              "    <tr style=\"text-align: right;\">\n",
              "      <th></th>\n",
              "      <th>pop</th>\n",
              "      <th>size</th>\n",
              "      <th>year</th>\n",
              "    </tr>\n",
              "  </thead>\n",
              "  <tbody>\n",
              "    <tr>\n",
              "      <th>SF</th>\n",
              "      <td>0</td>\n",
              "      <td>1</td>\n",
              "      <td>2</td>\n",
              "    </tr>\n",
              "    <tr>\n",
              "      <th>LA</th>\n",
              "      <td>3</td>\n",
              "      <td>4</td>\n",
              "      <td>5</td>\n",
              "    </tr>\n",
              "    <tr>\n",
              "      <th>NY</th>\n",
              "      <td>6</td>\n",
              "      <td>7</td>\n",
              "      <td>8</td>\n",
              "    </tr>\n",
              "  </tbody>\n",
              "</table>\n",
              "</div>"
            ],
            "text/plain": [
              "    pop  size  year\n",
              "SF    0     1     2\n",
              "LA    3     4     5\n",
              "NY    6     7     8"
            ]
          },
          "metadata": {},
          "execution_count": 43
        }
      ]
    },
    {
      "cell_type": "code",
      "metadata": {
        "colab": {
          "base_uri": "https://localhost:8080/",
          "height": 142
        },
        "id": "Hl_oF0yKcyZv",
        "outputId": "d84f7c0b-2d59-4260-e170-9446c941309f"
      },
      "source": [
        "dframe1.drop('year',axis = 1)"
      ],
      "execution_count": 44,
      "outputs": [
        {
          "output_type": "execute_result",
          "data": {
            "text/html": [
              "<div>\n",
              "<style scoped>\n",
              "    .dataframe tbody tr th:only-of-type {\n",
              "        vertical-align: middle;\n",
              "    }\n",
              "\n",
              "    .dataframe tbody tr th {\n",
              "        vertical-align: top;\n",
              "    }\n",
              "\n",
              "    .dataframe thead th {\n",
              "        text-align: right;\n",
              "    }\n",
              "</style>\n",
              "<table border=\"1\" class=\"dataframe\">\n",
              "  <thead>\n",
              "    <tr style=\"text-align: right;\">\n",
              "      <th></th>\n",
              "      <th>pop</th>\n",
              "      <th>size</th>\n",
              "    </tr>\n",
              "  </thead>\n",
              "  <tbody>\n",
              "    <tr>\n",
              "      <th>SF</th>\n",
              "      <td>0</td>\n",
              "      <td>1</td>\n",
              "    </tr>\n",
              "    <tr>\n",
              "      <th>LA</th>\n",
              "      <td>3</td>\n",
              "      <td>4</td>\n",
              "    </tr>\n",
              "    <tr>\n",
              "      <th>NY</th>\n",
              "      <td>6</td>\n",
              "      <td>7</td>\n",
              "    </tr>\n",
              "  </tbody>\n",
              "</table>\n",
              "</div>"
            ],
            "text/plain": [
              "    pop  size\n",
              "SF    0     1\n",
              "LA    3     4\n",
              "NY    6     7"
            ]
          },
          "metadata": {},
          "execution_count": 44
        }
      ]
    },
    {
      "cell_type": "code",
      "metadata": {
        "colab": {
          "base_uri": "https://localhost:8080/",
          "height": 142
        },
        "id": "mDtmp85RdE7J",
        "outputId": "a518fde2-e91b-452d-8eea-ae54ce1120a8"
      },
      "source": [
        "dframe1"
      ],
      "execution_count": 45,
      "outputs": [
        {
          "output_type": "execute_result",
          "data": {
            "text/html": [
              "<div>\n",
              "<style scoped>\n",
              "    .dataframe tbody tr th:only-of-type {\n",
              "        vertical-align: middle;\n",
              "    }\n",
              "\n",
              "    .dataframe tbody tr th {\n",
              "        vertical-align: top;\n",
              "    }\n",
              "\n",
              "    .dataframe thead th {\n",
              "        text-align: right;\n",
              "    }\n",
              "</style>\n",
              "<table border=\"1\" class=\"dataframe\">\n",
              "  <thead>\n",
              "    <tr style=\"text-align: right;\">\n",
              "      <th></th>\n",
              "      <th>pop</th>\n",
              "      <th>size</th>\n",
              "      <th>year</th>\n",
              "    </tr>\n",
              "  </thead>\n",
              "  <tbody>\n",
              "    <tr>\n",
              "      <th>SF</th>\n",
              "      <td>0</td>\n",
              "      <td>1</td>\n",
              "      <td>2</td>\n",
              "    </tr>\n",
              "    <tr>\n",
              "      <th>LA</th>\n",
              "      <td>3</td>\n",
              "      <td>4</td>\n",
              "      <td>5</td>\n",
              "    </tr>\n",
              "    <tr>\n",
              "      <th>NY</th>\n",
              "      <td>6</td>\n",
              "      <td>7</td>\n",
              "      <td>8</td>\n",
              "    </tr>\n",
              "  </tbody>\n",
              "</table>\n",
              "</div>"
            ],
            "text/plain": [
              "    pop  size  year\n",
              "SF    0     1     2\n",
              "LA    3     4     5\n",
              "NY    6     7     8"
            ]
          },
          "metadata": {},
          "execution_count": 45
        }
      ]
    },
    {
      "cell_type": "code",
      "metadata": {
        "colab": {
          "base_uri": "https://localhost:8080/"
        },
        "id": "vEF2Bxo_dGzi",
        "outputId": "ad4905cb-23db-486c-e9da-a52346340c24"
      },
      "source": [
        "ser1 = Series(np.arange(3), index = ['A','B','C'])\n",
        "ser1 = 2*ser1\n",
        "ser1"
      ],
      "execution_count": 46,
      "outputs": [
        {
          "output_type": "execute_result",
          "data": {
            "text/plain": [
              "A    0\n",
              "B    2\n",
              "C    4\n",
              "dtype: int64"
            ]
          },
          "metadata": {},
          "execution_count": 46
        }
      ]
    },
    {
      "cell_type": "code",
      "metadata": {
        "colab": {
          "base_uri": "https://localhost:8080/"
        },
        "id": "B051-MKadftB",
        "outputId": "43bab888-1779-408e-fdf9-8a4aa9fb085a"
      },
      "source": [
        "ser1['B']"
      ],
      "execution_count": 47,
      "outputs": [
        {
          "output_type": "execute_result",
          "data": {
            "text/plain": [
              "2"
            ]
          },
          "metadata": {},
          "execution_count": 47
        }
      ]
    },
    {
      "cell_type": "code",
      "metadata": {
        "colab": {
          "base_uri": "https://localhost:8080/"
        },
        "id": "407VHYFXdiVr",
        "outputId": "e72127f3-99fd-48aa-e3ce-aa31a1905d91"
      },
      "source": [
        "ser1[1]"
      ],
      "execution_count": 48,
      "outputs": [
        {
          "output_type": "execute_result",
          "data": {
            "text/plain": [
              "2"
            ]
          },
          "metadata": {},
          "execution_count": 48
        }
      ]
    },
    {
      "cell_type": "code",
      "metadata": {
        "colab": {
          "base_uri": "https://localhost:8080/"
        },
        "id": "1tzhgriWdkIY",
        "outputId": "4eeb6fe2-ddf2-45cb-8046-08802e690362"
      },
      "source": [
        "ser1[0:3]"
      ],
      "execution_count": 49,
      "outputs": [
        {
          "output_type": "execute_result",
          "data": {
            "text/plain": [
              "A    0\n",
              "B    2\n",
              "C    4\n",
              "dtype: int64"
            ]
          },
          "metadata": {},
          "execution_count": 49
        }
      ]
    },
    {
      "cell_type": "code",
      "metadata": {
        "colab": {
          "base_uri": "https://localhost:8080/"
        },
        "id": "3XRurgzldoj9",
        "outputId": "0f019ebd-a38a-4d91-bd0e-4ca166279df0"
      },
      "source": [
        "ser1[['A','B']]"
      ],
      "execution_count": 50,
      "outputs": [
        {
          "output_type": "execute_result",
          "data": {
            "text/plain": [
              "A    0\n",
              "B    2\n",
              "dtype: int64"
            ]
          },
          "metadata": {},
          "execution_count": 50
        }
      ]
    },
    {
      "cell_type": "code",
      "metadata": {
        "colab": {
          "base_uri": "https://localhost:8080/"
        },
        "id": "VrxJ_q7vdtZk",
        "outputId": "db99f43c-3e77-438d-eeff-849caa851f9a"
      },
      "source": [
        "ser1[ser1 > 3]"
      ],
      "execution_count": 51,
      "outputs": [
        {
          "output_type": "execute_result",
          "data": {
            "text/plain": [
              "C    4\n",
              "dtype: int64"
            ]
          },
          "metadata": {},
          "execution_count": 51
        }
      ]
    },
    {
      "cell_type": "code",
      "metadata": {
        "id": "y66v3jO6dwWi"
      },
      "source": [
        "ser1[ser1 > 3] = 10"
      ],
      "execution_count": 52,
      "outputs": []
    },
    {
      "cell_type": "code",
      "metadata": {
        "colab": {
          "base_uri": "https://localhost:8080/",
          "height": 204
        },
        "id": "NzZwKzvkd0B7",
        "outputId": "2f16fc5b-aad8-4ae5-cc7c-eede7b919ed1"
      },
      "source": [
        "dframe = DataFrame(np.arange(25).reshape((5,5)), index = ['NYC','LA','SF','DC','Chi'],\n",
        "                   columns = ['A','B','C','D','E'])\n",
        "dframe"
      ],
      "execution_count": 53,
      "outputs": [
        {
          "output_type": "execute_result",
          "data": {
            "text/html": [
              "<div>\n",
              "<style scoped>\n",
              "    .dataframe tbody tr th:only-of-type {\n",
              "        vertical-align: middle;\n",
              "    }\n",
              "\n",
              "    .dataframe tbody tr th {\n",
              "        vertical-align: top;\n",
              "    }\n",
              "\n",
              "    .dataframe thead th {\n",
              "        text-align: right;\n",
              "    }\n",
              "</style>\n",
              "<table border=\"1\" class=\"dataframe\">\n",
              "  <thead>\n",
              "    <tr style=\"text-align: right;\">\n",
              "      <th></th>\n",
              "      <th>A</th>\n",
              "      <th>B</th>\n",
              "      <th>C</th>\n",
              "      <th>D</th>\n",
              "      <th>E</th>\n",
              "    </tr>\n",
              "  </thead>\n",
              "  <tbody>\n",
              "    <tr>\n",
              "      <th>NYC</th>\n",
              "      <td>0</td>\n",
              "      <td>1</td>\n",
              "      <td>2</td>\n",
              "      <td>3</td>\n",
              "      <td>4</td>\n",
              "    </tr>\n",
              "    <tr>\n",
              "      <th>LA</th>\n",
              "      <td>5</td>\n",
              "      <td>6</td>\n",
              "      <td>7</td>\n",
              "      <td>8</td>\n",
              "      <td>9</td>\n",
              "    </tr>\n",
              "    <tr>\n",
              "      <th>SF</th>\n",
              "      <td>10</td>\n",
              "      <td>11</td>\n",
              "      <td>12</td>\n",
              "      <td>13</td>\n",
              "      <td>14</td>\n",
              "    </tr>\n",
              "    <tr>\n",
              "      <th>DC</th>\n",
              "      <td>15</td>\n",
              "      <td>16</td>\n",
              "      <td>17</td>\n",
              "      <td>18</td>\n",
              "      <td>19</td>\n",
              "    </tr>\n",
              "    <tr>\n",
              "      <th>Chi</th>\n",
              "      <td>20</td>\n",
              "      <td>21</td>\n",
              "      <td>22</td>\n",
              "      <td>23</td>\n",
              "      <td>24</td>\n",
              "    </tr>\n",
              "  </tbody>\n",
              "</table>\n",
              "</div>"
            ],
            "text/plain": [
              "      A   B   C   D   E\n",
              "NYC   0   1   2   3   4\n",
              "LA    5   6   7   8   9\n",
              "SF   10  11  12  13  14\n",
              "DC   15  16  17  18  19\n",
              "Chi  20  21  22  23  24"
            ]
          },
          "metadata": {},
          "execution_count": 53
        }
      ]
    },
    {
      "cell_type": "code",
      "metadata": {
        "colab": {
          "base_uri": "https://localhost:8080/"
        },
        "id": "fm4moYnpeI56",
        "outputId": "c966bab6-840c-4d77-f439-4e53ca18c5f6"
      },
      "source": [
        "dframe['B']"
      ],
      "execution_count": 54,
      "outputs": [
        {
          "output_type": "execute_result",
          "data": {
            "text/plain": [
              "NYC     1\n",
              "LA      6\n",
              "SF     11\n",
              "DC     16\n",
              "Chi    21\n",
              "Name: B, dtype: int64"
            ]
          },
          "metadata": {},
          "execution_count": 54
        }
      ]
    },
    {
      "cell_type": "code",
      "metadata": {
        "colab": {
          "base_uri": "https://localhost:8080/",
          "height": 204
        },
        "id": "YIGsivHbeK06",
        "outputId": "f91e0036-f614-4644-d015-333c948f6a6a"
      },
      "source": [
        "dframe[['B','C']]"
      ],
      "execution_count": 55,
      "outputs": [
        {
          "output_type": "execute_result",
          "data": {
            "text/html": [
              "<div>\n",
              "<style scoped>\n",
              "    .dataframe tbody tr th:only-of-type {\n",
              "        vertical-align: middle;\n",
              "    }\n",
              "\n",
              "    .dataframe tbody tr th {\n",
              "        vertical-align: top;\n",
              "    }\n",
              "\n",
              "    .dataframe thead th {\n",
              "        text-align: right;\n",
              "    }\n",
              "</style>\n",
              "<table border=\"1\" class=\"dataframe\">\n",
              "  <thead>\n",
              "    <tr style=\"text-align: right;\">\n",
              "      <th></th>\n",
              "      <th>B</th>\n",
              "      <th>C</th>\n",
              "    </tr>\n",
              "  </thead>\n",
              "  <tbody>\n",
              "    <tr>\n",
              "      <th>NYC</th>\n",
              "      <td>1</td>\n",
              "      <td>2</td>\n",
              "    </tr>\n",
              "    <tr>\n",
              "      <th>LA</th>\n",
              "      <td>6</td>\n",
              "      <td>7</td>\n",
              "    </tr>\n",
              "    <tr>\n",
              "      <th>SF</th>\n",
              "      <td>11</td>\n",
              "      <td>12</td>\n",
              "    </tr>\n",
              "    <tr>\n",
              "      <th>DC</th>\n",
              "      <td>16</td>\n",
              "      <td>17</td>\n",
              "    </tr>\n",
              "    <tr>\n",
              "      <th>Chi</th>\n",
              "      <td>21</td>\n",
              "      <td>22</td>\n",
              "    </tr>\n",
              "  </tbody>\n",
              "</table>\n",
              "</div>"
            ],
            "text/plain": [
              "      B   C\n",
              "NYC   1   2\n",
              "LA    6   7\n",
              "SF   11  12\n",
              "DC   16  17\n",
              "Chi  21  22"
            ]
          },
          "metadata": {},
          "execution_count": 55
        }
      ]
    },
    {
      "cell_type": "code",
      "metadata": {
        "colab": {
          "base_uri": "https://localhost:8080/",
          "height": 142
        },
        "id": "YMJmxL0qeOhG",
        "outputId": "9ad241a5-0d40-4499-8d67-359715e1fc6c"
      },
      "source": [
        "dframe[dframe['C'] > 8]"
      ],
      "execution_count": 56,
      "outputs": [
        {
          "output_type": "execute_result",
          "data": {
            "text/html": [
              "<div>\n",
              "<style scoped>\n",
              "    .dataframe tbody tr th:only-of-type {\n",
              "        vertical-align: middle;\n",
              "    }\n",
              "\n",
              "    .dataframe tbody tr th {\n",
              "        vertical-align: top;\n",
              "    }\n",
              "\n",
              "    .dataframe thead th {\n",
              "        text-align: right;\n",
              "    }\n",
              "</style>\n",
              "<table border=\"1\" class=\"dataframe\">\n",
              "  <thead>\n",
              "    <tr style=\"text-align: right;\">\n",
              "      <th></th>\n",
              "      <th>A</th>\n",
              "      <th>B</th>\n",
              "      <th>C</th>\n",
              "      <th>D</th>\n",
              "      <th>E</th>\n",
              "    </tr>\n",
              "  </thead>\n",
              "  <tbody>\n",
              "    <tr>\n",
              "      <th>SF</th>\n",
              "      <td>10</td>\n",
              "      <td>11</td>\n",
              "      <td>12</td>\n",
              "      <td>13</td>\n",
              "      <td>14</td>\n",
              "    </tr>\n",
              "    <tr>\n",
              "      <th>DC</th>\n",
              "      <td>15</td>\n",
              "      <td>16</td>\n",
              "      <td>17</td>\n",
              "      <td>18</td>\n",
              "      <td>19</td>\n",
              "    </tr>\n",
              "    <tr>\n",
              "      <th>Chi</th>\n",
              "      <td>20</td>\n",
              "      <td>21</td>\n",
              "      <td>22</td>\n",
              "      <td>23</td>\n",
              "      <td>24</td>\n",
              "    </tr>\n",
              "  </tbody>\n",
              "</table>\n",
              "</div>"
            ],
            "text/plain": [
              "      A   B   C   D   E\n",
              "SF   10  11  12  13  14\n",
              "DC   15  16  17  18  19\n",
              "Chi  20  21  22  23  24"
            ]
          },
          "metadata": {},
          "execution_count": 56
        }
      ]
    },
    {
      "cell_type": "code",
      "metadata": {
        "colab": {
          "base_uri": "https://localhost:8080/",
          "height": 204
        },
        "id": "zDo9WHgVeU_B",
        "outputId": "8daaffab-3730-4116-81c6-a1d24e8aa7fc"
      },
      "source": [
        "dframe > 10"
      ],
      "execution_count": 57,
      "outputs": [
        {
          "output_type": "execute_result",
          "data": {
            "text/html": [
              "<div>\n",
              "<style scoped>\n",
              "    .dataframe tbody tr th:only-of-type {\n",
              "        vertical-align: middle;\n",
              "    }\n",
              "\n",
              "    .dataframe tbody tr th {\n",
              "        vertical-align: top;\n",
              "    }\n",
              "\n",
              "    .dataframe thead th {\n",
              "        text-align: right;\n",
              "    }\n",
              "</style>\n",
              "<table border=\"1\" class=\"dataframe\">\n",
              "  <thead>\n",
              "    <tr style=\"text-align: right;\">\n",
              "      <th></th>\n",
              "      <th>A</th>\n",
              "      <th>B</th>\n",
              "      <th>C</th>\n",
              "      <th>D</th>\n",
              "      <th>E</th>\n",
              "    </tr>\n",
              "  </thead>\n",
              "  <tbody>\n",
              "    <tr>\n",
              "      <th>NYC</th>\n",
              "      <td>False</td>\n",
              "      <td>False</td>\n",
              "      <td>False</td>\n",
              "      <td>False</td>\n",
              "      <td>False</td>\n",
              "    </tr>\n",
              "    <tr>\n",
              "      <th>LA</th>\n",
              "      <td>False</td>\n",
              "      <td>False</td>\n",
              "      <td>False</td>\n",
              "      <td>False</td>\n",
              "      <td>False</td>\n",
              "    </tr>\n",
              "    <tr>\n",
              "      <th>SF</th>\n",
              "      <td>False</td>\n",
              "      <td>True</td>\n",
              "      <td>True</td>\n",
              "      <td>True</td>\n",
              "      <td>True</td>\n",
              "    </tr>\n",
              "    <tr>\n",
              "      <th>DC</th>\n",
              "      <td>True</td>\n",
              "      <td>True</td>\n",
              "      <td>True</td>\n",
              "      <td>True</td>\n",
              "      <td>True</td>\n",
              "    </tr>\n",
              "    <tr>\n",
              "      <th>Chi</th>\n",
              "      <td>True</td>\n",
              "      <td>True</td>\n",
              "      <td>True</td>\n",
              "      <td>True</td>\n",
              "      <td>True</td>\n",
              "    </tr>\n",
              "  </tbody>\n",
              "</table>\n",
              "</div>"
            ],
            "text/plain": [
              "         A      B      C      D      E\n",
              "NYC  False  False  False  False  False\n",
              "LA   False  False  False  False  False\n",
              "SF   False   True   True   True   True\n",
              "DC    True   True   True   True   True\n",
              "Chi   True   True   True   True   True"
            ]
          },
          "metadata": {},
          "execution_count": 57
        }
      ]
    },
    {
      "cell_type": "code",
      "metadata": {
        "id": "thTEAtOjeXpG"
      },
      "source": [
        "ser1 = Series([0,1,2],index = ['A','B','C'])\n",
        "ser2 = Series([3,4,5,6],index = ['A','B','C','D'])"
      ],
      "execution_count": 58,
      "outputs": []
    },
    {
      "cell_type": "code",
      "metadata": {
        "colab": {
          "base_uri": "https://localhost:8080/"
        },
        "id": "qzDnUBPxkP_M",
        "outputId": "ee88d3cb-2929-4a81-a7f5-c0b6b9896db2"
      },
      "source": [
        "ser1 + ser2"
      ],
      "execution_count": 59,
      "outputs": [
        {
          "output_type": "execute_result",
          "data": {
            "text/plain": [
              "A    3.0\n",
              "B    5.0\n",
              "C    7.0\n",
              "D    NaN\n",
              "dtype: float64"
            ]
          },
          "metadata": {},
          "execution_count": 59
        }
      ]
    },
    {
      "cell_type": "code",
      "metadata": {
        "colab": {
          "base_uri": "https://localhost:8080/",
          "height": 111
        },
        "id": "BVpogdQwkRx2",
        "outputId": "56e513fe-074b-4026-c16a-437fd46a7490"
      },
      "source": [
        "dframe1 = DataFrame(np.arange(4).reshape((2,2)),columns = ['A','B'],index = ['NYC','LA'])\n",
        "dframe1"
      ],
      "execution_count": 60,
      "outputs": [
        {
          "output_type": "execute_result",
          "data": {
            "text/html": [
              "<div>\n",
              "<style scoped>\n",
              "    .dataframe tbody tr th:only-of-type {\n",
              "        vertical-align: middle;\n",
              "    }\n",
              "\n",
              "    .dataframe tbody tr th {\n",
              "        vertical-align: top;\n",
              "    }\n",
              "\n",
              "    .dataframe thead th {\n",
              "        text-align: right;\n",
              "    }\n",
              "</style>\n",
              "<table border=\"1\" class=\"dataframe\">\n",
              "  <thead>\n",
              "    <tr style=\"text-align: right;\">\n",
              "      <th></th>\n",
              "      <th>A</th>\n",
              "      <th>B</th>\n",
              "    </tr>\n",
              "  </thead>\n",
              "  <tbody>\n",
              "    <tr>\n",
              "      <th>NYC</th>\n",
              "      <td>0</td>\n",
              "      <td>1</td>\n",
              "    </tr>\n",
              "    <tr>\n",
              "      <th>LA</th>\n",
              "      <td>2</td>\n",
              "      <td>3</td>\n",
              "    </tr>\n",
              "  </tbody>\n",
              "</table>\n",
              "</div>"
            ],
            "text/plain": [
              "     A  B\n",
              "NYC  0  1\n",
              "LA   2  3"
            ]
          },
          "metadata": {},
          "execution_count": 60
        }
      ]
    },
    {
      "cell_type": "code",
      "metadata": {
        "colab": {
          "base_uri": "https://localhost:8080/",
          "height": 142
        },
        "id": "im8-7SkRko41",
        "outputId": "12b2a58d-c7f9-42b2-9f4d-b355fb45f961"
      },
      "source": [
        "dframe2 = DataFrame(np.arange(9).reshape((3,3)),columns = ['A','D','C'],index = ['NYC','SF','LA'])\n",
        "dframe2"
      ],
      "execution_count": 61,
      "outputs": [
        {
          "output_type": "execute_result",
          "data": {
            "text/html": [
              "<div>\n",
              "<style scoped>\n",
              "    .dataframe tbody tr th:only-of-type {\n",
              "        vertical-align: middle;\n",
              "    }\n",
              "\n",
              "    .dataframe tbody tr th {\n",
              "        vertical-align: top;\n",
              "    }\n",
              "\n",
              "    .dataframe thead th {\n",
              "        text-align: right;\n",
              "    }\n",
              "</style>\n",
              "<table border=\"1\" class=\"dataframe\">\n",
              "  <thead>\n",
              "    <tr style=\"text-align: right;\">\n",
              "      <th></th>\n",
              "      <th>A</th>\n",
              "      <th>D</th>\n",
              "      <th>C</th>\n",
              "    </tr>\n",
              "  </thead>\n",
              "  <tbody>\n",
              "    <tr>\n",
              "      <th>NYC</th>\n",
              "      <td>0</td>\n",
              "      <td>1</td>\n",
              "      <td>2</td>\n",
              "    </tr>\n",
              "    <tr>\n",
              "      <th>SF</th>\n",
              "      <td>3</td>\n",
              "      <td>4</td>\n",
              "      <td>5</td>\n",
              "    </tr>\n",
              "    <tr>\n",
              "      <th>LA</th>\n",
              "      <td>6</td>\n",
              "      <td>7</td>\n",
              "      <td>8</td>\n",
              "    </tr>\n",
              "  </tbody>\n",
              "</table>\n",
              "</div>"
            ],
            "text/plain": [
              "     A  D  C\n",
              "NYC  0  1  2\n",
              "SF   3  4  5\n",
              "LA   6  7  8"
            ]
          },
          "metadata": {},
          "execution_count": 61
        }
      ]
    },
    {
      "cell_type": "code",
      "metadata": {
        "colab": {
          "base_uri": "https://localhost:8080/",
          "height": 142
        },
        "id": "g6ZuFhe_kv0B",
        "outputId": "abe2b45e-f9d3-4685-be47-70db29185ccb"
      },
      "source": [
        "dframe1 + dframe2"
      ],
      "execution_count": 62,
      "outputs": [
        {
          "output_type": "execute_result",
          "data": {
            "text/html": [
              "<div>\n",
              "<style scoped>\n",
              "    .dataframe tbody tr th:only-of-type {\n",
              "        vertical-align: middle;\n",
              "    }\n",
              "\n",
              "    .dataframe tbody tr th {\n",
              "        vertical-align: top;\n",
              "    }\n",
              "\n",
              "    .dataframe thead th {\n",
              "        text-align: right;\n",
              "    }\n",
              "</style>\n",
              "<table border=\"1\" class=\"dataframe\">\n",
              "  <thead>\n",
              "    <tr style=\"text-align: right;\">\n",
              "      <th></th>\n",
              "      <th>A</th>\n",
              "      <th>B</th>\n",
              "      <th>C</th>\n",
              "      <th>D</th>\n",
              "    </tr>\n",
              "  </thead>\n",
              "  <tbody>\n",
              "    <tr>\n",
              "      <th>LA</th>\n",
              "      <td>8.0</td>\n",
              "      <td>NaN</td>\n",
              "      <td>NaN</td>\n",
              "      <td>NaN</td>\n",
              "    </tr>\n",
              "    <tr>\n",
              "      <th>NYC</th>\n",
              "      <td>0.0</td>\n",
              "      <td>NaN</td>\n",
              "      <td>NaN</td>\n",
              "      <td>NaN</td>\n",
              "    </tr>\n",
              "    <tr>\n",
              "      <th>SF</th>\n",
              "      <td>NaN</td>\n",
              "      <td>NaN</td>\n",
              "      <td>NaN</td>\n",
              "      <td>NaN</td>\n",
              "    </tr>\n",
              "  </tbody>\n",
              "</table>\n",
              "</div>"
            ],
            "text/plain": [
              "       A   B   C   D\n",
              "LA   8.0 NaN NaN NaN\n",
              "NYC  0.0 NaN NaN NaN\n",
              "SF   NaN NaN NaN NaN"
            ]
          },
          "metadata": {},
          "execution_count": 62
        }
      ]
    },
    {
      "cell_type": "code",
      "metadata": {
        "colab": {
          "base_uri": "https://localhost:8080/",
          "height": 142
        },
        "id": "XZPYjcUpk1wo",
        "outputId": "4cf963cd-c52c-4392-8959-46cc7d694328"
      },
      "source": [
        "dframe1.add(dframe2,fill_value=0)"
      ],
      "execution_count": 63,
      "outputs": [
        {
          "output_type": "execute_result",
          "data": {
            "text/html": [
              "<div>\n",
              "<style scoped>\n",
              "    .dataframe tbody tr th:only-of-type {\n",
              "        vertical-align: middle;\n",
              "    }\n",
              "\n",
              "    .dataframe tbody tr th {\n",
              "        vertical-align: top;\n",
              "    }\n",
              "\n",
              "    .dataframe thead th {\n",
              "        text-align: right;\n",
              "    }\n",
              "</style>\n",
              "<table border=\"1\" class=\"dataframe\">\n",
              "  <thead>\n",
              "    <tr style=\"text-align: right;\">\n",
              "      <th></th>\n",
              "      <th>A</th>\n",
              "      <th>B</th>\n",
              "      <th>C</th>\n",
              "      <th>D</th>\n",
              "    </tr>\n",
              "  </thead>\n",
              "  <tbody>\n",
              "    <tr>\n",
              "      <th>LA</th>\n",
              "      <td>8.0</td>\n",
              "      <td>3.0</td>\n",
              "      <td>8.0</td>\n",
              "      <td>7.0</td>\n",
              "    </tr>\n",
              "    <tr>\n",
              "      <th>NYC</th>\n",
              "      <td>0.0</td>\n",
              "      <td>1.0</td>\n",
              "      <td>2.0</td>\n",
              "      <td>1.0</td>\n",
              "    </tr>\n",
              "    <tr>\n",
              "      <th>SF</th>\n",
              "      <td>3.0</td>\n",
              "      <td>NaN</td>\n",
              "      <td>5.0</td>\n",
              "      <td>4.0</td>\n",
              "    </tr>\n",
              "  </tbody>\n",
              "</table>\n",
              "</div>"
            ],
            "text/plain": [
              "       A    B    C    D\n",
              "LA   8.0  3.0  8.0  7.0\n",
              "NYC  0.0  1.0  2.0  1.0\n",
              "SF   3.0  NaN  5.0  4.0"
            ]
          },
          "metadata": {},
          "execution_count": 63
        }
      ]
    },
    {
      "cell_type": "code",
      "metadata": {
        "colab": {
          "base_uri": "https://localhost:8080/"
        },
        "id": "dcNz98EYlEFB",
        "outputId": "67736ca7-9a23-4cc5-d789-ffd7495fdf7d"
      },
      "source": [
        "ser3 = Series([0,1,2],index = ['A','D','C'])\n",
        "ser3"
      ],
      "execution_count": 64,
      "outputs": [
        {
          "output_type": "execute_result",
          "data": {
            "text/plain": [
              "A    0\n",
              "D    1\n",
              "C    2\n",
              "dtype: int64"
            ]
          },
          "metadata": {},
          "execution_count": 64
        }
      ]
    },
    {
      "cell_type": "code",
      "metadata": {
        "id": "lRJXlL9XlXKX",
        "colab": {
          "base_uri": "https://localhost:8080/"
        },
        "outputId": "4b937eab-4294-45b4-e022-f355b41fd024"
      },
      "source": [
        "ser1 = Series(range(3),index = ['C','A','B'])\n",
        "ser1"
      ],
      "execution_count": 65,
      "outputs": [
        {
          "output_type": "execute_result",
          "data": {
            "text/plain": [
              "C    0\n",
              "A    1\n",
              "B    2\n",
              "dtype: int64"
            ]
          },
          "metadata": {},
          "execution_count": 65
        }
      ]
    },
    {
      "cell_type": "code",
      "metadata": {
        "colab": {
          "base_uri": "https://localhost:8080/"
        },
        "id": "wGUyPlHpRYdT",
        "outputId": "16d1656b-0e78-4c24-bf74-39adf93c69a9"
      },
      "source": [
        "ser1.sort_index()"
      ],
      "execution_count": 66,
      "outputs": [
        {
          "output_type": "execute_result",
          "data": {
            "text/plain": [
              "A    1\n",
              "B    2\n",
              "C    0\n",
              "dtype: int64"
            ]
          },
          "metadata": {},
          "execution_count": 66
        }
      ]
    },
    {
      "cell_type": "code",
      "metadata": {
        "colab": {
          "base_uri": "https://localhost:8080/"
        },
        "id": "8gmKPrONRckR",
        "outputId": "9d6c2e9c-b107-440e-8177-a4c8e67e7304"
      },
      "source": [
        "ser1"
      ],
      "execution_count": 67,
      "outputs": [
        {
          "output_type": "execute_result",
          "data": {
            "text/plain": [
              "C    0\n",
              "A    1\n",
              "B    2\n",
              "dtype: int64"
            ]
          },
          "metadata": {},
          "execution_count": 67
        }
      ]
    },
    {
      "cell_type": "code",
      "metadata": {
        "colab": {
          "base_uri": "https://localhost:8080/"
        },
        "id": "DcjvdYB3Rgls",
        "outputId": "63728cab-2ef2-44f6-8249-0dead093dcb9"
      },
      "source": [
        "ser2 = Series(randn(10))\n",
        "ser2"
      ],
      "execution_count": 71,
      "outputs": [
        {
          "output_type": "execute_result",
          "data": {
            "text/plain": [
              "0   -1.386625\n",
              "1    0.047891\n",
              "2   -0.426842\n",
              "3    1.009323\n",
              "4    0.083958\n",
              "5   -0.320271\n",
              "6   -0.358921\n",
              "7    0.406481\n",
              "8    0.597580\n",
              "9   -1.557311\n",
              "dtype: float64"
            ]
          },
          "metadata": {},
          "execution_count": 71
        }
      ]
    },
    {
      "cell_type": "code",
      "metadata": {
        "colab": {
          "base_uri": "https://localhost:8080/"
        },
        "id": "C_WIcr0BRtXY",
        "outputId": "a3128d91-5427-4bc7-c7f8-5598a9f886e3"
      },
      "source": [
        "ser2.rank()"
      ],
      "execution_count": 72,
      "outputs": [
        {
          "output_type": "execute_result",
          "data": {
            "text/plain": [
              "0     2.0\n",
              "1     6.0\n",
              "2     3.0\n",
              "3    10.0\n",
              "4     7.0\n",
              "5     5.0\n",
              "6     4.0\n",
              "7     8.0\n",
              "8     9.0\n",
              "9     1.0\n",
              "dtype: float64"
            ]
          },
          "metadata": {},
          "execution_count": 72
        }
      ]
    },
    {
      "cell_type": "code",
      "metadata": {
        "colab": {
          "base_uri": "https://localhost:8080/"
        },
        "id": "3Hs4dXKbR1RL",
        "outputId": "4e2a3d29-fedb-4525-b5a5-93c8a9c999da"
      },
      "source": [
        "arr = np.array([[1,2,np.nan],[np.nan,3,4]])\n",
        "arr"
      ],
      "execution_count": 73,
      "outputs": [
        {
          "output_type": "execute_result",
          "data": {
            "text/plain": [
              "array([[ 1.,  2., nan],\n",
              "       [nan,  3.,  4.]])"
            ]
          },
          "metadata": {},
          "execution_count": 73
        }
      ]
    },
    {
      "cell_type": "code",
      "metadata": {
        "colab": {
          "base_uri": "https://localhost:8080/",
          "height": 111
        },
        "id": "ckycrFw2SYZl",
        "outputId": "f1fcc652-b847-4010-8586-a29b714c871b"
      },
      "source": [
        "dframe1 = DataFrame(arr, index = ['A','B'], columns=['One','Two','Three'])\n",
        "dframe1"
      ],
      "execution_count": 74,
      "outputs": [
        {
          "output_type": "execute_result",
          "data": {
            "text/html": [
              "<div>\n",
              "<style scoped>\n",
              "    .dataframe tbody tr th:only-of-type {\n",
              "        vertical-align: middle;\n",
              "    }\n",
              "\n",
              "    .dataframe tbody tr th {\n",
              "        vertical-align: top;\n",
              "    }\n",
              "\n",
              "    .dataframe thead th {\n",
              "        text-align: right;\n",
              "    }\n",
              "</style>\n",
              "<table border=\"1\" class=\"dataframe\">\n",
              "  <thead>\n",
              "    <tr style=\"text-align: right;\">\n",
              "      <th></th>\n",
              "      <th>One</th>\n",
              "      <th>Two</th>\n",
              "      <th>Three</th>\n",
              "    </tr>\n",
              "  </thead>\n",
              "  <tbody>\n",
              "    <tr>\n",
              "      <th>A</th>\n",
              "      <td>1.0</td>\n",
              "      <td>2.0</td>\n",
              "      <td>NaN</td>\n",
              "    </tr>\n",
              "    <tr>\n",
              "      <th>B</th>\n",
              "      <td>NaN</td>\n",
              "      <td>3.0</td>\n",
              "      <td>4.0</td>\n",
              "    </tr>\n",
              "  </tbody>\n",
              "</table>\n",
              "</div>"
            ],
            "text/plain": [
              "   One  Two  Three\n",
              "A  1.0  2.0    NaN\n",
              "B  NaN  3.0    4.0"
            ]
          },
          "metadata": {},
          "execution_count": 74
        }
      ]
    },
    {
      "cell_type": "code",
      "metadata": {
        "colab": {
          "base_uri": "https://localhost:8080/"
        },
        "id": "Ya6VxiVgSjIF",
        "outputId": "53da6e23-5932-4564-8a43-71c0a43c3c24"
      },
      "source": [
        "dframe1.sum()"
      ],
      "execution_count": 75,
      "outputs": [
        {
          "output_type": "execute_result",
          "data": {
            "text/plain": [
              "One      1.0\n",
              "Two      5.0\n",
              "Three    4.0\n",
              "dtype: float64"
            ]
          },
          "metadata": {},
          "execution_count": 75
        }
      ]
    },
    {
      "cell_type": "code",
      "metadata": {
        "colab": {
          "base_uri": "https://localhost:8080/"
        },
        "id": "a3TfluqfSrfR",
        "outputId": "c9c2a3c8-7263-4c50-d504-1feeedd87ad7"
      },
      "source": [
        "dframe1.sum(axis=0)"
      ],
      "execution_count": 77,
      "outputs": [
        {
          "output_type": "execute_result",
          "data": {
            "text/plain": [
              "One      1.0\n",
              "Two      5.0\n",
              "Three    4.0\n",
              "dtype: float64"
            ]
          },
          "metadata": {},
          "execution_count": 77
        }
      ]
    },
    {
      "cell_type": "code",
      "metadata": {
        "colab": {
          "base_uri": "https://localhost:8080/"
        },
        "id": "I07orue6SmNH",
        "outputId": "6f67911b-fc2e-4dc8-e921-8427913f1185"
      },
      "source": [
        "dframe1.sum(axis=1)"
      ],
      "execution_count": 78,
      "outputs": [
        {
          "output_type": "execute_result",
          "data": {
            "text/plain": [
              "A    3.0\n",
              "B    7.0\n",
              "dtype: float64"
            ]
          },
          "metadata": {},
          "execution_count": 78
        }
      ]
    },
    {
      "cell_type": "code",
      "metadata": {
        "colab": {
          "base_uri": "https://localhost:8080/"
        },
        "id": "5g-WVaQVSprP",
        "outputId": "b89b127e-5fec-49af-f911-a08eafda6f81"
      },
      "source": [
        "dframe1.min()"
      ],
      "execution_count": 79,
      "outputs": [
        {
          "output_type": "execute_result",
          "data": {
            "text/plain": [
              "One      1.0\n",
              "Two      2.0\n",
              "Three    4.0\n",
              "dtype: float64"
            ]
          },
          "metadata": {},
          "execution_count": 79
        }
      ]
    },
    {
      "cell_type": "code",
      "metadata": {
        "colab": {
          "base_uri": "https://localhost:8080/"
        },
        "id": "ZW9dgbq4Sw8v",
        "outputId": "b3e15483-4c55-42f6-c838-1c6bb569c157"
      },
      "source": [
        "dframe1.idxmin()"
      ],
      "execution_count": 80,
      "outputs": [
        {
          "output_type": "execute_result",
          "data": {
            "text/plain": [
              "One      A\n",
              "Two      A\n",
              "Three    B\n",
              "dtype: object"
            ]
          },
          "metadata": {},
          "execution_count": 80
        }
      ]
    },
    {
      "cell_type": "code",
      "metadata": {
        "colab": {
          "base_uri": "https://localhost:8080/",
          "height": 111
        },
        "id": "aZ7QfpBWS1q6",
        "outputId": "3d9a4583-39c6-4c94-819c-8a774aa3e997"
      },
      "source": [
        "dframe1"
      ],
      "execution_count": 82,
      "outputs": [
        {
          "output_type": "execute_result",
          "data": {
            "text/html": [
              "<div>\n",
              "<style scoped>\n",
              "    .dataframe tbody tr th:only-of-type {\n",
              "        vertical-align: middle;\n",
              "    }\n",
              "\n",
              "    .dataframe tbody tr th {\n",
              "        vertical-align: top;\n",
              "    }\n",
              "\n",
              "    .dataframe thead th {\n",
              "        text-align: right;\n",
              "    }\n",
              "</style>\n",
              "<table border=\"1\" class=\"dataframe\">\n",
              "  <thead>\n",
              "    <tr style=\"text-align: right;\">\n",
              "      <th></th>\n",
              "      <th>One</th>\n",
              "      <th>Two</th>\n",
              "      <th>Three</th>\n",
              "    </tr>\n",
              "  </thead>\n",
              "  <tbody>\n",
              "    <tr>\n",
              "      <th>A</th>\n",
              "      <td>1.0</td>\n",
              "      <td>2.0</td>\n",
              "      <td>NaN</td>\n",
              "    </tr>\n",
              "    <tr>\n",
              "      <th>B</th>\n",
              "      <td>NaN</td>\n",
              "      <td>3.0</td>\n",
              "      <td>4.0</td>\n",
              "    </tr>\n",
              "  </tbody>\n",
              "</table>\n",
              "</div>"
            ],
            "text/plain": [
              "   One  Two  Three\n",
              "A  1.0  2.0    NaN\n",
              "B  NaN  3.0    4.0"
            ]
          },
          "metadata": {},
          "execution_count": 82
        }
      ]
    },
    {
      "cell_type": "code",
      "metadata": {
        "colab": {
          "base_uri": "https://localhost:8080/",
          "height": 111
        },
        "id": "7t6SqNhlS7P_",
        "outputId": "dbc0bff7-44bf-494e-c0fa-3f79c4762b49"
      },
      "source": [
        "dframe1.cumsum()"
      ],
      "execution_count": 83,
      "outputs": [
        {
          "output_type": "execute_result",
          "data": {
            "text/html": [
              "<div>\n",
              "<style scoped>\n",
              "    .dataframe tbody tr th:only-of-type {\n",
              "        vertical-align: middle;\n",
              "    }\n",
              "\n",
              "    .dataframe tbody tr th {\n",
              "        vertical-align: top;\n",
              "    }\n",
              "\n",
              "    .dataframe thead th {\n",
              "        text-align: right;\n",
              "    }\n",
              "</style>\n",
              "<table border=\"1\" class=\"dataframe\">\n",
              "  <thead>\n",
              "    <tr style=\"text-align: right;\">\n",
              "      <th></th>\n",
              "      <th>One</th>\n",
              "      <th>Two</th>\n",
              "      <th>Three</th>\n",
              "    </tr>\n",
              "  </thead>\n",
              "  <tbody>\n",
              "    <tr>\n",
              "      <th>A</th>\n",
              "      <td>1.0</td>\n",
              "      <td>2.0</td>\n",
              "      <td>NaN</td>\n",
              "    </tr>\n",
              "    <tr>\n",
              "      <th>B</th>\n",
              "      <td>NaN</td>\n",
              "      <td>5.0</td>\n",
              "      <td>4.0</td>\n",
              "    </tr>\n",
              "  </tbody>\n",
              "</table>\n",
              "</div>"
            ],
            "text/plain": [
              "   One  Two  Three\n",
              "A  1.0  2.0    NaN\n",
              "B  NaN  5.0    4.0"
            ]
          },
          "metadata": {},
          "execution_count": 83
        }
      ]
    },
    {
      "cell_type": "code",
      "metadata": {
        "colab": {
          "base_uri": "https://localhost:8080/",
          "height": 297
        },
        "id": "sNPcQaeRTFHn",
        "outputId": "95340787-ed6a-4e1f-d19c-72375d1fce89"
      },
      "source": [
        "dframe1.describe()"
      ],
      "execution_count": 84,
      "outputs": [
        {
          "output_type": "execute_result",
          "data": {
            "text/html": [
              "<div>\n",
              "<style scoped>\n",
              "    .dataframe tbody tr th:only-of-type {\n",
              "        vertical-align: middle;\n",
              "    }\n",
              "\n",
              "    .dataframe tbody tr th {\n",
              "        vertical-align: top;\n",
              "    }\n",
              "\n",
              "    .dataframe thead th {\n",
              "        text-align: right;\n",
              "    }\n",
              "</style>\n",
              "<table border=\"1\" class=\"dataframe\">\n",
              "  <thead>\n",
              "    <tr style=\"text-align: right;\">\n",
              "      <th></th>\n",
              "      <th>One</th>\n",
              "      <th>Two</th>\n",
              "      <th>Three</th>\n",
              "    </tr>\n",
              "  </thead>\n",
              "  <tbody>\n",
              "    <tr>\n",
              "      <th>count</th>\n",
              "      <td>1.0</td>\n",
              "      <td>2.000000</td>\n",
              "      <td>1.0</td>\n",
              "    </tr>\n",
              "    <tr>\n",
              "      <th>mean</th>\n",
              "      <td>1.0</td>\n",
              "      <td>2.500000</td>\n",
              "      <td>4.0</td>\n",
              "    </tr>\n",
              "    <tr>\n",
              "      <th>std</th>\n",
              "      <td>NaN</td>\n",
              "      <td>0.707107</td>\n",
              "      <td>NaN</td>\n",
              "    </tr>\n",
              "    <tr>\n",
              "      <th>min</th>\n",
              "      <td>1.0</td>\n",
              "      <td>2.000000</td>\n",
              "      <td>4.0</td>\n",
              "    </tr>\n",
              "    <tr>\n",
              "      <th>25%</th>\n",
              "      <td>1.0</td>\n",
              "      <td>2.250000</td>\n",
              "      <td>4.0</td>\n",
              "    </tr>\n",
              "    <tr>\n",
              "      <th>50%</th>\n",
              "      <td>1.0</td>\n",
              "      <td>2.500000</td>\n",
              "      <td>4.0</td>\n",
              "    </tr>\n",
              "    <tr>\n",
              "      <th>75%</th>\n",
              "      <td>1.0</td>\n",
              "      <td>2.750000</td>\n",
              "      <td>4.0</td>\n",
              "    </tr>\n",
              "    <tr>\n",
              "      <th>max</th>\n",
              "      <td>1.0</td>\n",
              "      <td>3.000000</td>\n",
              "      <td>4.0</td>\n",
              "    </tr>\n",
              "  </tbody>\n",
              "</table>\n",
              "</div>"
            ],
            "text/plain": [
              "       One       Two  Three\n",
              "count  1.0  2.000000    1.0\n",
              "mean   1.0  2.500000    4.0\n",
              "std    NaN  0.707107    NaN\n",
              "min    1.0  2.000000    4.0\n",
              "25%    1.0  2.250000    4.0\n",
              "50%    1.0  2.500000    4.0\n",
              "75%    1.0  2.750000    4.0\n",
              "max    1.0  3.000000    4.0"
            ]
          },
          "metadata": {},
          "execution_count": 84
        }
      ]
    },
    {
      "cell_type": "code",
      "metadata": {
        "colab": {
          "base_uri": "https://localhost:8080/"
        },
        "id": "1HikqRVkUL_a",
        "outputId": "6c45c113-12e9-4867-e685-629410b0ab08"
      },
      "source": [
        "ser1 = Series(['w','w','x','y','z','w','w','x','x','y','a','z',])\n",
        "ser1"
      ],
      "execution_count": 98,
      "outputs": [
        {
          "output_type": "execute_result",
          "data": {
            "text/plain": [
              "0     w\n",
              "1     w\n",
              "2     x\n",
              "3     y\n",
              "4     z\n",
              "5     w\n",
              "6     w\n",
              "7     x\n",
              "8     x\n",
              "9     y\n",
              "10    a\n",
              "11    z\n",
              "dtype: object"
            ]
          },
          "metadata": {},
          "execution_count": 98
        }
      ]
    },
    {
      "cell_type": "code",
      "metadata": {
        "colab": {
          "base_uri": "https://localhost:8080/"
        },
        "id": "IAIsVNcKaFbS",
        "outputId": "74266592-aa8b-4cf3-f8fc-953fa3730616"
      },
      "source": [
        "ser1.unique()"
      ],
      "execution_count": 99,
      "outputs": [
        {
          "output_type": "execute_result",
          "data": {
            "text/plain": [
              "array(['w', 'x', 'y', 'z', 'a'], dtype=object)"
            ]
          },
          "metadata": {},
          "execution_count": 99
        }
      ]
    },
    {
      "cell_type": "code",
      "metadata": {
        "colab": {
          "base_uri": "https://localhost:8080/"
        },
        "id": "SzsGpwsTaITL",
        "outputId": "0d52a4e3-a0e5-4dcc-d120-fab801bad5d5"
      },
      "source": [
        "ser1.value_counts"
      ],
      "execution_count": 100,
      "outputs": [
        {
          "output_type": "execute_result",
          "data": {
            "text/plain": [
              "<bound method IndexOpsMixin.value_counts of 0     w\n",
              "1     w\n",
              "2     x\n",
              "3     y\n",
              "4     z\n",
              "5     w\n",
              "6     w\n",
              "7     x\n",
              "8     x\n",
              "9     y\n",
              "10    a\n",
              "11    z\n",
              "dtype: object>"
            ]
          },
          "metadata": {},
          "execution_count": 100
        }
      ]
    },
    {
      "cell_type": "code",
      "metadata": {
        "colab": {
          "base_uri": "https://localhost:8080/"
        },
        "id": "3_qMw35uaLTl",
        "outputId": "5e15e131-80d1-45c1-e524-60b152a6d0ff"
      },
      "source": [
        "data = Series(['one','two',nan,'four'])\n",
        "data"
      ],
      "execution_count": 102,
      "outputs": [
        {
          "output_type": "execute_result",
          "data": {
            "text/plain": [
              "0     one\n",
              "1     two\n",
              "2     NaN\n",
              "3    four\n",
              "dtype: object"
            ]
          },
          "metadata": {},
          "execution_count": 102
        }
      ]
    },
    {
      "cell_type": "code",
      "metadata": {
        "colab": {
          "base_uri": "https://localhost:8080/"
        },
        "id": "384_tii5dxCx",
        "outputId": "cdc71432-4905-4e82-da78-e6f99b631210"
      },
      "source": [
        "data.isnull()"
      ],
      "execution_count": 103,
      "outputs": [
        {
          "output_type": "execute_result",
          "data": {
            "text/plain": [
              "0    False\n",
              "1    False\n",
              "2     True\n",
              "3    False\n",
              "dtype: bool"
            ]
          },
          "metadata": {},
          "execution_count": 103
        }
      ]
    },
    {
      "cell_type": "code",
      "metadata": {
        "colab": {
          "base_uri": "https://localhost:8080/"
        },
        "id": "uX1mt19udyqQ",
        "outputId": "e335935e-9f53-445e-b94f-94cba770b6e9"
      },
      "source": [
        "data.dropna()"
      ],
      "execution_count": 104,
      "outputs": [
        {
          "output_type": "execute_result",
          "data": {
            "text/plain": [
              "0     one\n",
              "1     two\n",
              "3    four\n",
              "dtype: object"
            ]
          },
          "metadata": {},
          "execution_count": 104
        }
      ]
    },
    {
      "cell_type": "code",
      "metadata": {
        "colab": {
          "base_uri": "https://localhost:8080/",
          "height": 173
        },
        "id": "vIAl-IJld0tZ",
        "outputId": "018cfb0b-1c3a-4e12-8a6a-8da32fd63c10"
      },
      "source": [
        "dframe = DataFrame([[1,2,3],[nan,5,6],[7,nan,9],[nan,nan,nan]])\n",
        "dframe"
      ],
      "execution_count": 106,
      "outputs": [
        {
          "output_type": "execute_result",
          "data": {
            "text/html": [
              "<div>\n",
              "<style scoped>\n",
              "    .dataframe tbody tr th:only-of-type {\n",
              "        vertical-align: middle;\n",
              "    }\n",
              "\n",
              "    .dataframe tbody tr th {\n",
              "        vertical-align: top;\n",
              "    }\n",
              "\n",
              "    .dataframe thead th {\n",
              "        text-align: right;\n",
              "    }\n",
              "</style>\n",
              "<table border=\"1\" class=\"dataframe\">\n",
              "  <thead>\n",
              "    <tr style=\"text-align: right;\">\n",
              "      <th></th>\n",
              "      <th>0</th>\n",
              "      <th>1</th>\n",
              "      <th>2</th>\n",
              "    </tr>\n",
              "  </thead>\n",
              "  <tbody>\n",
              "    <tr>\n",
              "      <th>0</th>\n",
              "      <td>1.0</td>\n",
              "      <td>2.0</td>\n",
              "      <td>3.0</td>\n",
              "    </tr>\n",
              "    <tr>\n",
              "      <th>1</th>\n",
              "      <td>NaN</td>\n",
              "      <td>5.0</td>\n",
              "      <td>6.0</td>\n",
              "    </tr>\n",
              "    <tr>\n",
              "      <th>2</th>\n",
              "      <td>7.0</td>\n",
              "      <td>NaN</td>\n",
              "      <td>9.0</td>\n",
              "    </tr>\n",
              "    <tr>\n",
              "      <th>3</th>\n",
              "      <td>NaN</td>\n",
              "      <td>NaN</td>\n",
              "      <td>NaN</td>\n",
              "    </tr>\n",
              "  </tbody>\n",
              "</table>\n",
              "</div>"
            ],
            "text/plain": [
              "     0    1    2\n",
              "0  1.0  2.0  3.0\n",
              "1  NaN  5.0  6.0\n",
              "2  7.0  NaN  9.0\n",
              "3  NaN  NaN  NaN"
            ]
          },
          "metadata": {},
          "execution_count": 106
        }
      ]
    },
    {
      "cell_type": "code",
      "metadata": {
        "colab": {
          "base_uri": "https://localhost:8080/",
          "height": 80
        },
        "id": "gJZbJzfYd-un",
        "outputId": "edadbfb4-431f-47dd-a2a4-ed1bdb96c3d2"
      },
      "source": [
        "dframe.dropna()"
      ],
      "execution_count": 107,
      "outputs": [
        {
          "output_type": "execute_result",
          "data": {
            "text/html": [
              "<div>\n",
              "<style scoped>\n",
              "    .dataframe tbody tr th:only-of-type {\n",
              "        vertical-align: middle;\n",
              "    }\n",
              "\n",
              "    .dataframe tbody tr th {\n",
              "        vertical-align: top;\n",
              "    }\n",
              "\n",
              "    .dataframe thead th {\n",
              "        text-align: right;\n",
              "    }\n",
              "</style>\n",
              "<table border=\"1\" class=\"dataframe\">\n",
              "  <thead>\n",
              "    <tr style=\"text-align: right;\">\n",
              "      <th></th>\n",
              "      <th>0</th>\n",
              "      <th>1</th>\n",
              "      <th>2</th>\n",
              "    </tr>\n",
              "  </thead>\n",
              "  <tbody>\n",
              "    <tr>\n",
              "      <th>0</th>\n",
              "      <td>1.0</td>\n",
              "      <td>2.0</td>\n",
              "      <td>3.0</td>\n",
              "    </tr>\n",
              "  </tbody>\n",
              "</table>\n",
              "</div>"
            ],
            "text/plain": [
              "     0    1    2\n",
              "0  1.0  2.0  3.0"
            ]
          },
          "metadata": {},
          "execution_count": 107
        }
      ]
    },
    {
      "cell_type": "code",
      "metadata": {
        "colab": {
          "base_uri": "https://localhost:8080/",
          "height": 142
        },
        "id": "EVlTo1cSeCaZ",
        "outputId": "390559b3-6a83-4edb-f029-e676e9eccc35"
      },
      "source": [
        "dframe.dropna(how = 'all')"
      ],
      "execution_count": 109,
      "outputs": [
        {
          "output_type": "execute_result",
          "data": {
            "text/html": [
              "<div>\n",
              "<style scoped>\n",
              "    .dataframe tbody tr th:only-of-type {\n",
              "        vertical-align: middle;\n",
              "    }\n",
              "\n",
              "    .dataframe tbody tr th {\n",
              "        vertical-align: top;\n",
              "    }\n",
              "\n",
              "    .dataframe thead th {\n",
              "        text-align: right;\n",
              "    }\n",
              "</style>\n",
              "<table border=\"1\" class=\"dataframe\">\n",
              "  <thead>\n",
              "    <tr style=\"text-align: right;\">\n",
              "      <th></th>\n",
              "      <th>0</th>\n",
              "      <th>1</th>\n",
              "      <th>2</th>\n",
              "    </tr>\n",
              "  </thead>\n",
              "  <tbody>\n",
              "    <tr>\n",
              "      <th>0</th>\n",
              "      <td>1.0</td>\n",
              "      <td>2.0</td>\n",
              "      <td>3.0</td>\n",
              "    </tr>\n",
              "    <tr>\n",
              "      <th>1</th>\n",
              "      <td>NaN</td>\n",
              "      <td>5.0</td>\n",
              "      <td>6.0</td>\n",
              "    </tr>\n",
              "    <tr>\n",
              "      <th>2</th>\n",
              "      <td>7.0</td>\n",
              "      <td>NaN</td>\n",
              "      <td>9.0</td>\n",
              "    </tr>\n",
              "  </tbody>\n",
              "</table>\n",
              "</div>"
            ],
            "text/plain": [
              "     0    1    2\n",
              "0  1.0  2.0  3.0\n",
              "1  NaN  5.0  6.0\n",
              "2  7.0  NaN  9.0"
            ]
          },
          "metadata": {},
          "execution_count": 109
        }
      ]
    },
    {
      "cell_type": "code",
      "metadata": {
        "colab": {
          "base_uri": "https://localhost:8080/",
          "height": 156
        },
        "id": "WQVOL6GHeJJF",
        "outputId": "3570813d-3966-4844-fea2-82b8bb34c9e3"
      },
      "source": [
        "dframe.dropna(axis = 1)"
      ],
      "execution_count": 110,
      "outputs": [
        {
          "output_type": "execute_result",
          "data": {
            "text/html": [
              "<div>\n",
              "<style scoped>\n",
              "    .dataframe tbody tr th:only-of-type {\n",
              "        vertical-align: middle;\n",
              "    }\n",
              "\n",
              "    .dataframe tbody tr th {\n",
              "        vertical-align: top;\n",
              "    }\n",
              "\n",
              "    .dataframe thead th {\n",
              "        text-align: right;\n",
              "    }\n",
              "</style>\n",
              "<table border=\"1\" class=\"dataframe\">\n",
              "  <thead>\n",
              "    <tr style=\"text-align: right;\">\n",
              "      <th></th>\n",
              "    </tr>\n",
              "  </thead>\n",
              "  <tbody>\n",
              "    <tr>\n",
              "      <th>0</th>\n",
              "    </tr>\n",
              "    <tr>\n",
              "      <th>1</th>\n",
              "    </tr>\n",
              "    <tr>\n",
              "      <th>2</th>\n",
              "    </tr>\n",
              "    <tr>\n",
              "      <th>3</th>\n",
              "    </tr>\n",
              "  </tbody>\n",
              "</table>\n",
              "</div>"
            ],
            "text/plain": [
              "Empty DataFrame\n",
              "Columns: []\n",
              "Index: [0, 1, 2, 3]"
            ]
          },
          "metadata": {},
          "execution_count": 110
        }
      ]
    },
    {
      "cell_type": "code",
      "metadata": {
        "colab": {
          "base_uri": "https://localhost:8080/",
          "height": 173
        },
        "id": "bGRkWvpueO-H",
        "outputId": "a6571961-f8af-4b36-d182-f77b95c43611"
      },
      "source": [
        "dframe"
      ],
      "execution_count": 111,
      "outputs": [
        {
          "output_type": "execute_result",
          "data": {
            "text/html": [
              "<div>\n",
              "<style scoped>\n",
              "    .dataframe tbody tr th:only-of-type {\n",
              "        vertical-align: middle;\n",
              "    }\n",
              "\n",
              "    .dataframe tbody tr th {\n",
              "        vertical-align: top;\n",
              "    }\n",
              "\n",
              "    .dataframe thead th {\n",
              "        text-align: right;\n",
              "    }\n",
              "</style>\n",
              "<table border=\"1\" class=\"dataframe\">\n",
              "  <thead>\n",
              "    <tr style=\"text-align: right;\">\n",
              "      <th></th>\n",
              "      <th>0</th>\n",
              "      <th>1</th>\n",
              "      <th>2</th>\n",
              "    </tr>\n",
              "  </thead>\n",
              "  <tbody>\n",
              "    <tr>\n",
              "      <th>0</th>\n",
              "      <td>1.0</td>\n",
              "      <td>2.0</td>\n",
              "      <td>3.0</td>\n",
              "    </tr>\n",
              "    <tr>\n",
              "      <th>1</th>\n",
              "      <td>NaN</td>\n",
              "      <td>5.0</td>\n",
              "      <td>6.0</td>\n",
              "    </tr>\n",
              "    <tr>\n",
              "      <th>2</th>\n",
              "      <td>7.0</td>\n",
              "      <td>NaN</td>\n",
              "      <td>9.0</td>\n",
              "    </tr>\n",
              "    <tr>\n",
              "      <th>3</th>\n",
              "      <td>NaN</td>\n",
              "      <td>NaN</td>\n",
              "      <td>NaN</td>\n",
              "    </tr>\n",
              "  </tbody>\n",
              "</table>\n",
              "</div>"
            ],
            "text/plain": [
              "     0    1    2\n",
              "0  1.0  2.0  3.0\n",
              "1  NaN  5.0  6.0\n",
              "2  7.0  NaN  9.0\n",
              "3  NaN  NaN  NaN"
            ]
          },
          "metadata": {},
          "execution_count": 111
        }
      ]
    },
    {
      "cell_type": "code",
      "metadata": {
        "colab": {
          "base_uri": "https://localhost:8080/",
          "height": 173
        },
        "id": "3K3z3X8aeR8X",
        "outputId": "fd0e365a-7fee-44c4-ff45-7fb5809a720e"
      },
      "source": [
        "dframe2 = DataFrame([[1,2,3,nan],[2,nan,5,6],[nan,7,nan,9],[1,nan,nan,nan]])\n",
        "dframe2"
      ],
      "execution_count": 112,
      "outputs": [
        {
          "output_type": "execute_result",
          "data": {
            "text/html": [
              "<div>\n",
              "<style scoped>\n",
              "    .dataframe tbody tr th:only-of-type {\n",
              "        vertical-align: middle;\n",
              "    }\n",
              "\n",
              "    .dataframe tbody tr th {\n",
              "        vertical-align: top;\n",
              "    }\n",
              "\n",
              "    .dataframe thead th {\n",
              "        text-align: right;\n",
              "    }\n",
              "</style>\n",
              "<table border=\"1\" class=\"dataframe\">\n",
              "  <thead>\n",
              "    <tr style=\"text-align: right;\">\n",
              "      <th></th>\n",
              "      <th>0</th>\n",
              "      <th>1</th>\n",
              "      <th>2</th>\n",
              "      <th>3</th>\n",
              "    </tr>\n",
              "  </thead>\n",
              "  <tbody>\n",
              "    <tr>\n",
              "      <th>0</th>\n",
              "      <td>1.0</td>\n",
              "      <td>2.0</td>\n",
              "      <td>3.0</td>\n",
              "      <td>NaN</td>\n",
              "    </tr>\n",
              "    <tr>\n",
              "      <th>1</th>\n",
              "      <td>2.0</td>\n",
              "      <td>NaN</td>\n",
              "      <td>5.0</td>\n",
              "      <td>6.0</td>\n",
              "    </tr>\n",
              "    <tr>\n",
              "      <th>2</th>\n",
              "      <td>NaN</td>\n",
              "      <td>7.0</td>\n",
              "      <td>NaN</td>\n",
              "      <td>9.0</td>\n",
              "    </tr>\n",
              "    <tr>\n",
              "      <th>3</th>\n",
              "      <td>1.0</td>\n",
              "      <td>NaN</td>\n",
              "      <td>NaN</td>\n",
              "      <td>NaN</td>\n",
              "    </tr>\n",
              "  </tbody>\n",
              "</table>\n",
              "</div>"
            ],
            "text/plain": [
              "     0    1    2    3\n",
              "0  1.0  2.0  3.0  NaN\n",
              "1  2.0  NaN  5.0  6.0\n",
              "2  NaN  7.0  NaN  9.0\n",
              "3  1.0  NaN  NaN  NaN"
            ]
          },
          "metadata": {},
          "execution_count": 112
        }
      ]
    },
    {
      "cell_type": "code",
      "metadata": {
        "colab": {
          "base_uri": "https://localhost:8080/",
          "height": 142
        },
        "id": "2MnwGdSRehPu",
        "outputId": "60bf1b85-f815-4fb4-ebe1-ef10c0ff05ed"
      },
      "source": [
        "dframe2.dropna(thresh = 2)"
      ],
      "execution_count": 113,
      "outputs": [
        {
          "output_type": "execute_result",
          "data": {
            "text/html": [
              "<div>\n",
              "<style scoped>\n",
              "    .dataframe tbody tr th:only-of-type {\n",
              "        vertical-align: middle;\n",
              "    }\n",
              "\n",
              "    .dataframe tbody tr th {\n",
              "        vertical-align: top;\n",
              "    }\n",
              "\n",
              "    .dataframe thead th {\n",
              "        text-align: right;\n",
              "    }\n",
              "</style>\n",
              "<table border=\"1\" class=\"dataframe\">\n",
              "  <thead>\n",
              "    <tr style=\"text-align: right;\">\n",
              "      <th></th>\n",
              "      <th>0</th>\n",
              "      <th>1</th>\n",
              "      <th>2</th>\n",
              "      <th>3</th>\n",
              "    </tr>\n",
              "  </thead>\n",
              "  <tbody>\n",
              "    <tr>\n",
              "      <th>0</th>\n",
              "      <td>1.0</td>\n",
              "      <td>2.0</td>\n",
              "      <td>3.0</td>\n",
              "      <td>NaN</td>\n",
              "    </tr>\n",
              "    <tr>\n",
              "      <th>1</th>\n",
              "      <td>2.0</td>\n",
              "      <td>NaN</td>\n",
              "      <td>5.0</td>\n",
              "      <td>6.0</td>\n",
              "    </tr>\n",
              "    <tr>\n",
              "      <th>2</th>\n",
              "      <td>NaN</td>\n",
              "      <td>7.0</td>\n",
              "      <td>NaN</td>\n",
              "      <td>9.0</td>\n",
              "    </tr>\n",
              "  </tbody>\n",
              "</table>\n",
              "</div>"
            ],
            "text/plain": [
              "     0    1    2    3\n",
              "0  1.0  2.0  3.0  NaN\n",
              "1  2.0  NaN  5.0  6.0\n",
              "2  NaN  7.0  NaN  9.0"
            ]
          },
          "metadata": {},
          "execution_count": 113
        }
      ]
    },
    {
      "cell_type": "code",
      "metadata": {
        "colab": {
          "base_uri": "https://localhost:8080/",
          "height": 111
        },
        "id": "WvhgWQW0ekBW",
        "outputId": "af12c639-4c4a-427c-8aac-f29a5356cd9c"
      },
      "source": [
        "dframe2.dropna(thresh=3)"
      ],
      "execution_count": 114,
      "outputs": [
        {
          "output_type": "execute_result",
          "data": {
            "text/html": [
              "<div>\n",
              "<style scoped>\n",
              "    .dataframe tbody tr th:only-of-type {\n",
              "        vertical-align: middle;\n",
              "    }\n",
              "\n",
              "    .dataframe tbody tr th {\n",
              "        vertical-align: top;\n",
              "    }\n",
              "\n",
              "    .dataframe thead th {\n",
              "        text-align: right;\n",
              "    }\n",
              "</style>\n",
              "<table border=\"1\" class=\"dataframe\">\n",
              "  <thead>\n",
              "    <tr style=\"text-align: right;\">\n",
              "      <th></th>\n",
              "      <th>0</th>\n",
              "      <th>1</th>\n",
              "      <th>2</th>\n",
              "      <th>3</th>\n",
              "    </tr>\n",
              "  </thead>\n",
              "  <tbody>\n",
              "    <tr>\n",
              "      <th>0</th>\n",
              "      <td>1.0</td>\n",
              "      <td>2.0</td>\n",
              "      <td>3.0</td>\n",
              "      <td>NaN</td>\n",
              "    </tr>\n",
              "    <tr>\n",
              "      <th>1</th>\n",
              "      <td>2.0</td>\n",
              "      <td>NaN</td>\n",
              "      <td>5.0</td>\n",
              "      <td>6.0</td>\n",
              "    </tr>\n",
              "  </tbody>\n",
              "</table>\n",
              "</div>"
            ],
            "text/plain": [
              "     0    1    2    3\n",
              "0  1.0  2.0  3.0  NaN\n",
              "1  2.0  NaN  5.0  6.0"
            ]
          },
          "metadata": {},
          "execution_count": 114
        }
      ]
    },
    {
      "cell_type": "code",
      "metadata": {
        "colab": {
          "base_uri": "https://localhost:8080/",
          "height": 173
        },
        "id": "8Lkj3986eoGU",
        "outputId": "ed42a721-0656-49fd-a7ab-061a654efc3e"
      },
      "source": [
        "dframe2.fillna(1)"
      ],
      "execution_count": 115,
      "outputs": [
        {
          "output_type": "execute_result",
          "data": {
            "text/html": [
              "<div>\n",
              "<style scoped>\n",
              "    .dataframe tbody tr th:only-of-type {\n",
              "        vertical-align: middle;\n",
              "    }\n",
              "\n",
              "    .dataframe tbody tr th {\n",
              "        vertical-align: top;\n",
              "    }\n",
              "\n",
              "    .dataframe thead th {\n",
              "        text-align: right;\n",
              "    }\n",
              "</style>\n",
              "<table border=\"1\" class=\"dataframe\">\n",
              "  <thead>\n",
              "    <tr style=\"text-align: right;\">\n",
              "      <th></th>\n",
              "      <th>0</th>\n",
              "      <th>1</th>\n",
              "      <th>2</th>\n",
              "      <th>3</th>\n",
              "    </tr>\n",
              "  </thead>\n",
              "  <tbody>\n",
              "    <tr>\n",
              "      <th>0</th>\n",
              "      <td>1.0</td>\n",
              "      <td>2.0</td>\n",
              "      <td>3.0</td>\n",
              "      <td>1.0</td>\n",
              "    </tr>\n",
              "    <tr>\n",
              "      <th>1</th>\n",
              "      <td>2.0</td>\n",
              "      <td>1.0</td>\n",
              "      <td>5.0</td>\n",
              "      <td>6.0</td>\n",
              "    </tr>\n",
              "    <tr>\n",
              "      <th>2</th>\n",
              "      <td>1.0</td>\n",
              "      <td>7.0</td>\n",
              "      <td>1.0</td>\n",
              "      <td>9.0</td>\n",
              "    </tr>\n",
              "    <tr>\n",
              "      <th>3</th>\n",
              "      <td>1.0</td>\n",
              "      <td>1.0</td>\n",
              "      <td>1.0</td>\n",
              "      <td>1.0</td>\n",
              "    </tr>\n",
              "  </tbody>\n",
              "</table>\n",
              "</div>"
            ],
            "text/plain": [
              "     0    1    2    3\n",
              "0  1.0  2.0  3.0  1.0\n",
              "1  2.0  1.0  5.0  6.0\n",
              "2  1.0  7.0  1.0  9.0\n",
              "3  1.0  1.0  1.0  1.0"
            ]
          },
          "metadata": {},
          "execution_count": 115
        }
      ]
    },
    {
      "cell_type": "code",
      "metadata": {
        "colab": {
          "base_uri": "https://localhost:8080/",
          "height": 173
        },
        "id": "IIXmV5Kyer_h",
        "outputId": "7058927b-8052-4be7-cbce-71d0d59ad2aa"
      },
      "source": [
        "dframe2"
      ],
      "execution_count": 116,
      "outputs": [
        {
          "output_type": "execute_result",
          "data": {
            "text/html": [
              "<div>\n",
              "<style scoped>\n",
              "    .dataframe tbody tr th:only-of-type {\n",
              "        vertical-align: middle;\n",
              "    }\n",
              "\n",
              "    .dataframe tbody tr th {\n",
              "        vertical-align: top;\n",
              "    }\n",
              "\n",
              "    .dataframe thead th {\n",
              "        text-align: right;\n",
              "    }\n",
              "</style>\n",
              "<table border=\"1\" class=\"dataframe\">\n",
              "  <thead>\n",
              "    <tr style=\"text-align: right;\">\n",
              "      <th></th>\n",
              "      <th>0</th>\n",
              "      <th>1</th>\n",
              "      <th>2</th>\n",
              "      <th>3</th>\n",
              "    </tr>\n",
              "  </thead>\n",
              "  <tbody>\n",
              "    <tr>\n",
              "      <th>0</th>\n",
              "      <td>1.0</td>\n",
              "      <td>2.0</td>\n",
              "      <td>3.0</td>\n",
              "      <td>NaN</td>\n",
              "    </tr>\n",
              "    <tr>\n",
              "      <th>1</th>\n",
              "      <td>2.0</td>\n",
              "      <td>NaN</td>\n",
              "      <td>5.0</td>\n",
              "      <td>6.0</td>\n",
              "    </tr>\n",
              "    <tr>\n",
              "      <th>2</th>\n",
              "      <td>NaN</td>\n",
              "      <td>7.0</td>\n",
              "      <td>NaN</td>\n",
              "      <td>9.0</td>\n",
              "    </tr>\n",
              "    <tr>\n",
              "      <th>3</th>\n",
              "      <td>1.0</td>\n",
              "      <td>NaN</td>\n",
              "      <td>NaN</td>\n",
              "      <td>NaN</td>\n",
              "    </tr>\n",
              "  </tbody>\n",
              "</table>\n",
              "</div>"
            ],
            "text/plain": [
              "     0    1    2    3\n",
              "0  1.0  2.0  3.0  NaN\n",
              "1  2.0  NaN  5.0  6.0\n",
              "2  NaN  7.0  NaN  9.0\n",
              "3  1.0  NaN  NaN  NaN"
            ]
          },
          "metadata": {},
          "execution_count": 116
        }
      ]
    },
    {
      "cell_type": "code",
      "metadata": {
        "colab": {
          "base_uri": "https://localhost:8080/",
          "height": 173
        },
        "id": "jeIMZHHoevqW",
        "outputId": "28a56598-d25d-4c81-c19d-7f262abbe657"
      },
      "source": [
        "dframe2.fillna({0:0, 1:1, 2:2, 3:3})"
      ],
      "execution_count": 117,
      "outputs": [
        {
          "output_type": "execute_result",
          "data": {
            "text/html": [
              "<div>\n",
              "<style scoped>\n",
              "    .dataframe tbody tr th:only-of-type {\n",
              "        vertical-align: middle;\n",
              "    }\n",
              "\n",
              "    .dataframe tbody tr th {\n",
              "        vertical-align: top;\n",
              "    }\n",
              "\n",
              "    .dataframe thead th {\n",
              "        text-align: right;\n",
              "    }\n",
              "</style>\n",
              "<table border=\"1\" class=\"dataframe\">\n",
              "  <thead>\n",
              "    <tr style=\"text-align: right;\">\n",
              "      <th></th>\n",
              "      <th>0</th>\n",
              "      <th>1</th>\n",
              "      <th>2</th>\n",
              "      <th>3</th>\n",
              "    </tr>\n",
              "  </thead>\n",
              "  <tbody>\n",
              "    <tr>\n",
              "      <th>0</th>\n",
              "      <td>1.0</td>\n",
              "      <td>2.0</td>\n",
              "      <td>3.0</td>\n",
              "      <td>3.0</td>\n",
              "    </tr>\n",
              "    <tr>\n",
              "      <th>1</th>\n",
              "      <td>2.0</td>\n",
              "      <td>1.0</td>\n",
              "      <td>5.0</td>\n",
              "      <td>6.0</td>\n",
              "    </tr>\n",
              "    <tr>\n",
              "      <th>2</th>\n",
              "      <td>0.0</td>\n",
              "      <td>7.0</td>\n",
              "      <td>2.0</td>\n",
              "      <td>9.0</td>\n",
              "    </tr>\n",
              "    <tr>\n",
              "      <th>3</th>\n",
              "      <td>1.0</td>\n",
              "      <td>1.0</td>\n",
              "      <td>2.0</td>\n",
              "      <td>3.0</td>\n",
              "    </tr>\n",
              "  </tbody>\n",
              "</table>\n",
              "</div>"
            ],
            "text/plain": [
              "     0    1    2    3\n",
              "0  1.0  2.0  3.0  3.0\n",
              "1  2.0  1.0  5.0  6.0\n",
              "2  0.0  7.0  2.0  9.0\n",
              "3  1.0  1.0  2.0  3.0"
            ]
          },
          "metadata": {},
          "execution_count": 117
        }
      ]
    },
    {
      "cell_type": "code",
      "metadata": {
        "colab": {
          "base_uri": "https://localhost:8080/",
          "height": 173
        },
        "id": "vtf8yg85e2-J",
        "outputId": "24bbb2b5-b13e-4c68-d005-014bdfe1f6f6"
      },
      "source": [
        "dframe2"
      ],
      "execution_count": 119,
      "outputs": [
        {
          "output_type": "execute_result",
          "data": {
            "text/html": [
              "<div>\n",
              "<style scoped>\n",
              "    .dataframe tbody tr th:only-of-type {\n",
              "        vertical-align: middle;\n",
              "    }\n",
              "\n",
              "    .dataframe tbody tr th {\n",
              "        vertical-align: top;\n",
              "    }\n",
              "\n",
              "    .dataframe thead th {\n",
              "        text-align: right;\n",
              "    }\n",
              "</style>\n",
              "<table border=\"1\" class=\"dataframe\">\n",
              "  <thead>\n",
              "    <tr style=\"text-align: right;\">\n",
              "      <th></th>\n",
              "      <th>0</th>\n",
              "      <th>1</th>\n",
              "      <th>2</th>\n",
              "      <th>3</th>\n",
              "    </tr>\n",
              "  </thead>\n",
              "  <tbody>\n",
              "    <tr>\n",
              "      <th>0</th>\n",
              "      <td>1.0</td>\n",
              "      <td>2.0</td>\n",
              "      <td>3.0</td>\n",
              "      <td>NaN</td>\n",
              "    </tr>\n",
              "    <tr>\n",
              "      <th>1</th>\n",
              "      <td>2.0</td>\n",
              "      <td>NaN</td>\n",
              "      <td>5.0</td>\n",
              "      <td>6.0</td>\n",
              "    </tr>\n",
              "    <tr>\n",
              "      <th>2</th>\n",
              "      <td>NaN</td>\n",
              "      <td>7.0</td>\n",
              "      <td>NaN</td>\n",
              "      <td>9.0</td>\n",
              "    </tr>\n",
              "    <tr>\n",
              "      <th>3</th>\n",
              "      <td>1.0</td>\n",
              "      <td>NaN</td>\n",
              "      <td>NaN</td>\n",
              "      <td>NaN</td>\n",
              "    </tr>\n",
              "  </tbody>\n",
              "</table>\n",
              "</div>"
            ],
            "text/plain": [
              "     0    1    2    3\n",
              "0  1.0  2.0  3.0  NaN\n",
              "1  2.0  NaN  5.0  6.0\n",
              "2  NaN  7.0  NaN  9.0\n",
              "3  1.0  NaN  NaN  NaN"
            ]
          },
          "metadata": {},
          "execution_count": 119
        }
      ]
    },
    {
      "cell_type": "code",
      "metadata": {
        "id": "F5v01LTFfBK8"
      },
      "source": [
        "dframe2.fillna(0, inplace = True)"
      ],
      "execution_count": 120,
      "outputs": []
    },
    {
      "cell_type": "code",
      "metadata": {
        "colab": {
          "base_uri": "https://localhost:8080/",
          "height": 173
        },
        "id": "Di7DnFOBfHPq",
        "outputId": "74fbbc6e-7c5b-4b04-e32b-29ac01b3f101"
      },
      "source": [
        "dframe2"
      ],
      "execution_count": 121,
      "outputs": [
        {
          "output_type": "execute_result",
          "data": {
            "text/html": [
              "<div>\n",
              "<style scoped>\n",
              "    .dataframe tbody tr th:only-of-type {\n",
              "        vertical-align: middle;\n",
              "    }\n",
              "\n",
              "    .dataframe tbody tr th {\n",
              "        vertical-align: top;\n",
              "    }\n",
              "\n",
              "    .dataframe thead th {\n",
              "        text-align: right;\n",
              "    }\n",
              "</style>\n",
              "<table border=\"1\" class=\"dataframe\">\n",
              "  <thead>\n",
              "    <tr style=\"text-align: right;\">\n",
              "      <th></th>\n",
              "      <th>0</th>\n",
              "      <th>1</th>\n",
              "      <th>2</th>\n",
              "      <th>3</th>\n",
              "    </tr>\n",
              "  </thead>\n",
              "  <tbody>\n",
              "    <tr>\n",
              "      <th>0</th>\n",
              "      <td>1.0</td>\n",
              "      <td>2.0</td>\n",
              "      <td>3.0</td>\n",
              "      <td>0.0</td>\n",
              "    </tr>\n",
              "    <tr>\n",
              "      <th>1</th>\n",
              "      <td>2.0</td>\n",
              "      <td>0.0</td>\n",
              "      <td>5.0</td>\n",
              "      <td>6.0</td>\n",
              "    </tr>\n",
              "    <tr>\n",
              "      <th>2</th>\n",
              "      <td>0.0</td>\n",
              "      <td>7.0</td>\n",
              "      <td>0.0</td>\n",
              "      <td>9.0</td>\n",
              "    </tr>\n",
              "    <tr>\n",
              "      <th>3</th>\n",
              "      <td>1.0</td>\n",
              "      <td>0.0</td>\n",
              "      <td>0.0</td>\n",
              "      <td>0.0</td>\n",
              "    </tr>\n",
              "  </tbody>\n",
              "</table>\n",
              "</div>"
            ],
            "text/plain": [
              "     0    1    2    3\n",
              "0  1.0  2.0  3.0  0.0\n",
              "1  2.0  0.0  5.0  6.0\n",
              "2  0.0  7.0  0.0  9.0\n",
              "3  1.0  0.0  0.0  0.0"
            ]
          },
          "metadata": {},
          "execution_count": 121
        }
      ]
    },
    {
      "cell_type": "code",
      "metadata": {
        "colab": {
          "base_uri": "https://localhost:8080/"
        },
        "id": "2tFoYHIxfKjj",
        "outputId": "b19f90bb-35f1-47f9-d2dd-f8c9d27579ba"
      },
      "source": [
        "ser = Series(np.random.randn(6), index = [[1,1,1,2,2,2,],['a','b','c','a','b','c']])\n",
        "ser"
      ],
      "execution_count": 123,
      "outputs": [
        {
          "output_type": "execute_result",
          "data": {
            "text/plain": [
              "1  a   -0.282020\n",
              "   b   -1.265754\n",
              "   c   -1.243538\n",
              "2  a    0.487488\n",
              "   b    0.064526\n",
              "   c   -1.693214\n",
              "dtype: float64"
            ]
          },
          "metadata": {},
          "execution_count": 123
        }
      ]
    },
    {
      "cell_type": "code",
      "metadata": {
        "colab": {
          "base_uri": "https://localhost:8080/"
        },
        "id": "UNcSh825fcnj",
        "outputId": "fe7477dc-ffdc-4187-d027-022935599fa7"
      },
      "source": [
        "ser.index"
      ],
      "execution_count": 124,
      "outputs": [
        {
          "output_type": "execute_result",
          "data": {
            "text/plain": [
              "MultiIndex([(1, 'a'),\n",
              "            (1, 'b'),\n",
              "            (1, 'c'),\n",
              "            (2, 'a'),\n",
              "            (2, 'b'),\n",
              "            (2, 'c')],\n",
              "           )"
            ]
          },
          "metadata": {},
          "execution_count": 124
        }
      ]
    },
    {
      "cell_type": "code",
      "metadata": {
        "colab": {
          "base_uri": "https://localhost:8080/"
        },
        "id": "usXDM7kHfieF",
        "outputId": "ca5281a3-4f98-44ff-e992-855f552361c6"
      },
      "source": [
        "ser[1]"
      ],
      "execution_count": 125,
      "outputs": [
        {
          "output_type": "execute_result",
          "data": {
            "text/plain": [
              "a   -0.282020\n",
              "b   -1.265754\n",
              "c   -1.243538\n",
              "dtype: float64"
            ]
          },
          "metadata": {},
          "execution_count": 125
        }
      ]
    },
    {
      "cell_type": "code",
      "metadata": {
        "colab": {
          "base_uri": "https://localhost:8080/"
        },
        "id": "2dGeINBhfnSw",
        "outputId": "95cad2e0-1f53-4608-84de-f6727f669e22"
      },
      "source": [
        "ser[2]"
      ],
      "execution_count": 126,
      "outputs": [
        {
          "output_type": "execute_result",
          "data": {
            "text/plain": [
              "a    0.487488\n",
              "b    0.064526\n",
              "c   -1.693214\n",
              "dtype: float64"
            ]
          },
          "metadata": {},
          "execution_count": 126
        }
      ]
    },
    {
      "cell_type": "code",
      "metadata": {
        "colab": {
          "base_uri": "https://localhost:8080/"
        },
        "id": "xwQ1geqBfoLH",
        "outputId": "498a4f31-cc21-4bfa-83d9-b29843e8df7e"
      },
      "source": [
        "ser[:,'a']"
      ],
      "execution_count": 127,
      "outputs": [
        {
          "output_type": "execute_result",
          "data": {
            "text/plain": [
              "1   -0.282020\n",
              "2    0.487488\n",
              "dtype: float64"
            ]
          },
          "metadata": {},
          "execution_count": 127
        }
      ]
    },
    {
      "cell_type": "code",
      "metadata": {
        "colab": {
          "base_uri": "https://localhost:8080/"
        },
        "id": "R3-0UsSPfrsW",
        "outputId": "69b6328c-42fc-41ff-ccd3-22d127ea4eb4"
      },
      "source": [
        "ser[:,'b']"
      ],
      "execution_count": 128,
      "outputs": [
        {
          "output_type": "execute_result",
          "data": {
            "text/plain": [
              "1   -1.265754\n",
              "2    0.064526\n",
              "dtype: float64"
            ]
          },
          "metadata": {},
          "execution_count": 128
        }
      ]
    },
    {
      "cell_type": "code",
      "metadata": {
        "id": "7G2sn410fu3P"
      },
      "source": [
        "dframe = ser.unstack()"
      ],
      "execution_count": 129,
      "outputs": []
    },
    {
      "cell_type": "code",
      "metadata": {
        "colab": {
          "base_uri": "https://localhost:8080/",
          "height": 111
        },
        "id": "GIBJPo0Rfy72",
        "outputId": "6c084ae4-7e74-4758-c2a7-072b9c01f1e6"
      },
      "source": [
        "dframe"
      ],
      "execution_count": 130,
      "outputs": [
        {
          "output_type": "execute_result",
          "data": {
            "text/html": [
              "<div>\n",
              "<style scoped>\n",
              "    .dataframe tbody tr th:only-of-type {\n",
              "        vertical-align: middle;\n",
              "    }\n",
              "\n",
              "    .dataframe tbody tr th {\n",
              "        vertical-align: top;\n",
              "    }\n",
              "\n",
              "    .dataframe thead th {\n",
              "        text-align: right;\n",
              "    }\n",
              "</style>\n",
              "<table border=\"1\" class=\"dataframe\">\n",
              "  <thead>\n",
              "    <tr style=\"text-align: right;\">\n",
              "      <th></th>\n",
              "      <th>a</th>\n",
              "      <th>b</th>\n",
              "      <th>c</th>\n",
              "    </tr>\n",
              "  </thead>\n",
              "  <tbody>\n",
              "    <tr>\n",
              "      <th>1</th>\n",
              "      <td>-0.282020</td>\n",
              "      <td>-1.265754</td>\n",
              "      <td>-1.243538</td>\n",
              "    </tr>\n",
              "    <tr>\n",
              "      <th>2</th>\n",
              "      <td>0.487488</td>\n",
              "      <td>0.064526</td>\n",
              "      <td>-1.693214</td>\n",
              "    </tr>\n",
              "  </tbody>\n",
              "</table>\n",
              "</div>"
            ],
            "text/plain": [
              "          a         b         c\n",
              "1 -0.282020 -1.265754 -1.243538\n",
              "2  0.487488  0.064526 -1.693214"
            ]
          },
          "metadata": {},
          "execution_count": 130
        }
      ]
    },
    {
      "cell_type": "code",
      "metadata": {
        "colab": {
          "base_uri": "https://localhost:8080/"
        },
        "id": "JCM7EPiBf0Iv",
        "outputId": "626ceeee-843f-48fa-cd08-47d1532c3107"
      },
      "source": [
        "dframe.unstack()"
      ],
      "execution_count": 131,
      "outputs": [
        {
          "output_type": "execute_result",
          "data": {
            "text/plain": [
              "a  1   -0.282020\n",
              "   2    0.487488\n",
              "b  1   -1.265754\n",
              "   2    0.064526\n",
              "c  1   -1.243538\n",
              "   2   -1.693214\n",
              "dtype: float64"
            ]
          },
          "metadata": {},
          "execution_count": 131
        }
      ]
    },
    {
      "cell_type": "code",
      "metadata": {
        "colab": {
          "base_uri": "https://localhost:8080/"
        },
        "id": "RBAz7iiCf3Ok",
        "outputId": "44499dc2-25e1-49ab-f8fa-c15ec99a932d"
      },
      "source": [
        "dframe.T.unstack()"
      ],
      "execution_count": 132,
      "outputs": [
        {
          "output_type": "execute_result",
          "data": {
            "text/plain": [
              "1  a   -0.282020\n",
              "   b   -1.265754\n",
              "   c   -1.243538\n",
              "2  a    0.487488\n",
              "   b    0.064526\n",
              "   c   -1.693214\n",
              "dtype: float64"
            ]
          },
          "metadata": {},
          "execution_count": 132
        }
      ]
    },
    {
      "cell_type": "code",
      "metadata": {
        "colab": {
          "base_uri": "https://localhost:8080/",
          "height": 204
        },
        "id": "zyK_aH58f69Z",
        "outputId": "1b413f89-4178-4040-c407-643448614443"
      },
      "source": [
        "dframe2 = DataFrame(np.arange(16).reshape((4,4)),\n",
        "                    index = [['a','a','b','b'],[1,2,1,2,]],\n",
        "                    columns = [['NY','NY','LA','SF'],['cold','hot','hot','cold']])\n",
        "dframe2"
      ],
      "execution_count": 134,
      "outputs": [
        {
          "output_type": "execute_result",
          "data": {
            "text/html": [
              "<div>\n",
              "<style scoped>\n",
              "    .dataframe tbody tr th:only-of-type {\n",
              "        vertical-align: middle;\n",
              "    }\n",
              "\n",
              "    .dataframe tbody tr th {\n",
              "        vertical-align: top;\n",
              "    }\n",
              "\n",
              "    .dataframe thead tr th {\n",
              "        text-align: left;\n",
              "    }\n",
              "</style>\n",
              "<table border=\"1\" class=\"dataframe\">\n",
              "  <thead>\n",
              "    <tr>\n",
              "      <th></th>\n",
              "      <th></th>\n",
              "      <th colspan=\"2\" halign=\"left\">NY</th>\n",
              "      <th>LA</th>\n",
              "      <th>SF</th>\n",
              "    </tr>\n",
              "    <tr>\n",
              "      <th></th>\n",
              "      <th></th>\n",
              "      <th>cold</th>\n",
              "      <th>hot</th>\n",
              "      <th>hot</th>\n",
              "      <th>cold</th>\n",
              "    </tr>\n",
              "  </thead>\n",
              "  <tbody>\n",
              "    <tr>\n",
              "      <th rowspan=\"2\" valign=\"top\">a</th>\n",
              "      <th>1</th>\n",
              "      <td>0</td>\n",
              "      <td>1</td>\n",
              "      <td>2</td>\n",
              "      <td>3</td>\n",
              "    </tr>\n",
              "    <tr>\n",
              "      <th>2</th>\n",
              "      <td>4</td>\n",
              "      <td>5</td>\n",
              "      <td>6</td>\n",
              "      <td>7</td>\n",
              "    </tr>\n",
              "    <tr>\n",
              "      <th rowspan=\"2\" valign=\"top\">b</th>\n",
              "      <th>1</th>\n",
              "      <td>8</td>\n",
              "      <td>9</td>\n",
              "      <td>10</td>\n",
              "      <td>11</td>\n",
              "    </tr>\n",
              "    <tr>\n",
              "      <th>2</th>\n",
              "      <td>12</td>\n",
              "      <td>13</td>\n",
              "      <td>14</td>\n",
              "      <td>15</td>\n",
              "    </tr>\n",
              "  </tbody>\n",
              "</table>\n",
              "</div>"
            ],
            "text/plain": [
              "      NY      LA   SF\n",
              "    cold hot hot cold\n",
              "a 1    0   1   2    3\n",
              "  2    4   5   6    7\n",
              "b 1    8   9  10   11\n",
              "  2   12  13  14   15"
            ]
          },
          "metadata": {},
          "execution_count": 134
        }
      ]
    },
    {
      "cell_type": "code",
      "metadata": {
        "colab": {
          "base_uri": "https://localhost:8080/",
          "height": 204
        },
        "id": "lPsRULfKgXIk",
        "outputId": "c36f9275-5cb9-4ba6-a1ed-612ad4c89014"
      },
      "source": [
        "dframe2.index.name2 = ['INDEX1','INDEX2']\n",
        "dframe2"
      ],
      "execution_count": 135,
      "outputs": [
        {
          "output_type": "execute_result",
          "data": {
            "text/html": [
              "<div>\n",
              "<style scoped>\n",
              "    .dataframe tbody tr th:only-of-type {\n",
              "        vertical-align: middle;\n",
              "    }\n",
              "\n",
              "    .dataframe tbody tr th {\n",
              "        vertical-align: top;\n",
              "    }\n",
              "\n",
              "    .dataframe thead tr th {\n",
              "        text-align: left;\n",
              "    }\n",
              "</style>\n",
              "<table border=\"1\" class=\"dataframe\">\n",
              "  <thead>\n",
              "    <tr>\n",
              "      <th></th>\n",
              "      <th></th>\n",
              "      <th colspan=\"2\" halign=\"left\">NY</th>\n",
              "      <th>LA</th>\n",
              "      <th>SF</th>\n",
              "    </tr>\n",
              "    <tr>\n",
              "      <th></th>\n",
              "      <th></th>\n",
              "      <th>cold</th>\n",
              "      <th>hot</th>\n",
              "      <th>hot</th>\n",
              "      <th>cold</th>\n",
              "    </tr>\n",
              "  </thead>\n",
              "  <tbody>\n",
              "    <tr>\n",
              "      <th rowspan=\"2\" valign=\"top\">a</th>\n",
              "      <th>1</th>\n",
              "      <td>0</td>\n",
              "      <td>1</td>\n",
              "      <td>2</td>\n",
              "      <td>3</td>\n",
              "    </tr>\n",
              "    <tr>\n",
              "      <th>2</th>\n",
              "      <td>4</td>\n",
              "      <td>5</td>\n",
              "      <td>6</td>\n",
              "      <td>7</td>\n",
              "    </tr>\n",
              "    <tr>\n",
              "      <th rowspan=\"2\" valign=\"top\">b</th>\n",
              "      <th>1</th>\n",
              "      <td>8</td>\n",
              "      <td>9</td>\n",
              "      <td>10</td>\n",
              "      <td>11</td>\n",
              "    </tr>\n",
              "    <tr>\n",
              "      <th>2</th>\n",
              "      <td>12</td>\n",
              "      <td>13</td>\n",
              "      <td>14</td>\n",
              "      <td>15</td>\n",
              "    </tr>\n",
              "  </tbody>\n",
              "</table>\n",
              "</div>"
            ],
            "text/plain": [
              "      NY      LA   SF\n",
              "    cold hot hot cold\n",
              "a 1    0   1   2    3\n",
              "  2    4   5   6    7\n",
              "b 1    8   9  10   11\n",
              "  2   12  13  14   15"
            ]
          },
          "metadata": {},
          "execution_count": 135
        }
      ]
    },
    {
      "cell_type": "code",
      "metadata": {
        "colab": {
          "base_uri": "https://localhost:8080/",
          "height": 204
        },
        "id": "thoAuv9GglY5",
        "outputId": "c6404c41-cadc-45d1-b778-c5df41dd13f9"
      },
      "source": [
        "dframe2.columns.names = ['Cities','Temp']\n",
        "dframe2"
      ],
      "execution_count": 137,
      "outputs": [
        {
          "output_type": "execute_result",
          "data": {
            "text/html": [
              "<div>\n",
              "<style scoped>\n",
              "    .dataframe tbody tr th:only-of-type {\n",
              "        vertical-align: middle;\n",
              "    }\n",
              "\n",
              "    .dataframe tbody tr th {\n",
              "        vertical-align: top;\n",
              "    }\n",
              "\n",
              "    .dataframe thead tr th {\n",
              "        text-align: left;\n",
              "    }\n",
              "</style>\n",
              "<table border=\"1\" class=\"dataframe\">\n",
              "  <thead>\n",
              "    <tr>\n",
              "      <th></th>\n",
              "      <th>Cities</th>\n",
              "      <th colspan=\"2\" halign=\"left\">NY</th>\n",
              "      <th>LA</th>\n",
              "      <th>SF</th>\n",
              "    </tr>\n",
              "    <tr>\n",
              "      <th></th>\n",
              "      <th>Temp</th>\n",
              "      <th>cold</th>\n",
              "      <th>hot</th>\n",
              "      <th>hot</th>\n",
              "      <th>cold</th>\n",
              "    </tr>\n",
              "  </thead>\n",
              "  <tbody>\n",
              "    <tr>\n",
              "      <th rowspan=\"2\" valign=\"top\">a</th>\n",
              "      <th>1</th>\n",
              "      <td>0</td>\n",
              "      <td>1</td>\n",
              "      <td>2</td>\n",
              "      <td>3</td>\n",
              "    </tr>\n",
              "    <tr>\n",
              "      <th>2</th>\n",
              "      <td>4</td>\n",
              "      <td>5</td>\n",
              "      <td>6</td>\n",
              "      <td>7</td>\n",
              "    </tr>\n",
              "    <tr>\n",
              "      <th rowspan=\"2\" valign=\"top\">b</th>\n",
              "      <th>1</th>\n",
              "      <td>8</td>\n",
              "      <td>9</td>\n",
              "      <td>10</td>\n",
              "      <td>11</td>\n",
              "    </tr>\n",
              "    <tr>\n",
              "      <th>2</th>\n",
              "      <td>12</td>\n",
              "      <td>13</td>\n",
              "      <td>14</td>\n",
              "      <td>15</td>\n",
              "    </tr>\n",
              "  </tbody>\n",
              "</table>\n",
              "</div>"
            ],
            "text/plain": [
              "Cities   NY      LA   SF\n",
              "Temp   cold hot hot cold\n",
              "a 1       0   1   2    3\n",
              "  2       4   5   6    7\n",
              "b 1       8   9  10   11\n",
              "  2      12  13  14   15"
            ]
          },
          "metadata": {},
          "execution_count": 137
        }
      ]
    },
    {
      "cell_type": "code",
      "metadata": {
        "colab": {
          "base_uri": "https://localhost:8080/",
          "height": 204
        },
        "id": "CD4pe_Jkgr0R",
        "outputId": "2337a46c-5bbd-45dc-acd8-e3033a7f2e6d"
      },
      "source": [
        "dframe2.swaplevel('Cities','Temp',axis =1)"
      ],
      "execution_count": 138,
      "outputs": [
        {
          "output_type": "execute_result",
          "data": {
            "text/html": [
              "<div>\n",
              "<style scoped>\n",
              "    .dataframe tbody tr th:only-of-type {\n",
              "        vertical-align: middle;\n",
              "    }\n",
              "\n",
              "    .dataframe tbody tr th {\n",
              "        vertical-align: top;\n",
              "    }\n",
              "\n",
              "    .dataframe thead tr th {\n",
              "        text-align: left;\n",
              "    }\n",
              "</style>\n",
              "<table border=\"1\" class=\"dataframe\">\n",
              "  <thead>\n",
              "    <tr>\n",
              "      <th></th>\n",
              "      <th>Temp</th>\n",
              "      <th>cold</th>\n",
              "      <th colspan=\"2\" halign=\"left\">hot</th>\n",
              "      <th>cold</th>\n",
              "    </tr>\n",
              "    <tr>\n",
              "      <th></th>\n",
              "      <th>Cities</th>\n",
              "      <th>NY</th>\n",
              "      <th>NY</th>\n",
              "      <th>LA</th>\n",
              "      <th>SF</th>\n",
              "    </tr>\n",
              "  </thead>\n",
              "  <tbody>\n",
              "    <tr>\n",
              "      <th rowspan=\"2\" valign=\"top\">a</th>\n",
              "      <th>1</th>\n",
              "      <td>0</td>\n",
              "      <td>1</td>\n",
              "      <td>2</td>\n",
              "      <td>3</td>\n",
              "    </tr>\n",
              "    <tr>\n",
              "      <th>2</th>\n",
              "      <td>4</td>\n",
              "      <td>5</td>\n",
              "      <td>6</td>\n",
              "      <td>7</td>\n",
              "    </tr>\n",
              "    <tr>\n",
              "      <th rowspan=\"2\" valign=\"top\">b</th>\n",
              "      <th>1</th>\n",
              "      <td>8</td>\n",
              "      <td>9</td>\n",
              "      <td>10</td>\n",
              "      <td>11</td>\n",
              "    </tr>\n",
              "    <tr>\n",
              "      <th>2</th>\n",
              "      <td>12</td>\n",
              "      <td>13</td>\n",
              "      <td>14</td>\n",
              "      <td>15</td>\n",
              "    </tr>\n",
              "  </tbody>\n",
              "</table>\n",
              "</div>"
            ],
            "text/plain": [
              "Temp   cold hot     cold\n",
              "Cities   NY  NY  LA   SF\n",
              "a 1       0   1   2    3\n",
              "  2       4   5   6    7\n",
              "b 1       8   9  10   11\n",
              "  2      12  13  14   15"
            ]
          },
          "metadata": {},
          "execution_count": 138
        }
      ]
    },
    {
      "cell_type": "code",
      "metadata": {
        "colab": {
          "base_uri": "https://localhost:8080/",
          "height": 204
        },
        "id": "emRYSfiog5nJ",
        "outputId": "6db9bf8e-eaa8-4e18-fcdd-e6bc4e1b30fa"
      },
      "source": [
        "dframe2.sort_index(1).sort_index(0)"
      ],
      "execution_count": 141,
      "outputs": [
        {
          "output_type": "execute_result",
          "data": {
            "text/html": [
              "<div>\n",
              "<style scoped>\n",
              "    .dataframe tbody tr th:only-of-type {\n",
              "        vertical-align: middle;\n",
              "    }\n",
              "\n",
              "    .dataframe tbody tr th {\n",
              "        vertical-align: top;\n",
              "    }\n",
              "\n",
              "    .dataframe thead tr th {\n",
              "        text-align: left;\n",
              "    }\n",
              "</style>\n",
              "<table border=\"1\" class=\"dataframe\">\n",
              "  <thead>\n",
              "    <tr>\n",
              "      <th></th>\n",
              "      <th>Cities</th>\n",
              "      <th>LA</th>\n",
              "      <th colspan=\"2\" halign=\"left\">NY</th>\n",
              "      <th>SF</th>\n",
              "    </tr>\n",
              "    <tr>\n",
              "      <th></th>\n",
              "      <th>Temp</th>\n",
              "      <th>hot</th>\n",
              "      <th>cold</th>\n",
              "      <th>hot</th>\n",
              "      <th>cold</th>\n",
              "    </tr>\n",
              "  </thead>\n",
              "  <tbody>\n",
              "    <tr>\n",
              "      <th rowspan=\"2\" valign=\"top\">a</th>\n",
              "      <th>1</th>\n",
              "      <td>2</td>\n",
              "      <td>0</td>\n",
              "      <td>1</td>\n",
              "      <td>3</td>\n",
              "    </tr>\n",
              "    <tr>\n",
              "      <th>2</th>\n",
              "      <td>6</td>\n",
              "      <td>4</td>\n",
              "      <td>5</td>\n",
              "      <td>7</td>\n",
              "    </tr>\n",
              "    <tr>\n",
              "      <th rowspan=\"2\" valign=\"top\">b</th>\n",
              "      <th>1</th>\n",
              "      <td>10</td>\n",
              "      <td>8</td>\n",
              "      <td>9</td>\n",
              "      <td>11</td>\n",
              "    </tr>\n",
              "    <tr>\n",
              "      <th>2</th>\n",
              "      <td>14</td>\n",
              "      <td>12</td>\n",
              "      <td>13</td>\n",
              "      <td>15</td>\n",
              "    </tr>\n",
              "  </tbody>\n",
              "</table>\n",
              "</div>"
            ],
            "text/plain": [
              "Cities  LA   NY       SF\n",
              "Temp   hot cold hot cold\n",
              "a 1      2    0   1    3\n",
              "  2      6    4   5    7\n",
              "b 1     10    8   9   11\n",
              "  2     14   12  13   15"
            ]
          },
          "metadata": {},
          "execution_count": 141
        }
      ]
    },
    {
      "cell_type": "code",
      "metadata": {
        "colab": {
          "base_uri": "https://localhost:8080/",
          "height": 173
        },
        "id": "WrehYOzag8ud",
        "outputId": "9472cfc9-18d6-4188-86e0-b3b98188d174"
      },
      "source": [
        "dframe2.sum(level = 'Temp',axis = 1)"
      ],
      "execution_count": 142,
      "outputs": [
        {
          "output_type": "execute_result",
          "data": {
            "text/html": [
              "<div>\n",
              "<style scoped>\n",
              "    .dataframe tbody tr th:only-of-type {\n",
              "        vertical-align: middle;\n",
              "    }\n",
              "\n",
              "    .dataframe tbody tr th {\n",
              "        vertical-align: top;\n",
              "    }\n",
              "\n",
              "    .dataframe thead th {\n",
              "        text-align: right;\n",
              "    }\n",
              "</style>\n",
              "<table border=\"1\" class=\"dataframe\">\n",
              "  <thead>\n",
              "    <tr style=\"text-align: right;\">\n",
              "      <th></th>\n",
              "      <th>Temp</th>\n",
              "      <th>cold</th>\n",
              "      <th>hot</th>\n",
              "    </tr>\n",
              "  </thead>\n",
              "  <tbody>\n",
              "    <tr>\n",
              "      <th rowspan=\"2\" valign=\"top\">a</th>\n",
              "      <th>1</th>\n",
              "      <td>3</td>\n",
              "      <td>3</td>\n",
              "    </tr>\n",
              "    <tr>\n",
              "      <th>2</th>\n",
              "      <td>11</td>\n",
              "      <td>11</td>\n",
              "    </tr>\n",
              "    <tr>\n",
              "      <th rowspan=\"2\" valign=\"top\">b</th>\n",
              "      <th>1</th>\n",
              "      <td>19</td>\n",
              "      <td>19</td>\n",
              "    </tr>\n",
              "    <tr>\n",
              "      <th>2</th>\n",
              "      <td>27</td>\n",
              "      <td>27</td>\n",
              "    </tr>\n",
              "  </tbody>\n",
              "</table>\n",
              "</div>"
            ],
            "text/plain": [
              "Temp  cold  hot\n",
              "a 1      3    3\n",
              "  2     11   11\n",
              "b 1     19   19\n",
              "  2     27   27"
            ]
          },
          "metadata": {},
          "execution_count": 142
        }
      ]
    },
    {
      "cell_type": "code",
      "metadata": {
        "id": "tUG_8qu5hYMO"
      },
      "source": [
        ""
      ],
      "execution_count": null,
      "outputs": []
    }
  ]
}