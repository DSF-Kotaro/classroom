{
  "nbformat": 4,
  "nbformat_minor": 0,
  "metadata": {
    "colab": {
      "name": "ビッグデータ分析2-3.ipynb",
      "provenance": [],
      "collapsed_sections": [],
      "authorship_tag": "ABX9TyNUyrBvgwZcO4f9bxJkiOvD",
      "include_colab_link": true
    },
    "kernelspec": {
      "name": "python3",
      "display_name": "Python 3"
    },
    "language_info": {
      "name": "python"
    }
  },
  "cells": [
    {
      "cell_type": "markdown",
      "metadata": {
        "id": "view-in-github",
        "colab_type": "text"
      },
      "source": [
        "<a href=\"https://colab.research.google.com/github/DSF-Kotaro/classroom/blob/main/%E3%83%93%E3%83%83%E3%82%B0%E3%83%87%E3%83%BC%E3%82%BF%E5%88%86%E6%9E%902_3.ipynb\" target=\"_parent\"><img src=\"https://colab.research.google.com/assets/colab-badge.svg\" alt=\"Open In Colab\"/></a>"
      ]
    },
    {
      "cell_type": "code",
      "metadata": {
        "id": "MlmNffjTq3LF"
      },
      "source": [
        "import numpy as np"
      ],
      "execution_count": 1,
      "outputs": []
    },
    {
      "cell_type": "code",
      "metadata": {
        "id": "J9XqWPNxrCqT"
      },
      "source": [
        "my_list1 =[1,2,3,4]"
      ],
      "execution_count": 2,
      "outputs": []
    },
    {
      "cell_type": "code",
      "metadata": {
        "colab": {
          "base_uri": "https://localhost:8080/"
        },
        "id": "gpHjbDL8zj9e",
        "outputId": "87ec843e-88ca-4585-9354-1a33df3595d1"
      },
      "source": [
        "my_list1"
      ],
      "execution_count": 100,
      "outputs": [
        {
          "output_type": "execute_result",
          "data": {
            "text/plain": [
              "[1, 2, 3, 4]"
            ]
          },
          "metadata": {},
          "execution_count": 100
        }
      ]
    },
    {
      "cell_type": "code",
      "metadata": {
        "id": "Dd3bJ2eprGnE"
      },
      "source": [
        "my_array1 = np.array(my_list1)"
      ],
      "execution_count": 3,
      "outputs": []
    },
    {
      "cell_type": "code",
      "metadata": {
        "id": "7a4NlNh3rLMY",
        "colab": {
          "base_uri": "https://localhost:8080/"
        },
        "outputId": "3ce8ea08-837d-48ae-e251-36bd709d3092"
      },
      "source": [
        "my_array1"
      ],
      "execution_count": 4,
      "outputs": [
        {
          "output_type": "execute_result",
          "data": {
            "text/plain": [
              "array([1, 2, 3, 4])"
            ]
          },
          "metadata": {},
          "execution_count": 4
        }
      ]
    },
    {
      "cell_type": "code",
      "metadata": {
        "id": "V5Lbvjs2rOF4"
      },
      "source": [
        "my_list2 = [11,22,33,44]"
      ],
      "execution_count": 5,
      "outputs": []
    },
    {
      "cell_type": "code",
      "metadata": {
        "id": "ajaxnrxMrU9h",
        "colab": {
          "base_uri": "https://localhost:8080/"
        },
        "outputId": "b8c0de7e-64ed-4109-db63-17e6b17b1141"
      },
      "source": [
        "my_list2"
      ],
      "execution_count": 6,
      "outputs": [
        {
          "output_type": "execute_result",
          "data": {
            "text/plain": [
              "[11, 22, 33, 44]"
            ]
          },
          "metadata": {},
          "execution_count": 6
        }
      ]
    },
    {
      "cell_type": "code",
      "metadata": {
        "id": "wEKfQakvrWPG",
        "colab": {
          "base_uri": "https://localhost:8080/"
        },
        "outputId": "a04b2517-a091-447f-db5b-2594b857e127"
      },
      "source": [
        "my_lists = [my_list1,my_list2]\n",
        "my_lists"
      ],
      "execution_count": 7,
      "outputs": [
        {
          "output_type": "execute_result",
          "data": {
            "text/plain": [
              "[[1, 2, 3, 4], [11, 22, 33, 44]]"
            ]
          },
          "metadata": {},
          "execution_count": 7
        }
      ]
    },
    {
      "cell_type": "code",
      "metadata": {
        "id": "8ZG6c5mtrcTk",
        "colab": {
          "base_uri": "https://localhost:8080/"
        },
        "outputId": "491aba17-e6bc-43e6-c988-52988d7e8efa"
      },
      "source": [
        "my_array2 = np.array(my_lists)\n",
        "my_array2"
      ],
      "execution_count": 8,
      "outputs": [
        {
          "output_type": "execute_result",
          "data": {
            "text/plain": [
              "array([[ 1,  2,  3,  4],\n",
              "       [11, 22, 33, 44]])"
            ]
          },
          "metadata": {},
          "execution_count": 8
        }
      ]
    },
    {
      "cell_type": "code",
      "metadata": {
        "id": "SrxN7LeYrrYU",
        "colab": {
          "base_uri": "https://localhost:8080/"
        },
        "outputId": "1274a0d8-39ee-48c0-8f82-1c861bc66600"
      },
      "source": [
        "my_array2.shape"
      ],
      "execution_count": 9,
      "outputs": [
        {
          "output_type": "execute_result",
          "data": {
            "text/plain": [
              "(2, 4)"
            ]
          },
          "metadata": {},
          "execution_count": 9
        }
      ]
    },
    {
      "cell_type": "code",
      "metadata": {
        "id": "J6r8WODnrw2G",
        "colab": {
          "base_uri": "https://localhost:8080/"
        },
        "outputId": "0fe6a084-6828-4e9a-db43-cf48dc0f29e0"
      },
      "source": [
        "my_array2.dtype"
      ],
      "execution_count": 10,
      "outputs": [
        {
          "output_type": "execute_result",
          "data": {
            "text/plain": [
              "dtype('int64')"
            ]
          },
          "metadata": {},
          "execution_count": 10
        }
      ]
    },
    {
      "cell_type": "code",
      "metadata": {
        "id": "FpeDJ80crzwY",
        "colab": {
          "base_uri": "https://localhost:8080/"
        },
        "outputId": "ae31498e-ad37-4d7b-eac4-420c90ace51d"
      },
      "source": [
        "np.zeros(5)"
      ],
      "execution_count": 11,
      "outputs": [
        {
          "output_type": "execute_result",
          "data": {
            "text/plain": [
              "array([0., 0., 0., 0., 0.])"
            ]
          },
          "metadata": {},
          "execution_count": 11
        }
      ]
    },
    {
      "cell_type": "code",
      "metadata": {
        "id": "O3IGExfCr4yW",
        "colab": {
          "base_uri": "https://localhost:8080/"
        },
        "outputId": "b95b4eff-f871-4409-984d-1cd47de278d6"
      },
      "source": [
        "my_zeros = np.zeros(5)\n",
        "my_zeros"
      ],
      "execution_count": 12,
      "outputs": [
        {
          "output_type": "execute_result",
          "data": {
            "text/plain": [
              "array([0., 0., 0., 0., 0.])"
            ]
          },
          "metadata": {},
          "execution_count": 12
        }
      ]
    },
    {
      "cell_type": "code",
      "metadata": {
        "id": "GivZ7AvpsEaG",
        "colab": {
          "base_uri": "https://localhost:8080/"
        },
        "outputId": "f976527c-9aef-44ee-c0d6-cd5e088b96e6"
      },
      "source": [
        "np.ones((5,5))"
      ],
      "execution_count": 13,
      "outputs": [
        {
          "output_type": "execute_result",
          "data": {
            "text/plain": [
              "array([[1., 1., 1., 1., 1.],\n",
              "       [1., 1., 1., 1., 1.],\n",
              "       [1., 1., 1., 1., 1.],\n",
              "       [1., 1., 1., 1., 1.],\n",
              "       [1., 1., 1., 1., 1.]])"
            ]
          },
          "metadata": {},
          "execution_count": 13
        }
      ]
    },
    {
      "cell_type": "code",
      "metadata": {
        "id": "7h555WwQsNMU",
        "colab": {
          "base_uri": "https://localhost:8080/"
        },
        "outputId": "e774d629-afcf-4c23-cae0-1fe9f879c515"
      },
      "source": [
        "np.empty((3,4))"
      ],
      "execution_count": 14,
      "outputs": [
        {
          "output_type": "execute_result",
          "data": {
            "text/plain": [
              "array([[4.65666406e-310, 4.65666523e-310, 3.95252517e-323,\n",
              "        4.65666523e-310],\n",
              "       [3.95252517e-323, 4.65666523e-310, 4.44659081e-323,\n",
              "        0.00000000e+000],\n",
              "       [4.65666523e-310, 4.65666523e-310, 4.65666523e-310,\n",
              "        0.00000000e+000]])"
            ]
          },
          "metadata": {},
          "execution_count": 14
        }
      ]
    },
    {
      "cell_type": "code",
      "metadata": {
        "id": "atLmqS47sQvs",
        "colab": {
          "base_uri": "https://localhost:8080/"
        },
        "outputId": "141873e2-7c93-4262-e752-d61e2c04cf50"
      },
      "source": [
        "np.eye(5)"
      ],
      "execution_count": 15,
      "outputs": [
        {
          "output_type": "execute_result",
          "data": {
            "text/plain": [
              "array([[1., 0., 0., 0., 0.],\n",
              "       [0., 1., 0., 0., 0.],\n",
              "       [0., 0., 1., 0., 0.],\n",
              "       [0., 0., 0., 1., 0.],\n",
              "       [0., 0., 0., 0., 1.]])"
            ]
          },
          "metadata": {},
          "execution_count": 15
        }
      ]
    },
    {
      "cell_type": "code",
      "metadata": {
        "id": "7LmURMJOsW0T",
        "colab": {
          "base_uri": "https://localhost:8080/"
        },
        "outputId": "7a14e65d-9fff-4772-deca-5a5786edefac"
      },
      "source": [
        "np.arange(5)"
      ],
      "execution_count": 16,
      "outputs": [
        {
          "output_type": "execute_result",
          "data": {
            "text/plain": [
              "array([0, 1, 2, 3, 4])"
            ]
          },
          "metadata": {},
          "execution_count": 16
        }
      ]
    },
    {
      "cell_type": "code",
      "metadata": {
        "id": "2pBYYPsfscBk",
        "colab": {
          "base_uri": "https://localhost:8080/"
        },
        "outputId": "2c3be537-6186-4788-944c-492fac4d74ce"
      },
      "source": [
        "np.arange(5,50,2)"
      ],
      "execution_count": 17,
      "outputs": [
        {
          "output_type": "execute_result",
          "data": {
            "text/plain": [
              "array([ 5,  7,  9, 11, 13, 15, 17, 19, 21, 23, 25, 27, 29, 31, 33, 35, 37,\n",
              "       39, 41, 43, 45, 47, 49])"
            ]
          },
          "metadata": {},
          "execution_count": 17
        }
      ]
    },
    {
      "cell_type": "code",
      "metadata": {
        "id": "y2xKeQm1si4G",
        "colab": {
          "base_uri": "https://localhost:8080/"
        },
        "outputId": "a5b26f19-aca0-4f2b-8949-8bec31b31d91"
      },
      "source": [
        "5/2"
      ],
      "execution_count": 18,
      "outputs": [
        {
          "output_type": "execute_result",
          "data": {
            "text/plain": [
              "2.5"
            ]
          },
          "metadata": {},
          "execution_count": 18
        }
      ]
    },
    {
      "cell_type": "code",
      "metadata": {
        "id": "MVOIua72swpA",
        "colab": {
          "base_uri": "https://localhost:8080/"
        },
        "outputId": "028094f1-a59e-4179-e37b-7795708d2e59"
      },
      "source": [
        "arr1 = np.array([[1,2,3,4],[8,9,10,11]])\n",
        "arr1"
      ],
      "execution_count": 19,
      "outputs": [
        {
          "output_type": "execute_result",
          "data": {
            "text/plain": [
              "array([[ 1,  2,  3,  4],\n",
              "       [ 8,  9, 10, 11]])"
            ]
          },
          "metadata": {},
          "execution_count": 19
        }
      ]
    },
    {
      "cell_type": "code",
      "metadata": {
        "id": "UbJU0qxMtOpv",
        "colab": {
          "base_uri": "https://localhost:8080/"
        },
        "outputId": "db7b9975-f05d-480f-e967-549ddb004b22"
      },
      "source": [
        "arr1 * arr1"
      ],
      "execution_count": 20,
      "outputs": [
        {
          "output_type": "execute_result",
          "data": {
            "text/plain": [
              "array([[  1,   4,   9,  16],\n",
              "       [ 64,  81, 100, 121]])"
            ]
          },
          "metadata": {},
          "execution_count": 20
        }
      ]
    },
    {
      "cell_type": "code",
      "metadata": {
        "id": "Rh4IjtyRtQbC",
        "colab": {
          "base_uri": "https://localhost:8080/"
        },
        "outputId": "02a494af-7647-4510-ea70-fcf945292825"
      },
      "source": [
        "arr1 - arr1"
      ],
      "execution_count": 21,
      "outputs": [
        {
          "output_type": "execute_result",
          "data": {
            "text/plain": [
              "array([[0, 0, 0, 0],\n",
              "       [0, 0, 0, 0]])"
            ]
          },
          "metadata": {},
          "execution_count": 21
        }
      ]
    },
    {
      "cell_type": "code",
      "metadata": {
        "id": "4BQyqo7stV3_",
        "colab": {
          "base_uri": "https://localhost:8080/"
        },
        "outputId": "e11c29c7-cbac-4680-a28e-4ab0b85b7c65"
      },
      "source": [
        "1 / arr1"
      ],
      "execution_count": 22,
      "outputs": [
        {
          "output_type": "execute_result",
          "data": {
            "text/plain": [
              "array([[1.        , 0.5       , 0.33333333, 0.25      ],\n",
              "       [0.125     , 0.11111111, 0.1       , 0.09090909]])"
            ]
          },
          "metadata": {},
          "execution_count": 22
        }
      ]
    },
    {
      "cell_type": "code",
      "metadata": {
        "id": "41oJPGc7tcJ7",
        "colab": {
          "base_uri": "https://localhost:8080/"
        },
        "outputId": "3bcb5b63-29cd-45c4-98fc-8cf520b04b58"
      },
      "source": [
        "arr1 ** 3"
      ],
      "execution_count": 23,
      "outputs": [
        {
          "output_type": "execute_result",
          "data": {
            "text/plain": [
              "array([[   1,    8,   27,   64],\n",
              "       [ 512,  729, 1000, 1331]])"
            ]
          },
          "metadata": {},
          "execution_count": 23
        }
      ]
    },
    {
      "cell_type": "code",
      "metadata": {
        "id": "08Ok148OtktC",
        "colab": {
          "base_uri": "https://localhost:8080/"
        },
        "outputId": "3a1c5868-e31f-4998-a2bc-94919c9045de"
      },
      "source": [
        "arr = np.arange(0,11)\n",
        "arr"
      ],
      "execution_count": 106,
      "outputs": [
        {
          "output_type": "execute_result",
          "data": {
            "text/plain": [
              "array([ 0,  1,  2,  3,  4,  5,  6,  7,  8,  9, 10])"
            ]
          },
          "metadata": {},
          "execution_count": 106
        }
      ]
    },
    {
      "cell_type": "code",
      "metadata": {
        "id": "7wVTUQ2Ct3cM",
        "colab": {
          "base_uri": "https://localhost:8080/"
        },
        "outputId": "addb4555-6b09-4a96-ae38-0167b1e47f59"
      },
      "source": [
        "arr[8]"
      ],
      "execution_count": 107,
      "outputs": [
        {
          "output_type": "execute_result",
          "data": {
            "text/plain": [
              "8"
            ]
          },
          "metadata": {},
          "execution_count": 107
        }
      ]
    },
    {
      "cell_type": "code",
      "metadata": {
        "id": "Ai2fdckauAVI",
        "colab": {
          "base_uri": "https://localhost:8080/"
        },
        "outputId": "503ea862-1508-4872-b568-a8e2edb928e4"
      },
      "source": [
        "arr[0]"
      ],
      "execution_count": 26,
      "outputs": [
        {
          "output_type": "execute_result",
          "data": {
            "text/plain": [
              "0"
            ]
          },
          "metadata": {},
          "execution_count": 26
        }
      ]
    },
    {
      "cell_type": "code",
      "metadata": {
        "id": "0RkEiVsUuEES",
        "colab": {
          "base_uri": "https://localhost:8080/"
        },
        "outputId": "210baa7f-afbb-4d61-dad9-5da654a7f4b4"
      },
      "source": [
        "arr[1:5]"
      ],
      "execution_count": 27,
      "outputs": [
        {
          "output_type": "execute_result",
          "data": {
            "text/plain": [
              "array([1, 2, 3, 4])"
            ]
          },
          "metadata": {},
          "execution_count": 27
        }
      ]
    },
    {
      "cell_type": "code",
      "metadata": {
        "id": "myL3Hg-8uGjk"
      },
      "source": [
        "arr[0:5] = 100"
      ],
      "execution_count": 28,
      "outputs": []
    },
    {
      "cell_type": "code",
      "metadata": {
        "id": "6hskhUDUuUqh",
        "colab": {
          "base_uri": "https://localhost:8080/"
        },
        "outputId": "e9857cf1-a21b-47c7-9c83-72a1a2d98ff5"
      },
      "source": [
        "arr"
      ],
      "execution_count": 29,
      "outputs": [
        {
          "output_type": "execute_result",
          "data": {
            "text/plain": [
              "array([100, 100, 100, 100, 100,   5,   6,   7,   8,   9,  10])"
            ]
          },
          "metadata": {},
          "execution_count": 29
        }
      ]
    },
    {
      "cell_type": "code",
      "metadata": {
        "id": "00mA3RKquVl0"
      },
      "source": [
        "arr = np.arange(0,11)"
      ],
      "execution_count": 30,
      "outputs": []
    },
    {
      "cell_type": "code",
      "metadata": {
        "id": "rx14WrdAudWX",
        "colab": {
          "base_uri": "https://localhost:8080/"
        },
        "outputId": "ce94f98e-f25d-49d4-e3ef-2e0157f18e0a"
      },
      "source": [
        "arr"
      ],
      "execution_count": 31,
      "outputs": [
        {
          "output_type": "execute_result",
          "data": {
            "text/plain": [
              "array([ 0,  1,  2,  3,  4,  5,  6,  7,  8,  9, 10])"
            ]
          },
          "metadata": {},
          "execution_count": 31
        }
      ]
    },
    {
      "cell_type": "code",
      "metadata": {
        "id": "mlVU8PhvudwL"
      },
      "source": [
        "slice_arr = arr[0:6]"
      ],
      "execution_count": 32,
      "outputs": []
    },
    {
      "cell_type": "code",
      "metadata": {
        "id": "nkH4QdmoujQA",
        "colab": {
          "base_uri": "https://localhost:8080/"
        },
        "outputId": "d480a7eb-7ea7-4280-be2a-903825a79927"
      },
      "source": [
        "slice_arr"
      ],
      "execution_count": 33,
      "outputs": [
        {
          "output_type": "execute_result",
          "data": {
            "text/plain": [
              "array([0, 1, 2, 3, 4, 5])"
            ]
          },
          "metadata": {},
          "execution_count": 33
        }
      ]
    },
    {
      "cell_type": "code",
      "metadata": {
        "id": "TSiG1hTPukcy"
      },
      "source": [
        "slice_arr[:] = 99"
      ],
      "execution_count": 34,
      "outputs": []
    },
    {
      "cell_type": "code",
      "metadata": {
        "id": "44Qat2nSuoFu",
        "colab": {
          "base_uri": "https://localhost:8080/"
        },
        "outputId": "01c4bfce-dc98-4d22-b9f3-975bf66ff15e"
      },
      "source": [
        "slice_arr"
      ],
      "execution_count": 35,
      "outputs": [
        {
          "output_type": "execute_result",
          "data": {
            "text/plain": [
              "array([99, 99, 99, 99, 99, 99])"
            ]
          },
          "metadata": {},
          "execution_count": 35
        }
      ]
    },
    {
      "cell_type": "code",
      "metadata": {
        "id": "SNB4RWjXus6U",
        "colab": {
          "base_uri": "https://localhost:8080/"
        },
        "outputId": "65ee0dd8-c34a-434c-ceb8-b7ec6ec363d3"
      },
      "source": [
        "arr"
      ],
      "execution_count": 36,
      "outputs": [
        {
          "output_type": "execute_result",
          "data": {
            "text/plain": [
              "array([99, 99, 99, 99, 99, 99,  6,  7,  8,  9, 10])"
            ]
          },
          "metadata": {},
          "execution_count": 36
        }
      ]
    },
    {
      "cell_type": "code",
      "metadata": {
        "id": "w2q6N4n5uuGI",
        "colab": {
          "base_uri": "https://localhost:8080/"
        },
        "outputId": "099a30db-c5b2-40e8-deac-4de789cbbf1e"
      },
      "source": [
        "arr_copy = arr.copy()\n",
        "arr_copy"
      ],
      "execution_count": 37,
      "outputs": [
        {
          "output_type": "execute_result",
          "data": {
            "text/plain": [
              "array([99, 99, 99, 99, 99, 99,  6,  7,  8,  9, 10])"
            ]
          },
          "metadata": {},
          "execution_count": 37
        }
      ]
    },
    {
      "cell_type": "code",
      "metadata": {
        "id": "dsD_6pivu-mT"
      },
      "source": [
        "arr_copy[:] = 50"
      ],
      "execution_count": 38,
      "outputs": []
    },
    {
      "cell_type": "code",
      "metadata": {
        "id": "HAH7Y7gMvFB7",
        "colab": {
          "base_uri": "https://localhost:8080/"
        },
        "outputId": "e483abfe-5a45-4b7c-c5d5-5562a107d1ea"
      },
      "source": [
        "arr_copy"
      ],
      "execution_count": 39,
      "outputs": [
        {
          "output_type": "execute_result",
          "data": {
            "text/plain": [
              "array([50, 50, 50, 50, 50, 50, 50, 50, 50, 50, 50])"
            ]
          },
          "metadata": {},
          "execution_count": 39
        }
      ]
    },
    {
      "cell_type": "code",
      "metadata": {
        "id": "PI_61pjfvTUe",
        "colab": {
          "base_uri": "https://localhost:8080/"
        },
        "outputId": "4bf90460-caa8-4f66-a3c2-29f8da6d1255"
      },
      "source": [
        "arr"
      ],
      "execution_count": 40,
      "outputs": [
        {
          "output_type": "execute_result",
          "data": {
            "text/plain": [
              "array([99, 99, 99, 99, 99, 99,  6,  7,  8,  9, 10])"
            ]
          },
          "metadata": {},
          "execution_count": 40
        }
      ]
    },
    {
      "cell_type": "code",
      "metadata": {
        "id": "7qIpZFZovVis"
      },
      "source": [
        "arr_2d = np.array([[5,10,15],[20,25,30],[35,40,45]])"
      ],
      "execution_count": 41,
      "outputs": []
    },
    {
      "cell_type": "code",
      "metadata": {
        "id": "A8LmDgT-vjQE",
        "colab": {
          "base_uri": "https://localhost:8080/"
        },
        "outputId": "cae1d724-7ef0-4c07-f5c0-e0c9649f8c6f"
      },
      "source": [
        "arr_2d"
      ],
      "execution_count": 42,
      "outputs": [
        {
          "output_type": "execute_result",
          "data": {
            "text/plain": [
              "array([[ 5, 10, 15],\n",
              "       [20, 25, 30],\n",
              "       [35, 40, 45]])"
            ]
          },
          "metadata": {},
          "execution_count": 42
        }
      ]
    },
    {
      "cell_type": "code",
      "metadata": {
        "id": "MmSJX_9Uvo3f",
        "colab": {
          "base_uri": "https://localhost:8080/"
        },
        "outputId": "b6814d80-4bd0-4205-97c5-0e4d8b6d2824"
      },
      "source": [
        "arr_2d[1]"
      ],
      "execution_count": 43,
      "outputs": [
        {
          "output_type": "execute_result",
          "data": {
            "text/plain": [
              "array([20, 25, 30])"
            ]
          },
          "metadata": {},
          "execution_count": 43
        }
      ]
    },
    {
      "cell_type": "code",
      "metadata": {
        "id": "-1up3rjbvrAI",
        "colab": {
          "base_uri": "https://localhost:8080/"
        },
        "outputId": "bb951cd5-6aa2-4db1-f0f0-7c6782b74bd1"
      },
      "source": [
        "arr_2d[1][0]"
      ],
      "execution_count": 44,
      "outputs": [
        {
          "output_type": "execute_result",
          "data": {
            "text/plain": [
              "20"
            ]
          },
          "metadata": {},
          "execution_count": 44
        }
      ]
    },
    {
      "cell_type": "code",
      "metadata": {
        "id": "F-Fyv7vOvw-i",
        "colab": {
          "base_uri": "https://localhost:8080/"
        },
        "outputId": "a7b21e43-f633-43d1-cb80-a4ed3f63ffee"
      },
      "source": [
        "arr_2d[1,0]"
      ],
      "execution_count": 45,
      "outputs": [
        {
          "output_type": "execute_result",
          "data": {
            "text/plain": [
              "20"
            ]
          },
          "metadata": {},
          "execution_count": 45
        }
      ]
    },
    {
      "cell_type": "code",
      "metadata": {
        "id": "S2-PNBK5vzM9",
        "colab": {
          "base_uri": "https://localhost:8080/"
        },
        "outputId": "3f821f4d-0e09-4362-d840-560253fa646a"
      },
      "source": [
        "arr_2d"
      ],
      "execution_count": 46,
      "outputs": [
        {
          "output_type": "execute_result",
          "data": {
            "text/plain": [
              "array([[ 5, 10, 15],\n",
              "       [20, 25, 30],\n",
              "       [35, 40, 45]])"
            ]
          },
          "metadata": {},
          "execution_count": 46
        }
      ]
    },
    {
      "cell_type": "code",
      "metadata": {
        "id": "RZGsQ9Ycv0_W",
        "colab": {
          "base_uri": "https://localhost:8080/"
        },
        "outputId": "c419a088-c558-48b6-a626-12d8d9a03faf"
      },
      "source": [
        "arr_2d[:2,1:]"
      ],
      "execution_count": 47,
      "outputs": [
        {
          "output_type": "execute_result",
          "data": {
            "text/plain": [
              "array([[10, 15],\n",
              "       [25, 30]])"
            ]
          },
          "metadata": {},
          "execution_count": 47
        }
      ]
    },
    {
      "cell_type": "code",
      "metadata": {
        "id": "riToAhXvv6wC",
        "colab": {
          "base_uri": "https://localhost:8080/"
        },
        "outputId": "dd602ffa-1ee6-4169-af94-9b932113218d"
      },
      "source": [
        "arr_2d[2]"
      ],
      "execution_count": 48,
      "outputs": [
        {
          "output_type": "execute_result",
          "data": {
            "text/plain": [
              "array([35, 40, 45])"
            ]
          },
          "metadata": {},
          "execution_count": 48
        }
      ]
    },
    {
      "cell_type": "code",
      "metadata": {
        "id": "QGUuFFk6v9kn",
        "colab": {
          "base_uri": "https://localhost:8080/"
        },
        "outputId": "7cfb5999-8044-4e5b-9d69-91e64f1de455"
      },
      "source": [
        "arr_2d[2,:]"
      ],
      "execution_count": 49,
      "outputs": [
        {
          "output_type": "execute_result",
          "data": {
            "text/plain": [
              "array([35, 40, 45])"
            ]
          },
          "metadata": {},
          "execution_count": 49
        }
      ]
    },
    {
      "cell_type": "code",
      "metadata": {
        "id": "UChIXE6zwASb",
        "colab": {
          "base_uri": "https://localhost:8080/"
        },
        "outputId": "fe7ac0e7-80e6-47c0-b4ae-ae028ea8f98b"
      },
      "source": [
        "arr2d = np.zeros((10,10))\n",
        "arr2d"
      ],
      "execution_count": 50,
      "outputs": [
        {
          "output_type": "execute_result",
          "data": {
            "text/plain": [
              "array([[0., 0., 0., 0., 0., 0., 0., 0., 0., 0.],\n",
              "       [0., 0., 0., 0., 0., 0., 0., 0., 0., 0.],\n",
              "       [0., 0., 0., 0., 0., 0., 0., 0., 0., 0.],\n",
              "       [0., 0., 0., 0., 0., 0., 0., 0., 0., 0.],\n",
              "       [0., 0., 0., 0., 0., 0., 0., 0., 0., 0.],\n",
              "       [0., 0., 0., 0., 0., 0., 0., 0., 0., 0.],\n",
              "       [0., 0., 0., 0., 0., 0., 0., 0., 0., 0.],\n",
              "       [0., 0., 0., 0., 0., 0., 0., 0., 0., 0.],\n",
              "       [0., 0., 0., 0., 0., 0., 0., 0., 0., 0.],\n",
              "       [0., 0., 0., 0., 0., 0., 0., 0., 0., 0.]])"
            ]
          },
          "metadata": {},
          "execution_count": 50
        }
      ]
    },
    {
      "cell_type": "code",
      "metadata": {
        "id": "SxIVTyOFwGZU"
      },
      "source": [
        "arr_length = arr2d.shape[1]"
      ],
      "execution_count": 51,
      "outputs": []
    },
    {
      "cell_type": "code",
      "metadata": {
        "id": "FkswJs2nwPn3"
      },
      "source": [
        "for i in range(arr_length):\n",
        "  arr2d[i] = i"
      ],
      "execution_count": 52,
      "outputs": []
    },
    {
      "cell_type": "code",
      "metadata": {
        "id": "GXsQfCY_wYCo",
        "colab": {
          "base_uri": "https://localhost:8080/"
        },
        "outputId": "50fe6d05-494c-44af-f1fd-48928c4efa71"
      },
      "source": [
        "arr2d"
      ],
      "execution_count": 53,
      "outputs": [
        {
          "output_type": "execute_result",
          "data": {
            "text/plain": [
              "array([[0., 0., 0., 0., 0., 0., 0., 0., 0., 0.],\n",
              "       [1., 1., 1., 1., 1., 1., 1., 1., 1., 1.],\n",
              "       [2., 2., 2., 2., 2., 2., 2., 2., 2., 2.],\n",
              "       [3., 3., 3., 3., 3., 3., 3., 3., 3., 3.],\n",
              "       [4., 4., 4., 4., 4., 4., 4., 4., 4., 4.],\n",
              "       [5., 5., 5., 5., 5., 5., 5., 5., 5., 5.],\n",
              "       [6., 6., 6., 6., 6., 6., 6., 6., 6., 6.],\n",
              "       [7., 7., 7., 7., 7., 7., 7., 7., 7., 7.],\n",
              "       [8., 8., 8., 8., 8., 8., 8., 8., 8., 8.],\n",
              "       [9., 9., 9., 9., 9., 9., 9., 9., 9., 9.]])"
            ]
          },
          "metadata": {},
          "execution_count": 53
        }
      ]
    },
    {
      "cell_type": "code",
      "metadata": {
        "id": "mS72n6AlwcOZ",
        "colab": {
          "base_uri": "https://localhost:8080/"
        },
        "outputId": "8752b419-736b-4204-f5ca-db7982cae416"
      },
      "source": [
        "arr2d[[2,4,6,8]]"
      ],
      "execution_count": 54,
      "outputs": [
        {
          "output_type": "execute_result",
          "data": {
            "text/plain": [
              "array([[2., 2., 2., 2., 2., 2., 2., 2., 2., 2.],\n",
              "       [4., 4., 4., 4., 4., 4., 4., 4., 4., 4.],\n",
              "       [6., 6., 6., 6., 6., 6., 6., 6., 6., 6.],\n",
              "       [8., 8., 8., 8., 8., 8., 8., 8., 8., 8.]])"
            ]
          },
          "metadata": {},
          "execution_count": 54
        }
      ]
    },
    {
      "cell_type": "code",
      "metadata": {
        "id": "UfvKXfs9wjss",
        "colab": {
          "base_uri": "https://localhost:8080/"
        },
        "outputId": "ebaa348a-32cc-4eaf-b054-be09f3b5a96c"
      },
      "source": [
        "arr2d[[6,4,2,7]]"
      ],
      "execution_count": 55,
      "outputs": [
        {
          "output_type": "execute_result",
          "data": {
            "text/plain": [
              "array([[6., 6., 6., 6., 6., 6., 6., 6., 6., 6.],\n",
              "       [4., 4., 4., 4., 4., 4., 4., 4., 4., 4.],\n",
              "       [2., 2., 2., 2., 2., 2., 2., 2., 2., 2.],\n",
              "       [7., 7., 7., 7., 7., 7., 7., 7., 7., 7.]])"
            ]
          },
          "metadata": {},
          "execution_count": 55
        }
      ]
    },
    {
      "cell_type": "code",
      "metadata": {
        "id": "-R_XSsPiwp2j",
        "colab": {
          "base_uri": "https://localhost:8080/"
        },
        "outputId": "ae3dbc53-6f7d-42b4-8fb2-7c6f071317d4"
      },
      "source": [
        "arr2d"
      ],
      "execution_count": 56,
      "outputs": [
        {
          "output_type": "execute_result",
          "data": {
            "text/plain": [
              "array([[0., 0., 0., 0., 0., 0., 0., 0., 0., 0.],\n",
              "       [1., 1., 1., 1., 1., 1., 1., 1., 1., 1.],\n",
              "       [2., 2., 2., 2., 2., 2., 2., 2., 2., 2.],\n",
              "       [3., 3., 3., 3., 3., 3., 3., 3., 3., 3.],\n",
              "       [4., 4., 4., 4., 4., 4., 4., 4., 4., 4.],\n",
              "       [5., 5., 5., 5., 5., 5., 5., 5., 5., 5.],\n",
              "       [6., 6., 6., 6., 6., 6., 6., 6., 6., 6.],\n",
              "       [7., 7., 7., 7., 7., 7., 7., 7., 7., 7.],\n",
              "       [8., 8., 8., 8., 8., 8., 8., 8., 8., 8.],\n",
              "       [9., 9., 9., 9., 9., 9., 9., 9., 9., 9.]])"
            ]
          },
          "metadata": {},
          "execution_count": 56
        }
      ]
    },
    {
      "cell_type": "code",
      "metadata": {
        "id": "I9Arw9sbwquA",
        "colab": {
          "base_uri": "https://localhost:8080/"
        },
        "outputId": "a37baab5-a04c-4e17-95c5-58e85971d7ac"
      },
      "source": [
        "arr = np.arange(9).reshape((3,3))\n",
        "arr"
      ],
      "execution_count": 57,
      "outputs": [
        {
          "output_type": "execute_result",
          "data": {
            "text/plain": [
              "array([[0, 1, 2],\n",
              "       [3, 4, 5],\n",
              "       [6, 7, 8]])"
            ]
          },
          "metadata": {},
          "execution_count": 57
        }
      ]
    },
    {
      "cell_type": "code",
      "metadata": {
        "id": "1l7CV0Ba1tGQ",
        "colab": {
          "base_uri": "https://localhost:8080/"
        },
        "outputId": "e3f620f7-c88a-4057-8cb6-403d1b87d9e4"
      },
      "source": [
        "arr.T"
      ],
      "execution_count": 58,
      "outputs": [
        {
          "output_type": "execute_result",
          "data": {
            "text/plain": [
              "array([[0, 3, 6],\n",
              "       [1, 4, 7],\n",
              "       [2, 5, 8]])"
            ]
          },
          "metadata": {},
          "execution_count": 58
        }
      ]
    },
    {
      "cell_type": "code",
      "metadata": {
        "id": "Sa2LjqlE10Dk",
        "colab": {
          "base_uri": "https://localhost:8080/"
        },
        "outputId": "23cdceca-7519-4349-dde4-46c77cfdc3b6"
      },
      "source": [
        "arr.transpose()"
      ],
      "execution_count": 59,
      "outputs": [
        {
          "output_type": "execute_result",
          "data": {
            "text/plain": [
              "array([[0, 3, 6],\n",
              "       [1, 4, 7],\n",
              "       [2, 5, 8]])"
            ]
          },
          "metadata": {},
          "execution_count": 59
        }
      ]
    },
    {
      "cell_type": "code",
      "metadata": {
        "id": "Xw7x4lbB18uU",
        "colab": {
          "base_uri": "https://localhost:8080/"
        },
        "outputId": "c1c0fd5b-6f06-4efa-ad87-9f04912209c3"
      },
      "source": [
        "arr.transpose((0,1))"
      ],
      "execution_count": 60,
      "outputs": [
        {
          "output_type": "execute_result",
          "data": {
            "text/plain": [
              "array([[0, 1, 2],\n",
              "       [3, 4, 5],\n",
              "       [6, 7, 8]])"
            ]
          },
          "metadata": {},
          "execution_count": 60
        }
      ]
    },
    {
      "cell_type": "code",
      "metadata": {
        "id": "SnOJKKBU2AYb",
        "colab": {
          "base_uri": "https://localhost:8080/"
        },
        "outputId": "f67293a8-d2be-46e5-a270-244f7d1f2f3d"
      },
      "source": [
        "arr.transpose((1,0))"
      ],
      "execution_count": 61,
      "outputs": [
        {
          "output_type": "execute_result",
          "data": {
            "text/plain": [
              "array([[0, 3, 6],\n",
              "       [1, 4, 7],\n",
              "       [2, 5, 8]])"
            ]
          },
          "metadata": {},
          "execution_count": 61
        }
      ]
    },
    {
      "cell_type": "code",
      "metadata": {
        "id": "TjrPyyUS2U2G",
        "colab": {
          "base_uri": "https://localhost:8080/"
        },
        "outputId": "9a429196-b4f3-4f60-9af2-8d80aa4e2e60"
      },
      "source": [
        "arr"
      ],
      "execution_count": 62,
      "outputs": [
        {
          "output_type": "execute_result",
          "data": {
            "text/plain": [
              "array([[0, 1, 2],\n",
              "       [3, 4, 5],\n",
              "       [6, 7, 8]])"
            ]
          },
          "metadata": {},
          "execution_count": 62
        }
      ]
    },
    {
      "cell_type": "code",
      "metadata": {
        "id": "Y_gtJ73c2a9K",
        "colab": {
          "base_uri": "https://localhost:8080/"
        },
        "outputId": "17e44ef2-8f35-490c-b4fa-2a34ed8c4865"
      },
      "source": [
        "np.dot(arr.T,arr)"
      ],
      "execution_count": 63,
      "outputs": [
        {
          "output_type": "execute_result",
          "data": {
            "text/plain": [
              "array([[45, 54, 63],\n",
              "       [54, 66, 78],\n",
              "       [63, 78, 93]])"
            ]
          },
          "metadata": {},
          "execution_count": 63
        }
      ]
    },
    {
      "cell_type": "code",
      "metadata": {
        "id": "K9JYr6RO2zvh",
        "colab": {
          "base_uri": "https://localhost:8080/"
        },
        "outputId": "c5d5142a-3c6d-47ce-b954-6d2c9bc5e14a"
      },
      "source": [
        "arr = np.arange(11)\n",
        "arr"
      ],
      "execution_count": 64,
      "outputs": [
        {
          "output_type": "execute_result",
          "data": {
            "text/plain": [
              "array([ 0,  1,  2,  3,  4,  5,  6,  7,  8,  9, 10])"
            ]
          },
          "metadata": {},
          "execution_count": 64
        }
      ]
    },
    {
      "cell_type": "code",
      "metadata": {
        "id": "ob3msTDr3HwW",
        "colab": {
          "base_uri": "https://localhost:8080/"
        },
        "outputId": "a2374497-cc8c-4060-bece-2426860d0563"
      },
      "source": [
        "np.sqrt(arr)"
      ],
      "execution_count": 65,
      "outputs": [
        {
          "output_type": "execute_result",
          "data": {
            "text/plain": [
              "array([0.        , 1.        , 1.41421356, 1.73205081, 2.        ,\n",
              "       2.23606798, 2.44948974, 2.64575131, 2.82842712, 3.        ,\n",
              "       3.16227766])"
            ]
          },
          "metadata": {},
          "execution_count": 65
        }
      ]
    },
    {
      "cell_type": "code",
      "metadata": {
        "id": "QywmX40O3KeN",
        "colab": {
          "base_uri": "https://localhost:8080/"
        },
        "outputId": "0ff39cb1-8cc4-4b55-dc47-ce541e7dbbcb"
      },
      "source": [
        "np.exp(arr)"
      ],
      "execution_count": 66,
      "outputs": [
        {
          "output_type": "execute_result",
          "data": {
            "text/plain": [
              "array([1.00000000e+00, 2.71828183e+00, 7.38905610e+00, 2.00855369e+01,\n",
              "       5.45981500e+01, 1.48413159e+02, 4.03428793e+02, 1.09663316e+03,\n",
              "       2.98095799e+03, 8.10308393e+03, 2.20264658e+04])"
            ]
          },
          "metadata": {},
          "execution_count": 66
        }
      ]
    },
    {
      "cell_type": "code",
      "metadata": {
        "id": "TgG0R8UD3RVB",
        "colab": {
          "base_uri": "https://localhost:8080/"
        },
        "outputId": "d4932f3a-0b15-40e1-be7a-7ac190731c78"
      },
      "source": [
        "A = np.random.randn(10)\n",
        "A"
      ],
      "execution_count": 67,
      "outputs": [
        {
          "output_type": "execute_result",
          "data": {
            "text/plain": [
              "array([-0.06868043,  0.83367947,  0.66068561, -1.51273519, -0.47223557,\n",
              "        0.04936491, -3.12730275, -0.67539497,  1.49470869, -0.61053305])"
            ]
          },
          "metadata": {},
          "execution_count": 67
        }
      ]
    },
    {
      "cell_type": "code",
      "metadata": {
        "id": "6i1olGSx3cZ6",
        "colab": {
          "base_uri": "https://localhost:8080/"
        },
        "outputId": "696ecee0-94b6-4c4a-9582-a778d0ef2f52"
      },
      "source": [
        "B = np.random.randn(10)\n",
        "B"
      ],
      "execution_count": 68,
      "outputs": [
        {
          "output_type": "execute_result",
          "data": {
            "text/plain": [
              "array([-0.14333654, -0.37559724, -0.31776292,  0.49467676, -1.96535874,\n",
              "        0.08430863, -0.20836786,  0.17804674, -0.02077629,  0.43669323])"
            ]
          },
          "metadata": {},
          "execution_count": 68
        }
      ]
    },
    {
      "cell_type": "code",
      "metadata": {
        "id": "n5wFjyVW3lvg",
        "colab": {
          "base_uri": "https://localhost:8080/"
        },
        "outputId": "cdbcc0ba-617a-4fee-e767-a92d80e6bc44"
      },
      "source": [
        "np.add(A,B)"
      ],
      "execution_count": 69,
      "outputs": [
        {
          "output_type": "execute_result",
          "data": {
            "text/plain": [
              "array([-0.21201697,  0.45808223,  0.34292269, -1.01805844, -2.43759432,\n",
              "        0.13367354, -3.33567061, -0.49734824,  1.4739324 , -0.17383982])"
            ]
          },
          "metadata": {},
          "execution_count": 69
        }
      ]
    },
    {
      "cell_type": "code",
      "metadata": {
        "id": "RXUo7Dpu3oXe",
        "colab": {
          "base_uri": "https://localhost:8080/"
        },
        "outputId": "28a8c6fe-02ec-41e6-ba0d-05c4b21ddd27"
      },
      "source": [
        "np.maximum(A,B)"
      ],
      "execution_count": 70,
      "outputs": [
        {
          "output_type": "execute_result",
          "data": {
            "text/plain": [
              "array([-0.06868043,  0.83367947,  0.66068561,  0.49467676, -0.47223557,\n",
              "        0.08430863, -0.20836786,  0.17804674,  1.49470869,  0.43669323])"
            ]
          },
          "metadata": {},
          "execution_count": 70
        }
      ]
    },
    {
      "cell_type": "code",
      "metadata": {
        "id": "4QEgrvh_3yfe"
      },
      "source": [
        "import matplotlib.pyplot as plt"
      ],
      "execution_count": 71,
      "outputs": []
    },
    {
      "cell_type": "code",
      "metadata": {
        "id": "QrjBqZ_v4GJk",
        "colab": {
          "base_uri": "https://localhost:8080/"
        },
        "outputId": "793b8165-6471-48e3-d519-b9df4e020eb7"
      },
      "source": [
        "points = np.arange(-5,5,0.01)\n",
        "dx,dy = np.meshgrid(points,points)\n",
        "dx"
      ],
      "execution_count": 72,
      "outputs": [
        {
          "output_type": "execute_result",
          "data": {
            "text/plain": [
              "array([[-5.  , -4.99, -4.98, ...,  4.97,  4.98,  4.99],\n",
              "       [-5.  , -4.99, -4.98, ...,  4.97,  4.98,  4.99],\n",
              "       [-5.  , -4.99, -4.98, ...,  4.97,  4.98,  4.99],\n",
              "       ...,\n",
              "       [-5.  , -4.99, -4.98, ...,  4.97,  4.98,  4.99],\n",
              "       [-5.  , -4.99, -4.98, ...,  4.97,  4.98,  4.99],\n",
              "       [-5.  , -4.99, -4.98, ...,  4.97,  4.98,  4.99]])"
            ]
          },
          "metadata": {},
          "execution_count": 72
        }
      ]
    },
    {
      "cell_type": "code",
      "metadata": {
        "id": "3RNAqo1l4T8X",
        "colab": {
          "base_uri": "https://localhost:8080/"
        },
        "outputId": "c1926643-6129-4001-8888-4cd0a0bf285b"
      },
      "source": [
        "dy"
      ],
      "execution_count": 73,
      "outputs": [
        {
          "output_type": "execute_result",
          "data": {
            "text/plain": [
              "array([[-5.  , -5.  , -5.  , ..., -5.  , -5.  , -5.  ],\n",
              "       [-4.99, -4.99, -4.99, ..., -4.99, -4.99, -4.99],\n",
              "       [-4.98, -4.98, -4.98, ..., -4.98, -4.98, -4.98],\n",
              "       ...,\n",
              "       [ 4.97,  4.97,  4.97, ...,  4.97,  4.97,  4.97],\n",
              "       [ 4.98,  4.98,  4.98, ...,  4.98,  4.98,  4.98],\n",
              "       [ 4.99,  4.99,  4.99, ...,  4.99,  4.99,  4.99]])"
            ]
          },
          "metadata": {},
          "execution_count": 73
        }
      ]
    },
    {
      "cell_type": "code",
      "metadata": {
        "id": "d78r_Z434VL5",
        "colab": {
          "base_uri": "https://localhost:8080/",
          "height": 287
        },
        "outputId": "ee10eee5-eec2-418b-960e-f6c4714e81fd"
      },
      "source": [
        "plt.imshow(dx)"
      ],
      "execution_count": 74,
      "outputs": [
        {
          "output_type": "execute_result",
          "data": {
            "text/plain": [
              "<matplotlib.image.AxesImage at 0x7f41c575d710>"
            ]
          },
          "metadata": {},
          "execution_count": 74
        },
        {
          "output_type": "display_data",
          "data": {
            "image/png": "[encoded data removed]",
            "text/plain": [
              "<Figure size 432x288 with 1 Axes>"
            ]
          },
          "metadata": {
            "needs_background": "light"
          }
        }
      ]
    },
    {
      "cell_type": "code",
      "metadata": {
        "id": "HBDO_2XD4cGz",
        "colab": {
          "base_uri": "https://localhost:8080/",
          "height": 287
        },
        "outputId": "f7c1f288-6ad3-4949-fd66-8478fa73b49d"
      },
      "source": [
        "plt.imshow(dy)"
      ],
      "execution_count": 75,
      "outputs": [
        {
          "output_type": "execute_result",
          "data": {
            "text/plain": [
              "<matplotlib.image.AxesImage at 0x7f41c51ebf10>"
            ]
          },
          "metadata": {},
          "execution_count": 75
        },
        {
          "output_type": "display_data",
          "data": {
            "image/png": "[encoded data removed]",
            "text/plain": [
              "<Figure size 432x288 with 1 Axes>"
            ]
          },
          "metadata": {
            "needs_background": "light"
          }
        }
      ]
    },
    {
      "cell_type": "code",
      "metadata": {
        "id": "25AqyfVB4fbT",
        "colab": {
          "base_uri": "https://localhost:8080/"
        },
        "outputId": "e6035069-04a7-413d-8bf1-b708f7e3a356"
      },
      "source": [
        "z = (np.sin(dx) + np.sin(dy))\n",
        "z"
      ],
      "execution_count": 76,
      "outputs": [
        {
          "output_type": "execute_result",
          "data": {
            "text/plain": [
              "array([[ 1.91784855e+00,  1.92063718e+00,  1.92332964e+00, ...,\n",
              "        -8.07710558e-03, -5.48108704e-03, -2.78862876e-03],\n",
              "       [ 1.92063718e+00,  1.92342581e+00,  1.92611827e+00, ...,\n",
              "        -5.28847682e-03, -2.69245827e-03, -5.85087534e-14],\n",
              "       [ 1.92332964e+00,  1.92611827e+00,  1.92881072e+00, ...,\n",
              "        -2.59601854e-03, -5.63993297e-14,  2.69245827e-03],\n",
              "       ...,\n",
              "       [-8.07710558e-03, -5.28847682e-03, -2.59601854e-03, ...,\n",
              "        -1.93400276e+00, -1.93140674e+00, -1.92871428e+00],\n",
              "       [-5.48108704e-03, -2.69245827e-03, -5.63993297e-14, ...,\n",
              "        -1.93140674e+00, -1.92881072e+00, -1.92611827e+00],\n",
              "       [-2.78862876e-03, -5.85087534e-14,  2.69245827e-03, ...,\n",
              "        -1.92871428e+00, -1.92611827e+00, -1.92342581e+00]])"
            ]
          },
          "metadata": {},
          "execution_count": 76
        }
      ]
    },
    {
      "cell_type": "code",
      "metadata": {
        "id": "SIOWDTaL4vsS",
        "colab": {
          "base_uri": "https://localhost:8080/",
          "height": 287
        },
        "outputId": "d5fc216b-5db3-43bc-8677-a1f9d342e52f"
      },
      "source": [
        "plt.imshow(z)"
      ],
      "execution_count": 77,
      "outputs": [
        {
          "output_type": "execute_result",
          "data": {
            "text/plain": [
              "<matplotlib.image.AxesImage at 0x7f41c5157e90>"
            ]
          },
          "metadata": {},
          "execution_count": 77
        },
        {
          "output_type": "display_data",
          "data": {
            "image/png": "[encoded data removed]",
            "text/plain": [
              "<Figure size 432x288 with 1 Axes>"
            ]
          },
          "metadata": {
            "needs_background": "light"
          }
        }
      ]
    },
    {
      "cell_type": "code",
      "metadata": {
        "id": "3NOd1bfQ4yr-",
        "colab": {
          "base_uri": "https://localhost:8080/",
          "height": 299
        },
        "outputId": "a66482de-7fd3-486e-a65b-091e4fa906f3"
      },
      "source": [
        "plt.imshow(z)\n",
        "plt.colorbar()\n",
        "plt.title('Plot for sin(x) + sin(y)')"
      ],
      "execution_count": 78,
      "outputs": [
        {
          "output_type": "execute_result",
          "data": {
            "text/plain": [
              "Text(0.5, 1.0, 'Plot for sin(x) + sin(y)')"
            ]
          },
          "metadata": {},
          "execution_count": 78
        },
        {
          "output_type": "display_data",
          "data": {
            "image/png": "[encoded data removed]",
            "text/plain": [
              "<Figure size 432x288 with 2 Axes>"
            ]
          },
          "metadata": {
            "needs_background": "light"
          }
        }
      ]
    },
    {
      "cell_type": "code",
      "metadata": {
        "id": "bccVgtQz5Arv"
      },
      "source": [
        "A = np.array([1,2,3,4])\n",
        "B = np.array([1000,2000,3000,4000])\n",
        "\n",
        "condition = np.array([True, True, False, False])"
      ],
      "execution_count": 79,
      "outputs": []
    },
    {
      "cell_type": "code",
      "metadata": {
        "id": "oIAqR8dS5lss",
        "colab": {
          "base_uri": "https://localhost:8080/"
        },
        "outputId": "c51b6b28-07e0-4d1b-f862-0a106e44e217"
      },
      "source": [
        "answer = np.where(condition,A,B)\n",
        "answer"
      ],
      "execution_count": 80,
      "outputs": [
        {
          "output_type": "execute_result",
          "data": {
            "text/plain": [
              "array([   1,    2, 3000, 4000])"
            ]
          },
          "metadata": {},
          "execution_count": 80
        }
      ]
    },
    {
      "cell_type": "code",
      "metadata": {
        "id": "nJsgSpkV5veo"
      },
      "source": [
        "from numpy.random import randn"
      ],
      "execution_count": 81,
      "outputs": []
    },
    {
      "cell_type": "code",
      "metadata": {
        "id": "at1VfNzT579E"
      },
      "source": [
        "arr = randn(5,5)"
      ],
      "execution_count": 82,
      "outputs": []
    },
    {
      "cell_type": "code",
      "metadata": {
        "id": "sRkajYG55-DM",
        "colab": {
          "base_uri": "https://localhost:8080/"
        },
        "outputId": "926e0240-e31b-48f4-f848-3a60322c5a0f"
      },
      "source": [
        "arr"
      ],
      "execution_count": 83,
      "outputs": [
        {
          "output_type": "execute_result",
          "data": {
            "text/plain": [
              "array([[-0.35763377, -1.47310953, -0.78699577, -0.08780038, -1.22829916],\n",
              "       [ 0.1549289 , -0.09257404,  0.93634957, -0.49585114,  2.47121115],\n",
              "       [ 0.55599205, -2.13000566, -0.4766886 , -0.02520572, -0.88634325],\n",
              "       [-0.44132545,  0.6251586 , -0.12290955,  1.63033139, -0.5949567 ],\n",
              "       [ 0.57232851,  0.12618052,  0.52276105, -1.41858882, -0.4975813 ]])"
            ]
          },
          "metadata": {},
          "execution_count": 83
        }
      ]
    },
    {
      "cell_type": "code",
      "metadata": {
        "id": "2zHiu5TX5-5G",
        "colab": {
          "base_uri": "https://localhost:8080/"
        },
        "outputId": "264791c6-1bb5-4361-91c5-f49737fb63c4"
      },
      "source": [
        "np.where(arr < 0 ,0,arr)"
      ],
      "execution_count": 84,
      "outputs": [
        {
          "output_type": "execute_result",
          "data": {
            "text/plain": [
              "array([[0.        , 0.        , 0.        , 0.        , 0.        ],\n",
              "       [0.1549289 , 0.        , 0.93634957, 0.        , 2.47121115],\n",
              "       [0.55599205, 0.        , 0.        , 0.        , 0.        ],\n",
              "       [0.        , 0.6251586 , 0.        , 1.63033139, 0.        ],\n",
              "       [0.57232851, 0.12618052, 0.52276105, 0.        , 0.        ]])"
            ]
          },
          "metadata": {},
          "execution_count": 84
        }
      ]
    },
    {
      "cell_type": "code",
      "metadata": {
        "id": "bdCDkfaZ6H-D",
        "colab": {
          "base_uri": "https://localhost:8080/"
        },
        "outputId": "b765a228-5d7e-440c-c408-f655983c2657"
      },
      "source": [
        "arr = np.array([[1,2,3],[4,5,6],[7,8,9]])\n",
        "arr"
      ],
      "execution_count": 85,
      "outputs": [
        {
          "output_type": "execute_result",
          "data": {
            "text/plain": [
              "array([[1, 2, 3],\n",
              "       [4, 5, 6],\n",
              "       [7, 8, 9]])"
            ]
          },
          "metadata": {},
          "execution_count": 85
        }
      ]
    },
    {
      "cell_type": "code",
      "metadata": {
        "id": "vpbE7iOj6Qlr",
        "colab": {
          "base_uri": "https://localhost:8080/"
        },
        "outputId": "0c2b1938-e30a-426c-9ace-7d1ea424fe97"
      },
      "source": [
        "arr.sum()"
      ],
      "execution_count": 86,
      "outputs": [
        {
          "output_type": "execute_result",
          "data": {
            "text/plain": [
              "45"
            ]
          },
          "metadata": {},
          "execution_count": 86
        }
      ]
    },
    {
      "cell_type": "code",
      "metadata": {
        "id": "tNHm6KAI6TNr",
        "colab": {
          "base_uri": "https://localhost:8080/"
        },
        "outputId": "3722e6c9-ed45-4546-8fe6-80f2c82ed1fd"
      },
      "source": [
        "arr.sum(0)"
      ],
      "execution_count": 87,
      "outputs": [
        {
          "output_type": "execute_result",
          "data": {
            "text/plain": [
              "array([12, 15, 18])"
            ]
          },
          "metadata": {},
          "execution_count": 87
        }
      ]
    },
    {
      "cell_type": "code",
      "metadata": {
        "id": "CXjXxQ_D6U0k",
        "colab": {
          "base_uri": "https://localhost:8080/"
        },
        "outputId": "2bf61fcc-3ede-482e-b29b-b071cd2bc6b4"
      },
      "source": [
        "arr.sum(1)"
      ],
      "execution_count": 88,
      "outputs": [
        {
          "output_type": "execute_result",
          "data": {
            "text/plain": [
              "array([ 6, 15, 24])"
            ]
          },
          "metadata": {},
          "execution_count": 88
        }
      ]
    },
    {
      "cell_type": "code",
      "metadata": {
        "id": "5qbRuV3o6WR4",
        "colab": {
          "base_uri": "https://localhost:8080/"
        },
        "outputId": "e0074462-babe-4bed-cdf1-61ce4b4dda73"
      },
      "source": [
        "arr.mean()"
      ],
      "execution_count": 89,
      "outputs": [
        {
          "output_type": "execute_result",
          "data": {
            "text/plain": [
              "5.0"
            ]
          },
          "metadata": {},
          "execution_count": 89
        }
      ]
    },
    {
      "cell_type": "code",
      "metadata": {
        "id": "p_QZRnEr6b6x",
        "colab": {
          "base_uri": "https://localhost:8080/"
        },
        "outputId": "e1c9b59d-c553-4e4a-960f-a644d9730a56"
      },
      "source": [
        "arr.std()"
      ],
      "execution_count": 90,
      "outputs": [
        {
          "output_type": "execute_result",
          "data": {
            "text/plain": [
              "2.581988897471611"
            ]
          },
          "metadata": {},
          "execution_count": 90
        }
      ]
    },
    {
      "cell_type": "code",
      "metadata": {
        "id": "9YD9AoK26dWg",
        "colab": {
          "base_uri": "https://localhost:8080/"
        },
        "outputId": "f596b3c9-9bfa-437b-e50d-c8f859636912"
      },
      "source": [
        "arr.var()"
      ],
      "execution_count": 91,
      "outputs": [
        {
          "output_type": "execute_result",
          "data": {
            "text/plain": [
              "6.666666666666667"
            ]
          },
          "metadata": {},
          "execution_count": 91
        }
      ]
    },
    {
      "cell_type": "code",
      "metadata": {
        "id": "js3fgGjM6eiH",
        "colab": {
          "base_uri": "https://localhost:8080/"
        },
        "outputId": "61522a37-14bd-43c7-d4c9-5532b7b069d8"
      },
      "source": [
        "bool_arr = np.array([True,False,True])\n",
        "bool_arr"
      ],
      "execution_count": 92,
      "outputs": [
        {
          "output_type": "execute_result",
          "data": {
            "text/plain": [
              "array([ True, False,  True])"
            ]
          },
          "metadata": {},
          "execution_count": 92
        }
      ]
    },
    {
      "cell_type": "code",
      "metadata": {
        "id": "r-ofmJIs6oNx",
        "colab": {
          "base_uri": "https://localhost:8080/"
        },
        "outputId": "52d27de6-0e59-4d1d-fc41-9ad30906c496"
      },
      "source": [
        "bool_arr.any()"
      ],
      "execution_count": 93,
      "outputs": [
        {
          "output_type": "execute_result",
          "data": {
            "text/plain": [
              "True"
            ]
          },
          "metadata": {},
          "execution_count": 93
        }
      ]
    },
    {
      "cell_type": "code",
      "metadata": {
        "id": "JESYsrku6rHj",
        "colab": {
          "base_uri": "https://localhost:8080/"
        },
        "outputId": "12913e7b-ba3e-49fb-c0bd-88f4634aa414"
      },
      "source": [
        "bool_arr.all()"
      ],
      "execution_count": 94,
      "outputs": [
        {
          "output_type": "execute_result",
          "data": {
            "text/plain": [
              "False"
            ]
          },
          "metadata": {},
          "execution_count": 94
        }
      ]
    },
    {
      "cell_type": "code",
      "metadata": {
        "id": "GLS_cawV6wXb",
        "colab": {
          "base_uri": "https://localhost:8080/"
        },
        "outputId": "c01e572a-6fd7-4f23-b914-73558e26baed"
      },
      "source": [
        "arr = randn(5)\n",
        "arr"
      ],
      "execution_count": 95,
      "outputs": [
        {
          "output_type": "execute_result",
          "data": {
            "text/plain": [
              "array([-1.58713663,  1.03253053,  0.15555573, -0.24427843, -0.57211702])"
            ]
          },
          "metadata": {},
          "execution_count": 95
        }
      ]
    },
    {
      "cell_type": "code",
      "metadata": {
        "id": "OngQbixO6zhK",
        "colab": {
          "base_uri": "https://localhost:8080/"
        },
        "outputId": "294e0e4d-860c-4398-9db9-338badc20cb7"
      },
      "source": [
        "arr.sort()\n",
        "arr"
      ],
      "execution_count": 96,
      "outputs": [
        {
          "output_type": "execute_result",
          "data": {
            "text/plain": [
              "array([-1.58713663, -0.57211702, -0.24427843,  0.15555573,  1.03253053])"
            ]
          },
          "metadata": {},
          "execution_count": 96
        }
      ]
    },
    {
      "cell_type": "code",
      "metadata": {
        "id": "CGWFO-JV63Ir",
        "colab": {
          "base_uri": "https://localhost:8080/"
        },
        "outputId": "8aafef33-cbc4-4124-b8e4-7b639a6d4733"
      },
      "source": [
        "countries = np.array(['Franse','Japan','USA','Russia','USA','Mexico','Japan'])\n",
        "countries"
      ],
      "execution_count": 97,
      "outputs": [
        {
          "output_type": "execute_result",
          "data": {
            "text/plain": [
              "array(['Franse', 'Japan', 'USA', 'Russia', 'USA', 'Mexico', 'Japan'],\n",
              "      dtype='<U6')"
            ]
          },
          "metadata": {},
          "execution_count": 97
        }
      ]
    },
    {
      "cell_type": "code",
      "metadata": {
        "id": "YEtiAiVh7O90",
        "colab": {
          "base_uri": "https://localhost:8080/"
        },
        "outputId": "585ae909-fead-4871-9cf2-7f47539c1b7e"
      },
      "source": [
        "np.unique(countries)"
      ],
      "execution_count": 98,
      "outputs": [
        {
          "output_type": "execute_result",
          "data": {
            "text/plain": [
              "array(['Franse', 'Japan', 'Mexico', 'Russia', 'USA'], dtype='<U6')"
            ]
          },
          "metadata": {},
          "execution_count": 98
        }
      ]
    },
    {
      "cell_type": "code",
      "metadata": {
        "id": "FnEayVRL7Rw8",
        "colab": {
          "base_uri": "https://localhost:8080/"
        },
        "outputId": "31d841fc-db1c-42bc-c444-f550a66699c9"
      },
      "source": [
        "np.in1d(['France','USA','Sweden'],countries)"
      ],
      "execution_count": 99,
      "outputs": [
        {
          "output_type": "execute_result",
          "data": {
            "text/plain": [
              "array([False,  True, False])"
            ]
          },
          "metadata": {},
          "execution_count": 99
        }
      ]
    }
  ]
}