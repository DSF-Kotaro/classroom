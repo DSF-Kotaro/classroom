{
  "nbformat": 4,
  "nbformat_minor": 0,
  "metadata": {
    "colab": {
      "name": "【第１１回】確率と統計.ipynb",
      "provenance": [],
      "collapsed_sections": [],
      "authorship_tag": "ABX9TyPp5vO8mLj2xq9JE7/aB0IZ",
      "include_colab_link": true
    },
    "kernelspec": {
      "name": "python3",
      "display_name": "Python 3"
    },
    "language_info": {
      "name": "python"
    }
  },
  "cells": [
    {
      "cell_type": "markdown",
      "metadata": {
        "id": "view-in-github",
        "colab_type": "text"
      },
      "source": [
        "<a href=\"https://colab.research.google.com/github/DSF-Kotaro/classroom/blob/main/%E3%80%90%E7%AC%AC%EF%BC%91%EF%BC%91%E5%9B%9E%E3%80%91%E7%A2%BA%E7%8E%87%E3%81%A8%E7%B5%B1%E8%A8%88.ipynb\" target=\"_parent\"><img src=\"https://colab.research.google.com/assets/colab-badge.svg\" alt=\"Open In Colab\"/></a>"
      ]
    },
    {
      "cell_type": "markdown",
      "metadata": {
        "id": "GHifg6OU2pEg"
      },
      "source": [
        "#ライブラリの読み込み（load libraries）"
      ]
    },
    {
      "cell_type": "markdown",
      "metadata": {
        "id": "9GeKwsDMdMb6"
      },
      "source": [
        "##student-mat.csv,student-por.csvの読み込み（Load files 'student-mat.csv'and 'student-por.csv'）"
      ]
    },
    {
      "cell_type": "code",
      "metadata": {
        "id": "X1HAw2vN3xEa"
      },
      "source": [
        "import numpy as np\n",
        "import scipy as sp\n",
        "import pandas as pd\n",
        "from pandas import Series, DataFrame\n",
        "\n",
        "import matplotlib.pyplot as plt\n",
        "import matplotlib as mpl\n",
        "import seaborn as sns\n",
        "\n",
        "np.random.seed(0)"
      ],
      "execution_count": null,
      "outputs": []
    },
    {
      "cell_type": "markdown",
      "metadata": {
        "id": "g__18fwp1fIG"
      },
      "source": [
        "#確率（probability）"
      ]
    },
    {
      "cell_type": "markdown",
      "metadata": {
        "id": "_kkovrwD1l-j"
      },
      "source": [
        "##サイコロの確率（Dice probability）"
      ]
    },
    {
      "cell_type": "code",
      "metadata": {
        "id": "uXoe5IbfTvhR"
      },
      "source": [
        "dice_data = np.array([1,2,3,4,5,6])"
      ],
      "execution_count": null,
      "outputs": []
    },
    {
      "cell_type": "code",
      "metadata": {
        "colab": {
          "base_uri": "https://localhost:8080/"
        },
        "id": "FsZ4cJPR15xn",
        "outputId": "041a0ee1-1a88-4602-b991-26f5469dc3a7"
      },
      "source": [
        "print('Random sampling of only one：', np.random.choice(dice_data,1))"
      ],
      "execution_count": null,
      "outputs": [
        {
          "output_type": "stream",
          "text": [
            "Random sampling of only one： [5]\n"
          ],
          "name": "stdout"
        }
      ]
    },
    {
      "cell_type": "markdown",
      "metadata": {
        "id": "0RUiEVOs2WPd"
      },
      "source": [
        "##サイコロを1000回振るシミュレーション（Simulation of rolling the dice 1000 times）"
      ]
    },
    {
      "cell_type": "code",
      "metadata": {
        "colab": {
          "base_uri": "https://localhost:8080/"
        },
        "id": "MoC-rQT_2ecD",
        "outputId": "91da5c5a-f7c5-447b-f6c7-09a9b14ebd40"
      },
      "source": [
        "calc_steps = 1000\n",
        "\n",
        "dice_rolls = np.random.choice(dice_data, calc_steps)\n",
        "\n",
        "for i in range(1, 7):\n",
        "  p = len(dice_rolls[dice_rolls==i]) / calc_steps\n",
        "  print('Probability of ', i, ':' , p)"
      ],
      "execution_count": null,
      "outputs": [
        {
          "output_type": "stream",
          "text": [
            "Probability of  1 : 0.2\n",
            "Probability of  2 : 0.167\n",
            "Probability of  3 : 0.164\n",
            "Probability of  4 : 0.138\n",
            "Probability of  5 : 0.167\n",
            "Probability of  6 : 0.164\n"
          ],
          "name": "stdout"
        }
      ]
    },
    {
      "cell_type": "markdown",
      "metadata": {
        "id": "U6JEVrrhUZwJ"
      },
      "source": [
        "#問題（Question）"
      ]
    },
    {
      "cell_type": "markdown",
      "metadata": {
        "id": "Cn5JzBE-LEaY"
      },
      "source": [
        "##問題１（Question１）\n",
        "コインの表を０、裏を１として表現する配列を次のように用意します。\n",
        "<br>\n",
        "coin_data = np.array([0,1])\n",
        "<br>\n",
        "この配列を使って、コインの投げ試行を1000回実行し、その結果、表（値が０）並びに裏（値が１）がでる確率をそれぞれ求めなさい。\n",
        "<br>（Prepare an array that expresses the front side of the coin as 0 and the back side as 1.\n",
        "<br>\n",
        "coin_data = np.array ([0,1])\n",
        "<br>\n",
        "Use this array to perform 1000 coin throwing attempts, and find the probabilities that the front (value is 0) and the back (value is 1) will appear as a result.）"
      ]
    },
    {
      "cell_type": "code",
      "metadata": {
        "id": "54rsVMLxWnzZ"
      },
      "source": [
        ""
      ],
      "execution_count": null,
      "outputs": []
    },
    {
      "cell_type": "markdown",
      "metadata": {
        "id": "2149LPSQ-sFu"
      },
      "source": [
        "#確率変数と確率分布（Random variables and probability distributions）"
      ]
    },
    {
      "cell_type": "markdown",
      "metadata": {
        "id": "Lr75y6hx-5Fl"
      },
      "source": [
        "##一様分布（Uniform distribution）"
      ]
    },
    {
      "cell_type": "code",
      "metadata": {
        "id": "2O3SHJ5f--I2"
      },
      "source": [
        "calc_steps = 1000\n",
        "\n",
        "dice_rolls = np.random.choice(dice_data, calc_steps)\n",
        "\n",
        "prob_data = np.array([])\n",
        "\n",
        "for i in range(1,7):\n",
        "  p = len(dice_rolls[dice_rolls==i])/calc_steps\n",
        "  prob_data = np.append(prob_data, len(dice_rolls[dice_rolls==i])/calc_steps)\n",
        "\n",
        "plt.bar(dice_data,prob_data)\n",
        "plt.grid(True)"
      ],
      "execution_count": null,
      "outputs": []
    },
    {
      "cell_type": "markdown",
      "metadata": {
        "id": "EPSfCTrz_v3N"
      },
      "source": [
        "##ベルヌーイ分布（Bernoulli distribution）"
      ]
    },
    {
      "cell_type": "code",
      "metadata": {
        "colab": {
          "base_uri": "https://localhost:8080/"
        },
        "id": "fHtDmM-R_2Uo",
        "outputId": "b1547efc-5c2e-4e29-d04d-3f84e189127c"
      },
      "source": [
        "prob_be_data = np.array([])\n",
        "coin_data = np.array([0,0,0,0,0,1,1,1])\n",
        "\n",
        "for i in np.unique(coin_data):\n",
        "  p = len(coin_data[coin_data == i])/len(coin_data)\n",
        "  print('probability of ',i, ': ', p)\n",
        "  prob_be_data = np.append(prob_be_data,p)"
      ],
      "execution_count": 16,
      "outputs": [
        {
          "output_type": "stream",
          "text": [
            "probability of  0 :  0.625\n",
            "probability of  1 :  0.375\n"
          ],
          "name": "stdout"
        }
      ]
    },
    {
      "cell_type": "code",
      "metadata": {
        "id": "grd6vQDpBYDZ"
      },
      "source": [
        "plt.bar([0,1],prob_be_data,align='center')\n",
        "plt.xticks([0,1],['head','tail'])\n",
        "plt.grid(True)"
      ],
      "execution_count": null,
      "outputs": []
    },
    {
      "cell_type": "markdown",
      "metadata": {
        "id": "ck_ZH1LoBr40"
      },
      "source": [
        "##二項分布（Binomial distribution）"
      ]
    },
    {
      "cell_type": "code",
      "metadata": {
        "id": "R2xBciBhCF6D"
      },
      "source": [
        "np.random.seed(0)\n",
        "x = np.random.binomial(30,0.5,1000)\n",
        "\n",
        "plt.hist(x)\n",
        "plt.grid(True)"
      ],
      "execution_count": null,
      "outputs": []
    },
    {
      "cell_type": "markdown",
      "metadata": {
        "id": "YVWkuin7CVDk"
      },
      "source": [
        "##ポアソン分布（Poisson distribution）"
      ]
    },
    {
      "cell_type": "code",
      "metadata": {
        "id": "2rQgA2_ACirV"
      },
      "source": [
        "x = np.random.poisson(7,1000)\n",
        "plt.hist(x)\n",
        "plt.grid(True)"
      ],
      "execution_count": null,
      "outputs": []
    },
    {
      "cell_type": "markdown",
      "metadata": {
        "id": "37YAH3YQCyQc"
      },
      "source": [
        "##正規分布（normal distribution）"
      ]
    },
    {
      "cell_type": "code",
      "metadata": {
        "id": "ZSc327BdC4KO"
      },
      "source": [
        "x = np.random.normal(5,10,10000)\n",
        "plt.hist(x)\n",
        "plt.grid(True)"
      ],
      "execution_count": null,
      "outputs": []
    },
    {
      "cell_type": "markdown",
      "metadata": {
        "id": "a-0H-SCNDDgP"
      },
      "source": [
        "##対数正規分布（Lognormal distribution）"
      ]
    },
    {
      "cell_type": "code",
      "metadata": {
        "id": "cPUlj_sNDJlj"
      },
      "source": [
        "x = np.random.lognormal(30,0.4,1000)\n",
        "plt.hist(x)\n",
        "plt.grid(True)"
      ],
      "execution_count": null,
      "outputs": []
    },
    {
      "cell_type": "markdown",
      "metadata": {
        "id": "31tGuvM8DS2T"
      },
      "source": [
        "##カーネル密度関数（Kernel density function）"
      ]
    },
    {
      "cell_type": "code",
      "metadata": {
        "id": "P2mC1yjlDXoF"
      },
      "source": [
        "student_data_math = pd.read_csv('student-mat.csv',sep=';')\n",
        "\n",
        "student_data_math.absences.plot(kind = 'kde', style = 'k--')\n",
        "\n",
        "student_data_math.absences.hist(density = True)\n",
        "plt.grid(True)"
      ],
      "execution_count": null,
      "outputs": []
    },
    {
      "cell_type": "markdown",
      "metadata": {
        "id": "uezRh96nW0dJ"
      },
      "source": [
        "#問題２（Question 2）\n",
        "平均０、分布１の正規分布からｎ＝100の標本抽出を10,000回繰り返して、標本平均の標本分布（ヒストグラム）を書きなさい。<br>Draw a sample distribution (histogram) of the sample mean by repeating sampling of n = 100 from the normal distribution with mean 0 and distribution 1 10,000 times."
      ]
    },
    {
      "cell_type": "code",
      "metadata": {
        "id": "aESXAWg7XGgX"
      },
      "source": [
        ""
      ],
      "execution_count": null,
      "outputs": []
    },
    {
      "cell_type": "markdown",
      "metadata": {
        "id": "z6N8wmSXEhJQ"
      },
      "source": [
        "#問題３（Question ３）\n",
        "問題２と同じく、対数正規分布の場合について書きなさい<br>As in Problem 2, write about the case of lognormal distribution"
      ]
    },
    {
      "cell_type": "code",
      "metadata": {
        "id": "Vj4INYoGEwMm"
      },
      "source": [
        ""
      ],
      "execution_count": null,
      "outputs": []
    },
    {
      "cell_type": "markdown",
      "metadata": {
        "id": "Qo_Zt0pUEynQ"
      },
      "source": [
        "#問題４（Question ４）\n",
        "学生の数学の成績データ（student_data_math)の一期目の成績Ｇ１のヒストグラムとカーネル密度推定を書きなさい<br>Write a histogram of grade G1 and kernel density estimation for the first term of student math grade data (student_data_math)"
      ]
    },
    {
      "cell_type": "code",
      "metadata": {
        "id": "K2Wsvd0jFDYF"
      },
      "source": [
        ""
      ],
      "execution_count": null,
      "outputs": []
    }
  ]
}