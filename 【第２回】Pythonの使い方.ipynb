{
  "nbformat": 4,
  "nbformat_minor": 0,
  "metadata": {
    "colab": {
      "name": "【第２回】Pythonの使い方.ipynb",
      "provenance": [],
      "collapsed_sections": [
        "808p3ywS2Eqs",
        "dhd9wX2Z2pnY",
        "8QfjVAQ822R4",
        "rVxGAG573Sxe",
        "9cSembpG-Z6f",
        "OclpCRUy_V7B"
      ],
      "authorship_tag": "ABX9TyOmIVdAdZmbMZgzT6hF/2gZ",
      "include_colab_link": true
    },
    "kernelspec": {
      "name": "python3",
      "display_name": "Python 3"
    },
    "language_info": {
      "name": "python"
    }
  },
  "cells": [
    {
      "cell_type": "markdown",
      "metadata": {
        "id": "view-in-github",
        "colab_type": "text"
      },
      "source": [
        "<a href=\"https://colab.research.google.com/github/DSF-Kotaro/classroom/blob/main/%E3%80%90%E7%AC%AC%EF%BC%92%E5%9B%9E%E3%80%91Python%E3%81%AE%E4%BD%BF%E3%81%84%E6%96%B9.ipynb\" target=\"_parent\"><img src=\"https://colab.research.google.com/assets/colab-badge.svg\" alt=\"Open In Colab\"/></a>"
      ]
    },
    {
      "cell_type": "markdown",
      "metadata": {
        "id": "Pit4DV5B_kUZ"
      },
      "source": [
        "# [１]文字列を出力してみよう(Out put texts)"
      ]
    },
    {
      "cell_type": "code",
      "metadata": {
        "colab": {
          "base_uri": "https://localhost:8080/"
        },
        "id": "89npQ4SN0mbJ",
        "outputId": "eed61bae-859e-4a7d-9ff8-41c60eafe90d"
      },
      "source": [
        "print('Hello World')"
      ],
      "execution_count": 1,
      "outputs": [
        {
          "output_type": "stream",
          "text": [
            "Hello World\n"
          ],
          "name": "stdout"
        }
      ]
    },
    {
      "cell_type": "markdown",
      "metadata": {
        "id": "808p3ywS2Eqs"
      },
      "source": [
        "#[２]データの型について（Type of Datas）"
      ]
    },
    {
      "cell_type": "markdown",
      "metadata": {
        "id": "dhd9wX2Z2pnY"
      },
      "source": [
        "##【数値のデータ（Numerical data）】"
      ]
    },
    {
      "cell_type": "code",
      "metadata": {
        "colab": {
          "base_uri": "https://localhost:8080/"
        },
        "id": "Y-BHXt0y1wwL",
        "outputId": "176ec2d6-c689-4a49-9243-1b635592ffb2"
      },
      "source": [
        "type(100)"
      ],
      "execution_count": 2,
      "outputs": [
        {
          "output_type": "execute_result",
          "data": {
            "text/plain": [
              "int"
            ]
          },
          "metadata": {
            "tags": []
          },
          "execution_count": 2
        }
      ]
    },
    {
      "cell_type": "code",
      "metadata": {
        "colab": {
          "base_uri": "https://localhost:8080/"
        },
        "id": "1PCGmRYA2bHc",
        "outputId": "8f15c6fd-0ad3-4691-b82f-e7905f3f5dbe"
      },
      "source": [
        "type(3.14)"
      ],
      "execution_count": 3,
      "outputs": [
        {
          "output_type": "execute_result",
          "data": {
            "text/plain": [
              "float"
            ]
          },
          "metadata": {
            "tags": []
          },
          "execution_count": 3
        }
      ]
    },
    {
      "cell_type": "code",
      "metadata": {
        "colab": {
          "base_uri": "https://localhost:8080/"
        },
        "id": "NuQZGu2b2epb",
        "outputId": "0fac1daf-89d9-4734-b6fa-d1237eb80e3a"
      },
      "source": [
        "type(1+2j)"
      ],
      "execution_count": 4,
      "outputs": [
        {
          "output_type": "execute_result",
          "data": {
            "text/plain": [
              "complex"
            ]
          },
          "metadata": {
            "tags": []
          },
          "execution_count": 4
        }
      ]
    },
    {
      "cell_type": "markdown",
      "metadata": {
        "id": "8QfjVAQ822R4"
      },
      "source": [
        "##【文字列のデータ（String data）】"
      ]
    },
    {
      "cell_type": "code",
      "metadata": {
        "colab": {
          "base_uri": "https://localhost:8080/"
        },
        "id": "nnAyTROb2i_R",
        "outputId": "5bcbb8a9-5453-4399-930f-6421d4489380"
      },
      "source": [
        "type(\"abc\")"
      ],
      "execution_count": 5,
      "outputs": [
        {
          "output_type": "execute_result",
          "data": {
            "text/plain": [
              "str"
            ]
          },
          "metadata": {
            "tags": []
          },
          "execution_count": 5
        }
      ]
    },
    {
      "cell_type": "code",
      "metadata": {
        "colab": {
          "base_uri": "https://localhost:8080/"
        },
        "id": "bzOlbXc13GIP",
        "outputId": "fa95b7d5-8f22-4652-b2d7-907be6ac7dd1"
      },
      "source": [
        "type(\"あいうえお\")"
      ],
      "execution_count": 6,
      "outputs": [
        {
          "output_type": "execute_result",
          "data": {
            "text/plain": [
              "str"
            ]
          },
          "metadata": {
            "tags": []
          },
          "execution_count": 6
        }
      ]
    },
    {
      "cell_type": "markdown",
      "metadata": {
        "id": "rVxGAG573Sxe"
      },
      "source": [
        "##【エスケープ文字列（Escape string）】"
      ]
    },
    {
      "cell_type": "code",
      "metadata": {
        "colab": {
          "base_uri": "https://localhost:8080/"
        },
        "id": "G7iJfgy33JvW",
        "outputId": "eebd3b1b-1779-4d7a-d0f4-479a5580603a"
      },
      "source": [
        "#改行（new line） [\\n]\n",
        "print('abc\\ndef')"
      ],
      "execution_count": 12,
      "outputs": [
        {
          "output_type": "stream",
          "text": [
            "abc\n",
            "def\n"
          ],
          "name": "stdout"
        }
      ]
    },
    {
      "cell_type": "code",
      "metadata": {
        "colab": {
          "base_uri": "https://localhost:8080/"
        },
        "id": "C_WLAerp3shp",
        "outputId": "583bffeb-dba5-4d09-c27c-f4969e314e0b"
      },
      "source": [
        "#タブ（Tab）　[\\t]\n",
        "print('abc\\tdef')"
      ],
      "execution_count": 13,
      "outputs": [
        {
          "output_type": "stream",
          "text": [
            "abc\tdef\n"
          ],
          "name": "stdout"
        }
      ]
    },
    {
      "cell_type": "code",
      "metadata": {
        "colab": {
          "base_uri": "https://localhost:8080/"
        },
        "id": "iX08wrXa4NuU",
        "outputId": "9f66a67a-05aa-4d8a-cb07-a4c193febd5a"
      },
      "source": [
        "#\\マーク(mark of \"\\\")  [\\\\]\n",
        "print(\"abc\\\\def\")"
      ],
      "execution_count": 14,
      "outputs": [
        {
          "output_type": "stream",
          "text": [
            "abc\\def\n"
          ],
          "name": "stdout"
        }
      ]
    },
    {
      "cell_type": "code",
      "metadata": {
        "colab": {
          "base_uri": "https://localhost:8080/"
        },
        "id": "bhx24rX44e16",
        "outputId": "c3171a02-c027-4fe4-fb7c-909ab46d167d"
      },
      "source": [
        "#シングルクオーテーション（Single quote）　[\\']\n",
        "print(\"\\'abcdef\\'\")"
      ],
      "execution_count": 16,
      "outputs": [
        {
          "output_type": "stream",
          "text": [
            "'abcdef'\n"
          ],
          "name": "stdout"
        }
      ]
    },
    {
      "cell_type": "code",
      "metadata": {
        "colab": {
          "base_uri": "https://localhost:8080/"
        },
        "id": "HlWjtP--425u",
        "outputId": "0c6fb73f-c9e8-44c9-8fac-136ff66088f2"
      },
      "source": [
        "#ダブルクオーテーション（Double quote）　[\\\"]\n",
        "print(\"\\\"abcdef\\\"\")"
      ],
      "execution_count": 17,
      "outputs": [
        {
          "output_type": "stream",
          "text": [
            "\"abcdef\"\n"
          ],
          "name": "stdout"
        }
      ]
    },
    {
      "cell_type": "markdown",
      "metadata": {
        "id": "9cSembpG-Z6f"
      },
      "source": [
        "##【真理値を表すデータ（Boolean）】"
      ]
    },
    {
      "cell_type": "code",
      "metadata": {
        "colab": {
          "base_uri": "https://localhost:8080/"
        },
        "id": "NNeS_fLs5D3a",
        "outputId": "5ced5866-eebd-45c4-dff7-8b8b14b91c8c"
      },
      "source": [
        "type(True)"
      ],
      "execution_count": 19,
      "outputs": [
        {
          "output_type": "execute_result",
          "data": {
            "text/plain": [
              "bool"
            ]
          },
          "metadata": {
            "tags": []
          },
          "execution_count": 19
        }
      ]
    },
    {
      "cell_type": "code",
      "metadata": {
        "colab": {
          "base_uri": "https://localhost:8080/"
        },
        "id": "Fa6yx7TP-xb1",
        "outputId": "88a4dde1-4e1e-412b-e018-0e57df11f2eb"
      },
      "source": [
        "type(False)"
      ],
      "execution_count": 20,
      "outputs": [
        {
          "output_type": "execute_result",
          "data": {
            "text/plain": [
              "bool"
            ]
          },
          "metadata": {
            "tags": []
          },
          "execution_count": 20
        }
      ]
    },
    {
      "cell_type": "markdown",
      "metadata": {
        "id": "OclpCRUy_V7B"
      },
      "source": [
        "#[３]演算子の使い方（How to use operator）"
      ]
    },
    {
      "cell_type": "markdown",
      "metadata": {
        "id": "ygTHvbgMAEdP"
      },
      "source": [
        "[足し算（addition）]"
      ]
    },
    {
      "cell_type": "code",
      "metadata": {
        "colab": {
          "base_uri": "https://localhost:8080/"
        },
        "id": "0vZYnZIU-1s1",
        "outputId": "fddd710c-0059-4be4-9911-0ab5442afaa0"
      },
      "source": [
        "print(5 + 3)"
      ],
      "execution_count": 50,
      "outputs": [
        {
          "output_type": "stream",
          "text": [
            "8\n"
          ],
          "name": "stdout"
        }
      ]
    },
    {
      "cell_type": "code",
      "metadata": {
        "colab": {
          "base_uri": "https://localhost:8080/"
        },
        "id": "UWSWekpyCA3g",
        "outputId": "8ca952a8-d4be-4624-c61a-333c6031c6f6"
      },
      "source": [
        "5+3"
      ],
      "execution_count": 51,
      "outputs": [
        {
          "output_type": "execute_result",
          "data": {
            "text/plain": [
              "8"
            ]
          },
          "metadata": {
            "tags": []
          },
          "execution_count": 51
        }
      ]
    },
    {
      "cell_type": "markdown",
      "metadata": {
        "id": "w3wGXcasAQkG"
      },
      "source": [
        "[引き算（subtraction）]"
      ]
    },
    {
      "cell_type": "code",
      "metadata": {
        "colab": {
          "base_uri": "https://localhost:8080/"
        },
        "id": "T8k-foqs_Sa-",
        "outputId": "5b4acf6e-dd0e-4cec-b9c8-aad618f70638"
      },
      "source": [
        "print(8 - 7)"
      ],
      "execution_count": 52,
      "outputs": [
        {
          "output_type": "stream",
          "text": [
            "1\n"
          ],
          "name": "stdout"
        }
      ]
    },
    {
      "cell_type": "code",
      "metadata": {
        "colab": {
          "base_uri": "https://localhost:8080/"
        },
        "id": "TD-wA_KWCENP",
        "outputId": "ef4c39f7-04e1-482c-b40e-1ba9030cb82c"
      },
      "source": [
        "8 - 7"
      ],
      "execution_count": 53,
      "outputs": [
        {
          "output_type": "execute_result",
          "data": {
            "text/plain": [
              "1"
            ]
          },
          "metadata": {
            "tags": []
          },
          "execution_count": 53
        }
      ]
    },
    {
      "cell_type": "markdown",
      "metadata": {
        "id": "TEVLVBL8AcTm"
      },
      "source": [
        "[掛け算（multiplication）]"
      ]
    },
    {
      "cell_type": "code",
      "metadata": {
        "colab": {
          "base_uri": "https://localhost:8080/"
        },
        "id": "o1FCLvJkAazq",
        "outputId": "b8ec5a0b-45e1-4c25-b809-7113feeeaa2d"
      },
      "source": [
        "print(8 * 9)"
      ],
      "execution_count": 54,
      "outputs": [
        {
          "output_type": "stream",
          "text": [
            "72\n"
          ],
          "name": "stdout"
        }
      ]
    },
    {
      "cell_type": "code",
      "metadata": {
        "colab": {
          "base_uri": "https://localhost:8080/"
        },
        "id": "mSP3Zu1XCHM6",
        "outputId": "4ff1ff07-e252-4ded-cf79-b980d894aa07"
      },
      "source": [
        "8 * 9"
      ],
      "execution_count": 55,
      "outputs": [
        {
          "output_type": "execute_result",
          "data": {
            "text/plain": [
              "72"
            ]
          },
          "metadata": {
            "tags": []
          },
          "execution_count": 55
        }
      ]
    },
    {
      "cell_type": "markdown",
      "metadata": {
        "id": "sHGSRRQQAnd2"
      },
      "source": [
        "[割り算（division）]（quotient）"
      ]
    },
    {
      "cell_type": "code",
      "metadata": {
        "colab": {
          "base_uri": "https://localhost:8080/"
        },
        "id": "5gyBjXUBAla-",
        "outputId": "d16e8601-cfa9-4f08-9f6a-d275939295ce"
      },
      "source": [
        "print(5/3)\n",
        "print(5//3)"
      ],
      "execution_count": 56,
      "outputs": [
        {
          "output_type": "stream",
          "text": [
            "1.6666666666666667\n",
            "1\n"
          ],
          "name": "stdout"
        }
      ]
    },
    {
      "cell_type": "code",
      "metadata": {
        "colab": {
          "base_uri": "https://localhost:8080/"
        },
        "id": "PTNE0R9PCMmv",
        "outputId": "c067ccac-ec93-4efa-8f4e-2f12accfdd1f"
      },
      "source": [
        "5/3"
      ],
      "execution_count": 57,
      "outputs": [
        {
          "output_type": "execute_result",
          "data": {
            "text/plain": [
              "1.6666666666666667"
            ]
          },
          "metadata": {
            "tags": []
          },
          "execution_count": 57
        }
      ]
    },
    {
      "cell_type": "code",
      "metadata": {
        "colab": {
          "base_uri": "https://localhost:8080/"
        },
        "id": "BcsgaeMWCOWR",
        "outputId": "90e5cb7a-5d9f-4f3f-b092-c1f65d17b2f6"
      },
      "source": [
        "5//3"
      ],
      "execution_count": 58,
      "outputs": [
        {
          "output_type": "execute_result",
          "data": {
            "text/plain": [
              "1"
            ]
          },
          "metadata": {
            "tags": []
          },
          "execution_count": 58
        }
      ]
    },
    {
      "cell_type": "markdown",
      "metadata": {
        "id": "CgQvaLPzBFR3"
      },
      "source": [
        "[割り算（division）]（odds）"
      ]
    },
    {
      "cell_type": "code",
      "metadata": {
        "colab": {
          "base_uri": "https://localhost:8080/"
        },
        "id": "xKeTOpnDAyT6",
        "outputId": "90a50c0c-cf40-4508-d402-3efd91d0d793"
      },
      "source": [
        "print(9%2)"
      ],
      "execution_count": 59,
      "outputs": [
        {
          "output_type": "stream",
          "text": [
            "1\n"
          ],
          "name": "stdout"
        }
      ]
    },
    {
      "cell_type": "markdown",
      "metadata": {
        "id": "90V3djK0BmFq"
      },
      "source": [
        "[累乗（Exponentiation）]"
      ]
    },
    {
      "cell_type": "code",
      "metadata": {
        "colab": {
          "base_uri": "https://localhost:8080/"
        },
        "id": "y14WX_wQBfIB",
        "outputId": "d6c38685-0a81-4365-a496-a4179ee980e3"
      },
      "source": [
        "print(5**3)"
      ],
      "execution_count": 60,
      "outputs": [
        {
          "output_type": "stream",
          "text": [
            "125\n"
          ],
          "name": "stdout"
        }
      ]
    },
    {
      "cell_type": "code",
      "metadata": {
        "colab": {
          "base_uri": "https://localhost:8080/"
        },
        "id": "m-AP_TtXB7du",
        "outputId": "e18df21d-ec43-4337-cfd9-1967c9ce6b1e"
      },
      "source": [
        "5**3"
      ],
      "execution_count": 61,
      "outputs": [
        {
          "output_type": "execute_result",
          "data": {
            "text/plain": [
              "125"
            ]
          },
          "metadata": {
            "tags": []
          },
          "execution_count": 61
        }
      ]
    },
    {
      "cell_type": "markdown",
      "metadata": {
        "id": "4JGDg1LkCdrT"
      },
      "source": [
        "#[４]文字列をつなげる（connect strings）"
      ]
    },
    {
      "cell_type": "code",
      "metadata": {
        "colab": {
          "base_uri": "https://localhost:8080/",
          "height": 35
        },
        "id": "wjCUdUtoCSrC",
        "outputId": "e3776158-8a3c-489f-a43a-845b67b9b3f1"
      },
      "source": [
        "'Hello!' + 'Python'"
      ],
      "execution_count": 62,
      "outputs": [
        {
          "output_type": "execute_result",
          "data": {
            "application/vnd.google.colaboratory.intrinsic+json": {
              "type": "string"
            },
            "text/plain": [
              "'Hello!Python'"
            ]
          },
          "metadata": {
            "tags": []
          },
          "execution_count": 62
        }
      ]
    },
    {
      "cell_type": "code",
      "metadata": {
        "colab": {
          "base_uri": "https://localhost:8080/",
          "height": 35
        },
        "id": "-655WRDTDVcU",
        "outputId": "d8c06119-ec9c-42a0-886b-f7c524036c25"
      },
      "source": [
        "'Hello!' + ' Python'"
      ],
      "execution_count": 63,
      "outputs": [
        {
          "output_type": "execute_result",
          "data": {
            "application/vnd.google.colaboratory.intrinsic+json": {
              "type": "string"
            },
            "text/plain": [
              "'Hello! Python'"
            ]
          },
          "metadata": {
            "tags": []
          },
          "execution_count": 63
        }
      ]
    },
    {
      "cell_type": "code",
      "metadata": {
        "colab": {
          "base_uri": "https://localhost:8080/",
          "height": 175
        },
        "id": "KLSjISq3DaTi",
        "outputId": "dbb40f78-4356-4638-ccca-04c8c5fb2bc7"
      },
      "source": [
        "'Python' + 5"
      ],
      "execution_count": 74,
      "outputs": [
        {
          "output_type": "error",
          "ename": "TypeError",
          "evalue": "ignored",
          "traceback": [
            "\u001b[0;31m---------------------------------------------------------------------------\u001b[0m",
            "\u001b[0;31mTypeError\u001b[0m                                 Traceback (most recent call last)",
            "\u001b[0;32m<ipython-input-74-eb365dcedcb8>\u001b[0m in \u001b[0;36m<module>\u001b[0;34m()\u001b[0m\n\u001b[0;32m----> 1\u001b[0;31m \u001b[0;34m'Python'\u001b[0m \u001b[0;34m+\u001b[0m \u001b[0;36m5\u001b[0m\u001b[0;34m\u001b[0m\u001b[0;34m\u001b[0m\u001b[0m\n\u001b[0m",
            "\u001b[0;31mTypeError\u001b[0m: can only concatenate str (not \"int\") to str"
          ]
        }
      ]
    },
    {
      "cell_type": "code",
      "metadata": {
        "colab": {
          "base_uri": "https://localhost:8080/",
          "height": 35
        },
        "id": "CBVt675gDrNJ",
        "outputId": "5e07d7dd-2ad7-49d9-adc1-ce98a7b4f721"
      },
      "source": [
        "'Python'*5"
      ],
      "execution_count": 79,
      "outputs": [
        {
          "output_type": "execute_result",
          "data": {
            "application/vnd.google.colaboratory.intrinsic+json": {
              "type": "string"
            },
            "text/plain": [
              "'PythonPythonPythonPythonPython'"
            ]
          },
          "metadata": {
            "tags": []
          },
          "execution_count": 79
        }
      ]
    },
    {
      "cell_type": "markdown",
      "metadata": {
        "id": "FFr8ot8SFA6Q"
      },
      "source": [
        "#[５]型を変換する（Convert types）"
      ]
    },
    {
      "cell_type": "markdown",
      "metadata": {
        "id": "msRBq-6DFrf3"
      },
      "source": [
        "##【文字列を数値に変換する（Convert numbers to strings）】"
      ]
    },
    {
      "cell_type": "code",
      "metadata": {
        "colab": {
          "base_uri": "https://localhost:8080/",
          "height": 35
        },
        "id": "uAbIyMqMEUPJ",
        "outputId": "7b1abaca-79cc-4ccc-b433-ce362ec9712f"
      },
      "source": [
        "'number:' + str(5)"
      ],
      "execution_count": 84,
      "outputs": [
        {
          "output_type": "execute_result",
          "data": {
            "application/vnd.google.colaboratory.intrinsic+json": {
              "type": "string"
            },
            "text/plain": [
              "'number:5'"
            ]
          },
          "metadata": {
            "tags": []
          },
          "execution_count": 84
        }
      ]
    },
    {
      "cell_type": "markdown",
      "metadata": {
        "id": "3frVsUSoF1cn"
      },
      "source": [
        "##【文字列を数値に変換する（Convert strings to numbers）】"
      ]
    },
    {
      "cell_type": "code",
      "metadata": {
        "colab": {
          "base_uri": "https://localhost:8080/"
        },
        "id": "Gz0T4oHqE2o6",
        "outputId": "152ed734-2323-47f7-b88e-779a83a5cf5f"
      },
      "source": [
        "5 + int('3')"
      ],
      "execution_count": 85,
      "outputs": [
        {
          "output_type": "execute_result",
          "data": {
            "text/plain": [
              "8"
            ]
          },
          "metadata": {
            "tags": []
          },
          "execution_count": 85
        }
      ]
    },
    {
      "cell_type": "code",
      "metadata": {
        "colab": {
          "base_uri": "https://localhost:8080/"
        },
        "id": "uG9Im1aOGOJz",
        "outputId": "f2b33550-0ee1-4d3b-b650-d8ef44326b48"
      },
      "source": [
        ""
      ],
      "execution_count": 87,
      "outputs": [
        {
          "output_type": "execute_result",
          "data": {
            "text/plain": [
              "10.98"
            ]
          },
          "metadata": {
            "tags": []
          },
          "execution_count": 87
        }
      ]
    },
    {
      "cell_type": "markdown",
      "metadata": {
        "id": "8-nrkJMZKytA"
      },
      "source": [
        "#[６]変数を使う（Use variables）"
      ]
    },
    {
      "cell_type": "code",
      "metadata": {
        "colab": {
          "base_uri": "https://localhost:8080/"
        },
        "id": "6o14YrE-GsUN",
        "outputId": "2de8cc38-bc8b-44fa-fb6a-d04b64098798"
      },
      "source": [
        "num1 = 5\n",
        "num2 = 9\n",
        "result1 = num1 + num2\n",
        "result2 = num1 - num2 \n",
        "result3 = num1 * num2\n",
        "print(result1)\n",
        "print(result2)\n",
        "print(result3)"
      ],
      "execution_count": 89,
      "outputs": [
        {
          "output_type": "stream",
          "text": [
            "14\n",
            "-4\n",
            "45\n"
          ],
          "name": "stdout"
        }
      ]
    },
    {
      "cell_type": "code",
      "metadata": {
        "colab": {
          "base_uri": "https://localhost:8080/"
        },
        "id": "q54A6mYmLPAT",
        "outputId": "933b0c18-9796-4b08-9a0e-057d026d93de"
      },
      "source": [
        "type(result1)"
      ],
      "execution_count": 90,
      "outputs": [
        {
          "output_type": "execute_result",
          "data": {
            "text/plain": [
              "int"
            ]
          },
          "metadata": {
            "tags": []
          },
          "execution_count": 90
        }
      ]
    },
    {
      "cell_type": "code",
      "metadata": {
        "colab": {
          "base_uri": "https://localhost:8080/"
        },
        "id": "nzjjm0MWLaIL",
        "outputId": "e3a011c7-45f2-46aa-ba4d-e28fe1e667b0"
      },
      "source": [
        "msg = 'Hello! Python'\n",
        "print(msg)"
      ],
      "execution_count": 91,
      "outputs": [
        {
          "output_type": "stream",
          "text": [
            "Hello! Python\n"
          ],
          "name": "stdout"
        }
      ]
    },
    {
      "cell_type": "code",
      "metadata": {
        "colab": {
          "base_uri": "https://localhost:8080/"
        },
        "id": "AzFm2ba1LqJE",
        "outputId": "6431ce5e-5240-40a8-c367-98ee4ed883c6"
      },
      "source": [
        "num1 = 5 + 6\n",
        "msg = '計算結果(Caluculation result) ='\n",
        "print(msg,num1)"
      ],
      "execution_count": 95,
      "outputs": [
        {
          "output_type": "stream",
          "text": [
            "計算結果 = 11\n"
          ],
          "name": "stdout"
        }
      ]
    },
    {
      "cell_type": "code",
      "metadata": {
        "colab": {
          "base_uri": "https://localhost:8080/"
        },
        "id": "bXK3r7FWLucu",
        "outputId": "2c61a3f3-a060-4327-e737-c47ddcdee5bf"
      },
      "source": [
        "type(num1)"
      ],
      "execution_count": 96,
      "outputs": [
        {
          "output_type": "execute_result",
          "data": {
            "text/plain": [
              "int"
            ]
          },
          "metadata": {
            "tags": []
          },
          "execution_count": 96
        }
      ]
    },
    {
      "cell_type": "code",
      "metadata": {
        "colab": {
          "base_uri": "https://localhost:8080/"
        },
        "id": "76CxuZPZMT_o",
        "outputId": "d155d2c6-e6ad-4a61-9efd-173fa0b01654"
      },
      "source": [
        "type(msg)"
      ],
      "execution_count": 99,
      "outputs": [
        {
          "output_type": "execute_result",
          "data": {
            "text/plain": [
              "str"
            ]
          },
          "metadata": {
            "tags": []
          },
          "execution_count": 99
        }
      ]
    },
    {
      "cell_type": "code",
      "metadata": {
        "colab": {
          "base_uri": "https://localhost:8080/",
          "height": 211
        },
        "id": "UL4pnVi5L-q-",
        "outputId": "bfcd6606-ff11-4d20-a88f-4ffeed484bfc"
      },
      "source": [
        "num1 = 5 + 6\n",
        "msg = '計算結果(Caluculation result) =' + num1\n",
        "print(msg)"
      ],
      "execution_count": 97,
      "outputs": [
        {
          "output_type": "error",
          "ename": "TypeError",
          "evalue": "ignored",
          "traceback": [
            "\u001b[0;31m---------------------------------------------------------------------------\u001b[0m",
            "\u001b[0;31mTypeError\u001b[0m                                 Traceback (most recent call last)",
            "\u001b[0;32m<ipython-input-97-d15ff5aed3c6>\u001b[0m in \u001b[0;36m<module>\u001b[0;34m()\u001b[0m\n\u001b[1;32m      1\u001b[0m \u001b[0mnum1\u001b[0m \u001b[0;34m=\u001b[0m \u001b[0;36m5\u001b[0m \u001b[0;34m+\u001b[0m \u001b[0;36m6\u001b[0m\u001b[0;34m\u001b[0m\u001b[0;34m\u001b[0m\u001b[0m\n\u001b[0;32m----> 2\u001b[0;31m \u001b[0mmsg\u001b[0m \u001b[0;34m=\u001b[0m \u001b[0;34m'計算結果(Caluculation result) ='\u001b[0m \u001b[0;34m+\u001b[0m \u001b[0mnum1\u001b[0m\u001b[0;34m\u001b[0m\u001b[0;34m\u001b[0m\u001b[0m\n\u001b[0m\u001b[1;32m      3\u001b[0m \u001b[0mprint\u001b[0m\u001b[0;34m(\u001b[0m\u001b[0mmsg\u001b[0m\u001b[0;34m,\u001b[0m\u001b[0mnum1\u001b[0m\u001b[0;34m)\u001b[0m\u001b[0;34m\u001b[0m\u001b[0;34m\u001b[0m\u001b[0m\n",
            "\u001b[0;31mTypeError\u001b[0m: can only concatenate str (not \"int\") to str"
          ]
        }
      ]
    },
    {
      "cell_type": "code",
      "metadata": {
        "colab": {
          "base_uri": "https://localhost:8080/"
        },
        "id": "R68YH0iTMMSp",
        "outputId": "1cc23d55-0411-4aaa-cc8c-232c4f918140"
      },
      "source": [
        "num1 = 5 + 6\n",
        "msg = '計算結果(Caluculation result) =' + str(num1)\n",
        "print(msg)"
      ],
      "execution_count": 98,
      "outputs": [
        {
          "output_type": "stream",
          "text": [
            "計算結果(Caluculation result) =11 11\n"
          ],
          "name": "stdout"
        }
      ]
    },
    {
      "cell_type": "code",
      "metadata": {
        "colab": {
          "base_uri": "https://localhost:8080/"
        },
        "id": "iM1CY_VmMQHD",
        "outputId": "9c0a8917-a4f0-4ea3-97a4-2bc06e384b27"
      },
      "source": [
        "num1 = 9\n",
        "num2 = num1\n",
        "print(num1)\n",
        "print(num2)"
      ],
      "execution_count": 100,
      "outputs": [
        {
          "output_type": "stream",
          "text": [
            "9\n",
            "9\n"
          ],
          "name": "stdout"
        }
      ]
    },
    {
      "cell_type": "code",
      "metadata": {
        "colab": {
          "base_uri": "https://localhost:8080/"
        },
        "id": "Cxw8MySuMgNZ",
        "outputId": "d3929fb5-5ebe-4a8f-8d4b-3a6ce792b2b1"
      },
      "source": [
        "num1 = 9                 \n",
        "num2 =num1 + 6          #num2 = 15\n",
        "num1 = 2                #num1 is rewritten from 9 to 2\n",
        "num2 = num1 + num2      #num2(new) = num1(new) + num2(old) = 2 + 15   \n",
        "print(num2)"
      ],
      "execution_count": 102,
      "outputs": [
        {
          "output_type": "stream",
          "text": [
            "17\n"
          ],
          "name": "stdout"
        }
      ]
    },
    {
      "cell_type": "code",
      "metadata": {
        "colab": {
          "base_uri": "https://localhost:8080/",
          "height": 211
        },
        "id": "BWB672syMtCX",
        "outputId": "225239d0-f285-4be4-966b-b184a6f71659"
      },
      "source": [
        "num1 = 4\n",
        "num2 = 6\n",
        "\n",
        "num4 = num1 + num2 + num3"
      ],
      "execution_count": 103,
      "outputs": [
        {
          "output_type": "error",
          "ename": "NameError",
          "evalue": "ignored",
          "traceback": [
            "\u001b[0;31m---------------------------------------------------------------------------\u001b[0m",
            "\u001b[0;31mNameError\u001b[0m                                 Traceback (most recent call last)",
            "\u001b[0;32m<ipython-input-103-8c52b8534cf3>\u001b[0m in \u001b[0;36m<module>\u001b[0;34m()\u001b[0m\n\u001b[1;32m      2\u001b[0m \u001b[0mnum2\u001b[0m \u001b[0;34m=\u001b[0m \u001b[0;36m6\u001b[0m\u001b[0;34m\u001b[0m\u001b[0;34m\u001b[0m\u001b[0m\n\u001b[1;32m      3\u001b[0m \u001b[0;34m\u001b[0m\u001b[0m\n\u001b[0;32m----> 4\u001b[0;31m \u001b[0mnum4\u001b[0m \u001b[0;34m=\u001b[0m \u001b[0mnum1\u001b[0m \u001b[0;34m+\u001b[0m \u001b[0mnum2\u001b[0m \u001b[0;34m+\u001b[0m \u001b[0mnum3\u001b[0m\u001b[0;34m\u001b[0m\u001b[0;34m\u001b[0m\u001b[0m\n\u001b[0m",
            "\u001b[0;31mNameError\u001b[0m: name 'num3' is not defined"
          ]
        }
      ]
    },
    {
      "cell_type": "markdown",
      "metadata": {
        "id": "WEG8n4VYOjIk"
      },
      "source": [
        "#[７]複合代入演算子（Compound assignment operator）"
      ]
    },
    {
      "cell_type": "code",
      "metadata": {
        "colab": {
          "base_uri": "https://localhost:8080/"
        },
        "id": "KRAq3TXUNlYN",
        "outputId": "da6700a8-343c-4bad-d17d-d7883801ca6e"
      },
      "source": [
        "num1 = 7\n",
        "num1 = num1 + 8\n",
        "print(num1)\n",
        "\n",
        "num1 = 7\n",
        "num1 += 8\n",
        "print(num1)"
      ],
      "execution_count": 105,
      "outputs": [
        {
          "output_type": "stream",
          "text": [
            "15\n",
            "15\n"
          ],
          "name": "stdout"
        }
      ]
    },
    {
      "cell_type": "code",
      "metadata": {
        "colab": {
          "base_uri": "https://localhost:8080/"
        },
        "id": "n01k-OruPFeU",
        "outputId": "9a95e194-2839-4cf5-ae9d-7330fe556b4d"
      },
      "source": [
        "num2 = 11\n",
        "num2 = num2 - 15\n",
        "print(num2)\n",
        "\n",
        "num2 = 11\n",
        "num2 -= 15\n",
        "print(num2)"
      ],
      "execution_count": 106,
      "outputs": [
        {
          "output_type": "stream",
          "text": [
            "-4\n",
            "-4\n"
          ],
          "name": "stdout"
        }
      ]
    },
    {
      "cell_type": "code",
      "metadata": {
        "colab": {
          "base_uri": "https://localhost:8080/"
        },
        "id": "K7FwExpaPifT",
        "outputId": "01c0cc8b-656f-479a-895b-6922bb614f33"
      },
      "source": [
        "num3 = 87\n",
        "num3 = num3 * 3\n",
        "print(num3)\n",
        "\n",
        "num3 = 87\n",
        "num3 *= 3\n",
        "print(num3)"
      ],
      "execution_count": 108,
      "outputs": [
        {
          "output_type": "stream",
          "text": [
            "261\n",
            "261\n"
          ],
          "name": "stdout"
        }
      ]
    },
    {
      "cell_type": "code",
      "metadata": {
        "colab": {
          "base_uri": "https://localhost:8080/"
        },
        "id": "nbUgxMIBPxPf",
        "outputId": "257ec14c-207f-405c-a075-7c5b588fd65a"
      },
      "source": [
        "num4 = 36\n",
        "num4 = num4 / 3\n",
        "print(num4)\n",
        "\n",
        "num4 = 36\n",
        "num4 /= 3\n",
        "print(num4)"
      ],
      "execution_count": 110,
      "outputs": [
        {
          "output_type": "stream",
          "text": [
            "12.0\n",
            "12.0\n"
          ],
          "name": "stdout"
        }
      ]
    },
    {
      "cell_type": "code",
      "metadata": {
        "colab": {
          "base_uri": "https://localhost:8080/"
        },
        "id": "-951ieDNQAdH",
        "outputId": "b45553eb-cbbe-43ee-c473-8f1b9098ef65"
      },
      "source": [
        "num5 = 17\n",
        "num5 = num5 // 3\n",
        "print(num5)\n",
        "\n",
        "num5 = 17\n",
        "num5 //= 3\n",
        "print(num5)"
      ],
      "execution_count": 112,
      "outputs": [
        {
          "output_type": "stream",
          "text": [
            "5\n",
            "5\n"
          ],
          "name": "stdout"
        }
      ]
    },
    {
      "cell_type": "code",
      "metadata": {
        "colab": {
          "base_uri": "https://localhost:8080/"
        },
        "id": "a9prRLi2QPtS",
        "outputId": "fd91803a-e7c1-46c9-eb30-37dfe6a2e5c3"
      },
      "source": [
        "num6 = 4\n",
        "num6 = num6 ** 8\n",
        "print(num6)\n",
        "\n",
        "num6 = 4\n",
        "num6 **=8\n",
        "print(num6)"
      ],
      "execution_count": 114,
      "outputs": [
        {
          "output_type": "stream",
          "text": [
            "65536\n",
            "65536\n"
          ],
          "name": "stdout"
        }
      ]
    },
    {
      "cell_type": "code",
      "metadata": {
        "colab": {
          "base_uri": "https://localhost:8080/"
        },
        "id": "a4Z7Krt7QhMC",
        "outputId": "4e23e7b1-753e-43e3-9b93-913104fe49f5"
      },
      "source": [
        "str1 = 'abc'\n",
        "str1 += 'def'\n",
        "print(str1)\n",
        "\n",
        "str1 *= 3\n",
        "print(str1)"
      ],
      "execution_count": 115,
      "outputs": [
        {
          "output_type": "stream",
          "text": [
            "abcdef\n",
            "abcdefabcdefabcdef\n"
          ],
          "name": "stdout"
        }
      ]
    },
    {
      "cell_type": "code",
      "metadata": {
        "colab": {
          "base_uri": "https://localhost:8080/"
        },
        "id": "YV6wGgomQxYZ",
        "outputId": "591cb357-1563-46ef-a4bc-c63c7e675897"
      },
      "source": [
        "a = input('Input Sentence')\n",
        "print(a)"
      ],
      "execution_count": 117,
      "outputs": [
        {
          "output_type": "stream",
          "text": [
            "Input SentenceHello! World!\n",
            "Hello! World!\n"
          ],
          "name": "stdout"
        }
      ]
    },
    {
      "cell_type": "code",
      "metadata": {
        "colab": {
          "base_uri": "https://localhost:8080/"
        },
        "id": "juJc76ZzQ-Ux",
        "outputId": "ae78d091-caf6-4d3d-adfb-52d28a9dd0d0"
      },
      "source": [
        "num1 = input('Input a number1')\n",
        "num2 = input('input a number2')\n",
        "print(num1 + num2)"
      ],
      "execution_count": 120,
      "outputs": [
        {
          "output_type": "stream",
          "text": [
            "Input a number16\n",
            "input a number29\n",
            "69\n"
          ],
          "name": "stdout"
        }
      ]
    },
    {
      "cell_type": "code",
      "metadata": {
        "colab": {
          "base_uri": "https://localhost:8080/"
        },
        "id": "wERwvTDoRqdw",
        "outputId": "d1979e01-6dc8-4245-aac9-4a938beeaed0"
      },
      "source": [
        "type(num1 + num2)"
      ],
      "execution_count": 121,
      "outputs": [
        {
          "output_type": "execute_result",
          "data": {
            "text/plain": [
              "str"
            ]
          },
          "metadata": {
            "tags": []
          },
          "execution_count": 121
        }
      ]
    },
    {
      "cell_type": "code",
      "metadata": {
        "colab": {
          "base_uri": "https://localhost:8080/"
        },
        "id": "bNyHwEZLRbHB",
        "outputId": "1a7e576f-da25-42f3-baae-b12f42dce2e7"
      },
      "source": [
        "num1 = input('Input a number1')\n",
        "num2 = input('input a number2')\n",
        "print(int(num1) + int(num2))"
      ],
      "execution_count": 122,
      "outputs": [
        {
          "output_type": "stream",
          "text": [
            "Input a number16\n",
            "input a number29\n",
            "15\n"
          ],
          "name": "stdout"
        }
      ]
    },
    {
      "cell_type": "code",
      "metadata": {
        "colab": {
          "base_uri": "https://localhost:8080/"
        },
        "id": "a3qq2KjiRmSB",
        "outputId": "21607c96-9672-4257-d076-65ebeb88b950"
      },
      "source": [
        "type(num1 + num2)"
      ],
      "execution_count": 123,
      "outputs": [
        {
          "output_type": "execute_result",
          "data": {
            "text/plain": [
              "str"
            ]
          },
          "metadata": {
            "tags": []
          },
          "execution_count": 123
        }
      ]
    },
    {
      "cell_type": "markdown",
      "metadata": {
        "id": "BuDEVbD6SQWc"
      },
      "source": [
        "【８】比較演算子（Comparison Operator）"
      ]
    },
    {
      "cell_type": "code",
      "metadata": {
        "colab": {
          "base_uri": "https://localhost:8080/"
        },
        "id": "aDR-8ERURzDd",
        "outputId": "1bf3a51e-9e0b-4749-bad6-efa21f5c5f2a"
      },
      "source": [
        "8 > 1"
      ],
      "execution_count": 124,
      "outputs": [
        {
          "output_type": "execute_result",
          "data": {
            "text/plain": [
              "True"
            ]
          },
          "metadata": {
            "tags": []
          },
          "execution_count": 124
        }
      ]
    },
    {
      "cell_type": "code",
      "metadata": {
        "colab": {
          "base_uri": "https://localhost:8080/"
        },
        "id": "sHgIZvmhSYe2",
        "outputId": "bbaab37e-419e-4c17-ae37-f3c5dba5a13f"
      },
      "source": [
        "8 < 1"
      ],
      "execution_count": 125,
      "outputs": [
        {
          "output_type": "execute_result",
          "data": {
            "text/plain": [
              "False"
            ]
          },
          "metadata": {
            "tags": []
          },
          "execution_count": 125
        }
      ]
    },
    {
      "cell_type": "code",
      "metadata": {
        "colab": {
          "base_uri": "https://localhost:8080/"
        },
        "id": "mWlNaQPcSaKC",
        "outputId": "e06084ab-0e23-43b9-e9e4-9568a38b8113"
      },
      "source": [
        "9 == 9"
      ],
      "execution_count": 126,
      "outputs": [
        {
          "output_type": "execute_result",
          "data": {
            "text/plain": [
              "True"
            ]
          },
          "metadata": {
            "tags": []
          },
          "execution_count": 126
        }
      ]
    },
    {
      "cell_type": "code",
      "metadata": {
        "colab": {
          "base_uri": "https://localhost:8080/"
        },
        "id": "GIhmms99Sc-C",
        "outputId": "5e063825-d18f-400c-e010-8a26bad4c5d5"
      },
      "source": [
        "9 != 9"
      ],
      "execution_count": 127,
      "outputs": [
        {
          "output_type": "execute_result",
          "data": {
            "text/plain": [
              "False"
            ]
          },
          "metadata": {
            "tags": []
          },
          "execution_count": 127
        }
      ]
    },
    {
      "cell_type": "code",
      "metadata": {
        "colab": {
          "base_uri": "https://localhost:8080/"
        },
        "id": "UH-aOSTGSfXo",
        "outputId": "cdb183cf-66a5-421d-fb75-7f8d1e33122d"
      },
      "source": [
        "9 == 9.0"
      ],
      "execution_count": 128,
      "outputs": [
        {
          "output_type": "execute_result",
          "data": {
            "text/plain": [
              "True"
            ]
          },
          "metadata": {
            "tags": []
          },
          "execution_count": 128
        }
      ]
    },
    {
      "cell_type": "code",
      "metadata": {
        "colab": {
          "base_uri": "https://localhost:8080/"
        },
        "id": "gCItEs6GSjfq",
        "outputId": "af4805cb-b5a4-4584-f0e1-522ec1a40fc3"
      },
      "source": [
        "9 is 9.0"
      ],
      "execution_count": 129,
      "outputs": [
        {
          "output_type": "execute_result",
          "data": {
            "text/plain": [
              "False"
            ]
          },
          "metadata": {
            "tags": []
          },
          "execution_count": 129
        }
      ]
    },
    {
      "cell_type": "markdown",
      "metadata": {
        "id": "CeMHdOUJSrDs"
      },
      "source": [
        "#【８】if文（if statement）"
      ]
    },
    {
      "cell_type": "code",
      "metadata": {
        "colab": {
          "base_uri": "https://localhost:8080/"
        },
        "id": "28ogvW42SlrW",
        "outputId": "ff4d2578-58aa-462b-9cff-176b63c35459"
      },
      "source": [
        "str1 = input('Input a text')\n",
        "\n",
        "if str1 == 'abc':\n",
        "  print('Entered Correctly')\n",
        "  print('If statement-block ends')\n",
        "\n",
        "print('This Program ends')"
      ],
      "execution_count": 130,
      "outputs": [
        {
          "output_type": "stream",
          "text": [
            "Input a textu\n",
            "This Program ends\n"
          ],
          "name": "stdout"
        }
      ]
    },
    {
      "cell_type": "code",
      "metadata": {
        "colab": {
          "base_uri": "https://localhost:8080/"
        },
        "id": "9_u31eerTh92",
        "outputId": "69142454-b318-4bd3-c65a-47dabfba6122"
      },
      "source": [
        "str1 = input('Input a text')\n",
        "\n",
        "if str1 == 'abc':\n",
        "  print('Entered Correctly')\n",
        "  print('If statement-block ends')\n",
        "\n",
        "print('This Program ends')"
      ],
      "execution_count": 131,
      "outputs": [
        {
          "output_type": "stream",
          "text": [
            "Input a textabc\n",
            "Entered Correctly\n",
            "If statement-block ends\n",
            "This Program ends\n"
          ],
          "name": "stdout"
        }
      ]
    },
    {
      "cell_type": "code",
      "metadata": {
        "colab": {
          "base_uri": "https://localhost:8080/"
        },
        "id": "1uv-RPzZTmoD",
        "outputId": "f10864f6-e216-4011-cac5-0fe4f2c8f756"
      },
      "source": [
        "str1 = input('Input a text')\n",
        "\n",
        "if str1 == 'abc':\n",
        "  print('Entered Correctly')\n",
        "  print('If statement-block ends')\n",
        "\n",
        "else:\n",
        "  print(\"There was an error in the input\")\n",
        "\n",
        "print('This Program ends')"
      ],
      "execution_count": 133,
      "outputs": [
        {
          "output_type": "stream",
          "text": [
            "Input a textkoe\n",
            "There was an error in the input\n",
            "This Program ends\n"
          ],
          "name": "stdout"
        }
      ]
    },
    {
      "cell_type": "code",
      "metadata": {
        "colab": {
          "base_uri": "https://localhost:8080/"
        },
        "id": "F_6RQVImT9bm",
        "outputId": "c69f193d-57c2-492d-8158-e754f6d671a6"
      },
      "source": [
        "str1 = input('Input \"abc\" or \"123\"')\n",
        "\n",
        "if str1 == 'abc':\n",
        "  print('Entered Correctly')\n",
        "  print('You input \"abc\"')\n",
        "\n",
        "elif str1 == '123':\n",
        "  print('Entered Correctly')\n",
        "  print('You input \"123\"')\n",
        "\n",
        "else:\n",
        "  print(\"There was an error in the input\")\n",
        "\n",
        "print('This Program ends')"
      ],
      "execution_count": 137,
      "outputs": [
        {
          "output_type": "stream",
          "text": [
            "Input a text \"abc\" or \"123\"345\n",
            "There was an error in the input\n",
            "This Program ends\n"
          ],
          "name": "stdout"
        }
      ]
    },
    {
      "cell_type": "code",
      "metadata": {
        "colab": {
          "base_uri": "https://localhost:8080/"
        },
        "id": "ZEpaBd7_U_SB",
        "outputId": "231b8979-9ed2-4187-eedc-b0de245407ba"
      },
      "source": [
        "str1 = input('Input \"abc\" or \"123\" or \"ABC\"')\n",
        "\n",
        "if str1 == 'abc':\n",
        "  print('Entered Correctly')\n",
        "  print('You input \"abc\"')\n",
        "\n",
        "elif str1 == '123':\n",
        "  print('Entered Correctly')\n",
        "  print('You input \"123\"')\n",
        "\n",
        "elif str1 == 'ABC':\n",
        "  print('Entered Correctly')\n",
        "  print('You input \"ABC\"')\n",
        "\n",
        "else:\n",
        "  print(\"There was an error in the input\")\n",
        "\n",
        "print('This Program ends')"
      ],
      "execution_count": 138,
      "outputs": [
        {
          "output_type": "stream",
          "text": [
            "Input a text \"abc\" or \"ABC\"ABC\n",
            "Entered Correctly\n",
            "You input \"ABC\"\n",
            "This Program ends\n"
          ],
          "name": "stdout"
        }
      ]
    },
    {
      "cell_type": "code",
      "metadata": {
        "colab": {
          "base_uri": "https://localhost:8080/"
        },
        "id": "uev-roPkVW3J",
        "outputId": "ee6cdaef-830d-4acb-d40f-069e06fc72a2"
      },
      "source": [
        "num1 = 100\n",
        "num2 = input('Input a number')\n",
        "\n",
        "if num1 > int(num2):\n",
        "  print(num2 + ' is smaller than 100.')\n",
        "\n",
        "elif num1 < int(num2):\n",
        "  print(num2 + ' is bigger than 100.')\n",
        "\n",
        "elif num1 == int(num2):\n",
        "  print(num2 + ' is 100.')\n",
        "\n",
        "elif num1 >= int(num2):\n",
        "  print(num2 + ' is 100 or less.')\n",
        "\n",
        "elif num1 <= int(num2):\n",
        "  print(str(num2) + ' is 100 or more.')\n",
        "\n",
        "else:\n",
        "  print(\"There was an error in the input\")\n",
        "\n",
        "print('This Program ends')"
      ],
      "execution_count": 145,
      "outputs": [
        {
          "output_type": "stream",
          "text": [
            "Input a number100\n",
            "100 is 100.\n",
            "This Program ends\n"
          ],
          "name": "stdout"
        }
      ]
    },
    {
      "cell_type": "code",
      "metadata": {
        "colab": {
          "base_uri": "https://localhost:8080/"
        },
        "id": "PaC8iB7oW6ck",
        "outputId": "09d977ca-31cc-4b64-8f88-2a7e002c42b3"
      },
      "source": [
        "num1 = 100\n",
        "num2 = input('Input a number')\n",
        "\n",
        "if num1 > int(num2):\n",
        "  print(num2 + ' is smaller than 100.')\n",
        "\n",
        "elif num1 < int(num2):\n",
        "  print(num2 + ' is bigger than 100.')\n",
        "\n",
        "elif num1 == int(num2):\n",
        "  print(num2 + ' is 100.')\n",
        "\n",
        "if num1 >= int(num2):\n",
        "  print(num2 + ' is 100 or less.')\n",
        "\n",
        "elif num1 <= int(num2):\n",
        "  print(str(num2) + ' is 100 or more.')\n",
        "\n",
        "else:\n",
        "  print(\"There was an error in the input\")\n",
        "\n",
        "print('This Program ends')"
      ],
      "execution_count": 146,
      "outputs": [
        {
          "output_type": "stream",
          "text": [
            "Input a number100\n",
            "100 is 100.\n",
            "100 is 100 or less.\n",
            "This Program ends\n"
          ],
          "name": "stdout"
        }
      ]
    },
    {
      "cell_type": "code",
      "metadata": {
        "colab": {
          "base_uri": "https://localhost:8080/"
        },
        "id": "H3qAko-rXXYq",
        "outputId": "a72ebdd8-db08-4cf1-a663-1acca4e272db"
      },
      "source": [
        "a = int(input('Input an integer '))\n",
        "if a < 10 and a >= 0:\n",
        "  print(str(a) + ' is more and less than 10')\n",
        "\n",
        "else:\n",
        "  print(str(a) + ' is less than 0 or bigger than or equall 10')"
      ],
      "execution_count": 149,
      "outputs": [
        {
          "output_type": "stream",
          "text": [
            "Input an integer 8\n",
            "8 is more and less than 10\n"
          ],
          "name": "stdout"
        }
      ]
    },
    {
      "cell_type": "code",
      "metadata": {
        "colab": {
          "base_uri": "https://localhost:8080/"
        },
        "id": "qKY55plZYvCo",
        "outputId": "d9cd5ecf-e287-4a57-e588-15045ac1563b"
      },
      "source": [
        "b = int(input('Input an integer'))\n",
        "if b > 10 or b <= 0:\n",
        "  print(str(b) + ' is smaller than 0 ,or 10 or more')\n",
        "\n",
        "else:\n",
        "  print(str(b) + ' is 0 or more and less than 10 ')"
      ],
      "execution_count": 150,
      "outputs": [
        {
          "output_type": "stream",
          "text": [
            "Input an integer8\n",
            "8 is 0 or more and less than 10 \n"
          ],
          "name": "stdout"
        }
      ]
    },
    {
      "cell_type": "code",
      "metadata": {
        "colab": {
          "base_uri": "https://localhost:8080/"
        },
        "id": "_nlUxwvfZ9b_",
        "outputId": "7997566a-accf-427b-89f8-684f3f8479fe"
      },
      "source": [
        "c = int(input('Input an integer'))\n",
        "if not c < 10:\n",
        "  print(str(c) + ' is not 10 or less')\n",
        "\n",
        "elif not c >= 0:\n",
        "  print(str(c) + ' is not more than 0 ')\n",
        "\n",
        "else:\n",
        "  print(str(c) + ' less than 10 ')"
      ],
      "execution_count": 153,
      "outputs": [
        {
          "output_type": "stream",
          "text": [
            "Input an integer11\n",
            "11 is not 10 or less\n"
          ],
          "name": "stdout"
        }
      ]
    },
    {
      "cell_type": "code",
      "metadata": {
        "colab": {
          "base_uri": "https://localhost:8080/"
        },
        "id": "5yZsDeppa-qX",
        "outputId": "0bda76e0-dc0f-4d74-9d71-605fb0bf99bc"
      },
      "source": [
        "str1 = input('Input \"abc\"')\n",
        "\n",
        "if str1 == 'abc':\n",
        "  print('abc is correctly entered')\n",
        "  str2 = input('input \"123\"')\n",
        "  if str2 == '123':\n",
        "    print('123 is correctly entered')\n",
        "  else:\n",
        "    print(\"You didnt input 123\")\n",
        "else:\n",
        "  print(\"You didnt input abc\")\n",
        "\n",
        "print('This Program ends')"
      ],
      "execution_count": 156,
      "outputs": [
        {
          "output_type": "stream",
          "text": [
            "Input \"abc\"abc\n",
            "abc is correctly entered\n",
            "input \"123\"5\n",
            "You didnt input 123\n",
            "This Program ends\n"
          ],
          "name": "stdout"
        }
      ]
    },
    {
      "cell_type": "code",
      "metadata": {
        "id": "kimVwzbIct82"
      },
      "source": [
        ""
      ],
      "execution_count": null,
      "outputs": []
    }
  ]
}