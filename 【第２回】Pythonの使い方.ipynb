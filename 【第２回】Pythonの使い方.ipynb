{
  "nbformat": 4,
  "nbformat_minor": 0,
  "metadata": {
    "colab": {
      "name": "【第２回】Pythonの使い方.ipynb",
      "provenance": [],
      "collapsed_sections": [],
      "authorship_tag": "ABX9TyO0onPwGSxuESpm+01kOafm",
      "include_colab_link": true
    },
    "kernelspec": {
      "name": "python3",
      "display_name": "Python 3"
    },
    "language_info": {
      "name": "python"
    }
  },
  "cells": [
    {
      "cell_type": "markdown",
      "metadata": {
        "id": "view-in-github",
        "colab_type": "text"
      },
      "source": [
        "<a href=\"https://colab.research.google.com/github/DSF-Kotaro/classroom/blob/main/%E3%80%90%E7%AC%AC%EF%BC%92%E5%9B%9E%E3%80%91Python%E3%81%AE%E4%BD%BF%E3%81%84%E6%96%B9.ipynb\" target=\"_parent\"><img src=\"https://colab.research.google.com/assets/colab-badge.svg\" alt=\"Open In Colab\"/></a>"
      ]
    },
    {
      "cell_type": "markdown",
      "metadata": {
        "id": "Pit4DV5B_kUZ"
      },
      "source": [
        "# [１]文字列を出力してみよう(Out put texts)"
      ]
    },
    {
      "cell_type": "code",
      "metadata": {
        "colab": {
          "base_uri": "https://localhost:8080/"
        },
        "id": "89npQ4SN0mbJ",
        "outputId": "eff8814e-e2f9-4a0c-d2dc-b2174910c485"
      },
      "source": [
        "print('Hello World')"
      ],
      "execution_count": null,
      "outputs": [
        {
          "output_type": "stream",
          "text": [
            "Hello World\n"
          ],
          "name": "stdout"
        }
      ]
    },
    {
      "cell_type": "markdown",
      "metadata": {
        "id": "808p3ywS2Eqs"
      },
      "source": [
        "#[２]データの型について（Type of Datas）"
      ]
    },
    {
      "cell_type": "markdown",
      "metadata": {
        "id": "dhd9wX2Z2pnY"
      },
      "source": [
        "##【数値のデータ（Numerical data）】"
      ]
    },
    {
      "cell_type": "code",
      "metadata": {
        "colab": {
          "base_uri": "https://localhost:8080/"
        },
        "id": "Y-BHXt0y1wwL",
        "outputId": "6ba83098-4982-463d-f533-8bbda3bcbf58"
      },
      "source": [
        "type(100)"
      ],
      "execution_count": null,
      "outputs": [
        {
          "output_type": "execute_result",
          "data": {
            "text/plain": [
              "int"
            ]
          },
          "metadata": {
            "tags": []
          },
          "execution_count": 2
        }
      ]
    },
    {
      "cell_type": "code",
      "metadata": {
        "colab": {
          "base_uri": "https://localhost:8080/"
        },
        "id": "1PCGmRYA2bHc",
        "outputId": "c4febadc-572b-4454-8674-c35d83d6c616"
      },
      "source": [
        "type(3.14)"
      ],
      "execution_count": null,
      "outputs": [
        {
          "output_type": "execute_result",
          "data": {
            "text/plain": [
              "float"
            ]
          },
          "metadata": {
            "tags": []
          },
          "execution_count": 3
        }
      ]
    },
    {
      "cell_type": "code",
      "metadata": {
        "colab": {
          "base_uri": "https://localhost:8080/"
        },
        "id": "NuQZGu2b2epb",
        "outputId": "6bc0b159-fd18-41c5-e125-5bd8f5a1fbaa"
      },
      "source": [
        "type(1+2j)"
      ],
      "execution_count": null,
      "outputs": [
        {
          "output_type": "execute_result",
          "data": {
            "text/plain": [
              "complex"
            ]
          },
          "metadata": {
            "tags": []
          },
          "execution_count": 4
        }
      ]
    },
    {
      "cell_type": "markdown",
      "metadata": {
        "id": "8QfjVAQ822R4"
      },
      "source": [
        "##【文字列のデータ（String data）】"
      ]
    },
    {
      "cell_type": "code",
      "metadata": {
        "colab": {
          "base_uri": "https://localhost:8080/"
        },
        "id": "nnAyTROb2i_R",
        "outputId": "65f33982-2f84-48f2-ef82-eb8fb89eadc2"
      },
      "source": [
        "type(\"abc\")"
      ],
      "execution_count": null,
      "outputs": [
        {
          "output_type": "execute_result",
          "data": {
            "text/plain": [
              "str"
            ]
          },
          "metadata": {
            "tags": []
          },
          "execution_count": 5
        }
      ]
    },
    {
      "cell_type": "code",
      "metadata": {
        "colab": {
          "base_uri": "https://localhost:8080/"
        },
        "id": "bzOlbXc13GIP",
        "outputId": "11864b81-d2bf-49d1-cf0c-fa20f5ea1687"
      },
      "source": [
        "type(\"あいうえお\")"
      ],
      "execution_count": null,
      "outputs": [
        {
          "output_type": "execute_result",
          "data": {
            "text/plain": [
              "str"
            ]
          },
          "metadata": {
            "tags": []
          },
          "execution_count": 6
        }
      ]
    },
    {
      "cell_type": "markdown",
      "metadata": {
        "id": "rVxGAG573Sxe"
      },
      "source": [
        "##【エスケープ文字列（Escape string）】"
      ]
    },
    {
      "cell_type": "code",
      "metadata": {
        "colab": {
          "base_uri": "https://localhost:8080/"
        },
        "id": "G7iJfgy33JvW",
        "outputId": "c2a5385d-3be0-4ecf-8f6f-2b481c4a82be"
      },
      "source": [
        "#改行（new line） [\\n]\n",
        "print('abc\\ndef')"
      ],
      "execution_count": null,
      "outputs": [
        {
          "output_type": "stream",
          "text": [
            "abc\n",
            "def\n"
          ],
          "name": "stdout"
        }
      ]
    },
    {
      "cell_type": "code",
      "metadata": {
        "colab": {
          "base_uri": "https://localhost:8080/"
        },
        "id": "C_WLAerp3shp",
        "outputId": "6cce0a24-ab6b-4725-9b57-efea741d3350"
      },
      "source": [
        "#タブ（Tab）　[\\t]\n",
        "print('abc\\tdef')"
      ],
      "execution_count": null,
      "outputs": [
        {
          "output_type": "stream",
          "text": [
            "abc\tdef\n"
          ],
          "name": "stdout"
        }
      ]
    },
    {
      "cell_type": "code",
      "metadata": {
        "colab": {
          "base_uri": "https://localhost:8080/"
        },
        "id": "iX08wrXa4NuU",
        "outputId": "4822a6c2-7b3f-4534-d088-55e082d0c469"
      },
      "source": [
        "#\\マーク(mark of \"\\\")  [\\\\]\n",
        "print(\"abc\\\\def\")"
      ],
      "execution_count": null,
      "outputs": [
        {
          "output_type": "stream",
          "text": [
            "abc\\def\n"
          ],
          "name": "stdout"
        }
      ]
    },
    {
      "cell_type": "code",
      "metadata": {
        "colab": {
          "base_uri": "https://localhost:8080/"
        },
        "id": "bhx24rX44e16",
        "outputId": "a09cdd54-2e27-4c46-f9fc-b6e66c0fd0f3"
      },
      "source": [
        "#シングルクオーテーション（Single quote）　[\\']\n",
        "print(\"\\'abcdef\\'\")"
      ],
      "execution_count": null,
      "outputs": [
        {
          "output_type": "stream",
          "text": [
            "'abcdef'\n"
          ],
          "name": "stdout"
        }
      ]
    },
    {
      "cell_type": "code",
      "metadata": {
        "colab": {
          "base_uri": "https://localhost:8080/"
        },
        "id": "HlWjtP--425u",
        "outputId": "d2d2cc52-65d7-4abc-a1ef-b45a507d87c4"
      },
      "source": [
        "#ダブルクオーテーション（Double quote）　[\\\"]\n",
        "print(\"\\\"abcdef\\\"\")"
      ],
      "execution_count": null,
      "outputs": [
        {
          "output_type": "stream",
          "text": [
            "\"abcdef\"\n"
          ],
          "name": "stdout"
        }
      ]
    },
    {
      "cell_type": "markdown",
      "metadata": {
        "id": "9cSembpG-Z6f"
      },
      "source": [
        "##【真理値を表すデータ（Boolean）】"
      ]
    },
    {
      "cell_type": "code",
      "metadata": {
        "colab": {
          "base_uri": "https://localhost:8080/"
        },
        "id": "NNeS_fLs5D3a",
        "outputId": "c2c3e57a-9e37-43ed-d41d-e2a96aa0cce3"
      },
      "source": [
        "type(True)"
      ],
      "execution_count": null,
      "outputs": [
        {
          "output_type": "execute_result",
          "data": {
            "text/plain": [
              "bool"
            ]
          },
          "metadata": {
            "tags": []
          },
          "execution_count": 12
        }
      ]
    },
    {
      "cell_type": "code",
      "metadata": {
        "colab": {
          "base_uri": "https://localhost:8080/"
        },
        "id": "Fa6yx7TP-xb1",
        "outputId": "6545ad65-50ff-4592-c0cf-72554897ab7e"
      },
      "source": [
        "type(False)"
      ],
      "execution_count": null,
      "outputs": [
        {
          "output_type": "execute_result",
          "data": {
            "text/plain": [
              "bool"
            ]
          },
          "metadata": {
            "tags": []
          },
          "execution_count": 13
        }
      ]
    },
    {
      "cell_type": "markdown",
      "metadata": {
        "id": "OclpCRUy_V7B"
      },
      "source": [
        "#[３]演算子の使い方（How to use operator）"
      ]
    },
    {
      "cell_type": "markdown",
      "metadata": {
        "id": "ygTHvbgMAEdP"
      },
      "source": [
        "[足し算（addition）]"
      ]
    },
    {
      "cell_type": "code",
      "metadata": {
        "colab": {
          "base_uri": "https://localhost:8080/"
        },
        "id": "0vZYnZIU-1s1",
        "outputId": "e44ca85c-c60f-4927-8306-b9948dbe6f48"
      },
      "source": [
        "print(5 + 3)"
      ],
      "execution_count": null,
      "outputs": [
        {
          "output_type": "stream",
          "text": [
            "8\n"
          ],
          "name": "stdout"
        }
      ]
    },
    {
      "cell_type": "code",
      "metadata": {
        "colab": {
          "base_uri": "https://localhost:8080/"
        },
        "id": "UWSWekpyCA3g",
        "outputId": "893b370f-f8f8-48f0-ff6f-f84f8e6c0f07"
      },
      "source": [
        "5+3"
      ],
      "execution_count": null,
      "outputs": [
        {
          "output_type": "execute_result",
          "data": {
            "text/plain": [
              "8"
            ]
          },
          "metadata": {
            "tags": []
          },
          "execution_count": 15
        }
      ]
    },
    {
      "cell_type": "markdown",
      "metadata": {
        "id": "2qXjJuP2ZDq0"
      },
      "source": [
        "##blank"
      ]
    },
    {
      "cell_type": "markdown",
      "metadata": {
        "id": "DPcZiFx-ZKE4"
      },
      "source": [
        "##blank"
      ]
    },
    {
      "cell_type": "markdown",
      "metadata": {
        "id": "w3wGXcasAQkG"
      },
      "source": [
        "[引き算（subtraction）]"
      ]
    },
    {
      "cell_type": "code",
      "metadata": {
        "colab": {
          "base_uri": "https://localhost:8080/"
        },
        "id": "T8k-foqs_Sa-",
        "outputId": "7f68dcf8-2c5a-45da-8134-8d704c0dcc97"
      },
      "source": [
        "print(8 - 7)"
      ],
      "execution_count": null,
      "outputs": [
        {
          "output_type": "stream",
          "text": [
            "1\n"
          ],
          "name": "stdout"
        }
      ]
    },
    {
      "cell_type": "code",
      "metadata": {
        "colab": {
          "base_uri": "https://localhost:8080/"
        },
        "id": "TD-wA_KWCENP",
        "outputId": "8fc7ff97-82ea-4f13-ac68-bef33b6309e3"
      },
      "source": [
        "8 - 7"
      ],
      "execution_count": null,
      "outputs": [
        {
          "output_type": "execute_result",
          "data": {
            "text/plain": [
              "1"
            ]
          },
          "metadata": {
            "tags": []
          },
          "execution_count": 17
        }
      ]
    },
    {
      "cell_type": "markdown",
      "metadata": {
        "id": "TEVLVBL8AcTm"
      },
      "source": [
        "[掛け算（multiplication）]"
      ]
    },
    {
      "cell_type": "code",
      "metadata": {
        "colab": {
          "base_uri": "https://localhost:8080/"
        },
        "id": "o1FCLvJkAazq",
        "outputId": "90f0e37a-54ce-4eb5-8106-6869c34c3257"
      },
      "source": [
        "print(8 * 9)"
      ],
      "execution_count": null,
      "outputs": [
        {
          "output_type": "stream",
          "text": [
            "72\n"
          ],
          "name": "stdout"
        }
      ]
    },
    {
      "cell_type": "code",
      "metadata": {
        "colab": {
          "base_uri": "https://localhost:8080/"
        },
        "id": "mSP3Zu1XCHM6",
        "outputId": "25792d17-20b3-4eb3-b6e2-2db8318c5878"
      },
      "source": [
        "8 * 9"
      ],
      "execution_count": null,
      "outputs": [
        {
          "output_type": "execute_result",
          "data": {
            "text/plain": [
              "72"
            ]
          },
          "metadata": {
            "tags": []
          },
          "execution_count": 19
        }
      ]
    },
    {
      "cell_type": "markdown",
      "metadata": {
        "id": "sHGSRRQQAnd2"
      },
      "source": [
        "[割り算（division）]（quotient）"
      ]
    },
    {
      "cell_type": "code",
      "metadata": {
        "colab": {
          "base_uri": "https://localhost:8080/"
        },
        "id": "5gyBjXUBAla-",
        "outputId": "e22220bd-eb85-40ec-bb5e-ee21ee12fced"
      },
      "source": [
        "print(5/3)\n",
        "print(5//3)"
      ],
      "execution_count": null,
      "outputs": [
        {
          "output_type": "stream",
          "text": [
            "1.6666666666666667\n",
            "1\n"
          ],
          "name": "stdout"
        }
      ]
    },
    {
      "cell_type": "code",
      "metadata": {
        "colab": {
          "base_uri": "https://localhost:8080/"
        },
        "id": "PTNE0R9PCMmv",
        "outputId": "20fed601-3fe8-4ff9-fbab-d06dc8c178f1"
      },
      "source": [
        "5/3"
      ],
      "execution_count": null,
      "outputs": [
        {
          "output_type": "execute_result",
          "data": {
            "text/plain": [
              "1.6666666666666667"
            ]
          },
          "metadata": {
            "tags": []
          },
          "execution_count": 21
        }
      ]
    },
    {
      "cell_type": "code",
      "metadata": {
        "colab": {
          "base_uri": "https://localhost:8080/"
        },
        "id": "BcsgaeMWCOWR",
        "outputId": "c36086b9-f35c-4f0b-f99e-e54b82888791"
      },
      "source": [
        "5//3"
      ],
      "execution_count": null,
      "outputs": [
        {
          "output_type": "execute_result",
          "data": {
            "text/plain": [
              "1"
            ]
          },
          "metadata": {
            "tags": []
          },
          "execution_count": 22
        }
      ]
    },
    {
      "cell_type": "markdown",
      "metadata": {
        "id": "CgQvaLPzBFR3"
      },
      "source": [
        "[割り算（division）]（odds）"
      ]
    },
    {
      "cell_type": "code",
      "metadata": {
        "colab": {
          "base_uri": "https://localhost:8080/"
        },
        "id": "xKeTOpnDAyT6",
        "outputId": "61921793-cb08-43ab-99db-06e495e47d0b"
      },
      "source": [
        "print(9%2)"
      ],
      "execution_count": null,
      "outputs": [
        {
          "output_type": "stream",
          "text": [
            "1\n"
          ],
          "name": "stdout"
        }
      ]
    },
    {
      "cell_type": "markdown",
      "metadata": {
        "id": "90V3djK0BmFq"
      },
      "source": [
        "[累乗（Exponentiation）]"
      ]
    },
    {
      "cell_type": "code",
      "metadata": {
        "colab": {
          "base_uri": "https://localhost:8080/"
        },
        "id": "y14WX_wQBfIB",
        "outputId": "fda4145c-1d3c-4e53-901d-cb484bedadda"
      },
      "source": [
        "print(5**3)"
      ],
      "execution_count": null,
      "outputs": [
        {
          "output_type": "stream",
          "text": [
            "125\n"
          ],
          "name": "stdout"
        }
      ]
    },
    {
      "cell_type": "code",
      "metadata": {
        "colab": {
          "base_uri": "https://localhost:8080/"
        },
        "id": "m-AP_TtXB7du",
        "outputId": "ae4e5219-fc84-41fc-eb7f-c34d2550a3db"
      },
      "source": [
        "5**3"
      ],
      "execution_count": null,
      "outputs": [
        {
          "output_type": "execute_result",
          "data": {
            "text/plain": [
              "125"
            ]
          },
          "metadata": {
            "tags": []
          },
          "execution_count": 25
        }
      ]
    },
    {
      "cell_type": "markdown",
      "metadata": {
        "id": "4JGDg1LkCdrT"
      },
      "source": [
        "#[４]文字列をつなげる（connect strings）"
      ]
    },
    {
      "cell_type": "code",
      "metadata": {
        "colab": {
          "base_uri": "https://localhost:8080/",
          "height": 35
        },
        "id": "wjCUdUtoCSrC",
        "outputId": "70b8c35b-bf76-48c0-918f-d7980c68ec4c"
      },
      "source": [
        "'Hello!' + 'Python'"
      ],
      "execution_count": null,
      "outputs": [
        {
          "output_type": "execute_result",
          "data": {
            "application/vnd.google.colaboratory.intrinsic+json": {
              "type": "string"
            },
            "text/plain": [
              "'Hello!Python'"
            ]
          },
          "metadata": {
            "tags": []
          },
          "execution_count": 26
        }
      ]
    },
    {
      "cell_type": "code",
      "metadata": {
        "colab": {
          "base_uri": "https://localhost:8080/",
          "height": 35
        },
        "id": "-655WRDTDVcU",
        "outputId": "d6944734-f0c4-423a-b92b-29b1e7c2b5fd"
      },
      "source": [
        "'Hello!' + ' Python'"
      ],
      "execution_count": null,
      "outputs": [
        {
          "output_type": "execute_result",
          "data": {
            "application/vnd.google.colaboratory.intrinsic+json": {
              "type": "string"
            },
            "text/plain": [
              "'Hello! Python'"
            ]
          },
          "metadata": {
            "tags": []
          },
          "execution_count": 27
        }
      ]
    },
    {
      "cell_type": "code",
      "metadata": {
        "colab": {
          "base_uri": "https://localhost:8080/",
          "height": 171
        },
        "id": "KLSjISq3DaTi",
        "outputId": "cca97fe9-d165-47b6-ee85-7b60cb1c649a"
      },
      "source": [
        "'Python' + 5"
      ],
      "execution_count": null,
      "outputs": [
        {
          "output_type": "error",
          "ename": "TypeError",
          "evalue": "ignored",
          "traceback": [
            "\u001b[0;31m---------------------------------------------------------------------------\u001b[0m",
            "\u001b[0;31mTypeError\u001b[0m                                 Traceback (most recent call last)",
            "\u001b[0;32m<ipython-input-28-eb365dcedcb8>\u001b[0m in \u001b[0;36m<module>\u001b[0;34m()\u001b[0m\n\u001b[0;32m----> 1\u001b[0;31m \u001b[0;34m'Python'\u001b[0m \u001b[0;34m+\u001b[0m \u001b[0;36m5\u001b[0m\u001b[0;34m\u001b[0m\u001b[0;34m\u001b[0m\u001b[0m\n\u001b[0m",
            "\u001b[0;31mTypeError\u001b[0m: can only concatenate str (not \"int\") to str"
          ]
        }
      ]
    },
    {
      "cell_type": "code",
      "metadata": {
        "colab": {
          "base_uri": "https://localhost:8080/",
          "height": 35
        },
        "id": "CBVt675gDrNJ",
        "outputId": "4f32a218-6a3c-4ee0-d5c7-b33eca0fa2fb"
      },
      "source": [
        "'Python'*5"
      ],
      "execution_count": null,
      "outputs": [
        {
          "output_type": "execute_result",
          "data": {
            "application/vnd.google.colaboratory.intrinsic+json": {
              "type": "string"
            },
            "text/plain": [
              "'PythonPythonPythonPythonPython'"
            ]
          },
          "metadata": {
            "tags": []
          },
          "execution_count": 29
        }
      ]
    },
    {
      "cell_type": "markdown",
      "metadata": {
        "id": "FFr8ot8SFA6Q"
      },
      "source": [
        "#[５]型を変換する（Convert types）"
      ]
    },
    {
      "cell_type": "markdown",
      "metadata": {
        "id": "msRBq-6DFrf3"
      },
      "source": [
        "##【文字列を数値に変換する（Convert numbers to strings）】"
      ]
    },
    {
      "cell_type": "code",
      "metadata": {
        "colab": {
          "base_uri": "https://localhost:8080/",
          "height": 35
        },
        "id": "uAbIyMqMEUPJ",
        "outputId": "6c0ffa41-4a55-4ef8-9f71-800d2108772d"
      },
      "source": [
        "'number:' + str(5)"
      ],
      "execution_count": null,
      "outputs": [
        {
          "output_type": "execute_result",
          "data": {
            "application/vnd.google.colaboratory.intrinsic+json": {
              "type": "string"
            },
            "text/plain": [
              "'number:5'"
            ]
          },
          "metadata": {
            "tags": []
          },
          "execution_count": 30
        }
      ]
    },
    {
      "cell_type": "markdown",
      "metadata": {
        "id": "3frVsUSoF1cn"
      },
      "source": [
        "##【文字列を数値に変換する（Convert strings to numbers）】"
      ]
    },
    {
      "cell_type": "code",
      "metadata": {
        "colab": {
          "base_uri": "https://localhost:8080/"
        },
        "id": "Gz0T4oHqE2o6",
        "outputId": "94ee9ba4-2f3a-4bac-d50a-c8d7e98ca0ad"
      },
      "source": [
        "5 + int('3')"
      ],
      "execution_count": null,
      "outputs": [
        {
          "output_type": "execute_result",
          "data": {
            "text/plain": [
              "8"
            ]
          },
          "metadata": {
            "tags": []
          },
          "execution_count": 31
        }
      ]
    },
    {
      "cell_type": "code",
      "metadata": {
        "colab": {
          "base_uri": "https://localhost:8080/"
        },
        "id": "ejzryvatWtSO",
        "outputId": "d4c523f6-e685-4dd6-eb3b-7f6a8beb9e08"
      },
      "source": [
        "print(\"number : \" + str(5))\n",
        "print(5 + float('3.000'))\n",
        "print(5 + int(float('3.000')))"
      ],
      "execution_count": null,
      "outputs": [
        {
          "output_type": "stream",
          "text": [
            "number : 5\n",
            "8.0\n",
            "8\n"
          ],
          "name": "stdout"
        }
      ]
    },
    {
      "cell_type": "markdown",
      "metadata": {
        "id": "_zYQfpm1XuC5"
      },
      "source": [
        ""
      ]
    }
  ]
}