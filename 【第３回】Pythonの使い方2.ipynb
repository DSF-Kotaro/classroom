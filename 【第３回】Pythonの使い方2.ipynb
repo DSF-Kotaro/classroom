{
  "nbformat": 4,
  "nbformat_minor": 0,
  "metadata": {
    "colab": {
      "name": "【第３回】Pythonの使い方2.ipynb",
      "provenance": [],
      "collapsed_sections": [],
      "authorship_tag": "ABX9TyO/K14BvYXs21RADIdgHQX4",
      "include_colab_link": true
    },
    "kernelspec": {
      "name": "python3",
      "display_name": "Python 3"
    },
    "language_info": {
      "name": "python"
    }
  },
  "cells": [
    {
      "cell_type": "markdown",
      "metadata": {
        "id": "view-in-github",
        "colab_type": "text"
      },
      "source": [
        "<a href=\"https://colab.research.google.com/github/DSF-Kotaro/classroom/blob/main/%E3%80%90%E7%AC%AC%EF%BC%93%E5%9B%9E%E3%80%91Python%E3%81%AE%E4%BD%BF%E3%81%84%E6%96%B92.ipynb\" target=\"_parent\"><img src=\"https://colab.research.google.com/assets/colab-badge.svg\" alt=\"Open In Colab\"/></a>"
      ]
    },
    {
      "cell_type": "markdown",
      "metadata": {
        "id": "8-nrkJMZKytA"
      },
      "source": [
        "#[６]変数を使う（Use variables）"
      ]
    },
    {
      "cell_type": "code",
      "metadata": {
        "colab": {
          "base_uri": "https://localhost:8080/"
        },
        "id": "6o14YrE-GsUN",
        "outputId": "c2f66967-c709-408d-eca1-2cd2e9a95f63"
      },
      "source": [
        "num1 = 5\n",
        "num2 = 9\n",
        "result1 = num1 + num2\n",
        "result2 = num1 - num2 \n",
        "result3 = num1 * num2\n",
        "print(result1)\n",
        "print(result2)\n",
        "print(result3)"
      ],
      "execution_count": null,
      "outputs": [
        {
          "output_type": "stream",
          "text": [
            "14\n",
            "-4\n",
            "45\n"
          ],
          "name": "stdout"
        }
      ]
    },
    {
      "cell_type": "code",
      "metadata": {
        "colab": {
          "base_uri": "https://localhost:8080/"
        },
        "id": "q54A6mYmLPAT",
        "outputId": "314f0255-d7b5-4d79-dee9-c068b8b94416"
      },
      "source": [
        "type(result1)"
      ],
      "execution_count": null,
      "outputs": [
        {
          "output_type": "execute_result",
          "data": {
            "text/plain": [
              "int"
            ]
          },
          "metadata": {
            "tags": []
          },
          "execution_count": 2
        }
      ]
    },
    {
      "cell_type": "code",
      "metadata": {
        "colab": {
          "base_uri": "https://localhost:8080/"
        },
        "id": "nzjjm0MWLaIL",
        "outputId": "3171d828-0a37-4652-da1e-cf9e817c1747"
      },
      "source": [
        "msg = 'Hello! Python'\n",
        "print(msg)"
      ],
      "execution_count": null,
      "outputs": [
        {
          "output_type": "stream",
          "text": [
            "Hello! Python\n"
          ],
          "name": "stdout"
        }
      ]
    },
    {
      "cell_type": "code",
      "metadata": {
        "colab": {
          "base_uri": "https://localhost:8080/"
        },
        "id": "AzFm2ba1LqJE",
        "outputId": "e8d91076-c169-41fd-ddac-03ed54ffb065"
      },
      "source": [
        "num1 = 5 + 6\n",
        "msg = '計算結果(Caluculation result) ='\n",
        "print(msg,num1)"
      ],
      "execution_count": null,
      "outputs": [
        {
          "output_type": "stream",
          "text": [
            "計算結果(Caluculation result) = 11\n"
          ],
          "name": "stdout"
        }
      ]
    },
    {
      "cell_type": "code",
      "metadata": {
        "colab": {
          "base_uri": "https://localhost:8080/"
        },
        "id": "bXK3r7FWLucu",
        "outputId": "de95ed8c-e8bb-45c2-8800-69737d5ea510"
      },
      "source": [
        "type(num1)"
      ],
      "execution_count": null,
      "outputs": [
        {
          "output_type": "execute_result",
          "data": {
            "text/plain": [
              "int"
            ]
          },
          "metadata": {
            "tags": []
          },
          "execution_count": 5
        }
      ]
    },
    {
      "cell_type": "code",
      "metadata": {
        "colab": {
          "base_uri": "https://localhost:8080/"
        },
        "id": "76CxuZPZMT_o",
        "outputId": "f3f10e63-f8ee-4a44-ec5d-292e65553404"
      },
      "source": [
        "type(msg)"
      ],
      "execution_count": null,
      "outputs": [
        {
          "output_type": "execute_result",
          "data": {
            "text/plain": [
              "str"
            ]
          },
          "metadata": {
            "tags": []
          },
          "execution_count": 6
        }
      ]
    },
    {
      "cell_type": "code",
      "metadata": {
        "colab": {
          "base_uri": "https://localhost:8080/",
          "height": 206
        },
        "id": "UL4pnVi5L-q-",
        "outputId": "fdaff5af-5e2a-481f-bde6-f2bfaf284ae1"
      },
      "source": [
        "num1 = 5 + 6\n",
        "msg = '計算結果(Caluculation result) =' + num1\n",
        "print(msg)"
      ],
      "execution_count": null,
      "outputs": [
        {
          "output_type": "error",
          "ename": "TypeError",
          "evalue": "ignored",
          "traceback": [
            "\u001b[0;31m---------------------------------------------------------------------------\u001b[0m",
            "\u001b[0;31mTypeError\u001b[0m                                 Traceback (most recent call last)",
            "\u001b[0;32m<ipython-input-7-91259c825c38>\u001b[0m in \u001b[0;36m<module>\u001b[0;34m()\u001b[0m\n\u001b[1;32m      1\u001b[0m \u001b[0mnum1\u001b[0m \u001b[0;34m=\u001b[0m \u001b[0;36m5\u001b[0m \u001b[0;34m+\u001b[0m \u001b[0;36m6\u001b[0m\u001b[0;34m\u001b[0m\u001b[0;34m\u001b[0m\u001b[0m\n\u001b[0;32m----> 2\u001b[0;31m \u001b[0mmsg\u001b[0m \u001b[0;34m=\u001b[0m \u001b[0;34m'計算結果(Caluculation result) ='\u001b[0m \u001b[0;34m+\u001b[0m \u001b[0mnum1\u001b[0m\u001b[0;34m\u001b[0m\u001b[0;34m\u001b[0m\u001b[0m\n\u001b[0m\u001b[1;32m      3\u001b[0m \u001b[0mprint\u001b[0m\u001b[0;34m(\u001b[0m\u001b[0mmsg\u001b[0m\u001b[0;34m)\u001b[0m\u001b[0;34m\u001b[0m\u001b[0;34m\u001b[0m\u001b[0m\n",
            "\u001b[0;31mTypeError\u001b[0m: can only concatenate str (not \"int\") to str"
          ]
        }
      ]
    },
    {
      "cell_type": "code",
      "metadata": {
        "colab": {
          "base_uri": "https://localhost:8080/"
        },
        "id": "R68YH0iTMMSp",
        "outputId": "7bcb4999-08d8-46ab-8896-f31d054d7747"
      },
      "source": [
        "num1 = 5 + 6\n",
        "msg = '計算結果(Caluculation result) =' + str(num1)\n",
        "print(msg)"
      ],
      "execution_count": null,
      "outputs": [
        {
          "output_type": "stream",
          "text": [
            "計算結果(Caluculation result) =11\n"
          ],
          "name": "stdout"
        }
      ]
    },
    {
      "cell_type": "code",
      "metadata": {
        "colab": {
          "base_uri": "https://localhost:8080/"
        },
        "id": "iM1CY_VmMQHD",
        "outputId": "dfbfd623-fe2b-44fb-dc55-524174d6be35"
      },
      "source": [
        "num1 = 9\n",
        "num2 = num1\n",
        "print(num1)\n",
        "print(num2)"
      ],
      "execution_count": null,
      "outputs": [
        {
          "output_type": "stream",
          "text": [
            "9\n",
            "9\n"
          ],
          "name": "stdout"
        }
      ]
    },
    {
      "cell_type": "code",
      "metadata": {
        "colab": {
          "base_uri": "https://localhost:8080/"
        },
        "id": "Cxw8MySuMgNZ",
        "outputId": "ca87a835-d552-4217-9f4c-c0547a36b102"
      },
      "source": [
        "num1 = 9                 \n",
        "num2 =num1 + 6          #num2 = 15\n",
        "num1 = 2                #num1 is rewritten from 9 to 2\n",
        "num2 = num1 + num2      #num2(new) = num1(new) + num2(old) = 2 + 15   \n",
        "print(num2)"
      ],
      "execution_count": null,
      "outputs": [
        {
          "output_type": "stream",
          "text": [
            "17\n"
          ],
          "name": "stdout"
        }
      ]
    },
    {
      "cell_type": "code",
      "metadata": {
        "colab": {
          "base_uri": "https://localhost:8080/",
          "height": 206
        },
        "id": "BWB672syMtCX",
        "outputId": "031e456d-f395-423a-e0a3-60812608cb86"
      },
      "source": [
        "num1 = 4\n",
        "num2 = 6\n",
        "\n",
        "num4 = num1 + num2 + num3"
      ],
      "execution_count": null,
      "outputs": [
        {
          "output_type": "error",
          "ename": "NameError",
          "evalue": "ignored",
          "traceback": [
            "\u001b[0;31m---------------------------------------------------------------------------\u001b[0m",
            "\u001b[0;31mNameError\u001b[0m                                 Traceback (most recent call last)",
            "\u001b[0;32m<ipython-input-11-8c52b8534cf3>\u001b[0m in \u001b[0;36m<module>\u001b[0;34m()\u001b[0m\n\u001b[1;32m      2\u001b[0m \u001b[0mnum2\u001b[0m \u001b[0;34m=\u001b[0m \u001b[0;36m6\u001b[0m\u001b[0;34m\u001b[0m\u001b[0;34m\u001b[0m\u001b[0m\n\u001b[1;32m      3\u001b[0m \u001b[0;34m\u001b[0m\u001b[0m\n\u001b[0;32m----> 4\u001b[0;31m \u001b[0mnum4\u001b[0m \u001b[0;34m=\u001b[0m \u001b[0mnum1\u001b[0m \u001b[0;34m+\u001b[0m \u001b[0mnum2\u001b[0m \u001b[0;34m+\u001b[0m \u001b[0mnum3\u001b[0m\u001b[0;34m\u001b[0m\u001b[0;34m\u001b[0m\u001b[0m\n\u001b[0m",
            "\u001b[0;31mNameError\u001b[0m: name 'num3' is not defined"
          ]
        }
      ]
    },
    {
      "cell_type": "markdown",
      "metadata": {
        "id": "WEG8n4VYOjIk"
      },
      "source": [
        "#[７]複合代入演算子（Compound assignment operator）"
      ]
    },
    {
      "cell_type": "code",
      "metadata": {
        "colab": {
          "base_uri": "https://localhost:8080/"
        },
        "id": "KRAq3TXUNlYN",
        "outputId": "6a5b829a-0d6a-45b8-ec61-eb476258fba6"
      },
      "source": [
        "num1 = 7\n",
        "num1 = num1 + 8\n",
        "print(num1)\n",
        "\n",
        "\n",
        "\n",
        "\n",
        "\n",
        "\n",
        "num1 = 7\n",
        "num1 += 8\n",
        "print(num1)"
      ],
      "execution_count": null,
      "outputs": [
        {
          "output_type": "stream",
          "text": [
            "15\n",
            "15\n"
          ],
          "name": "stdout"
        }
      ]
    },
    {
      "cell_type": "code",
      "metadata": {
        "colab": {
          "base_uri": "https://localhost:8080/"
        },
        "id": "n01k-OruPFeU",
        "outputId": "4fb7bdc8-7812-4902-e1bc-baa21be442d0"
      },
      "source": [
        "num2 = 11\n",
        "num2 = num2 - 15\n",
        "print(num2)\n",
        "\n",
        "\n",
        "num2 = 11\n",
        "num2 -= 15\n",
        "print(num2)"
      ],
      "execution_count": null,
      "outputs": [
        {
          "output_type": "stream",
          "text": [
            "-4\n",
            "-4\n"
          ],
          "name": "stdout"
        }
      ]
    },
    {
      "cell_type": "code",
      "metadata": {
        "colab": {
          "base_uri": "https://localhost:8080/"
        },
        "id": "K7FwExpaPifT",
        "outputId": "601eeff0-9652-4b4e-93ff-f755a3573bd2"
      },
      "source": [
        "num3 = 87\n",
        "num3 = num3 * 3\n",
        "print(num3)\n",
        "\n",
        "num3 = 87\n",
        "num3 *= 3\n",
        "print(num3)"
      ],
      "execution_count": null,
      "outputs": [
        {
          "output_type": "stream",
          "text": [
            "261\n",
            "261\n"
          ],
          "name": "stdout"
        }
      ]
    },
    {
      "cell_type": "code",
      "metadata": {
        "colab": {
          "base_uri": "https://localhost:8080/"
        },
        "id": "nbUgxMIBPxPf",
        "outputId": "eb268e5a-4b99-47c7-d209-d6a0b9ea6abc"
      },
      "source": [
        "num4 = 36\n",
        "num4 = num4 / 3\n",
        "print(num4)\n",
        "\n",
        "num4 = 36\n",
        "num4 /= 3\n",
        "print(num4)"
      ],
      "execution_count": null,
      "outputs": [
        {
          "output_type": "stream",
          "text": [
            "12.0\n",
            "12.0\n"
          ],
          "name": "stdout"
        }
      ]
    },
    {
      "cell_type": "code",
      "metadata": {
        "colab": {
          "base_uri": "https://localhost:8080/"
        },
        "id": "-951ieDNQAdH",
        "outputId": "4c2b75ac-9aa9-4d57-fa5f-6a20f938996a"
      },
      "source": [
        "num5 = 17\n",
        "num5 = num5 // 3\n",
        "print(num5)\n",
        "\n",
        "num5 = 17\n",
        "num5 //= 3\n",
        "print(num5)"
      ],
      "execution_count": null,
      "outputs": [
        {
          "output_type": "stream",
          "text": [
            "5\n",
            "5\n"
          ],
          "name": "stdout"
        }
      ]
    },
    {
      "cell_type": "code",
      "metadata": {
        "colab": {
          "base_uri": "https://localhost:8080/"
        },
        "id": "a9prRLi2QPtS",
        "outputId": "a50de123-52bc-4386-b158-838e1e143f22"
      },
      "source": [
        "num6 = 4\n",
        "num6 = num6 ** 8\n",
        "print(num6)\n",
        "\n",
        "num6 = 4\n",
        "num6 **=8\n",
        "print(num6)"
      ],
      "execution_count": null,
      "outputs": [
        {
          "output_type": "stream",
          "text": [
            "65536\n",
            "65536\n"
          ],
          "name": "stdout"
        }
      ]
    },
    {
      "cell_type": "code",
      "metadata": {
        "colab": {
          "base_uri": "https://localhost:8080/"
        },
        "id": "a4Z7Krt7QhMC",
        "outputId": "2399fa52-bceb-4a40-864d-8e264e151630"
      },
      "source": [
        "str1 = 'abc'\n",
        "str1 += 'def'\n",
        "print(str1)\n",
        "\n",
        "str1 *= 3\n",
        "print(str1)"
      ],
      "execution_count": null,
      "outputs": [
        {
          "output_type": "stream",
          "text": [
            "abcdef\n",
            "abcdefabcdefabcdef\n"
          ],
          "name": "stdout"
        }
      ]
    }
  ]
}