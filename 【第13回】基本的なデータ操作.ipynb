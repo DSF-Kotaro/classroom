{
  "nbformat": 4,
  "nbformat_minor": 0,
  "metadata": {
    "colab": {
      "name": "【第13回】基本的なデータ操作.ipynb",
      "provenance": [],
      "collapsed_sections": [],
      "authorship_tag": "ABX9TyOpfVnF9SU7fUO2DsQR4fY9",
      "include_colab_link": true
    },
    "kernelspec": {
      "name": "python3",
      "display_name": "Python 3"
    },
    "language_info": {
      "name": "python"
    }
  },
  "cells": [
    {
      "cell_type": "markdown",
      "metadata": {
        "id": "view-in-github",
        "colab_type": "text"
      },
      "source": [
        "<a href=\"https://colab.research.google.com/github/DSF-Kotaro/classroom/blob/main/%E3%80%90%E7%AC%AC13%E5%9B%9E%E3%80%91%E5%9F%BA%E6%9C%AC%E7%9A%84%E3%81%AA%E3%83%87%E3%83%BC%E3%82%BF%E6%93%8D%E4%BD%9C.ipynb\" target=\"_parent\"><img src=\"https://colab.research.google.com/assets/colab-badge.svg\" alt=\"Open In Colab\"/></a>"
      ]
    },
    {
      "cell_type": "markdown",
      "metadata": {
        "id": "GHifg6OU2pEg"
      },
      "source": [
        "#ライブラリの読み込み（load libraries）"
      ]
    },
    {
      "cell_type": "code",
      "metadata": {
        "id": "X1HAw2vN3xEa"
      },
      "source": [
        "import numpy as np\n",
        "import numpy.random as random\n",
        "import scipy as sp\n",
        "import pandas as pd\n",
        "from pandas import Series, DataFrame\n",
        "\n",
        "import matplotlib.pyplot as plt\n",
        "import matplotlib as mpl\n",
        "import seaborn as sns\n",
        "\n",
        "np.random.seed(0)"
      ],
      "execution_count": null,
      "outputs": []
    },
    {
      "cell_type": "markdown",
      "metadata": {
        "id": "q-dr8_UmGi8r"
      },
      "source": [
        "#データの準備（Data preparation）"
      ]
    },
    {
      "cell_type": "code",
      "metadata": {
        "id": "tp1iwuLiFAwM"
      },
      "source": [
        "data1 = {\n",
        "    'id':[100,101,102,103,104,106,108,110,111,113],\n",
        "    'city':['Tokyo','Osaka','Kyoto','Hokkaido','Tokyo','Tokyo','Osaka',\n",
        "            'Kyoto','Hokkaido','Tokyo'],\n",
        "    'birth_year':[1990,1989,1992,1997,1982,1991,1988,1990,1995,1981],\n",
        "    'name':['Hiroshi','Akiko','Yuki','Satoru','Steeve','Mituru','Aoi',\n",
        "            'Tarou','Suguru','Mitsuo']\n",
        "}\n",
        "\n",
        "df1 = DataFrame(data1)\n",
        "df1"
      ],
      "execution_count": null,
      "outputs": []
    },
    {
      "cell_type": "markdown",
      "metadata": {
        "id": "g__18fwp1fIG"
      },
      "source": [
        "#データの操作と変換（Manipulating and transforming data）"
      ]
    },
    {
      "cell_type": "markdown",
      "metadata": {
        "id": "OfwShsUtDXED"
      },
      "source": [
        "##ピボット操作（Pivot operation）"
      ]
    },
    {
      "cell_type": "code",
      "metadata": {
        "id": "L2lgbs2SYewF"
      },
      "source": [
        "hier_df = DataFrame(\n",
        "    np.arange(9).reshape((3,3)),\n",
        "    index = [['a','a','b'],[1,2,2]],\n",
        "    columns = [['Osaka','Tokyo','Osaka'],['Blue','Red','Red']])\n",
        "\n",
        "hier_df"
      ],
      "execution_count": null,
      "outputs": []
    },
    {
      "cell_type": "markdown",
      "metadata": {
        "id": "2wmP9vk4Dch1"
      },
      "source": [
        "###「Blue、Red」の列を行に変更（Changed \"Blue, Red\" column to row）"
      ]
    },
    {
      "cell_type": "code",
      "metadata": {
        "id": "hUe0CgkUDRjK"
      },
      "source": [
        "hier_df.stack()"
      ],
      "execution_count": null,
      "outputs": []
    },
    {
      "cell_type": "markdown",
      "metadata": {
        "id": "k2rK6NHVDyea"
      },
      "source": [
        "###unstackメソッドで、「Blue,Red」の行を列に変更（Change \"Blue, Red\" row to column with unstack method）"
      ]
    },
    {
      "cell_type": "code",
      "metadata": {
        "id": "r0NHhtCYDrV7"
      },
      "source": [
        "hier_df.stack().unstack()"
      ],
      "execution_count": null,
      "outputs": []
    },
    {
      "cell_type": "markdown",
      "metadata": {
        "id": "sa4IE6IaEGWN"
      },
      "source": [
        "##重複データの除去（Duplicate data removal）"
      ]
    },
    {
      "cell_type": "code",
      "metadata": {
        "id": "o5sz1jZoEDIj"
      },
      "source": [
        "dupli_data = DataFrame({\n",
        "    'col1':[1,1,2,3,4,4,6,6],\n",
        "    'col2':['a','b','b','b','c','c','b','b']\n",
        "})\n",
        "\n",
        "print('・元のデータ')\n",
        "dupli_data"
      ],
      "execution_count": null,
      "outputs": []
    },
    {
      "cell_type": "markdown",
      "metadata": {
        "id": "IW7AkHbtEtEY"
      },
      "source": [
        "###重複判定（Duplicate judgment）"
      ]
    },
    {
      "cell_type": "code",
      "metadata": {
        "id": "LwhQkvW_ElOL"
      },
      "source": [
        "dupli_data.duplicated()"
      ],
      "execution_count": null,
      "outputs": []
    },
    {
      "cell_type": "markdown",
      "metadata": {
        "id": "XCYam-GrE4YT"
      },
      "source": [
        "###重複削除（Duplicate deletion）"
      ]
    },
    {
      "cell_type": "code",
      "metadata": {
        "id": "YIvgdEq8E1bD"
      },
      "source": [
        "dupli_data.drop_duplicates()"
      ],
      "execution_count": null,
      "outputs": []
    },
    {
      "cell_type": "markdown",
      "metadata": {
        "id": "zbzp3viRFTKT"
      },
      "source": [
        "##マッピング処理（Mapping process）"
      ]
    },
    {
      "cell_type": "code",
      "metadata": {
        "id": "nnzmBnSuFNCf"
      },
      "source": [
        "city_map = {\n",
        "    'Tokyo':'Kanto',\n",
        "    'Hokkaido':'Hokkaido',\n",
        "    'Osaka':'Kansai',\n",
        "    'Kyoto':'Kansai'\n",
        "}\n",
        "city_map"
      ],
      "execution_count": null,
      "outputs": []
    },
    {
      "cell_type": "markdown",
      "metadata": {
        "id": "W5bLjbjbF4Dj"
      },
      "source": [
        "###参照データを結合。もし対応するデータが無かったらNaNになる。（Combine reference data. If there is no corresponding data, it will be NaN.）"
      ]
    },
    {
      "cell_type": "code",
      "metadata": {
        "id": "x-eSjwCTF179"
      },
      "source": [
        "df1['region'] = df1['city'].map(city_map)\n",
        "df1"
      ],
      "execution_count": null,
      "outputs": []
    },
    {
      "cell_type": "code",
      "metadata": {
        "id": "J41EvMIhH25Q"
      },
      "source": [
        "df1['up_two_num'] = df1['birth_year'].map(lambda x : str(x)[0:3])\n",
        "df1"
      ],
      "execution_count": null,
      "outputs": []
    },
    {
      "cell_type": "code",
      "metadata": {
        "colab": {
          "base_uri": "https://localhost:8080/"
        },
        "id": "VTWHh0JZI1DM",
        "outputId": "a84bbfdb-89a2-4666-cab1-27bdc92c49a3"
      },
      "source": [
        "df1.birth_year.dtypes"
      ],
      "execution_count": null,
      "outputs": [
        {
          "output_type": "execute_result",
          "data": {
            "text/plain": [
              "dtype('int64')"
            ]
          },
          "metadata": {
            "tags": []
          },
          "execution_count": 51
        }
      ]
    },
    {
      "cell_type": "markdown",
      "metadata": {
        "id": "S8qkbAqbG1sX"
      },
      "source": [
        "##ビン分割（Bin split）"
      ]
    },
    {
      "cell_type": "code",
      "metadata": {
        "id": "Fbu5hOmVGKRc"
      },
      "source": [
        "birth_year_bins = [1980,1985,1990,1995,2000]\n",
        "birth_year_cut_data = pd.cut(df1.birth_year,birth_year_bins)\n",
        "birth_year_cut_data"
      ],
      "execution_count": null,
      "outputs": []
    },
    {
      "cell_type": "markdown",
      "metadata": {
        "id": "f-bZlvJYJQRU"
      },
      "source": [
        "###集計結果（Aggregate results）"
      ]
    },
    {
      "cell_type": "code",
      "metadata": {
        "id": "wIB89HfJHPKM"
      },
      "source": [
        "pd.value_counts(birth_year_cut_data)"
      ],
      "execution_count": null,
      "outputs": []
    },
    {
      "cell_type": "markdown",
      "metadata": {
        "id": "ccsQvCfLJf_j"
      },
      "source": [
        "###Labelsパラメータを指定し、それぞれのビンに名前をつける（Specify the Labels parameter and give each bin a name）"
      ]
    },
    {
      "cell_type": "code",
      "metadata": {
        "id": "MeWdPpK5JZFf"
      },
      "source": [
        "group_names = ['early1980s','late1980s','early1990s','late1990s']\n",
        "birth_year_cut_data = pd.cut(df1.birth_year,birth_year_bins,labels = group_names)\n",
        "pd.value_counts(birth_year_cut_data)"
      ],
      "execution_count": null,
      "outputs": []
    },
    {
      "cell_type": "markdown",
      "metadata": {
        "id": "Adn3ywcIKJZU"
      },
      "source": [
        "###分割数を指定して分割する（Specify the number of divisions to divide）"
      ]
    },
    {
      "cell_type": "code",
      "metadata": {
        "id": "RPKZAXLAKF4D"
      },
      "source": [
        "pd.cut(df1.birth_year,2)"
      ],
      "execution_count": null,
      "outputs": []
    },
    {
      "cell_type": "markdown",
      "metadata": {
        "id": "_MnBPNqrKX0t"
      },
      "source": [
        "###分位点での分割（Quantile division）"
      ]
    },
    {
      "cell_type": "code",
      "metadata": {
        "id": "YyVvJkcRKTcA"
      },
      "source": [
        "pd.value_counts(pd.qcut(df1.birth_year,2))"
      ],
      "execution_count": null,
      "outputs": []
    },
    {
      "cell_type": "markdown",
      "metadata": {
        "id": "53trB1KwK0iM"
      },
      "source": [
        "##データ集約とグループ演算（Data aggregation and group operations）"
      ]
    },
    {
      "cell_type": "code",
      "metadata": {
        "id": "lEHb56CMKlYC"
      },
      "source": [
        "df1"
      ],
      "execution_count": null,
      "outputs": []
    },
    {
      "cell_type": "code",
      "metadata": {
        "colab": {
          "base_uri": "https://localhost:8080/"
        },
        "id": "dzi7HnvDK75D",
        "outputId": "5dcaa2d0-9fed-47fc-c6c4-e0e5404f63f6"
      },
      "source": [
        "df1.groupby('city').size()"
      ],
      "execution_count": null,
      "outputs": [
        {
          "output_type": "execute_result",
          "data": {
            "text/plain": [
              "city\n",
              "Hokkaido    2\n",
              "Kyoto       2\n",
              "Osaka       2\n",
              "Tokyo       4\n",
              "dtype: int64"
            ]
          },
          "metadata": {
            "tags": []
          },
          "execution_count": 58
        }
      ]
    },
    {
      "cell_type": "code",
      "metadata": {
        "colab": {
          "base_uri": "https://localhost:8080/"
        },
        "id": "cW_OJPQlLGhn",
        "outputId": "508ea62e-f231-41d3-9a1f-62f94f47eb21"
      },
      "source": [
        "df1.groupby('city')['birth_year'].mean()"
      ],
      "execution_count": null,
      "outputs": [
        {
          "output_type": "execute_result",
          "data": {
            "text/plain": [
              "city\n",
              "Hokkaido    1996.0\n",
              "Kyoto       1991.0\n",
              "Osaka       1988.5\n",
              "Tokyo       1986.0\n",
              "Name: birth_year, dtype: float64"
            ]
          },
          "metadata": {
            "tags": []
          },
          "execution_count": 59
        }
      ]
    },
    {
      "cell_type": "code",
      "metadata": {
        "colab": {
          "base_uri": "https://localhost:8080/"
        },
        "id": "--DowOhELOvc",
        "outputId": "8c827beb-565f-4d65-ace5-5263b292fa15"
      },
      "source": [
        "df1.groupby(['region','city'])['birth_year'].mean()"
      ],
      "execution_count": null,
      "outputs": [
        {
          "output_type": "execute_result",
          "data": {
            "text/plain": [
              "region    city    \n",
              "Hokkaido  Hokkaido    1996.0\n",
              "Kansai    Kyoto       1991.0\n",
              "          Osaka       1988.5\n",
              "Kanto     Tokyo       1986.0\n",
              "Name: birth_year, dtype: float64"
            ]
          },
          "metadata": {
            "tags": []
          },
          "execution_count": 60
        }
      ]
    },
    {
      "cell_type": "markdown",
      "metadata": {
        "id": "gFx8O6jaOG1M"
      },
      "source": [
        "問題１　「student-mat.csv」を読み込み、年齢を2倍したカラムを末尾に追加しなさい。<br>Load \"student-mat.csv\" and add a doubled age column at the end."
      ]
    },
    {
      "cell_type": "code",
      "metadata": {
        "id": "ThZ1Q_F7Lalj"
      },
      "source": [
        ""
      ],
      "execution_count": null,
      "outputs": []
    },
    {
      "cell_type": "markdown",
      "metadata": {
        "id": "tCfS93F2OdjN"
      },
      "source": [
        "問題２　問題１のデータで、「absences」のカラムについて、以下の３つのビンに分けてそれぞれの人数を数えなさい。<br>In the data of Problem 1, divide the column of \"absences\" into the following three bins and count the number of each."
      ]
    },
    {
      "cell_type": "code",
      "metadata": {
        "id": "xApMrFbSO2hW"
      },
      "source": [
        "absences_bins = [0,1,5,100]"
      ],
      "execution_count": null,
      "outputs": []
    },
    {
      "cell_type": "code",
      "metadata": {
        "id": "xdcFFt4IO7W9"
      },
      "source": [
        ""
      ],
      "execution_count": null,
      "outputs": []
    },
    {
      "cell_type": "markdown",
      "metadata": {
        "id": "ve09nau9O9AM"
      },
      "source": [
        "問題３　問題１のデータで、「absences」のカラムについて、qcut関数を用いて３つのビンに分けなさい。<br>In the data of Problem 1, divide the \"absences\" column into three bins using the qcut function."
      ]
    },
    {
      "cell_type": "code",
      "metadata": {
        "id": "004GtknbPKaO"
      },
      "source": [
        ""
      ],
      "execution_count": null,
      "outputs": []
    }
  ]
}