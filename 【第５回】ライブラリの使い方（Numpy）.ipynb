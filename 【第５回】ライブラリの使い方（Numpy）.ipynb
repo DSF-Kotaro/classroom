{
  "nbformat": 4,
  "nbformat_minor": 0,
  "metadata": {
    "colab": {
      "name": "【第５回】ライブラリの使い方（Numpy）.ipynb",
      "provenance": [],
      "collapsed_sections": [],
      "authorship_tag": "ABX9TyMpEofwDQ9rlM38FyB0iUDL",
      "include_colab_link": true
    },
    "kernelspec": {
      "name": "python3",
      "display_name": "Python 3"
    },
    "language_info": {
      "name": "python"
    }
  },
  "cells": [
    {
      "cell_type": "markdown",
      "metadata": {
        "id": "view-in-github",
        "colab_type": "text"
      },
      "source": [
        "<a href=\"https://colab.research.google.com/github/DSF-Kotaro/classroom/blob/main/%E3%80%90%E7%AC%AC%EF%BC%95%E5%9B%9E%E3%80%91%E3%83%A9%E3%82%A4%E3%83%96%E3%83%A9%E3%83%AA%E3%81%AE%E4%BD%BF%E3%81%84%E6%96%B9%EF%BC%88Numpy%EF%BC%89.ipynb\" target=\"_parent\"><img src=\"https://colab.research.google.com/assets/colab-badge.svg\" alt=\"Open In Colab\"/></a>"
      ]
    },
    {
      "cell_type": "markdown",
      "metadata": {
        "id": "KU53vS9osb9n"
      },
      "source": [
        "#Numpyのインポート（Import numpy）"
      ]
    },
    {
      "cell_type": "code",
      "metadata": {
        "id": "dUHqLrH9rkDB"
      },
      "source": [
        "import numpy as np"
      ],
      "execution_count": 1,
      "outputs": []
    },
    {
      "cell_type": "markdown",
      "metadata": {
        "id": "_Bv3l9ajt1Gk"
      },
      "source": [
        "##配列操作（Array manipulation）"
      ]
    },
    {
      "cell_type": "markdown",
      "metadata": {
        "id": "C9NGMrvLt-hk"
      },
      "source": [
        "###配列（Array）"
      ]
    },
    {
      "cell_type": "code",
      "metadata": {
        "colab": {
          "base_uri": "https://localhost:8080/"
        },
        "id": "vgshpjRCsjBZ",
        "outputId": "59161175-62f7-4df7-c9f0-b5d4b6f940a5"
      },
      "source": [
        "data = np.array([5,2,6,4,10,0,7,8,1,5])\n",
        "data"
      ],
      "execution_count": 3,
      "outputs": [
        {
          "output_type": "execute_result",
          "data": {
            "text/plain": [
              "array([ 5,  2,  6,  4, 10,  0,  7,  8,  1,  5])"
            ]
          },
          "metadata": {
            "tags": []
          },
          "execution_count": 3
        }
      ]
    },
    {
      "cell_type": "markdown",
      "metadata": {
        "id": "wvtULJG-uTvf"
      },
      "source": [
        "###データの型（Types of datas）"
      ]
    },
    {
      "cell_type": "code",
      "metadata": {
        "colab": {
          "base_uri": "https://localhost:8080/"
        },
        "id": "9ffNVUc3uKwj",
        "outputId": "a1858dfb-f661-42ea-bf7a-fbb67ee29d5c"
      },
      "source": [
        "data.dtype"
      ],
      "execution_count": 4,
      "outputs": [
        {
          "output_type": "execute_result",
          "data": {
            "text/plain": [
              "dtype('int64')"
            ]
          },
          "metadata": {
            "tags": []
          },
          "execution_count": 4
        }
      ]
    },
    {
      "cell_type": "markdown",
      "metadata": {
        "id": "HSBbCz38uh3l"
      },
      "source": [
        "###次元数と要素数（Number of dimensions and number of elements）"
      ]
    },
    {
      "cell_type": "code",
      "metadata": {
        "colab": {
          "base_uri": "https://localhost:8080/"
        },
        "id": "4uosK8JKubjS",
        "outputId": "05e52259-4702-4f41-bf97-9738059988dd"
      },
      "source": [
        "print('Number of dimensions:',data.ndim)\n",
        "print('Number of elements:',data.size)"
      ],
      "execution_count": 5,
      "outputs": [
        {
          "output_type": "stream",
          "text": [
            "Number of dimensions: 1\n",
            "Number of elements: 10\n"
          ],
          "name": "stdout"
        }
      ]
    },
    {
      "cell_type": "code",
      "metadata": {
        "id": "xDs1VktWu4Hw"
      },
      "source": [
        ""
      ],
      "execution_count": null,
      "outputs": []
    }
  ]
}