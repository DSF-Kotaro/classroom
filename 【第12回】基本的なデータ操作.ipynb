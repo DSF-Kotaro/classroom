{
  "nbformat": 4,
  "nbformat_minor": 0,
  "metadata": {
    "colab": {
      "name": "【第12回】基本的なデータ操作.ipynb",
      "provenance": [],
      "collapsed_sections": [],
      "authorship_tag": "ABX9TyOp6Ni2yix2NSpSGSrt6Ptc",
      "include_colab_link": true
    },
    "kernelspec": {
      "name": "python3",
      "display_name": "Python 3"
    },
    "language_info": {
      "name": "python"
    }
  },
  "cells": [
    {
      "cell_type": "markdown",
      "metadata": {
        "id": "view-in-github",
        "colab_type": "text"
      },
      "source": [
        "<a href=\"https://colab.research.google.com/github/DSF-Kotaro/classroom/blob/main/%E3%80%90%E7%AC%AC12%E5%9B%9E%E3%80%91%E5%9F%BA%E6%9C%AC%E7%9A%84%E3%81%AA%E3%83%87%E3%83%BC%E3%82%BF%E6%93%8D%E4%BD%9C.ipynb\" target=\"_parent\"><img src=\"https://colab.research.google.com/assets/colab-badge.svg\" alt=\"Open In Colab\"/></a>"
      ]
    },
    {
      "cell_type": "markdown",
      "metadata": {
        "id": "GHifg6OU2pEg"
      },
      "source": [
        "#ライブラリの読み込み（load libraries）"
      ]
    },
    {
      "cell_type": "code",
      "metadata": {
        "id": "X1HAw2vN3xEa"
      },
      "source": [
        "import numpy as np\n",
        "import numpy.random as random\n",
        "import scipy as sp\n",
        "import pandas as pd\n",
        "from pandas import Series, DataFrame\n",
        "\n",
        "import matplotlib.pyplot as plt\n",
        "import matplotlib as mpl\n",
        "import seaborn as sns\n",
        "\n",
        "np.random.seed(0)"
      ],
      "execution_count": 1,
      "outputs": []
    },
    {
      "cell_type": "markdown",
      "metadata": {
        "id": "g__18fwp1fIG"
      },
      "source": [
        "#データフレームの作成（Creating a data frame）"
      ]
    },
    {
      "cell_type": "code",
      "metadata": {
        "colab": {
          "base_uri": "https://localhost:8080/",
          "height": 172
        },
        "id": "L2lgbs2SYewF",
        "outputId": "026b52c5-d4aa-4481-b392-570d5c671717"
      },
      "source": [
        "hier_df = DataFrame(\n",
        "    np.arange(9).reshape((3,3)),\n",
        "    index = [\n",
        "             ['a','a','b'],\n",
        "             [1,2,2]\n",
        "    ],\n",
        "    columns = [\n",
        "              ['Osaka','Tokyo','Osaka'],\n",
        "              ['Blue','Red','Red']\n",
        "    ]\n",
        ")\n",
        "\n",
        "hier_df"
      ],
      "execution_count": 6,
      "outputs": [
        {
          "output_type": "execute_result",
          "data": {
            "text/html": [
              "<div>\n",
              "<style scoped>\n",
              "    .dataframe tbody tr th:only-of-type {\n",
              "        vertical-align: middle;\n",
              "    }\n",
              "\n",
              "    .dataframe tbody tr th {\n",
              "        vertical-align: top;\n",
              "    }\n",
              "\n",
              "    .dataframe thead tr th {\n",
              "        text-align: left;\n",
              "    }\n",
              "</style>\n",
              "<table border=\"1\" class=\"dataframe\">\n",
              "  <thead>\n",
              "    <tr>\n",
              "      <th></th>\n",
              "      <th></th>\n",
              "      <th>Osaka</th>\n",
              "      <th>Tokyo</th>\n",
              "      <th>Osaka</th>\n",
              "    </tr>\n",
              "    <tr>\n",
              "      <th></th>\n",
              "      <th></th>\n",
              "      <th>Blue</th>\n",
              "      <th>Red</th>\n",
              "      <th>Red</th>\n",
              "    </tr>\n",
              "  </thead>\n",
              "  <tbody>\n",
              "    <tr>\n",
              "      <th rowspan=\"2\" valign=\"top\">a</th>\n",
              "      <th>1</th>\n",
              "      <td>0</td>\n",
              "      <td>1</td>\n",
              "      <td>2</td>\n",
              "    </tr>\n",
              "    <tr>\n",
              "      <th>2</th>\n",
              "      <td>3</td>\n",
              "      <td>4</td>\n",
              "      <td>5</td>\n",
              "    </tr>\n",
              "    <tr>\n",
              "      <th>b</th>\n",
              "      <th>2</th>\n",
              "      <td>6</td>\n",
              "      <td>7</td>\n",
              "      <td>8</td>\n",
              "    </tr>\n",
              "  </tbody>\n",
              "</table>\n",
              "</div>"
            ],
            "text/plain": [
              "    Osaka Tokyo Osaka\n",
              "     Blue   Red   Red\n",
              "a 1     0     1     2\n",
              "  2     3     4     5\n",
              "b 2     6     7     8"
            ]
          },
          "metadata": {
            "tags": []
          },
          "execution_count": 6
        }
      ]
    },
    {
      "cell_type": "markdown",
      "metadata": {
        "id": "_kkovrwD1l-j"
      },
      "source": [
        "##インデックスとカラムに名前を付ける（Name indexes and columns）\n",
        "\n"
      ]
    },
    {
      "cell_type": "code",
      "metadata": {
        "id": "uXoe5IbfTvhR",
        "colab": {
          "base_uri": "https://localhost:8080/",
          "height": 203
        },
        "outputId": "719f7c12-4d43-4c4a-895a-d791bc12b238"
      },
      "source": [
        "#Name indexes\n",
        "hier_df.index.names = ['key1','key2']\n",
        "\n",
        "#Name columns\n",
        "hier_df.columns.names = ['city','color']\n",
        "\n",
        "hier_df"
      ],
      "execution_count": 8,
      "outputs": [
        {
          "output_type": "execute_result",
          "data": {
            "text/html": [
              "<div>\n",
              "<style scoped>\n",
              "    .dataframe tbody tr th:only-of-type {\n",
              "        vertical-align: middle;\n",
              "    }\n",
              "\n",
              "    .dataframe tbody tr th {\n",
              "        vertical-align: top;\n",
              "    }\n",
              "\n",
              "    .dataframe thead tr th {\n",
              "        text-align: left;\n",
              "    }\n",
              "\n",
              "    .dataframe thead tr:last-of-type th {\n",
              "        text-align: right;\n",
              "    }\n",
              "</style>\n",
              "<table border=\"1\" class=\"dataframe\">\n",
              "  <thead>\n",
              "    <tr>\n",
              "      <th></th>\n",
              "      <th>city</th>\n",
              "      <th>Osaka</th>\n",
              "      <th>Tokyo</th>\n",
              "      <th>Osaka</th>\n",
              "    </tr>\n",
              "    <tr>\n",
              "      <th></th>\n",
              "      <th>color</th>\n",
              "      <th>Blue</th>\n",
              "      <th>Red</th>\n",
              "      <th>Red</th>\n",
              "    </tr>\n",
              "    <tr>\n",
              "      <th>key1</th>\n",
              "      <th>key2</th>\n",
              "      <th></th>\n",
              "      <th></th>\n",
              "      <th></th>\n",
              "    </tr>\n",
              "  </thead>\n",
              "  <tbody>\n",
              "    <tr>\n",
              "      <th rowspan=\"2\" valign=\"top\">a</th>\n",
              "      <th>1</th>\n",
              "      <td>0</td>\n",
              "      <td>1</td>\n",
              "      <td>2</td>\n",
              "    </tr>\n",
              "    <tr>\n",
              "      <th>2</th>\n",
              "      <td>3</td>\n",
              "      <td>4</td>\n",
              "      <td>5</td>\n",
              "    </tr>\n",
              "    <tr>\n",
              "      <th>b</th>\n",
              "      <th>2</th>\n",
              "      <td>6</td>\n",
              "      <td>7</td>\n",
              "      <td>8</td>\n",
              "    </tr>\n",
              "  </tbody>\n",
              "</table>\n",
              "</div>"
            ],
            "text/plain": [
              "city      Osaka Tokyo Osaka\n",
              "color      Blue   Red   Red\n",
              "key1 key2                  \n",
              "a    1        0     1     2\n",
              "     2        3     4     5\n",
              "b    2        6     7     8"
            ]
          },
          "metadata": {
            "tags": []
          },
          "execution_count": 8
        }
      ]
    },
    {
      "cell_type": "markdown",
      "metadata": {
        "id": "xlF1WtVveGSK"
      },
      "source": [
        "##カラムの絞り込み（Column refinement）"
      ]
    },
    {
      "cell_type": "code",
      "metadata": {
        "colab": {
          "base_uri": "https://localhost:8080/",
          "height": 172
        },
        "id": "FsZ4cJPR15xn",
        "outputId": "549d2bc0-1b61-4059-e180-62322e8fc7b5"
      },
      "source": [
        "hier_df['Osaka']"
      ],
      "execution_count": 9,
      "outputs": [
        {
          "output_type": "execute_result",
          "data": {
            "text/html": [
              "<div>\n",
              "<style scoped>\n",
              "    .dataframe tbody tr th:only-of-type {\n",
              "        vertical-align: middle;\n",
              "    }\n",
              "\n",
              "    .dataframe tbody tr th {\n",
              "        vertical-align: top;\n",
              "    }\n",
              "\n",
              "    .dataframe thead th {\n",
              "        text-align: right;\n",
              "    }\n",
              "</style>\n",
              "<table border=\"1\" class=\"dataframe\">\n",
              "  <thead>\n",
              "    <tr style=\"text-align: right;\">\n",
              "      <th></th>\n",
              "      <th>color</th>\n",
              "      <th>Blue</th>\n",
              "      <th>Red</th>\n",
              "    </tr>\n",
              "    <tr>\n",
              "      <th>key1</th>\n",
              "      <th>key2</th>\n",
              "      <th></th>\n",
              "      <th></th>\n",
              "    </tr>\n",
              "  </thead>\n",
              "  <tbody>\n",
              "    <tr>\n",
              "      <th rowspan=\"2\" valign=\"top\">a</th>\n",
              "      <th>1</th>\n",
              "      <td>0</td>\n",
              "      <td>2</td>\n",
              "    </tr>\n",
              "    <tr>\n",
              "      <th>2</th>\n",
              "      <td>3</td>\n",
              "      <td>5</td>\n",
              "    </tr>\n",
              "    <tr>\n",
              "      <th>b</th>\n",
              "      <th>2</th>\n",
              "      <td>6</td>\n",
              "      <td>8</td>\n",
              "    </tr>\n",
              "  </tbody>\n",
              "</table>\n",
              "</div>"
            ],
            "text/plain": [
              "color      Blue  Red\n",
              "key1 key2           \n",
              "a    1        0    2\n",
              "     2        3    5\n",
              "b    2        6    8"
            ]
          },
          "metadata": {
            "tags": []
          },
          "execution_count": 9
        }
      ]
    },
    {
      "cell_type": "code",
      "metadata": {
        "colab": {
          "base_uri": "https://localhost:8080/",
          "height": 172
        },
        "id": "UQGclVS2fDTv",
        "outputId": "41ad219e-e4c8-47b9-ff41-038f123df88c"
      },
      "source": [
        "hier_df['Tokyo']"
      ],
      "execution_count": 10,
      "outputs": [
        {
          "output_type": "execute_result",
          "data": {
            "text/html": [
              "<div>\n",
              "<style scoped>\n",
              "    .dataframe tbody tr th:only-of-type {\n",
              "        vertical-align: middle;\n",
              "    }\n",
              "\n",
              "    .dataframe tbody tr th {\n",
              "        vertical-align: top;\n",
              "    }\n",
              "\n",
              "    .dataframe thead th {\n",
              "        text-align: right;\n",
              "    }\n",
              "</style>\n",
              "<table border=\"1\" class=\"dataframe\">\n",
              "  <thead>\n",
              "    <tr style=\"text-align: right;\">\n",
              "      <th></th>\n",
              "      <th>color</th>\n",
              "      <th>Red</th>\n",
              "    </tr>\n",
              "    <tr>\n",
              "      <th>key1</th>\n",
              "      <th>key2</th>\n",
              "      <th></th>\n",
              "    </tr>\n",
              "  </thead>\n",
              "  <tbody>\n",
              "    <tr>\n",
              "      <th rowspan=\"2\" valign=\"top\">a</th>\n",
              "      <th>1</th>\n",
              "      <td>1</td>\n",
              "    </tr>\n",
              "    <tr>\n",
              "      <th>2</th>\n",
              "      <td>4</td>\n",
              "    </tr>\n",
              "    <tr>\n",
              "      <th>b</th>\n",
              "      <th>2</th>\n",
              "      <td>7</td>\n",
              "    </tr>\n",
              "  </tbody>\n",
              "</table>\n",
              "</div>"
            ],
            "text/plain": [
              "color      Red\n",
              "key1 key2     \n",
              "a    1       1\n",
              "     2       4\n",
              "b    2       7"
            ]
          },
          "metadata": {
            "tags": []
          },
          "execution_count": 10
        }
      ]
    },
    {
      "cell_type": "markdown",
      "metadata": {
        "id": "0RUiEVOs2WPd"
      },
      "source": [
        "##インデックスを軸にした集計（Aggregation on the index）"
      ]
    },
    {
      "cell_type": "code",
      "metadata": {
        "colab": {
          "base_uri": "https://localhost:8080/",
          "height": 172
        },
        "id": "MoC-rQT_2ecD",
        "outputId": "303d6fac-9835-4ae5-ba4b-b6a1aa63f5bd"
      },
      "source": [
        "hier_df.sum(level = 'key1', axis = 0)"
      ],
      "execution_count": 12,
      "outputs": [
        {
          "output_type": "execute_result",
          "data": {
            "text/html": [
              "<div>\n",
              "<style scoped>\n",
              "    .dataframe tbody tr th:only-of-type {\n",
              "        vertical-align: middle;\n",
              "    }\n",
              "\n",
              "    .dataframe tbody tr th {\n",
              "        vertical-align: top;\n",
              "    }\n",
              "\n",
              "    .dataframe thead tr th {\n",
              "        text-align: left;\n",
              "    }\n",
              "\n",
              "    .dataframe thead tr:last-of-type th {\n",
              "        text-align: right;\n",
              "    }\n",
              "</style>\n",
              "<table border=\"1\" class=\"dataframe\">\n",
              "  <thead>\n",
              "    <tr>\n",
              "      <th>city</th>\n",
              "      <th>Osaka</th>\n",
              "      <th>Tokyo</th>\n",
              "      <th>Osaka</th>\n",
              "    </tr>\n",
              "    <tr>\n",
              "      <th>color</th>\n",
              "      <th>Blue</th>\n",
              "      <th>Red</th>\n",
              "      <th>Red</th>\n",
              "    </tr>\n",
              "    <tr>\n",
              "      <th>key1</th>\n",
              "      <th></th>\n",
              "      <th></th>\n",
              "      <th></th>\n",
              "    </tr>\n",
              "  </thead>\n",
              "  <tbody>\n",
              "    <tr>\n",
              "      <th>a</th>\n",
              "      <td>3</td>\n",
              "      <td>5</td>\n",
              "      <td>7</td>\n",
              "    </tr>\n",
              "    <tr>\n",
              "      <th>b</th>\n",
              "      <td>6</td>\n",
              "      <td>7</td>\n",
              "      <td>8</td>\n",
              "    </tr>\n",
              "  </tbody>\n",
              "</table>\n",
              "</div>"
            ],
            "text/plain": [
              "city  Osaka Tokyo Osaka\n",
              "color  Blue   Red   Red\n",
              "key1                   \n",
              "a         3     5     7\n",
              "b         6     7     8"
            ]
          },
          "metadata": {
            "tags": []
          },
          "execution_count": 12
        }
      ]
    },
    {
      "cell_type": "code",
      "metadata": {
        "colab": {
          "base_uri": "https://localhost:8080/",
          "height": 172
        },
        "id": "5LPNVdoEnQQx",
        "outputId": "8b341fa8-587f-4dee-ec2b-2006b4f2976b"
      },
      "source": [
        "hier_df.sum(level = 'key2', axis = 0)"
      ],
      "execution_count": 13,
      "outputs": [
        {
          "output_type": "execute_result",
          "data": {
            "text/html": [
              "<div>\n",
              "<style scoped>\n",
              "    .dataframe tbody tr th:only-of-type {\n",
              "        vertical-align: middle;\n",
              "    }\n",
              "\n",
              "    .dataframe tbody tr th {\n",
              "        vertical-align: top;\n",
              "    }\n",
              "\n",
              "    .dataframe thead tr th {\n",
              "        text-align: left;\n",
              "    }\n",
              "\n",
              "    .dataframe thead tr:last-of-type th {\n",
              "        text-align: right;\n",
              "    }\n",
              "</style>\n",
              "<table border=\"1\" class=\"dataframe\">\n",
              "  <thead>\n",
              "    <tr>\n",
              "      <th>city</th>\n",
              "      <th>Osaka</th>\n",
              "      <th>Tokyo</th>\n",
              "      <th>Osaka</th>\n",
              "    </tr>\n",
              "    <tr>\n",
              "      <th>color</th>\n",
              "      <th>Blue</th>\n",
              "      <th>Red</th>\n",
              "      <th>Red</th>\n",
              "    </tr>\n",
              "    <tr>\n",
              "      <th>key2</th>\n",
              "      <th></th>\n",
              "      <th></th>\n",
              "      <th></th>\n",
              "    </tr>\n",
              "  </thead>\n",
              "  <tbody>\n",
              "    <tr>\n",
              "      <th>1</th>\n",
              "      <td>0</td>\n",
              "      <td>1</td>\n",
              "      <td>2</td>\n",
              "    </tr>\n",
              "    <tr>\n",
              "      <th>2</th>\n",
              "      <td>9</td>\n",
              "      <td>11</td>\n",
              "      <td>13</td>\n",
              "    </tr>\n",
              "  </tbody>\n",
              "</table>\n",
              "</div>"
            ],
            "text/plain": [
              "city  Osaka Tokyo Osaka\n",
              "color  Blue   Red   Red\n",
              "key2                   \n",
              "1         0     1     2\n",
              "2         9    11    13"
            ]
          },
          "metadata": {
            "tags": []
          },
          "execution_count": 13
        }
      ]
    },
    {
      "cell_type": "code",
      "metadata": {
        "colab": {
          "base_uri": "https://localhost:8080/",
          "height": 172
        },
        "id": "OIEqzP7RnYiW",
        "outputId": "68ced66a-a8af-461a-a92e-c02aa402e75d"
      },
      "source": [
        "hier_df.sum(level = 'city', axis = 1)"
      ],
      "execution_count": 15,
      "outputs": [
        {
          "output_type": "execute_result",
          "data": {
            "text/html": [
              "<div>\n",
              "<style scoped>\n",
              "    .dataframe tbody tr th:only-of-type {\n",
              "        vertical-align: middle;\n",
              "    }\n",
              "\n",
              "    .dataframe tbody tr th {\n",
              "        vertical-align: top;\n",
              "    }\n",
              "\n",
              "    .dataframe thead th {\n",
              "        text-align: right;\n",
              "    }\n",
              "</style>\n",
              "<table border=\"1\" class=\"dataframe\">\n",
              "  <thead>\n",
              "    <tr style=\"text-align: right;\">\n",
              "      <th></th>\n",
              "      <th>city</th>\n",
              "      <th>Osaka</th>\n",
              "      <th>Tokyo</th>\n",
              "    </tr>\n",
              "    <tr>\n",
              "      <th>key1</th>\n",
              "      <th>key2</th>\n",
              "      <th></th>\n",
              "      <th></th>\n",
              "    </tr>\n",
              "  </thead>\n",
              "  <tbody>\n",
              "    <tr>\n",
              "      <th rowspan=\"2\" valign=\"top\">a</th>\n",
              "      <th>1</th>\n",
              "      <td>2</td>\n",
              "      <td>1</td>\n",
              "    </tr>\n",
              "    <tr>\n",
              "      <th>2</th>\n",
              "      <td>8</td>\n",
              "      <td>4</td>\n",
              "    </tr>\n",
              "    <tr>\n",
              "      <th>b</th>\n",
              "      <th>2</th>\n",
              "      <td>14</td>\n",
              "      <td>7</td>\n",
              "    </tr>\n",
              "  </tbody>\n",
              "</table>\n",
              "</div>"
            ],
            "text/plain": [
              "city       Osaka  Tokyo\n",
              "key1 key2              \n",
              "a    1         2      1\n",
              "     2         8      4\n",
              "b    2        14      7"
            ]
          },
          "metadata": {
            "tags": []
          },
          "execution_count": 15
        }
      ]
    },
    {
      "cell_type": "code",
      "metadata": {
        "colab": {
          "base_uri": "https://localhost:8080/",
          "height": 172
        },
        "id": "PKRaQSoJnS-n",
        "outputId": "d0bb55d8-0123-44eb-80f5-771539c9814f"
      },
      "source": [
        "hier_df.sum(level = 'color', axis = 1)"
      ],
      "execution_count": 14,
      "outputs": [
        {
          "output_type": "execute_result",
          "data": {
            "text/html": [
              "<div>\n",
              "<style scoped>\n",
              "    .dataframe tbody tr th:only-of-type {\n",
              "        vertical-align: middle;\n",
              "    }\n",
              "\n",
              "    .dataframe tbody tr th {\n",
              "        vertical-align: top;\n",
              "    }\n",
              "\n",
              "    .dataframe thead th {\n",
              "        text-align: right;\n",
              "    }\n",
              "</style>\n",
              "<table border=\"1\" class=\"dataframe\">\n",
              "  <thead>\n",
              "    <tr style=\"text-align: right;\">\n",
              "      <th></th>\n",
              "      <th>color</th>\n",
              "      <th>Blue</th>\n",
              "      <th>Red</th>\n",
              "    </tr>\n",
              "    <tr>\n",
              "      <th>key1</th>\n",
              "      <th>key2</th>\n",
              "      <th></th>\n",
              "      <th></th>\n",
              "    </tr>\n",
              "  </thead>\n",
              "  <tbody>\n",
              "    <tr>\n",
              "      <th rowspan=\"2\" valign=\"top\">a</th>\n",
              "      <th>1</th>\n",
              "      <td>0</td>\n",
              "      <td>3</td>\n",
              "    </tr>\n",
              "    <tr>\n",
              "      <th>2</th>\n",
              "      <td>3</td>\n",
              "      <td>9</td>\n",
              "    </tr>\n",
              "    <tr>\n",
              "      <th>b</th>\n",
              "      <th>2</th>\n",
              "      <td>6</td>\n",
              "      <td>15</td>\n",
              "    </tr>\n",
              "  </tbody>\n",
              "</table>\n",
              "</div>"
            ],
            "text/plain": [
              "color      Blue  Red\n",
              "key1 key2           \n",
              "a    1        0    3\n",
              "     2        3    9\n",
              "b    2        6   15"
            ]
          },
          "metadata": {
            "tags": []
          },
          "execution_count": 14
        }
      ]
    },
    {
      "cell_type": "markdown",
      "metadata": {
        "id": "j41ptUFpnk4a"
      },
      "source": [
        "##インデックスの要素の削除（Delete index element）"
      ]
    },
    {
      "cell_type": "code",
      "metadata": {
        "colab": {
          "base_uri": "https://localhost:8080/",
          "height": 172
        },
        "id": "_eKOCOJ7nrhq",
        "outputId": "86424ca1-d5be-4c18-85e2-b2a358465e96"
      },
      "source": [
        "hier_df.drop(['b'])"
      ],
      "execution_count": 16,
      "outputs": [
        {
          "output_type": "execute_result",
          "data": {
            "text/html": [
              "<div>\n",
              "<style scoped>\n",
              "    .dataframe tbody tr th:only-of-type {\n",
              "        vertical-align: middle;\n",
              "    }\n",
              "\n",
              "    .dataframe tbody tr th {\n",
              "        vertical-align: top;\n",
              "    }\n",
              "\n",
              "    .dataframe thead tr th {\n",
              "        text-align: left;\n",
              "    }\n",
              "\n",
              "    .dataframe thead tr:last-of-type th {\n",
              "        text-align: right;\n",
              "    }\n",
              "</style>\n",
              "<table border=\"1\" class=\"dataframe\">\n",
              "  <thead>\n",
              "    <tr>\n",
              "      <th></th>\n",
              "      <th>city</th>\n",
              "      <th>Osaka</th>\n",
              "      <th>Tokyo</th>\n",
              "      <th>Osaka</th>\n",
              "    </tr>\n",
              "    <tr>\n",
              "      <th></th>\n",
              "      <th>color</th>\n",
              "      <th>Blue</th>\n",
              "      <th>Red</th>\n",
              "      <th>Red</th>\n",
              "    </tr>\n",
              "    <tr>\n",
              "      <th>key1</th>\n",
              "      <th>key2</th>\n",
              "      <th></th>\n",
              "      <th></th>\n",
              "      <th></th>\n",
              "    </tr>\n",
              "  </thead>\n",
              "  <tbody>\n",
              "    <tr>\n",
              "      <th rowspan=\"2\" valign=\"top\">a</th>\n",
              "      <th>1</th>\n",
              "      <td>0</td>\n",
              "      <td>1</td>\n",
              "      <td>2</td>\n",
              "    </tr>\n",
              "    <tr>\n",
              "      <th>2</th>\n",
              "      <td>3</td>\n",
              "      <td>4</td>\n",
              "      <td>5</td>\n",
              "    </tr>\n",
              "  </tbody>\n",
              "</table>\n",
              "</div>"
            ],
            "text/plain": [
              "city      Osaka Tokyo Osaka\n",
              "color      Blue   Red   Red\n",
              "key1 key2                  \n",
              "a    1        0     1     2\n",
              "     2        3     4     5"
            ]
          },
          "metadata": {
            "tags": []
          },
          "execution_count": 16
        }
      ]
    },
    {
      "cell_type": "markdown",
      "metadata": {
        "id": "U6JEVrrhUZwJ"
      },
      "source": [
        "#問題（Question）"
      ]
    },
    {
      "cell_type": "markdown",
      "metadata": {
        "id": "Cn5JzBE-LEaY"
      },
      "source": [
        "##問題１（Question１）\n",
        "次のデータに対して、Kyotoの列だけを抜き出しなさい\n",
        "<br>\n",
        "Extract only Kyoto columns for the following data\n"
      ]
    },
    {
      "cell_type": "code",
      "metadata": {
        "id": "54rsVMLxWnzZ",
        "colab": {
          "base_uri": "https://localhost:8080/",
          "height": 203
        },
        "outputId": "20b488e0-a572-48df-a509-9b4890c003fb"
      },
      "source": [
        "hier_df1 = DataFrame(\n",
        "    np.arange(12).reshape((3,4)),\n",
        "    index = [\n",
        "             ['c','d','d'],\n",
        "             [1,2,1]\n",
        "    ],\n",
        "    columns = [\n",
        "              ['Kyoto','Nagoya','Hokkaido','Kyoto'],\n",
        "              ['Yellow','Yellow','Red','Blue']\n",
        "    ]\n",
        ")\n",
        "\n",
        "hier_df1.index.names = ['key1','key2']\n",
        "hier_df1.columns.names = ['city','color']\n",
        "\n",
        "hier_df"
      ],
      "execution_count": 17,
      "outputs": [
        {
          "output_type": "execute_result",
          "data": {
            "text/html": [
              "<div>\n",
              "<style scoped>\n",
              "    .dataframe tbody tr th:only-of-type {\n",
              "        vertical-align: middle;\n",
              "    }\n",
              "\n",
              "    .dataframe tbody tr th {\n",
              "        vertical-align: top;\n",
              "    }\n",
              "\n",
              "    .dataframe thead tr th {\n",
              "        text-align: left;\n",
              "    }\n",
              "\n",
              "    .dataframe thead tr:last-of-type th {\n",
              "        text-align: right;\n",
              "    }\n",
              "</style>\n",
              "<table border=\"1\" class=\"dataframe\">\n",
              "  <thead>\n",
              "    <tr>\n",
              "      <th></th>\n",
              "      <th>city</th>\n",
              "      <th>Osaka</th>\n",
              "      <th>Tokyo</th>\n",
              "      <th>Osaka</th>\n",
              "    </tr>\n",
              "    <tr>\n",
              "      <th></th>\n",
              "      <th>color</th>\n",
              "      <th>Blue</th>\n",
              "      <th>Red</th>\n",
              "      <th>Red</th>\n",
              "    </tr>\n",
              "    <tr>\n",
              "      <th>key1</th>\n",
              "      <th>key2</th>\n",
              "      <th></th>\n",
              "      <th></th>\n",
              "      <th></th>\n",
              "    </tr>\n",
              "  </thead>\n",
              "  <tbody>\n",
              "    <tr>\n",
              "      <th rowspan=\"2\" valign=\"top\">a</th>\n",
              "      <th>1</th>\n",
              "      <td>0</td>\n",
              "      <td>1</td>\n",
              "      <td>2</td>\n",
              "    </tr>\n",
              "    <tr>\n",
              "      <th>2</th>\n",
              "      <td>3</td>\n",
              "      <td>4</td>\n",
              "      <td>5</td>\n",
              "    </tr>\n",
              "    <tr>\n",
              "      <th>b</th>\n",
              "      <th>2</th>\n",
              "      <td>6</td>\n",
              "      <td>7</td>\n",
              "      <td>8</td>\n",
              "    </tr>\n",
              "  </tbody>\n",
              "</table>\n",
              "</div>"
            ],
            "text/plain": [
              "city      Osaka Tokyo Osaka\n",
              "color      Blue   Red   Red\n",
              "key1 key2                  \n",
              "a    1        0     1     2\n",
              "     2        3     4     5\n",
              "b    2        6     7     8"
            ]
          },
          "metadata": {
            "tags": []
          },
          "execution_count": 17
        }
      ]
    },
    {
      "cell_type": "code",
      "metadata": {
        "id": "gqaqPaD-oj6X"
      },
      "source": [
        "#ANSWR\n",
        "\n",
        "\n"
      ],
      "execution_count": null,
      "outputs": []
    },
    {
      "cell_type": "markdown",
      "metadata": {
        "id": "uezRh96nW0dJ"
      },
      "source": [
        "#問題２（Question 2）<br>\n",
        "問題１のデータに対して、cityをまとめて列同士の平均値を出しなさい。<br>For the data of Problem 1, put together the cities and calculate the average value between the columns."
      ]
    },
    {
      "cell_type": "code",
      "metadata": {
        "id": "aESXAWg7XGgX"
      },
      "source": [
        "\n"
      ],
      "execution_count": 17,
      "outputs": []
    },
    {
      "cell_type": "markdown",
      "metadata": {
        "id": "z6N8wmSXEhJQ"
      },
      "source": [
        "#問題３（Question ３）\n",
        "<br>問題１のデータに対して、key2ごとに行の合計を算出しなさい。\n",
        "<br>Calculate the total number of rows for each key2 for the data in question 1."
      ]
    },
    {
      "cell_type": "code",
      "metadata": {
        "id": "Vj4INYoGEwMm"
      },
      "source": [
        "\n",
        "\n",
        "\n"
      ],
      "execution_count": 17,
      "outputs": []
    },
    {
      "cell_type": "markdown",
      "metadata": {
        "id": "KuaPH2rQvMWQ"
      },
      "source": [
        "#データの結合（Combine data）"
      ]
    },
    {
      "cell_type": "markdown",
      "metadata": {
        "id": "JryodX4tvTiA"
      },
      "source": [
        "##データセット（Dataset）"
      ]
    },
    {
      "cell_type": "code",
      "metadata": {
        "colab": {
          "base_uri": "https://localhost:8080/",
          "height": 357
        },
        "id": "1wT-gwE7vSqQ",
        "outputId": "25fca9c6-f5c9-4466-d3ac-41b87e104d76"
      },
      "source": [
        "data1 = {\n",
        "    'id':['100','101','102','103','104','106','108','110','111','113'],\n",
        "    'city':['Tokyo','Osaka','Kyoto','Hokkaido','Tokyo','Tokyo','Osaka','Kyoto','Hokkaido','Tokyo'],\n",
        "    'birth_year':['1990','1989','1992','1997','1982','1991','1988','1990','1995','1981'],\n",
        "    'name':['Hiroshi','Akiko','Yuki','Satoru','Steeve','Mituru','Aoi','Tarou','Suguru','Mitsuo']\n",
        "}\n",
        "\n",
        "df1 = DataFrame(data1)\n",
        "df1"
      ],
      "execution_count": 18,
      "outputs": [
        {
          "output_type": "execute_result",
          "data": {
            "text/html": [
              "<div>\n",
              "<style scoped>\n",
              "    .dataframe tbody tr th:only-of-type {\n",
              "        vertical-align: middle;\n",
              "    }\n",
              "\n",
              "    .dataframe tbody tr th {\n",
              "        vertical-align: top;\n",
              "    }\n",
              "\n",
              "    .dataframe thead th {\n",
              "        text-align: right;\n",
              "    }\n",
              "</style>\n",
              "<table border=\"1\" class=\"dataframe\">\n",
              "  <thead>\n",
              "    <tr style=\"text-align: right;\">\n",
              "      <th></th>\n",
              "      <th>id</th>\n",
              "      <th>city</th>\n",
              "      <th>birth_year</th>\n",
              "      <th>name</th>\n",
              "    </tr>\n",
              "  </thead>\n",
              "  <tbody>\n",
              "    <tr>\n",
              "      <th>0</th>\n",
              "      <td>100</td>\n",
              "      <td>Tokyo</td>\n",
              "      <td>1990</td>\n",
              "      <td>Hiroshi</td>\n",
              "    </tr>\n",
              "    <tr>\n",
              "      <th>1</th>\n",
              "      <td>101</td>\n",
              "      <td>Osaka</td>\n",
              "      <td>1989</td>\n",
              "      <td>Akiko</td>\n",
              "    </tr>\n",
              "    <tr>\n",
              "      <th>2</th>\n",
              "      <td>102</td>\n",
              "      <td>Kyoto</td>\n",
              "      <td>1992</td>\n",
              "      <td>Yuki</td>\n",
              "    </tr>\n",
              "    <tr>\n",
              "      <th>3</th>\n",
              "      <td>103</td>\n",
              "      <td>Hokkaido</td>\n",
              "      <td>1997</td>\n",
              "      <td>Satoru</td>\n",
              "    </tr>\n",
              "    <tr>\n",
              "      <th>4</th>\n",
              "      <td>104</td>\n",
              "      <td>Tokyo</td>\n",
              "      <td>1982</td>\n",
              "      <td>Steeve</td>\n",
              "    </tr>\n",
              "    <tr>\n",
              "      <th>5</th>\n",
              "      <td>106</td>\n",
              "      <td>Tokyo</td>\n",
              "      <td>1991</td>\n",
              "      <td>Mituru</td>\n",
              "    </tr>\n",
              "    <tr>\n",
              "      <th>6</th>\n",
              "      <td>108</td>\n",
              "      <td>Osaka</td>\n",
              "      <td>1988</td>\n",
              "      <td>Aoi</td>\n",
              "    </tr>\n",
              "    <tr>\n",
              "      <th>7</th>\n",
              "      <td>110</td>\n",
              "      <td>Kyoto</td>\n",
              "      <td>1990</td>\n",
              "      <td>Tarou</td>\n",
              "    </tr>\n",
              "    <tr>\n",
              "      <th>8</th>\n",
              "      <td>111</td>\n",
              "      <td>Hokkaido</td>\n",
              "      <td>1995</td>\n",
              "      <td>Suguru</td>\n",
              "    </tr>\n",
              "    <tr>\n",
              "      <th>9</th>\n",
              "      <td>113</td>\n",
              "      <td>Tokyo</td>\n",
              "      <td>1981</td>\n",
              "      <td>Mitsuo</td>\n",
              "    </tr>\n",
              "  </tbody>\n",
              "</table>\n",
              "</div>"
            ],
            "text/plain": [
              "    id      city birth_year     name\n",
              "0  100     Tokyo       1990  Hiroshi\n",
              "1  101     Osaka       1989    Akiko\n",
              "2  102     Kyoto       1992     Yuki\n",
              "3  103  Hokkaido       1997   Satoru\n",
              "4  104     Tokyo       1982   Steeve\n",
              "5  106     Tokyo       1991   Mituru\n",
              "6  108     Osaka       1988      Aoi\n",
              "7  110     Kyoto       1990    Tarou\n",
              "8  111  Hokkaido       1995   Suguru\n",
              "9  113     Tokyo       1981   Mitsuo"
            ]
          },
          "metadata": {
            "tags": []
          },
          "execution_count": 18
        }
      ]
    },
    {
      "cell_type": "code",
      "metadata": {
        "colab": {
          "base_uri": "https://localhost:8080/",
          "height": 203
        },
        "id": "T5m1wfL8wWgW",
        "outputId": "5474e0c1-4b0e-48f1-caea-49d7f0f9e174"
      },
      "source": [
        "data2 = {\n",
        "    'id':['100','101','102','105','107'],\n",
        "    'math':[50,43,33,76,98],\n",
        "    'english':[90,30,20,50,30],\n",
        "    'sex':['M','F','F','M','M'],\n",
        "    'index_num':[0,1,2,3,4]\n",
        "}\n",
        "\n",
        "df2 = DataFrame(data2)\n",
        "df2"
      ],
      "execution_count": 19,
      "outputs": [
        {
          "output_type": "execute_result",
          "data": {
            "text/html": [
              "<div>\n",
              "<style scoped>\n",
              "    .dataframe tbody tr th:only-of-type {\n",
              "        vertical-align: middle;\n",
              "    }\n",
              "\n",
              "    .dataframe tbody tr th {\n",
              "        vertical-align: top;\n",
              "    }\n",
              "\n",
              "    .dataframe thead th {\n",
              "        text-align: right;\n",
              "    }\n",
              "</style>\n",
              "<table border=\"1\" class=\"dataframe\">\n",
              "  <thead>\n",
              "    <tr style=\"text-align: right;\">\n",
              "      <th></th>\n",
              "      <th>id</th>\n",
              "      <th>math</th>\n",
              "      <th>english</th>\n",
              "      <th>sex</th>\n",
              "      <th>index_num</th>\n",
              "    </tr>\n",
              "  </thead>\n",
              "  <tbody>\n",
              "    <tr>\n",
              "      <th>0</th>\n",
              "      <td>100</td>\n",
              "      <td>50</td>\n",
              "      <td>90</td>\n",
              "      <td>M</td>\n",
              "      <td>0</td>\n",
              "    </tr>\n",
              "    <tr>\n",
              "      <th>1</th>\n",
              "      <td>101</td>\n",
              "      <td>43</td>\n",
              "      <td>30</td>\n",
              "      <td>F</td>\n",
              "      <td>1</td>\n",
              "    </tr>\n",
              "    <tr>\n",
              "      <th>2</th>\n",
              "      <td>102</td>\n",
              "      <td>33</td>\n",
              "      <td>20</td>\n",
              "      <td>F</td>\n",
              "      <td>2</td>\n",
              "    </tr>\n",
              "    <tr>\n",
              "      <th>3</th>\n",
              "      <td>105</td>\n",
              "      <td>76</td>\n",
              "      <td>50</td>\n",
              "      <td>M</td>\n",
              "      <td>3</td>\n",
              "    </tr>\n",
              "    <tr>\n",
              "      <th>4</th>\n",
              "      <td>107</td>\n",
              "      <td>98</td>\n",
              "      <td>30</td>\n",
              "      <td>M</td>\n",
              "      <td>4</td>\n",
              "    </tr>\n",
              "  </tbody>\n",
              "</table>\n",
              "</div>"
            ],
            "text/plain": [
              "    id  math  english sex  index_num\n",
              "0  100    50       90   M          0\n",
              "1  101    43       30   F          1\n",
              "2  102    33       20   F          2\n",
              "3  105    76       50   M          3\n",
              "4  107    98       30   M          4"
            ]
          },
          "metadata": {
            "tags": []
          },
          "execution_count": 19
        }
      ]
    },
    {
      "cell_type": "markdown",
      "metadata": {
        "id": "SfIO3sdtw7Ea"
      },
      "source": [
        "##内部結合（Inner join）"
      ]
    },
    {
      "cell_type": "code",
      "metadata": {
        "id": "yd3D2MpSB76F",
        "colab": {
          "base_uri": "https://localhost:8080/",
          "height": 159
        },
        "outputId": "1bbaee97-8d06-4d65-8e25-8bb4ff249028"
      },
      "source": [
        "print('Inner Join')\n",
        "pd.merge(df1,df2, on = 'id')"
      ],
      "execution_count": 20,
      "outputs": [
        {
          "output_type": "stream",
          "text": [
            "Inner Join\n"
          ],
          "name": "stdout"
        },
        {
          "output_type": "execute_result",
          "data": {
            "text/html": [
              "<div>\n",
              "<style scoped>\n",
              "    .dataframe tbody tr th:only-of-type {\n",
              "        vertical-align: middle;\n",
              "    }\n",
              "\n",
              "    .dataframe tbody tr th {\n",
              "        vertical-align: top;\n",
              "    }\n",
              "\n",
              "    .dataframe thead th {\n",
              "        text-align: right;\n",
              "    }\n",
              "</style>\n",
              "<table border=\"1\" class=\"dataframe\">\n",
              "  <thead>\n",
              "    <tr style=\"text-align: right;\">\n",
              "      <th></th>\n",
              "      <th>id</th>\n",
              "      <th>city</th>\n",
              "      <th>birth_year</th>\n",
              "      <th>name</th>\n",
              "      <th>math</th>\n",
              "      <th>english</th>\n",
              "      <th>sex</th>\n",
              "      <th>index_num</th>\n",
              "    </tr>\n",
              "  </thead>\n",
              "  <tbody>\n",
              "    <tr>\n",
              "      <th>0</th>\n",
              "      <td>100</td>\n",
              "      <td>Tokyo</td>\n",
              "      <td>1990</td>\n",
              "      <td>Hiroshi</td>\n",
              "      <td>50</td>\n",
              "      <td>90</td>\n",
              "      <td>M</td>\n",
              "      <td>0</td>\n",
              "    </tr>\n",
              "    <tr>\n",
              "      <th>1</th>\n",
              "      <td>101</td>\n",
              "      <td>Osaka</td>\n",
              "      <td>1989</td>\n",
              "      <td>Akiko</td>\n",
              "      <td>43</td>\n",
              "      <td>30</td>\n",
              "      <td>F</td>\n",
              "      <td>1</td>\n",
              "    </tr>\n",
              "    <tr>\n",
              "      <th>2</th>\n",
              "      <td>102</td>\n",
              "      <td>Kyoto</td>\n",
              "      <td>1992</td>\n",
              "      <td>Yuki</td>\n",
              "      <td>33</td>\n",
              "      <td>20</td>\n",
              "      <td>F</td>\n",
              "      <td>2</td>\n",
              "    </tr>\n",
              "  </tbody>\n",
              "</table>\n",
              "</div>"
            ],
            "text/plain": [
              "    id   city birth_year     name  math  english sex  index_num\n",
              "0  100  Tokyo       1990  Hiroshi    50       90   M          0\n",
              "1  101  Osaka       1989    Akiko    43       30   F          1\n",
              "2  102  Kyoto       1992     Yuki    33       20   F          2"
            ]
          },
          "metadata": {
            "tags": []
          },
          "execution_count": 20
        }
      ]
    },
    {
      "cell_type": "markdown",
      "metadata": {
        "id": "HeO33e7YxL7D"
      },
      "source": [
        "##全結合（Fully integrated）"
      ]
    },
    {
      "cell_type": "code",
      "metadata": {
        "colab": {
          "base_uri": "https://localhost:8080/",
          "height": 436
        },
        "id": "-TCGKHDDxKo5",
        "outputId": "ee882651-d02b-4578-a67b-53f999d3df7c"
      },
      "source": [
        "print('Fully integrated')\n",
        "pd.merge(df1,df2, how = 'outer')"
      ],
      "execution_count": 21,
      "outputs": [
        {
          "output_type": "stream",
          "text": [
            "Fully integrated\n"
          ],
          "name": "stdout"
        },
        {
          "output_type": "execute_result",
          "data": {
            "text/html": [
              "<div>\n",
              "<style scoped>\n",
              "    .dataframe tbody tr th:only-of-type {\n",
              "        vertical-align: middle;\n",
              "    }\n",
              "\n",
              "    .dataframe tbody tr th {\n",
              "        vertical-align: top;\n",
              "    }\n",
              "\n",
              "    .dataframe thead th {\n",
              "        text-align: right;\n",
              "    }\n",
              "</style>\n",
              "<table border=\"1\" class=\"dataframe\">\n",
              "  <thead>\n",
              "    <tr style=\"text-align: right;\">\n",
              "      <th></th>\n",
              "      <th>id</th>\n",
              "      <th>city</th>\n",
              "      <th>birth_year</th>\n",
              "      <th>name</th>\n",
              "      <th>math</th>\n",
              "      <th>english</th>\n",
              "      <th>sex</th>\n",
              "      <th>index_num</th>\n",
              "    </tr>\n",
              "  </thead>\n",
              "  <tbody>\n",
              "    <tr>\n",
              "      <th>0</th>\n",
              "      <td>100</td>\n",
              "      <td>Tokyo</td>\n",
              "      <td>1990</td>\n",
              "      <td>Hiroshi</td>\n",
              "      <td>50.0</td>\n",
              "      <td>90.0</td>\n",
              "      <td>M</td>\n",
              "      <td>0.0</td>\n",
              "    </tr>\n",
              "    <tr>\n",
              "      <th>1</th>\n",
              "      <td>101</td>\n",
              "      <td>Osaka</td>\n",
              "      <td>1989</td>\n",
              "      <td>Akiko</td>\n",
              "      <td>43.0</td>\n",
              "      <td>30.0</td>\n",
              "      <td>F</td>\n",
              "      <td>1.0</td>\n",
              "    </tr>\n",
              "    <tr>\n",
              "      <th>2</th>\n",
              "      <td>102</td>\n",
              "      <td>Kyoto</td>\n",
              "      <td>1992</td>\n",
              "      <td>Yuki</td>\n",
              "      <td>33.0</td>\n",
              "      <td>20.0</td>\n",
              "      <td>F</td>\n",
              "      <td>2.0</td>\n",
              "    </tr>\n",
              "    <tr>\n",
              "      <th>3</th>\n",
              "      <td>103</td>\n",
              "      <td>Hokkaido</td>\n",
              "      <td>1997</td>\n",
              "      <td>Satoru</td>\n",
              "      <td>NaN</td>\n",
              "      <td>NaN</td>\n",
              "      <td>NaN</td>\n",
              "      <td>NaN</td>\n",
              "    </tr>\n",
              "    <tr>\n",
              "      <th>4</th>\n",
              "      <td>104</td>\n",
              "      <td>Tokyo</td>\n",
              "      <td>1982</td>\n",
              "      <td>Steeve</td>\n",
              "      <td>NaN</td>\n",
              "      <td>NaN</td>\n",
              "      <td>NaN</td>\n",
              "      <td>NaN</td>\n",
              "    </tr>\n",
              "    <tr>\n",
              "      <th>5</th>\n",
              "      <td>106</td>\n",
              "      <td>Tokyo</td>\n",
              "      <td>1991</td>\n",
              "      <td>Mituru</td>\n",
              "      <td>NaN</td>\n",
              "      <td>NaN</td>\n",
              "      <td>NaN</td>\n",
              "      <td>NaN</td>\n",
              "    </tr>\n",
              "    <tr>\n",
              "      <th>6</th>\n",
              "      <td>108</td>\n",
              "      <td>Osaka</td>\n",
              "      <td>1988</td>\n",
              "      <td>Aoi</td>\n",
              "      <td>NaN</td>\n",
              "      <td>NaN</td>\n",
              "      <td>NaN</td>\n",
              "      <td>NaN</td>\n",
              "    </tr>\n",
              "    <tr>\n",
              "      <th>7</th>\n",
              "      <td>110</td>\n",
              "      <td>Kyoto</td>\n",
              "      <td>1990</td>\n",
              "      <td>Tarou</td>\n",
              "      <td>NaN</td>\n",
              "      <td>NaN</td>\n",
              "      <td>NaN</td>\n",
              "      <td>NaN</td>\n",
              "    </tr>\n",
              "    <tr>\n",
              "      <th>8</th>\n",
              "      <td>111</td>\n",
              "      <td>Hokkaido</td>\n",
              "      <td>1995</td>\n",
              "      <td>Suguru</td>\n",
              "      <td>NaN</td>\n",
              "      <td>NaN</td>\n",
              "      <td>NaN</td>\n",
              "      <td>NaN</td>\n",
              "    </tr>\n",
              "    <tr>\n",
              "      <th>9</th>\n",
              "      <td>113</td>\n",
              "      <td>Tokyo</td>\n",
              "      <td>1981</td>\n",
              "      <td>Mitsuo</td>\n",
              "      <td>NaN</td>\n",
              "      <td>NaN</td>\n",
              "      <td>NaN</td>\n",
              "      <td>NaN</td>\n",
              "    </tr>\n",
              "    <tr>\n",
              "      <th>10</th>\n",
              "      <td>105</td>\n",
              "      <td>NaN</td>\n",
              "      <td>NaN</td>\n",
              "      <td>NaN</td>\n",
              "      <td>76.0</td>\n",
              "      <td>50.0</td>\n",
              "      <td>M</td>\n",
              "      <td>3.0</td>\n",
              "    </tr>\n",
              "    <tr>\n",
              "      <th>11</th>\n",
              "      <td>107</td>\n",
              "      <td>NaN</td>\n",
              "      <td>NaN</td>\n",
              "      <td>NaN</td>\n",
              "      <td>98.0</td>\n",
              "      <td>30.0</td>\n",
              "      <td>M</td>\n",
              "      <td>4.0</td>\n",
              "    </tr>\n",
              "  </tbody>\n",
              "</table>\n",
              "</div>"
            ],
            "text/plain": [
              "     id      city birth_year     name  math  english  sex  index_num\n",
              "0   100     Tokyo       1990  Hiroshi  50.0     90.0    M        0.0\n",
              "1   101     Osaka       1989    Akiko  43.0     30.0    F        1.0\n",
              "2   102     Kyoto       1992     Yuki  33.0     20.0    F        2.0\n",
              "3   103  Hokkaido       1997   Satoru   NaN      NaN  NaN        NaN\n",
              "4   104     Tokyo       1982   Steeve   NaN      NaN  NaN        NaN\n",
              "5   106     Tokyo       1991   Mituru   NaN      NaN  NaN        NaN\n",
              "6   108     Osaka       1988      Aoi   NaN      NaN  NaN        NaN\n",
              "7   110     Kyoto       1990    Tarou   NaN      NaN  NaN        NaN\n",
              "8   111  Hokkaido       1995   Suguru   NaN      NaN  NaN        NaN\n",
              "9   113     Tokyo       1981   Mitsuo   NaN      NaN  NaN        NaN\n",
              "10  105       NaN        NaN      NaN  76.0     50.0    M        3.0\n",
              "11  107       NaN        NaN      NaN  98.0     30.0    M        4.0"
            ]
          },
          "metadata": {
            "tags": []
          },
          "execution_count": 21
        }
      ]
    },
    {
      "cell_type": "code",
      "metadata": {
        "colab": {
          "base_uri": "https://localhost:8080/",
          "height": 203
        },
        "id": "W5BIzO2LxaIM",
        "outputId": "6d90f67b-9680-45d8-bd89-941510261e57"
      },
      "source": [
        "pd.merge(df1,df2,left_index = True, right_on = 'index_num')"
      ],
      "execution_count": 22,
      "outputs": [
        {
          "output_type": "execute_result",
          "data": {
            "text/html": [
              "<div>\n",
              "<style scoped>\n",
              "    .dataframe tbody tr th:only-of-type {\n",
              "        vertical-align: middle;\n",
              "    }\n",
              "\n",
              "    .dataframe tbody tr th {\n",
              "        vertical-align: top;\n",
              "    }\n",
              "\n",
              "    .dataframe thead th {\n",
              "        text-align: right;\n",
              "    }\n",
              "</style>\n",
              "<table border=\"1\" class=\"dataframe\">\n",
              "  <thead>\n",
              "    <tr style=\"text-align: right;\">\n",
              "      <th></th>\n",
              "      <th>id_x</th>\n",
              "      <th>city</th>\n",
              "      <th>birth_year</th>\n",
              "      <th>name</th>\n",
              "      <th>id_y</th>\n",
              "      <th>math</th>\n",
              "      <th>english</th>\n",
              "      <th>sex</th>\n",
              "      <th>index_num</th>\n",
              "    </tr>\n",
              "  </thead>\n",
              "  <tbody>\n",
              "    <tr>\n",
              "      <th>0</th>\n",
              "      <td>100</td>\n",
              "      <td>Tokyo</td>\n",
              "      <td>1990</td>\n",
              "      <td>Hiroshi</td>\n",
              "      <td>100</td>\n",
              "      <td>50</td>\n",
              "      <td>90</td>\n",
              "      <td>M</td>\n",
              "      <td>0</td>\n",
              "    </tr>\n",
              "    <tr>\n",
              "      <th>1</th>\n",
              "      <td>101</td>\n",
              "      <td>Osaka</td>\n",
              "      <td>1989</td>\n",
              "      <td>Akiko</td>\n",
              "      <td>101</td>\n",
              "      <td>43</td>\n",
              "      <td>30</td>\n",
              "      <td>F</td>\n",
              "      <td>1</td>\n",
              "    </tr>\n",
              "    <tr>\n",
              "      <th>2</th>\n",
              "      <td>102</td>\n",
              "      <td>Kyoto</td>\n",
              "      <td>1992</td>\n",
              "      <td>Yuki</td>\n",
              "      <td>102</td>\n",
              "      <td>33</td>\n",
              "      <td>20</td>\n",
              "      <td>F</td>\n",
              "      <td>2</td>\n",
              "    </tr>\n",
              "    <tr>\n",
              "      <th>3</th>\n",
              "      <td>103</td>\n",
              "      <td>Hokkaido</td>\n",
              "      <td>1997</td>\n",
              "      <td>Satoru</td>\n",
              "      <td>105</td>\n",
              "      <td>76</td>\n",
              "      <td>50</td>\n",
              "      <td>M</td>\n",
              "      <td>3</td>\n",
              "    </tr>\n",
              "    <tr>\n",
              "      <th>4</th>\n",
              "      <td>104</td>\n",
              "      <td>Tokyo</td>\n",
              "      <td>1982</td>\n",
              "      <td>Steeve</td>\n",
              "      <td>107</td>\n",
              "      <td>98</td>\n",
              "      <td>30</td>\n",
              "      <td>M</td>\n",
              "      <td>4</td>\n",
              "    </tr>\n",
              "  </tbody>\n",
              "</table>\n",
              "</div>"
            ],
            "text/plain": [
              "  id_x      city birth_year     name id_y  math  english sex  index_num\n",
              "0  100     Tokyo       1990  Hiroshi  100    50       90   M          0\n",
              "1  101     Osaka       1989    Akiko  101    43       30   F          1\n",
              "2  102     Kyoto       1992     Yuki  102    33       20   F          2\n",
              "3  103  Hokkaido       1997   Satoru  105    76       50   M          3\n",
              "4  104     Tokyo       1982   Steeve  107    98       30   M          4"
            ]
          },
          "metadata": {
            "tags": []
          },
          "execution_count": 22
        }
      ]
    },
    {
      "cell_type": "markdown",
      "metadata": {
        "id": "agWkGSf9xtzY"
      },
      "source": [
        "##左外部結合（Left outer join）"
      ]
    },
    {
      "cell_type": "code",
      "metadata": {
        "colab": {
          "base_uri": "https://localhost:8080/",
          "height": 357
        },
        "id": "6cvYLUV-xqgU",
        "outputId": "3e41b4de-a3a7-43fe-d3b8-ccce0af4562f"
      },
      "source": [
        "pd.merge(df1,df2,how = 'left')"
      ],
      "execution_count": 23,
      "outputs": [
        {
          "output_type": "execute_result",
          "data": {
            "text/html": [
              "<div>\n",
              "<style scoped>\n",
              "    .dataframe tbody tr th:only-of-type {\n",
              "        vertical-align: middle;\n",
              "    }\n",
              "\n",
              "    .dataframe tbody tr th {\n",
              "        vertical-align: top;\n",
              "    }\n",
              "\n",
              "    .dataframe thead th {\n",
              "        text-align: right;\n",
              "    }\n",
              "</style>\n",
              "<table border=\"1\" class=\"dataframe\">\n",
              "  <thead>\n",
              "    <tr style=\"text-align: right;\">\n",
              "      <th></th>\n",
              "      <th>id</th>\n",
              "      <th>city</th>\n",
              "      <th>birth_year</th>\n",
              "      <th>name</th>\n",
              "      <th>math</th>\n",
              "      <th>english</th>\n",
              "      <th>sex</th>\n",
              "      <th>index_num</th>\n",
              "    </tr>\n",
              "  </thead>\n",
              "  <tbody>\n",
              "    <tr>\n",
              "      <th>0</th>\n",
              "      <td>100</td>\n",
              "      <td>Tokyo</td>\n",
              "      <td>1990</td>\n",
              "      <td>Hiroshi</td>\n",
              "      <td>50.0</td>\n",
              "      <td>90.0</td>\n",
              "      <td>M</td>\n",
              "      <td>0.0</td>\n",
              "    </tr>\n",
              "    <tr>\n",
              "      <th>1</th>\n",
              "      <td>101</td>\n",
              "      <td>Osaka</td>\n",
              "      <td>1989</td>\n",
              "      <td>Akiko</td>\n",
              "      <td>43.0</td>\n",
              "      <td>30.0</td>\n",
              "      <td>F</td>\n",
              "      <td>1.0</td>\n",
              "    </tr>\n",
              "    <tr>\n",
              "      <th>2</th>\n",
              "      <td>102</td>\n",
              "      <td>Kyoto</td>\n",
              "      <td>1992</td>\n",
              "      <td>Yuki</td>\n",
              "      <td>33.0</td>\n",
              "      <td>20.0</td>\n",
              "      <td>F</td>\n",
              "      <td>2.0</td>\n",
              "    </tr>\n",
              "    <tr>\n",
              "      <th>3</th>\n",
              "      <td>103</td>\n",
              "      <td>Hokkaido</td>\n",
              "      <td>1997</td>\n",
              "      <td>Satoru</td>\n",
              "      <td>NaN</td>\n",
              "      <td>NaN</td>\n",
              "      <td>NaN</td>\n",
              "      <td>NaN</td>\n",
              "    </tr>\n",
              "    <tr>\n",
              "      <th>4</th>\n",
              "      <td>104</td>\n",
              "      <td>Tokyo</td>\n",
              "      <td>1982</td>\n",
              "      <td>Steeve</td>\n",
              "      <td>NaN</td>\n",
              "      <td>NaN</td>\n",
              "      <td>NaN</td>\n",
              "      <td>NaN</td>\n",
              "    </tr>\n",
              "    <tr>\n",
              "      <th>5</th>\n",
              "      <td>106</td>\n",
              "      <td>Tokyo</td>\n",
              "      <td>1991</td>\n",
              "      <td>Mituru</td>\n",
              "      <td>NaN</td>\n",
              "      <td>NaN</td>\n",
              "      <td>NaN</td>\n",
              "      <td>NaN</td>\n",
              "    </tr>\n",
              "    <tr>\n",
              "      <th>6</th>\n",
              "      <td>108</td>\n",
              "      <td>Osaka</td>\n",
              "      <td>1988</td>\n",
              "      <td>Aoi</td>\n",
              "      <td>NaN</td>\n",
              "      <td>NaN</td>\n",
              "      <td>NaN</td>\n",
              "      <td>NaN</td>\n",
              "    </tr>\n",
              "    <tr>\n",
              "      <th>7</th>\n",
              "      <td>110</td>\n",
              "      <td>Kyoto</td>\n",
              "      <td>1990</td>\n",
              "      <td>Tarou</td>\n",
              "      <td>NaN</td>\n",
              "      <td>NaN</td>\n",
              "      <td>NaN</td>\n",
              "      <td>NaN</td>\n",
              "    </tr>\n",
              "    <tr>\n",
              "      <th>8</th>\n",
              "      <td>111</td>\n",
              "      <td>Hokkaido</td>\n",
              "      <td>1995</td>\n",
              "      <td>Suguru</td>\n",
              "      <td>NaN</td>\n",
              "      <td>NaN</td>\n",
              "      <td>NaN</td>\n",
              "      <td>NaN</td>\n",
              "    </tr>\n",
              "    <tr>\n",
              "      <th>9</th>\n",
              "      <td>113</td>\n",
              "      <td>Tokyo</td>\n",
              "      <td>1981</td>\n",
              "      <td>Mitsuo</td>\n",
              "      <td>NaN</td>\n",
              "      <td>NaN</td>\n",
              "      <td>NaN</td>\n",
              "      <td>NaN</td>\n",
              "    </tr>\n",
              "  </tbody>\n",
              "</table>\n",
              "</div>"
            ],
            "text/plain": [
              "    id      city birth_year     name  math  english  sex  index_num\n",
              "0  100     Tokyo       1990  Hiroshi  50.0     90.0    M        0.0\n",
              "1  101     Osaka       1989    Akiko  43.0     30.0    F        1.0\n",
              "2  102     Kyoto       1992     Yuki  33.0     20.0    F        2.0\n",
              "3  103  Hokkaido       1997   Satoru   NaN      NaN  NaN        NaN\n",
              "4  104     Tokyo       1982   Steeve   NaN      NaN  NaN        NaN\n",
              "5  106     Tokyo       1991   Mituru   NaN      NaN  NaN        NaN\n",
              "6  108     Osaka       1988      Aoi   NaN      NaN  NaN        NaN\n",
              "7  110     Kyoto       1990    Tarou   NaN      NaN  NaN        NaN\n",
              "8  111  Hokkaido       1995   Suguru   NaN      NaN  NaN        NaN\n",
              "9  113     Tokyo       1981   Mitsuo   NaN      NaN  NaN        NaN"
            ]
          },
          "metadata": {
            "tags": []
          },
          "execution_count": 23
        }
      ]
    },
    {
      "cell_type": "markdown",
      "metadata": {
        "id": "0O3ifjcMyJb8"
      },
      "source": [
        "##縦結合（Vertical connection）"
      ]
    },
    {
      "cell_type": "markdown",
      "metadata": {
        "id": "RLsZJBsG76Qq"
      },
      "source": [
        "##データセット（Dataset）"
      ]
    },
    {
      "cell_type": "code",
      "metadata": {
        "colab": {
          "base_uri": "https://localhost:8080/",
          "height": 203
        },
        "id": "t7fjfmJ9x5dc",
        "outputId": "4d6a353e-4b8c-412e-ed36-0886c2c7c84b"
      },
      "source": [
        "data3 = {\n",
        "    'id' : ['117','118','119','120','125'],\n",
        "    'city':['Chiba','Kanagawa','Tokyo','Fukuoka','Okinawa'],\n",
        "    'birth_year':[1990,1989,1992,1997,1982],\n",
        "    'name':['Suguru','Kouichi','Satochi','Yukie','Akiri']\n",
        "}\n",
        "\n",
        "df3 = DataFrame(data3)\n",
        "df3"
      ],
      "execution_count": 24,
      "outputs": [
        {
          "output_type": "execute_result",
          "data": {
            "text/html": [
              "<div>\n",
              "<style scoped>\n",
              "    .dataframe tbody tr th:only-of-type {\n",
              "        vertical-align: middle;\n",
              "    }\n",
              "\n",
              "    .dataframe tbody tr th {\n",
              "        vertical-align: top;\n",
              "    }\n",
              "\n",
              "    .dataframe thead th {\n",
              "        text-align: right;\n",
              "    }\n",
              "</style>\n",
              "<table border=\"1\" class=\"dataframe\">\n",
              "  <thead>\n",
              "    <tr style=\"text-align: right;\">\n",
              "      <th></th>\n",
              "      <th>id</th>\n",
              "      <th>city</th>\n",
              "      <th>birth_year</th>\n",
              "      <th>name</th>\n",
              "    </tr>\n",
              "  </thead>\n",
              "  <tbody>\n",
              "    <tr>\n",
              "      <th>0</th>\n",
              "      <td>117</td>\n",
              "      <td>Chiba</td>\n",
              "      <td>1990</td>\n",
              "      <td>Suguru</td>\n",
              "    </tr>\n",
              "    <tr>\n",
              "      <th>1</th>\n",
              "      <td>118</td>\n",
              "      <td>Kanagawa</td>\n",
              "      <td>1989</td>\n",
              "      <td>Kouichi</td>\n",
              "    </tr>\n",
              "    <tr>\n",
              "      <th>2</th>\n",
              "      <td>119</td>\n",
              "      <td>Tokyo</td>\n",
              "      <td>1992</td>\n",
              "      <td>Satochi</td>\n",
              "    </tr>\n",
              "    <tr>\n",
              "      <th>3</th>\n",
              "      <td>120</td>\n",
              "      <td>Fukuoka</td>\n",
              "      <td>1997</td>\n",
              "      <td>Yukie</td>\n",
              "    </tr>\n",
              "    <tr>\n",
              "      <th>4</th>\n",
              "      <td>125</td>\n",
              "      <td>Okinawa</td>\n",
              "      <td>1982</td>\n",
              "      <td>Akiri</td>\n",
              "    </tr>\n",
              "  </tbody>\n",
              "</table>\n",
              "</div>"
            ],
            "text/plain": [
              "    id      city  birth_year     name\n",
              "0  117     Chiba        1990   Suguru\n",
              "1  118  Kanagawa        1989  Kouichi\n",
              "2  119     Tokyo        1992  Satochi\n",
              "3  120   Fukuoka        1997    Yukie\n",
              "4  125   Okinawa        1982    Akiri"
            ]
          },
          "metadata": {
            "tags": []
          },
          "execution_count": 24
        }
      ]
    },
    {
      "cell_type": "markdown",
      "metadata": {
        "id": "dslGnF_z8l_8"
      },
      "source": [
        "##縦結合（Vertical connection）"
      ]
    },
    {
      "cell_type": "code",
      "metadata": {
        "colab": {
          "base_uri": "https://localhost:8080/",
          "height": 511
        },
        "id": "GvQb1OyR8kUH",
        "outputId": "2b1e74aa-2a38-4c1c-b741-3eeeb183de1a"
      },
      "source": [
        "concat_data = pd.concat([df1,df3])\n",
        "concat_data"
      ],
      "execution_count": 25,
      "outputs": [
        {
          "output_type": "execute_result",
          "data": {
            "text/html": [
              "<div>\n",
              "<style scoped>\n",
              "    .dataframe tbody tr th:only-of-type {\n",
              "        vertical-align: middle;\n",
              "    }\n",
              "\n",
              "    .dataframe tbody tr th {\n",
              "        vertical-align: top;\n",
              "    }\n",
              "\n",
              "    .dataframe thead th {\n",
              "        text-align: right;\n",
              "    }\n",
              "</style>\n",
              "<table border=\"1\" class=\"dataframe\">\n",
              "  <thead>\n",
              "    <tr style=\"text-align: right;\">\n",
              "      <th></th>\n",
              "      <th>id</th>\n",
              "      <th>city</th>\n",
              "      <th>birth_year</th>\n",
              "      <th>name</th>\n",
              "    </tr>\n",
              "  </thead>\n",
              "  <tbody>\n",
              "    <tr>\n",
              "      <th>0</th>\n",
              "      <td>100</td>\n",
              "      <td>Tokyo</td>\n",
              "      <td>1990</td>\n",
              "      <td>Hiroshi</td>\n",
              "    </tr>\n",
              "    <tr>\n",
              "      <th>1</th>\n",
              "      <td>101</td>\n",
              "      <td>Osaka</td>\n",
              "      <td>1989</td>\n",
              "      <td>Akiko</td>\n",
              "    </tr>\n",
              "    <tr>\n",
              "      <th>2</th>\n",
              "      <td>102</td>\n",
              "      <td>Kyoto</td>\n",
              "      <td>1992</td>\n",
              "      <td>Yuki</td>\n",
              "    </tr>\n",
              "    <tr>\n",
              "      <th>3</th>\n",
              "      <td>103</td>\n",
              "      <td>Hokkaido</td>\n",
              "      <td>1997</td>\n",
              "      <td>Satoru</td>\n",
              "    </tr>\n",
              "    <tr>\n",
              "      <th>4</th>\n",
              "      <td>104</td>\n",
              "      <td>Tokyo</td>\n",
              "      <td>1982</td>\n",
              "      <td>Steeve</td>\n",
              "    </tr>\n",
              "    <tr>\n",
              "      <th>5</th>\n",
              "      <td>106</td>\n",
              "      <td>Tokyo</td>\n",
              "      <td>1991</td>\n",
              "      <td>Mituru</td>\n",
              "    </tr>\n",
              "    <tr>\n",
              "      <th>6</th>\n",
              "      <td>108</td>\n",
              "      <td>Osaka</td>\n",
              "      <td>1988</td>\n",
              "      <td>Aoi</td>\n",
              "    </tr>\n",
              "    <tr>\n",
              "      <th>7</th>\n",
              "      <td>110</td>\n",
              "      <td>Kyoto</td>\n",
              "      <td>1990</td>\n",
              "      <td>Tarou</td>\n",
              "    </tr>\n",
              "    <tr>\n",
              "      <th>8</th>\n",
              "      <td>111</td>\n",
              "      <td>Hokkaido</td>\n",
              "      <td>1995</td>\n",
              "      <td>Suguru</td>\n",
              "    </tr>\n",
              "    <tr>\n",
              "      <th>9</th>\n",
              "      <td>113</td>\n",
              "      <td>Tokyo</td>\n",
              "      <td>1981</td>\n",
              "      <td>Mitsuo</td>\n",
              "    </tr>\n",
              "    <tr>\n",
              "      <th>0</th>\n",
              "      <td>117</td>\n",
              "      <td>Chiba</td>\n",
              "      <td>1990</td>\n",
              "      <td>Suguru</td>\n",
              "    </tr>\n",
              "    <tr>\n",
              "      <th>1</th>\n",
              "      <td>118</td>\n",
              "      <td>Kanagawa</td>\n",
              "      <td>1989</td>\n",
              "      <td>Kouichi</td>\n",
              "    </tr>\n",
              "    <tr>\n",
              "      <th>2</th>\n",
              "      <td>119</td>\n",
              "      <td>Tokyo</td>\n",
              "      <td>1992</td>\n",
              "      <td>Satochi</td>\n",
              "    </tr>\n",
              "    <tr>\n",
              "      <th>3</th>\n",
              "      <td>120</td>\n",
              "      <td>Fukuoka</td>\n",
              "      <td>1997</td>\n",
              "      <td>Yukie</td>\n",
              "    </tr>\n",
              "    <tr>\n",
              "      <th>4</th>\n",
              "      <td>125</td>\n",
              "      <td>Okinawa</td>\n",
              "      <td>1982</td>\n",
              "      <td>Akiri</td>\n",
              "    </tr>\n",
              "  </tbody>\n",
              "</table>\n",
              "</div>"
            ],
            "text/plain": [
              "    id      city birth_year     name\n",
              "0  100     Tokyo       1990  Hiroshi\n",
              "1  101     Osaka       1989    Akiko\n",
              "2  102     Kyoto       1992     Yuki\n",
              "3  103  Hokkaido       1997   Satoru\n",
              "4  104     Tokyo       1982   Steeve\n",
              "5  106     Tokyo       1991   Mituru\n",
              "6  108     Osaka       1988      Aoi\n",
              "7  110     Kyoto       1990    Tarou\n",
              "8  111  Hokkaido       1995   Suguru\n",
              "9  113     Tokyo       1981   Mitsuo\n",
              "0  117     Chiba       1990   Suguru\n",
              "1  118  Kanagawa       1989  Kouichi\n",
              "2  119     Tokyo       1992  Satochi\n",
              "3  120   Fukuoka       1997    Yukie\n",
              "4  125   Okinawa       1982    Akiri"
            ]
          },
          "metadata": {
            "tags": []
          },
          "execution_count": 25
        }
      ]
    },
    {
      "cell_type": "markdown",
      "metadata": {
        "id": "jcF_nyiQ878x"
      },
      "source": [
        "#問題４（Question ４）\n",
        "<br>以下の２つのデータテーブルに対して、内部結合しなさい。\n",
        "<br>Inner join to the following two data tables."
      ]
    },
    {
      "cell_type": "code",
      "metadata": {
        "colab": {
          "base_uri": "https://localhost:8080/",
          "height": 357
        },
        "id": "4Q1pY1S_81CN",
        "outputId": "e5e75ec5-6072-4a72-a250-6fb41e460170"
      },
      "source": [
        "data4 = {\n",
        "    'id' : ['0','1','2','3','4','6','8','11','12','13'],\n",
        "    'city':['Tokyo','Osaka','Kyoto','Hokkaido','Tokyo','Tokyo','Osaka','Kyoto','Hokkaido','Tokyo'],\n",
        "    'birth_year':[1990,1989,1992,1997,1982,1991,1988,1990,1995,1981],\n",
        "    'name':['Hiroshi','Akiko','Yuki','Satoru','Steeve','Mituru','Aoi','Tarou','Suguru','Mitsuo']\n",
        "}\n",
        "\n",
        "df4 = DataFrame(data4)\n",
        "df4"
      ],
      "execution_count": 26,
      "outputs": [
        {
          "output_type": "execute_result",
          "data": {
            "text/html": [
              "<div>\n",
              "<style scoped>\n",
              "    .dataframe tbody tr th:only-of-type {\n",
              "        vertical-align: middle;\n",
              "    }\n",
              "\n",
              "    .dataframe tbody tr th {\n",
              "        vertical-align: top;\n",
              "    }\n",
              "\n",
              "    .dataframe thead th {\n",
              "        text-align: right;\n",
              "    }\n",
              "</style>\n",
              "<table border=\"1\" class=\"dataframe\">\n",
              "  <thead>\n",
              "    <tr style=\"text-align: right;\">\n",
              "      <th></th>\n",
              "      <th>id</th>\n",
              "      <th>city</th>\n",
              "      <th>birth_year</th>\n",
              "      <th>name</th>\n",
              "    </tr>\n",
              "  </thead>\n",
              "  <tbody>\n",
              "    <tr>\n",
              "      <th>0</th>\n",
              "      <td>0</td>\n",
              "      <td>Tokyo</td>\n",
              "      <td>1990</td>\n",
              "      <td>Hiroshi</td>\n",
              "    </tr>\n",
              "    <tr>\n",
              "      <th>1</th>\n",
              "      <td>1</td>\n",
              "      <td>Osaka</td>\n",
              "      <td>1989</td>\n",
              "      <td>Akiko</td>\n",
              "    </tr>\n",
              "    <tr>\n",
              "      <th>2</th>\n",
              "      <td>2</td>\n",
              "      <td>Kyoto</td>\n",
              "      <td>1992</td>\n",
              "      <td>Yuki</td>\n",
              "    </tr>\n",
              "    <tr>\n",
              "      <th>3</th>\n",
              "      <td>3</td>\n",
              "      <td>Hokkaido</td>\n",
              "      <td>1997</td>\n",
              "      <td>Satoru</td>\n",
              "    </tr>\n",
              "    <tr>\n",
              "      <th>4</th>\n",
              "      <td>4</td>\n",
              "      <td>Tokyo</td>\n",
              "      <td>1982</td>\n",
              "      <td>Steeve</td>\n",
              "    </tr>\n",
              "    <tr>\n",
              "      <th>5</th>\n",
              "      <td>6</td>\n",
              "      <td>Tokyo</td>\n",
              "      <td>1991</td>\n",
              "      <td>Mituru</td>\n",
              "    </tr>\n",
              "    <tr>\n",
              "      <th>6</th>\n",
              "      <td>8</td>\n",
              "      <td>Osaka</td>\n",
              "      <td>1988</td>\n",
              "      <td>Aoi</td>\n",
              "    </tr>\n",
              "    <tr>\n",
              "      <th>7</th>\n",
              "      <td>11</td>\n",
              "      <td>Kyoto</td>\n",
              "      <td>1990</td>\n",
              "      <td>Tarou</td>\n",
              "    </tr>\n",
              "    <tr>\n",
              "      <th>8</th>\n",
              "      <td>12</td>\n",
              "      <td>Hokkaido</td>\n",
              "      <td>1995</td>\n",
              "      <td>Suguru</td>\n",
              "    </tr>\n",
              "    <tr>\n",
              "      <th>9</th>\n",
              "      <td>13</td>\n",
              "      <td>Tokyo</td>\n",
              "      <td>1981</td>\n",
              "      <td>Mitsuo</td>\n",
              "    </tr>\n",
              "  </tbody>\n",
              "</table>\n",
              "</div>"
            ],
            "text/plain": [
              "   id      city  birth_year     name\n",
              "0   0     Tokyo        1990  Hiroshi\n",
              "1   1     Osaka        1989    Akiko\n",
              "2   2     Kyoto        1992     Yuki\n",
              "3   3  Hokkaido        1997   Satoru\n",
              "4   4     Tokyo        1982   Steeve\n",
              "5   6     Tokyo        1991   Mituru\n",
              "6   8     Osaka        1988      Aoi\n",
              "7  11     Kyoto        1990    Tarou\n",
              "8  12  Hokkaido        1995   Suguru\n",
              "9  13     Tokyo        1981   Mitsuo"
            ]
          },
          "metadata": {
            "tags": []
          },
          "execution_count": 26
        }
      ]
    },
    {
      "cell_type": "code",
      "metadata": {
        "colab": {
          "base_uri": "https://localhost:8080/",
          "height": 203
        },
        "id": "5x5EsnFk991V",
        "outputId": "6fa3e96c-6af1-47c7-d7b3-c7145d3c8a73"
      },
      "source": [
        "data5 = {\n",
        "    'id':['0','1','3','6','8'],\n",
        "    'math':[20,30,50,70,90],\n",
        "    'english':[30,50,50,70,20],\n",
        "    'sex':['M','F','F','M','M'],\n",
        "    'index_num':[0,1,2,3,4]\n",
        "}\n",
        "\n",
        "df5 = DataFrame(data5)\n",
        "df5"
      ],
      "execution_count": 27,
      "outputs": [
        {
          "output_type": "execute_result",
          "data": {
            "text/html": [
              "<div>\n",
              "<style scoped>\n",
              "    .dataframe tbody tr th:only-of-type {\n",
              "        vertical-align: middle;\n",
              "    }\n",
              "\n",
              "    .dataframe tbody tr th {\n",
              "        vertical-align: top;\n",
              "    }\n",
              "\n",
              "    .dataframe thead th {\n",
              "        text-align: right;\n",
              "    }\n",
              "</style>\n",
              "<table border=\"1\" class=\"dataframe\">\n",
              "  <thead>\n",
              "    <tr style=\"text-align: right;\">\n",
              "      <th></th>\n",
              "      <th>id</th>\n",
              "      <th>math</th>\n",
              "      <th>english</th>\n",
              "      <th>sex</th>\n",
              "      <th>index_num</th>\n",
              "    </tr>\n",
              "  </thead>\n",
              "  <tbody>\n",
              "    <tr>\n",
              "      <th>0</th>\n",
              "      <td>0</td>\n",
              "      <td>20</td>\n",
              "      <td>30</td>\n",
              "      <td>M</td>\n",
              "      <td>0</td>\n",
              "    </tr>\n",
              "    <tr>\n",
              "      <th>1</th>\n",
              "      <td>1</td>\n",
              "      <td>30</td>\n",
              "      <td>50</td>\n",
              "      <td>F</td>\n",
              "      <td>1</td>\n",
              "    </tr>\n",
              "    <tr>\n",
              "      <th>2</th>\n",
              "      <td>3</td>\n",
              "      <td>50</td>\n",
              "      <td>50</td>\n",
              "      <td>F</td>\n",
              "      <td>2</td>\n",
              "    </tr>\n",
              "    <tr>\n",
              "      <th>3</th>\n",
              "      <td>6</td>\n",
              "      <td>70</td>\n",
              "      <td>70</td>\n",
              "      <td>M</td>\n",
              "      <td>3</td>\n",
              "    </tr>\n",
              "    <tr>\n",
              "      <th>4</th>\n",
              "      <td>8</td>\n",
              "      <td>90</td>\n",
              "      <td>20</td>\n",
              "      <td>M</td>\n",
              "      <td>4</td>\n",
              "    </tr>\n",
              "  </tbody>\n",
              "</table>\n",
              "</div>"
            ],
            "text/plain": [
              "  id  math  english sex  index_num\n",
              "0  0    20       30   M          0\n",
              "1  1    30       50   F          1\n",
              "2  3    50       50   F          2\n",
              "3  6    70       70   M          3\n",
              "4  8    90       20   M          4"
            ]
          },
          "metadata": {
            "tags": []
          },
          "execution_count": 27
        }
      ]
    },
    {
      "cell_type": "code",
      "metadata": {
        "id": "Sc7Z_BW_-X4m"
      },
      "source": [
        "#ANSWER\n",
        "\n",
        "\n",
        "\n"
      ],
      "execution_count": 29,
      "outputs": []
    },
    {
      "cell_type": "code",
      "metadata": {
        "id": "UaM298bf-bzh"
      },
      "source": [
        ""
      ],
      "execution_count": 28,
      "outputs": []
    }
  ]
}