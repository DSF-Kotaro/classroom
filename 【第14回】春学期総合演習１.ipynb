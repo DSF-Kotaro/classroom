{
  "nbformat": 4,
  "nbformat_minor": 0,
  "metadata": {
    "colab": {
      "name": "【第14回】春学期総合演習１.ipynb",
      "provenance": [],
      "collapsed_sections": [],
      "authorship_tag": "ABX9TyPpDTZCLv0IaRxMiIaWhcs4",
      "include_colab_link": true
    },
    "kernelspec": {
      "name": "python3",
      "display_name": "Python 3"
    },
    "language_info": {
      "name": "python"
    }
  },
  "cells": [
    {
      "cell_type": "markdown",
      "metadata": {
        "id": "view-in-github",
        "colab_type": "text"
      },
      "source": [
        "<a href=\"https://colab.research.google.com/github/DSF-Kotaro/classroom/blob/main/%E3%80%90%E7%AC%AC14%E5%9B%9E%E3%80%91%E6%98%A5%E5%AD%A6%E6%9C%9F%E7%B7%8F%E5%90%88%E6%BC%94%E7%BF%92%EF%BC%91.ipynb\" target=\"_parent\"><img src=\"https://colab.research.google.com/assets/colab-badge.svg\" alt=\"Open In Colab\"/></a>"
      ]
    },
    {
      "cell_type": "markdown",
      "metadata": {
        "id": "FUKKNrAj8qID"
      },
      "source": [
        "##問題１　<br>「numpy」「numpy.randm」「scipy」「pandas」「Series」「DataFrame」「matplotlib.pyplot」「matplotlib」「seaborn」を読み込みなさい。<br>Problem 1 <br>Load \"numpy\" \"numpy.randm\" \"scipy\" \"pandas\" \"Series\" \"DataFrame\" \"matplotlib.pyplot\" \"matplotlib\" \"seaborn\""
      ]
    },
    {
      "cell_type": "code",
      "metadata": {
        "id": "X1HAw2vN3xEa"
      },
      "source": [
        "import numpy as np\n",
        "import numpy.random as random\n",
        "import scipy as sp\n",
        "import pandas as pd\n",
        "from pandas import Series, DataFrame\n",
        "\n",
        "import matplotlib.pyplot as plt\n",
        "import matplotlib as mpl\n",
        "import seaborn as sns"
      ],
      "execution_count": 8,
      "outputs": []
    },
    {
      "cell_type": "markdown",
      "metadata": {
        "id": "q-dr8_UmGi8r"
      },
      "source": [
        "##問題２<br>customer_master.csvを読み込み、データフレーム名を「customer_master」としてください。<br>Problem 2 <br>Please load customer_master.csv and set the data frame name to \"customer_master\"."
      ]
    },
    {
      "cell_type": "code",
      "metadata": {
        "id": "tp1iwuLiFAwM",
        "colab": {
          "base_uri": "https://localhost:8080/",
          "height": 417
        },
        "outputId": "8944d2a6-9be7-468a-b18b-a0573e3b30f6"
      },
      "source": [
        "customer_master = pd.read_csv('customer_master.csv',sep=',')\n",
        "customer_master"
      ],
      "execution_count": 9,
      "outputs": [
        {
          "output_type": "execute_result",
          "data": {
            "text/html": [
              "<div>\n",
              "<style scoped>\n",
              "    .dataframe tbody tr th:only-of-type {\n",
              "        vertical-align: middle;\n",
              "    }\n",
              "\n",
              "    .dataframe tbody tr th {\n",
              "        vertical-align: top;\n",
              "    }\n",
              "\n",
              "    .dataframe thead th {\n",
              "        text-align: right;\n",
              "    }\n",
              "</style>\n",
              "<table border=\"1\" class=\"dataframe\">\n",
              "  <thead>\n",
              "    <tr style=\"text-align: right;\">\n",
              "      <th></th>\n",
              "      <th>customer_id</th>\n",
              "      <th>customer_name</th>\n",
              "      <th>registration_date</th>\n",
              "      <th>customer_name_kana</th>\n",
              "      <th>email</th>\n",
              "      <th>gender</th>\n",
              "      <th>age</th>\n",
              "      <th>birth</th>\n",
              "      <th>pref</th>\n",
              "    </tr>\n",
              "  </thead>\n",
              "  <tbody>\n",
              "    <tr>\n",
              "      <th>0</th>\n",
              "      <td>IK152942</td>\n",
              "      <td>平田 裕次郎</td>\n",
              "      <td>2019-01-01 00:25:33</td>\n",
              "      <td>ひらた ゆうじろう</td>\n",
              "      <td>hirata_yuujirou@example.com</td>\n",
              "      <td>M</td>\n",
              "      <td>29</td>\n",
              "      <td>1990/6/10</td>\n",
              "      <td>石川県</td>\n",
              "    </tr>\n",
              "    <tr>\n",
              "      <th>1</th>\n",
              "      <td>TS808488</td>\n",
              "      <td>田村 詩織</td>\n",
              "      <td>2019-01-01 01:13:45</td>\n",
              "      <td>たむら しおり</td>\n",
              "      <td>tamura_shiori@example.com</td>\n",
              "      <td>F</td>\n",
              "      <td>33</td>\n",
              "      <td>1986/5/20</td>\n",
              "      <td>東京都</td>\n",
              "    </tr>\n",
              "    <tr>\n",
              "      <th>2</th>\n",
              "      <td>AS834628</td>\n",
              "      <td>久野 由樹</td>\n",
              "      <td>2019-01-01 02:00:14</td>\n",
              "      <td>ひさの ゆき</td>\n",
              "      <td>hisano_yuki@example.com</td>\n",
              "      <td>F</td>\n",
              "      <td>63</td>\n",
              "      <td>1956/1/2</td>\n",
              "      <td>茨城県</td>\n",
              "    </tr>\n",
              "    <tr>\n",
              "      <th>3</th>\n",
              "      <td>AS345469</td>\n",
              "      <td>鶴岡 薫</td>\n",
              "      <td>2019-01-01 04:48:22</td>\n",
              "      <td>つるおか かおる</td>\n",
              "      <td>tsuruoka_kaoru@example.com</td>\n",
              "      <td>M</td>\n",
              "      <td>74</td>\n",
              "      <td>1945/3/25</td>\n",
              "      <td>東京都</td>\n",
              "    </tr>\n",
              "    <tr>\n",
              "      <th>4</th>\n",
              "      <td>GD892565</td>\n",
              "      <td>大内 高史</td>\n",
              "      <td>2019-01-01 04:54:51</td>\n",
              "      <td>おおうち たかし</td>\n",
              "      <td>oouchi_takashi@example.com</td>\n",
              "      <td>M</td>\n",
              "      <td>54</td>\n",
              "      <td>1965/8/5</td>\n",
              "      <td>千葉県</td>\n",
              "    </tr>\n",
              "    <tr>\n",
              "      <th>...</th>\n",
              "      <td>...</td>\n",
              "      <td>...</td>\n",
              "      <td>...</td>\n",
              "      <td>...</td>\n",
              "      <td>...</td>\n",
              "      <td>...</td>\n",
              "      <td>...</td>\n",
              "      <td>...</td>\n",
              "      <td>...</td>\n",
              "    </tr>\n",
              "    <tr>\n",
              "      <th>4995</th>\n",
              "      <td>AS677229</td>\n",
              "      <td>平山 莉沙</td>\n",
              "      <td>2019-07-31 16:52:26</td>\n",
              "      <td>ひらやま りさ</td>\n",
              "      <td>hirayama_risa@example.com</td>\n",
              "      <td>F</td>\n",
              "      <td>77</td>\n",
              "      <td>1941/10/17</td>\n",
              "      <td>愛知県</td>\n",
              "    </tr>\n",
              "    <tr>\n",
              "      <th>4996</th>\n",
              "      <td>HD758694</td>\n",
              "      <td>中原 まひる</td>\n",
              "      <td>2019-07-31 19:09:26</td>\n",
              "      <td>なかはら まひる</td>\n",
              "      <td>nakahara_mahiru@example.com</td>\n",
              "      <td>F</td>\n",
              "      <td>27</td>\n",
              "      <td>1991/11/13</td>\n",
              "      <td>茨城県</td>\n",
              "    </tr>\n",
              "    <tr>\n",
              "      <th>4997</th>\n",
              "      <td>PL538517</td>\n",
              "      <td>田端 由宇</td>\n",
              "      <td>2019-07-31 19:30:05</td>\n",
              "      <td>たばた ゆう</td>\n",
              "      <td>tabata_yuu1@example.com</td>\n",
              "      <td>F</td>\n",
              "      <td>73</td>\n",
              "      <td>1945/12/28</td>\n",
              "      <td>愛知県</td>\n",
              "    </tr>\n",
              "    <tr>\n",
              "      <th>4998</th>\n",
              "      <td>OA955088</td>\n",
              "      <td>瀬戸内 光</td>\n",
              "      <td>2019-07-31 22:32:08</td>\n",
              "      <td>せとうち ひかる</td>\n",
              "      <td>setouchi_hikaru@example.com</td>\n",
              "      <td>F</td>\n",
              "      <td>75</td>\n",
              "      <td>1944/4/9</td>\n",
              "      <td>宮城県</td>\n",
              "    </tr>\n",
              "    <tr>\n",
              "      <th>4999</th>\n",
              "      <td>HI349563</td>\n",
              "      <td>堀井 寛治</td>\n",
              "      <td>2019-07-31 22:49:49</td>\n",
              "      <td>ほりい かんじ</td>\n",
              "      <td>horii_kanji@example.com</td>\n",
              "      <td>M</td>\n",
              "      <td>21</td>\n",
              "      <td>1998/2/6</td>\n",
              "      <td>広島県</td>\n",
              "    </tr>\n",
              "  </tbody>\n",
              "</table>\n",
              "<p>5000 rows × 9 columns</p>\n",
              "</div>"
            ],
            "text/plain": [
              "     customer_id customer_name    registration_date  ... age       birth pref\n",
              "0       IK152942        平田 裕次郎  2019-01-01 00:25:33  ...  29   1990/6/10  石川県\n",
              "1       TS808488         田村 詩織  2019-01-01 01:13:45  ...  33   1986/5/20  東京都\n",
              "2       AS834628         久野 由樹  2019-01-01 02:00:14  ...  63    1956/1/2  茨城県\n",
              "3       AS345469          鶴岡 薫  2019-01-01 04:48:22  ...  74   1945/3/25  東京都\n",
              "4       GD892565         大内 高史  2019-01-01 04:54:51  ...  54    1965/8/5  千葉県\n",
              "...          ...           ...                  ...  ...  ..         ...  ...\n",
              "4995    AS677229         平山 莉沙  2019-07-31 16:52:26  ...  77  1941/10/17  愛知県\n",
              "4996    HD758694        中原 まひる  2019-07-31 19:09:26  ...  27  1991/11/13  茨城県\n",
              "4997    PL538517         田端 由宇  2019-07-31 19:30:05  ...  73  1945/12/28  愛知県\n",
              "4998    OA955088         瀬戸内 光  2019-07-31 22:32:08  ...  75    1944/4/9  宮城県\n",
              "4999    HI349563         堀井 寛治  2019-07-31 22:49:49  ...  21    1998/2/6  広島県\n",
              "\n",
              "[5000 rows x 9 columns]"
            ]
          },
          "metadata": {
            "tags": []
          },
          "execution_count": 9
        }
      ]
    },
    {
      "cell_type": "markdown",
      "metadata": {
        "id": "g__18fwp1fIG"
      },
      "source": [
        "##問題３　<br>「item_master.csv」「transaction_1.csv」「transaction_2.csv」「transaction_detail_1.csv」「transaction_detail_2.csv」についても読み込みなさい。また、その時のデータフレーム名はそれぞれ「item_master」「transaction_1」「transaction_2」「transaction_detail_1」「transaction_detail_2」としなさい。<br>Problem３<br>Please load \"item_master.csv\" \"transaction_1.csv\" \"transaction_2.csv\" \"transaction_detail_1.csv\" \"transaction_detail_2.csv\".Also, the data frame names at that time should be \"item_master\", \"transaction_1\", \"transaction_2\", \"transaction_detail_1\", and \"transaction_detail_2\", respectively."
      ]
    },
    {
      "cell_type": "code",
      "metadata": {
        "id": "L2lgbs2SYewF"
      },
      "source": [
        "item_master = pd.read_csv('item_master.csv',sep=',')\n",
        "transaction_1 = pd.read_csv('transaction_1.csv',sep=',')\n",
        "transaction_2 = pd.read_csv('transaction_2.csv',sep=',')\n",
        "transaction_detail_1 = pd.read_csv('transaction_detail_1.csv',sep=',')\n",
        "transaction_detail_2 = pd.read_csv('transaction_detail_2.csv',sep=',')"
      ],
      "execution_count": 10,
      "outputs": []
    },
    {
      "cell_type": "markdown",
      "metadata": {
        "id": "2wmP9vk4Dch1"
      },
      "source": [
        "##問題４<br>「transaction_1」と「transaction_2」を結合し,「transaction」という名前にしてください。<br>Problem４<br>Combine \"transaction_1\" and \"transaction_2\" and name it \"transaction\"."
      ]
    },
    {
      "cell_type": "code",
      "metadata": {
        "id": "hUe0CgkUDRjK",
        "colab": {
          "base_uri": "https://localhost:8080/",
          "height": 417
        },
        "outputId": "39f1d9a4-3c6e-415b-9716-e34599faa96a"
      },
      "source": [
        "transaction = pd.concat([transaction_1, transaction_2])\n",
        "transaction"
      ],
      "execution_count": 11,
      "outputs": [
        {
          "output_type": "execute_result",
          "data": {
            "text/html": [
              "<div>\n",
              "<style scoped>\n",
              "    .dataframe tbody tr th:only-of-type {\n",
              "        vertical-align: middle;\n",
              "    }\n",
              "\n",
              "    .dataframe tbody tr th {\n",
              "        vertical-align: top;\n",
              "    }\n",
              "\n",
              "    .dataframe thead th {\n",
              "        text-align: right;\n",
              "    }\n",
              "</style>\n",
              "<table border=\"1\" class=\"dataframe\">\n",
              "  <thead>\n",
              "    <tr style=\"text-align: right;\">\n",
              "      <th></th>\n",
              "      <th>transaction_id</th>\n",
              "      <th>price</th>\n",
              "      <th>payment_date</th>\n",
              "      <th>customer_id</th>\n",
              "    </tr>\n",
              "  </thead>\n",
              "  <tbody>\n",
              "    <tr>\n",
              "      <th>0</th>\n",
              "      <td>T0000000113</td>\n",
              "      <td>210000</td>\n",
              "      <td>2019-02-01 01:36:57</td>\n",
              "      <td>PL563502</td>\n",
              "    </tr>\n",
              "    <tr>\n",
              "      <th>1</th>\n",
              "      <td>T0000000114</td>\n",
              "      <td>50000</td>\n",
              "      <td>2019-02-01 01:37:23</td>\n",
              "      <td>HD678019</td>\n",
              "    </tr>\n",
              "    <tr>\n",
              "      <th>2</th>\n",
              "      <td>T0000000115</td>\n",
              "      <td>120000</td>\n",
              "      <td>2019-02-01 02:34:19</td>\n",
              "      <td>HD298120</td>\n",
              "    </tr>\n",
              "    <tr>\n",
              "      <th>3</th>\n",
              "      <td>T0000000116</td>\n",
              "      <td>210000</td>\n",
              "      <td>2019-02-01 02:47:23</td>\n",
              "      <td>IK452215</td>\n",
              "    </tr>\n",
              "    <tr>\n",
              "      <th>4</th>\n",
              "      <td>T0000000117</td>\n",
              "      <td>170000</td>\n",
              "      <td>2019-02-01 04:33:46</td>\n",
              "      <td>PL542865</td>\n",
              "    </tr>\n",
              "    <tr>\n",
              "      <th>...</th>\n",
              "      <td>...</td>\n",
              "      <td>...</td>\n",
              "      <td>...</td>\n",
              "      <td>...</td>\n",
              "    </tr>\n",
              "    <tr>\n",
              "      <th>1781</th>\n",
              "      <td>T0000006894</td>\n",
              "      <td>180000</td>\n",
              "      <td>2019-07-31 21:20:44</td>\n",
              "      <td>HI400734</td>\n",
              "    </tr>\n",
              "    <tr>\n",
              "      <th>1782</th>\n",
              "      <td>T0000006895</td>\n",
              "      <td>85000</td>\n",
              "      <td>2019-07-31 21:52:48</td>\n",
              "      <td>AS339451</td>\n",
              "    </tr>\n",
              "    <tr>\n",
              "      <th>1783</th>\n",
              "      <td>T0000006896</td>\n",
              "      <td>100000</td>\n",
              "      <td>2019-07-31 23:35:25</td>\n",
              "      <td>OA027325</td>\n",
              "    </tr>\n",
              "    <tr>\n",
              "      <th>1784</th>\n",
              "      <td>T0000006897</td>\n",
              "      <td>85000</td>\n",
              "      <td>2019-07-31 23:39:35</td>\n",
              "      <td>TS624738</td>\n",
              "    </tr>\n",
              "    <tr>\n",
              "      <th>1785</th>\n",
              "      <td>T0000006898</td>\n",
              "      <td>85000</td>\n",
              "      <td>2019-07-31 23:41:38</td>\n",
              "      <td>AS834214</td>\n",
              "    </tr>\n",
              "  </tbody>\n",
              "</table>\n",
              "<p>6786 rows × 4 columns</p>\n",
              "</div>"
            ],
            "text/plain": [
              "     transaction_id   price         payment_date customer_id\n",
              "0       T0000000113  210000  2019-02-01 01:36:57    PL563502\n",
              "1       T0000000114   50000  2019-02-01 01:37:23    HD678019\n",
              "2       T0000000115  120000  2019-02-01 02:34:19    HD298120\n",
              "3       T0000000116  210000  2019-02-01 02:47:23    IK452215\n",
              "4       T0000000117  170000  2019-02-01 04:33:46    PL542865\n",
              "...             ...     ...                  ...         ...\n",
              "1781    T0000006894  180000  2019-07-31 21:20:44    HI400734\n",
              "1782    T0000006895   85000  2019-07-31 21:52:48    AS339451\n",
              "1783    T0000006896  100000  2019-07-31 23:35:25    OA027325\n",
              "1784    T0000006897   85000  2019-07-31 23:39:35    TS624738\n",
              "1785    T0000006898   85000  2019-07-31 23:41:38    AS834214\n",
              "\n",
              "[6786 rows x 4 columns]"
            ]
          },
          "metadata": {
            "tags": []
          },
          "execution_count": 11
        }
      ]
    },
    {
      "cell_type": "markdown",
      "metadata": {
        "id": "k2rK6NHVDyea"
      },
      "source": [
        "##問題５<br>「transaction_detail_1」と「transaction_detail_2」を結合し,「transaction_detail」という名前にしてください。<br>Problem５<br>Combine \"transaction_1\" and \"transaction_2\" and name it \"transaction\"."
      ]
    },
    {
      "cell_type": "code",
      "metadata": {
        "id": "r0NHhtCYDrV7",
        "colab": {
          "base_uri": "https://localhost:8080/",
          "height": 417
        },
        "outputId": "7a38ca5e-253d-4366-92de-ea2b3aeb836e"
      },
      "source": [
        "transaction_detail = pd.concat([transaction_detail_1, transaction_detail_2])\n",
        "transaction_detail"
      ],
      "execution_count": 12,
      "outputs": [
        {
          "output_type": "execute_result",
          "data": {
            "text/html": [
              "<div>\n",
              "<style scoped>\n",
              "    .dataframe tbody tr th:only-of-type {\n",
              "        vertical-align: middle;\n",
              "    }\n",
              "\n",
              "    .dataframe tbody tr th {\n",
              "        vertical-align: top;\n",
              "    }\n",
              "\n",
              "    .dataframe thead th {\n",
              "        text-align: right;\n",
              "    }\n",
              "</style>\n",
              "<table border=\"1\" class=\"dataframe\">\n",
              "  <thead>\n",
              "    <tr style=\"text-align: right;\">\n",
              "      <th></th>\n",
              "      <th>detail_id</th>\n",
              "      <th>transaction_id</th>\n",
              "      <th>item_id</th>\n",
              "      <th>quantity</th>\n",
              "    </tr>\n",
              "  </thead>\n",
              "  <tbody>\n",
              "    <tr>\n",
              "      <th>0</th>\n",
              "      <td>0</td>\n",
              "      <td>T0000000113</td>\n",
              "      <td>S005</td>\n",
              "      <td>1</td>\n",
              "    </tr>\n",
              "    <tr>\n",
              "      <th>1</th>\n",
              "      <td>1</td>\n",
              "      <td>T0000000114</td>\n",
              "      <td>S001</td>\n",
              "      <td>1</td>\n",
              "    </tr>\n",
              "    <tr>\n",
              "      <th>2</th>\n",
              "      <td>2</td>\n",
              "      <td>T0000000115</td>\n",
              "      <td>S003</td>\n",
              "      <td>1</td>\n",
              "    </tr>\n",
              "    <tr>\n",
              "      <th>3</th>\n",
              "      <td>3</td>\n",
              "      <td>T0000000116</td>\n",
              "      <td>S005</td>\n",
              "      <td>1</td>\n",
              "    </tr>\n",
              "    <tr>\n",
              "      <th>4</th>\n",
              "      <td>4</td>\n",
              "      <td>T0000000117</td>\n",
              "      <td>S002</td>\n",
              "      <td>2</td>\n",
              "    </tr>\n",
              "    <tr>\n",
              "      <th>...</th>\n",
              "      <td>...</td>\n",
              "      <td>...</td>\n",
              "      <td>...</td>\n",
              "      <td>...</td>\n",
              "    </tr>\n",
              "    <tr>\n",
              "      <th>2139</th>\n",
              "      <td>7139</td>\n",
              "      <td>T0000006894</td>\n",
              "      <td>S004</td>\n",
              "      <td>1</td>\n",
              "    </tr>\n",
              "    <tr>\n",
              "      <th>2140</th>\n",
              "      <td>7140</td>\n",
              "      <td>T0000006895</td>\n",
              "      <td>S002</td>\n",
              "      <td>1</td>\n",
              "    </tr>\n",
              "    <tr>\n",
              "      <th>2141</th>\n",
              "      <td>7141</td>\n",
              "      <td>T0000006896</td>\n",
              "      <td>S001</td>\n",
              "      <td>2</td>\n",
              "    </tr>\n",
              "    <tr>\n",
              "      <th>2142</th>\n",
              "      <td>7142</td>\n",
              "      <td>T0000006897</td>\n",
              "      <td>S002</td>\n",
              "      <td>1</td>\n",
              "    </tr>\n",
              "    <tr>\n",
              "      <th>2143</th>\n",
              "      <td>7143</td>\n",
              "      <td>T0000006898</td>\n",
              "      <td>S002</td>\n",
              "      <td>1</td>\n",
              "    </tr>\n",
              "  </tbody>\n",
              "</table>\n",
              "<p>7144 rows × 4 columns</p>\n",
              "</div>"
            ],
            "text/plain": [
              "      detail_id transaction_id item_id  quantity\n",
              "0             0    T0000000113    S005         1\n",
              "1             1    T0000000114    S001         1\n",
              "2             2    T0000000115    S003         1\n",
              "3             3    T0000000116    S005         1\n",
              "4             4    T0000000117    S002         2\n",
              "...         ...            ...     ...       ...\n",
              "2139       7139    T0000006894    S004         1\n",
              "2140       7140    T0000006895    S002         1\n",
              "2141       7141    T0000006896    S001         2\n",
              "2142       7142    T0000006897    S002         1\n",
              "2143       7143    T0000006898    S002         1\n",
              "\n",
              "[7144 rows x 4 columns]"
            ]
          },
          "metadata": {
            "tags": []
          },
          "execution_count": 12
        }
      ]
    },
    {
      "cell_type": "markdown",
      "metadata": {
        "id": "SsKTJ9xQFEsn"
      },
      "source": [
        "##問題６<br>以下のプログラムを実行しなさい。<br>Problem 6<br> Execute the following program."
      ]
    },
    {
      "cell_type": "code",
      "metadata": {
        "id": "uC4CVkM3KGbT",
        "colab": {
          "base_uri": "https://localhost:8080/",
          "height": 307
        },
        "outputId": "9ed64f39-ba9e-46a4-fdff-5be38cfd2e8a"
      },
      "source": [
        "join_data = pd.merge(transaction_detail, transaction[[\"transaction_id\",\"payment_date\",\"customer_id\"]],on = \"transaction_id\", how = \"left\")\n",
        "join_data = pd.merge(join_data, customer_master, on = \"customer_id\", how = \"left\")\n",
        "join_data = pd.merge(join_data,item_master, on =\"item_id\", how = \"left\")\n",
        "join_data.head()"
      ],
      "execution_count": 20,
      "outputs": [
        {
          "output_type": "execute_result",
          "data": {
            "text/html": [
              "<div>\n",
              "<style scoped>\n",
              "    .dataframe tbody tr th:only-of-type {\n",
              "        vertical-align: middle;\n",
              "    }\n",
              "\n",
              "    .dataframe tbody tr th {\n",
              "        vertical-align: top;\n",
              "    }\n",
              "\n",
              "    .dataframe thead th {\n",
              "        text-align: right;\n",
              "    }\n",
              "</style>\n",
              "<table border=\"1\" class=\"dataframe\">\n",
              "  <thead>\n",
              "    <tr style=\"text-align: right;\">\n",
              "      <th></th>\n",
              "      <th>detail_id</th>\n",
              "      <th>transaction_id</th>\n",
              "      <th>item_id</th>\n",
              "      <th>quantity</th>\n",
              "      <th>payment_date</th>\n",
              "      <th>customer_id</th>\n",
              "      <th>customer_name</th>\n",
              "      <th>registration_date</th>\n",
              "      <th>customer_name_kana</th>\n",
              "      <th>email</th>\n",
              "      <th>gender</th>\n",
              "      <th>age</th>\n",
              "      <th>birth</th>\n",
              "      <th>pref</th>\n",
              "      <th>item_name</th>\n",
              "      <th>item_price</th>\n",
              "    </tr>\n",
              "  </thead>\n",
              "  <tbody>\n",
              "    <tr>\n",
              "      <th>0</th>\n",
              "      <td>0</td>\n",
              "      <td>T0000000113</td>\n",
              "      <td>S005</td>\n",
              "      <td>1</td>\n",
              "      <td>2019-02-01 01:36:57</td>\n",
              "      <td>PL563502</td>\n",
              "      <td>井本 芳正</td>\n",
              "      <td>2019-01-07 14:34:35</td>\n",
              "      <td>いもと よしまさ</td>\n",
              "      <td>imoto_yoshimasa@example.com</td>\n",
              "      <td>M</td>\n",
              "      <td>30</td>\n",
              "      <td>1989/7/15</td>\n",
              "      <td>熊本県</td>\n",
              "      <td>PC-E</td>\n",
              "      <td>210000</td>\n",
              "    </tr>\n",
              "    <tr>\n",
              "      <th>1</th>\n",
              "      <td>1</td>\n",
              "      <td>T0000000114</td>\n",
              "      <td>S001</td>\n",
              "      <td>1</td>\n",
              "      <td>2019-02-01 01:37:23</td>\n",
              "      <td>HD678019</td>\n",
              "      <td>三船 六郎</td>\n",
              "      <td>2019-01-27 18:00:11</td>\n",
              "      <td>みふね ろくろう</td>\n",
              "      <td>mifune_rokurou@example.com</td>\n",
              "      <td>M</td>\n",
              "      <td>73</td>\n",
              "      <td>1945/11/29</td>\n",
              "      <td>京都府</td>\n",
              "      <td>PC-A</td>\n",
              "      <td>50000</td>\n",
              "    </tr>\n",
              "    <tr>\n",
              "      <th>2</th>\n",
              "      <td>2</td>\n",
              "      <td>T0000000115</td>\n",
              "      <td>S003</td>\n",
              "      <td>1</td>\n",
              "      <td>2019-02-01 02:34:19</td>\n",
              "      <td>HD298120</td>\n",
              "      <td>山根 小雁</td>\n",
              "      <td>2019-01-11 08:16:02</td>\n",
              "      <td>やまね こがん</td>\n",
              "      <td>yamane_kogan@example.com</td>\n",
              "      <td>M</td>\n",
              "      <td>42</td>\n",
              "      <td>1977/5/17</td>\n",
              "      <td>茨城県</td>\n",
              "      <td>PC-C</td>\n",
              "      <td>120000</td>\n",
              "    </tr>\n",
              "    <tr>\n",
              "      <th>3</th>\n",
              "      <td>3</td>\n",
              "      <td>T0000000116</td>\n",
              "      <td>S005</td>\n",
              "      <td>1</td>\n",
              "      <td>2019-02-01 02:47:23</td>\n",
              "      <td>IK452215</td>\n",
              "      <td>池田 菜摘</td>\n",
              "      <td>2019-01-10 05:07:38</td>\n",
              "      <td>いけだ なつみ</td>\n",
              "      <td>ikeda_natsumi@example.com</td>\n",
              "      <td>F</td>\n",
              "      <td>47</td>\n",
              "      <td>1972/3/17</td>\n",
              "      <td>兵庫県</td>\n",
              "      <td>PC-E</td>\n",
              "      <td>210000</td>\n",
              "    </tr>\n",
              "    <tr>\n",
              "      <th>4</th>\n",
              "      <td>4</td>\n",
              "      <td>T0000000117</td>\n",
              "      <td>S002</td>\n",
              "      <td>2</td>\n",
              "      <td>2019-02-01 04:33:46</td>\n",
              "      <td>PL542865</td>\n",
              "      <td>栗田 憲一</td>\n",
              "      <td>2019-01-25 06:46:05</td>\n",
              "      <td>くりた けんいち</td>\n",
              "      <td>kurita_kenichi@example.com</td>\n",
              "      <td>M</td>\n",
              "      <td>74</td>\n",
              "      <td>1944/12/17</td>\n",
              "      <td>長崎県</td>\n",
              "      <td>PC-B</td>\n",
              "      <td>85000</td>\n",
              "    </tr>\n",
              "  </tbody>\n",
              "</table>\n",
              "</div>"
            ],
            "text/plain": [
              "   detail_id transaction_id item_id  ...  pref item_name item_price\n",
              "0          0    T0000000113    S005  ...   熊本県      PC-E     210000\n",
              "1          1    T0000000114    S001  ...   京都府      PC-A      50000\n",
              "2          2    T0000000115    S003  ...   茨城県      PC-C     120000\n",
              "3          3    T0000000116    S005  ...   兵庫県      PC-E     210000\n",
              "4          4    T0000000117    S002  ...   長崎県      PC-B      85000\n",
              "\n",
              "[5 rows x 16 columns]"
            ]
          },
          "metadata": {
            "tags": []
          },
          "execution_count": 20
        }
      ]
    },
    {
      "cell_type": "markdown",
      "metadata": {
        "id": "TVdQY9-gGFau"
      },
      "source": [
        "##問題７<br>「transaction_detail」「transaction」「join_data」のデータ件数を確認しなさい。<br>Problem 7<br> Check the number of data in \"transaction_detail\", \"transaction\", and \"join_data\"."
      ]
    },
    {
      "cell_type": "code",
      "metadata": {
        "colab": {
          "base_uri": "https://localhost:8080/"
        },
        "id": "TV2DJ0rQF_th",
        "outputId": "1dd12cda-6d79-4b55-9c01-1a9de27d1ae6"
      },
      "source": [
        "print(len(transaction_detail))\n",
        "print(len(transaction))\n",
        "print(len(join_data))"
      ],
      "execution_count": 21,
      "outputs": [
        {
          "output_type": "stream",
          "text": [
            "7144\n",
            "6786\n",
            "7144\n"
          ],
          "name": "stdout"
        }
      ]
    },
    {
      "cell_type": "markdown",
      "metadata": {
        "id": "5Igj0FflGxFu"
      },
      "source": [
        "##問題８<br>以下のプログラムを実行しなさい。<br>Problem 8<br> Execute the following program.\n"
      ]
    },
    {
      "cell_type": "code",
      "metadata": {
        "colab": {
          "base_uri": "https://localhost:8080/",
          "height": 417
        },
        "id": "3wr_V9IkGkr_",
        "outputId": "825e7150-c362-49ba-93d2-aa6841f2bd06"
      },
      "source": [
        "join_data[\"price\"] = join_data[\"quantity\"] * join_data[\"item_price\"]\n",
        "join_data[[\"quantity\",\"item_price\",\"price\"]]"
      ],
      "execution_count": 22,
      "outputs": [
        {
          "output_type": "execute_result",
          "data": {
            "text/html": [
              "<div>\n",
              "<style scoped>\n",
              "    .dataframe tbody tr th:only-of-type {\n",
              "        vertical-align: middle;\n",
              "    }\n",
              "\n",
              "    .dataframe tbody tr th {\n",
              "        vertical-align: top;\n",
              "    }\n",
              "\n",
              "    .dataframe thead th {\n",
              "        text-align: right;\n",
              "    }\n",
              "</style>\n",
              "<table border=\"1\" class=\"dataframe\">\n",
              "  <thead>\n",
              "    <tr style=\"text-align: right;\">\n",
              "      <th></th>\n",
              "      <th>quantity</th>\n",
              "      <th>item_price</th>\n",
              "      <th>price</th>\n",
              "    </tr>\n",
              "  </thead>\n",
              "  <tbody>\n",
              "    <tr>\n",
              "      <th>0</th>\n",
              "      <td>1</td>\n",
              "      <td>210000</td>\n",
              "      <td>210000</td>\n",
              "    </tr>\n",
              "    <tr>\n",
              "      <th>1</th>\n",
              "      <td>1</td>\n",
              "      <td>50000</td>\n",
              "      <td>50000</td>\n",
              "    </tr>\n",
              "    <tr>\n",
              "      <th>2</th>\n",
              "      <td>1</td>\n",
              "      <td>120000</td>\n",
              "      <td>120000</td>\n",
              "    </tr>\n",
              "    <tr>\n",
              "      <th>3</th>\n",
              "      <td>1</td>\n",
              "      <td>210000</td>\n",
              "      <td>210000</td>\n",
              "    </tr>\n",
              "    <tr>\n",
              "      <th>4</th>\n",
              "      <td>2</td>\n",
              "      <td>85000</td>\n",
              "      <td>170000</td>\n",
              "    </tr>\n",
              "    <tr>\n",
              "      <th>...</th>\n",
              "      <td>...</td>\n",
              "      <td>...</td>\n",
              "      <td>...</td>\n",
              "    </tr>\n",
              "    <tr>\n",
              "      <th>7139</th>\n",
              "      <td>1</td>\n",
              "      <td>180000</td>\n",
              "      <td>180000</td>\n",
              "    </tr>\n",
              "    <tr>\n",
              "      <th>7140</th>\n",
              "      <td>1</td>\n",
              "      <td>85000</td>\n",
              "      <td>85000</td>\n",
              "    </tr>\n",
              "    <tr>\n",
              "      <th>7141</th>\n",
              "      <td>2</td>\n",
              "      <td>50000</td>\n",
              "      <td>100000</td>\n",
              "    </tr>\n",
              "    <tr>\n",
              "      <th>7142</th>\n",
              "      <td>1</td>\n",
              "      <td>85000</td>\n",
              "      <td>85000</td>\n",
              "    </tr>\n",
              "    <tr>\n",
              "      <th>7143</th>\n",
              "      <td>1</td>\n",
              "      <td>85000</td>\n",
              "      <td>85000</td>\n",
              "    </tr>\n",
              "  </tbody>\n",
              "</table>\n",
              "<p>7144 rows × 3 columns</p>\n",
              "</div>"
            ],
            "text/plain": [
              "      quantity  item_price   price\n",
              "0            1      210000  210000\n",
              "1            1       50000   50000\n",
              "2            1      120000  120000\n",
              "3            1      210000  210000\n",
              "4            2       85000  170000\n",
              "...        ...         ...     ...\n",
              "7139         1      180000  180000\n",
              "7140         1       85000   85000\n",
              "7141         2       50000  100000\n",
              "7142         1       85000   85000\n",
              "7143         1       85000   85000\n",
              "\n",
              "[7144 rows x 3 columns]"
            ]
          },
          "metadata": {
            "tags": []
          },
          "execution_count": 22
        }
      ]
    },
    {
      "cell_type": "markdown",
      "metadata": {
        "id": "lsglwp1sILXV"
      },
      "source": [
        "##問題９　<br>「join_data」の\"price\"について、合計値を求めなさい。また、「transaction」の”price”についても、合計値を求めなさい。<br>Problem 9<br> Find the total value for \"price\" of \"join_data\". Also, find the total value for \"price\" of \"transaction\"."
      ]
    },
    {
      "cell_type": "code",
      "metadata": {
        "colab": {
          "base_uri": "https://localhost:8080/"
        },
        "id": "b3uPQaKgHQ2q",
        "outputId": "bd5d9265-8e3f-4967-edfb-679cb1a47290"
      },
      "source": [
        "print(join_data[\"price\"].sum())\n",
        "print(transaction[\"price\"].sum())"
      ],
      "execution_count": 23,
      "outputs": [
        {
          "output_type": "stream",
          "text": [
            "971135000\n",
            "971135000\n"
          ],
          "name": "stdout"
        }
      ]
    },
    {
      "cell_type": "markdown",
      "metadata": {
        "id": "QRwhUIFxI1oj"
      },
      "source": [
        "問題１０<br>「join_data」について、\"describe\"メソッドを使って、統計量を表示させなさい。<br>Problem 10<br> For \"join_data\", use the \"describe\" method to display the statistic."
      ]
    },
    {
      "cell_type": "code",
      "metadata": {
        "colab": {
          "base_uri": "https://localhost:8080/",
          "height": 295
        },
        "id": "94sEPxxWIv8T",
        "outputId": "95ec37b5-61f0-4451-975b-6086f6c91a85"
      },
      "source": [
        "join_data.describe()"
      ],
      "execution_count": 24,
      "outputs": [
        {
          "output_type": "execute_result",
          "data": {
            "text/html": [
              "<div>\n",
              "<style scoped>\n",
              "    .dataframe tbody tr th:only-of-type {\n",
              "        vertical-align: middle;\n",
              "    }\n",
              "\n",
              "    .dataframe tbody tr th {\n",
              "        vertical-align: top;\n",
              "    }\n",
              "\n",
              "    .dataframe thead th {\n",
              "        text-align: right;\n",
              "    }\n",
              "</style>\n",
              "<table border=\"1\" class=\"dataframe\">\n",
              "  <thead>\n",
              "    <tr style=\"text-align: right;\">\n",
              "      <th></th>\n",
              "      <th>detail_id</th>\n",
              "      <th>quantity</th>\n",
              "      <th>age</th>\n",
              "      <th>item_price</th>\n",
              "      <th>price</th>\n",
              "    </tr>\n",
              "  </thead>\n",
              "  <tbody>\n",
              "    <tr>\n",
              "      <th>count</th>\n",
              "      <td>7144.000000</td>\n",
              "      <td>7144.000000</td>\n",
              "      <td>7144.000000</td>\n",
              "      <td>7144.000000</td>\n",
              "      <td>7144.000000</td>\n",
              "    </tr>\n",
              "    <tr>\n",
              "      <th>mean</th>\n",
              "      <td>3571.500000</td>\n",
              "      <td>1.199888</td>\n",
              "      <td>50.265677</td>\n",
              "      <td>121698.628219</td>\n",
              "      <td>135937.150056</td>\n",
              "    </tr>\n",
              "    <tr>\n",
              "      <th>std</th>\n",
              "      <td>2062.439494</td>\n",
              "      <td>0.513647</td>\n",
              "      <td>17.190314</td>\n",
              "      <td>64571.311830</td>\n",
              "      <td>68511.453297</td>\n",
              "    </tr>\n",
              "    <tr>\n",
              "      <th>min</th>\n",
              "      <td>0.000000</td>\n",
              "      <td>1.000000</td>\n",
              "      <td>20.000000</td>\n",
              "      <td>50000.000000</td>\n",
              "      <td>50000.000000</td>\n",
              "    </tr>\n",
              "    <tr>\n",
              "      <th>25%</th>\n",
              "      <td>1785.750000</td>\n",
              "      <td>1.000000</td>\n",
              "      <td>36.000000</td>\n",
              "      <td>50000.000000</td>\n",
              "      <td>85000.000000</td>\n",
              "    </tr>\n",
              "    <tr>\n",
              "      <th>50%</th>\n",
              "      <td>3571.500000</td>\n",
              "      <td>1.000000</td>\n",
              "      <td>50.000000</td>\n",
              "      <td>102500.000000</td>\n",
              "      <td>120000.000000</td>\n",
              "    </tr>\n",
              "    <tr>\n",
              "      <th>75%</th>\n",
              "      <td>5357.250000</td>\n",
              "      <td>1.000000</td>\n",
              "      <td>65.000000</td>\n",
              "      <td>187500.000000</td>\n",
              "      <td>210000.000000</td>\n",
              "    </tr>\n",
              "    <tr>\n",
              "      <th>max</th>\n",
              "      <td>7143.000000</td>\n",
              "      <td>4.000000</td>\n",
              "      <td>80.000000</td>\n",
              "      <td>210000.000000</td>\n",
              "      <td>420000.000000</td>\n",
              "    </tr>\n",
              "  </tbody>\n",
              "</table>\n",
              "</div>"
            ],
            "text/plain": [
              "         detail_id     quantity          age     item_price          price\n",
              "count  7144.000000  7144.000000  7144.000000    7144.000000    7144.000000\n",
              "mean   3571.500000     1.199888    50.265677  121698.628219  135937.150056\n",
              "std    2062.439494     0.513647    17.190314   64571.311830   68511.453297\n",
              "min       0.000000     1.000000    20.000000   50000.000000   50000.000000\n",
              "25%    1785.750000     1.000000    36.000000   50000.000000   85000.000000\n",
              "50%    3571.500000     1.000000    50.000000  102500.000000  120000.000000\n",
              "75%    5357.250000     1.000000    65.000000  187500.000000  210000.000000\n",
              "max    7143.000000     4.000000    80.000000  210000.000000  420000.000000"
            ]
          },
          "metadata": {
            "tags": []
          },
          "execution_count": 24
        }
      ]
    },
    {
      "cell_type": "code",
      "metadata": {
        "id": "C7N4MaNxJK2Z"
      },
      "source": [
        ""
      ],
      "execution_count": null,
      "outputs": []
    }
  ]
}