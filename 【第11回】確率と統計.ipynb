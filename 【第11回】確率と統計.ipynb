{
  "nbformat": 4,
  "nbformat_minor": 0,
  "metadata": {
    "colab": {
      "name": "【第11回】確率と統計.ipynb",
      "provenance": [],
      "collapsed_sections": [],
      "authorship_tag": "ABX9TyNlrM00q4ERw7C7+WtJr0+i",
      "include_colab_link": true
    },
    "kernelspec": {
      "name": "python3",
      "display_name": "Python 3"
    },
    "language_info": {
      "name": "python"
    }
  },
  "cells": [
    {
      "cell_type": "markdown",
      "metadata": {
        "id": "view-in-github",
        "colab_type": "text"
      },
      "source": [
        "<a href=\"https://colab.research.google.com/github/DSF-Kotaro/classroom/blob/main/%E3%80%90%E7%AC%AC11%E5%9B%9E%E3%80%91%E7%A2%BA%E7%8E%87%E3%81%A8%E7%B5%B1%E8%A8%88.ipynb\" target=\"_parent\"><img src=\"https://colab.research.google.com/assets/colab-badge.svg\" alt=\"Open In Colab\"/></a>"
      ]
    },
    {
      "cell_type": "markdown",
      "metadata": {
        "id": "GHifg6OU2pEg"
      },
      "source": [
        "#ライブラリの読み込み（load libraries）"
      ]
    },
    {
      "cell_type": "code",
      "metadata": {
        "id": "X1HAw2vN3xEa"
      },
      "source": [
        "import numpy as np\n",
        "import scipy as sp\n",
        "import pandas as pd\n",
        "from pandas import Series, DataFrame\n",
        "\n",
        "import matplotlib.pyplot as plt\n",
        "import matplotlib as mpl\n",
        "import seaborn as sns\n",
        "\n",
        "np.random.seed(0)"
      ],
      "execution_count": 1,
      "outputs": []
    },
    {
      "cell_type": "markdown",
      "metadata": {
        "id": "g__18fwp1fIG"
      },
      "source": [
        "#確率（probability）"
      ]
    },
    {
      "cell_type": "markdown",
      "metadata": {
        "id": "_kkovrwD1l-j"
      },
      "source": [
        "##サイコロの確率（Dice probability）"
      ]
    },
    {
      "cell_type": "code",
      "metadata": {
        "id": "uXoe5IbfTvhR"
      },
      "source": [
        "dice_data = np.array([1,2,3,4,5,6])"
      ],
      "execution_count": 2,
      "outputs": []
    },
    {
      "cell_type": "code",
      "metadata": {
        "colab": {
          "base_uri": "https://localhost:8080/"
        },
        "id": "FsZ4cJPR15xn",
        "outputId": "fcebe15f-fe53-44b6-a71a-26557beb9cfa"
      },
      "source": [
        "print('Random sampling of only one：', np.random.choice(dice_data,1))"
      ],
      "execution_count": 3,
      "outputs": [
        {
          "output_type": "stream",
          "text": [
            "Random sampling of only one： [5]\n"
          ],
          "name": "stdout"
        }
      ]
    },
    {
      "cell_type": "markdown",
      "metadata": {
        "id": "0RUiEVOs2WPd"
      },
      "source": [
        "##サイコロを1000回振るシミュレーション（Simulation of rolling the dice 1000 times）"
      ]
    },
    {
      "cell_type": "code",
      "metadata": {
        "colab": {
          "base_uri": "https://localhost:8080/"
        },
        "id": "MoC-rQT_2ecD",
        "outputId": "7b07785c-22ce-4e57-c79c-ae4382e63cb5"
      },
      "source": [
        "calc_steps = 1000\n",
        "\n",
        "dice_rolls = np.random.choice(dice_data, calc_steps)\n",
        "\n",
        "for i in range(1, 7):\n",
        "  p = len(dice_rolls[dice_rolls==i]) / calc_steps\n",
        "  print('Probability of ', i, ':' , p)"
      ],
      "execution_count": 4,
      "outputs": [
        {
          "output_type": "stream",
          "text": [
            "Probability of  1 : 0.171\n",
            "Probability of  2 : 0.158\n",
            "Probability of  3 : 0.157\n",
            "Probability of  4 : 0.183\n",
            "Probability of  5 : 0.16\n",
            "Probability of  6 : 0.171\n"
          ],
          "name": "stdout"
        }
      ]
    },
    {
      "cell_type": "markdown",
      "metadata": {
        "id": "U6JEVrrhUZwJ"
      },
      "source": [
        "#問題（Question）"
      ]
    },
    {
      "cell_type": "markdown",
      "metadata": {
        "id": "Cn5JzBE-LEaY"
      },
      "source": [
        "##問題１（Question１）\n",
        "コインの表を０、裏を１として表現する配列を次のように用意します。\n",
        "<br>\n",
        "coin_data = np.array([0,1])\n",
        "<br>\n",
        "この配列を使って、コインの投げ試行を1000回実行し、その結果、表（値が０）並びに裏（値が１）がでる確率をそれぞれ求めなさい。\n",
        "<br>（Prepare an array that expresses the front side of the coin as 0 and the back side as 1.\n",
        "<br>\n",
        "coin_data = np.array ([0,1])\n",
        "<br>\n",
        "Use this array to perform 1000 coin throwing attempts, and find the probabilities that the front (value is 0) and the back (value is 1) will appear as a result.）"
      ]
    },
    {
      "cell_type": "code",
      "metadata": {
        "id": "54rsVMLxWnzZ",
        "colab": {
          "base_uri": "https://localhost:8080/"
        },
        "outputId": "0ae82133-ee4c-43ea-8385-a1405ec47cc0"
      },
      "source": [
        "coin_data = np.array([0,1])\n",
        "calc_steps = 1000\n",
        "coin_rolls = np.random.choice(coin_data,calc_steps)\n",
        "\n",
        "for i in range(0,2):\n",
        "  p = len(coin_rolls[coin_rolls == i])/calc_steps\n",
        "  print('Probability of ', i , ':', p)"
      ],
      "execution_count": 13,
      "outputs": [
        {
          "output_type": "stream",
          "text": [
            "Probability of  0 : 0.507\n",
            "Probability of  1 : 0.493\n"
          ],
          "name": "stdout"
        }
      ]
    },
    {
      "cell_type": "markdown",
      "metadata": {
        "id": "2149LPSQ-sFu"
      },
      "source": [
        "#確率変数と確率分布（Random variables and probability distributions）"
      ]
    },
    {
      "cell_type": "markdown",
      "metadata": {
        "id": "Lr75y6hx-5Fl"
      },
      "source": [
        "##一様分布（Uniform distribution）"
      ]
    },
    {
      "cell_type": "code",
      "metadata": {
        "id": "2O3SHJ5f--I2",
        "colab": {
          "base_uri": "https://localhost:8080/",
          "height": 265
        },
        "outputId": "b823cf6c-2b6c-4ed3-eb85-cccb26ecba4c"
      },
      "source": [
        "calc_steps = 1000\n",
        "\n",
        "dice_rolls = np.random.choice(dice_data, calc_steps)\n",
        "\n",
        "prob_data = np.array([])\n",
        "\n",
        "for i in range(1,7):\n",
        "  p = len(dice_rolls[dice_rolls==i])/calc_steps\n",
        "  prob_data = np.append(prob_data, len(dice_rolls[dice_rolls==i])/calc_steps)\n",
        "\n",
        "plt.bar(dice_data,prob_data)\n",
        "plt.grid(True)"
      ],
      "execution_count": 5,
      "outputs": [
        {
          "output_type": "display_data",
          "data": {
            "image/png": "[encoded data removed]",
            "text/plain": [
              "<Figure size 432x288 with 1 Axes>"
            ]
          },
          "metadata": {
            "tags": [],
            "needs_background": "light"
          }
        }
      ]
    },
    {
      "cell_type": "markdown",
      "metadata": {
        "id": "EPSfCTrz_v3N"
      },
      "source": [
        "##ベルヌーイ分布（Bernoulli distribution）"
      ]
    },
    {
      "cell_type": "code",
      "metadata": {
        "colab": {
          "base_uri": "https://localhost:8080/"
        },
        "id": "fHtDmM-R_2Uo",
        "outputId": "1d19b749-e785-4cb0-8816-9a52882c3005"
      },
      "source": [
        "prob_be_data = np.array([])\n",
        "coin_data = np.array([0,0,0,0,0,1,1,1])\n",
        "\n",
        "for i in np.unique(coin_data):\n",
        "  p = len(coin_data[coin_data == i])/len(coin_data)\n",
        "  print('probability of ',i, ': ', p)\n",
        "  prob_be_data = np.append(prob_be_data,p)"
      ],
      "execution_count": 6,
      "outputs": [
        {
          "output_type": "stream",
          "text": [
            "probability of  0 :  0.625\n",
            "probability of  1 :  0.375\n"
          ],
          "name": "stdout"
        }
      ]
    },
    {
      "cell_type": "code",
      "metadata": {
        "id": "grd6vQDpBYDZ",
        "colab": {
          "base_uri": "https://localhost:8080/",
          "height": 265
        },
        "outputId": "75aa497d-77bd-4f8d-84fe-8f551c1bade5"
      },
      "source": [
        "plt.bar([0,1],prob_be_data,align='center')\n",
        "plt.xticks([0,1],['head','tail'])\n",
        "plt.grid(True)"
      ],
      "execution_count": 7,
      "outputs": [
        {
          "output_type": "display_data",
          "data": {
            "image/png": "[encoded data removed]",
            "text/plain": [
              "<Figure size 432x288 with 1 Axes>"
            ]
          },
          "metadata": {
            "tags": [],
            "needs_background": "light"
          }
        }
      ]
    },
    {
      "cell_type": "markdown",
      "metadata": {
        "id": "ck_ZH1LoBr40"
      },
      "source": [
        "##二項分布（Binomial distribution）"
      ]
    },
    {
      "cell_type": "code",
      "metadata": {
        "id": "R2xBciBhCF6D",
        "colab": {
          "base_uri": "https://localhost:8080/",
          "height": 265
        },
        "outputId": "ee6ab091-fb6b-4ac0-b282-4bf8fccb1939"
      },
      "source": [
        "np.random.seed(0)\n",
        "x = np.random.binomial(30,0.5,1000)\n",
        "\n",
        "plt.hist(x)\n",
        "plt.grid(True)"
      ],
      "execution_count": 8,
      "outputs": [
        {
          "output_type": "display_data",
          "data": {
            "image/png": "[encoded data removed]",
            "text/plain": [
              "<Figure size 432x288 with 1 Axes>"
            ]
          },
          "metadata": {
            "tags": [],
            "needs_background": "light"
          }
        }
      ]
    },
    {
      "cell_type": "markdown",
      "metadata": {
        "id": "YVWkuin7CVDk"
      },
      "source": [
        "##ポアソン分布（Poisson distribution）"
      ]
    },
    {
      "cell_type": "code",
      "metadata": {
        "id": "2rQgA2_ACirV",
        "colab": {
          "base_uri": "https://localhost:8080/",
          "height": 265
        },
        "outputId": "c4d05885-e90a-46be-a082-a9d119a1f6fc"
      },
      "source": [
        "x = np.random.poisson(7,1000)\n",
        "plt.hist(x)\n",
        "plt.grid(True)"
      ],
      "execution_count": 9,
      "outputs": [
        {
          "output_type": "display_data",
          "data": {
            "image/png": "[encoded data removed]",
            "text/plain": [
              "<Figure size 432x288 with 1 Axes>"
            ]
          },
          "metadata": {
            "tags": [],
            "needs_background": "light"
          }
        }
      ]
    },
    {
      "cell_type": "markdown",
      "metadata": {
        "id": "37YAH3YQCyQc"
      },
      "source": [
        "##正規分布（normal distribution）"
      ]
    },
    {
      "cell_type": "code",
      "metadata": {
        "id": "ZSc327BdC4KO",
        "colab": {
          "base_uri": "https://localhost:8080/",
          "height": 265
        },
        "outputId": "c8197f5c-341e-4b6b-e0ed-a60bebcfb924"
      },
      "source": [
        "x = np.random.normal(5,10,10000)\n",
        "plt.hist(x)\n",
        "plt.grid(True)"
      ],
      "execution_count": 10,
      "outputs": [
        {
          "output_type": "display_data",
          "data": {
            "image/png": "[encoded data removed]",
            "text/plain": [
              "<Figure size 432x288 with 1 Axes>"
            ]
          },
          "metadata": {
            "tags": [],
            "needs_background": "light"
          }
        }
      ]
    },
    {
      "cell_type": "markdown",
      "metadata": {
        "id": "a-0H-SCNDDgP"
      },
      "source": [
        "##対数正規分布（Lognormal distribution）"
      ]
    },
    {
      "cell_type": "code",
      "metadata": {
        "id": "cPUlj_sNDJlj",
        "colab": {
          "base_uri": "https://localhost:8080/",
          "height": 278
        },
        "outputId": "2d0bcbd5-3209-440b-846c-5aeff0de753a"
      },
      "source": [
        "x = np.random.lognormal(30,0.4,1000)\n",
        "plt.hist(x)\n",
        "plt.grid(True)"
      ],
      "execution_count": 11,
      "outputs": [
        {
          "output_type": "display_data",
          "data": {
            "image/png": "[encoded data removed]",
            "text/plain": [
              "<Figure size 432x288 with 1 Axes>"
            ]
          },
          "metadata": {
            "tags": [],
            "needs_background": "light"
          }
        }
      ]
    },
    {
      "cell_type": "markdown",
      "metadata": {
        "id": "31tGuvM8DS2T"
      },
      "source": [
        "##カーネル密度関数（Kernel density function）"
      ]
    },
    {
      "cell_type": "code",
      "metadata": {
        "id": "P2mC1yjlDXoF",
        "colab": {
          "base_uri": "https://localhost:8080/",
          "height": 266
        },
        "outputId": "3ba4cfcc-761a-40b6-c77e-6b59adeade25"
      },
      "source": [
        "student_data_math = pd.read_csv('student-mat.csv',sep=';')\n",
        "\n",
        "student_data_math.absences.plot(kind = 'kde', style = 'k--')\n",
        "\n",
        "student_data_math.absences.hist(density = True)\n",
        "plt.grid(True)"
      ],
      "execution_count": 12,
      "outputs": [
        {
          "output_type": "display_data",
          "data": {
            "image/png": "[encoded data removed]",
            "text/plain": [
              "<Figure size 432x288 with 1 Axes>"
            ]
          },
          "metadata": {
            "tags": [],
            "needs_background": "light"
          }
        }
      ]
    },
    {
      "cell_type": "markdown",
      "metadata": {
        "id": "uezRh96nW0dJ"
      },
      "source": [
        "#問題２（Question 2）\n",
        "平均０、分布１の正規分布からｎ＝100の標本抽出を10,000回繰り返して、標本平均の標本分布（ヒストグラム）を書きなさい。<br>Draw a sample distribution (histogram) of the sample mean by repeating sampling of n = 100 from the normal distribution with mean 0 and distribution 1 10,000 times."
      ]
    },
    {
      "cell_type": "code",
      "metadata": {
        "id": "aESXAWg7XGgX",
        "colab": {
          "base_uri": "https://localhost:8080/",
          "height": 265
        },
        "outputId": "e3ecea90-18c9-4a78-ec70-2d9e1e9893b5"
      },
      "source": [
        "N = 10000\n",
        "\n",
        "normal_sample_data = np.array([])\n",
        "\n",
        "for i in range(N):\n",
        "  normal_sample_data = np.append(normal_sample_data, np.random.normal(0,1,100).mean())\n",
        "\n",
        "plt.hist(normal_sample_data)\n",
        "plt.grid(True)"
      ],
      "execution_count": 18,
      "outputs": [
        {
          "output_type": "display_data",
          "data": {
            "image/png": "[encoded data removed]",
            "text/plain": [
              "<Figure size 432x288 with 1 Axes>"
            ]
          },
          "metadata": {
            "tags": [],
            "needs_background": "light"
          }
        }
      ]
    },
    {
      "cell_type": "markdown",
      "metadata": {
        "id": "z6N8wmSXEhJQ"
      },
      "source": [
        "#問題３（Question ３）\n",
        "問題２と同じく、対数正規分布の場合について書きなさい<br>As in Problem 2, write about the case of lognormal distribution"
      ]
    },
    {
      "cell_type": "code",
      "metadata": {
        "id": "Vj4INYoGEwMm",
        "colab": {
          "base_uri": "https://localhost:8080/",
          "height": 265
        },
        "outputId": "b6f6899e-a692-48c2-9625-59b64bdf043d"
      },
      "source": [
        "N = 10000\n",
        "\n",
        "normal_sample_data = np.array([])\n",
        "\n",
        "for i in range(N):\n",
        "  normal_sample_data = np.append(normal_sample_data, np.random.lognormal(0,1,100).mean())\n",
        "\n",
        "plt.hist(normal_sample_data)\n",
        "plt.grid(True)"
      ],
      "execution_count": 28,
      "outputs": [
        {
          "output_type": "display_data",
          "data": {
            "image/png": "[encoded data removed]",
            "text/plain": [
              "<Figure size 432x288 with 1 Axes>"
            ]
          },
          "metadata": {
            "tags": [],
            "needs_background": "light"
          }
        }
      ]
    },
    {
      "cell_type": "markdown",
      "metadata": {
        "id": "Qo_Zt0pUEynQ"
      },
      "source": [
        "#問題４（Question ４）\n",
        "学生の数学の成績データ（student_data_math)の一期目の成績Ｇ１のヒストグラムとカーネル密度推定を書きなさい<br>Write a histogram of grade G1 and kernel density estimation for the first term of student math grade data (student_data_math)"
      ]
    },
    {
      "cell_type": "code",
      "metadata": {
        "id": "K2Wsvd0jFDYF",
        "colab": {
          "base_uri": "https://localhost:8080/",
          "height": 265
        },
        "outputId": "4327db3d-884d-477b-f1de-2d1ddaf9b806"
      },
      "source": [
        "plt.hist(student_data_math.G1)\n",
        "plt.grid(True)"
      ],
      "execution_count": 24,
      "outputs": [
        {
          "output_type": "display_data",
          "data": {
            "image/png": "[encoded data removed]",
            "text/plain": [
              "<Figure size 432x288 with 1 Axes>"
            ]
          },
          "metadata": {
            "tags": [],
            "needs_background": "light"
          }
        }
      ]
    },
    {
      "cell_type": "code",
      "metadata": {
        "colab": {
          "base_uri": "https://localhost:8080/",
          "height": 265
        },
        "id": "Jk9YjsycBPZj",
        "outputId": "98db6884-2e1c-4e71-f99d-d2aec41dd6d3"
      },
      "source": [
        ""
      ],
      "execution_count": 25,
      "outputs": [
        {
          "output_type": "display_data",
          "data": {
            "image/png": "[encoded data removed]",
            "text/plain": [
              "<Figure size 432x288 with 1 Axes>"
            ]
          },
          "metadata": {
            "tags": [],
            "needs_background": "light"
          }
        }
      ]
    },
    {
      "cell_type": "code",
      "metadata": {
        "colab": {
          "base_uri": "https://localhost:8080/",
          "height": 265
        },
        "id": "ZQOpCOcuByCW",
        "outputId": "55866cf6-3f69-4c19-8d50-f2317ddc9e7b"
      },
      "source": [
        "student_data_math.G1.plot(kind = 'kde', style = 'k--')\n",
        "student_data_math.G1.hist(density = True)\n",
        "plt.grid(True)"
      ],
      "execution_count": 26,
      "outputs": [
        {
          "output_type": "display_data",
          "data": {
            "image/png": "[encoded data removed]",
            "text/plain": [
              "<Figure size 432x288 with 1 Axes>"
            ]
          },
          "metadata": {
            "tags": [],
            "needs_background": "light"
          }
        }
      ]
    },
    {
      "cell_type": "code",
      "metadata": {
        "id": "yd3D2MpSB76F"
      },
      "source": [
        ""
      ],
      "execution_count": null,
      "outputs": []
    }
  ]
}