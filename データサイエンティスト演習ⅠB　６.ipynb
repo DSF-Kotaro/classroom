{
  "nbformat": 4,
  "nbformat_minor": 0,
  "metadata": {
    "kernelspec": {
      "display_name": "Python 3",
      "language": "python",
      "name": "python3"
    },
    "language_info": {
      "codemirror_mode": {
        "name": "ipython",
        "version": 3
      },
      "file_extension": ".py",
      "mimetype": "text/x-python",
      "name": "python",
      "nbconvert_exporter": "python",
      "pygments_lexer": "ipython3",
      "version": "3.6.4"
    },
    "colab": {
      "name": "データサイエンティスト演習ⅠB　６.ipynb",
      "provenance": [],
      "include_colab_link": true
    }
  },
  "cells": [
    {
      "cell_type": "markdown",
      "metadata": {
        "id": "view-in-github",
        "colab_type": "text"
      },
      "source": [
        "<a href=\"https://colab.research.google.com/github/DSF-Kotaro/classroom/blob/main/%E3%83%87%E3%83%BC%E3%82%BF%E3%82%B5%E3%82%A4%E3%82%A8%E3%83%B3%E3%83%86%E3%82%A3%E3%82%B9%E3%83%88%E6%BC%94%E7%BF%92%E2%85%A0B%E3%80%80%EF%BC%96.ipynb\" target=\"_parent\"><img src=\"https://colab.research.google.com/assets/colab-badge.svg\" alt=\"Open In Colab\"/></a>"
      ]
    },
    {
      "cell_type": "code",
      "metadata": {
        "id": "itU1yK1t-8V-"
      },
      "source": [
        "import warnings\n",
        "warnings.filterwarnings('ignore')"
      ],
      "execution_count": 5,
      "outputs": []
    },
    {
      "cell_type": "markdown",
      "metadata": {
        "id": "wHTDopox-8WE"
      },
      "source": [
        "#顧客の退会を予測する"
      ]
    },
    {
      "cell_type": "markdown",
      "metadata": {
        "id": "S87hKrMS-8WH"
      },
      "source": [
        "###1：データを読み込んで利用データを整形"
      ]
    },
    {
      "cell_type": "code",
      "metadata": {
        "id": "cjn-a62Z-8WI"
      },
      "source": [
        "import pandas as pd\n",
        "customer = pd.read_csv('customer_join.csv')\n",
        "uselog_months = pd.read_csv('use_log_months.csv')"
      ],
      "execution_count": 6,
      "outputs": []
    },
    {
      "cell_type": "code",
      "metadata": {
        "id": "zih9GnJB-8WJ"
      },
      "source": [
        "year_months = list(uselog_months[\"年月\"].unique())\n",
        "uselog = pd.DataFrame()\n",
        "\n",
        "for i in range(1, len(year_months)):\n",
        "    tmp = uselog_months.loc[uselog_months[\"年月\"]==year_months[i]]\n",
        "    tmp.rename(columns={\"count\":\"count_0\"}, inplace=True)\n",
        "    tmp_before = uselog_months.loc[uselog_months[\"年月\"]==year_months[i-1]]\n",
        "    del tmp_before[\"年月\"]\n",
        "    tmp_before.rename(columns={\"count\":\"count_1\"}, inplace=True)\n",
        "    tmp = pd.merge(tmp, tmp_before, on=\"customer_id\", how=\"left\")\n",
        "    uselog = pd.concat([uselog, tmp], ignore_index=True)\n",
        "\n",
        "uselog.head()"
      ],
      "execution_count": null,
      "outputs": []
    },
    {
      "cell_type": "markdown",
      "metadata": {
        "id": "17vhhV0R-8WL"
      },
      "source": [
        "###2：退会前月の退会顧客データを作成"
      ]
    },
    {
      "cell_type": "code",
      "metadata": {
        "id": "BZ-GSDnR-8WM"
      },
      "source": [
        "from dateutil.relativedelta import relativedelta\n",
        "import datetime\n",
        "\n",
        "exit_customer = customer.loc[customer[\"is_deleted\"]==1]\n",
        "exit_customer[\"exit_date\"] = None\n",
        "exit_customer[\"end_date\"] = pd.to_datetime(exit_customer[\"end_date\"])\n",
        "for i in range(len(exit_customer)):\n",
        "    exit_customer[\"exit_date\"].iloc[i] \n",
        "       = exit_customer[\"end_date\"].iloc[i] - relativedelta(months=1)\n",
        "exit_customer[\"年月\"] = pd.to_datetime(exit_customer[\"exit_date\"])\n",
        "exit_customer[\"年月\"] = exit_customer[\"年月\"].dt.strftime(\"%Y%m\")\n",
        "uselog[\"年月\"] = uselog[\"年月\"].astype(str)\n",
        "exit_uselog = pd.merge(uselog, exit_customer, on=[\"customer_id\", \"年月\"], how=\"left\")\n",
        "print(len(uselog))\n",
        "exit_uselog.head()\n",
        "\n",
        "\n",
        "\n",
        "\n"
      ],
      "execution_count": null,
      "outputs": []
    },
    {
      "cell_type": "code",
      "metadata": {
        "id": "mKZJfOxd-8WO"
      },
      "source": [
        "exit_uselog = exit_uselog.dropna(subset=[\"name\"])\n",
        "print(len(exit_uselog))\n",
        "print(len(exit_uselog[\"customer_id\"].unique()))\n",
        "exit_uselog.head()"
      ],
      "execution_count": null,
      "outputs": []
    },
    {
      "cell_type": "markdown",
      "metadata": {
        "id": "Ua9y4sKd-8WP"
      },
      "source": [
        "###3：継続顧客のデータを作成"
      ]
    },
    {
      "cell_type": "code",
      "metadata": {
        "id": "BP-fE3-E-8WP"
      },
      "source": [
        "conti_customer = customer.loc[customer[\"is_deleted\"]==0]\n",
        "conti_uselog = pd.merge(uselog, conti_customer, on=[\"customer_id\"], how=\"left\")\n",
        "print(len(conti_uselog))\n",
        "conti_uselog = conti_uselog.dropna(subset=[\"name\"])\n",
        "print(len(conti_uselog))"
      ],
      "execution_count": null,
      "outputs": []
    },
    {
      "cell_type": "code",
      "metadata": {
        "id": "YgD36k1J-8WQ"
      },
      "source": [
        "conti_uselog = conti_uselog.sample(frac=1).reset_index(drop=True)\n",
        "conti_uselog = conti_uselog.drop_duplicates(subset=\"customer_id\")\n",
        "print(len(conti_uselog))\n",
        "conti_uselog.head()"
      ],
      "execution_count": null,
      "outputs": []
    },
    {
      "cell_type": "code",
      "metadata": {
        "id": "pa-Qo52p-8WR"
      },
      "source": [
        "predict_data = pd.concat([conti_uselog, exit_uselog],ignore_index=True)\n",
        "print(len(predict_data))\n",
        "predict_data.head()"
      ],
      "execution_count": null,
      "outputs": []
    },
    {
      "cell_type": "markdown",
      "metadata": {
        "id": "wj2Qanlr-8WS"
      },
      "source": [
        "###4：予測する月の在籍期間を作成しよう"
      ]
    },
    {
      "cell_type": "code",
      "metadata": {
        "id": "wGuu7pUK-8WT"
      },
      "source": [
        "predict_data[\"period\"] = 0\n",
        "predict_data[\"now_date\"] = pd.to_datetime(predict_data[\"年月\"], format=\"%Y%m\")\n",
        "predict_data[\"start_date\"] = pd.to_datetime(predict_data[\"start_date\"])\n",
        "for i in range(len(predict_data)):\n",
        "    delta = relativedelta(predict_data[\"now_date\"][i], predict_data[\"start_date\"][i])\n",
        "    predict_data[\"period\"][i] = int(delta.years*12 + delta.months)\n",
        "predict_data.head()"
      ],
      "execution_count": null,
      "outputs": []
    },
    {
      "cell_type": "markdown",
      "metadata": {
        "id": "d-YSQa_R-8WU"
      },
      "source": [
        "###5：欠損値を除去しよう"
      ]
    },
    {
      "cell_type": "code",
      "metadata": {
        "id": "4esw54YG-8WV"
      },
      "source": [
        "predict_data.isna().sum()"
      ],
      "execution_count": null,
      "outputs": []
    },
    {
      "cell_type": "code",
      "metadata": {
        "id": "ZibwMxxT-8WW"
      },
      "source": [
        "predict_data = predict_data.dropna(subset=[\"count_1\"])\n",
        "predict_data.isna().sum()\n",
        "\n",
        "\n",
        "\n",
        "\n",
        "\n"
      ],
      "execution_count": null,
      "outputs": []
    },
    {
      "cell_type": "markdown",
      "metadata": {
        "id": "tBw-Km9i-8WX"
      },
      "source": [
        "###6：文字列型の変数を処理できるように整形"
      ]
    },
    {
      "cell_type": "code",
      "metadata": {
        "id": "WtdXE5mu-8WX"
      },
      "source": [
        "target_col = [\"campaign_name\", \"class_name\", \"gender\", \"count_1\", \n",
        "              \"routine_flg\", \"period\", \"is_deleted\"]\n",
        "predict_data = predict_data[target_col]\n",
        "predict_data.head()"
      ],
      "execution_count": null,
      "outputs": []
    },
    {
      "cell_type": "code",
      "metadata": {
        "id": "RPgOChfs-8WY"
      },
      "source": [
        "predict_data = pd.get_dummies(predict_data)\n",
        "predict_data.head()"
      ],
      "execution_count": null,
      "outputs": []
    },
    {
      "cell_type": "code",
      "metadata": {
        "id": "_1GQemqZ-8WZ"
      },
      "source": [
        "del predict_data[\"campaign_name_通常\"]\n",
        "del predict_data[\"class_name_ナイト\"]\n",
        "del predict_data[\"gender_M\"]\n",
        "predict_data.head()"
      ],
      "execution_count": null,
      "outputs": []
    },
    {
      "cell_type": "markdown",
      "metadata": {
        "id": "LS8yH_sm-8WZ"
      },
      "source": [
        "### 7：決定木を用いて退会予測モデルを作成"
      ]
    },
    {
      "cell_type": "code",
      "metadata": {
        "id": "4670fO7c-8WZ"
      },
      "source": [
        "from sklearn.tree import DecisionTreeClassifier\n",
        "import sklearn.model_selection\n",
        "\n",
        "exit = predict_data.loc[predict_data[\"is_deleted\"]==1]\n",
        "conti = predict_data.loc[predict_data[\"is_deleted\"]==0].sample(len(exit))\n",
        "\n",
        "X = pd.concat([exit, conti], ignore_index=True)\n",
        "y = X[\"is_deleted\"]\n",
        "del X[\"is_deleted\"]\n",
        "X_train, X_test, y_train, y_test = sklearn.model_selection.train_test_split(X,y)\n",
        "\n",
        "model = DecisionTreeClassifier(random_state=0)\n",
        "model.fit(X_train, y_train)\n",
        "y_test_pred = model.predict(X_test)\n",
        "print(y_test_pred)"
      ],
      "execution_count": null,
      "outputs": []
    },
    {
      "cell_type": "code",
      "metadata": {
        "id": "DiFjmiMT-8Wa"
      },
      "source": [
        "results_test = pd.DataFrame({\"y_test\":y_test ,\"y_pred\":y_test_pred })\n",
        "results_test.head()"
      ],
      "execution_count": null,
      "outputs": []
    },
    {
      "cell_type": "markdown",
      "metadata": {
        "id": "js024Rok-8Wa"
      },
      "source": [
        "###8：予測モデルの評価を行ない、モデルをチューニング"
      ]
    },
    {
      "cell_type": "code",
      "metadata": {
        "id": "g_8G8DHr-8Wa"
      },
      "source": [
        "correct = len(results_test.loc[results_test[\"y_test\"]==results_test[\"y_pred\"]])\n",
        "data_count = len(results_test)\n",
        "score_test = correct / data_count\n",
        "print(score_test)"
      ],
      "execution_count": null,
      "outputs": []
    },
    {
      "cell_type": "code",
      "metadata": {
        "id": "yiXIm7k9-8Wa"
      },
      "source": [
        "print(model.score(X_test, y_test))\n",
        "print(model.score(X_train, y_train))"
      ],
      "execution_count": null,
      "outputs": []
    },
    {
      "cell_type": "code",
      "metadata": {
        "id": "Be0cI24V-8Wb"
      },
      "source": [
        "X = pd.concat([exit, conti], ignore_index=True)\n",
        "y = X[\"is_deleted\"]\n",
        "del X[\"is_deleted\"]\n",
        "X_train, X_test, y_train, y_test = sklearn.model_selection.train_test_split(X,y)\n",
        "\n",
        "model = DecisionTreeClassifier(random_state=0, max_depth=5)\n",
        "model.fit(X_train, y_train)\n",
        "print(model.score(X_test, y_test))\n",
        "print(model.score(X_train, y_train))"
      ],
      "execution_count": null,
      "outputs": []
    },
    {
      "cell_type": "markdown",
      "metadata": {
        "id": "mw4dRGLD-8Wb"
      },
      "source": [
        "###9：モデルに寄与している変数を確認"
      ]
    },
    {
      "cell_type": "code",
      "metadata": {
        "id": "spyOebCd-8Wb"
      },
      "source": [
        "importance = pd.DataFrame({\"feature_names\":X.columns,\n",
        "                           \"coefficient\":model.feature_importances_})\n",
        "importance"
      ],
      "execution_count": null,
      "outputs": []
    },
    {
      "cell_type": "markdown",
      "metadata": {
        "id": "hdcGBNwt-8Wb"
      },
      "source": [
        "###10：顧客の退会を予測しよう"
      ]
    },
    {
      "cell_type": "code",
      "metadata": {
        "id": "JIiTxoPs-8Wb"
      },
      "source": [
        "count_1 = 3\n",
        "routine_flg = 1\n",
        "period = 10\n",
        "campaign_name = \"入会費無料\"\n",
        "class_name = \"オールタイム\"\n",
        "gender = \"M\""
      ],
      "execution_count": 44,
      "outputs": []
    },
    {
      "cell_type": "code",
      "metadata": {
        "id": "z-KapzdQ-8Wc"
      },
      "source": [
        "if campaign_name == \"入会費半額\":\n",
        "    campaign_name_list = [1, 0]\n",
        "elif campaign_name == \"入会費無料\":\n",
        "    campaign_name_list = [0, 1]\n",
        "elif campaign_name == \"通常\":\n",
        "    campaign_name_list = [0, 0]\n",
        "if class_name == \"オールタイム\":\n",
        "    class_name_list = [1, 0]\n",
        "elif class_name == \"デイタイム\":\n",
        "    class_name_list = [0, 1]\n",
        "elif class_name == \"ナイト\":\n",
        "    class_name_list = [0, 0]\n",
        "if gender == \"F\":\n",
        "    gender_list = [1]\n",
        "elif gender == \"M\":\n",
        "    gender_list = [0]\n",
        "input_data = [count_1, routine_flg, period]\n",
        "input_data.extend(campaign_name_list)\n",
        "input_data.extend(class_name_list)\n",
        "input_data.extend(gender_list)\n",
        "\n",
        "\n",
        "\n"
      ],
      "execution_count": 45,
      "outputs": []
    },
    {
      "cell_type": "code",
      "metadata": {
        "colab": {
          "base_uri": "https://localhost:8080/",
          "height": 0
        },
        "id": "gYjqxmx9-8Wc",
        "outputId": "9d65a620-8d08-4347-9f2f-d7112a86697e"
      },
      "source": [
        "print(model.predict([input_data]))\n",
        "print(model.predict_proba([input_data]))"
      ],
      "execution_count": 49,
      "outputs": [
        {
          "output_type": "stream",
          "name": "stdout",
          "text": [
            "[1.]\n",
            "[[0.00296736 0.99703264]]\n"
          ]
        }
      ]
    },
    {
      "cell_type": "code",
      "metadata": {
        "id": "XbzE2baAHSGZ"
      },
      "source": [
        ""
      ],
      "execution_count": null,
      "outputs": []
    }
  ]
}