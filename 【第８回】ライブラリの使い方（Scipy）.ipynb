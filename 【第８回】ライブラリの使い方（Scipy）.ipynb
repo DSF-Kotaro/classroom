{
  "nbformat": 4,
  "nbformat_minor": 0,
  "metadata": {
    "colab": {
      "name": "【第８回】ライブラリの使い方（Scipy）.ipynb",
      "provenance": [],
      "collapsed_sections": [],
      "authorship_tag": "ABX9TyNeJ5/WhG/0NyBf3lmqg26o",
      "include_colab_link": true
    },
    "kernelspec": {
      "name": "python3",
      "display_name": "Python 3"
    },
    "language_info": {
      "name": "python"
    }
  },
  "cells": [
    {
      "cell_type": "markdown",
      "metadata": {
        "id": "view-in-github",
        "colab_type": "text"
      },
      "source": [
        "<a href=\"https://colab.research.google.com/github/DSF-Kotaro/classroom/blob/main/%E3%80%90%E7%AC%AC%EF%BC%98%E5%9B%9E%E3%80%91%E3%83%A9%E3%82%A4%E3%83%96%E3%83%A9%E3%83%AA%E3%81%AE%E4%BD%BF%E3%81%84%E6%96%B9%EF%BC%88Scipy%EF%BC%89.ipynb\" target=\"_parent\"><img src=\"https://colab.research.google.com/assets/colab-badge.svg\" alt=\"Open In Colab\"/></a>"
      ]
    },
    {
      "cell_type": "markdown",
      "metadata": {
        "id": "GHifg6OU2pEg"
      },
      "source": [
        "#ライブラリの準備（Preparing to use Scipy）"
      ]
    },
    {
      "cell_type": "code",
      "metadata": {
        "id": "C3yjPDYA1pSa"
      },
      "source": [
        "import scipy.linalg as linalg\n",
        "from scipy.optimize import minimize_scalar"
      ],
      "execution_count": null,
      "outputs": []
    },
    {
      "cell_type": "markdown",
      "metadata": {
        "id": "6FREzUX03GUZ"
      },
      "source": [
        "##行列式と逆行列の計算（Determinant and inverse matrix calculations）"
      ]
    },
    {
      "cell_type": "code",
      "metadata": {
        "colab": {
          "base_uri": "https://localhost:8080/"
        },
        "id": "a3mvNhtF3E2l",
        "outputId": "ea360616-89c7-4cb7-cfd5-6b258e94c925"
      },
      "source": [
        "matrix = np.array([[1,-1,-1],[-1,1,-1],[-1,-1,1]])\n",
        "\n",
        "matrix"
      ],
      "execution_count": null,
      "outputs": [
        {
          "output_type": "execute_result",
          "data": {
            "text/plain": [
              "array([[ 1, -1, -1],\n",
              "       [-1,  1, -1],\n",
              "       [-1, -1,  1]])"
            ]
          },
          "metadata": {
            "tags": []
          },
          "execution_count": 5
        }
      ]
    },
    {
      "cell_type": "markdown",
      "metadata": {
        "id": "9GeKwsDMdMb6"
      },
      "source": [
        "###行列式の計算（Determinant calculation）"
      ]
    },
    {
      "cell_type": "code",
      "metadata": {
        "colab": {
          "base_uri": "https://localhost:8080/"
        },
        "id": "X1HAw2vN3xEa",
        "outputId": "9434f6ea-7a5b-4a61-c007-74f256108eab"
      },
      "source": [
        "print(\"Determinant\")\n",
        "print(linalg.det(matrix))"
      ],
      "execution_count": null,
      "outputs": [
        {
          "output_type": "stream",
          "text": [
            "Determinant\n",
            "-4.0\n"
          ],
          "name": "stdout"
        }
      ]
    },
    {
      "cell_type": "markdown",
      "metadata": {
        "id": "axqPUYPudwFv"
      },
      "source": [
        "###逆行列の計算（Inverse matrix calculation）"
      ]
    },
    {
      "cell_type": "code",
      "metadata": {
        "colab": {
          "base_uri": "https://localhost:8080/"
        },
        "id": "7pkBBR53eMFU",
        "outputId": "917c1a53-4dd4-4010-fbf1-787868ca3883"
      },
      "source": [
        "print(\"Inverse matrix caluculation\")\n",
        "print(linalg.inv(matrix))"
      ],
      "execution_count": null,
      "outputs": [
        {
          "output_type": "stream",
          "text": [
            "Inverse matrix caluculation\n",
            "[[ 0.  -0.5 -0.5]\n",
            " [-0.5 -0.  -0.5]\n",
            " [-0.5 -0.5  0. ]]\n"
          ],
          "name": "stdout"
        }
      ]
    },
    {
      "cell_type": "markdown",
      "metadata": {
        "id": "fKNs6b6iebP8"
      },
      "source": [
        "##固有値と固有ベクトル（Eigenvalues and eigenvectors）"
      ]
    },
    {
      "cell_type": "code",
      "metadata": {
        "colab": {
          "base_uri": "https://localhost:8080/"
        },
        "id": "nDuWikO-eWdM",
        "outputId": "559bca39-d457-4450-a575-4a62c6b911a6"
      },
      "source": [
        "matrix"
      ],
      "execution_count": null,
      "outputs": [
        {
          "output_type": "execute_result",
          "data": {
            "text/plain": [
              "array([[ 1, -1, -1],\n",
              "       [-1,  1, -1],\n",
              "       [-1, -1,  1]])"
            ]
          },
          "metadata": {
            "tags": []
          },
          "execution_count": 9
        }
      ]
    },
    {
      "cell_type": "code",
      "metadata": {
        "id": "92hF7ihbeoPQ"
      },
      "source": [
        "eig_value, eig_vector = linalg.eig(matrix)"
      ],
      "execution_count": null,
      "outputs": []
    },
    {
      "cell_type": "code",
      "metadata": {
        "colab": {
          "base_uri": "https://localhost:8080/"
        },
        "id": "avBO6xWVexZB",
        "outputId": "60d2c227-600d-4b69-ca56-71be09065ec8"
      },
      "source": [
        "eig_value"
      ],
      "execution_count": null,
      "outputs": [
        {
          "output_type": "execute_result",
          "data": {
            "text/plain": [
              "array([-1.+0.j,  2.+0.j,  2.+0.j])"
            ]
          },
          "metadata": {
            "tags": []
          },
          "execution_count": 12
        }
      ]
    },
    {
      "cell_type": "code",
      "metadata": {
        "colab": {
          "base_uri": "https://localhost:8080/"
        },
        "id": "IorHuLwEe0yE",
        "outputId": "740eae58-f382-4b8c-e41e-ace6bd7b2778"
      },
      "source": [
        "eig_vector"
      ],
      "execution_count": null,
      "outputs": [
        {
          "output_type": "execute_result",
          "data": {
            "text/plain": [
              "array([[ 0.577,  0.816,  0.408],\n",
              "       [ 0.577, -0.408, -0.816],\n",
              "       [ 0.577, -0.408,  0.408]])"
            ]
          },
          "metadata": {
            "tags": []
          },
          "execution_count": 13
        }
      ]
    },
    {
      "cell_type": "markdown",
      "metadata": {
        "id": "6nwjcDPEfI9u"
      },
      "source": [
        "#ニュートン法（Newton's method）"
      ]
    },
    {
      "cell_type": "markdown",
      "metadata": {
        "id": "oLrBXgGJfRFh"
      },
      "source": [
        "##方程式の解を求める（Find the solution of the equation）"
      ]
    },
    {
      "cell_type": "markdown",
      "metadata": {
        "id": "OJibWPrwfbx6"
      },
      "source": [
        "![image.png](data:image/png;base64,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)\n",
        "\n",
        "![image.png](data:image/png;base64,iVBORw0KGgoAAAANSUhEUgAAADkAAAAVCAYAAAD8dkbIAAAEyUlEQVRYCe2W10pdWxSG82C+gLeCiN4IgggKURFRRBTLZcRGbMGOBRFFkViiKNiCYsFAjNhQsXext3H4BoyV6c7OgiPH5OZMmMyyRvn/Uebe78RnPD09yePjozw8PAh75v39vd49Pz97d+yRYQYb6LnywWT+7Z1rj73feOf30QhihD3TyHLHhDTTzoH2uL+7u1NdkwuUec0Zu+BhtST8zo4vScscRjDG+ebmxiOKEwgYeHPqOkPHZNyAuDKv3YPJJn7YBxu+JFGyMtzY2JCVlRUlhEEI3d7eypcvX2Rvb0/P3DHdgY39/X0ZGRnR4FhAXJnX7I0cK0Fksg82fElaGSwuLkpOTo5ER0fL8PCwV6KfP3/Ws2XQyLsre7Lf09Pj6QYDg5wBZx84+Ma9OyE2PT0tHR0d0tbWJmNjY5oUw2P2fEkSdbJVUlIizc3NAqnj42MFs729Lbm5ufodo5ZxQKBjuuz5fnZ2pvKsgSRdAgYs2OoSZE9lvX//XjGdn59rIr5+/ar+TR/fviQxBKn4+HgZHx/3wBPBrq4uaWlp0chiyEjt7OzI9fW1XF1dydHRke4NHMGamJj4LUkXmOm4K9nljBxBbW1tlaysLC1VztXV1fLhwwfFggyy3PuSpNfIYEhIiFRVVcna2pqnSBZnZ2c9khcXF0qAHi0rK5OhoSH5+PGj9ixBYA4ODmpVAMAdfCOYBAifu7u7v0z6Gj1kWQl0Xl6e2oMIhMCamJioe3sgf/z44U8S5e/fv0tERIRGx4xRGqmpqbK5uakGcQBhSoVyDA8P1/6oq6uT3t5eBUamFxYWJDMzUwG6JPnW398vxcXFUlhYqCt7d/IdOcskJNPS0qS0tNTrw/b2dklKSlJ/hjU/P9+fJAaJPnXP4IwyUSdiRB5nRPb09FQuLy/l4OBAQkNDtUwBZVlkXV9fl5SUFC1llyT67sSHe2aPbyOILTKVkZEhRUVF2kb0flNTkyQkJHikwRQZGelPEgLl5eXy6dMndWqlQmkmJydrSRkAgOF4ZmZGYmNjlRxOyLoR/fbtm2RnZ/+SSXRHR0elsrJSGhoahAqoqal5MfkJoteNPKRoIUoWnPior6/X7GKPgFDiUVFR/iRRTE9P1984U+SOPT8plB8OOFdUVChBIotjQFBi9JgB4+enoKBAAbiZBNDW1pYsLy/L6uqqLC0t6cvJ62mT78jh39apqSkNKI8cAaYVuru7FQ/2aZ2YmBh/kmQiLi5OywzDljX21D8Tgjjm5eS16+vr0z4ZGBiQ+fl5r4+QIfIQxY47LAisRgIf7jQZw4Ec5BobG7XveejI/snJidowW7W1tT9JmhGUAT43N6c/tPQQvWbGWckeUaep7THgjqCw4pySNkfIYIMeOjw89CVpOIKthsECZPZ5AJkWcNNFngx7PyFcIARIHpSwsDDNDiVHL/DdnGAE4PxOTk5OekQJEN/cwRk9HjD+9bD/kwP/L0gCEvD0E/VONiFt4FkBaWey09nZ6ZWIBcElgRMeAP48uLquzFvvPZKAMZIGBsJk18C7JLmjFJgEwjKGTOBAxmxhD9k/NfD1gqQBBZBlCzJMI2tniNkePQMfSIAz9pjsA7+/NVn8eSTf2tnftP8/yb8Z/f/S9z95D9HbkOeQswAAAABJRU5ErkJggg==)"
      ]
    },
    {
      "cell_type": "markdown",
      "metadata": {
        "id": "IYLm23xtfp7N"
      },
      "source": [
        "###関数の定義（Function definition）"
      ]
    },
    {
      "cell_type": "code",
      "metadata": {
        "id": "oBCXwmMIe2Ea"
      },
      "source": [
        "def my_function(x):\n",
        "  return(x**2 + 2*x +1)"
      ],
      "execution_count": null,
      "outputs": []
    },
    {
      "cell_type": "markdown",
      "metadata": {
        "id": "xL4NuqIOfxGJ"
      },
      "source": [
        "###ニュートン法の読み込み(Reading Newton's method)"
      ]
    },
    {
      "cell_type": "code",
      "metadata": {
        "colab": {
          "base_uri": "https://localhost:8080/"
        },
        "id": "G5tLemA1fvpY",
        "outputId": "b1c842d0-0b04-4578-fb27-a9737f998844"
      },
      "source": [
        "from scipy.optimize import newton\n",
        "\n",
        "newton(my_function,0)"
      ],
      "execution_count": null,
      "outputs": [
        {
          "output_type": "execute_result",
          "data": {
            "text/plain": [
              "-1.000"
            ]
          },
          "metadata": {
            "tags": []
          },
          "execution_count": 15
        }
      ]
    },
    {
      "cell_type": "markdown",
      "metadata": {
        "id": "S_ERH-NhgSQh"
      },
      "source": [
        "###最小値を求める（Find the minimum value）"
      ]
    },
    {
      "cell_type": "code",
      "metadata": {
        "id": "22-7MO4tgB93"
      },
      "source": [
        "import scipy"
      ],
      "execution_count": null,
      "outputs": []
    },
    {
      "cell_type": "code",
      "metadata": {
        "colab": {
          "base_uri": "https://localhost:8080/"
        },
        "id": "EQov0f3agyyV",
        "outputId": "95b543fd-f19d-43c7-b30e-8a328a5f36dc"
      },
      "source": [
        "minimize_scalar(my_function, method = 'Brent')"
      ],
      "execution_count": null,
      "outputs": [
        {
          "output_type": "execute_result",
          "data": {
            "text/plain": [
              "     fun: 0.0\n",
              "    nfev: 9\n",
              "     nit: 4\n",
              " success: True\n",
              "       x: -1.0000000000000002"
            ]
          },
          "metadata": {
            "tags": []
          },
          "execution_count": 17
        }
      ]
    },
    {
      "cell_type": "markdown",
      "metadata": {
        "id": "jXmJ7Ulug-ca"
      },
      "source": [
        "##問題１　　次の行列の行列式を求めなさい。（Find the determinant of the next matrix）\n",
        "\n",
        "![image.png](data:image/png;base64,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)"
      ]
    },
    {
      "cell_type": "code",
      "metadata": {
        "id": "f64AjQ8ig5Wc"
      },
      "source": [
        ""
      ],
      "execution_count": null,
      "outputs": []
    },
    {
      "cell_type": "markdown",
      "metadata": {
        "id": "s52SctgihP8B"
      },
      "source": [
        "##問題２　　問題１の行列について、逆行列、固有値と固有ベクトルを求めなさい。（Find the inverse matrix, eigenvalues and eigenvectors for the matrix in Problem 1.）"
      ]
    },
    {
      "cell_type": "code",
      "metadata": {
        "id": "-t6W5aEQhsiq"
      },
      "source": [
        ""
      ],
      "execution_count": null,
      "outputs": []
    },
    {
      "cell_type": "markdown",
      "metadata": {
        "id": "Za28lcZ2htNa"
      },
      "source": [
        "##問題３　　以下の関数が0となる解を、ニュートン法を用いて求めなさい。（Use Newton's method to find a solution in which the following function is 0.）\n",
        "\n",
        "![image.png](data:image/png;base64,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)"
      ]
    },
    {
      "cell_type": "code",
      "metadata": {
        "id": "Bkg3_MAlh-Nz"
      },
      "source": [
        ""
      ],
      "execution_count": null,
      "outputs": []
    }
  ]
}