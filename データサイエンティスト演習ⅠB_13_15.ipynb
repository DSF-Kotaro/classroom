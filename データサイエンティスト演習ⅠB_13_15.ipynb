{
  "nbformat": 4,
  "nbformat_minor": 0,
  "metadata": {
    "colab": {
      "name": "データサイエンティスト演習ⅠB 13-15.ipynb",
      "provenance": [],
      "collapsed_sections": [],
      "authorship_tag": "ABX9TyM2cv9947QQ3C++n7n6D25w",
      "include_colab_link": true
    },
    "kernelspec": {
      "name": "python3",
      "display_name": "Python 3"
    },
    "language_info": {
      "name": "python"
    }
  },
  "cells": [
    {
      "cell_type": "markdown",
      "metadata": {
        "id": "view-in-github",
        "colab_type": "text"
      },
      "source": [
        "<a href=\"https://colab.research.google.com/github/DSF-Kotaro/classroom/blob/main/%E3%83%87%E3%83%BC%E3%82%BF%E3%82%B5%E3%82%A4%E3%82%A8%E3%83%B3%E3%83%86%E3%82%A3%E3%82%B9%E3%83%88%E6%BC%94%E7%BF%92%E2%85%A0B_13_15.ipynb\" target=\"_parent\"><img src=\"https://colab.research.google.com/assets/colab-badge.svg\" alt=\"Open In Colab\"/></a>"
      ]
    },
    {
      "cell_type": "markdown",
      "metadata": {
        "id": "zivdy8qfgBhe"
      },
      "source": [
        "    1.) どのような人達が調査対象だったか？\n",
        "    2.) 調査結果は、どちらの候補の有利を示しているか？\n",
        "    3.) 態度未定の人達が世論調査に与えた影響は？\n",
        "    4.) また、態度未定の人たちの動向は？\n",
        "    5.) 投票者の気持ちは、時間ともにどう変化したか？\n",
        "    6.) 討論会の影響を世論調査の結果から読み取ることができるか？"
      ]
    },
    {
      "cell_type": "markdown",
      "metadata": {
        "id": "4cLQLJkogJ-1"
      },
      "source": [
        "##どのような人達が調査対象だったか？"
      ]
    },
    {
      "cell_type": "code",
      "metadata": {
        "id": "RfNeF_jVgksl"
      },
      "source": [
        "import pandas as pd\n",
        "from pandas import Series,DataFrame\n",
        "import numpy as np\n",
        "\n",
        "import matplotlib.pyplot as plt\n",
        "import seaborn as sns\n",
        "\n",
        "sns.set_style('whitegrid')\n",
        "\n",
        "import requests\n",
        "from io import StringIO"
      ],
      "execution_count": 2,
      "outputs": []
    },
    {
      "cell_type": "code",
      "metadata": {
        "colab": {
          "base_uri": "https://localhost:8080/",
          "height": 163
        },
        "id": "VezHzyiNhRpg",
        "outputId": "746e8bef-7cb4-4233-d0a3-4257c0679256"
      },
      "source": [
        "url = \"http://elections.huffingtonpost.com/pollster/2012-general-election-romney-vs-obama.csv\"\n",
        "\n",
        "source = requests.get(url).text\n",
        "source"
      ],
      "execution_count": 3,
      "outputs": [
        {
          "output_type": "execute_result",
          "data": {
            "application/vnd.google.colaboratory.intrinsic+json": {
              "type": "string"
            },
            "text/plain": [
              "'Pollster,Start Date,End Date,Entry Date/Time (ET),Number of Observations,Population,Mode,Obama,Romney,Undecided,Other,Pollster URL,Source URL,Partisan,Affiliation,Question Text,Question Iteration\\nPolitico/GWU/Battleground,2012-11-04,2012-11-05,2012-11-06T08:40:26Z,1000,Likely Voters,Live Phone,47.0,47.0,6.0,,https://elections.huffingtonpost.com/pollster/polls/politico-gwu-battleground-16674,http://www.politico.com/news/stories/1112/83380.html,Nonpartisan,None,,1\\nYouGov/Economist,2012-11-03,2012-11-05,2012-11-26T15:31:23Z,740,Likely Voters,Internet,49.0,47.0,3.0,,https://elections.huffingtonpost.com/pollster/polls/yougov-economist-16733,http://cdn.yougov.com/cumulus_uploads/document/6pkdh10fns/econToplines.pdf,Nonpartisan,None,,1\\nGravis Marketing,2012-11-03,2012-11-05,2012-11-06T09:22:02Z,872,Likely Voters,Automated Phone,48.0,48.0,4.0,,https://elections.huffingtonpost.com/pollster/polls/gravis-marketing-16681,http://www.gravispolls.com/2012/11/gravis-marketing-national-poll-shows.html,Nonpartisan,None,,1\\nIBD/TIPP,2012-11-03,2012-11-05,2012-11-06T08:51:48Z,712,Likely Voters,Live Phone,50.0,49.0,,1.0,https://elections.huffingtonpost.com/pollster/polls/ibd-tipp-16679,http://news.investors.com/special-report/508415-ibdtipp-poll.aspx,Nonpartisan,None,,1\\nRasmussen,2012-11-03,2012-11-05,2012-11-06T08:47:50Z,1500,Likely Voters,Automated Phone,48.0,49.0,,,https://elections.huffingtonpost.com/pollster/polls/rasmussen-16677,http://www.rasmussenreports.com/public_content/politics/obama_administration/daily_presidential_tracking_poll,Nonpartisan,None,,1\\nJZ Analytics/Newsmax,2012-11-03,2012-11-05,2012-11-06T07:38:41Z,1041,Likely Voters,Internet,47.0,47.0,6.0,,https://elections.huffingtonpost.com/pollster/polls/jz-analytics-newsmax-16670,http://www.jzanalytics.com/,Sponsor,Rep,,1\\nUPI/CVOTER,2012-11-03,2012-11-05,2012-11-05T18:30:15Z,3000,Likely Voters,Live Phone,49.0,48.0,,,https://elections.huffingtonpost.com/pollster/polls/upi-cvoter-16669,\"\",Nonpartisan,None,,1\\nIpsos/Reuters (Web),2012-11-01,2012-11-05,2012-11-05T16:12:48Z,4725,Likely Voters,Internet,48.0,46.0,4.0,2.0,https://elections.huffingtonpost.com/pollster/polls/ipsos-reuters-web-16655,http://big.assets.huffingtonpost.com/ipsos110512.pdf,Nonpartisan,None,,1\\nARG,2012-11-02,2012-11-04,2012-11-05T13:06:54Z,1200,Likely Voters,Live Phone,49.0,49.0,1.0,1.0,https://elections.huffingtonpost.com/pollster/polls/arg-16636,http://americanresearchgroup.com/pres2012/NA12.html,Nonpartisan,None,,1\\nPPP (D-Americans United for Change),2012-11-02,2012-11-04,2012-11-04T22:32:19Z,1200,Likely Voters,Automated Phone,50.0,48.0,3.0,,https://elections.huffingtonpost.com/pollster/polls/ppp-d-americans-united-for-change-16610,http://www.publicpolicypolling.com/pdf/2011/PPP_Release_TrackingPoll_113.pdf,Sponsor,Dem,,1\\nCNN,2012-11-02,2012-11-04,2012-11-04T20:16:09Z,693,Likely Voters,Live Phone,49.0,49.0,2.0,,https://elections.huffingtonpost.com/pollster/polls/cnn-16606,http://i2.cdn.turner.com/cnn/2012/images/11/04/top16.pdf,Nonpartisan,None,,1\\nABC/Post,2012-11-01,2012-11-04,2012-11-05T16:56:22Z,2345,Likely Voters,Live Phone,50.0,47.0,1.0,1.0,https://elections.huffingtonpost.com/pollster/polls/abc-post-16658,http://www.washingtonpost.com/blogs/the-fix/wp/2012/11/05/wapo-abc-tracking-poll-final-weekend-tally-is-obama-50-romney-47-still-a-margin-of-error-contest/,Nonpartisan,None,,1\\nGallup,2012-11-01,2012-11-04,2012-11-05T13:48:29Z,2551,Likely Voters,Live Phone,48.0,49.0,,,https://elections.huffingtonpost.com/pollster/polls/gallup-16641,http://www.gallup.com/poll/157817/election-2012-likely-voters-trial-heat-obama-romney.aspx,Nonpartisan,None,,1\\nDailyKos/SEIU/PPP (D),2012-11-01,2012-11-04,2012-11-05T13:31:31Z,1300,Likely Voters,Automated Phone,50.0,48.0,2.0,,https://elections.huffingtonpost.com/pollster/polls/dailykos-seiu-ppp-d-16640,http://www.dailykos.com/weeklypolling/2012/11/1,Sponsor,Dem,,1\\nMonmouth,2012-11-01,2012-11-04,2012-11-05T12:52:03Z,1417,Likely Voters,IVR/Live Phone,48.0,48.0,2.0,2.0,https://elections.huffingtonpost.com/pollster/polls/monmouth-16634,http://cms.monmouth.edu/assets/0/84/159/2147483694/c8af3c69-d7c7-4f41-9749-99d4fa948484.pdf,Nonpartisan,None,,1\\nDemocracy Corps (D),2012-11-01,2012-11-04,2012-11-05T09:41:50Z,1080,Likely Voters,Live Phone,49.0,45.0,,1.0,https://elections.huffingtonpost.com/pollster/polls/democracy-corps-d-16617,http://big.assets.huffingtonpost.com/demcorpstracker.pdf,Pollster,Dem,,1\\nAngus-Reid,2012-11-01,2012-11-03,2012-11-06T08:47:46Z,1019,Likely Voters,Internet,51.0,48.0,,1.0,https://elections.huffingtonpost.com/pollster/polls/angus-reid-16676,http://www.angus-reid.com/polls/47681/obama-holds-upper-hand-over-romney-in-national-u-s-race/,Nonpartisan,None,,1\\nNBC/WSJ,2012-11-01,2012-11-03,2012-11-04T09:12:21Z,1475,Likely Voters,Live Phone,48.0,47.0,3.0,2.0,https://elections.huffingtonpost.com/pollster/polls/nbc-wsj-16546,http://firstread.nbcnews.com/_news/2012/11/04/14924205-final-national-nbcwsj-poll-before-tuesday-obama-48-percent-romney-47-percent?lite,Nonpartisan,None,,1\\nYouGov,2012-10-31,2012-11-03,2012-11-04T16:24:50Z,36472,Likely Voters,Internet,49.0,47.0,3.0,,https://elections.huffingtonpost.com/pollster/polls/yougov-16573,http://cdn.yougov.com/r/1/ygTabs_november_likelyvoters_National.pdf,Nonpartisan,None,,1\\nPew,2012-10-31,2012-11-03,2012-11-04T15:46:59Z,2709,Likely Voters,Live Phone,48.0,45.0,,3.0,https://elections.huffingtonpost.com/pollster/polls/pew-16568,http://www.people-press.org/2012/11/04/obama-gains-edge-in-campaigns-final-days/,Nonpartisan,None,,1\\nUPI/CVOTER,2012-11-02,2012-11-02,2012-11-03T16:40:44Z,1074,Likely Voters,Live Phone,49.0,48.0,,,https://elections.huffingtonpost.com/pollster/polls/upi-cvoter-16520,\"\",Nonpartisan,None,,1\\nRasmussen,2012-10-31,2012-11-02,2012-11-03T10:54:09Z,1500,Likely Voters,Automated Phone,48.0,48.0,2.0,1.0,https://elections.huffingtonpost.com/pollster/polls/rasmussen-16498,http://www.rasmussenreports.com/public_content/archive/2012_presidential_election_matchups2,Nonpartisan,None,,1\\nPurple Strategies,2012-10-31,2012-11-01,2012-11-02T12:31:41Z,1000,Likely Voters,IVR/Online,47.0,46.0,7.0,,https://elections.huffingtonpost.com/pollster/polls/purple-strategies-16463,http://www.purplestrategies.com/wp-content/uploads/November110212_v4.pdf,Nonpartisan,None,,1\\nJZ Analytics/Newsmax,2012-10-30,2012-11-01,2012-11-02T22:57:27Z,1030,Likely Voters,Internet,48.0,46.0,6.0,,https://elections.huffingtonpost.com/pollster/polls/jz-analytics-newsmax-16483,http://www.jzanalytics.com/,Sponsor,Rep,,1\\nPPP (D-Americans United for Change),2012-10-30,2012-11-01,2012-11-02T05:46:11Z,1200,Likely Voters,Automated Phone,49.0,48.0,3.0,,https://elections.huffingtonpost.com/pollster/polls/ppp-d-americans-united-for-change-16442,http://www.publicpolicypolling.com/pdf/2011/PPP_Release_TrackingPoll_111.pdf,Sponsor,Dem,,1\\nPolitico/GWU/Battleground,2012-10-29,2012-11-01,2012-11-04T08:42:53Z,1000,Likely Voters,Live Phone,48.0,48.0,3.0,,https://elections.huffingtonpost.com/pollster/polls/politico-gwu-battleground-16544,https://mediarelations.gwu.edu/sites/mediarelations.gwu.edu/files/downloads/Questionnaire%20and%20Results_6.pdf,Nonpartisan,None,,1\\nUPI/CVOTER,2012-10-26,2012-11-01,2012-11-02T11:49:24Z,1094,Likely Voters,Live Phone,48.0,48.0,,,https://elections.huffingtonpost.com/pollster/polls/upi-cvoter-16459,http://www.scribd.com/doc/111916274/UPI-CVoter-International-tracking-poll-11-2,Nonpartisan,None,,1\\nWashington Times/JZ Analytics,2012-10-29,2012-10-31,2012-11-04T06:37:30Z,800,Likely Voters,Live Phone,49.0,49.0,,,https://elections.huffingtonpost.com/pollster/polls/washington-times-jz-analytics-16540,http://www.washingtontimes.com/news/2012/nov/1/poll-shows-obama-romney-in-a-dead-heat/,Nonpartisan,None,,1\\nABC/Post,2012-10-28,2012-10-31,2012-11-01T17:05:21Z,1293,Likely Voters,Live Phone,49.0,48.0,,,https://elections.huffingtonpost.com/pollster/polls/abc-post-16436,http://www.washingtonpost.com/blogs/the-fix/wp/2012/11/01/wapo-abc-tracking-poll-presidential-contest-as-close-as-close-can-be/,Nonpartisan,None,,1\\nIpsos/Reuters (Web),2012-10-27,2012-10-31,2012-10-31T14:56:53Z,4085,Likely Voters,Internet,47.0,46.0,4.0,3.0,https://elections.huffingtonpost.com/pollster/polls/ipsos-reuters-web-16379,http://big.assets.huffingtonpost.com/ipsos103112.pdf,Nonpartisan,None,,1\\nFOX,2012-10-28,2012-10-30,2012-10-31T18:19:21Z,1128,Likely Voters,Live Phone,46.0,46.0,6.0,1.0,https://elections.huffingtonpost.com/pollster/polls/fox-16385,http://www.foxnews.com/politics/interactive/2012/10/31/fox-news-poll-race-for-white-house-dead-heat/,Nonpartisan,None,,1\\nRasmussen,2012-10-28,2012-10-30,2012-10-31T10:39:13Z,1500,Likely Voters,Automated Phone,47.0,49.0,,,https://elections.huffingtonpost.com/pollster/polls/rasmussen-16363,http://www.rasmussenreports.com/public_content/archive/2012_presidential_election_matchups2,Nonpartisan,None,,1\\nHigh Point University,2012-10-22,2012-10-30,2012-11-01T13:19:44Z,805,Registered Voters,Live Phone,46.0,43.0,11.0,1.0,https://elections.huffingtonpost.com/pollster/polls/high-point-university-16425,http://acme.highpoint.edu/~mkifer/src/19release.pdf,Nonpartisan,None,,1\\nJZ Analytics/Newsmax,2012-10-27,2012-10-29,2012-10-30T17:16:32Z,1073,Likely Voters,Internet,46.0,47.0,7.0,,https://elections.huffingtonpost.com/pollster/polls/jz-analytics-newsmax-16339,http://www.jzanalytics.com/,Sponsor,Rep,,1\\nYouGov/Economist,2012-10-26,2012-10-28,2012-10-31T10:50:02Z,688,Likely Voters,Internet,48.0,47.0,1.0,,https://elections.huffingtonpost.com/pollster/polls/yougov-economist-16365,http://today.yougov.com/news/2012/10/31/hurricane-sandy-obama-one/,Nonpartisan,None,,1\\nPPP (D-Americans United for Change),2012-10-26,2012-10-28,2012-10-29T09:34:59Z,1200,Likely Voters,Automated Phone,48.0,49.0,3.0,,https://elections.huffingtonpost.com/pollster/polls/ppp-d-americans-united-for-change-16259,http://www.publicpolicypolling.com/pdf/2011/102610271028TrackerResults.pdf,Sponsor,Dem,,1\\nUnited Technologies/National Journal,2012-10-25,2012-10-28,2012-10-31T15:01:15Z,713,Likely Voters,Live Phone,50.0,45.0,,,https://elections.huffingtonpost.com/pollster/polls/united-technologies-national-journal-16380,http://www.nationaljournal.com/daily/anger-aside-voters-favor-d-c-status-quo-20121031,Nonpartisan,None,,1\\nCBS/Times,2012-10-25,2012-10-28,2012-10-30T22:58:00Z,563,Likely Voters,Live Phone,48.0,47.0,3.0,1.0,https://elections.huffingtonpost.com/pollster/polls/cbs-times-16346,http://big.assets.huffingtonpost.com/OctQuin.pdf,Nonpartisan,None,,1\\nDailyKos/SEIU/PPP (D),2012-10-25,2012-10-28,2012-10-30T11:31:10Z,1400,Likely Voters,Automated Phone,49.0,49.0,3.0,,https://elections.huffingtonpost.com/pollster/polls/dailykos-seiu-ppp-d-16322,http://www.dailykos.com/weeklypolling/2012/10/25,Sponsor,Dem,,1\\nARG,2012-10-25,2012-10-28,2012-10-29T14:35:29Z,1200,Likely Voters,Live Phone,48.0,48.0,3.0,1.0,https://elections.huffingtonpost.com/pollster/polls/arg-16284,http://americanresearchgroup.com/pres2012/NA12.html,Nonpartisan,None,,1\\nPew,2012-10-24,2012-10-28,2012-10-29T13:56:16Z,1495,Likely Voters,Live Phone,47.0,47.0,6.0,,https://elections.huffingtonpost.com/pollster/polls/pew-16283,http://www.people-press.org/2012/10/29/presidential-race-dead-even-romney-maintains-turnout-edge/,Nonpartisan,None,,1\\nGallup,2012-10-22,2012-10-28,2012-10-29T12:59:56Z,2700,Likely Voters,Live Phone,46.0,51.0,,,https://elections.huffingtonpost.com/pollster/polls/gallup-16279,http://www.gallup.com/poll/157817/election-2012-likely-voters-trial-heat-obama-romney.aspx,Nonpartisan,None,,1\\nRasmussen,2012-10-25,2012-10-27,2012-10-28T09:31:47Z,1500,Likely Voters,Automated Phone,47.0,50.0,,,https://elections.huffingtonpost.com/pollster/polls/rasmussen-16236,http://www.rasmussenreports.com/public_content/archive/2012_presidential_election_matchups2,Nonpartisan,None,,1\\nABC/Post,2012-10-24,2012-10-27,2012-10-29T06:28:26Z,1278,Likely Voters,Live Phone,48.0,49.0,1.0,2.0,https://elections.huffingtonpost.com/pollster/polls/abc-post-16257,http://www.washingtonpost.com/blogs/the-fix/wp/2012/10/29/wapo-abc-track-49-romney-48-obama-three-days-running/,Nonpartisan,None,,1\\nIBD/TIPP,2012-10-22,2012-10-27,2012-10-28T14:53:09Z,942,Likely Voters,Live Phone,45.0,44.0,7.0,,https://elections.huffingtonpost.com/pollster/polls/ibd-tipp-16244,http://news.investors.com/special-report/508415-ibdtipp-poll.aspx,Nonpartisan,None,,1\\nIpsos/Reuters (Web),2012-10-22,2012-10-26,2012-10-26T15:08:31Z,1237,Likely Voters,Internet,47.0,46.0,5.0,3.0,https://elections.huffingtonpost.com/pollster/polls/ipsos-reuters-web-16209,http://big.assets.huffingtonpost.com/ipsos102612.pdf,Nonpartisan,None,,1\\nNPR,2012-10-23,2012-10-25,2012-10-30T09:17:17Z,1000,Likely Voters,Live Phone,47.0,48.0,5.0,1.0,https://elections.huffingtonpost.com/pollster/polls/npr-16310,http://media.npr.org/documents/2012/oct/NPROctpoll.pdf,Pollster,Dem,,1\\nPPP (D-Americans United for Change),2012-10-23,2012-10-25,2012-10-26T06:15:25Z,1200,Likely Voters,Automated Phone,48.0,48.0,3.0,,https://elections.huffingtonpost.com/pollster/polls/ppp-d-americans-united-for-change-16177,http://www.publicpolicypolling.com/pdf/2011/102310241025Results.pdf,Sponsor,Dem,,1\\nPolitico/GWU/Battleground,2012-10-22,2012-10-25,2012-10-29T09:14:17Z,1000,Likely Voters,Live Phone,49.0,48.0,3.0,,https://elections.huffingtonpost.com/pollster/polls/politico-gwu-battleground-16258,http://images.politico.com/global/2012/10/politico_gwbgp_oct29_questionnaire.html,Nonpartisan,None,,1\\nUPI/CVOTER,2012-10-19,2012-10-25,2012-10-27T10:03:41Z,1203,Likely Voters,Live Phone,48.0,48.0,,,https://elections.huffingtonpost.com/pollster/polls/upi-cvoter-16216,http://big.assets.huffingtonpost.com/upi102612.pdf,Nonpartisan,None,,1\\nRasmussen,2012-10-22,2012-10-24,2012-10-25T09:32:18Z,1500,Likely Voters,Automated Phone,47.0,50.0,,,https://elections.huffingtonpost.com/pollster/polls/rasmussen-16130,http://www.rasmussenreports.com/public_content/archive/2012_presidential_election_matchups2,Nonpartisan,None,,1\\nABC/Post,2012-10-20,2012-10-23,2012-10-24T17:07:36Z,1394,Likely Voters,Live Phone,48.0,49.0,,,https://elections.huffingtonpost.com/pollster/polls/abc-post-16125,http://www.washingtonpost.com/blogs/the-fix/wp/2012/10/24/post-abc-tracking-poll-obama-wins-final-debate-romney-gains-supporters/,Nonpartisan,None,,1\\nAP-GfK,2012-10-19,2012-10-23,2012-10-25T10:14:51Z,839,Likely Voters,Live Phone,45.0,47.0,8.0,,https://elections.huffingtonpost.com/pollster/polls/ap-gfk-16135,http://ap-gfkpoll.com/main/wp-content/uploads/2012/10/AP-GfK-Poll-October-2012-Topline_POLITICS.pdf,Nonpartisan,None,,1\\nPPP (D-Americans United for Change),2012-10-20,2012-10-22,2012-10-23T11:16:02Z,1200,Likely Voters,Automated Phone,47.0,49.0,4.0,,https://elections.huffingtonpost.com/pollster/polls/ppp-d-americans-united-for-change-16072,http://www.publicpolicypolling.com/pdf/2011/102010211022TrackingPoll.pdf,Sponsor,Dem,,1\\nYouGov/Economist,2012-10-20,2012-10-22,2012-10-23T10:27:03Z,803,Likely Voters,Internet,48.0,46.0,2.0,,https://elections.huffingtonpost.com/pollster/polls/yougov-economist-16066,http://cdn.yougov.com/cumulus_uploads/document/75qcgwj577/econToplines.pdf,Nonpartisan,None,,1\\nRasmussen,2012-10-19,2012-10-21,2012-10-22T09:58:53Z,1500,Likely Voters,Automated Phone,47.0,49.0,2.0,2.0,https://elections.huffingtonpost.com/pollster/polls/rasmussen-16016,http://www.rasmussenreports.com/public_content/archive/2012_presidential_election_matchups2,Nonpartisan,None,,1\\nDailyKos/SEIU/PPP (D),2012-10-18,2012-10-21,2012-10-23T12:25:24Z,1300,Likely Voters,Automated Phone,48.0,48.0,4.0,,https://elections.huffingtonpost.com/pollster/polls/dailykos-seiu-ppp-d-16074,http://www.dailykos.com/weeklypolling/2012/10/18,Sponsor,Dem,,1\\nARG,2012-10-18,2012-10-21,2012-10-22T12:59:26Z,1200,Likely Voters,Live Phone,47.0,49.0,3.0,1.0,https://elections.huffingtonpost.com/pollster/polls/arg-16025,http://americanresearchgroup.com/pres2012/NA12.html,Nonpartisan,None,,1\\nDemocracy Corps (D),2012-10-18,2012-10-21,2012-10-22T12:40:46Z,1000,Likely Voters,Live Phone,49.0,46.0,3.0,2.0,https://elections.huffingtonpost.com/pollster/polls/democracy-corps-d-16024,http://www.democracycorps.com/attachments/article/918/dcor.ecn.fq.102112.pol.v2.pdf,Pollster,Dem,,1\\nMonmouth,2012-10-18,2012-10-21,2012-10-22T12:39:44Z,1402,Likely Voters,IVR/Live Phone,45.0,48.0,5.0,3.0,https://elections.huffingtonpost.com/pollster/polls/monmouth-16023,http://www.monmouth.edu/assets/0/84/159/2147483694/0e2e970e-a544-4f4d-8659-6233705b8ae7.pdf,Nonpartisan,None,,1\\nIBD/TIPP,2012-10-16,2012-10-21,2012-10-22T14:07:47Z,885,Likely Voters,Live Phone,47.0,43.0,7.0,,https://elections.huffingtonpost.com/pollster/polls/ibd-tipp-16038,http://news.investors.com/special-report/508415-ibdtipp-poll.aspx,Nonpartisan,None,,1\\nGallup,2012-10-15,2012-10-21,2012-10-22T13:01:44Z,2700,Likely Voters,Live Phone,45.0,51.0,,,https://elections.huffingtonpost.com/pollster/polls/gallup-16026,http://www.gallup.com/poll/157817/election-2012-likely-voters-trial-heat-obama-romney.aspx,Nonpartisan,None,,1\\nWashington Times/JZ Analytics,2012-10-18,2012-10-20,2012-10-22T06:31:31Z,800,Likely Voters,Live Phone,50.0,47.0,3.0,,https://elections.huffingtonpost.com/pollster/polls/washington-times-jz-analytics-16013,http://www.washingtontimes.com/news/2012/oct/21/obama-leads-in-latest-poll-as-romneyloses-bounce/,Nonpartisan,None,,1\\nCBS,2012-10-17,2012-10-20,2012-10-22T23:10:38Z,790,Likely Voters,Live Phone,48.0,46.0,5.0,1.0,https://elections.huffingtonpost.com/pollster/polls/cbs-16057,http://www.cbsnews.com/8301-250_162-57537588/poll-ahead-of-third-debate-obama-leads-on-foreign-policy/?pageNum=2&tag=page,Nonpartisan,None,,1\\nNBC/WSJ,2012-10-17,2012-10-20,2012-10-21T10:08:51Z,816,Likely Voters,Live Phone,47.0,47.0,4.0,3.0,https://elections.huffingtonpost.com/pollster/polls/nbc-wsj-16000,http://msnbcmedia.msn.com/i/MSNBC/Sections/A_Politics/nbc_oct_poll.pdf,Nonpartisan,None,,1\\nIpsos/Reuters (Web),2012-10-16,2012-10-20,2012-10-21T08:42:23Z,1368,Likely Voters,Internet,46.0,45.0,6.0,2.0,https://elections.huffingtonpost.com/pollster/polls/ipsos-reuters-web-15996,http://big.assets.huffingtonpost.com/Ipsos102012.pdf,Nonpartisan,None,,1\\nPPP (D-Americans United for Change),2012-10-17,2012-10-19,2012-10-20T08:55:15Z,1200,Likely Voters,Automated Phone,49.0,47.0,4.0,,https://elections.huffingtonpost.com/pollster/polls/ppp-d-americans-united-for-change-15976,http://www.publicpolicypolling.com/pdf/2011/PPP_Release_TrackingPoll_1019Evening.pdf,Sponsor,Dem,,1\\nGravis Marketing,2012-10-18,2012-10-18,2012-10-19T15:46:03Z,805,Likely Voters,Automated Phone,44.0,46.0,10.0,,https://elections.huffingtonpost.com/pollster/polls/gravis-marketing-15965,http://www.gravispolls.com/2012/10/national-presidential-pollromney-46.html,Nonpartisan,None,,1\\nRasmussen,2012-10-16,2012-10-18,2012-10-19T10:14:58Z,1500,Likely Voters,Automated Phone,48.0,48.0,,,https://elections.huffingtonpost.com/pollster/polls/rasmussen-15944,http://www.rasmussenreports.com/public_content/archive/2012_presidential_election_matchups2,Nonpartisan,None,,1\\nPolitico/GWU/Battleground,2012-10-14,2012-10-18,2012-10-22T06:21:29Z,1000,Likely Voters,Live Phone,47.0,49.0,4.0,,https://elections.huffingtonpost.com/pollster/polls/politico-gwu-battleground-16012,http://images.politico.com/global/2012/10/politico_gwbgp_oct22_questionnaire.html,Nonpartisan,None,,1\\nUPI/CVOTER,2012-10-11,2012-10-18,2012-10-20T12:58:20Z,1254,Likely Voters,Live Phone,46.0,48.0,,,https://elections.huffingtonpost.com/pollster/polls/upi-cvoter-15987,http://www.upi.com/Top_News/US/2012/10/20/UPI-Poll-Obama-cuts-into-Romney-lead/UPI-19991350739458/,Nonpartisan,None,,1\\nUConn/Hartford Courant,2012-10-11,2012-10-16,2012-10-19T12:23:25Z,1023,Likely Voters,Live Phone,48.0,45.0,6.0,1.0,https://elections.huffingtonpost.com/pollster/polls/uconn-hartford-courant-15952,http://articles.courant.com/2012-10-19/news/hc-president-poll-uconn-courant-20121018_1_hartford-courant-poll-gender-gap-new-hampshire-survey-center,Nonpartisan,None,,1\\nYouGov/Economist,2012-10-13,2012-10-15,2012-10-17T11:40:18Z,826,Likely Voters,Internet,47.0,46.0,3.0,,https://elections.huffingtonpost.com/pollster/polls/yougov-economist-15873,http://today.yougov.com/news/2012/10/17/likely-voters-give-president-one-point-edge/,Nonpartisan,None,,1\\nRasmussen,2012-10-13,2012-10-15,2012-10-16T10:13:05Z,1500,Likely Voters,Automated Phone,47.0,49.0,,,https://elections.huffingtonpost.com/pollster/polls/rasmussen-15817,http://www.rasmussenreports.com/public_content/archive/2012_presidential_election_matchups2,Nonpartisan,None,,1\\nIpsos/Reuters (Web),2012-10-11,2012-10-15,2012-10-15T15:27:24Z,1864,Likely Voters,Internet,47.0,45.0,7.0,3.0,https://elections.huffingtonpost.com/pollster/polls/ipsos-reuters-web-15806,http://big.assets.huffingtonpost.com/ipsos101512.pdf,Nonpartisan,None,,1\\nIBD/TIPP,2012-10-10,2012-10-15,2012-10-16T14:39:56Z,931,Likely Voters,Live Phone,47.0,46.0,5.0,,https://elections.huffingtonpost.com/pollster/polls/ibd-tipp-15832,http://news.investors.com/special-report/508415-ibdtipp-poll.aspx#ixzz29UJMj9LB,Nonpartisan,None,,1\\nDailyKos/SEIU/PPP (D),2012-10-12,2012-10-14,2012-10-16T11:29:33Z,1600,Likely Voters,Automated Phone,46.0,50.0,4.0,,https://elections.huffingtonpost.com/pollster/polls/dailykos-seiu-ppp-d-15824,http://www.dailykos.com/weeklypolling/2012/10/12,Sponsor,Dem,,1\\nARG,2012-10-11,2012-10-14,2012-10-15T10:55:35Z,1200,Likely Voters,Live Phone,47.0,48.0,4.0,1.0,https://elections.huffingtonpost.com/pollster/polls/arg-15782,http://americanresearchgroup.com/pres2012/NA12-5.html,Nonpartisan,None,,1\\nGallup,2012-10-08,2012-10-14,2012-10-15T13:01:18Z,2700,Likely Voters,Live Phone,47.0,49.0,,,https://elections.huffingtonpost.com/pollster/polls/gallup-15796,http://www.gallup.com/poll/157817/election-2012-likely-voters-trial-heat-obama-romney.aspx,Nonpartisan,None,,1\\nJZ Analytics/Newsmax,2012-10-12,2012-10-13,2012-10-14T22:53:08Z,863,Likely Voters,Internet,47.0,44.0,9.0,,https://elections.huffingtonpost.com/pollster/polls/jz-analytics-newsmax-15776,http://www.forbes.com/sites/johnzogby/2012/10/14/brand-new-nationwide-poll-obama-47-romney-44/,Sponsor,Rep,,1\\nABC/Post,2012-10-10,2012-10-13,2012-10-15T00:34:14Z,923,Likely Voters,Live Phone,49.0,46.0,2.0,2.0,https://elections.huffingtonpost.com/pollster/polls/abc-post-15778,http://www.langerresearch.com/uploads/1142a12012ElectionUpdate.pdf,Nonpartisan,None,,1\\nRasmussen,2012-10-10,2012-10-12,2012-10-13T13:42:21Z,1500,Likely Voters,Automated Phone,48.0,49.0,,,https://elections.huffingtonpost.com/pollster/polls/rasmussen-15761,http://www.rasmussenreports.com/public_content/archive/2012_presidential_election_matchups2,Nonpartisan,None,,1\\nPolitico/GWU/Battleground,2012-10-07,2012-10-11,2012-10-15T10:21:23Z,1000,Likely Voters,Live Phone,49.0,48.0,3.0,,https://elections.huffingtonpost.com/pollster/polls/politico-gwu-battleground-15781,http://www.politico.com/news/stories/1012/82389.html,Nonpartisan,None,,1\\nMonmouth,2012-10-08,2012-10-10,2012-10-11T12:49:24Z,1360,Likely Voters,IVR/Live Phone,46.0,47.0,5.0,2.0,https://elections.huffingtonpost.com/pollster/polls/monmouth-15702,http://www.monmouth.edu/assets/0/84/159/2147483694/f84548f8-7dcc-4d33-9b5c-56d2e18df7f5.pdf,Nonpartisan,None,,1\\nIpsos/Reuters (Web),2012-10-06,2012-10-10,2012-10-10T15:54:27Z,1027,Likely Voters,Internet,44.0,45.0,7.0,3.0,https://elections.huffingtonpost.com/pollster/polls/ipsos-reuters-web-15669,http://www.reuters.com/article/2012/10/10/us-usa-campaign-poll-idUSBRE8991FR20121010,Nonpartisan,None,,1\\nUPI/CVOTER,2012-10-04,2012-10-10,2012-10-11T10:19:58Z,1110,Likely Voters,Live Phone,46.0,49.0,,,https://elections.huffingtonpost.com/pollster/polls/upi-cvoter-15686,http://big.assets.huffingtonpost.com/UPICvoter1012.pdf,Nonpartisan,None,,1\\nFOX,2012-10-07,2012-10-09,2012-10-10T18:01:05Z,1092,Likely Voters,Live Phone,45.0,46.0,7.0,2.0,https://elections.huffingtonpost.com/pollster/polls/fox-15675,http://www.foxnews.com/politics/interactive/2012/10/10/fox-news-poll-race-shifts-toward-romney-after-debate/,Nonpartisan,None,,1\\nRasmussen,2012-10-07,2012-10-09,2012-10-10T09:55:44Z,1500,Likely Voters,Automated Phone,47.0,48.0,4.0,1.0,https://elections.huffingtonpost.com/pollster/polls/rasmussen-15643,http://www.rasmussenreports.com/public_content/archive/2012_presidential_election_matchups2,Nonpartisan,None,,1\\nIBD/TIPP,2012-10-04,2012-10-09,2012-10-10T14:21:59Z,757,Likely Voters,Live Phone,44.0,49.0,7.0,,https://elections.huffingtonpost.com/pollster/polls/ibd-tipp-15663,http://www.tipponline.com/home/tracking-poll/todays-daily-tracking-poll,Nonpartisan,None,,1\\nYouGov/Economist,2012-10-06,2012-10-08,2012-10-10T10:55:41Z,763,Likely Voters,Internet,49.0,46.0,2.0,,https://elections.huffingtonpost.com/pollster/polls/yougov-economist-15646,http://cdn.yougov.com/cumulus_uploads/document/oskexcz53d/econToplines.pdf,Nonpartisan,None,,1\\nARG,2012-10-05,2012-10-08,2012-10-09T11:49:33Z,1200,Likely Voters,Live Phone,47.0,48.0,4.0,1.0,https://elections.huffingtonpost.com/pollster/polls/arg-15626,http://americanresearchgroup.com/pres2012/NA12.html,Nonpartisan,None,,1\\nWashington Times/JZ Analytics,2012-10-05,2012-10-07,2012-10-09T11:46:56Z,800,Likely Voters,Live Phone,45.0,45.0,10.0,,https://elections.huffingtonpost.com/pollster/polls/washington-times-jz-analytics-15625,http://www.jzanalytics.com/DATA/10_08_12_TWT_ZOGBY_LV_POLL,Nonpartisan,None,,1\\nDailyKos/SEIU/PPP (D),2012-10-04,2012-10-07,2012-10-09T10:17:02Z,1300,Likely Voters,Automated Phone,47.0,49.0,4.0,,https://elections.huffingtonpost.com/pollster/polls/dailykos-seiu-ppp-d-15619,http://www.dailykos.com/weeklypolling/2012/10/4,Sponsor,Dem,,1\\nPew,2012-10-04,2012-10-07,2012-10-08T16:03:13Z,1112,Likely Voters,Live Phone,45.0,49.0,6.0,,https://elections.huffingtonpost.com/pollster/polls/pew-15602,http://www.people-press.org/2012/10/08/romneys-strong-debate-performance-erases-obamas-lead/,Nonpartisan,None,,1\\nGallup,2012-10-01,2012-10-07,2012-10-08T12:40:22Z,3050,Registered Voters,Live Phone,50.0,45.0,,,https://elections.huffingtonpost.com/pollster/polls/gallup-15596,http://www.gallup.com/poll/150743/Obama-Romney.aspx,Nonpartisan,None,,1\\nRasmussen,2012-10-04,2012-10-06,2012-10-07T09:31:18Z,1500,Likely Voters,Automated Phone,47.0,49.0,,,https://elections.huffingtonpost.com/pollster/polls/rasmussen-15571,http://www.rasmussenreports.com/public_content/archive/2012_presidential_election_matchups2,Nonpartisan,None,,1\\nIpsos/Reuters (Web),2012-10-01,2012-10-05,2012-10-05T16:32:10Z,1434,Likely Voters,Internet,46.0,44.0,,,https://elections.huffingtonpost.com/pollster/polls/ipsos-reuters-web-15558,http://www.reuters.com/article/2012/10/05/us-usa-campaign-poll-idUSBRE8931E420121005,Nonpartisan,None,,1\\nClarus,2012-10-04,2012-10-04,2012-10-06T08:47:11Z,590,Likely Voters,Live Phone,46.0,47.0,7.0,,https://elections.huffingtonpost.com/pollster/polls/clarus-15562,http://clarusrg.com/content/october-5-2012,Nonpartisan,None,,1\\nPolitico/GWU/Battleground,2012-10-01,2012-10-04,2012-10-08T10:57:02Z,1000,Likely Voters,Live Phone,49.0,48.0,3.0,,https://elections.huffingtonpost.com/pollster/polls/politico-gwu-battleground-15584,http://www.politico.com/news/stories/1012/82122.html,Nonpartisan,None,,1\\nRasmussen,2012-10-01,2012-10-03,2012-10-04T09:24:59Z,1500,Likely Voters,Automated Phone,49.0,47.0,,,https://elections.huffingtonpost.com/pollster/polls/rasmussen-15511,http://www.rasmussenreports.com/public_content/archive/2012_presidential_election_matchups2,Nonpartisan,None,,1\\nClarus,2012-10-02,2012-10-02,2012-10-06T08:46:17Z,590,Likely Voters,Live Phone,49.0,45.0,6.0,,https://elections.huffingtonpost.com/pollster/polls/clarus-15561,http://clarusrg.com/content/october-5-2012,Nonpartisan,None,,1\\nMcLaughlin (R-American Conservative Union),2012-09-30,2012-10-02,2012-10-05T11:06:48Z,1000,Likely Voters,Live Phone,49.0,45.0,6.0,,https://elections.huffingtonpost.com/pollster/polls/mclaughlin-r-american-conservative-union-15543,http://mclaughlinonline.com/lib/sitefiles/National_ACU_10-3-12_Presentation_ACU.pdf,Sponsor,Rep,,1\\nYouGov/Economist,2012-09-29,2012-10-01,2012-10-04T09:38:02Z,785,Likely Voters,Internet,49.0,44.0,2.0,,https://elections.huffingtonpost.com/pollster/polls/yougov-economist-15515,http://cdn.yougov.com/cumulus_uploads/document/j7g41wxzsz/econToplines.pdf,Nonpartisan,None,,1\\nCNN,2012-09-28,2012-09-30,2012-10-01T15:43:53Z,783,Likely Voters,Live Phone,50.0,47.0,4.0,,https://elections.huffingtonpost.com/pollster/polls/cnn-15442,http://i2.cdn.turner.com/cnn/2012/images/10/01/rel11a.pdf,Nonpartisan,None,,1\\nRasmussen,2012-09-28,2012-09-30,2012-10-01T09:55:58Z,1500,Likely Voters,Automated Phone,48.0,45.0,,,https://elections.huffingtonpost.com/pollster/polls/rasmussen-15423,http://www.rasmussenreports.com/public_content/archive/2012_presidential_election_matchups2,Nonpartisan,None,,1\\nUnited Technologies/National Journal,2012-09-27,2012-09-30,2012-10-03T07:05:17Z,789,Likely Voters,Live Phone,47.0,47.0,,,https://elections.huffingtonpost.com/pollster/polls/united-technologies-national-journal-15484,http://www.nationaljournal.com/daily/obama-romney-tied-among-likely-voters-20121002,Nonpartisan,None,,1\\nDailyKos/SEIU/PPP (D),2012-09-27,2012-09-30,2012-10-02T13:58:49Z,1100,Likely Voters,Automated Phone,49.0,45.0,6.0,,https://elections.huffingtonpost.com/pollster/polls/dailykos-seiu-ppp-d-15473,http://elections.dailykos.com/weeklypolling/2012/9/27,Sponsor,Dem,,1\\nARG,2012-09-27,2012-09-30,2012-10-01T11:55:50Z,1200,Likely Voters,Live Phone,49.0,46.0,5.0,,https://elections.huffingtonpost.com/pollster/polls/arg-15432,http://americanresearchgroup.com/,Nonpartisan,None,,1\\nNPR,2012-09-26,2012-09-30,2012-10-03T11:26:31Z,800,Likely Voters,Live Phone,51.0,44.0,3.0,2.0,https://elections.huffingtonpost.com/pollster/polls/npr-15489,http://media.npr.org/documents/2012/oct/nprpoll.pdf,Pollster,Dem,,1\\nNBC/WSJ,2012-09-26,2012-09-30,2012-10-02T21:12:44Z,832,Likely Voters,Live Phone,49.0,46.0,3.0,2.0,https://elections.huffingtonpost.com/pollster/polls/nbc-wsj-15480,http://msnbcmedia.msn.com/i/MSNBC/Sections/A_Politics/_Today_Stories_Teases/NBCNews-WSJPoll_9-12.pdf,Nonpartisan,None,,1\\nQuinnipiac,2012-09-25,2012-09-30,2012-10-02T06:11:10Z,1912,Likely Voters,Live Phone,49.0,45.0,4.0,3.0,https://elections.huffingtonpost.com/pollster/polls/quinnipiac-15449,http://www.quinnipiac.edu/institutes-and-centers/polling-institute/national/release-detail?ReleaseID=1801,Nonpartisan,None,,1\\nGallup,2012-09-24,2012-09-30,2012-10-01T12:53:04Z,3050,Registered Voters,Live Phone,49.0,45.0,,,https://elections.huffingtonpost.com/pollster/polls/gallup-15438,http://www.gallup.com/poll/150743/Obama-Romney.aspx,Nonpartisan,None,,1\\nWashington Times/JZ Analytics,2012-09-27,2012-09-29,2012-10-02T06:30:23Z,800,Likely Voters,Live Phone,50.0,41.0,9.0,,https://elections.huffingtonpost.com/pollster/polls/washington-times-jz-analytics-15450,http://www.jzanalytics.com/,Nonpartisan,None,,1\\nABC/Post,2012-09-26,2012-09-29,2012-10-01T06:33:58Z,813,Likely Voters,Live Phone,49.0,47.0,3.0,,https://elections.huffingtonpost.com/pollster/polls/abc-post-15419,http://www.langerresearch.com/uploads/1141a1IntotheDebates.pdf,Nonpartisan,None,,1\\nUPI/CVOTER,2012-09-23,2012-09-29,2012-10-01T12:42:59Z,855,Likely Voters,Live Phone,49.0,46.0,,,https://elections.huffingtonpost.com/pollster/polls/upi-cvoter-15437,http://www.scribd.com/doc/108575814/UPI-CVoter-Tracking-Poll-10-1,Nonpartisan,None,,1\\nIpsos/Reuters (Web),2012-09-24,2012-09-28,2012-09-28T17:55:34Z,855,Likely Voters,Internet,47.0,42.0,8.0,3.0,https://elections.huffingtonpost.com/pollster/polls/ipsos-reuters-web-15403,http://ipsos-na.com/download/pr.aspx?id=12032,Nonpartisan,None,,1\\nRasmussen,2012-09-25,2012-09-27,2012-09-28T09:53:29Z,1500,Likely Voters,Automated Phone,47.0,46.0,4.0,3.0,https://elections.huffingtonpost.com/pollster/polls/rasmussen-15373,http://www.rasmussenreports.com/public_content/archive/2012_presidential_election_matchups2,Nonpartisan,None,,1\\nMerriman,2012-09-24,2012-09-27,2012-10-02T11:50:43Z,981,Registered Voters,Automated Phone,46.0,43.0,8.0,3.0,https://elections.huffingtonpost.com/pollster/polls/merriman-15467,http://www.merrimanriver.com/files/MRG%202012%20Presidential%20Poll.pdf,Nonpartisan,None,,1\\nPolitico/GWU/Battleground,2012-09-24,2012-09-27,2012-10-01T06:38:39Z,1000,Likely Voters,Live Phone,49.0,47.0,,,https://elections.huffingtonpost.com/pollster/polls/politico-gwu-battleground-15420,http://www.politico.com/news/stories/0912/81830.html?hp=l1,Nonpartisan,None,,1\\nFOX,2012-09-24,2012-09-26,2012-09-27T22:29:50Z,1092,Likely Voters,Live Phone,48.0,43.0,7.0,1.0,https://elections.huffingtonpost.com/pollster/polls/fox-15368,http://www.foxnews.com/politics/interactive/2012/09/27/fox-news-poll-voters-want-change-president-to-stand-up-for-free-speech/,Nonpartisan,None,,1\\nYouGov/Economist,2012-09-22,2012-09-24,2012-09-26T11:59:24Z,943,Registered Voters,Internet,48.0,43.0,3.0,,https://elections.huffingtonpost.com/pollster/polls/yougov-economist-15321,http://cdn.yougov.com/cumulus_uploads/document/dqvatpi3fj/econToplines.pdf,Nonpartisan,None,,1\\nRasmussen,2012-09-22,2012-09-24,2012-09-25T09:40:34Z,1500,Likely Voters,Automated Phone,47.0,46.0,4.0,3.0,https://elections.huffingtonpost.com/pollster/polls/rasmussen-15284,http://www.rasmussenreports.com/public_content/archive/2012_presidential_election_matchups2,Nonpartisan,None,,1\\nBloomberg,2012-09-21,2012-09-24,2012-09-26T06:42:19Z,789,Likely Voters,Live Phone,49.0,43.0,7.0,1.0,https://elections.huffingtonpost.com/pollster/polls/bloomberg-15316,http://media.bloomberg.com/bb/avfile/rhMzOK9Gexhs,Nonpartisan,None,,1\\nDailyKos/SEIU/PPP (D),2012-09-20,2012-09-23,2012-09-25T10:17:39Z,1200,Likely Voters,Automated Phone,50.0,45.0,5.0,,https://elections.huffingtonpost.com/pollster/polls/dailykos-seiu-ppp-d-15291,http://elections.dailykos.com/weeklypolling/2012/9/20,Sponsor,Dem,,1\\nGallup,2012-09-17,2012-09-23,2012-09-24T13:03:17Z,3050,Registered Voters,Live Phone,48.0,46.0,,,https://elections.huffingtonpost.com/pollster/polls/gallup-15270,http://www.gallup.com/poll/150743/Obama-Romney.aspx,Nonpartisan,None,,1\\nJZ Analytics,2012-09-21,2012-09-22,2012-09-24T07:56:53Z,860,Likely Voters,Internet,49.0,41.0,10.0,,https://elections.huffingtonpost.com/pollster/polls/jz-analytics-15255,http://www.jzanalytics.com/DATA/Crosstabs_Voters_2way_and_5way_horserace_092112,Nonpartisan,None,,1\\nUPI/CVOTER,2012-09-16,2012-09-22,2012-09-24T17:09:35Z,761,Likely Voters,Live Phone,49.0,46.0,,,https://elections.huffingtonpost.com/pollster/polls/upi-cvoter-15281,http://www.upi.com/Top_News/US/2012/09/24/UPI-Poll-Obama-Romney-statistically-tied/UPI-94371348497872/,Nonpartisan,None,,1\\nRasmussen,2012-09-19,2012-09-21,2012-09-22T09:58:59Z,1500,Likely Voters,Automated Phone,46.0,46.0,,,https://elections.huffingtonpost.com/pollster/polls/rasmussen-15236,http://www.rasmussenreports.com/public_content/archive/2012_presidential_election_matchups2,Nonpartisan,None,,1\\nIpsos/Reuters (Web),2012-09-17,2012-09-21,2012-09-22T10:01:43Z,1616,Likely Voters,Internet,48.0,42.0,7.0,3.0,https://elections.huffingtonpost.com/pollster/polls/ipsos-reuters-web-15238,http://big.assets.huffingtonpost.com/Ipsos092112.pdf,Nonpartisan,None,,1\\nAngus-Reid,2012-09-19,2012-09-20,2012-09-23T10:45:51Z,805,Registered Voters,Internet,48.0,46.0,,6.0,https://elections.huffingtonpost.com/pollster/polls/angus-reid-15248,http://www.angus-reid.com/wp-content/uploads/2012/09/2012.09.21_Presidential_USA.pdf,Nonpartisan,None,,1\\nARG,2012-09-17,2012-09-20,2012-09-21T11:55:32Z,761,Likely Voters,Live Phone,49.0,47.0,4.0,,https://elections.huffingtonpost.com/pollster/polls/arg-15206,http://americanresearchgroup.com/,Nonpartisan,None,,1\\nPolitico/GWU/Battleground,2012-09-16,2012-09-20,2012-09-24T10:20:13Z,1000,Likely Voters,Live Phone,50.0,47.0,3.0,,https://elections.huffingtonpost.com/pollster/polls/politico-gwu-battleground-15259,http://images.politico.com/global/2012/09/battlegroundpoll.html,Nonpartisan,None,,1\\nAllstate/National Journal,2012-09-15,2012-09-19,2012-09-21T12:48:31Z,1055,Likely Voters,Live Phone,50.0,43.0,,,https://elections.huffingtonpost.com/pollster/polls/allstate-national-journal-15211,http://www.nationaljournal.com/2012-presidential-campaign/heartland-monitor-poll-obama-leads-50-percent-to-43-percent-20120921,Nonpartisan,None,,1\\nRasmussen,2012-09-16,2012-09-18,2012-09-19T09:49:39Z,1500,Likely Voters,Automated Phone,46.0,47.0,4.0,3.0,https://elections.huffingtonpost.com/pollster/polls/rasmussen-15124,http://www.rasmussenreports.com/public_content/archive/2012_presidential_election_matchups2,Nonpartisan,None,,1\\nUConn/Hartford Courant,2012-09-11,2012-09-18,2012-09-20T14:36:26Z,1148,Likely Voters,Live Phone,46.0,43.0,8.0,2.0,https://elections.huffingtonpost.com/pollster/polls/uconn-hartford-courant-15177,http://today.uconn.edu/blog/2012/09/uconncourant-poll-presidential-race-close-but-majority-thinks-obama-will-win/,Nonpartisan,None,,1\\nYouGov/Economist,2012-09-15,2012-09-17,2012-09-19T11:06:58Z,943,Registered Voters,Internet,49.0,44.0,3.0,,https://elections.huffingtonpost.com/pollster/polls/yougov-economist-15131,http://cdn.yougov.com/cumulus_uploads/document/w8gq8k2j9r/econToplines.pdf,Nonpartisan,None,,1\\nReason/Rupe,2012-09-13,2012-09-17,2012-09-21T12:20:21Z,787,Likely Voters,Live Phone,52.0,45.0,4.0,,https://elections.huffingtonpost.com/pollster/polls/reason-rupe-15209,http://reason.com/assets/db/13481953038600.pdf,Nonpartisan,None,,1\\nAP-GfK,2012-09-13,2012-09-17,2012-09-19T06:33:34Z,807,Likely Voters,Live Phone,47.0,46.0,7.0,,https://elections.huffingtonpost.com/pollster/polls/ap-gfk-15121,http://ap-gfkpoll.com/main/wp-content/uploads/2012/09/AP-GfK-Poll-September-2012-Topline_1st-release.pdf,Nonpartisan,None,,1\\nDailyKos/SEIU/PPP (D),2012-09-13,2012-09-16,2012-09-18T11:53:59Z,1000,Likely Voters,Automated Phone,50.0,46.0,4.0,,https://elections.huffingtonpost.com/pollster/polls/dailykos-seiu-ppp-d-15102,http://elections.dailykos.com/weeklypolling/2012/9/13,Sponsor,Dem,,1\\nMonmouth,2012-09-13,2012-09-16,2012-09-17T13:55:59Z,1344,Likely Voters,IVR/Live Phone,48.0,45.0,4.0,3.0,https://elections.huffingtonpost.com/pollster/polls/monmouth-15086,http://www.monmouth.edu/assets/0/84/159/2147483694/31a5695e-db0d-4272-b292-b9640f4ff7fb.pdf,Nonpartisan,None,,1\\nPew,2012-09-12,2012-09-16,2012-09-19T14:04:09Z,2192,Likely Voters,Live Phone,51.0,43.0,6.0,,https://elections.huffingtonpost.com/pollster/polls/pew-15141,http://www.people-press.org/2012/09/19/obama-ahead-with-stronger-support-better-image-and-lead-on-most-issues/,Nonpartisan,None,,1\\nNBC/WSJ,2012-09-12,2012-09-16,2012-09-18T18:58:01Z,736,Likely Voters,Live Phone,50.0,45.0,3.0,3.0,https://elections.huffingtonpost.com/pollster/polls/nbc-wsj-15117,http://msnbcmedia.msn.com/i/MSNBC/Sections/A_Politics/_Today_Stories_Teases/September_WSJ_NBC_Poll.pdf,Nonpartisan,None,,1\\nGallup,2012-09-10,2012-09-16,2012-09-17T12:58:50Z,3050,Registered Voters,Live Phone,48.0,45.0,,,https://elections.huffingtonpost.com/pollster/polls/gallup-15081,http://www.gallup.com/poll/150743/Obama-Romney.aspx,Nonpartisan,None,,1\\nRasmussen,2012-09-13,2012-09-15,2012-09-16T11:32:37Z,1500,Likely Voters,Automated Phone,46.0,47.0,,,https://elections.huffingtonpost.com/pollster/polls/rasmussen-15063,http://www.rasmussenreports.com/public_content/archive/2012_presidential_election_matchups2,Nonpartisan,None,,1\\nUPI/CVOTER,2012-09-08,2012-09-14,2012-09-18T10:39:59Z,1036,Likely Voters,Live Phone,49.0,45.0,,,https://elections.huffingtonpost.com/pollster/polls/upi-cvoter-15099,http://www.upi.com/Top_News/US/2012/09/16/UPI-Poll-Obama-holds-lead-over-Romney/UPI-69521347819340/,Nonpartisan,None,,1\\nIpsos/Reuters (Web),2012-09-09,2012-09-13,2012-09-13T18:16:47Z,990,Likely Voters,Internet,48.0,41.0,8.0,3.0,https://elections.huffingtonpost.com/pollster/polls/ipsos-reuters-web-15027,http://big.assets.huffingtonpost.com/IpsosReuters120913.pdf,Nonpartisan,None,,1\\nJZ Analytics,2012-09-11,2012-09-12,2012-09-13T22:10:21Z,1014,Likely Voters,Internet,48.0,42.0,10.0,,https://elections.huffingtonpost.com/pollster/polls/jz-analytics-15031,http://www.jzanalytics.com/DATA/Crosstabs_US_Voters_091112.pdf,Nonpartisan,None,,1\\nRasmussen,2012-09-10,2012-09-12,2012-09-13T09:53:38Z,1500,Likely Voters,Automated Phone,46.0,47.0,5.0,3.0,https://elections.huffingtonpost.com/pollster/polls/rasmussen-14995,http://www.rasmussenreports.com/public_content/archive/2012_presidential_election_matchups2,Nonpartisan,None,,1\\nCBS/Times,2012-09-08,2012-09-12,2012-09-14T10:21:30Z,1162,Likely Voters,Live Phone,49.0,46.0,4.0,,https://elections.huffingtonpost.com/pollster/polls/cbs-times-15036,http://s3.documentcloud.org/documents/432864/latest-cbs-news-new-york-times-poll.pdf,Nonpartisan,None,,1\\nDemocracy Corps (D),2012-09-08,2012-09-12,2012-09-13T11:54:14Z,1000,Likely Voters,Live Phone,50.0,45.0,2.0,2.0,https://elections.huffingtonpost.com/pollster/polls/democracy-corps-d-15006,http://www.democracycorps.com/attachments/article/908/dcor.political.fq.09132012.web.pdf,Pollster,Dem,,1\\nFOX,2012-09-09,2012-09-11,2012-09-12T18:43:03Z,1056,Likely Voters,Live Phone,48.0,43.0,8.0,1.0,https://elections.huffingtonpost.com/pollster/polls/fox-14991,http://www.foxnews.com/politics/interactive/2012/09/12/fox-news-poll-obama-tops-romney-in-post-convention-poll-most-say-country-still/,Nonpartisan,None,,1\\nYouGov/Economist,2012-09-08,2012-09-10,2012-09-12T10:41:12Z,818,Registered Voters,Internet,49.0,45.0,2.0,,https://elections.huffingtonpost.com/pollster/polls/yougov-economist-14980,http://cdn.yougov.com/cumulus_uploads/document/38mwx7z6ey/econToplines.pdf,Nonpartisan,None,,1\\nEsquire/Yahoo! News,2012-09-07,2012-09-10,2012-09-13T11:31:57Z,724,Likely Voters,Live Phone,50.0,46.0,4.0,1.0,https://elections.huffingtonpost.com/pollster/polls/esquire-yahoo-news-15005,http://www.esquire.com/cm/esquire/data/esquire-yahoo-results-1.pdf,Nonpartisan,None,,1\\nIpsos/Reuters,2012-09-07,2012-09-10,2012-09-12T10:21:27Z,873,Likely Voters,Live Phone,48.0,45.0,4.0,3.0,https://elections.huffingtonpost.com/pollster/polls/ipsos-reuters-14978,http://big.assets.huffingtonpost.com/ReutersIpsosSeptember2012.pdf,Nonpartisan,None,,1\\nDailyKos/SEIU/PPP (D),2012-09-07,2012-09-09,2012-09-11T10:23:02Z,1000,Likely Voters,Automated Phone,50.0,44.0,6.0,,https://elections.huffingtonpost.com/pollster/polls/dailykos-seiu-ppp-d-14960,http://elections.dailykos.com/weeklypolling/2012/9/7,Sponsor,Dem,,1\\nABC/Post,2012-09-07,2012-09-09,2012-09-11T07:15:11Z,710,Likely Voters,Live Phone,49.0,48.0,,,https://elections.huffingtonpost.com/pollster/polls/abc-post-14957,http://www.langerresearch.com/uploads/1140a1AftertheConventions.pdf,Nonpartisan,None,,1\\nCNN,2012-09-07,2012-09-09,2012-09-10T16:19:11Z,709,Likely Voters,Live Phone,52.0,46.0,3.0,,https://elections.huffingtonpost.com/pollster/polls/cnn-14952,http://politicalticker.blogs.cnn.com/2012/09/10/cnn-poll-obama-up-six-points-over-romney/,Nonpartisan,None,,1\\nRasmussen,2012-09-07,2012-09-09,2012-09-10T09:55:26Z,1500,Likely Voters,Automated Phone,50.0,45.0,,,https://elections.huffingtonpost.com/pollster/polls/rasmussen-14941,http://www.rasmussenreports.com/public_content/archive/2012_presidential_election_matchups2,Nonpartisan,None,,1\\nTIPP/Investor\\'s Business Daily/Christian Science Monitor,2012-09-04,2012-09-09,2012-09-10T15:35:32Z,808,Registered Voters,Live Phone,46.0,44.0,10.0,,https://elections.huffingtonpost.com/pollster/polls/tipp-investor-s-business-daily-christian-science-monitor-14951,http://www.tipponline.com/presidency/news/presidency/race-tightens-as-obama-advantage-narrows-to-2-points,Nonpartisan,None,,1\\nGallup,2012-09-03,2012-09-09,2012-09-11T13:11:51Z,3000,Registered Voters,Live Phone,49.0,44.0,,,https://elections.huffingtonpost.com/pollster/polls/gallup-14967,http://www.gallup.com/poll/150743/Obama-Romney.aspx,Nonpartisan,None,,1\\nIpsos/Reuters (Web),2012-09-04,2012-09-08,2012-09-08T22:33:20Z,1457,Likely Voters,Internet,47.0,43.0,8.0,2.0,https://elections.huffingtonpost.com/pollster/polls/ipsos-reuters-web-14933,http://big.assets.huffingtonpost.com/reutersipsos090812.pdf,Nonpartisan,None,,1\\nARG,2012-09-04,2012-09-06,2012-09-07T12:45:32Z,1200,Likely Voters,Live Phone,46.0,49.0,5.0,,https://elections.huffingtonpost.com/pollster/polls/arg-14921,http://americanresearchgroup.com/economy/,Nonpartisan,None,,1\\nRasmussen,2012-09-04,2012-09-06,2012-09-07T10:26:10Z,1500,Likely Voters,Automated Phone,45.0,46.0,,,https://elections.huffingtonpost.com/pollster/polls/rasmussen-14910,http://www.rasmussenreports.com/public_content/archive/2012_presidential_election_matchups2,Nonpartisan,None,,1\\nYouGov/Economist,2012-09-01,2012-09-03,2012-09-05T12:41:21Z,737,Registered Voters,Internet,47.0,46.0,4.0,,https://elections.huffingtonpost.com/pollster/polls/yougov-economist-14895,http://cdn.yougov.com/cumulus_uploads/document/xlycixojrf/econToplines.pdf,Nonpartisan,None,,1\\nRasmussen,2012-09-01,2012-09-03,2012-09-04T10:18:09Z,1500,Likely Voters,Automated Phone,45.0,47.0,,,https://elections.huffingtonpost.com/pollster/polls/rasmussen-14873,http://www.rasmussenreports.com/public_content/archive/2012_presidential_election_matchups2,Nonpartisan,None,,1\\nCNN,2012-08-31,2012-09-03,2012-09-04T16:19:49Z,735,Likely Voters,Live Phone,48.0,48.0,3.0,,https://elections.huffingtonpost.com/pollster/polls/cnn-14889,http://politicalticker.blogs.cnn.com/2012/09/04/cnn-poll-did-romney-get-a-convention-bounce/,Nonpartisan,None,,1\\nIpsos/Reuters (Web),2012-08-29,2012-09-02,2012-09-03T02:01:11Z,1126,Likely Voters,Internet,45.0,45.0,7.0,3.0,https://elections.huffingtonpost.com/pollster/polls/ipsos-reuters-web-14857,http://big.assets.huffingtonpost.com/ipsos090212.pdf,Nonpartisan,None,,1\\nGallup,2012-08-27,2012-09-02,2012-09-04T10:20:45Z,3000,Registered Voters,Live Phone,47.0,46.0,,,https://elections.huffingtonpost.com/pollster/polls/gallup-14875,http://www.gallup.com/poll/150743/Obama-Romney.aspx,Nonpartisan,None,,1\\nRasmussen,2012-08-29,2012-08-31,2012-09-03T02:07:09Z,1500,Likely Voters,Automated Phone,44.0,47.0,,,https://elections.huffingtonpost.com/pollster/polls/rasmussen-14860,http://www.rasmussenreports.com/public_content/archive/2012_presidential_election_matchups2,Nonpartisan,None,,1\\nIpsos/Reuters (Web),2012-08-25,2012-08-29,2012-08-29T17:33:12Z,1545,Registered Voters,Internet,43.0,43.0,10.0,4.0,https://elections.huffingtonpost.com/pollster/polls/ipsos-reuters-web-14831,http://www.ipsos-na.com/news-polls/pressrelease.aspx?id=5739,Nonpartisan,None,,1\\nRasmussen,2012-08-26,2012-08-28,2012-08-29T10:22:53Z,1500,Likely Voters,Automated Phone,46.0,45.0,,,https://elections.huffingtonpost.com/pollster/polls/rasmussen-14820,http://www.rasmussenreports.com/public_content/archive/2012_presidential_election_matchups2,Nonpartisan,None,,1\\nIpsos/Reuters (Web),2012-08-24,2012-08-28,2012-08-28T18:05:45Z,1325,Likely Voters,Internet,45.0,43.0,8.0,4.0,https://elections.huffingtonpost.com/pollster/polls/ipsos-reuters-web-14818,http://big.assets.huffingtonpost.com/ReutersIpsosConvention082812.pdf,Nonpartisan,None,,1\\nYouGov/Economist,2012-08-25,2012-08-27,2012-08-29T13:06:06Z,759,Registered Voters,Internet,46.0,47.0,4.0,,https://elections.huffingtonpost.com/pollster/polls/yougov-economist-14826,http://cdn.yougov.com/cumulus_uploads/document/k7rcu50rvy/econToplines.pdf,Nonpartisan,None,,1\\nDemocracy Corps (D),2012-08-23,2012-08-27,2012-08-29T13:20:41Z,1000,Likely Voters,Live Phone,49.0,47.0,2.0,1.0,https://elections.huffingtonpost.com/pollster/polls/democracy-corps-d-14827,http://www.democracycorps.com/attachments/article/906/dcor.nat.polt.082812.pdf,Pollster,Dem,,1\\nDailyKos/SEIU/PPP (D),2012-08-23,2012-08-26,2012-08-28T12:15:01Z,1000,Registered Voters,Automated Phone,50.0,44.0,6.0,,https://elections.huffingtonpost.com/pollster/polls/dailykos-seiu-ppp-d-14809,http://elections.dailykos.com/weeklypolling/2012/8/23,Sponsor,Dem,,1\\nCBS,2012-08-22,2012-08-26,2012-08-28T10:19:23Z,1051,Registered Voters,Live Phone,46.0,45.0,8.0,2.0,https://elections.huffingtonpost.com/pollster/polls/cbs-14807,http://www.scribd.com/doc/104119402/Aug1b-Ctm-Elec?secret_password=24vdx7v29toba1fa1ie,Nonpartisan,None,,1\\nGallup,2012-08-20,2012-08-26,2012-08-27T13:02:23Z,3000,Registered Voters,Live Phone,46.0,47.0,,,https://elections.huffingtonpost.com/pollster/polls/gallup-14798,http://www.gallup.com/poll/150743/Obama-Romney.aspx,Nonpartisan,None,,1\\nRasmussen,2012-08-23,2012-08-25,2012-08-27T09:43:13Z,1500,Likely Voters,Automated Phone,47.0,45.0,,,https://elections.huffingtonpost.com/pollster/polls/rasmussen-14772,http://www.rasmussenreports.com/public_content/archive/2012_presidential_election_matchups2,Nonpartisan,None,,1\\nABC/Post,2012-08-22,2012-08-25,2012-08-27T09:51:37Z,857,Registered Voters,Live Phone,46.0,47.0,3.0,5.0,https://elections.huffingtonpost.com/pollster/polls/abc-post-14781,http://www.langerresearch.com/uploads/1139a1IntotheConventions.pdf,Nonpartisan,None,,1\\nCNN,2012-08-22,2012-08-23,2012-08-24T16:18:55Z,719,Likely Voters,Live Phone,49.0,47.0,4.0,,https://elections.huffingtonpost.com/pollster/polls/cnn-14768,http://i2.cdn.turner.com/cnn/2012/images/08/24/rel8a.pdf,Nonpartisan,None,,1\\nTarrance (R),2012-08-19,2012-08-23,2012-08-27T10:10:05Z,801,Likely Voters,Live Phone,47.0,46.0,7.0,,https://elections.huffingtonpost.com/pollster/polls/tarrance-r-14782,http://thepublicnotice.org/wp-content/uploads/2012/08/Public-Notice-August-Monitor-Survey.-Release-copy.pdf,Pollster,Rep,,1\\nRasmussen,2012-08-20,2012-08-22,2012-08-23T11:10:58Z,1500,Likely Voters,Automated Phone,45.0,45.0,,,https://elections.huffingtonpost.com/pollster/polls/rasmussen-14744,http://www.rasmussenreports.com/public_content/archive/2012_presidential_election_matchups2,Nonpartisan,None,,1\\nResurgent Republic (R),2012-08-16,2012-08-22,2012-08-27T12:26:53Z,1000,Registered Voters,Live Phone,46.0,45.0,8.0,1.0,https://elections.huffingtonpost.com/pollster/polls/resurgent-republic-r-14797,http://s3.amazonaws.com/resurgentrepublic.com/resurgentrepublic/production/assets/576/original/rr-aug-12-toplines.pdf,Pollster,Rep,,1\\nFOX,2012-08-19,2012-08-21,2012-08-24T10:18:40Z,1007,Likely Voters,Live Phone,44.0,45.0,7.0,3.0,https://elections.huffingtonpost.com/pollster/polls/fox-14758,http://www.foxnews.com/politics/interactive/2012/08/23/fox-news-poll-race-for-white-house-tightens/,Nonpartisan,None,,1\\nYouGov/Economist,2012-08-18,2012-08-20,2012-08-22T13:09:06Z,703,Registered Voters,Internet,45.0,45.0,5.0,,https://elections.huffingtonpost.com/pollster/polls/yougov-economist-14729,http://cdn.yougov.com/cumulus_uploads/document/1wbynyqshc/econToplines.pdf,Nonpartisan,None,,1\\nAP-GfK,2012-08-16,2012-08-20,2012-08-22T07:30:04Z,885,Registered Voters,Live Phone,47.0,46.0,7.0,,https://elections.huffingtonpost.com/pollster/polls/ap-gfk-14719,http://ap-gfkpoll.com/main/wp-content/uploads/2012/08/AP-GfK-Poll-August-2012-Topline-FINAL_politics.pdf,Nonpartisan,None,,1\\nNBC/WSJ,2012-08-16,2012-08-20,2012-08-21T18:42:30Z,1000,Registered Voters,Live Phone,48.0,44.0,8.0,,https://elections.huffingtonpost.com/pollster/polls/nbc-wsj-14718,http://msnbcmedia.msn.com/i/MSNBC/Sections/A_Politics/_Today_Stories_Teases/August_NBC-WSJ_Int_Sched.pdf,Nonpartisan,None,,1\\nRasmussen,2012-08-17,2012-08-19,2012-08-20T10:32:00Z,1500,Likely Voters,Automated Phone,43.0,44.0,,,https://elections.huffingtonpost.com/pollster/polls/rasmussen-14698,http://www.rasmussenreports.com/public_content/archive/2012_presidential_election_matchups2,Nonpartisan,None,,1\\nDailyKos/SEIU/PPP (D),2012-08-16,2012-08-19,2012-08-21T13:54:51Z,1000,Registered Voters,Automated Phone,49.0,45.0,7.0,,https://elections.huffingtonpost.com/pollster/polls/dailykos-seiu-ppp-d-14714,http://www.dailykos.com/weeklypolling/2012/8/16,Sponsor,Dem,,1\\nMonmouth,2012-08-15,2012-08-19,2012-08-20T13:06:46Z,1149,Likely Voters,IVR/Live Phone,46.0,45.0,6.0,4.0,https://elections.huffingtonpost.com/pollster/polls/monmouth-14702,http://www.monmouth.edu/assets/0/84/159/2147483694/9e0f1831-9dbd-4fa3-b0e3-59588c95ec61.pdf,Nonpartisan,None,,1\\nUSC/LA Times,2012-08-13,2012-08-19,2012-08-24T11:26:24Z,954,Likely Voters,Live Phone,48.0,46.0,5.0,1.0,https://elections.huffingtonpost.com/pollster/polls/usc-la-times-14760,http://www.gqrr.com/index.php?ID=2780,Nonpartisan,None,,1\\nGallup,2012-08-13,2012-08-19,2012-08-20T13:01:26Z,3000,Registered Voters,Live Phone,45.0,47.0,,,https://elections.huffingtonpost.com/pollster/polls/gallup-14700,http://www.gallup.com/poll/150743/Obama-Romney.aspx,Nonpartisan,None,,1\\nRasmussen,2012-08-14,2012-08-16,2012-08-17T10:06:01Z,1500,Likely Voters,Automated Phone,46.0,45.0,,,https://elections.huffingtonpost.com/pollster/polls/rasmussen-14683,http://www.rasmussenreports.com/public_content/archive/2012_presidential_election_matchups2,Nonpartisan,None,,1\\nYouGov/Economist,2012-08-11,2012-08-13,2012-08-15T10:50:54Z,850,Registered Voters,Internet,47.0,44.0,6.0,,https://elections.huffingtonpost.com/pollster/polls/yougov-economist-14659,http://cdn.yougov.com/cumulus_uploads/document/lfu8cg1oh5/econToplines.pdf,Nonpartisan,None,,1\\nRasmussen,2012-08-11,2012-08-13,2012-08-14T10:12:31Z,1500,Likely Voters,Automated Phone,44.0,47.0,,,https://elections.huffingtonpost.com/pollster/polls/rasmussen-14644,http://www.rasmussenreports.com/public_content/archive/2012_presidential_election_matchups2,Nonpartisan,None,,1\\nDailyKos/SEIU/PPP (D),2012-08-09,2012-08-12,2012-08-14T15:55:32Z,1000,Registered Voters,Automated Phone,47.0,45.0,8.0,,https://elections.huffingtonpost.com/pollster/polls/dailykos-seiu-ppp-d-14653,http://www.dailykos.com/weeklypolling/2012/8/9,Sponsor,Dem,,1\\nGallup,2012-08-06,2012-08-12,2012-08-13T13:04:14Z,3000,Registered Voters,Live Phone,46.0,46.0,,,https://elections.huffingtonpost.com/pollster/polls/gallup-14635,http://www.gallup.com/poll/150743/Obama-Romney.aspx,Nonpartisan,None,,1\\nRasmussen,2012-08-08,2012-08-10,2012-08-13T09:53:00Z,1500,Likely Voters,Automated Phone,44.0,46.0,,,https://elections.huffingtonpost.com/pollster/polls/rasmussen-14620,http://www.rasmussenreports.com/public_content/archive/2012_presidential_election_matchups2,Nonpartisan,None,,1\\nTIPP/Investor\\'s Business Daily/Christian Science Monitor,2012-08-03,2012-08-10,2012-08-12T00:09:52Z,828,Registered Voters,Live Phone,46.0,39.0,15.0,0.0,https://elections.huffingtonpost.com/pollster/polls/tipp-investor-s-business-daily-christian-science-monitor-14619,http://www.tipponline.com/presidency/news/presidency/obama-widens-lead-over-romney,Nonpartisan,None,,1\\nPolitico/GWU/Battleground,2012-08-05,2012-08-09,2012-08-13T10:29:50Z,1000,Likely Voters,Live Phone,48.0,46.0,5.0,,https://elections.huffingtonpost.com/pollster/polls/politico-gwu-battleground-14631,http://images.politico.com/global/2012/08/politico_gw_bg_48_questionnaire.pdf,Nonpartisan,None,,1\\nCNN,2012-08-07,2012-08-08,2012-08-09T16:29:19Z,911,Registered Voters,Live Phone,52.0,45.0,4.0,,https://elections.huffingtonpost.com/pollster/polls/cnn-14609,http://politicalticker.blogs.cnn.com/2012/08/09/cnn-poll-obama-holds-7-point-lead-over-romney/,Nonpartisan,None,,1\\nFOX,2012-08-05,2012-08-07,2012-08-10T10:12:26Z,930,Registered Voters,Live Phone,49.0,40.0,10.0,2.0,https://elections.huffingtonpost.com/pollster/polls/fox-14610,http://www.foxnews.com/politics/interactive/2012/08/09/fox-news-poll-presidential-race/,Nonpartisan,None,,1\\nRasmussen,2012-08-05,2012-08-07,2012-08-08T10:10:32Z,1500,Likely Voters,Automated Phone,45.0,45.0,,,https://elections.huffingtonpost.com/pollster/polls/rasmussen-14587,http://www.rasmussenreports.com/public_content/archive/2012_presidential_election_matchups2,Nonpartisan,None,,1\\nYouGov/Economist,2012-08-04,2012-08-06,2012-08-08T13:14:17Z,733,Registered Voters,Internet,46.0,45.0,4.0,,https://elections.huffingtonpost.com/pollster/polls/yougov-economist-14598,http://cdn.yougov.com/cumulus_uploads/document/fazmvhzmj2/econToplines.pdf,Nonpartisan,None,,1\\nIpsos/Reuters,2012-08-02,2012-08-06,2012-08-08T11:15:02Z,900,Registered Voters,Live Phone,49.0,42.0,6.0,4.0,https://elections.huffingtonpost.com/pollster/polls/ipsos-reuters-14591,http://ipsos-na.com/download/pr.aspx?id=11840,Nonpartisan,None,,1\\nDailyKos/SEIU/PPP (D),2012-08-02,2012-08-05,2012-08-07T13:13:41Z,1000,Registered Voters,Automated Phone,48.0,46.0,7.0,,https://elections.huffingtonpost.com/pollster/polls/dailykos-seiu-ppp-d-14582,http://www.dailykos.com/weeklypolling/2012/8/2,Sponsor,Dem,,1\\nGallup,2012-07-30,2012-08-05,2012-08-06T13:00:43Z,3000,Registered Voters,Live Phone,46.0,45.0,,,https://elections.huffingtonpost.com/pollster/polls/gallup-14573,http://www.gallup.com/poll/150743/Obama-Romney.aspx,Nonpartisan,None,,1\\nPost/Kaiser,2012-07-25,2012-08-05,2012-08-21T11:29:56Z,,Registered Voters,Live Phone,50.0,43.0,5.0,1.0,https://elections.huffingtonpost.com/pollster/polls/post-kaiser-14710,http://www.washingtonpost.com/wp-srv/politics/polls/postkaiserpoll_20120805.html,Nonpartisan,None,,1\\nRasmussen,2012-08-02,2012-08-04,2012-08-06T10:08:52Z,1500,Likely Voters,Automated Phone,45.0,47.0,,,https://elections.huffingtonpost.com/pollster/polls/rasmussen-14560,http://www.rasmussenreports.com/public_content/archive/2012_presidential_election_matchups2,Nonpartisan,None,,1\\nRasmussen,2012-07-30,2012-08-01,2012-08-02T10:17:59Z,1500,Likely Voters,Automated Phone,44.0,46.0,,,https://elections.huffingtonpost.com/pollster/polls/rasmussen-14539,http://www.rasmussenreports.com/public_content/archive/2012_presidential_election_matchups2,Nonpartisan,None,,1\\nYouGov/Economist,2012-07-28,2012-07-30,2012-08-01T13:01:52Z,751,Registered Voters,Internet,44.0,46.0,4.0,,https://elections.huffingtonpost.com/pollster/polls/yougov-economist-14531,http://cdn.yougov.com/cumulus_uploads/document/gz7vfdakvv/econToplines.pdf,Nonpartisan,None,,1\\nRasmussen,2012-07-27,2012-07-29,2012-07-30T10:15:39Z,1500,Likely Voters,Automated Phone,44.0,47.0,,,https://elections.huffingtonpost.com/pollster/polls/rasmussen-14483,http://www.rasmussenreports.com/public_content/archive/2012_presidential_election_matchups2,Nonpartisan,None,,1\\nDailyKos/SEIU/PPP (D),2012-07-26,2012-07-29,2012-07-31T10:37:23Z,1000,Registered Voters,Automated Phone,48.0,47.0,5.0,,https://elections.huffingtonpost.com/pollster/polls/dailykos-seiu-ppp-d-14506,http://dailykos.com/weeklypolling/2012/7/26,Sponsor,Dem,,1\\nGallup,2012-07-22,2012-07-29,2012-07-30T13:01:36Z,3000,Registered Voters,Live Phone,46.0,46.0,,,https://elections.huffingtonpost.com/pollster/polls/gallup-14500,http://www.gallup.com/poll/150743/Obama-Romney.aspx,Nonpartisan,None,,1\\nRasmussen,2012-07-24,2012-07-26,2012-07-27T10:08:12Z,1500,Likely Voters,Automated Phone,44.0,49.0,,,https://elections.huffingtonpost.com/pollster/polls/rasmussen-14469,http://www.rasmussenreports.com/public_content/archive/2012_presidential_election_matchups2,Nonpartisan,None,,1\\nPew,2012-07-16,2012-07-26,2012-08-02T15:25:32Z,1956,Registered Voters,Live Phone,51.0,41.0,5.0,2.0,https://elections.huffingtonpost.com/pollster/polls/pew-14550,http://big.assets.huffingtonpost.com/pew82.pdf,Nonpartisan,None,,1\\nDemocracy Corps (D),2012-07-21,2012-07-25,2012-07-30T11:49:26Z,700,Likely Voters,Live Phone,50.0,46.0,2.0,2.0,https://elections.huffingtonpost.com/pollster/polls/democracy-corps-d-14498,http://www.democracycorps.com/attachments/article/900/July_Dcorps_political_%20FQ.pdf,Pollster,Dem,,1\\nYouGov/Economist,2012-07-21,2012-07-23,2012-07-25T13:31:36Z,746,Registered Voters,Internet,44.0,45.0,6.0,,https://elections.huffingtonpost.com/pollster/polls/yougov-economist-14451,http://cdn.yougov.com/cumulus_uploads/document/t94ooj9582/20120721%20econToplines.pdf,Nonpartisan,None,,1\\nRasmussen,2012-07-21,2012-07-23,2012-07-24T10:01:04Z,1500,Likely Voters,Automated Phone,44.0,45.0,,,https://elections.huffingtonpost.com/pollster/polls/rasmussen-14426,http://www.rasmussenreports.com/public_content/archive/2012_presidential_election_matchups2,Nonpartisan,None,,1\\nDailyKos/SEIU/PPP (D),2012-07-19,2012-07-22,2012-07-24T15:22:52Z,1000,Registered Voters,Automated Phone,46.0,46.0,8.0,,https://elections.huffingtonpost.com/pollster/polls/dailykos-seiu-ppp-d-14434,http://dailykos.com/weeklypolling/2012/7/19,Sponsor,Dem,,1\\nNBC/WSJ,2012-07-18,2012-07-22,2012-07-24T19:09:38Z,1000,Registered Voters,Live Phone,49.0,43.0,3.0,5.0,https://elections.huffingtonpost.com/pollster/polls/nbc-wsj-14436,http://msnbcmedia.msn.com/i/MSNBC/Sections/A_Politics/_Today_Stories_Teases/12768_July_Poll.pdf,Nonpartisan,None,,1\\nGallup,2012-07-15,2012-07-21,2012-07-23T10:14:20Z,3000,Registered Voters,Live Phone,46.0,45.0,,,https://elections.huffingtonpost.com/pollster/polls/gallup-14416,http://www.gallup.com/poll/150743/Obama-Romney.aspx,Nonpartisan,None,,1\\nRasmussen,2012-07-18,2012-07-20,2012-07-23T10:08:57Z,1500,Likely Voters,Automated Phone,46.0,46.0,,,https://elections.huffingtonpost.com/pollster/polls/rasmussen-14410,http://www.rasmussenreports.com/public_content/archive/2012_presidential_election_matchups2,Nonpartisan,None,,1\\nFOX,2012-07-15,2012-07-17,2012-07-18T18:29:27Z,901,Registered Voters,Live Phone,45.0,41.0,11.0,2.0,https://elections.huffingtonpost.com/pollster/polls/fox-14381,http://www.foxnews.com/politics/interactive/2012/07/18/fox-news-poll-37-voters-say-are-better-off-than-four-years-ago/,Nonpartisan,None,,1\\nRasmussen,2012-07-15,2012-07-17,2012-07-18T10:03:00Z,1500,Likely Voters,Automated Phone,46.0,47.0,,,https://elections.huffingtonpost.com/pollster/polls/rasmussen-14373,http://www.rasmussenreports.com/public_content/archive/2012_presidential_election_matchups2,Nonpartisan,None,,1\\nYouGov/Economist,2012-07-14,2012-07-16,2012-07-18T13:03:40Z,742,Registered Voters,Internet,47.0,44.0,5.0,,https://elections.huffingtonpost.com/pollster/polls/yougov-economist-14378,http://cdn.yougov.com/cumulus_uploads/document/wxt8kj3j6n/econToplines.pdf,Nonpartisan,None,,1\\nCBS/Times,2012-07-11,2012-07-16,2012-07-18T18:42:53Z,942,Registered Voters,Live Phone,46.0,47.0,5.0,2.0,https://elections.huffingtonpost.com/pollster/polls/cbs-times-14382,http://www.cbsnews.com/8301-250_162-57475191/cbs-news-new-york-times-poll-7-18-12/,Nonpartisan,None,,1\\nDailyKos/SEIU/PPP (D),2012-07-12,2012-07-15,2012-07-17T11:02:36Z,1000,Registered Voters,Automated Phone,48.0,46.0,7.0,,https://elections.huffingtonpost.com/pollster/polls/dailykos-seiu-ppp-d-14365,http://dailykos.com/weeklypolling/2012/6/28,Sponsor,Dem,,1\\nRasmussen,2012-07-12,2012-07-14,2012-07-16T10:21:26Z,1500,Likely Voters,Automated Phone,45.0,45.0,,,https://elections.huffingtonpost.com/pollster/polls/rasmussen-14340,http://www.rasmussenreports.com/public_content/archive/2012_presidential_election_matchups2,Nonpartisan,None,,1\\nGallup,2012-07-08,2012-07-14,2012-07-16T10:23:49Z,3000,Registered Voters,Live Phone,47.0,45.0,,,https://elections.huffingtonpost.com/pollster/polls/gallup-14346,http://www.gallup.com/poll/150743/Obama-Romney.aspx,Nonpartisan,None,,1\\nNPR,2012-07-09,2012-07-12,2012-07-19T10:37:05Z,1000,Likely Voters,Live Phone,47.0,45.0,5.0,,https://elections.huffingtonpost.com/pollster/polls/npr-14390,http://www.npr.org/news/polls/npr.pdf,Nonpartisan,None,,1\\nMarist/McClatchy,2012-07-09,2012-07-11,2012-07-16T10:48:15Z,849,Registered Voters,Live Phone,48.0,46.0,6.0,,https://elections.huffingtonpost.com/pollster/polls/marist-mcclatchy-14351,http://www.mcclatchydc.com/2012/07/13/156143/mcclatchy-marist-poll-july-2012.html,Nonpartisan,None,,1\\nRasmussen,2012-07-09,2012-07-11,2012-07-12T10:10:40Z,1500,Likely Voters,Automated Phone,45.0,46.0,,,https://elections.huffingtonpost.com/pollster/polls/rasmussen-14309,http://www.rasmussenreports.com/public_content/archive/2012_presidential_election_matchups2,Nonpartisan,None,,1\\nYouGov/Economist,2012-07-07,2012-07-09,2012-07-11T13:07:24Z,,Registered Voters,Internet,43.0,44.0,8.0,,https://elections.huffingtonpost.com/pollster/polls/yougov-economist-14304,http://cdn.yougov.com/cumulus_uploads/document/qmv1u9m8r1/econToplines.pdf,Nonpartisan,None,,1\\nIpsos/Reuters,2012-07-05,2012-07-09,2012-07-10T17:51:03Z,885,Registered Voters,Live Phone,49.0,43.0,4.0,4.0,https://elections.huffingtonpost.com/pollster/polls/ipsos-reuters-14291,http://www.ipsos-na.com/download/pr.aspx?id=11798,Nonpartisan,None,,1\\nPew,2012-06-28,2012-07-09,2012-07-12T13:58:45Z,2373,Registered Voters,Live Phone,50.0,43.0,6.0,,https://elections.huffingtonpost.com/pollster/polls/pew-14317,http://www.people-press.org/files/legacy-pdf/7-12-12%20Political%20Release.pdf,Nonpartisan,None,,1\\nWashington Times/JZ Analytics,2012-07-06,2012-07-08,2012-07-10T10:10:10Z,800,Likely Voters,Live Phone,42.0,43.0,15.0,,https://elections.huffingtonpost.com/pollster/polls/washington-times-jz-analytics-14282,http://www.washingtontimes.com/multimedia/image/polljpg_734693/#prettyPhoto,Nonpartisan,None,,1\\nRasmussen,2012-07-06,2012-07-08,2012-07-09T10:10:43Z,1500,Likely Voters,Automated Phone,45.0,46.0,,,https://elections.huffingtonpost.com/pollster/polls/rasmussen-14267,http://www.rasmussenreports.com/public_content/archive/2012_presidential_election_matchups2,Nonpartisan,None,,1\\nABC/Post,2012-07-05,2012-07-08,2012-07-10T09:46:09Z,855,Registered Voters,Live Phone,47.0,47.0,4.0,2.0,https://elections.huffingtonpost.com/pollster/polls/abc-post-14281,http://www.washingtonpost.com/page/2010-2019/WashingtonPost/2012/07/10/National-Politics/Polling/release_102.xml,Nonpartisan,None,,1\\nQuinnipiac,2012-07-01,2012-07-08,2012-07-11T06:19:34Z,2722,Registered Voters,Live Phone,46.0,43.0,8.0,3.0,https://elections.huffingtonpost.com/pollster/polls/quinnipiac-14292,http://www.quinnipiac.edu/institutes-and-centers/polling-institute/national/release-detail?ReleaseID=1770,Nonpartisan,None,,1\\nGallup,2012-06-30,2012-07-07,2012-07-09T10:18:24Z,3000,Registered Voters,Live Phone,47.0,45.0,,,https://elections.huffingtonpost.com/pollster/polls/gallup-14274,http://www.gallup.com/poll/150743/Obama-Romney.aspx,Nonpartisan,None,,1\\nRasmussen,2012-07-01,2012-07-05,2012-07-06T09:38:11Z,1500,Likely Voters,Automated Phone,44.0,46.0,,,https://elections.huffingtonpost.com/pollster/polls/rasmussen-14257,http://www.rasmussenreports.com/public_content/archive/2012_presidential_election_matchups2,Nonpartisan,None,,1\\nTIPP/Investor\\'s Business Daily/Christian Science Monitor,2012-06-26,2012-07-05,2012-07-09T10:25:58Z,825,Registered Voters,Live Phone,43.0,42.0,10.0,5.0,https://elections.huffingtonpost.com/pollster/polls/tipp-investor-s-business-daily-christian-science-monitor-14275,http://www.tipponline.com/presidency/news/presidency/race-tightens-in-the-aftermath-of-healthcare-ruling,Nonpartisan,None,,1\\nYouGov/Economist,2012-06-30,2012-07-02,2012-07-05T09:04:12Z,,Registered Voters,Internet,47.0,43.0,8.0,,https://elections.huffingtonpost.com/pollster/polls/yougov-economist-14250,http://cdn.yougov.com/cumulus_uploads/document/kei4w7h2au/econToplines.pdf,Nonpartisan,None,,1\\nDailyKos/SEIU/PPP (D),2012-06-28,2012-07-01,2012-07-03T16:31:28Z,1000,Registered Voters,Automated Phone,48.0,45.0,6.0,,https://elections.huffingtonpost.com/pollster/polls/dailykos-seiu-ppp-d-14249,http://dailykos.com/weeklypolling/2012/6/28,Sponsor,Dem,,1\\nCNN,2012-06-28,2012-07-01,2012-07-02T16:10:15Z,1390,Registered Voters,Live Phone,49.0,46.0,,4.0,https://elections.huffingtonpost.com/pollster/polls/cnn-14236,http://i2.cdn.turner.com/cnn/2012/images/07/02/rel6b.pdf,Nonpartisan,None,,1\\nRasmussen,2012-06-28,2012-06-30,2012-07-02T10:46:20Z,1500,Likely Voters,Automated Phone,45.0,45.0,,,https://elections.huffingtonpost.com/pollster/polls/rasmussen-14222,http://www.rasmussenreports.com/public_content/archive/2012_presidential_election_matchups2,Nonpartisan,None,,1\\nGallup,2012-06-23,2012-06-29,2012-07-02T13:02:49Z,3000,Registered Voters,Live Phone,47.0,44.0,,,https://elections.huffingtonpost.com/pollster/polls/gallup-14233,http://www.gallup.com/poll/150743/Obama-Romney.aspx,Nonpartisan,None,,1\\nNewsweek/Daily Beast,2012-06-28,2012-06-28,2012-07-02T10:51:40Z,600,Likely Voters,Live Phone,47.0,44.0,4.0,5.0,https://elections.huffingtonpost.com/pollster/polls/newsweek-daily-beast-14227,http://www.thedailybeast.com/articles/2012/06/29/new-poll-voters-dislike-supreme-court-s-obamacare-ruling.html,Pollster,Dem,,1\\nRasmussen,2012-06-25,2012-06-27,2012-06-28T10:02:07Z,1500,Likely Voters,Automated Phone,45.0,45.0,,,https://elections.huffingtonpost.com/pollster/polls/rasmussen-14202,http://www.rasmussenreports.com/public_content/archive/2012_presidential_election_matchups2,Nonpartisan,None,,1\\nDemocracy Corps (D),2012-06-23,2012-06-27,2012-06-29T12:28:00Z,1000,Likely Voters,Live Phone,49.0,46.0,1.0,2.0,https://elections.huffingtonpost.com/pollster/polls/democracy-corps-d-14218,http://www.democracycorps.com/strategy/2012/06/president-obama-makes-gains-in-winnable-race/,Pollster,Dem,,1\\nFOX,2012-06-24,2012-06-26,2012-06-28T11:06:23Z,912,Registered Voters,Live Phone,45.0,40.0,13.0,3.0,https://elections.huffingtonpost.com/pollster/polls/fox-14207,http://www.foxnews.com/politics/interactive/2012/06/27/poll-voters-say-neither-candidate-has-plan-for-economy/,Nonpartisan,None,,1\\nYouGov/Economist,2012-06-23,2012-06-25,2012-06-27T13:12:20Z,,Registered Voters,Internet,45.0,44.0,7.0,,https://elections.huffingtonpost.com/pollster/polls/yougov-economist-14199,http://cdn.yougov.com/cumulus_uploads/document/5zx1lv6x8n/econToplines.pdf,Nonpartisan,None,,1\\nRasmussen,2012-06-22,2012-06-24,2012-06-25T09:49:45Z,1500,Likely Voters,Automated Phone,45.0,47.0,,,https://elections.huffingtonpost.com/pollster/polls/rasmussen-14157,http://www.rasmussenreports.com/public_content/archive/2012_presidential_election_matchups2,Nonpartisan,None,,1\\nDailyKos/SEIU/PPP (D),2012-06-21,2012-06-24,2012-06-28T11:20:36Z,1000,Registered Voters,Automated Phone,48.0,45.0,7.0,,https://elections.huffingtonpost.com/pollster/polls/dailykos-seiu-ppp-d-14209,http://dailykos.com/weeklypolling/2012/6/21,Sponsor,Dem,,1\\nNBC/WSJ,2012-06-20,2012-06-24,2012-06-26T14:01:33Z,,Registered Voters,Live Phone,47.0,44.0,6.0,3.0,https://elections.huffingtonpost.com/pollster/polls/nbc-wsj-14183,http://msnbcmedia.msn.com/i/MSNBC/Sections/A_Politics/_Today_Stories_Teases/120626-JUNE-NBC-WSJ.pdf,Nonpartisan,None,,1\\nGallup,2012-06-16,2012-06-22,2012-06-25T10:00:04Z,3000,Registered Voters,Live Phone,46.0,46.0,,,https://elections.huffingtonpost.com/pollster/polls/gallup-14161,http://www.gallup.com/poll/150743/Obama-Romney.aspx,Nonpartisan,None,,1\\nRasmussen,2012-06-19,2012-06-21,2012-06-22T09:56:36Z,1500,Likely Voters,Automated Phone,43.0,48.0,,,https://elections.huffingtonpost.com/pollster/polls/rasmussen-14151,http://www.rasmussenreports.com/public_content/archive/2012_presidential_election_matchups2,Nonpartisan,None,,1\\nYouGov/Economist,2012-06-16,2012-06-18,2012-06-20T13:10:25Z,,Registered Voters,Internet,44.0,44.0,7.0,,https://elections.huffingtonpost.com/pollster/polls/yougov-economist-14138,http://cdn.yougov.com/cumulus_uploads/document/cfvy9lxvl9/econToplines.pdf,Nonpartisan,None,,1\\nRasmussen,2012-06-16,2012-06-18,2012-06-19T09:53:24Z,1500,Likely Voters,Automated Phone,44.0,48.0,,,https://elections.huffingtonpost.com/pollster/polls/rasmussen-14118,http://www.rasmussenreports.com/public_content/archive/2012_presidential_election_matchups2,Nonpartisan,None,,1\\nBloomberg,2012-06-15,2012-06-18,2012-06-20T10:18:15Z,734,Likely Voters,Live Phone,53.0,40.0,7.0,,https://elections.huffingtonpost.com/pollster/polls/bloomberg-14132,http://media.bloomberg.com/bb/avfile/rQyA68BW5P20,Nonpartisan,None,,1\\nAP-GfK,2012-06-14,2012-06-18,2012-06-20T10:29:41Z,878,Registered Voters,Live Phone,47.0,44.0,2.0,8.0,https://elections.huffingtonpost.com/pollster/polls/ap-gfk-14133,http://ap-gfkpoll.com/main/wp-content/uploads/2012/06/AP-GfK-Poll-June-2012-Topline-FINAL_HC-new-again.pdf,Nonpartisan,None,,1\\nDailyKos/SEIU/PPP (D),2012-06-14,2012-06-17,2012-06-19T14:46:47Z,1000,Registered Voters,Automated Phone,49.0,45.0,6.0,,https://elections.huffingtonpost.com/pollster/polls/dailykos-seiu-ppp-d-14126,http://dailykos.com/weeklypolling/2012/6/14,Sponsor,Dem,,1\\nPew,2012-06-07,2012-06-17,2012-06-21T14:48:57Z,1563,Registered Voters,Live Phone,50.0,46.0,5.0,,https://elections.huffingtonpost.com/pollster/polls/pew-14149,http://www.people-press.org/files/legacy-pdf/06-21-12%20Voter%20Attitudes.pdf,Nonpartisan,None,,1\\nRasmussen,2012-06-13,2012-06-15,2012-06-18T09:53:21Z,1500,Likely Voters,Automated Phone,45.0,47.0,,,https://elections.huffingtonpost.com/pollster/polls/rasmussen-14100,http://www.rasmussenreports.com/public_content/archive/2012_presidential_election_matchups2,Nonpartisan,None,,1\\nGallup,2012-06-09,2012-06-15,2012-06-18T13:01:17Z,3000,Registered Voters,Live Phone,45.0,46.0,,,https://elections.huffingtonpost.com/pollster/polls/gallup-14108,http://www.gallup.com/poll/150743/Obama-Romney.aspx,Nonpartisan,None,,1\\nRasmussen,2012-06-10,2012-06-12,2012-06-13T10:05:07Z,1500,Likely Voters,Automated Phone,44.0,48.0,,,https://elections.huffingtonpost.com/pollster/polls/rasmussen-14082,http://www.rasmussenreports.com/public_content/archive/2012_presidential_election_matchups2,Nonpartisan,None,,1\\nYouGov/Economist,2012-06-09,2012-06-11,2012-06-13T13:22:20Z,836,Registered Voters,Internet,44.0,42.0,8.0,,https://elections.huffingtonpost.com/pollster/polls/yougov-economist-14086,http://cdn.yougov.com/cumulus_uploads/document/u3436zp4v5/econToplines.pdf,Nonpartisan,None,,1\\nIpsos/Reuters,2012-06-07,2012-06-11,2012-06-12T17:53:14Z,848,Registered Voters,Live Phone,45.0,44.0,5.0,6.0,https://elections.huffingtonpost.com/pollster/polls/ipsos-reuters-14080,http://big.assets.huffingtonpost.com/June12ReutersIpsos.pdf,Nonpartisan,None,,1\\nDailyKos/SEIU/PPP (D),2012-06-07,2012-06-10,2012-06-12T10:28:33Z,1000,Registered Voters,Automated Phone,50.0,42.0,8.0,,https://elections.huffingtonpost.com/pollster/polls/dailykos-seiu-ppp-d-14071,http://dailykos.com/weeklypolling/2012/6/7,Sponsor,Dem,,1\\nRasmussen,2012-06-07,2012-06-09,2012-06-11T09:56:04Z,1500,Likely Voters,Automated Phone,45.0,46.0,,,https://elections.huffingtonpost.com/pollster/polls/rasmussen-14056,http://www.rasmussenreports.com/public_content/archive/2012_presidential_election_matchups2,Nonpartisan,None,,1\\nGallup,2012-06-02,2012-06-08,2012-06-11T09:51:31Z,3000,Registered Voters,Live Phone,46.0,45.0,,,https://elections.huffingtonpost.com/pollster/polls/gallup-14053,http://www.gallup.com/poll/150743/Obama-Romney.aspx,Nonpartisan,None,,1\\nTIPP/Investor\\'s Business Daily/Christian Science Monitor,2012-06-01,2012-06-08,2012-06-11T13:51:40Z,841,Registered Voters,Live Phone,46.0,42.0,8.0,4.0,https://elections.huffingtonpost.com/pollster/polls/tipp-investor-s-business-daily-christian-science-monitor-14064,http://www.tipponline.com/presidency/news/presidency/obama-ahead-by-4-points-over-romney,Nonpartisan,None,,1\\nTarrance (R),2012-06-03,2012-06-07,2012-06-12T12:54:34Z,800,Likely Voters,Live Phone,47.0,46.0,,,https://elections.huffingtonpost.com/pollster/polls/tarrance-r-14075,http://www.bankruptingamerica.org/poll/memorandum-june-monitor-survey/,Pollster,Rep,,1\\nMonmouth,2012-06-04,2012-06-06,2012-06-07T14:14:52Z,1152,Likely Voters,IVR/Live Phone,47.0,46.0,4.0,3.0,https://elections.huffingtonpost.com/pollster/polls/monmouth-14032,http://www.monmouth.edu/assets/0/84/159/2147483694/a40d8817-79e0-4025-8dcc-0cda6ce63d3c.pdf,Nonpartisan,None,,1\\nRasmussen,2012-06-04,2012-06-06,2012-06-07T11:39:42Z,1500,Likely Voters,Automated Phone,46.0,46.0,,,https://elections.huffingtonpost.com/pollster/polls/rasmussen-14021,http://www.rasmussenreports.com/public_content/archive/2012_presidential_election_matchups2,Nonpartisan,None,,1\\nFOX,2012-06-03,2012-06-05,2012-06-08T10:24:53Z,907,Registered Voters,Live Phone,43.0,43.0,12.0,2.0,https://elections.huffingtonpost.com/pollster/polls/fox-14041,http://www.foxnews.com/politics/interactive/2012/05/16/fox-news-poll-presidential-race/,Nonpartisan,None,,1\\nYouGov/Economist,2012-06-02,2012-06-04,2012-06-06T10:50:22Z,836,Registered Voters,Internet,47.0,42.0,6.0,,https://elections.huffingtonpost.com/pollster/polls/yougov-economist-14015,http://cdn.yougov.com/cumulus_uploads/document/h5w42vv4f3/econToplines.pdf,Nonpartisan,None,,1\\nRasmussen,2012-06-01,2012-06-03,2012-06-04T11:38:07Z,1500,Likely Voters,Automated Phone,44.0,47.0,,,https://elections.huffingtonpost.com/pollster/polls/rasmussen-13996,http://www.rasmussenreports.com/public_content/politics/obama_administration/obama_approval_index_history,Nonpartisan,None,,1\\nDailyKos/SEIU/PPP (D),2012-05-31,2012-06-03,2012-06-05T15:26:43Z,1000,Registered Voters,Automated Phone,50.0,42.0,8.0,,https://elections.huffingtonpost.com/pollster/polls/dailykos-seiu-ppp-d-14008,http://dailykos.com/weeklypolling/2012/5/31,Sponsor,Dem,,1\\nPew,2012-05-09,2012-06-03,2012-06-05T17:09:59Z,2388,Registered Voters,Live Phone,49.0,42.0,9.0,,https://elections.huffingtonpost.com/pollster/polls/pew-14010,http://www.people-press.org/files/legacy-pdf/06-05-2012%20Econ%20News%20FINAL.pdf,Nonpartisan,None,,1\\nGallup,2012-05-25,2012-06-01,2012-06-04T10:22:45Z,2265,Registered Voters,Live Phone,46.0,45.0,,,https://elections.huffingtonpost.com/pollster/polls/gallup-13994,http://www.gallup.com/poll/153902/Romney-Obama-Tight-Race-Gallup-Daily-Tracking-Begins.aspx?utm_source=alert&utm_medium=email&utm_campaign=syndication&utm_content=morelink&utm_term=Politics,Nonpartisan,None,,1\\nCNN,2012-05-29,2012-05-31,2012-06-01T16:13:27Z,895,Registered Voters,Live Phone,49.0,46.0,,5.0,https://elections.huffingtonpost.com/pollster/polls/cnn-13981,http://i2.cdn.turner.com/cnn/2012/images/06/01/rel5b.pdf,Nonpartisan,None,,1\\nRasmussen,2012-05-29,2012-05-31,2012-06-01T11:07:44Z,1500,Likely Voters,Automated Phone,45.0,46.0,,,https://elections.huffingtonpost.com/pollster/polls/rasmussen-13974,http://www.rasmussenreports.com/public_content/politics/obama_administration/obama_approval_index_history,Nonpartisan,None,,1\\nYouGov/Economist,2012-05-26,2012-05-28,2012-05-30T13:56:00Z,850,Registered Voters,Internet,46.0,43.0,5.0,,https://elections.huffingtonpost.com/pollster/polls/yougov-economist-13956,http://cdn.yougov.com/cumulus_uploads/document/ayfnab9ii1/econToplines.pdf,Nonpartisan,None,,1\\nRasmussen,2012-05-26,2012-05-28,2012-05-29T11:00:21Z,1500,Likely Voters,Automated Phone,46.0,45.0,,,https://elections.huffingtonpost.com/pollster/polls/rasmussen-13919,http://www.rasmussenreports.com/public_content/politics/obama_administration/obama_approval_index_history,Nonpartisan,None,,1\\nRasmussen,2012-05-23,2012-05-25,2012-05-29T10:59:47Z,1500,Likely Voters,Automated Phone,44.0,45.0,,,https://elections.huffingtonpost.com/pollster/polls/rasmussen-13916,http://www.rasmussenreports.com/public_content/politics/obama_administration/obama_approval_index_history,Nonpartisan,None,,1\\nGallup,2012-05-18,2012-05-24,2012-05-29T10:49:43Z,2265,Registered Voters,Live Phone,47.0,46.0,,,https://elections.huffingtonpost.com/pollster/polls/gallup-13913,http://www.gallup.com/poll/153902/Romney-Obama-Tight-Race-Gallup-Daily-Tracking-Begins.aspx?utm_source=alert&utm_medium=email&utm_campaign=syndication&utm_content=morelink&utm_term=Politics,Nonpartisan,None,,1\\nRasmussen,2012-05-20,2012-05-22,2012-05-23T10:22:17Z,1500,Likely Voters,Automated Phone,46.0,45.0,,,https://elections.huffingtonpost.com/pollster/polls/rasmussen-13875,http://www.rasmussenreports.com/public_content/politics/obama_administration/obama_approval_index_history,Nonpartisan,None,,1\\nYouGov/Economist,2012-05-19,2012-05-21,2012-05-23T17:37:17Z,850,Registered Voters,Internet,46.0,42.0,6.0,,https://elections.huffingtonpost.com/pollster/polls/yougov-economist-13885,http://cdn.yougov.com/cumulus_uploads/document/osny9o0ez8/econToplines.pdf,Nonpartisan,None,,1\\nDailyKos/SEIU/PPP (D),2012-05-17,2012-05-20,2012-05-22T11:34:01Z,1000,Registered Voters,Automated Phone,47.0,46.0,8.0,,https://elections.huffingtonpost.com/pollster/polls/dailykos-seiu-ppp-d-13862,http://www.dailykos.com/weeklypolling/2012/5/17,Sponsor,Dem,,1\\nABC/Post,2012-05-17,2012-05-20,2012-05-22T11:01:01Z,874,Registered Voters,Live Phone,49.0,46.0,2.0,3.0,https://elections.huffingtonpost.com/pollster/polls/abc-post-13859,http://www.washingtonpost.com/wp-srv/politics/polls/postabcpoll_20120520.html,Nonpartisan,None,,1\\nNBC/WSJ,2012-05-16,2012-05-20,2012-05-23T08:32:09Z,,Registered Voters,Live Phone,47.0,43.0,5.0,6.0,https://elections.huffingtonpost.com/pollster/polls/nbc-wsj-13873,http://msnbcmedia.msn.com/i/MSNBC/Sections/A_Politics/_Today_Stories_Teases/120522NBCWSJpoll.pdf,Nonpartisan,None,,1\\nRasmussen,2012-05-17,2012-05-19,2012-05-21T10:58:18Z,1500,Likely Voters,Automated Phone,46.0,44.0,,,https://elections.huffingtonpost.com/pollster/polls/rasmussen-13843,http://www.rasmussenreports.com/public_content/politics/obama_administration/obama_approval_index_history,Nonpartisan,None,,1\\nGallup,2012-05-11,2012-05-17,2012-05-18T13:02:22Z,2265,Registered Voters,Live Phone,45.0,46.0,,,https://elections.huffingtonpost.com/pollster/polls/gallup-13837,http://www.gallup.com/poll/153902/Romney-Obama-Tight-Race-Gallup-Daily-Tracking-Begins.aspx?utm_source=alert&utm_medium=email&utm_campaign=syndication&utm_content=morelink&utm_term=Politics,Nonpartisan,None,,1\\nRasmussen,2012-05-14,2012-05-16,2012-05-17T10:53:49Z,1500,Likely Voters,Automated Phone,45.0,46.0,,,https://elections.huffingtonpost.com/pollster/polls/rasmussen-13821,http://www.rasmussenreports.com/public_content/politics/obama_administration/obama_approval_index_history,Nonpartisan,None,,1\\nTIPP/Investor\\'s Business Daily/Christian Science Monitor,2012-05-09,2012-05-16,2012-05-17T11:13:02Z,778,Registered Voters,Live Phone,43.0,40.0,13.0,3.0,https://elections.huffingtonpost.com/pollster/polls/tipp-investor-s-business-daily-christian-science-monitor-13822,http://www.tipponline.com/presidency/news/presidency/obama-maintains-3-point-advantage-post-gay-marriage-announcement,Nonpartisan,None,,1\\nFOX,2012-05-13,2012-05-15,2012-05-17T10:27:13Z,913,Registered Voters,Live Phone,46.0,39.0,8.0,3.0,https://elections.huffingtonpost.com/pollster/polls/fox-13819,http://www.foxnews.com/politics/interactive/2012/05/16/fox-news-poll-presidential-race/,Nonpartisan,None,,1\\nYouGov/Economist,2012-05-12,2012-05-14,2012-05-16T15:26:02Z,715,Registered Voters,Internet,42.0,46.0,7.0,,https://elections.huffingtonpost.com/pollster/polls/yougov-economist-13818,http://cdn.yougov.com/cumulus_uploads/document/osny9o0ez8/econToplines.pdf,Nonpartisan,None,,1\\nMason-Dixon,2012-05-10,2012-05-14,2012-05-18T11:01:01Z,1000,Likely Voters,Live Phone,44.0,47.0,9.0,,https://elections.huffingtonpost.com/pollster/polls/mason-dixon-13834,http://ronsachs.com/docs/sachs_masondixon_poll.pdf,Nonpartisan,None,,1\\nDailyKos/SEIU/PPP (D),2012-05-10,2012-05-13,2012-05-15T11:12:04Z,1000,Registered Voters,Automated Phone,48.0,46.0,6.0,,https://elections.huffingtonpost.com/pollster/polls/dailykos-seiu-ppp-d-13799,http://dailykos.com/weeklypolling/2012/5/10,Sponsor,Dem,,1\\nWashington Times/JZ Analytics,2012-05-11,2012-05-12,2012-05-16T14:09:18Z,800,Likely Voters,Live Phone,43.0,44.0,13.0,,https://elections.huffingtonpost.com/pollster/polls/washington-times-jz-analytics-13816,http://www.washingtontimes.com/news/2012/may/13/obamas-chief-edge-is-enthusiasm-factor/,Nonpartisan,None,,1\\nRasmussen,2012-05-10,2012-05-12,2012-05-14T10:37:27Z,1500,Likely Voters,Automated Phone,44.0,48.0,,,https://elections.huffingtonpost.com/pollster/polls/rasmussen-13775,http://www.rasmussenreports.com/public_content/archive/2012_presidential_election_matchups2,Nonpartisan,None,,1\\nGallup,2012-05-04,2012-05-10,2012-05-11T14:53:05Z,2265,Registered Voters,Live Phone,45.0,46.0,,,https://elections.huffingtonpost.com/pollster/polls/gallup-13752,http://www.gallup.com/poll/153902/Romney-Obama-Tight-Race-Gallup-Daily-Tracking-Begins.aspx?utm_source=alert&utm_medium=email&utm_campaign=syndication&utm_content=morelink&utm_term=Politics,Nonpartisan,None,,1\\nRasmussen,2012-05-07,2012-05-09,2012-05-10T10:59:44Z,1500,Likely Voters,Automated Phone,45.0,49.0,2.0,3.0,https://elections.huffingtonpost.com/pollster/polls/rasmussen-13728,http://www.rasmussenreports.com/public_content/archive/2012_presidential_election_matchups2,Nonpartisan,None,,1\\nAngus-Reid,2012-05-07,2012-05-08,2012-05-09T17:46:46Z,769,Likely Voters,Internet,46.0,49.0,,5.0,https://elections.huffingtonpost.com/pollster/polls/angus-reid-13723,http://www.angus-reid.com/wp-content/uploads/2012/05/2012.05.09_Presidential_USA.pdf,Nonpartisan,None,,1\\nGallup,2012-05-06,2012-05-08,2012-05-09T13:05:18Z,1500,Adults,Live Phone,44.0,47.0,,,https://elections.huffingtonpost.com/pollster/polls/gallup-13720,http://www.gallup.com/poll/113980/Gallup-Daily-Obama-Job-Approval.aspx,Nonpartisan,None,,1\\nYouGov/Economist,2012-05-05,2012-05-07,2012-05-09T14:56:07Z,715,Registered Voters,Internet,44.0,43.0,7.0,,https://elections.huffingtonpost.com/pollster/polls/yougov-economist-13721,http://cdn.yougov.com/cumulus_uploads/document/s0tv1r0a0f/econToplines.pdf?utm_source=Economist%2FYouGov+Poll+Results+Week+Of+May+5+2012+&utm_campaign=Google+Analytics&utm_medium=email,Nonpartisan,None,,1\\nAP-GfK,2012-05-03,2012-05-07,2012-05-09T17:36:43Z,871,Registered Voters,Live Phone,50.0,42.0,3.0,6.0,https://elections.huffingtonpost.com/pollster/polls/ap-gfk-13722,http://surveys.ap.org/data/GfK/AP-GfK%20Poll%20May%202012%20Topline%20final_2012eln.pdf,Nonpartisan,None,,1\\nIpsos/Reuters,2012-05-03,2012-05-07,2012-05-08T15:59:23Z,959,Registered Voters,Live Phone,49.0,42.0,4.0,6.0,https://elections.huffingtonpost.com/pollster/polls/ipsos-reuters-13713,http://www.ipsos-na.com/download/pr.aspx?id=11610,Nonpartisan,None,,1\\nRasmussen,2012-05-04,2012-05-06,2012-05-07T10:56:14Z,1500,Likely Voters,Automated Phone,45.0,47.0,,,https://elections.huffingtonpost.com/pollster/polls/rasmussen-13699,http://www.rasmussenreports.com/public_content/archive/2012_presidential_election_matchups2,Nonpartisan,None,,1\\nDailyKos/SEIU/PPP (D),2012-05-03,2012-05-06,2012-05-09T10:41:14Z,1000,Registered Voters,Automated Phone,48.0,45.0,7.0,,https://elections.huffingtonpost.com/pollster/polls/dailykos-seiu-ppp-d-13716,http://dailykos.com/weeklypolling/2012/5/3,Sponsor,Dem,,1\\nTIPP/Investor\\'s Business Daily/Christian Science Monitor,2012-04-27,2012-05-04,2012-05-09T10:49:34Z,856,Registered Voters,Live Phone,46.0,43.0,8.0,3.0,https://elections.huffingtonpost.com/pollster/polls/tipp-investor-s-business-daily-christian-science-monitor-13717,http://www.tipponline.com/presidency/news/presidency/race-tightens-obama-lead-over-romney-narrows-to-3-points,Nonpartisan,None,,1\\nRasmussen,2012-05-01,2012-05-03,2012-05-04T11:22:37Z,1500,Likely Voters,Automated Phone,47.0,45.0,,,https://elections.huffingtonpost.com/pollster/polls/rasmussen-13688,http://www.rasmussenreports.com/public_content/archive/2012_presidential_election_matchups2,Nonpartisan,None,,1\\nPolitico/GWU/Battleground,2012-04-29,2012-05-03,2012-05-07T11:14:33Z,1000,Likely Voters,Live Phone,47.0,48.0,5.0,,https://elections.huffingtonpost.com/pollster/polls/politico-gwu-battleground-13703,http://images.politico.com/global/2012/05/bg_47_questionnaire.html,Nonpartisan,None,,1\\nGallup,2012-04-29,2012-05-03,2012-05-04T13:02:21Z,2265,Registered Voters,Live Phone,45.0,45.0,,,https://elections.huffingtonpost.com/pollster/polls/gallup-13692,http://www.gallup.com/poll/153902/Romney-Obama-Tight-Race-Gallup-Daily-Tracking-Begins.aspx?utm_source=alert&utm_medium=email&utm_campaign=syndication&utm_content=morelink&utm_term=Politics,Nonpartisan,None,,1\\nResurgent Republic (R),2012-04-30,2012-05-02,2012-05-10T11:51:53Z,1000,Registered Voters,Live Phone,49.0,42.0,8.0,1.0,https://elections.huffingtonpost.com/pollster/polls/resurgent-republic-r-13733,http://s3.amazonaws.com/resurgentrepublic.com/resurgentrepublic/production/assets/473/original/rr_may_toplines.pdf,Pollster,Rep,,1\\nGallup,2012-04-30,2012-05-02,2012-05-03T14:33:15Z,1500,Adults,Live Phone,46.0,45.0,,,https://elections.huffingtonpost.com/pollster/polls/gallup-13681,http://www.gallup.com/poll/113980/Gallup-Daily-Obama-Job-Approval.aspx,Nonpartisan,None,,1\\nDemocracy Corps (D),2012-04-28,2012-05-01,2012-05-03T15:02:58Z,1000,Likely Voters,Live Phone,47.0,47.0,2.0,,https://elections.huffingtonpost.com/pollster/polls/democracy-corps-d-13683,http://www.democracycorps.com/wp-content/files/2012-May-1-DCorps-FQ_updated_WEB.pdf,Pollster,Dem,,1\\nYouGov/Economist,2012-04-28,2012-04-30,2012-05-02T15:47:38Z,715,Registered Voters,Internet,48.0,43.0,5.0,,https://elections.huffingtonpost.com/pollster/polls/yougov-economist-13672,http://cdn.yougov.com/cumulus_uploads/document/0p6rgsuach/econToplines.pdf,Nonpartisan,None,,1\\nRasmussen,2012-04-28,2012-04-30,2012-05-01T11:17:56Z,1500,Likely Voters,Automated Phone,46.0,46.0,,,https://elections.huffingtonpost.com/pollster/polls/rasmussen-13654,http://www.rasmussenreports.com/public_content/archive/2012_presidential_election_matchups2,Nonpartisan,None,,1\\nDailyKos/SEIU/PPP (D),2012-04-26,2012-04-29,2012-05-01T16:59:07Z,1000,Registered Voters,Automated Phone,49.0,44.0,7.0,,https://elections.huffingtonpost.com/pollster/polls/dailykos-seiu-ppp-d-13658,http://dailykos.com/weeklypolling/2012/4/26,Sponsor,Dem,,1\\nGallup,2012-04-23,2012-04-28,2012-04-29T13:56:18Z,2265,Registered Voters,Live Phone,47.0,46.0,,,https://elections.huffingtonpost.com/pollster/polls/gallup-13643,http://www.gallup.com/poll/153902/Romney-Obama-Tight-Race-Gallup-Daily-Tracking-Begins.aspx?utm_source=alert&utm_medium=email&utm_campaign=syndication&utm_content=morelink&utm_term=Politics,Nonpartisan,None,,1\\nRasmussen,2012-04-25,2012-04-27,2012-04-29T13:51:48Z,1500,Likely Voters,Automated Phone,47.0,45.0,,,https://elections.huffingtonpost.com/pollster/polls/rasmussen-13640,http://www.rasmussenreports.com/public_content/archive/2012_presidential_election_matchups2,Nonpartisan,None,,1\\nFOX,2012-04-22,2012-04-24,2012-04-26T11:53:13Z,915,Registered Voters,Live Phone,46.0,46.0,7.0,1.0,https://elections.huffingtonpost.com/pollster/polls/fox-13628,http://www.foxnews.com/politics/interactive/2012/04/25/fox-news-poll-45-percent-approve-obama/,Nonpartisan,None,,1\\nGallup,2012-04-22,2012-04-24,2012-04-25T13:59:43Z,1500,Adults,Live Phone,49.0,43.0,,,https://elections.huffingtonpost.com/pollster/polls/gallup-13615,http://www.gallup.com/poll/113980/Gallup-Daily-Obama-Job-Approval.aspx,Nonpartisan,None,,1\\nRasmussen,2012-04-22,2012-04-24,2012-04-25T12:04:41Z,1500,Likely Voters,Automated Phone,44.0,49.0,,,https://elections.huffingtonpost.com/pollster/polls/rasmussen-13610,http://www.rasmussenreports.com/public_content/archive/2012_presidential_election_matchups2,Nonpartisan,None,,1\\nYouGov/Economist,2012-04-21,2012-04-23,2012-04-25T17:33:38Z,715,Registered Voters,Internet,46.0,47.0,3.0,,https://elections.huffingtonpost.com/pollster/polls/yougov-economist-13625,http://cdn.yougov.com/cumulus_uploads/document/hhso6vssxx/econToplines.pdf,Nonpartisan,None,,1\\nDailyKos/SEIU/PPP (D),2012-04-19,2012-04-22,2012-04-24T13:07:24Z,1000,Registered Voters,Automated Phone,49.0,44.0,7.0,,https://elections.huffingtonpost.com/pollster/polls/dailykos-seiu-ppp-d-13600,http://dailykos.com/weeklypolling/2012/4/19,Sponsor,Dem,,1\\nGallup,2012-04-18,2012-04-22,2012-04-24T11:06:18Z,2265,Registered Voters,Live Phone,47.0,44.0,,,https://elections.huffingtonpost.com/pollster/polls/gallup-13598,http://www.gallup.com/poll/153902/Romney-Obama-Tight-Race-Gallup-Daily-Tracking-Begins.aspx?utm_source=alert&utm_medium=email&utm_campaign=syndication&utm_content=morelink&utm_term=Politics,Nonpartisan,None,,1\\nRasmussen,2012-04-19,2012-04-21,2012-04-23T11:29:24Z,1500,Likely Voters,Automated Phone,45.0,46.0,,,https://elections.huffingtonpost.com/pollster/polls/rasmussen-13580,http://www.rasmussenreports.com/public_content/archive/2012_presidential_election_matchups2,Nonpartisan,None,,1\\nRasmussen,2012-04-16,2012-04-18,2012-04-19T11:48:32Z,1500,Likely Voters,Automated Phone,45.0,46.0,,,https://elections.huffingtonpost.com/pollster/polls/rasmussen-13562,http://www.rasmussenreports.com/public_content/archive/2012_presidential_election_matchups2,Nonpartisan,None,,1\\nNBC/WSJ,2012-04-13,2012-04-17,2012-04-20T08:58:13Z,,Registered Voters,Live Phone,49.0,43.0,3.0,4.0,https://elections.huffingtonpost.com/pollster/polls/nbc-wsj-13569,http://msnbcmedia.msn.com/i/MSNBC/Sections/A_Politics/_Today_Stories_Teases/12336%20APRIL%20NBC-WSJ%20Poll%20Release%20(4-19).pdf,Nonpartisan,None,,1\\nGallup,2012-04-13,2012-04-17,2012-04-18T14:04:29Z,2265,Registered Voters,Live Phone,44.0,48.0,,,https://elections.huffingtonpost.com/pollster/polls/gallup-13556,http://www.gallup.com/poll/153902/Romney-Obama-Tight-Race-Gallup-Daily-Tracking-Begins.aspx?utm_source=alert&utm_medium=email&utm_campaign=syndication&utm_content=morelink&utm_term=Politics,Nonpartisan,None,,1\\nCBS/Times,2012-04-13,2012-04-17,2012-04-18T11:10:55Z,852,Registered Voters,Live Phone,46.0,46.0,6.0,2.0,https://elections.huffingtonpost.com/pollster/polls/cbs-times-13553,http://www.cbsnews.com/8301-250_162-57416095/cbs-news-nyt-poll-4-18-12/,Nonpartisan,None,,1\\nQuinnipiac,2012-04-11,2012-04-17,2012-04-19T08:49:41Z,2577,Registered Voters,Live Phone,46.0,42.0,9.0,2.0,https://elections.huffingtonpost.com/pollster/polls/quinnipiac-13560,http://www.quinnipiac.edu/institutes-and-centers/polling-institute/search-releases/search-results/release-detail?ReleaseID=1737&What=&strArea=;&strTime=0,Nonpartisan,None,,1\\nYouGov/Economist,2012-04-14,2012-04-16,2012-04-19T13:25:23Z,715,Registered Voters,Internet,49.0,42.0,6.0,,https://elections.huffingtonpost.com/pollster/polls/yougov-economist-13564,http://cdn.yougov.com/cumulus_uploads/document/q7qphtiux5/econToplines.pdf,Nonpartisan,None,,1\\nCNN,2012-04-13,2012-04-15,2012-04-16T16:15:26Z,910,Registered Voters,Live Phone,52.0,43.0,1.0,6.0,https://elections.huffingtonpost.com/pollster/polls/cnn-13536,http://i2.cdn.turner.com/cnn/2012/images/04/16/rel4a.pdf,Nonpartisan,None,,1\\nRasmussen,2012-04-13,2012-04-15,2012-04-16T11:30:46Z,1500,Likely Voters,Automated Phone,44.0,47.0,,,https://elections.huffingtonpost.com/pollster/polls/rasmussen-13526,http://www.rasmussenreports.com/public_content/archive/2012_presidential_election_matchups2,Nonpartisan,None,,1\\nPPP (D),2012-04-12,2012-04-15,2012-04-19T16:50:53Z,900,Registered Voters,Automated Phone,49.0,46.0,5.0,,https://elections.huffingtonpost.com/pollster/polls/ppp-d-13568,http://www.publicpolicypolling.com/pdf/2011/PPP_Release_US_041912.pdf,Pollster,Dem,,1\\nDailyKos/SEIU/PPP (D),2012-04-12,2012-04-15,2012-04-18T14:06:02Z,1000,Registered Voters,Automated Phone,50.0,44.0,6.0,,https://elections.huffingtonpost.com/pollster/polls/dailykos-seiu-ppp-d-13557,http://dailykos.com/weeklypolling/2012/4/12,Sponsor,Dem,,1\\nIpsos/Reuters,2012-04-12,2012-04-15,2012-04-16T17:19:40Z,891,Registered Voters,Live Phone,47.0,43.0,7.0,3.0,https://elections.huffingtonpost.com/pollster/polls/ipsos-reuters-13538,http://www.reuters.com/article/2012/04/16/us-usa-campaign-poll-idUSBRE83F16V20120416,Nonpartisan,None,,1\\nPew,2012-04-04,2012-04-15,2012-04-17T13:41:24Z,2373,Registered Voters,Live Phone,49.0,45.0,4.0,2.0,https://elections.huffingtonpost.com/pollster/polls/pew-13548,http://www.people-press.org/2012/04/17/with-voters-focused-on-economy-obama-lead-narrows/?src=prc-twitter,Nonpartisan,None,,1\\nRasmussen,2012-04-10,2012-04-12,2012-04-13T11:42:57Z,1500,Likely Voters,Automated Phone,44.0,48.0,,,https://elections.huffingtonpost.com/pollster/polls/rasmussen-13520,http://www.rasmussenreports.com/public_content/archive/2012_presidential_election_matchups2,Nonpartisan,None,,1\\nFOX,2012-04-09,2012-04-11,2012-04-13T12:00:57Z,910,Registered Voters,Live Phone,44.0,46.0,8.0,2.0,https://elections.huffingtonpost.com/pollster/polls/fox-13521,http://www.foxnews.com/politics/interactive/2012/04/12/fox-news-poll-romney-edges-obama-as-approval-president-drops/,Nonpartisan,None,,1\\nYouGov/Economist,2012-04-07,2012-04-10,2012-04-12T13:31:55Z,715,Registered Voters,Internet,46.0,43.0,5.0,,https://elections.huffingtonpost.com/pollster/polls/yougov-economist-13517,http://cdn.yougov.com/cumulus_uploads/document/62c5cvpx77/econToplines.pdf,Nonpartisan,None,,1\\nRasmussen,2012-04-07,2012-04-09,2012-04-10T11:03:14Z,1500,Likely Voters,Automated Phone,45.0,45.0,,,https://elections.huffingtonpost.com/pollster/polls/rasmussen-13482,http://www.rasmussenreports.com/public_content/archive/2012_presidential_election_matchups2,Nonpartisan,None,,1\\nABC/Post,2012-04-05,2012-04-08,2012-04-10T11:01:56Z,,Registered Voters,Live Phone,51.0,43.0,4.0,2.0,https://elections.huffingtonpost.com/pollster/polls/abc-post-13481,http://www.washingtonpost.com/wp-srv/politics/polls/postabcpoll_04082012.html,Nonpartisan,None,,1\\nRasmussen,2012-04-04,2012-04-06,2012-04-09T11:24:20Z,1500,Likely Voters,Automated Phone,47.0,44.0,,,https://elections.huffingtonpost.com/pollster/polls/rasmussen-13473,http://www.rasmussenreports.com/public_content/archive/2012_presidential_election_matchups2,Nonpartisan,None,,1\\nTIPP/Investor\\'s Business Daily/Christian Science Monitor,2012-03-30,2012-04-05,2012-04-16T12:25:14Z,816,Registered Voters,Live Phone,46.0,38.0,11.0,5.0,https://elections.huffingtonpost.com/pollster/polls/tipp-investor-s-business-daily-christian-science-monitor-13532,http://www.tipponline.com/presidency/news/presidency/obama-leads-romney-46-to-38,Nonpartisan,None,,1\\nRasmussen,2012-04-01,2012-04-03,2012-04-04T12:42:18Z,1500,Likely Voters,Automated Phone,44.0,47.0,,,https://elections.huffingtonpost.com/pollster/polls/rasmussen-13426,http://www.rasmussenreports.com/public_content/archive/2012_presidential_election_matchups2,Nonpartisan,None,,1\\nYouGov/Economist,2012-03-31,2012-04-03,2012-04-05T09:18:45Z,1000,Adults,Internet,47.0,44.0,4.0,,https://elections.huffingtonpost.com/pollster/polls/yougov-economist-13440,http://cdn.yougov.com/cumulus_uploads/document/tcsmuw8ni1/econToplines.pdf,Nonpartisan,None,,1\\nRasmussen,2012-03-29,2012-03-31,2012-04-02T11:46:16Z,1500,Likely Voters,Automated Phone,46.0,45.0,,,https://elections.huffingtonpost.com/pollster/polls/rasmussen-13405,http://www.rasmussenreports.com/public_content/archive/2012_presidential_election_matchups2,Nonpartisan,None,,1\\nRasmussen,2012-03-26,2012-03-28,2012-03-29T11:20:04Z,1500,Likely Voters,Automated Phone,44.0,46.0,,,https://elections.huffingtonpost.com/pollster/polls/rasmussen-13379,http://www.rasmussenreports.com/public_content/archive/2012_presidential_election_matchups2,Nonpartisan,None,,1\\nYouGov/Economist,2012-03-24,2012-03-27,2012-03-29T11:03:01Z,715,Registered Voters,Internet,46.0,43.0,6.0,,https://elections.huffingtonpost.com/pollster/polls/yougov-economist-13377,http://cdn.yougov.com/cumulus_uploads/document/id0byp7yy7/econToplines.pdf,Nonpartisan,None,,1\\nGallup,2012-03-25,2012-03-26,2012-04-02T11:51:07Z,901,Registered Voters,Live Phone,49.0,45.0,7.0,,https://elections.huffingtonpost.com/pollster/polls/gallup-13408,http://www.gallup.com/poll/153668/Obama-Romney-Among-Registered-Voters-Nationwide.aspx,Nonpartisan,None,,1\\nCNN,2012-03-24,2012-03-25,2012-03-28T16:52:53Z,925,Registered Voters,Live Phone,54.0,43.0,,3.0,https://elections.huffingtonpost.com/pollster/polls/cnn-13374,http://i2.cdn.turner.com/cnn/2012/images/03/28/rel3d.pdf,Nonpartisan,None,,1\\nRasmussen,2012-03-23,2012-03-25,2012-03-26T11:59:01Z,1500,Likely Voters,Automated Phone,46.0,43.0,,,https://elections.huffingtonpost.com/pollster/polls/rasmussen-13330,http://www.rasmussenreports.com/public_content/archive/2012_presidential_election_matchups2,Nonpartisan,None,,1\\nSuffolk,2012-03-21,2012-03-25,2012-03-26T13:54:49Z,1070,Likely Voters,Live Phone,47.0,37.0,7.0,7.0,https://elections.huffingtonpost.com/pollster/polls/suffolk-13338,http://www.suffolk.edu/51086.html,Nonpartisan,None,,1\\nMarist/McClatchy,2012-03-20,2012-03-22,2012-03-27T11:22:34Z,846,Registered Voters,Live Phone,46.0,44.0,9.0,,https://elections.huffingtonpost.com/pollster/polls/marist-mcclatchy-13344,http://www.mcclatchydc.com/2012/03/26/143149/mcclatchy-marist-poll-on-politics.html,Nonpartisan,None,,1\\nRasmussen,2012-03-20,2012-03-22,2012-03-23T14:20:27Z,1500,Likely Voters,Automated Phone,45.0,45.0,,,https://elections.huffingtonpost.com/pollster/polls/rasmussen-13309,http://www.rasmussenreports.com/public_content/archive/2012_presidential_election_matchups2,Nonpartisan,None,,1\\nYouGov/Economist,2012-03-17,2012-03-20,2012-03-21T16:35:33Z,715,Registered Voters,Internet,49.0,42.0,4.0,,https://elections.huffingtonpost.com/pollster/polls/yougov-economist-13283,http://cdn.yougov.com/cumulus_uploads/document/3nqergp46v/econToplines.pdf,Nonpartisan,None,,1\\nReason/Rupe,2012-03-10,2012-03-20,2012-03-26T17:40:40Z,1200,Adults,Live Phone,46.0,40.0,11.0,3.0,https://elections.huffingtonpost.com/pollster/polls/reason-rupe-13340,http://reason.com/assets/db/13327241811317.pdf,Nonpartisan,None,,1\\nRasmussen,2012-03-17,2012-03-19,2012-03-20T11:08:11Z,1500,Likely Voters,Automated Phone,46.0,45.0,,,https://elections.huffingtonpost.com/pollster/polls/rasmussen-13258,http://www.rasmussenreports.com/public_content/archive/2012_presidential_election_matchups2,Nonpartisan,None,,1\\nPPP (D),2012-03-15,2012-03-17,2012-03-22T13:57:59Z,900,Registered Voters,Automated Phone,48.0,44.0,8.0,,https://elections.huffingtonpost.com/pollster/polls/ppp-d-13288,http://www.publicpolicypolling.com/pdf/2011/PPP_Release_US_032212.pdf,Pollster,Dem,,1\\nRasmussen,2012-03-14,2012-03-16,2012-03-19T11:23:49Z,1500,Likely Voters,Automated Phone,49.0,43.0,,,https://elections.huffingtonpost.com/pollster/polls/rasmussen-13233,http://www.rasmussenreports.com/public_content/archive/2012_presidential_election_matchups2,Nonpartisan,None,,1\\nRasmussen,2012-03-11,2012-03-13,2012-03-14T09:48:29Z,1500,Likely Voters,Automated Phone,44.0,46.0,,,https://elections.huffingtonpost.com/pollster/polls/rasmussen-13209,http://www.rasmussenreports.com/public_content/politics/obama_administration/obama_approval_index_history,Nonpartisan,None,,1\\nYouGov/Economist,2012-03-10,2012-03-13,2012-03-15T16:42:09Z,715,Registered Voters,Internet,48.0,44.0,4.0,,https://elections.huffingtonpost.com/pollster/polls/yougov-economist-13219,http://cdn.yougov.com/cumulus_uploads/document/80t59s65uu/econToplines.pdf,Nonpartisan,None,,1\\nFOX,2012-03-10,2012-03-12,2012-03-15T11:16:12Z,912,Registered Voters,Live Phone,46.0,42.0,10.0,2.0,https://elections.huffingtonpost.com/pollster/polls/fox-13212,http://www.foxnews.com/interactive/politics/2012/03/14/fox-news-poll-romney-leads-gop-pack-but-obama-still-tops-republicans-in/,Nonpartisan,None,,1\\nIpsos/Reuters,2012-03-08,2012-03-11,2012-03-14T09:19:07Z,937,Registered Voters,Live Phone,52.0,41.0,4.0,3.0,https://elections.huffingtonpost.com/pollster/polls/ipsos-reuters-13208,http://www.ipsos-na.com/download/pr.aspx?id=11445,Nonpartisan,None,,1\\nBloomberg,2012-03-08,2012-03-11,2012-03-13T14:46:15Z,746,Likely Voters,Live Phone,47.0,47.0,6.0,,https://elections.huffingtonpost.com/pollster/polls/bloomberg-13207,http://www.bloomberg.com/news/2012-03-14/obama-romney-race-toss-up-in-poll-showing-independents-critical.html,Nonpartisan,None,,1\\nPew,2012-03-07,2012-03-11,2012-03-14T10:17:11Z,1188,Registered Voters,Live Phone,54.0,42.0,3.0,1.0,https://elections.huffingtonpost.com/pollster/polls/pew-13211,http://www.people-press.org/files/legacy-pdf/03-14-12%20Political%20Release.pdf,Nonpartisan,None,,1\\nCBS/Times,2012-03-07,2012-03-11,2012-03-12T11:43:21Z,878,Registered Voters,Live Phone,47.0,44.0,8.0,1.0,https://elections.huffingtonpost.com/pollster/polls/cbs-times-13183,http://www.cbsnews.com/8301-250_162-57395858/cbs-news-nyt-polls-3-12-12/,Nonpartisan,None,,1\\nRasmussen,2012-03-08,2012-03-10,2012-03-12T12:23:01Z,1500,Likely Voters,Automated Phone,42.0,48.0,,,https://elections.huffingtonpost.com/pollster/polls/rasmussen-13190,http://www.rasmussenreports.com/public_content/archive/2012_presidential_election_matchups2,Nonpartisan,None,,1\\nABC/Post,2012-03-07,2012-03-10,2012-03-12T12:12:26Z,,Registered Voters,Live Phone,47.0,49.0,4.0,1.0,https://elections.huffingtonpost.com/pollster/polls/abc-post-13184,http://www.washingtonpost.com/wp-srv/politics/polls/postabcpoll_031012.html,Nonpartisan,None,,1\\nRasmussen,2012-03-05,2012-03-07,2012-03-09T18:11:03Z,1500,Likely Voters,Automated Phone,48.0,44.0,,,https://elections.huffingtonpost.com/pollster/polls/rasmussen-13179,http://www.rasmussenreports.com/public_content/archive/2012_presidential_election_matchups2,Nonpartisan,None,,1\\nYouGov/Economist,2012-03-03,2012-03-06,2012-03-07T18:00:24Z,715,Registered Voters,Internet,49.0,41.0,4.0,,https://elections.huffingtonpost.com/pollster/polls/yougov-economist-13169,http://big.assets.huffingtonpost.com/20120306econToplines.pdf,Nonpartisan,None,,1\\nRasmussen,2012-03-02,2012-03-04,2012-03-05T10:30:21Z,1500,Likely Voters,Automated Phone,45.0,43.0,,,https://elections.huffingtonpost.com/pollster/polls/rasmussen-13134,http://www.rasmussenreports.com/public_content/archive/2012_presidential_election_matchups2,Nonpartisan,None,,1\\nNBC/WSJ,2012-02-29,2012-03-03,2012-03-05T10:36:47Z,,Registered Voters,Live Phone,50.0,44.0,2.0,4.0,https://elections.huffingtonpost.com/pollster/polls/nbc-wsj-13135,http://firstread.msnbc.msn.com/_news/2012/03/04/10578249-nbcwsj-poll-primary-season-takes-corrosive-toll-on-gop-and-its-candidates,Nonpartisan,None,,1\\nRasmussen,2012-02-28,2012-03-01,2012-03-02T11:48:40Z,1500,Likely Voters,Automated Phone,48.0,42.0,,,https://elections.huffingtonpost.com/pollster/polls/rasmussen-13103,http://www.rasmussenreports.com/public_content/archive/2012_presidential_election_matchups2,Nonpartisan,None,,1\\nYouGov/Economist,2012-02-25,2012-02-28,2012-03-01T15:20:50Z,1000,Adults,Internet,49.0,40.0,5.0,,https://elections.huffingtonpost.com/pollster/polls/yougov-economist-13092,http://big.assets.huffingtonpost.com/20120228econToplines.pdf,Nonpartisan,None,,1\\nRasmussen,2012-02-25,2012-02-27,2012-02-28T14:06:23Z,1500,Likely Voters,Automated Phone,44.0,44.0,,,https://elections.huffingtonpost.com/pollster/polls/rasmussen-13061,http://www.rasmussenreports.com/public_content/archive/2012_presidential_election_matchups2,Nonpartisan,None,,1\\nRasmussen,2012-02-22,2012-02-24,2012-02-27T11:55:31Z,1500,Likely Voters,Automated Phone,46.0,43.0,,,https://elections.huffingtonpost.com/pollster/polls/rasmussen-13049,http://www.rasmussenreports.com/public_content/archive/2012_presidential_election_matchups2,Nonpartisan,None,,1\\nPolitico/GWU/Battleground,2012-02-19,2012-02-22,2012-02-27T13:58:31Z,1000,Likely Voters,Live Phone,53.0,43.0,5.0,,https://elections.huffingtonpost.com/pollster/polls/politico-gwu-battleground-13054,http://images.politico.com/global/2012/02/bg_46_questionnaire.html,Nonpartisan,None,,1\\nRasmussen,2012-02-19,2012-02-21,2012-02-22T12:34:27Z,1500,Likely Voters,Automated Phone,47.0,41.0,,,https://elections.huffingtonpost.com/pollster/polls/rasmussen-12996,http://www.rasmussenreports.com/public_content/archive/2012_presidential_election_matchups2,Nonpartisan,None,,1\\nYouGov/Economist,2012-02-18,2012-02-21,2012-02-23T09:29:43Z,715,Registered Voters,Internet,49.0,41.0,5.0,,https://elections.huffingtonpost.com/pollster/polls/yougov-economist-13011,http://cdn.yougov.com/downloads/releases/econ/20120218_econToplines.pdf,Nonpartisan,None,,1\\nAP-GfK,2012-02-16,2012-02-20,2012-02-22T08:54:13Z,1000,Adults,Live Phone,51.0,43.0,2.0,5.0,https://elections.huffingtonpost.com/pollster/polls/ap-gfk-12993,http://surveys.ap.org/data/GfK/AP-GfK%20Poll%20February%202012%20Topline_2012%20GOP.pdf,Nonpartisan,None,,1\\nQuinnipiac,2012-02-14,2012-02-20,2012-02-22T08:40:53Z,2605,Registered Voters,Live Phone,46.0,44.0,8.0,2.0,https://elections.huffingtonpost.com/pollster/polls/quinnipiac-12992,http://www.quinnipiac.edu/institutes-and-centers/polling-institute/national/release-detail?ReleaseID=1708,Nonpartisan,None,,1\\nUSAToday/ Gallup,2012-02-16,2012-02-19,2012-02-22T09:02:29Z,898,Registered Voters,Live Phone,46.0,50.0,,,https://elections.huffingtonpost.com/pollster/polls/usatoday-gallup-12994,http://www.usatoday.com/news/politics/story/2012-02-20/GOP-convention-poll/53172644/1,Nonpartisan,None,,1\\nRasmussen,2012-02-16,2012-02-18,2012-02-20T20:04:35Z,1500,Likely Voters,Automated Phone,47.0,43.0,,,https://elections.huffingtonpost.com/pollster/polls/rasmussen-12972,http://www.rasmussenreports.com/public_content/archive/2012_presidential_election_matchups2,Nonpartisan,None,,1\\nRasmussen,2012-02-13,2012-02-15,2012-02-16T11:05:24Z,1500,Likely Voters,Automated Phone,47.0,43.0,,,https://elections.huffingtonpost.com/pollster/polls/rasmussen-12938,http://www.rasmussenreports.com/public_content/archive/2012_presidential_election_matchups2,Nonpartisan,None,,1\\nYouGov/Economist,2012-02-11,2012-02-14,2012-02-16T12:37:00Z,715,Registered Voters,Internet,49.0,42.0,5.0,,https://elections.huffingtonpost.com/pollster/polls/yougov-economist-12939,http://big.assets.huffingtonpost.com/20120214econToplines.pdf,Nonpartisan,None,,1\\nDemocracy Corps (D),2012-02-11,2012-02-14,2012-02-15T16:22:33Z,1000,Likely Voters,Live Phone,49.0,45.0,4.0,3.0,https://elections.huffingtonpost.com/pollster/polls/democracy-corps-d-12934,http://www.democracycorps.com/wp-content/files/dcor120214fq_web-Wednesday.pdf,Pollster,Dem,,1\\nCNN,2012-02-10,2012-02-13,2012-02-15T17:11:06Z,937,Registered Voters,Live Phone,51.0,46.0,,2.0,https://elections.huffingtonpost.com/pollster/polls/cnn-12935,http://i2.cdn.turner.com/cnn/2012/images/02/15/rel2f.pdf,Nonpartisan,None,,1\\nCBS/Times,2012-02-08,2012-02-13,2012-02-14T10:25:01Z,1064,Registered Voters,Live Phone,48.0,42.0,9.0,,https://elections.huffingtonpost.com/pollster/polls/cbs-times-12900,http://www.cbsnews.com/8301-250_162-57377936/cbs-news-polls-2-14-12/,Nonpartisan,None,,1\\nRasmussen,2012-02-10,2012-02-12,2012-02-14T12:01:25Z,1500,Likely Voters,Automated Phone,48.0,42.0,,,https://elections.huffingtonpost.com/pollster/polls/rasmussen-12903,http://www.rasmussenreports.com/public_content/archive/2012_presidential_election_matchups2,Nonpartisan,None,,1\\nPPP (D),2012-02-09,2012-02-12,2012-02-14T12:54:08Z,1200,Registered Voters,Automated Phone,49.0,42.0,9.0,,https://elections.huffingtonpost.com/pollster/polls/ppp-d-12905,http://www.publicpolicypolling.com/pdf/2011/PPP_Release_US_021412.pdf,Pollster,Dem,,1\\nPew,2012-02-08,2012-02-12,2012-02-13T14:40:33Z,1172,Registered Voters,Live Phone,52.0,44.0,3.0,1.0,https://elections.huffingtonpost.com/pollster/polls/pew-12891,http://www.people-press.org/files/legacy-pdf/02-13-12%20Final%20Political%20Release.pdf,Nonpartisan,None,,1\\nFairleigh Dickinson,2012-02-06,2012-02-12,2012-02-14T11:04:48Z,903,Registered Voters,Live Phone,45.0,41.0,13.0,,https://elections.huffingtonpost.com/pollster/polls/fairleigh-dickinson-12901,http://publicmind.fdu.edu/2012/beatboth/,Nonpartisan,None,,1\\nRasmussen,2012-02-07,2012-02-09,2012-02-13T11:22:30Z,1500,Likely Voters,Automated Phone,50.0,40.0,,,https://elections.huffingtonpost.com/pollster/polls/rasmussen-12843,http://www.rasmussenreports.com/public_content/archive/2012_presidential_election_matchups2,Nonpartisan,None,,1\\nFOX,2012-02-06,2012-02-09,2012-02-10T11:35:55Z,1100,Registered Voters,Live Phone,47.0,42.0,10.0,2.0,https://elections.huffingtonpost.com/pollster/polls/fox-12822,http://www.foxnews.com/politics/2012/02/10/fox-news-poll-methodology-santorum-surge/,Nonpartisan,None,,1\\nYouGov/Economist,2012-02-04,2012-02-07,2012-02-08T17:43:37Z,715,Registered Voters,Internet,51.0,39.0,5.0,,https://elections.huffingtonpost.com/pollster/polls/yougov-economist-12813,http://big.assets.huffingtonpost.com/20120207econToplines.pdf,Nonpartisan,None,,1\\nRasmussen,2012-02-04,2012-02-06,2012-02-08T16:18:15Z,1500,Likely Voters,Automated Phone,48.0,42.0,,,https://elections.huffingtonpost.com/pollster/polls/rasmussen-12783,http://www.rasmussenreports.com/public_content/archive/2012_presidential_election_matchups2,Nonpartisan,None,,1\\nIpsos/Reuters,2012-02-02,2012-02-06,2012-02-07T16:13:22Z,881,Registered Voters,Live Phone,48.0,42.0,6.0,5.0,https://elections.huffingtonpost.com/pollster/polls/ipsos-reuters-12743,http://www.ipsos-na.com/download/pr.aspx?id=11363,Nonpartisan,None,,1\\nABC/Post,2012-02-01,2012-02-04,2012-02-06T08:52:33Z,,Registered Voters,Live Phone,51.0,45.0,2.0,1.0,https://elections.huffingtonpost.com/pollster/polls/abc-post-12721,http://www.washingtonpost.com/wp-srv/politics/polls/postabcpoll_020412.html,Nonpartisan,None,,1\\nRasmussen,2012-02-01,2012-02-03,2012-02-08T16:18:45Z,1500,Likely Voters,Automated Phone,46.0,44.0,,,https://elections.huffingtonpost.com/pollster/polls/rasmussen-12786,http://www.rasmussenreports.com/public_content/archive/2012_presidential_election_matchups2,Nonpartisan,None,,1\\nRasmussen,2012-01-29,2012-01-31,2012-02-08T16:19:34Z,1500,Likely Voters,Automated Phone,47.0,43.0,,,https://elections.huffingtonpost.com/pollster/polls/rasmussen-12789,http://www.rasmussenreports.com/public_content/archive/2012_presidential_election_matchups2,Nonpartisan,None,,1\\nYouGov/Economist,2012-01-28,2012-01-31,2012-02-02T11:29:49Z,715,Registered Voters,Internet,49.0,40.0,5.0,,https://elections.huffingtonpost.com/pollster/polls/yougov-economist-12704,http://big.assets.huffingtonpost.com/20120131econToplines.pdf,Nonpartisan,None,,1\\nDailyKos/SEIU/PPP (D),2012-01-26,2012-01-29,2012-01-31T13:16:12Z,1000,Registered Voters,Automated Phone,46.0,42.0,12.0,,https://elections.huffingtonpost.com/pollster/polls/dailykos-seiu-ppp-d-12691,http://dailykos.com/weeklypolling/2012/1/26,Sponsor,Dem,,1\\nGallup,2012-01-27,2012-01-28,2012-01-30T08:45:36Z,907,Registered Voters,Live Phone,48.0,48.0,,,https://elections.huffingtonpost.com/pollster/polls/gallup-12664,http://www.gallup.com/poll/152240/Romney-Ties-Obama-Swing-States-Gingrich-Trails.aspx,Nonpartisan,None,,1\\nRasmussen,2012-01-26,2012-01-28,2012-02-08T16:20:18Z,1500,Likely Voters,Automated Phone,45.0,43.0,,,https://elections.huffingtonpost.com/pollster/polls/rasmussen-12792,http://www.rasmussenreports.com/public_content/archive/2012_presidential_election_matchups2,Nonpartisan,None,,1\\nRasmussen,2012-01-23,2012-01-25,2012-02-08T16:20:47Z,1500,Likely Voters,Automated Phone,46.0,43.0,,,https://elections.huffingtonpost.com/pollster/polls/rasmussen-12795,http://www.rasmussenreports.com/public_content/archive/2012_presidential_election_matchups2,Nonpartisan,None,,1\\nNBC/WSJ,2012-01-22,2012-01-24,2012-01-27T09:21:39Z,,Registered Voters,Live Phone,49.0,43.0,4.0,4.0,https://elections.huffingtonpost.com/pollster/polls/nbc-wsj-12644,http://msnbcmedia.msn.com/i/MSNBC/Sections/A_Politics/_Today_Stories_Teases/120126NBCWSJfinal.pdf,Nonpartisan,None,,1\\nYouGov/Economist,2012-01-21,2012-01-24,2012-01-25T17:32:14Z,715,Registered Voters,Internet,47.0,41.0,7.0,,https://elections.huffingtonpost.com/pollster/polls/yougov-economist-12631,http://cdn.yougov.com/downloads/releases/econ/20120121_econToplines.pdf,Nonpartisan,None,,1\\nRasmussen,2012-01-20,2012-01-22,2012-02-08T16:21:22Z,1500,Likely Voters,Automated Phone,45.0,43.0,,,https://elections.huffingtonpost.com/pollster/polls/rasmussen-12798,http://www.rasmussenreports.com/public_content/archive/2012_presidential_election_matchups2,Nonpartisan,None,,1\\nCBS/Times,2012-01-12,2012-01-17,2012-01-19T08:38:17Z,1021,Registered Voters,Live Phone,45.0,45.0,7.0,1.0,https://elections.huffingtonpost.com/pollster/polls/cbs-times-12507,http://www.cbsnews.com/htdocs/pdf/Jan_12b_Prez_Econ_Gen_Elec.pdf?tag=contentMain;contentBody,Nonpartisan,None,,1\\nPPP (D),2012-01-13,2012-01-16,2012-01-17T15:27:38Z,700,Registered Voters,Automated Phone,49.0,44.0,7.0,,https://elections.huffingtonpost.com/pollster/polls/ppp-d-12491,http://www.publicpolicypolling.com/pdf/2011/PPP_Release_US_0117925.pdf,Pollster,Dem,,1\\nPew,2012-01-11,2012-01-16,2012-01-18T14:31:00Z,1207,Registered Voters,Live Phone,50.0,45.0,4.0,2.0,https://elections.huffingtonpost.com/pollster/polls/pew-12503,http://www.people-press.org/2012/01/18/unpopular-nationally-romney-holds-solid-gop-lead/,Nonpartisan,None,,1\\nABC/Post,2012-01-12,2012-01-15,2012-01-17T13:11:12Z,,Registered Voters,Live Phone,46.0,48.0,4.0,2.0,https://elections.huffingtonpost.com/pollster/polls/abc-post-12487,http://www.washingtonpost.com/wp-srv/politics/polls/postabcpoll_011512.html,Nonpartisan,None,,1\\nFOX,2012-01-12,2012-01-14,2012-01-17T10:32:05Z,906,Registered Voters,Live Phone,46.0,45.0,8.0,1.0,https://elections.huffingtonpost.com/pollster/polls/fox-12472,http://www.foxnews.com/interactive/politics/2012/01/15/fox-news-poll-raw-data-romney-hits-record-high-but-still-tied-with-obama/,Nonpartisan,None,,1\\nCNN,2012-01-11,2012-01-12,2012-01-17T10:11:49Z,928,Registered Voters,Live Phone,47.0,48.0,4.0,1.0,https://elections.huffingtonpost.com/pollster/polls/cnn-12467,http://i2.cdn.turner.com/cnn/2012/images/01/16/rel1bb.pdf,Nonpartisan,None,,1\\nDemocracy Corps (D),2012-01-08,2012-01-11,2012-01-13T12:05:03Z,1000,Likely Voters,Live Phone,47.0,46.0,3.0,3.0,https://elections.huffingtonpost.com/pollster/polls/democracy-corps-d-12463,http://www.democracycorps.com/wp-content/files/January-National-FQ.pdf,Pollster,Dem,,1\\nRasmussen,2012-01-09,2012-01-10,2012-01-11T12:26:19Z,1000,Likely Voters,Automated Phone,44.0,41.0,8.0,7.0,https://elections.huffingtonpost.com/pollster/polls/rasmussen-12449,http://www.rasmussenreports.com/public_content/politics/elections/election_2012/election_2012_presidential_election/2012_presidential_matchups,Nonpartisan,None,,1\\nYouGov/Economist,2012-01-07,2012-01-10,2012-01-12T17:27:25Z,715,Registered Voters,Internet,44.0,44.0,5.0,,https://elections.huffingtonpost.com/pollster/polls/yougov-economist-12456,http://cdn.yougov.com/downloads/releases/econ/20120107_econToplines.pdf,Nonpartisan,None,,1\\nIpsos/Reuters,2012-01-05,2012-01-09,2012-01-10T14:52:14Z,900,Registered Voters,Live Phone,48.0,43.0,5.0,4.0,https://elections.huffingtonpost.com/pollster/polls/ipsos-reuters-12444,http://www.ipsos-na.com/download/pr.aspx?id=11291,Nonpartisan,None,,1\\nCBS,2012-01-04,2012-01-08,2012-01-09T09:34:48Z,1247,Registered Voters,Live Phone,45.0,47.0,8.0,,https://elections.huffingtonpost.com/pollster/polls/cbs-12422,http://www.cbsnews.com/8301-250_162-57355596/cbs-news-polls-1-9-12/,Nonpartisan,None,,1\\nRasmussen,2012-01-03,2012-01-04,2012-01-05T16:24:13Z,1000,Likely Voters,Automated Phone,42.0,42.0,8.0,8.0,https://elections.huffingtonpost.com/pollster/polls/rasmussen-12401,http://www.rasmussenreports.com/public_content/politics/elections/election_2012/election_2012_presidential_election/2012_presidential_matchups,Nonpartisan,None,,1\\nYouGov/Economist,2011-12-31,2012-01-03,2012-01-05T17:58:28Z,715,Registered Voters,Internet,49.0,40.0,6.0,,https://elections.huffingtonpost.com/pollster/polls/yougov-economist-12402,http://big.assets.huffingtonpost.com/20120103econToplines.pdf,Nonpartisan,None,,1\\nRasmussen,2011-12-27,2011-12-28,2011-12-29T13:43:35Z,1500,Likely Voters,Automated Phone,39.0,45.0,6.0,19.0,https://elections.huffingtonpost.com/pollster/polls/rasmussen-12369,http://www.rasmussenreports.com/public_content/politics/elections/election_2012/election_2012_presidential_election/2012_presidential_matchups,Nonpartisan,None,,1\\nRasmussen,2011-12-20,2011-12-21,2011-12-22T14:01:35Z,1000,Likely Voters,Automated Phone,44.0,41.0,8.0,7.0,https://elections.huffingtonpost.com/pollster/polls/rasmussen-12336,http://www.rasmussenreports.com/public_content/politics/elections/election_2012/election_2012_presidential_election/2012_presidential_matchups,Nonpartisan,None,,1\\nYouGov/Economist,2011-12-17,2011-12-20,2011-12-21T17:42:37Z,715,Registered Voters,Internet,47.0,40.0,6.0,,https://elections.huffingtonpost.com/pollster/polls/yougov-economist-12334,http://big.assets.huffingtonpost.com/20111220econToplines.pdf,Nonpartisan,None,,1\\nPPP (D),2011-12-16,2011-12-18,2011-12-20T15:10:11Z,700,Registered Voters,Automated Phone,45.0,47.0,8.0,,https://elections.huffingtonpost.com/pollster/polls/ppp-d-12323,http://www.publicpolicypolling.com/pdf/2011/PPP_Release_National_1220925.pdf,Pollster,Dem,,1\\nCNN,2011-12-16,2011-12-18,2011-12-20T13:16:42Z,928,Registered Voters,Live Phone,52.0,45.0,2.0,1.0,https://elections.huffingtonpost.com/pollster/polls/cnn-12319,http://i2.cdn.turner.com/cnn/2011/images/12/20/rel20b.pdf,Nonpartisan,None,,1\\nUSA Today/Gallup,2011-12-15,2011-12-18,2011-12-20T11:12:25Z,898,Registered Voters,Live Phone,50.0,48.0,,,https://elections.huffingtonpost.com/pollster/polls/usa-today-gallup-12317,http://www.gallup.com/poll/151634/Romney-Gingrich-Tie-Obama-2012-Ballot.aspx,Nonpartisan,None,,1\\nABC/Post,2011-12-15,2011-12-18,2011-12-19T17:53:01Z,,Registered Voters,Live Phone,47.0,47.0,3.0,2.0,https://elections.huffingtonpost.com/pollster/polls/abc-post-12313,http://www.washingtonpost.com/wp-srv/politics/polls/postabcpoll_121811.html,Nonpartisan,None,,1\\nRasmussen,2011-12-14,2011-12-15,2011-12-16T12:31:54Z,1500,Likely Voters,Automated Phone,42.0,43.0,,,https://elections.huffingtonpost.com/pollster/polls/rasmussen-12296,http://www.rasmussenreports.com/public_content/politics/elections/election_2012/election_2012_presidential_election/2012_presidential_matchups,Nonpartisan,None,,1\\nYouGov/Economist,2011-12-10,2011-12-13,2011-12-14T16:01:57Z,720,Registered Voters,Internet,46.0,43.0,6.0,,https://elections.huffingtonpost.com/pollster/polls/yougov-economist-12285,http://big.assets.huffingtonpost.com/20111213econToplines.pdf,Nonpartisan,None,,1\\nAP-GfK,2011-12-08,2011-12-12,2011-12-14T13:46:19Z,1000,Adults,Live Phone,47.0,46.0,1.0,7.0,https://elections.huffingtonpost.com/pollster/polls/ap-gfk-12277,http://surveys.ap.org/data/GfK/AP-GfK%20Poll%20December%202011%20Topline%20-%20GOP2012.pdf,Nonpartisan,None,,1\\nIpsos/Reuters,2011-12-08,2011-12-12,2011-12-14T13:01:47Z,900,Registered Voters,Live Phone,48.0,40.0,6.0,6.0,https://elections.huffingtonpost.com/pollster/polls/ipsos-reuters-12275,http://www.ipsos-na.com/download/pr.aspx?id=11210,Nonpartisan,None,,1\\nNBC/WSJ,2011-12-07,2011-12-11,2011-12-14T13:18:24Z,,Registered Voters,Live Phone,47.0,45.0,4.0,4.0,https://elections.huffingtonpost.com/pollster/polls/nbc-wsj-12276,http://msnbcmedia.msn.com/i/MSNBC/Sections/NEWS/A_Politics/_Today_Stories_Teases/111213DecNBCWSJpoll.pdf,Nonpartisan,None,,1\\nRasmussen,2011-12-08,2011-12-09,2011-12-13T10:34:11Z,1000,Likely Voters,Automated Phone,42.0,45.0,7.0,7.0,https://elections.huffingtonpost.com/pollster/polls/rasmussen-12266,http://www.rasmussenreports.com/public_content/politics/elections/election_2012/election_2012_presidential_election/2012_presidential_matchups,Nonpartisan,None,,1\\nFOX,2011-12-05,2011-12-07,2011-12-09T11:37:27Z,911,Registered Voters,Live Phone,44.0,42.0,11.0,3.0,https://elections.huffingtonpost.com/pollster/polls/fox-12246,http://www.foxnews.com/interactive/politics/2011/12/08/fox-news-poll-gop-presidential-race/,Nonpartisan,None,,1\\nYouGov/Economist,2011-12-03,2011-12-06,2011-12-07T16:52:05Z,715,Registered Voters,Internet,46.0,44.0,6.0,,https://elections.huffingtonpost.com/pollster/polls/yougov-economist-12240,http://big.assets.huffingtonpost.com/20111206econToplines.pdf,Nonpartisan,None,,1\\nFairleigh Dickinson,2011-11-29,2011-12-05,2011-12-07T13:40:37Z,855,Registered Voters,Live Phone,46.0,42.0,11.0,,https://elections.huffingtonpost.com/pollster/polls/fairleigh-dickinson-12230,http://publicmind.fdu.edu/2011/newfave/,Nonpartisan,None,,1\\nRasmussen,2011-11-30,2011-12-01,2011-12-02T12:08:42Z,1000,Likely Voters,Automated Phone,42.0,40.0,8.0,10.0,https://elections.huffingtonpost.com/pollster/polls/rasmussen-12194,http://www.rasmussenreports.com/public_content/politics/elections/election_2012/election_2012_presidential_election/2012_presidential_matchups,Nonpartisan,None,,1\\nYouGov/Economist,2011-11-26,2011-11-29,2011-11-30T17:45:08Z,715,Registered Voters,Internet,46.0,42.0,6.0,,https://elections.huffingtonpost.com/pollster/polls/yougov-economist-12186,http://big.assets.huffingtonpost.com/20111129econToplines.pdf,Nonpartisan,None,,1\\nRasmussen,2011-11-21,2011-11-22,2011-11-23T13:13:00Z,1000,Likely Voters,Automated Phone,44.0,38.0,8.0,10.0,https://elections.huffingtonpost.com/pollster/polls/rasmussen-12165,http://www.rasmussenreports.com/public_content/politics/elections/election_2012/election_2012_presidential_election/2012_presidential_matchups,Nonpartisan,None,,1\\nClarus,2011-11-20,2011-11-22,2012-01-20T15:48:02Z,602,Registered Voters,Live Phone,37.0,53.0,10.0,,https://elections.huffingtonpost.com/pollster/polls/clarus-12572,http://www.nola.com/politics/index.ssf/2010/10/david_vitter_holds_12-point_le.html,Nonpartisan,None,,1\\nYouGov/Economist,2011-11-19,2011-11-22,2011-11-28T12:59:56Z,1000,Adults,Internet,46.0,43.0,5.0,,https://elections.huffingtonpost.com/pollster/polls/yougov-economist-12176,http://big.assets.huffingtonpost.com/20111122econToplines.pdf,Nonpartisan,None,,1\\nQuinnipiac,2011-11-14,2011-11-20,2011-11-22T08:52:35Z,2552,Registered Voters,Live Phone,45.0,44.0,10.0,2.0,https://elections.huffingtonpost.com/pollster/polls/quinnipiac-12158,http://www.quinnipiac.edu/x1295.xml?ReleaseID=1676,Nonpartisan,None,,1\\nZogby (Internet),2011-11-15,2011-11-17,2011-11-18T11:16:55Z,2064,Likely Voters,Internet,42.0,44.0,6.0,6.0,https://elections.huffingtonpost.com/pollster/polls/zogby-internet-12145,http://www.ibopezogby.com/news/2011/11/17/ibope-zogby-poll-gingrich-takes-lead-gop-field-romney-drops-third/,Nonpartisan,None,,1\\nSurveyUSA,2011-11-15,2011-11-15,2011-11-16T11:45:52Z,1000,Registered Voters,Automated Phone,46.0,44.0,10.0,,https://elections.huffingtonpost.com/pollster/polls/surveyusa-12129,http://www.surveyusa.com/client/PollReportEmail.aspx?g=89a4e680-8fee-46fb-aef6-581e3cdf0833,Nonpartisan,None,,1\\nFOX,2011-11-13,2011-11-15,2011-11-17T11:17:37Z,328,Likely Voters - Republican,Live Phone,42.0,44.0,6.0,3.0,https://elections.huffingtonpost.com/pollster/polls/fox-12136,http://www.foxnews.com/interactive/politics/2011/11/16/fox-news-poll-gingrich-and-romney-top-gop-nominee-picks/.foxnews.c,Nonpartisan,None,,1\\nYouGov/Economist,2011-11-12,2011-11-15,2011-11-16T17:16:47Z,715,Registered Voters,Internet,46.0,41.0,7.0,,https://elections.huffingtonpost.com/pollster/polls/yougov-economist-12134,http://big.assets.huffingtonpost.com/20111115econToplines.pdf,Nonpartisan,None,,1\\nPew,2011-11-09,2011-11-14,2011-11-17T15:04:25Z,1901,Registered Voters,Live Phone,49.0,47.0,1.0,1.0,https://elections.huffingtonpost.com/pollster/polls/pew-12140,http://www.people-press.org/files/legacy-pdf/11-17-11%20Politics%20Release.pdf,Nonpartisan,None,,1\\nCNN,2011-11-11,2011-11-13,2011-11-14T12:20:26Z,925,Registered Voters,Live Phone,47.0,51.0,,2.0,https://elections.huffingtonpost.com/pollster/polls/cnn-12115,http://i2.cdn.turner.com/cnn/2011/images/11/14/rel18b.pdf,Nonpartisan,None,,1\\nPPP (D),2011-11-10,2011-11-13,2011-11-15T15:05:21Z,700,Likely Voters,Automated Phone,46.0,43.0,11.0,,https://elections.huffingtonpost.com/pollster/polls/ppp-d-12123,http://www.publicpolicypolling.com/pdf/2011/PPP_Release_US_1115513.pdf,Pollster,Dem,,1\\nRasmussen,2011-11-09,2011-11-10,2011-11-11T12:44:05Z,1000,Likely Voters,Automated Phone,43.0,42.0,7.0,8.0,https://elections.huffingtonpost.com/pollster/polls/rasmussen-12105,http://www.rasmussenreports.com/public_content/politics/elections/election_2012/election_2012_presidential_election/2012_presidential_matchups,Nonpartisan,None,,1\\nMarist/McClatchy,2011-11-08,2011-11-10,2011-11-16T11:18:10Z,872,Registered Voters,Live Phone,48.0,44.0,8.0,,https://elections.huffingtonpost.com/pollster/polls/marist-mcclatchy-12127,\"http://maristpoll.marist.edu/wp-content/misc/usapolls/US111108/Obama/Complete%20November%2016,%202011%20USA%20McClatchy-Marist%20Poll%20Release%20and%20Tables.pdf\",Nonpartisan,None,,1\\nPolitico/GWU/Battleground,2011-11-06,2011-11-09,2011-11-14T11:16:54Z,1000,Likely Voters,Live Phone,49.0,43.0,9.0,,https://elections.huffingtonpost.com/pollster/polls/politico-gwu-battleground-12111,http://www.politico.com/static/PPM187_bg45.html,Nonpartisan,None,,1\\nYouGov/Economist,2011-11-05,2011-11-08,2011-11-11T11:51:23Z,715,Registered Voters,Internet,46.0,42.0,7.0,,https://elections.huffingtonpost.com/pollster/polls/yougov-economist-12101,http://big.assets.huffingtonpost.com/20111108econToplines.pdf,Nonpartisan,None,,1\\nNBC/WSJ,2011-11-02,2011-11-05,2011-11-08T10:08:36Z,,Registered Voters,Live Phone,49.0,43.0,4.0,4.0,https://elections.huffingtonpost.com/pollster/polls/nbc-wsj-12087,http://msnbcmedia.msn.com/i/MSNBC/Sections/NEWS/A_Politics/November_Poll.pdf,Nonpartisan,None,,1\\nIpsos/Reuters,2011-10-31,2011-11-03,2011-11-04T15:52:06Z,937,Registered Voters,Live Phone,43.0,44.0,7.0,5.0,https://elections.huffingtonpost.com/pollster/polls/ipsos-reuters-12076,http://www.reuters.com/article/2011/11/04/us-usa-campaign-poll-idUSTRE7A359D20111104,Nonpartisan,None,,1\\nABC/Post,2011-10-31,2011-11-03,2011-11-04T11:11:28Z,,Registered Voters,Live Phone,46.0,45.0,3.0,3.0,https://elections.huffingtonpost.com/pollster/polls/abc-post-12073,http://www.washingtonpost.com/wp-srv/politics/polls/postabcpoll_110311.html,Nonpartisan,None,,1\\nRasmussen,2011-01-01,2011-11-02,2011-11-03T13:37:39Z,1500,Likely Voters,Automated Phone,42.0,41.0,7.0,10.0,https://elections.huffingtonpost.com/pollster/polls/rasmussen-12069,http://www.rasmussenreports.com/public_content/politics/elections/election_2012/election_2012_presidential_election/2012_presidential_matchups,Nonpartisan,None,,1\\nYouGov/Economist,2011-10-29,2011-11-01,2011-11-03T11:19:20Z,715,Registered Voters,Internet,47.0,39.0,8.0,,https://elections.huffingtonpost.com/pollster/polls/yougov-economist-12064,http://big.assets.huffingtonpost.com/20111101econToplines.pdf,Nonpartisan,None,,1\\nQuinnipiac,2011-10-25,2011-10-31,2011-11-02T11:21:59Z,2294,Registered Voters,Live Phone,47.0,42.0,9.0,2.0,https://elections.huffingtonpost.com/pollster/polls/quinnipiac-12060,http://www.quinnipiac.edu/x1295.xml?ReleaseID=1669,Nonpartisan,None,,1\\nGallup,2011-10-26,2011-10-27,2011-11-04T11:04:26Z,908,Registered Voters,Live Phone,47.0,47.0,7.0,,https://elections.huffingtonpost.com/pollster/polls/gallup-12072,http://www.gallup.com/poll/150554/Obama-Romney-Tied-Nationally-Swing-States.aspx,Nonpartisan,None,,1\\nYouGov/Economist,2011-10-22,2011-10-25,2011-10-28T12:03:35Z,715,Registered Voters,Internet,45.0,42.0,6.0,,https://elections.huffingtonpost.com/pollster/polls/yougov-economist-12045,http://big.assets.huffingtonpost.com/20111025econToplines.pdf,Nonpartisan,None,,1\\nDemocracy Corps (D)/Center for American Progress,2011-10-15,2011-10-18,2011-10-20T11:39:08Z,1000,Likely Voters,Live Phone,45.0,45.0,5.0,,https://elections.huffingtonpost.com/pollster/polls/democracy-corps-d-center-for-american-progress-12006,http://big.assets.huffingtonpost.com/PoliticalFQDCorps101811.pdf,Pollster,Dem,,1\\nYouGov/Economist,2011-10-15,2011-10-18,2011-10-20T11:17:47Z,1000,Adults,Internet,45.0,41.0,6.0,,https://elections.huffingtonpost.com/pollster/polls/yougov-economist-12005,http://big.assets.huffingtonpost.com/20111018econToplines.pdf,Nonpartisan,None,,1\\nAP-GfK,2011-10-13,2011-10-17,2011-10-19T15:04:26Z,1000,Adults,Live Phone,48.0,45.0,2.0,5.0,https://elections.huffingtonpost.com/pollster/polls/ap-gfk-12002,http://surveys.ap.org/data/GfK/AP-GfK%20Poll%20October%202011%20Topline%20FINAL_2012.pdf,Nonpartisan,None,,1\\nYouGov/Economist,2011-10-08,2011-10-11,2011-10-13T11:22:03Z,715,Registered Voters,Internet,47.0,41.0,7.0,,https://elections.huffingtonpost.com/pollster/polls/yougov-economist-11968,http://big.assets.huffingtonpost.com/20111011econToplines.pdf,Nonpartisan,None,,1\\nTime,2011-10-09,2011-10-10,2011-10-18T16:00:00Z,838,Likely Voters,Live Phone,48.0,44.0,5.0,3.0,https://elections.huffingtonpost.com/pollster/polls/time-11999,http://swampland.time.com/full-results-of-oct-9-10-2011-time-poll/,Nonpartisan,None,,1\\nTime,2011-10-09,2011-10-10,2011-10-13T11:32:43Z,1001,Adults,Live Phone,48.0,44.0,5.0,3.0,https://elections.huffingtonpost.com/pollster/polls/time-11969,http://swampland.time.com/full-results-of-oct-9-10-2011-time-poll/,Nonpartisan,None,,1\\nPPP (D),2011-10-07,2011-10-10,2011-10-11T15:39:08Z,700,Likely Voters,Automated Phone,45.0,45.0,10.0,,https://elections.huffingtonpost.com/pollster/polls/ppp-d-11956,http://www.publicpolicypolling.com/pdf/2011/PPP_Release_US_1011513.pdf,Pollster,Dem,,1\\nNBC/WSJ,2011-10-06,2011-10-10,2011-10-13T11:03:00Z,1000,Adults,Live Phone,46.0,44.0,5.0,5.0,https://elections.huffingtonpost.com/pollster/polls/nbc-wsj-11967,http://msnbcmedia.msn.com/i/MSNBC/Sections/NEWS/A_Politics/October_Poll.pdf,Nonpartisan,None,,1\\nClarus,2011-10-05,2011-10-07,2012-09-12T16:28:11Z,602,Likely Voters,Live Phone,37.0,53.0,10.0,,https://elections.huffingtonpost.com/pollster/polls/clarus-14989,http://www.wwltv.com/news/politics/Presidential-Poll-131821978.html,Nonpartisan,None,,1\\nZogby (Internet),2011-10-03,2011-10-05,2011-10-06T17:53:50Z,1581,Likely Voters,Internet,41.0,40.0,9.0,11.0,https://elections.huffingtonpost.com/pollster/polls/zogby-internet-11936,http://www.zogby.com/news/2011/10/06/ibope-zogby-poll-cain-expands-lead-over-gop-field-leads-obama-46-44/,Nonpartisan,None,,1\\nYouGov/Economist,2011-10-01,2011-10-04,2011-10-06T16:09:33Z,715,Registered Voters,Internet,44.0,43.0,7.0,,https://elections.huffingtonpost.com/pollster/polls/yougov-economist-11935,http://big.assets.huffingtonpost.com/20111004econToplines.pdf,Nonpartisan,None,,1\\nPew,2011-09-22,2011-10-04,2011-10-06T15:44:56Z,2410,Adults,Live Phone,48.0,48.0,4.0,1.0,https://elections.huffingtonpost.com/pollster/polls/pew-11934,http://people-press.org/files/legacy-pdf/10-6-11%20October%20Political%20Release.pdf,Nonpartisan,None,,1\\nQuinnipiac,2011-09-27,2011-10-03,2011-10-04T14:48:04Z,2118,Registered Voters,Live Phone,42.0,46.0,9.0,3.0,https://elections.huffingtonpost.com/pollster/polls/quinnipiac-11923,http://www.quinnipiac.edu/x1295.xml?ReleaseID=1656,Nonpartisan,None,,1\\nABC/Post,2011-09-29,2011-10-02,2011-10-04T11:37:04Z,,Registered Voters,Live Phone,46.0,48.0,3.0,2.0,https://elections.huffingtonpost.com/pollster/polls/abc-post-11922,http://www.washingtonpost.com/wp-srv/politics/polls/postabcpoll_100211.html,Nonpartisan,None,,1\\nFOX,2011-09-25,2011-09-27,2011-09-29T12:30:59Z,925,Registered Voters,Live Phone,45.0,42.0,10.0,3.0,https://elections.huffingtonpost.com/pollster/polls/fox-11900,http://www.foxnews.com/interactive/politics/2011/09/28/fox-news-poll-gop-race-top-tier/,Nonpartisan,None,,1\\nYouGov/Economist,2011-09-24,2011-09-27,2011-09-28T17:34:22Z,1000,Adults,Internet,42.0,45.0,6.0,,https://elections.huffingtonpost.com/pollster/polls/yougov-economist-11898,http://big.assets.huffingtonpost.com/20110927econToplines.pdf,Nonpartisan,None,,1\\nCNN,2011-09-23,2011-09-25,2011-09-26T12:17:13Z,917,Registered Voters,Live Phone,49.0,48.0,2.0,1.0,https://elections.huffingtonpost.com/pollster/polls/cnn-11890,http://politicalticker.blogs.cnn.com/2011/09/26/cnn-poll-perry-still-at-top-but-romney-stronger-vs-obama/,Nonpartisan,None,,1\\nMarist/McClatchy,2011-09-13,2011-09-14,2011-09-20T11:52:47Z,825,Registered Voters,Live Phone,46.0,44.0,10.0,,https://elections.huffingtonpost.com/pollster/polls/marist-mcclatchy-11873,\"http://maristpoll.marist.edu/wp-content/misc/usapolls/US110913/Obama_Congress_Jobs/Complete%20September%2020,%202011%20USA%20McClatchy-Marist%20Poll%20Release%20and%20Tables.pdf\",Nonpartisan,None,,1\\nYouGov/Economist,2011-09-10,2011-09-13,2011-09-15T12:22:45Z,717,Registered Voters,Internet,45.0,44.0,6.0,,https://elections.huffingtonpost.com/pollster/polls/yougov-economist-11846,http://big.assets.huffingtonpost.com/20110913econToplines.pdf,Nonpartisan,None,,1\\nZogby (Internet),2011-09-09,2011-09-12,2011-09-15T14:41:55Z,2088,Likely Voters,Internet,41.0,45.0,5.0,9.0,https://elections.huffingtonpost.com/pollster/polls/zogby-internet-11849,http://www.zogby.com/news/2011/09/13/ibope-zogby-poll-perry-holds-big-lead-among-gop-voters-only-romney-leads-obama/,Nonpartisan,None,,1\\nBloomberg,2011-09-09,2011-09-12,2011-09-15T11:54:18Z,997,Adults,Live Phone,48.0,43.0,9.0,,https://elections.huffingtonpost.com/pollster/polls/bloomberg-11845,http://www.bloomberg.com/news/2011-09-15/rick-perry-supported-by-republicans-in-poll-showing-plurality-reject-views.html,Nonpartisan,None,,1\\nIpsos/Reuters,2011-09-08,2011-09-12,2011-09-15T11:31:38Z,,Registered Voters,Live Phone,49.0,43.0,5.0,4.0,https://elections.huffingtonpost.com/pollster/polls/ipsos-reuters-11844,http://www.ipsos-http://www.ipsos-na.com/download/pr.aspx?id=10985na.com/download/pr.aspx?id=10888,Nonpartisan,None,,1\\nPPP (D),2011-09-08,2011-09-11,2011-09-13T14:57:48Z,665,Likely Voters,Automated Phone,49.0,45.0,7.0,,https://elections.huffingtonpost.com/pollster/polls/ppp-d-11831,http://www.publicpolicypolling.com/pdf/2011/PPP_Release_US_0913925.pdfhttp://dataentry.pollster.com:443/index#,Pollster,Dem,,1\\nYouGov/Economist,2011-09-03,2011-09-06,2011-09-09T08:46:38Z,1000,Adults,Internet,48.0,41.0,6.0,,https://elections.huffingtonpost.com/pollster/polls/yougov-economist-11815,http://big.assets.huffingtonpost.com/20110906econToplines.pdf,Nonpartisan,None,,1\\nABC/Post,2011-08-29,2011-09-01,2011-09-06T09:22:48Z,,Registered Voters,Live Phone,45.0,49.0,4.0,2.0,https://elections.huffingtonpost.com/pollster/polls/abc-post-11797,http://www.washingtonpost.com/wp-srv/politics/polls/postabcpoll_090111.html,Nonpartisan,None,,1\\nNBC/WSJ,2011-08-27,2011-08-31,2011-09-06T09:38:17Z,1000,Adults,Live Phone,46.0,45.0,5.0,4.0,https://elections.huffingtonpost.com/pollster/polls/nbc-wsj-11798,http://msnbcmedia.msn.com/i/MSNBC/Sections/NEWS/A_Politics/_Today_Stories_Teases/Correct_NBCWSJ_poll.pdf,Nonpartisan,None,,1\\nYouGov/Economist,2011-08-27,2011-08-30,2011-09-01T10:40:04Z,1000,Adults,Internet,45.0,44.0,7.0,,https://elections.huffingtonpost.com/pollster/polls/yougov-economist-11787,http://big.assets.huffingtonpost.com/20110830econToplines.pdf,Nonpartisan,None,,1\\nZogby (Internet),2011-08-25,2011-08-29,2011-08-30T17:10:07Z,2335,Likely Voters,Internet,40.0,45.0,3.0,11.0,https://elections.huffingtonpost.com/pollster/polls/zogby-internet-11781,http://www.zogby.com/news/2011/08/30/ibope-zogby-poll-perry-races-far-ahead-republican-field-4-announced-gop-candidates-tie-or-lead-obama/,Nonpartisan,None,,1\\nQuinnipiac,2011-08-16,2011-08-27,2011-08-31T10:46:54Z,2730,Registered Voters,Live Phone,45.0,45.0,8.0,2.0,https://elections.huffingtonpost.com/pollster/polls/quinnipiac-11783,http://www.quinnipiac.edu/x1295.xml?ReleaseID=1639,Nonpartisan,None,,1\\nYouGov/Economist,2011-08-20,2011-08-23,2011-08-24T15:51:46Z,1000,Adults,Internet,47.0,38.0,,,https://elections.huffingtonpost.com/pollster/polls/yougov-economist-11755,http://big.assets.huffingtonpost.com/20110823econToplines.pdf,Nonpartisan,None,,1\\nPPP (D),2011-08-18,2011-08-21,2011-08-23T16:57:02Z,700,Registered Voters,Automated Phone,45.0,45.0,10.0,,https://elections.huffingtonpost.com/pollster/polls/ppp-d-11748,http://www.publicpolicypolling.com/pdf/PPP_Release_US_0823424.pdf,Pollster,Dem,,1\\nGallup,2011-08-17,2011-08-18,2011-08-22T15:31:39Z,879,Registered Voters,Live Phone,46.0,48.0,6.0,,https://elections.huffingtonpost.com/pollster/polls/gallup-11744,http://www.gallup.com/poll/149114/Obama-Close-Race-Against-Romney-Perry-Bachmann-Paul.aspx,Nonpartisan,None,,1\\nYouGov/Economist,2011-08-13,2011-08-16,2011-08-18T17:17:26Z,1000,Adults,Internet,47.0,42.0,12.0,,https://elections.huffingtonpost.com/pollster/polls/yougov-economist-11730,http://big.assets.huffingtonpost.com/20110816econToplines.pdf,Nonpartisan,None,,1\\nDemocracy Corps (D)/Women\\'s Voices. Women Vote.,2011-08-06,2011-08-10,2011-08-12T17:11:17Z,1000,Likely Voters,Live Phone,48.0,46.0,3.0,,https://elections.huffingtonpost.com/pollster/polls/democracy-corps-d-women-s-voices-women-vote-11706,http://www.democracycorps.com/wp-content/files/dcor120811fq_WEBSITE.pdf,Pollster,Dem,,1\\nYouGov/Economist,2011-08-06,2011-08-09,2011-08-11T11:47:07Z,1000,Adults,Internet,48.0,45.0,7.0,,https://elections.huffingtonpost.com/pollster/polls/yougov-economist-11698,http://big.assets.huffingtonpost.com/20110809econToplines.pdf,Nonpartisan,None,,1\\nCNN,2011-08-05,2011-08-07,2011-08-08T17:46:14Z,930,Registered Voters,Live Phone,48.0,49.0,2.0,,https://elections.huffingtonpost.com/pollster/polls/cnn-11679,http://i2.cdn.turner.com/cnn/2011/images/08/08/poll2.aug8.pdf,Nonpartisan,None,,1\\nMarist/McClatchy,2011-08-02,2011-08-04,2011-08-10T11:09:36Z,807,Registered Voters,Live Phone,46.0,41.0,13.0,,https://elections.huffingtonpost.com/pollster/polls/marist-mcclatchy-11687,\"http://maristpoll.marist.edu/wp-content/misc/usapolls/US110802/2012/Complete%20August%2010,%202011%20USA%20McClatchy-Marist%20Poll%20Release%20and%20Tables.pdf\",Nonpartisan,None,,1\\nFOX,2011-07-17,2011-07-19,2011-07-22T11:23:33Z,912,Registered Voters,Live Phone,47.0,41.0,8.0,1.0,https://elections.huffingtonpost.com/pollster/polls/fox-11620,http://crocodoc.com/BLJwBPd,Nonpartisan,None,,1\\nPPP (D),2011-07-15,2011-07-17,2011-07-20T15:46:23Z,928,Registered Voters,Automated Phone,45.0,45.0,10.0,,https://elections.huffingtonpost.com/pollster/polls/ppp-d-11609,http://www.publicpolicypolling.com/pdf/PPP_Release_National_720925.pdf,Pollster,Dem,,1\\nNBC/WSJ,2011-07-14,2011-07-17,2011-07-19T17:22:59Z,1000,Adults,Live Phone,48.0,41.0,4.0,7.0,https://elections.huffingtonpost.com/pollster/polls/nbc-wsj-11606,http://msnbcmedia.msn.com/i/MSNBC/Sections/NEWS/A_Politics/July_Poll.pdf,Nonpartisan,None,,1\\nABC/Post,2011-07-14,2011-07-17,2011-07-19T12:46:43Z,,Registered Voters,Live Phone,49.0,47.0,2.0,2.0,https://elections.huffingtonpost.com/pollster/polls/abc-post-11602,http://www.washingtonpost.com/wp-srv/politics/polls/postabcpoll_071711.html,Nonpartisan,None,,1\\nZogby (Internet),2011-07-08,2011-07-11,2011-07-12T16:55:10Z,2132,Likely Voters,Internet,42.0,43.0,3.0,12.0,https://elections.huffingtonpost.com/pollster/polls/zogby-internet-11568,http://www.zogby.com/news/2011/07/12/ibope-zogby-poll-christie-ahead-obama-hypothetical-6-others-dead-heat-president/,Nonpartisan,None,,1\\nQuinnipiac,2011-07-05,2011-07-11,2011-07-13T12:33:11Z,2311,Registered Voters,Live Phone,47.0,41.0,9.0,2.0,https://elections.huffingtonpost.com/pollster/polls/quinnipiac-11572,http://www.quinnipiac.edu/x1295.xml?ReleaseID=1623,Nonpartisan,None,,1\\nYouGov/Economist,2011-06-25,2011-06-28,2011-06-30T17:02:06Z,1000,Adults,Internet,46.0,43.0,,,https://elections.huffingtonpost.com/pollster/polls/yougov-economist-11534,http://cdn.yougov.com/downloads/releases/econ/20110625_econToplines.pdf,Nonpartisan,None,,1\\nMarist/McClatchy,2011-06-15,2011-06-23,2011-06-29T12:22:08Z,801,Registered Voters,Live Phone,46.0,42.0,11.0,,https://elections.huffingtonpost.com/pollster/polls/marist-mcclatchy-11522,\"http://maristpoll.marist.edu/wp-content/misc/usapolls/US110615/2012/Complete%20June%2029,%202011%20USA%20McClatchy-Marist%20Poll%20Release%20and%20Tables.pdf\",Nonpartisan,None,,1\\nDemocracy Corps (D),2011-06-18,2011-06-21,2011-06-27T12:44:30Z,1000,Likely Voters,Live Phone,47.0,45.0,3.0,,https://elections.huffingtonpost.com/pollster/polls/democracy-corps-d-11513,http://www.democracycorps.com/wp-content/files/110621-DCorps-FQ-Web.pdf,Pollster,Dem,,1\\nZogby (Internet),2011-06-17,2011-06-21,2011-06-30T16:34:30Z,2013,Likely Voters,Internet,42.0,41.0,,,https://elections.huffingtonpost.com/pollster/polls/zogby-internet-11533,http://www.zogby.com/news/2011/06/30/ibope-zogby-presidential-poll-bachmann-leads-among-gop-voters-romney-best-against-obama/,Nonpartisan,None,,1\\nYouGov/Economist,2011-06-11,2011-06-14,2011-06-17T12:18:58Z,1000,Adults,Internet,46.0,40.0,13.0,,https://elections.huffingtonpost.com/pollster/polls/yougov-economist-11480,http://big.assets.huffingtonpost.com/20110614econToplines.pdf,Nonpartisan,None,,1\\nNBC/WSJ,2011-06-09,2011-06-13,2011-06-16T08:58:28Z,1000,Adults,Live Phone,50.0,37.0,10.0,3.0,https://elections.huffingtonpost.com/pollster/polls/nbc-wsj-11473,http://msnbcmedia.msn.com/i/MSNBC/Sections/NEWS/A_Politics/_Today_Stories_Teases/11236%20JUNE%20NBC-WSJ%20Final%20Filled-in.pdf,Nonpartisan,None,,1\\nPPP (D),2011-06-09,2011-06-12,2011-06-15T12:14:07Z,520,Registered Voters,Automated Phone,47.0,45.0,12.0,,https://elections.huffingtonpost.com/pollster/polls/ppp-d-11468,http://www.publicpolicypolling.com/pdf/PPP_Release_National_615.pdf,Pollster,Dem,,1\\nFOX,2011-06-05,2011-06-07,2011-06-09T10:22:54Z,912,Registered Voters,Live Phone,48.0,48.0,7.0,1.0,https://elections.huffingtonpost.com/pollster/polls/fox-11443,http://www.foxnews.com/interactive/us/2011/06/08/obama-approval-drops-romney-tops-gop-preference/,Nonpartisan,None,,1\\nIpsos/Reuters,2011-06-03,2011-06-06,2011-06-09T10:47:11Z,1132,Adults,Live Phone,51.0,38.0,5.0,5.0,https://elections.huffingtonpost.com/pollster/polls/ipsos-reuters-11445,http://www.ipsos-na.com/download/pr.aspx?id=10797,Nonpartisan,None,,1\\nQuinnipiac,2011-05-31,2011-06-06,2011-06-08T17:09:22Z,1946,Registered Voters,Live Phone,47.0,41.0,8.0,2.0,https://elections.huffingtonpost.com/pollster/polls/quinnipiac-11440,http://www.quinnipiac.edu/x1295.xml?ReleaseID=1608,Nonpartisan,None,,1\\nABC/Post,2011-06-02,2011-06-05,2011-06-07T10:35:22Z,874,Registered Voters,Live Phone,46.0,49.0,3.0,2.0,https://elections.huffingtonpost.com/pollster/polls/abc-post-11431,http://www.washingtonpost.com/wp-srv/politics/polls/postabcpoll_060511_ATMIDNIGHT.html,Nonpartisan,None,,1\\nYouGov/Economist,2011-05-28,2011-05-31,2011-06-03T12:34:02Z,1000,Adults,Internet,47.0,38.0,16.0,,https://elections.huffingtonpost.com/pollster/polls/yougov-economist-11420,http://cdn.yougov.com/downloads/releases/econ/20110528_econToplines.pdf,Nonpartisan,None,,1\\nPPP (D),2011-05-23,2011-05-25,2011-05-26T15:10:43Z,600,Registered Voters,Automated Phone,49.0,42.0,9.0,,https://elections.huffingtonpost.com/pollster/polls/ppp-d-11387,http://www.publicpolicypolling.com/pdf/PPP_Release_US_0526.pdf,Pollster,Dem,,1\\nDemocracy Corps (D)/Women\\'s Voices. Women Vote.,2011-05-21,2011-05-25,2011-06-03T12:40:49Z,1000,Likely Voters,Live Phone,48.0,44.0,3.0,,https://elections.huffingtonpost.com/pollster/polls/democracy-corps-d-women-s-voices-women-vote-11421,http://www.democracycorps.com/wp-content/files/wvwv052511fq5.pdf,Pollster,Dem,,1\\nYouGov/Economist,2011-05-14,2011-05-17,2011-05-18T17:55:32Z,900,Adults,Internet,42.0,45.0,13.0,,https://elections.huffingtonpost.com/pollster/polls/yougov-economist-11349,http://cdn.yougov.com/downloads/releases/econ/20110514_econToplines.pdf,Nonpartisan,None,,1\\nSuffolk,2011-05-10,2011-05-17,2011-05-18T17:33:54Z,1070,Likely Voters,Live Phone,46.0,43.0,10.0,1.0,https://elections.huffingtonpost.com/pollster/polls/suffolk-11348,http://suffolk.edu/46652.html,Nonpartisan,None,,1\\nGWU/Politico (Lake/Tarrance),2011-05-08,2011-05-12,2011-05-16T08:57:58Z,1000,Likely Voters,Live Phone,52.0,40.0,9.0,,https://elections.huffingtonpost.com/pollster/polls/gwu-politico-lake-tarrance-11338,http://www.politico.com/static/PPM170_110515_battlegroundfullresults.html,Nonpartisan,None,,1\\nIpsos/Reuters,2011-05-05,2011-05-09,2011-05-11T16:21:40Z,1029,Adults,Live Phone,51.0,38.0,5.0,6.0,https://elections.huffingtonpost.com/pollster/polls/ipsos-reuters-11323,http://www.ipsos-na.com/download/pr.aspx?id=10715,Nonpartisan,None,,1\\nPPP (D),2011-05-05,2011-05-08,2011-05-11T15:43:37Z,814,Registered Voters,Automated Phone,47.0,42.0,11.0,,https://elections.huffingtonpost.com/pollster/polls/ppp-d-11322,http://www.publicpolicypolling.com/pdf/PPP_Release_US_0511424.pdf,Pollster,Dem,,1\\nNewsweek/Daily Beast,2011-05-02,2011-05-03,2011-05-04T11:04:28Z,600,Adults,Live Phone,42.0,36.0,,,https://elections.huffingtonpost.com/pollster/polls/newsweek-daily-beast-11287,http://www.thedailybeast.com/blogs-and-stories/2011-05-03/obama-approval-numbers-after-bin-laden-kill/,Pollster,Dem,,1\\nNewsweek/Daily Beast,2011-04-30,2011-05-01,2011-05-04T11:02:11Z,600,Adults,Live Phone,44.0,44.0,,,https://elections.huffingtonpost.com/pollster/polls/newsweek-daily-beast-11286,http://www.thedailybeast.com/blogs-and-stories/2011-05-03/obama-approval-numbers-after-bin-laden-kill/,Pollster,Dem,,1\\nYouGov/Economist,2011-04-23,2011-04-26,2011-05-02T14:57:03Z,1000,Adults,Internet,46.0,37.0,17.0,,https://elections.huffingtonpost.com/pollster/polls/yougov-economist-11274,http://big.assets.huffingtonpost.com/20110426econToplines.pdf,Nonpartisan,None,,1\\nYouGov/Economist,2011-04-16,2011-04-19,2011-04-21T17:11:45Z,1000,Adults,Internet,45.0,41.0,14.0,,https://elections.huffingtonpost.com/pollster/polls/yougov-economist-11230,http://cdn.yougov.com/downloads/releases/econ/20110416_econToplines.pdf,Nonpartisan,None,,1\\nABC/Post,2011-04-14,2011-04-17,2011-04-19T10:29:52Z,1001,Adults,Live Phone,49.0,45.0,3.0,3.0,https://elections.huffingtonpost.com/pollster/polls/abc-post-11215,http://www.washingtonpost.com/wp-srv/politics/polls/postpoll_04172011.html,Nonpartisan,None,,1\\nMarist/McClatchy,2011-04-10,2011-04-14,2011-04-20T17:18:48Z,1084,Registered Voters,Live Phone,46.0,45.0,9.0,,https://elections.huffingtonpost.com/pollster/polls/marist-mcclatchy-11226,\"http://maristpoll.marist.edu/wp-content/misc/usapolls/US110410/2012/Complete%20April%2020th,%202011%20USA%20Poll%20Release%20and%20Tables.pdf\",Nonpartisan,None,,1\\nDemocracy Corps (D)/Campaign For America\\'s Future,2011-04-10,2011-04-12,2011-04-15T16:46:48Z,1000,Likely Voters,Live Phone,46.0,48.0,3.0,,https://elections.huffingtonpost.com/pollster/polls/democracy-corps-d-campaign-for-america-s-future-11205,http://www.democracycorps.com/wp-content/files/fq4.pdf,Pollster,Dem,,1\\nPPP (D),2011-04-07,2011-04-10,2011-04-14T12:50:04Z,532,Registered Voters,Automated Phone,47.0,41.0,12.0,,https://elections.huffingtonpost.com/pollster/polls/ppp-d-11197,http://www.publicpolicypolling.com/pdf/PPP_Release_US_04131205.pdf,Pollster,Dem,,1\\nFairleigh Dickinson,2011-03-21,2011-03-28,2011-03-31T14:38:26Z,800,Registered Voters,Live Phone,44.0,43.0,12.0,,https://elections.huffingtonpost.com/pollster/polls/fairleigh-dickinson-11136,http://publicmind.fdu.edu/2011/1103prez/,Nonpartisan,None,,1\\nPPP (D),2011-03-10,2011-03-13,2011-03-16T16:41:35Z,642,Registered Voters,Automated Phone,47.0,42.0,12.0,,https://elections.huffingtonpost.com/pollster/polls/ppp-d-11070,http://www.publicpolicypolling.com/pdf/PPP_Release_US_0216424.pdf,Pollster,Dem,,1\\nNBC/WSJ,2011-02-24,2011-02-28,2011-03-03T10:13:43Z,1000,Adults,Live Phone,49.0,40.0,5.0,6.0,https://elections.huffingtonpost.com/pollster/polls/nbc-wsj-11019,http://msnbcmedia.msn.com/i/MSNBC/Sections/NEWS/A_Politics/___Politics_Today_Stories_Teases/2-24-28-11.pdf,Nonpartisan,None,,1\\nNewsweek/Daily Beast,2011-02-12,2011-02-15,2011-02-22T17:53:22Z,918,Likely Voters,Live Phone,49.0,47.0,,,https://elections.huffingtonpost.com/pollster/polls/newsweek-daily-beast-10985,http://www.thedailybeast.com/blogs-and-stories/2011-02-21/obama-hits-50-percent-approval-rating-according-to-new-newsweekdaily-beast-poll/,Pollster,Dem,,1\\nPPP (D),2011-02-11,2011-02-13,2011-02-16T12:47:04Z,600,Likely Voters,Automated Phone,46.0,41.0,13.0,,https://elections.huffingtonpost.com/pollster/polls/ppp-d-10968,http://www.publicpolicypolling.com/pdf/PPP_Release_US_0216.pdf,Pollster,Dem,,1\\nDemocracy Corps (D),2011-02-07,2011-02-09,2011-02-15T15:59:19Z,1001,Likely Voters,Live Phone,48.0,46.0,3.0,2.0,https://elections.huffingtonpost.com/pollster/polls/democracy-corps-d-10963,http://www.democracycorps.com/wp-content/files/dcor020911fq2.dcorps.pdf,Pollster,Dem,,1\\nFOX,2011-02-07,2011-02-09,2011-02-11T17:09:22Z,900,Registered Voters,Live Phone,48.0,41.0,3.0,2.0,https://elections.huffingtonpost.com/pollster/polls/fox-10952,http://www.foxnews.com/projects/pdf/021111_2012_election_web.pdf,Nonpartisan,None,,1\\nPPP (D),2011-01-14,2011-01-16,2011-01-20T13:06:15Z,632,Registered Voters,Automated Phone,48.0,43.0,9.0,,https://elections.huffingtonpost.com/pollster/polls/ppp-d-10858,http://www.publicpolicypolling.com/pdf/PPP_Release_National_0120806.pdf,Pollster,Dem,,1\\nDemocracy Corps (D)/Campaign for America\\'s Future,2011-01-09,2011-01-12,2011-01-18T16:52:51Z,800,Likely Voters,Live Phone,48.0,46.0,3.0,2.0,https://elections.huffingtonpost.com/pollster/polls/democracy-corps-d-campaign-for-america-s-future-10847,http://www.democracycorps.com/wp-content/files/dcor011211fqCAF.pdf,Pollster,Dem,,1\\nMarist/McClatchy,2011-01-06,2011-01-10,2011-01-14T10:11:10Z,827,Registered Voters,Live Phone,51.0,38.0,11.0,,https://elections.huffingtonpost.com/pollster/polls/marist-mcclatchy-10827,\"http://maristpoll.marist.edu/wp-content/misc/usapolls/US110106/Obama/Complete%20January%2014,%202011%20USA%20Poll%20Release%20and%20Tables.pdf\",Nonpartisan,None,,1\\nZogby (Internet),2010-12-30,2011-01-03,2011-01-04T16:07:27Z,2073,Likely Voters,Internet,41.0,41.0,6.0,12.0,https://elections.huffingtonpost.com/pollster/polls/zogby-internet-10788,http://www.zogby.com/news/ReadNews.cfm?ID=1937,Nonpartisan,None,,1\\nNBC/WSJ,2010-12-09,2010-12-13,2010-12-16T11:16:33Z,1000,Adults,Live Phone,47.0,40.0,7.0,6.0,https://elections.huffingtonpost.com/pollster/polls/nbc-wsj-10738,http://msnbcmedia.msn.com/i/MSNBC/Sections/NEWS/A_Politics/___Politics_Today_Stories_Teases/101770%20Dec%20NBC-WSJ%20Filled%20inV1.pdf,Nonpartisan,None,,1\\nPolitico / Penn Schoen Berland,2010-12-03,2010-12-08,2010-12-15T17:47:12Z,1668,Adults,Internet,40.0,33.0,27.0,,https://elections.huffingtonpost.com/pollster/polls/politico-penn-schoen-berland-10735,http://www.politico.com/static/PPM187_politicoreport.html,Sponsor,Other,,1\\nZogby (Internet),2010-11-19,2010-11-22,2010-11-22T17:52:37Z,2032,Likely Voters,Internet,38.0,44.0,3.0,15.0,https://elections.huffingtonpost.com/pollster/polls/zogby-internet-10655,http://www.zogby.com/news/ReadNews.cfm?ID=1924,Nonpartisan,None,,1\\nPPP (D),2010-11-19,2010-11-21,2010-11-29T16:01:16Z,707,Registered Voters,Automated Phone,47.0,46.0,7.0,,https://elections.huffingtonpost.com/pollster/polls/ppp-d-10667,http://www.publicpolicypolling.com/pdf/PPP_Release_National_1129.pdf,Pollster,Dem,,1\\nQuinnipiac,2010-11-08,2010-11-15,2010-11-22T12:44:56Z,2424,Registered Voters,Live Phone,44.0,45.0,9.0,2.0,https://elections.huffingtonpost.com/pollster/polls/quinnipiac-10653,http://www.quinnipiac.edu/x1295.xml?ReleaseID=1538,Nonpartisan,None,,1\\nPolitico / Penn Schoen Berland,2010-11-08,2010-11-11,2010-11-16T10:55:05Z,1668,Adults,Internet,40.0,32.0,28.0,,https://elections.huffingtonpost.com/pollster/polls/politico-penn-schoen-berland-10632,http://www.politico.com/static/PPM182_101115_report_nov.html,Sponsor,Other,,1\\nCNN,2010-10-27,2010-10-30,2010-11-08T12:06:30Z,921,Registered Voters,Live Phone,45.0,50.0,1.0,3.0,https://elections.huffingtonpost.com/pollster/polls/cnn-10568,http://politicalticker.blogs.cnn.com/2010/11/04/cnn-poll-obama-vs-palin-in-2012/,Nonpartisan,None,,1\\nFOX,2010-09-28,2010-09-29,2010-11-08T12:04:22Z,900,Registered Voters,Live Phone,41.0,40.0,11.0,7.0,https://elections.huffingtonpost.com/pollster/polls/fox-10567,http://www.foxnews.com/projects/pdf/100110_fox_news_poll.pdf,Nonpartisan,None,,1\\nPPP (D),2010-09-10,2010-09-13,2010-09-17T15:16:02Z,590,Registered Voters,Automated Phone,46.0,43.0,11.0,,https://elections.huffingtonpost.com/pollster/polls/ppp-d-9153,http://www.publicpolicypolling.com/pdf/PPP_Release_National_917.pdf,Pollster,Dem,,1\\nPolitico / Penn Schoen Berland,2010-08-06,2010-08-11,2010-11-08T12:00:01Z,1668,Adults,Internet,42.0,33.0,24.0,,https://elections.huffingtonpost.com/pollster/polls/politico-penn-schoen-berland-10566,http://www.politico.com/static/PPM152_1008013_politicoreport.html,Sponsor,Other,,1\\nPPP (D),2010-08-06,2010-08-09,2010-08-13T03:54:21Z,606,Registered Voters,Automated Phone,45.0,42.0,13.0,,https://elections.huffingtonpost.com/pollster/polls/ppp-d-8694,http://www.publicpolicypolling.com/pdf/PPP_Release_National_812.pdf,Pollster,Dem,,1\\nZogby (Internet),2010-07-16,2010-07-19,2010-11-08T11:54:08Z,8487,Likely Voters,Internet,45.0,43.0,,,https://elections.huffingtonpost.com/pollster/polls/zogby-internet-10565,http://politics.usnews.com/news/blogs/washington-whispers/2010/07/27/poll-obama-beats-romney-palin-and-dirty-harry,Nonpartisan,None,,1\\nPolitico / Penn Schoen Berland,2010-07-09,2010-07-14,2010-11-08T11:50:54Z,1011,Adults,Internet,39.0,35.0,26.0,,https://elections.huffingtonpost.com/pollster/polls/politico-penn-schoen-berland-10564,http://www.politico.com/static/PPM136_100718_poll_report.html,Sponsor,Other,,1\\nPPP (D),2010-07-09,2010-07-12,2010-07-15T08:49:24Z,667,Registered Voters,Automated Phone,43.0,46.0,11.0,,https://elections.huffingtonpost.com/pollster/polls/ppp-d-8343,http://www.publicpolicypolling.com/pdf/PPP_Release_National_715.pdf,Pollster,Dem,,1\\nPPP (D),2010-06-04,2010-06-07,2010-06-10T12:17:39Z,650,Registered Voters,Automated Phone,45.0,42.0,13.0,,https://elections.huffingtonpost.com/pollster/polls/ppp-d-8074,http://www.publicpolicypolling.com/pdf/PPP_Release_National_610.pdf,Pollster,Dem,,1\\nPPP (D),2010-05-07,2010-05-09,2010-05-12T15:17:23Z,707,Registered Voters,Automated Phone,46.0,44.0,11.0,,https://elections.huffingtonpost.com/pollster/polls/ppp-d-7857,http://www.publicpolicypolling.com/pdf/PPP_Release_National_512.pdf,Pollster,Dem,,1\\nCNN,2010-04-09,2010-04-11,2010-11-08T11:40:42Z,907,Registered Voters,Live Phone,53.0,45.0,,1.0,https://elections.huffingtonpost.com/pollster/polls/cnn-10563,http://i2.cdn.turner.com/cnn/2010/images/04/13/rel7d.pdf,Nonpartisan,None,,1\\nPPP (D),2010-04-09,2010-04-11,2010-04-15T09:22:40Z,622,Registered Voters,Automated Phone,44.0,45.0,10.0,,https://elections.huffingtonpost.com/pollster/polls/ppp-d-7610,http://www.publicpolicypolling.com/pdf/PPP_Release_National_415.pdf,Pollster,Dem,,1\\nClarus,2010-03-17,2010-03-20,2010-11-08T11:36:08Z,1050,Registered Voters,Live Phone,45.0,41.0,14.0,,https://elections.huffingtonpost.com/pollster/polls/clarus-10562,http://www.clarusrg.com/sites/default/files/Clarus_March%2025.pdf,Nonpartisan,None,,1\\nPPP (D),2010-03-12,2010-03-14,2010-03-18T09:19:18Z,1403,Registered Voters,Automated Phone,44.0,44.0,12.0,,https://elections.huffingtonpost.com/pollster/polls/ppp-d-7372,http://www.publicpolicypolling.com/pdf/PPP_Release_National_318.pdf,Pollster,Dem,,1\\nPPP (D),2010-02-13,2010-02-15,2010-02-18T10:39:08Z,743,Registered Voters,Automated Phone,45.0,43.0,12.0,,https://elections.huffingtonpost.com/pollster/polls/ppp-d-7167,http://www.publicpolicypolling.com/pdf/PPP_Release_National_2181205.pdf,Pollster,Dem,,1\\nPPP (D),2010-01-18,2010-01-19,2010-01-22T10:41:32Z,1151,Registered Voters,Automated Phone,44.0,42.0,15.0,,https://elections.huffingtonpost.com/pollster/polls/ppp-d-6970,http://www.publicpolicypolling.com/pdf/PPP_Release_National_122.pdf,Pollster,Dem,,1\\nFOX,2010-01-12,2010-01-13,2010-11-08T11:26:58Z,900,Registered Voters,Live Phone,47.0,35.0,10.0,5.0,https://elections.huffingtonpost.com/pollster/polls/fox-10561,http://www.foxnews.com/projects/pdf/012110_poll.pdf,Nonpartisan,None,,1\\nPPP (D),2009-12-04,2009-12-07,2009-12-10T08:10:07Z,1253,Registered Voters,Automated Phone,47.0,42.0,12.0,,https://elections.huffingtonpost.com/pollster/polls/ppp-d-6695,http://www.publicpolicypolling.com/pdf/surveys/2009_Archives/PPP_Release_National_1210.pdf,Pollster,Dem,,1\\nRasmussen,2009-11-24,2009-11-24,2009-11-25T08:50:13Z,800,Likely Voters,Automated Phone,44.0,44.0,5.0,6.0,https://elections.huffingtonpost.com/pollster/polls/rasmussen-6608,http://www.rasmussenreports.com/public_content/politics/elections2/election_2012/toplines/toplines_lou_dobbs_november_24_2009,Nonpartisan,None,,1\\nPPP (D),2009-11-13,2009-11-15,2009-11-20T08:45:21Z,1066,Registered Voters,Automated Phone,48.0,43.0,9.0,,https://elections.huffingtonpost.com/pollster/polls/ppp-d-6581,http://www.publicpolicypolling.com/pdf/surveys/2009_Archives/PPP_Release_National_1120.pdf,Pollster,Dem,,1\\nPPP (D),2009-10-16,2009-10-19,2009-10-22T08:16:05Z,766,Registered Voters,Automated Phone,48.0,40.0,12.0,,https://elections.huffingtonpost.com/pollster/polls/ppp-d-6370,http://www.publicpolicypolling.com/pdf/surveys/2009_Archives/PPP_Release_National_1022424.pdf,Pollster,Dem,,1\\nPPP (D),2009-09-21,2009-09-21,2009-09-24T10:45:45Z,621,Registered Voters,Automated Phone,48.0,39.0,13.0,,https://elections.huffingtonpost.com/pollster/polls/ppp-d-6144,http://www.publicpolicypolling.com/pdf/surveys/2009_Archives/PPP_Release_National_9241023.pdf,Pollster,Dem,,1\\nClarus,2009-08-14,2009-08-18,2010-11-08T11:11:21Z,1003,Registered Voters,Live Phone,47.0,38.0,15.0,,https://elections.huffingtonpost.com/pollster/polls/clarus-10560,http://www.clarusrg.com/press_releases/2009/Obam-Aug09-Clarus-poll-aug24%20ppt.pdf,Nonpartisan,None,,1\\nPPP (D),2009-08-14,2009-08-17,2009-08-20T08:31:37Z,909,Registered Voters,Automated Phone,47.0,40.0,12.0,,https://elections.huffingtonpost.com/pollster/polls/ppp-d-5880,http://www.publicpolicypolling.com/pdf/surveys/2009_Archives/PPP_Release_National_820.pdf,Pollster,Dem,,1\\nRasmussen,2009-07-18,2009-07-19,2010-11-08T11:05:08Z,1000,Likely Voters,Automated Phone,45.0,45.0,3.0,7.0,https://elections.huffingtonpost.com/pollster/polls/rasmussen-10559,http://www.rasmussenreports.com/public_content/politics/elections2/election_2012/2012_match_ups_obama_romney_tied_at_45_obama_48_palin_42,Nonpartisan,None,,1\\nPPP (D),2009-07-15,2009-07-16,2010-11-08T11:02:37Z,577,Registered Voters,Automated Phone,49.0,40.0,11.0,,https://elections.huffingtonpost.com/pollster/polls/ppp-d-10558,http://www.publicpolicypolling.com/pdf/surveys/2009_Archives/PPP_Release_National_720.pdf,Pollster,Dem,,1\\nPPP (D),2009-06-12,2009-06-16,2010-11-08T10:58:00Z,638,Registered Voters,Automated Phone,48.0,40.0,12.0,,https://elections.huffingtonpost.com/pollster/polls/ppp-d-10557,http://www.publicpolicypolling.com/pdf/surveys/2009_Archives/PPP_Release_National_618.pdf,Pollster,Dem,,1\\nPPP (D),2009-05-14,2009-05-18,2010-11-08T10:49:08Z,1000,Registered Voters,Automated Phone,53.0,35.0,12.0,,https://elections.huffingtonpost.com/pollster/polls/ppp-d-10556,http://www.publicpolicypolling.com/pdf/surveys/2009_Archives/PPP_Release_National_521.pdf,Pollster,Dem,,1\\nPPP (D),2009-04-17,2009-04-19,2010-11-08T10:45:18Z,686,Registered Voters,Automated Phone,50.0,39.0,11.0,,https://elections.huffingtonpost.com/pollster/polls/ppp-d-10555,http://www.publicpolicypolling.com/pdf/surveys/2009_Archives/PPP_Release_National_423.pdf,Pollster,Dem,,1\\nPPP (D),2009-03-13,2009-03-15,2010-11-08T10:36:31Z,1403,Registered Voters,Automated Phone,44.0,44.0,12.0,,https://elections.huffingtonpost.com/pollster/polls/ppp-d-10554,http://www.publicpolicypolling.com/pdf/PPP_Release_National_318.pdf,Pollster,Dem,,1\\n'"
            ]
          },
          "metadata": {},
          "execution_count": 3
        }
      ]
    },
    {
      "cell_type": "code",
      "metadata": {
        "colab": {
          "base_uri": "https://localhost:8080/",
          "height": 345
        },
        "id": "YQZwzFtIhbAQ",
        "outputId": "8a25e4cc-6980-4506-f205-31e6c616ff30"
      },
      "source": [
        "poll_data = StringIO(source)\n",
        "poll_df = pd.read_csv(poll_data)\n",
        "poll_df.head()"
      ],
      "execution_count": 7,
      "outputs": [
        {
          "output_type": "execute_result",
          "data": {
            "text/html": [
              "<div>\n",
              "<style scoped>\n",
              "    .dataframe tbody tr th:only-of-type {\n",
              "        vertical-align: middle;\n",
              "    }\n",
              "\n",
              "    .dataframe tbody tr th {\n",
              "        vertical-align: top;\n",
              "    }\n",
              "\n",
              "    .dataframe thead th {\n",
              "        text-align: right;\n",
              "    }\n",
              "</style>\n",
              "<table border=\"1\" class=\"dataframe\">\n",
              "  <thead>\n",
              "    <tr style=\"text-align: right;\">\n",
              "      <th></th>\n",
              "      <th>Pollster</th>\n",
              "      <th>Start Date</th>\n",
              "      <th>End Date</th>\n",
              "      <th>Entry Date/Time (ET)</th>\n",
              "      <th>Number of Observations</th>\n",
              "      <th>Population</th>\n",
              "      <th>Mode</th>\n",
              "      <th>Obama</th>\n",
              "      <th>Romney</th>\n",
              "      <th>Undecided</th>\n",
              "      <th>Other</th>\n",
              "      <th>Pollster URL</th>\n",
              "      <th>Source URL</th>\n",
              "      <th>Partisan</th>\n",
              "      <th>Affiliation</th>\n",
              "      <th>Question Text</th>\n",
              "      <th>Question Iteration</th>\n",
              "    </tr>\n",
              "  </thead>\n",
              "  <tbody>\n",
              "    <tr>\n",
              "      <th>0</th>\n",
              "      <td>Politico/GWU/Battleground</td>\n",
              "      <td>2012-11-04</td>\n",
              "      <td>2012-11-05</td>\n",
              "      <td>2012-11-06T08:40:26Z</td>\n",
              "      <td>1000.0</td>\n",
              "      <td>Likely Voters</td>\n",
              "      <td>Live Phone</td>\n",
              "      <td>47.0</td>\n",
              "      <td>47.0</td>\n",
              "      <td>6.0</td>\n",
              "      <td>NaN</td>\n",
              "      <td>https://elections.huffingtonpost.com/pollster/...</td>\n",
              "      <td>http://www.politico.com/news/stories/1112/8338...</td>\n",
              "      <td>Nonpartisan</td>\n",
              "      <td>None</td>\n",
              "      <td>NaN</td>\n",
              "      <td>1</td>\n",
              "    </tr>\n",
              "    <tr>\n",
              "      <th>1</th>\n",
              "      <td>YouGov/Economist</td>\n",
              "      <td>2012-11-03</td>\n",
              "      <td>2012-11-05</td>\n",
              "      <td>2012-11-26T15:31:23Z</td>\n",
              "      <td>740.0</td>\n",
              "      <td>Likely Voters</td>\n",
              "      <td>Internet</td>\n",
              "      <td>49.0</td>\n",
              "      <td>47.0</td>\n",
              "      <td>3.0</td>\n",
              "      <td>NaN</td>\n",
              "      <td>https://elections.huffingtonpost.com/pollster/...</td>\n",
              "      <td>http://cdn.yougov.com/cumulus_uploads/document...</td>\n",
              "      <td>Nonpartisan</td>\n",
              "      <td>None</td>\n",
              "      <td>NaN</td>\n",
              "      <td>1</td>\n",
              "    </tr>\n",
              "    <tr>\n",
              "      <th>2</th>\n",
              "      <td>Gravis Marketing</td>\n",
              "      <td>2012-11-03</td>\n",
              "      <td>2012-11-05</td>\n",
              "      <td>2012-11-06T09:22:02Z</td>\n",
              "      <td>872.0</td>\n",
              "      <td>Likely Voters</td>\n",
              "      <td>Automated Phone</td>\n",
              "      <td>48.0</td>\n",
              "      <td>48.0</td>\n",
              "      <td>4.0</td>\n",
              "      <td>NaN</td>\n",
              "      <td>https://elections.huffingtonpost.com/pollster/...</td>\n",
              "      <td>http://www.gravispolls.com/2012/11/gravis-mark...</td>\n",
              "      <td>Nonpartisan</td>\n",
              "      <td>None</td>\n",
              "      <td>NaN</td>\n",
              "      <td>1</td>\n",
              "    </tr>\n",
              "    <tr>\n",
              "      <th>3</th>\n",
              "      <td>IBD/TIPP</td>\n",
              "      <td>2012-11-03</td>\n",
              "      <td>2012-11-05</td>\n",
              "      <td>2012-11-06T08:51:48Z</td>\n",
              "      <td>712.0</td>\n",
              "      <td>Likely Voters</td>\n",
              "      <td>Live Phone</td>\n",
              "      <td>50.0</td>\n",
              "      <td>49.0</td>\n",
              "      <td>NaN</td>\n",
              "      <td>1.0</td>\n",
              "      <td>https://elections.huffingtonpost.com/pollster/...</td>\n",
              "      <td>http://news.investors.com/special-report/50841...</td>\n",
              "      <td>Nonpartisan</td>\n",
              "      <td>None</td>\n",
              "      <td>NaN</td>\n",
              "      <td>1</td>\n",
              "    </tr>\n",
              "    <tr>\n",
              "      <th>4</th>\n",
              "      <td>Rasmussen</td>\n",
              "      <td>2012-11-03</td>\n",
              "      <td>2012-11-05</td>\n",
              "      <td>2012-11-06T08:47:50Z</td>\n",
              "      <td>1500.0</td>\n",
              "      <td>Likely Voters</td>\n",
              "      <td>Automated Phone</td>\n",
              "      <td>48.0</td>\n",
              "      <td>49.0</td>\n",
              "      <td>NaN</td>\n",
              "      <td>NaN</td>\n",
              "      <td>https://elections.huffingtonpost.com/pollster/...</td>\n",
              "      <td>http://www.rasmussenreports.com/public_content...</td>\n",
              "      <td>Nonpartisan</td>\n",
              "      <td>None</td>\n",
              "      <td>NaN</td>\n",
              "      <td>1</td>\n",
              "    </tr>\n",
              "  </tbody>\n",
              "</table>\n",
              "</div>"
            ],
            "text/plain": [
              "                    Pollster  Start Date  ... Question Text Question Iteration\n",
              "0  Politico/GWU/Battleground  2012-11-04  ...           NaN                  1\n",
              "1           YouGov/Economist  2012-11-03  ...           NaN                  1\n",
              "2           Gravis Marketing  2012-11-03  ...           NaN                  1\n",
              "3                   IBD/TIPP  2012-11-03  ...           NaN                  1\n",
              "4                  Rasmussen  2012-11-03  ...           NaN                  1\n",
              "\n",
              "[5 rows x 17 columns]"
            ]
          },
          "metadata": {},
          "execution_count": 7
        }
      ]
    },
    {
      "cell_type": "code",
      "metadata": {
        "colab": {
          "base_uri": "https://localhost:8080/"
        },
        "id": "9ItWCke_ijEw",
        "outputId": "234e8a7b-2cf5-4a4c-b284-14817b39b014"
      },
      "source": [
        "poll_df.info()"
      ],
      "execution_count": 12,
      "outputs": [
        {
          "output_type": "stream",
          "name": "stdout",
          "text": [
            "<class 'pandas.core.frame.DataFrame'>\n",
            "RangeIndex: 586 entries, 0 to 585\n",
            "Data columns (total 17 columns):\n",
            " #   Column                  Non-Null Count  Dtype  \n",
            "---  ------                  --------------  -----  \n",
            " 0   Pollster                586 non-null    object \n",
            " 1   Start Date              586 non-null    object \n",
            " 2   End Date                586 non-null    object \n",
            " 3   Entry Date/Time (ET)    586 non-null    object \n",
            " 4   Number of Observations  564 non-null    float64\n",
            " 5   Population              586 non-null    object \n",
            " 6   Mode                    586 non-null    object \n",
            " 7   Obama                   586 non-null    float64\n",
            " 8   Romney                  586 non-null    float64\n",
            " 9   Undecided               423 non-null    float64\n",
            " 10  Other                   202 non-null    float64\n",
            " 11  Pollster URL            586 non-null    object \n",
            " 12  Source URL              584 non-null    object \n",
            " 13  Partisan                586 non-null    object \n",
            " 14  Affiliation             586 non-null    object \n",
            " 15  Question Text           0 non-null      float64\n",
            " 16  Question Iteration      586 non-null    int64  \n",
            "dtypes: float64(6), int64(1), object(10)\n",
            "memory usage: 78.0+ KB\n"
          ]
        }
      ]
    },
    {
      "cell_type": "code",
      "metadata": {
        "colab": {
          "base_uri": "https://localhost:8080/",
          "height": 421
        },
        "id": "y8d1qWLfh0m5",
        "outputId": "25b7f1ec-4a15-48a5-ca7b-5ddac3ccab24"
      },
      "source": [
        "poll_df[['Pollster','Partisan','Affiliation']].sort_values('Pollster').drop_duplicates()"
      ],
      "execution_count": 11,
      "outputs": [
        {
          "output_type": "execute_result",
          "data": {
            "text/html": [
              "<div>\n",
              "<style scoped>\n",
              "    .dataframe tbody tr th:only-of-type {\n",
              "        vertical-align: middle;\n",
              "    }\n",
              "\n",
              "    .dataframe tbody tr th {\n",
              "        vertical-align: top;\n",
              "    }\n",
              "\n",
              "    .dataframe thead th {\n",
              "        text-align: right;\n",
              "    }\n",
              "</style>\n",
              "<table border=\"1\" class=\"dataframe\">\n",
              "  <thead>\n",
              "    <tr style=\"text-align: right;\">\n",
              "      <th></th>\n",
              "      <th>Pollster</th>\n",
              "      <th>Partisan</th>\n",
              "      <th>Affiliation</th>\n",
              "    </tr>\n",
              "  </thead>\n",
              "  <tbody>\n",
              "    <tr>\n",
              "      <th>404</th>\n",
              "      <td>ABC/Post</td>\n",
              "      <td>Nonpartisan</td>\n",
              "      <td>None</td>\n",
              "    </tr>\n",
              "    <tr>\n",
              "      <th>471</th>\n",
              "      <td>AP-GfK</td>\n",
              "      <td>Nonpartisan</td>\n",
              "      <td>None</td>\n",
              "    </tr>\n",
              "    <tr>\n",
              "      <th>90</th>\n",
              "      <td>ARG</td>\n",
              "      <td>Nonpartisan</td>\n",
              "      <td>None</td>\n",
              "    </tr>\n",
              "    <tr>\n",
              "      <th>132</th>\n",
              "      <td>Allstate/National Journal</td>\n",
              "      <td>Nonpartisan</td>\n",
              "      <td>None</td>\n",
              "    </tr>\n",
              "    <tr>\n",
              "      <th>305</th>\n",
              "      <td>Angus-Reid</td>\n",
              "      <td>Nonpartisan</td>\n",
              "      <td>None</td>\n",
              "    </tr>\n",
              "    <tr>\n",
              "      <th>...</th>\n",
              "      <td>...</td>\n",
              "      <td>...</td>\n",
              "      <td>...</td>\n",
              "    </tr>\n",
              "    <tr>\n",
              "      <th>105</th>\n",
              "      <td>United Technologies/National Journal</td>\n",
              "      <td>Nonpartisan</td>\n",
              "      <td>None</td>\n",
              "    </tr>\n",
              "    <tr>\n",
              "      <th>62</th>\n",
              "      <td>Washington Times/JZ Analytics</td>\n",
              "      <td>Nonpartisan</td>\n",
              "      <td>None</td>\n",
              "    </tr>\n",
              "    <tr>\n",
              "      <th>18</th>\n",
              "      <td>YouGov</td>\n",
              "      <td>Nonpartisan</td>\n",
              "      <td>None</td>\n",
              "    </tr>\n",
              "    <tr>\n",
              "      <th>533</th>\n",
              "      <td>YouGov/Economist</td>\n",
              "      <td>Nonpartisan</td>\n",
              "      <td>None</td>\n",
              "    </tr>\n",
              "    <tr>\n",
              "      <th>450</th>\n",
              "      <td>Zogby (Internet)</td>\n",
              "      <td>Nonpartisan</td>\n",
              "      <td>None</td>\n",
              "    </tr>\n",
              "  </tbody>\n",
              "</table>\n",
              "<p>63 rows × 3 columns</p>\n",
              "</div>"
            ],
            "text/plain": [
              "                                 Pollster     Partisan Affiliation\n",
              "404                              ABC/Post  Nonpartisan        None\n",
              "471                                AP-GfK  Nonpartisan        None\n",
              "90                                    ARG  Nonpartisan        None\n",
              "132             Allstate/National Journal  Nonpartisan        None\n",
              "305                            Angus-Reid  Nonpartisan        None\n",
              "..                                    ...          ...         ...\n",
              "105  United Technologies/National Journal  Nonpartisan        None\n",
              "62          Washington Times/JZ Analytics  Nonpartisan        None\n",
              "18                                 YouGov  Nonpartisan        None\n",
              "533                      YouGov/Economist  Nonpartisan        None\n",
              "450                      Zogby (Internet)  Nonpartisan        None\n",
              "\n",
              "[63 rows x 3 columns]"
            ]
          },
          "metadata": {},
          "execution_count": 11
        }
      ]
    },
    {
      "cell_type": "code",
      "metadata": {
        "colab": {
          "base_uri": "https://localhost:8080/",
          "height": 357
        },
        "id": "B1mDnwyPim2s",
        "outputId": "f5c63abd-5533-4cd6-e257-9f2ab7955c64"
      },
      "source": [
        "sns.countplot('Affiliation', data = poll_df)"
      ],
      "execution_count": 13,
      "outputs": [
        {
          "output_type": "stream",
          "name": "stderr",
          "text": [
            "/usr/local/lib/python3.7/dist-packages/seaborn/_decorators.py:43: FutureWarning: Pass the following variable as a keyword arg: x. From version 0.12, the only valid positional argument will be `data`, and passing other arguments without an explicit keyword will result in an error or misinterpretation.\n",
            "  FutureWarning\n"
          ]
        },
        {
          "output_type": "execute_result",
          "data": {
            "text/plain": [
              "<matplotlib.axes._subplots.AxesSubplot at 0x7fe740fdf1d0>"
            ]
          },
          "metadata": {},
          "execution_count": 13
        },
        {
          "output_type": "display_data",
          "data": {
            "image/png": "[encoded data removed]",
            "text/plain": [
              "<Figure size 432x288 with 1 Axes>"
            ]
          },
          "metadata": {}
        }
      ]
    },
    {
      "cell_type": "code",
      "metadata": {
        "colab": {
          "base_uri": "https://localhost:8080/",
          "height": 354
        },
        "id": "E1KqjY8Ii2ZQ",
        "outputId": "f70361e3-bc62-4562-adac-0cd1e937bd31"
      },
      "source": [
        "sns.countplot('Affiliation', data = poll_df, hue = 'Population', order = ['Rep','Dem','None'])"
      ],
      "execution_count": 16,
      "outputs": [
        {
          "output_type": "stream",
          "name": "stderr",
          "text": [
            "/usr/local/lib/python3.7/dist-packages/seaborn/_decorators.py:43: FutureWarning: Pass the following variable as a keyword arg: x. From version 0.12, the only valid positional argument will be `data`, and passing other arguments without an explicit keyword will result in an error or misinterpretation.\n",
            "  FutureWarning\n"
          ]
        },
        {
          "output_type": "execute_result",
          "data": {
            "text/plain": [
              "<matplotlib.axes._subplots.AxesSubplot at 0x7fe740a05d50>"
            ]
          },
          "metadata": {},
          "execution_count": 16
        },
        {
          "output_type": "display_data",
          "data": {
            "image/png": "[encoded data removed]",
            "text/plain": [
              "<Figure size 432x288 with 1 Axes>"
            ]
          },
          "metadata": {}
        }
      ]
    },
    {
      "cell_type": "markdown",
      "metadata": {
        "id": "Ngw9_uipgNZw"
      },
      "source": [
        "##調査結果は、どちらの候補の有利を示しているか？"
      ]
    },
    {
      "cell_type": "code",
      "metadata": {
        "colab": {
          "base_uri": "https://localhost:8080/",
          "height": 267
        },
        "id": "7aI4-lhLglHg",
        "outputId": "0586bb8f-5d18-4488-da86-7259e975865a"
      },
      "source": [
        "avg = pd.DataFrame(poll_df.mean())\n",
        "avg"
      ],
      "execution_count": 17,
      "outputs": [
        {
          "output_type": "execute_result",
          "data": {
            "text/html": [
              "<div>\n",
              "<style scoped>\n",
              "    .dataframe tbody tr th:only-of-type {\n",
              "        vertical-align: middle;\n",
              "    }\n",
              "\n",
              "    .dataframe tbody tr th {\n",
              "        vertical-align: top;\n",
              "    }\n",
              "\n",
              "    .dataframe thead th {\n",
              "        text-align: right;\n",
              "    }\n",
              "</style>\n",
              "<table border=\"1\" class=\"dataframe\">\n",
              "  <thead>\n",
              "    <tr style=\"text-align: right;\">\n",
              "      <th></th>\n",
              "      <th>0</th>\n",
              "    </tr>\n",
              "  </thead>\n",
              "  <tbody>\n",
              "    <tr>\n",
              "      <th>Number of Observations</th>\n",
              "      <td>1296.679078</td>\n",
              "    </tr>\n",
              "    <tr>\n",
              "      <th>Obama</th>\n",
              "      <td>46.805461</td>\n",
              "    </tr>\n",
              "    <tr>\n",
              "      <th>Romney</th>\n",
              "      <td>44.614334</td>\n",
              "    </tr>\n",
              "    <tr>\n",
              "      <th>Undecided</th>\n",
              "      <td>6.550827</td>\n",
              "    </tr>\n",
              "    <tr>\n",
              "      <th>Other</th>\n",
              "      <td>3.376238</td>\n",
              "    </tr>\n",
              "    <tr>\n",
              "      <th>Question Text</th>\n",
              "      <td>NaN</td>\n",
              "    </tr>\n",
              "    <tr>\n",
              "      <th>Question Iteration</th>\n",
              "      <td>1.000000</td>\n",
              "    </tr>\n",
              "  </tbody>\n",
              "</table>\n",
              "</div>"
            ],
            "text/plain": [
              "                                  0\n",
              "Number of Observations  1296.679078\n",
              "Obama                     46.805461\n",
              "Romney                    44.614334\n",
              "Undecided                  6.550827\n",
              "Other                      3.376238\n",
              "Question Text                   NaN\n",
              "Question Iteration         1.000000"
            ]
          },
          "metadata": {},
          "execution_count": 17
        }
      ]
    },
    {
      "cell_type": "code",
      "metadata": {
        "colab": {
          "base_uri": "https://localhost:8080/",
          "height": 143
        },
        "id": "71jz0qnXjb_w",
        "outputId": "fbdf0f23-07cd-4af8-8c79-32e2158b7e22"
      },
      "source": [
        "avg.drop(['Number of Observations','Other','Question Text','Question Iteration'], axis = 0, inplace = True)\n",
        "avg"
      ],
      "execution_count": 18,
      "outputs": [
        {
          "output_type": "execute_result",
          "data": {
            "text/html": [
              "<div>\n",
              "<style scoped>\n",
              "    .dataframe tbody tr th:only-of-type {\n",
              "        vertical-align: middle;\n",
              "    }\n",
              "\n",
              "    .dataframe tbody tr th {\n",
              "        vertical-align: top;\n",
              "    }\n",
              "\n",
              "    .dataframe thead th {\n",
              "        text-align: right;\n",
              "    }\n",
              "</style>\n",
              "<table border=\"1\" class=\"dataframe\">\n",
              "  <thead>\n",
              "    <tr style=\"text-align: right;\">\n",
              "      <th></th>\n",
              "      <th>0</th>\n",
              "    </tr>\n",
              "  </thead>\n",
              "  <tbody>\n",
              "    <tr>\n",
              "      <th>Obama</th>\n",
              "      <td>46.805461</td>\n",
              "    </tr>\n",
              "    <tr>\n",
              "      <th>Romney</th>\n",
              "      <td>44.614334</td>\n",
              "    </tr>\n",
              "    <tr>\n",
              "      <th>Undecided</th>\n",
              "      <td>6.550827</td>\n",
              "    </tr>\n",
              "  </tbody>\n",
              "</table>\n",
              "</div>"
            ],
            "text/plain": [
              "                   0\n",
              "Obama      46.805461\n",
              "Romney     44.614334\n",
              "Undecided   6.550827"
            ]
          },
          "metadata": {},
          "execution_count": 18
        }
      ]
    },
    {
      "cell_type": "code",
      "metadata": {
        "colab": {
          "base_uri": "https://localhost:8080/",
          "height": 327
        },
        "id": "Nh11Z6v3jyZY",
        "outputId": "9d89f2f3-1411-47bf-873a-96891767940f"
      },
      "source": [
        "std = pd.DataFrame(poll_df.std())\n",
        "std.drop(['Number of Observations','Other','Question Text','Question Iteration'], axis = 0, inplace = True)\n",
        "avg.plot(yerr=std,kind='bar',legend=False)"
      ],
      "execution_count": 24,
      "outputs": [
        {
          "output_type": "execute_result",
          "data": {
            "text/plain": [
              "<matplotlib.axes._subplots.AxesSubplot at 0x7fe741038e50>"
            ]
          },
          "metadata": {},
          "execution_count": 24
        },
        {
          "output_type": "display_data",
          "data": {
            "image/png": "[encoded data removed]",
            "text/plain": [
              "<Figure size 432x288 with 1 Axes>"
            ]
          },
          "metadata": {}
        }
      ]
    },
    {
      "cell_type": "code",
      "metadata": {
        "colab": {
          "base_uri": "https://localhost:8080/",
          "height": 143
        },
        "id": "VFUHxk2qkvW2",
        "outputId": "17cf6540-94f0-43e1-c9ad-6d863cb2b57c"
      },
      "source": [
        "poll_avg = pd.concat([avg,std],axis=1)\n",
        "poll_avg.columns = ['Average','STD']\n",
        "poll_avg"
      ],
      "execution_count": 25,
      "outputs": [
        {
          "output_type": "execute_result",
          "data": {
            "text/html": [
              "<div>\n",
              "<style scoped>\n",
              "    .dataframe tbody tr th:only-of-type {\n",
              "        vertical-align: middle;\n",
              "    }\n",
              "\n",
              "    .dataframe tbody tr th {\n",
              "        vertical-align: top;\n",
              "    }\n",
              "\n",
              "    .dataframe thead th {\n",
              "        text-align: right;\n",
              "    }\n",
              "</style>\n",
              "<table border=\"1\" class=\"dataframe\">\n",
              "  <thead>\n",
              "    <tr style=\"text-align: right;\">\n",
              "      <th></th>\n",
              "      <th>Average</th>\n",
              "      <th>STD</th>\n",
              "    </tr>\n",
              "  </thead>\n",
              "  <tbody>\n",
              "    <tr>\n",
              "      <th>Obama</th>\n",
              "      <td>46.805461</td>\n",
              "      <td>2.422058</td>\n",
              "    </tr>\n",
              "    <tr>\n",
              "      <th>Romney</th>\n",
              "      <td>44.614334</td>\n",
              "      <td>2.906180</td>\n",
              "    </tr>\n",
              "    <tr>\n",
              "      <th>Undecided</th>\n",
              "      <td>6.550827</td>\n",
              "      <td>3.701754</td>\n",
              "    </tr>\n",
              "  </tbody>\n",
              "</table>\n",
              "</div>"
            ],
            "text/plain": [
              "             Average       STD\n",
              "Obama      46.805461  2.422058\n",
              "Romney     44.614334  2.906180\n",
              "Undecided   6.550827  3.701754"
            ]
          },
          "metadata": {},
          "execution_count": 25
        }
      ]
    },
    {
      "cell_type": "markdown",
      "metadata": {
        "id": "N2t4lro_gRCC"
      },
      "source": [
        "##態度未定の人達が世論調査に与えた影響は？"
      ]
    },
    {
      "cell_type": "code",
      "metadata": {
        "colab": {
          "base_uri": "https://localhost:8080/",
          "height": 345
        },
        "id": "rfjGy5WZglga",
        "outputId": "c550877b-f6f2-4cda-f2b1-10e804a53305"
      },
      "source": [
        "poll_df.head()"
      ],
      "execution_count": 27,
      "outputs": [
        {
          "output_type": "execute_result",
          "data": {
            "text/html": [
              "<div>\n",
              "<style scoped>\n",
              "    .dataframe tbody tr th:only-of-type {\n",
              "        vertical-align: middle;\n",
              "    }\n",
              "\n",
              "    .dataframe tbody tr th {\n",
              "        vertical-align: top;\n",
              "    }\n",
              "\n",
              "    .dataframe thead th {\n",
              "        text-align: right;\n",
              "    }\n",
              "</style>\n",
              "<table border=\"1\" class=\"dataframe\">\n",
              "  <thead>\n",
              "    <tr style=\"text-align: right;\">\n",
              "      <th></th>\n",
              "      <th>Pollster</th>\n",
              "      <th>Start Date</th>\n",
              "      <th>End Date</th>\n",
              "      <th>Entry Date/Time (ET)</th>\n",
              "      <th>Number of Observations</th>\n",
              "      <th>Population</th>\n",
              "      <th>Mode</th>\n",
              "      <th>Obama</th>\n",
              "      <th>Romney</th>\n",
              "      <th>Undecided</th>\n",
              "      <th>Other</th>\n",
              "      <th>Pollster URL</th>\n",
              "      <th>Source URL</th>\n",
              "      <th>Partisan</th>\n",
              "      <th>Affiliation</th>\n",
              "      <th>Question Text</th>\n",
              "      <th>Question Iteration</th>\n",
              "    </tr>\n",
              "  </thead>\n",
              "  <tbody>\n",
              "    <tr>\n",
              "      <th>0</th>\n",
              "      <td>Politico/GWU/Battleground</td>\n",
              "      <td>2012-11-04</td>\n",
              "      <td>2012-11-05</td>\n",
              "      <td>2012-11-06T08:40:26Z</td>\n",
              "      <td>1000.0</td>\n",
              "      <td>Likely Voters</td>\n",
              "      <td>Live Phone</td>\n",
              "      <td>47.0</td>\n",
              "      <td>47.0</td>\n",
              "      <td>6.0</td>\n",
              "      <td>NaN</td>\n",
              "      <td>https://elections.huffingtonpost.com/pollster/...</td>\n",
              "      <td>http://www.politico.com/news/stories/1112/8338...</td>\n",
              "      <td>Nonpartisan</td>\n",
              "      <td>None</td>\n",
              "      <td>NaN</td>\n",
              "      <td>1</td>\n",
              "    </tr>\n",
              "    <tr>\n",
              "      <th>1</th>\n",
              "      <td>YouGov/Economist</td>\n",
              "      <td>2012-11-03</td>\n",
              "      <td>2012-11-05</td>\n",
              "      <td>2012-11-26T15:31:23Z</td>\n",
              "      <td>740.0</td>\n",
              "      <td>Likely Voters</td>\n",
              "      <td>Internet</td>\n",
              "      <td>49.0</td>\n",
              "      <td>47.0</td>\n",
              "      <td>3.0</td>\n",
              "      <td>NaN</td>\n",
              "      <td>https://elections.huffingtonpost.com/pollster/...</td>\n",
              "      <td>http://cdn.yougov.com/cumulus_uploads/document...</td>\n",
              "      <td>Nonpartisan</td>\n",
              "      <td>None</td>\n",
              "      <td>NaN</td>\n",
              "      <td>1</td>\n",
              "    </tr>\n",
              "    <tr>\n",
              "      <th>2</th>\n",
              "      <td>Gravis Marketing</td>\n",
              "      <td>2012-11-03</td>\n",
              "      <td>2012-11-05</td>\n",
              "      <td>2012-11-06T09:22:02Z</td>\n",
              "      <td>872.0</td>\n",
              "      <td>Likely Voters</td>\n",
              "      <td>Automated Phone</td>\n",
              "      <td>48.0</td>\n",
              "      <td>48.0</td>\n",
              "      <td>4.0</td>\n",
              "      <td>NaN</td>\n",
              "      <td>https://elections.huffingtonpost.com/pollster/...</td>\n",
              "      <td>http://www.gravispolls.com/2012/11/gravis-mark...</td>\n",
              "      <td>Nonpartisan</td>\n",
              "      <td>None</td>\n",
              "      <td>NaN</td>\n",
              "      <td>1</td>\n",
              "    </tr>\n",
              "    <tr>\n",
              "      <th>3</th>\n",
              "      <td>IBD/TIPP</td>\n",
              "      <td>2012-11-03</td>\n",
              "      <td>2012-11-05</td>\n",
              "      <td>2012-11-06T08:51:48Z</td>\n",
              "      <td>712.0</td>\n",
              "      <td>Likely Voters</td>\n",
              "      <td>Live Phone</td>\n",
              "      <td>50.0</td>\n",
              "      <td>49.0</td>\n",
              "      <td>NaN</td>\n",
              "      <td>1.0</td>\n",
              "      <td>https://elections.huffingtonpost.com/pollster/...</td>\n",
              "      <td>http://news.investors.com/special-report/50841...</td>\n",
              "      <td>Nonpartisan</td>\n",
              "      <td>None</td>\n",
              "      <td>NaN</td>\n",
              "      <td>1</td>\n",
              "    </tr>\n",
              "    <tr>\n",
              "      <th>4</th>\n",
              "      <td>Rasmussen</td>\n",
              "      <td>2012-11-03</td>\n",
              "      <td>2012-11-05</td>\n",
              "      <td>2012-11-06T08:47:50Z</td>\n",
              "      <td>1500.0</td>\n",
              "      <td>Likely Voters</td>\n",
              "      <td>Automated Phone</td>\n",
              "      <td>48.0</td>\n",
              "      <td>49.0</td>\n",
              "      <td>NaN</td>\n",
              "      <td>NaN</td>\n",
              "      <td>https://elections.huffingtonpost.com/pollster/...</td>\n",
              "      <td>http://www.rasmussenreports.com/public_content...</td>\n",
              "      <td>Nonpartisan</td>\n",
              "      <td>None</td>\n",
              "      <td>NaN</td>\n",
              "      <td>1</td>\n",
              "    </tr>\n",
              "  </tbody>\n",
              "</table>\n",
              "</div>"
            ],
            "text/plain": [
              "                    Pollster  Start Date  ... Question Text Question Iteration\n",
              "0  Politico/GWU/Battleground  2012-11-04  ...           NaN                  1\n",
              "1           YouGov/Economist  2012-11-03  ...           NaN                  1\n",
              "2           Gravis Marketing  2012-11-03  ...           NaN                  1\n",
              "3                   IBD/TIPP  2012-11-03  ...           NaN                  1\n",
              "4                  Rasmussen  2012-11-03  ...           NaN                  1\n",
              "\n",
              "[5 rows x 17 columns]"
            ]
          },
          "metadata": {},
          "execution_count": 27
        }
      ]
    },
    {
      "cell_type": "code",
      "metadata": {
        "colab": {
          "base_uri": "https://localhost:8080/",
          "height": 297
        },
        "id": "FnUkw6aNlL9d",
        "outputId": "555396d7-5fce-47f8-f932-96d406231307"
      },
      "source": [
        "poll_df.plot(x='End Date', y = ['Obama','Romney','Undecided'], marker ='o',linestyle='')"
      ],
      "execution_count": 28,
      "outputs": [
        {
          "output_type": "execute_result",
          "data": {
            "text/plain": [
              "<matplotlib.axes._subplots.AxesSubplot at 0x7fe740771750>"
            ]
          },
          "metadata": {},
          "execution_count": 28
        },
        {
          "output_type": "display_data",
          "data": {
            "image/png": "[encoded data removed]",
            "text/plain": [
              "<Figure size 432x288 with 1 Axes>"
            ]
          },
          "metadata": {}
        }
      ]
    },
    {
      "cell_type": "markdown",
      "metadata": {
        "id": "Ww2cazojgT0w"
      },
      "source": [
        "##態度未定の人たちの動向は？"
      ]
    },
    {
      "cell_type": "code",
      "metadata": {
        "id": "VsBgY8hogmAI"
      },
      "source": [
        "from datetime import datetime"
      ],
      "execution_count": 29,
      "outputs": []
    },
    {
      "cell_type": "code",
      "metadata": {
        "colab": {
          "base_uri": "https://localhost:8080/",
          "height": 345
        },
        "id": "MBJs7I5Jlm3N",
        "outputId": "7d761772-6cd9-4665-96a6-183483c1f04e"
      },
      "source": [
        "poll_df['Difference'] = (poll_df.Obama - poll_df.Romney)/100\n",
        "poll_df.head()"
      ],
      "execution_count": 30,
      "outputs": [
        {
          "output_type": "execute_result",
          "data": {
            "text/html": [
              "<div>\n",
              "<style scoped>\n",
              "    .dataframe tbody tr th:only-of-type {\n",
              "        vertical-align: middle;\n",
              "    }\n",
              "\n",
              "    .dataframe tbody tr th {\n",
              "        vertical-align: top;\n",
              "    }\n",
              "\n",
              "    .dataframe thead th {\n",
              "        text-align: right;\n",
              "    }\n",
              "</style>\n",
              "<table border=\"1\" class=\"dataframe\">\n",
              "  <thead>\n",
              "    <tr style=\"text-align: right;\">\n",
              "      <th></th>\n",
              "      <th>Pollster</th>\n",
              "      <th>Start Date</th>\n",
              "      <th>End Date</th>\n",
              "      <th>Entry Date/Time (ET)</th>\n",
              "      <th>Number of Observations</th>\n",
              "      <th>Population</th>\n",
              "      <th>Mode</th>\n",
              "      <th>Obama</th>\n",
              "      <th>Romney</th>\n",
              "      <th>Undecided</th>\n",
              "      <th>Other</th>\n",
              "      <th>Pollster URL</th>\n",
              "      <th>Source URL</th>\n",
              "      <th>Partisan</th>\n",
              "      <th>Affiliation</th>\n",
              "      <th>Question Text</th>\n",
              "      <th>Question Iteration</th>\n",
              "      <th>Difference</th>\n",
              "    </tr>\n",
              "  </thead>\n",
              "  <tbody>\n",
              "    <tr>\n",
              "      <th>0</th>\n",
              "      <td>Politico/GWU/Battleground</td>\n",
              "      <td>2012-11-04</td>\n",
              "      <td>2012-11-05</td>\n",
              "      <td>2012-11-06T08:40:26Z</td>\n",
              "      <td>1000.0</td>\n",
              "      <td>Likely Voters</td>\n",
              "      <td>Live Phone</td>\n",
              "      <td>47.0</td>\n",
              "      <td>47.0</td>\n",
              "      <td>6.0</td>\n",
              "      <td>NaN</td>\n",
              "      <td>https://elections.huffingtonpost.com/pollster/...</td>\n",
              "      <td>http://www.politico.com/news/stories/1112/8338...</td>\n",
              "      <td>Nonpartisan</td>\n",
              "      <td>None</td>\n",
              "      <td>NaN</td>\n",
              "      <td>1</td>\n",
              "      <td>0.00</td>\n",
              "    </tr>\n",
              "    <tr>\n",
              "      <th>1</th>\n",
              "      <td>YouGov/Economist</td>\n",
              "      <td>2012-11-03</td>\n",
              "      <td>2012-11-05</td>\n",
              "      <td>2012-11-26T15:31:23Z</td>\n",
              "      <td>740.0</td>\n",
              "      <td>Likely Voters</td>\n",
              "      <td>Internet</td>\n",
              "      <td>49.0</td>\n",
              "      <td>47.0</td>\n",
              "      <td>3.0</td>\n",
              "      <td>NaN</td>\n",
              "      <td>https://elections.huffingtonpost.com/pollster/...</td>\n",
              "      <td>http://cdn.yougov.com/cumulus_uploads/document...</td>\n",
              "      <td>Nonpartisan</td>\n",
              "      <td>None</td>\n",
              "      <td>NaN</td>\n",
              "      <td>1</td>\n",
              "      <td>0.02</td>\n",
              "    </tr>\n",
              "    <tr>\n",
              "      <th>2</th>\n",
              "      <td>Gravis Marketing</td>\n",
              "      <td>2012-11-03</td>\n",
              "      <td>2012-11-05</td>\n",
              "      <td>2012-11-06T09:22:02Z</td>\n",
              "      <td>872.0</td>\n",
              "      <td>Likely Voters</td>\n",
              "      <td>Automated Phone</td>\n",
              "      <td>48.0</td>\n",
              "      <td>48.0</td>\n",
              "      <td>4.0</td>\n",
              "      <td>NaN</td>\n",
              "      <td>https://elections.huffingtonpost.com/pollster/...</td>\n",
              "      <td>http://www.gravispolls.com/2012/11/gravis-mark...</td>\n",
              "      <td>Nonpartisan</td>\n",
              "      <td>None</td>\n",
              "      <td>NaN</td>\n",
              "      <td>1</td>\n",
              "      <td>0.00</td>\n",
              "    </tr>\n",
              "    <tr>\n",
              "      <th>3</th>\n",
              "      <td>IBD/TIPP</td>\n",
              "      <td>2012-11-03</td>\n",
              "      <td>2012-11-05</td>\n",
              "      <td>2012-11-06T08:51:48Z</td>\n",
              "      <td>712.0</td>\n",
              "      <td>Likely Voters</td>\n",
              "      <td>Live Phone</td>\n",
              "      <td>50.0</td>\n",
              "      <td>49.0</td>\n",
              "      <td>NaN</td>\n",
              "      <td>1.0</td>\n",
              "      <td>https://elections.huffingtonpost.com/pollster/...</td>\n",
              "      <td>http://news.investors.com/special-report/50841...</td>\n",
              "      <td>Nonpartisan</td>\n",
              "      <td>None</td>\n",
              "      <td>NaN</td>\n",
              "      <td>1</td>\n",
              "      <td>0.01</td>\n",
              "    </tr>\n",
              "    <tr>\n",
              "      <th>4</th>\n",
              "      <td>Rasmussen</td>\n",
              "      <td>2012-11-03</td>\n",
              "      <td>2012-11-05</td>\n",
              "      <td>2012-11-06T08:47:50Z</td>\n",
              "      <td>1500.0</td>\n",
              "      <td>Likely Voters</td>\n",
              "      <td>Automated Phone</td>\n",
              "      <td>48.0</td>\n",
              "      <td>49.0</td>\n",
              "      <td>NaN</td>\n",
              "      <td>NaN</td>\n",
              "      <td>https://elections.huffingtonpost.com/pollster/...</td>\n",
              "      <td>http://www.rasmussenreports.com/public_content...</td>\n",
              "      <td>Nonpartisan</td>\n",
              "      <td>None</td>\n",
              "      <td>NaN</td>\n",
              "      <td>1</td>\n",
              "      <td>-0.01</td>\n",
              "    </tr>\n",
              "  </tbody>\n",
              "</table>\n",
              "</div>"
            ],
            "text/plain": [
              "                    Pollster  Start Date  ... Question Iteration Difference\n",
              "0  Politico/GWU/Battleground  2012-11-04  ...                  1       0.00\n",
              "1           YouGov/Economist  2012-11-03  ...                  1       0.02\n",
              "2           Gravis Marketing  2012-11-03  ...                  1       0.00\n",
              "3                   IBD/TIPP  2012-11-03  ...                  1       0.01\n",
              "4                  Rasmussen  2012-11-03  ...                  1      -0.01\n",
              "\n",
              "[5 rows x 18 columns]"
            ]
          },
          "metadata": {},
          "execution_count": 30
        }
      ]
    },
    {
      "cell_type": "code",
      "metadata": {
        "colab": {
          "base_uri": "https://localhost:8080/",
          "height": 205
        },
        "id": "8LCsADCbl1-j",
        "outputId": "27354bd1-63c4-42f4-c191-48c8fe01a704"
      },
      "source": [
        "poll_df = poll_df.groupby(['Start Date'], as_index=False).mean()\n",
        "poll_df.head()"
      ],
      "execution_count": 31,
      "outputs": [
        {
          "output_type": "execute_result",
          "data": {
            "text/html": [
              "<div>\n",
              "<style scoped>\n",
              "    .dataframe tbody tr th:only-of-type {\n",
              "        vertical-align: middle;\n",
              "    }\n",
              "\n",
              "    .dataframe tbody tr th {\n",
              "        vertical-align: top;\n",
              "    }\n",
              "\n",
              "    .dataframe thead th {\n",
              "        text-align: right;\n",
              "    }\n",
              "</style>\n",
              "<table border=\"1\" class=\"dataframe\">\n",
              "  <thead>\n",
              "    <tr style=\"text-align: right;\">\n",
              "      <th></th>\n",
              "      <th>Start Date</th>\n",
              "      <th>Number of Observations</th>\n",
              "      <th>Obama</th>\n",
              "      <th>Romney</th>\n",
              "      <th>Undecided</th>\n",
              "      <th>Other</th>\n",
              "      <th>Question Text</th>\n",
              "      <th>Question Iteration</th>\n",
              "      <th>Difference</th>\n",
              "    </tr>\n",
              "  </thead>\n",
              "  <tbody>\n",
              "    <tr>\n",
              "      <th>0</th>\n",
              "      <td>2009-03-13</td>\n",
              "      <td>1403.0</td>\n",
              "      <td>44.0</td>\n",
              "      <td>44.0</td>\n",
              "      <td>12.0</td>\n",
              "      <td>NaN</td>\n",
              "      <td>NaN</td>\n",
              "      <td>1</td>\n",
              "      <td>0.00</td>\n",
              "    </tr>\n",
              "    <tr>\n",
              "      <th>1</th>\n",
              "      <td>2009-04-17</td>\n",
              "      <td>686.0</td>\n",
              "      <td>50.0</td>\n",
              "      <td>39.0</td>\n",
              "      <td>11.0</td>\n",
              "      <td>NaN</td>\n",
              "      <td>NaN</td>\n",
              "      <td>1</td>\n",
              "      <td>0.11</td>\n",
              "    </tr>\n",
              "    <tr>\n",
              "      <th>2</th>\n",
              "      <td>2009-05-14</td>\n",
              "      <td>1000.0</td>\n",
              "      <td>53.0</td>\n",
              "      <td>35.0</td>\n",
              "      <td>12.0</td>\n",
              "      <td>NaN</td>\n",
              "      <td>NaN</td>\n",
              "      <td>1</td>\n",
              "      <td>0.18</td>\n",
              "    </tr>\n",
              "    <tr>\n",
              "      <th>3</th>\n",
              "      <td>2009-06-12</td>\n",
              "      <td>638.0</td>\n",
              "      <td>48.0</td>\n",
              "      <td>40.0</td>\n",
              "      <td>12.0</td>\n",
              "      <td>NaN</td>\n",
              "      <td>NaN</td>\n",
              "      <td>1</td>\n",
              "      <td>0.08</td>\n",
              "    </tr>\n",
              "    <tr>\n",
              "      <th>4</th>\n",
              "      <td>2009-07-15</td>\n",
              "      <td>577.0</td>\n",
              "      <td>49.0</td>\n",
              "      <td>40.0</td>\n",
              "      <td>11.0</td>\n",
              "      <td>NaN</td>\n",
              "      <td>NaN</td>\n",
              "      <td>1</td>\n",
              "      <td>0.09</td>\n",
              "    </tr>\n",
              "  </tbody>\n",
              "</table>\n",
              "</div>"
            ],
            "text/plain": [
              "   Start Date  Number of Observations  ...  Question Iteration  Difference\n",
              "0  2009-03-13                  1403.0  ...                   1        0.00\n",
              "1  2009-04-17                   686.0  ...                   1        0.11\n",
              "2  2009-05-14                  1000.0  ...                   1        0.18\n",
              "3  2009-06-12                   638.0  ...                   1        0.08\n",
              "4  2009-07-15                   577.0  ...                   1        0.09\n",
              "\n",
              "[5 rows x 9 columns]"
            ]
          },
          "metadata": {},
          "execution_count": 31
        }
      ]
    },
    {
      "cell_type": "markdown",
      "metadata": {
        "id": "69hthKMegXIM"
      },
      "source": [
        "##投票者の気持ちは、時間ともにどう変化したか？"
      ]
    },
    {
      "cell_type": "code",
      "metadata": {
        "colab": {
          "base_uri": "https://localhost:8080/",
          "height": 279
        },
        "id": "Vp5Put-mmHtB",
        "outputId": "57765785-6ce5-41a2-bae3-21747fc60fb7"
      },
      "source": [
        "fig = poll_df.plot('Start Date', 'Difference',figsize=(12,4), marker ='o', linestyle ='-', color = 'purple')"
      ],
      "execution_count": 32,
      "outputs": [
        {
          "output_type": "display_data",
          "data": {
            "image/png": "[encoded data removed]",
            "text/plain": [
              "<Figure size 864x288 with 1 Axes>"
            ]
          },
          "metadata": {}
        }
      ]
    },
    {
      "cell_type": "markdown",
      "metadata": {
        "id": "XmRV_rJAgZ_y"
      },
      "source": [
        "##討論会の影響を世論調査の結果から読み取ることができるか？"
      ]
    },
    {
      "cell_type": "code",
      "metadata": {
        "colab": {
          "base_uri": "https://localhost:8080/",
          "height": 1000
        },
        "id": "bAfBY1Rmgmfw",
        "outputId": "1599daa1-6783-401e-dafd-ed4f455d25bf"
      },
      "source": [
        "#10/3,10/11,10/22 討論会があった\n",
        "poll_df[poll_df['Start Date'].apply(lambda x:x.startswith('2012-10'))]"
      ],
      "execution_count": 33,
      "outputs": [
        {
          "output_type": "execute_result",
          "data": {
            "text/html": [
              "<div>\n",
              "<style scoped>\n",
              "    .dataframe tbody tr th:only-of-type {\n",
              "        vertical-align: middle;\n",
              "    }\n",
              "\n",
              "    .dataframe tbody tr th {\n",
              "        vertical-align: top;\n",
              "    }\n",
              "\n",
              "    .dataframe thead th {\n",
              "        text-align: right;\n",
              "    }\n",
              "</style>\n",
              "<table border=\"1\" class=\"dataframe\">\n",
              "  <thead>\n",
              "    <tr style=\"text-align: right;\">\n",
              "      <th></th>\n",
              "      <th>Start Date</th>\n",
              "      <th>Number of Observations</th>\n",
              "      <th>Obama</th>\n",
              "      <th>Romney</th>\n",
              "      <th>Undecided</th>\n",
              "      <th>Other</th>\n",
              "      <th>Question Text</th>\n",
              "      <th>Question Iteration</th>\n",
              "      <th>Difference</th>\n",
              "    </tr>\n",
              "  </thead>\n",
              "  <tbody>\n",
              "    <tr>\n",
              "      <th>325</th>\n",
              "      <td>2012-10-01</td>\n",
              "      <td>1746.000000</td>\n",
              "      <td>48.500000</td>\n",
              "      <td>46.000000</td>\n",
              "      <td>3.000000</td>\n",
              "      <td>NaN</td>\n",
              "      <td>NaN</td>\n",
              "      <td>1</td>\n",
              "      <td>0.025000</td>\n",
              "    </tr>\n",
              "    <tr>\n",
              "      <th>326</th>\n",
              "      <td>2012-10-02</td>\n",
              "      <td>590.000000</td>\n",
              "      <td>49.000000</td>\n",
              "      <td>45.000000</td>\n",
              "      <td>6.000000</td>\n",
              "      <td>NaN</td>\n",
              "      <td>NaN</td>\n",
              "      <td>1</td>\n",
              "      <td>0.040000</td>\n",
              "    </tr>\n",
              "    <tr>\n",
              "      <th>327</th>\n",
              "      <td>2012-10-04</td>\n",
              "      <td>1061.500000</td>\n",
              "      <td>45.833333</td>\n",
              "      <td>48.666667</td>\n",
              "      <td>6.000000</td>\n",
              "      <td>NaN</td>\n",
              "      <td>NaN</td>\n",
              "      <td>1</td>\n",
              "      <td>-0.028333</td>\n",
              "    </tr>\n",
              "    <tr>\n",
              "      <th>328</th>\n",
              "      <td>2012-10-05</td>\n",
              "      <td>1000.000000</td>\n",
              "      <td>46.000000</td>\n",
              "      <td>46.500000</td>\n",
              "      <td>7.000000</td>\n",
              "      <td>1.000000</td>\n",
              "      <td>NaN</td>\n",
              "      <td>1</td>\n",
              "      <td>-0.005000</td>\n",
              "    </tr>\n",
              "    <tr>\n",
              "      <th>329</th>\n",
              "      <td>2012-10-06</td>\n",
              "      <td>895.000000</td>\n",
              "      <td>46.500000</td>\n",
              "      <td>45.500000</td>\n",
              "      <td>4.500000</td>\n",
              "      <td>3.000000</td>\n",
              "      <td>NaN</td>\n",
              "      <td>1</td>\n",
              "      <td>0.010000</td>\n",
              "    </tr>\n",
              "    <tr>\n",
              "      <th>330</th>\n",
              "      <td>2012-10-07</td>\n",
              "      <td>1197.333333</td>\n",
              "      <td>47.000000</td>\n",
              "      <td>47.333333</td>\n",
              "      <td>4.666667</td>\n",
              "      <td>1.500000</td>\n",
              "      <td>NaN</td>\n",
              "      <td>1</td>\n",
              "      <td>-0.003333</td>\n",
              "    </tr>\n",
              "    <tr>\n",
              "      <th>331</th>\n",
              "      <td>2012-10-08</td>\n",
              "      <td>2030.000000</td>\n",
              "      <td>46.500000</td>\n",
              "      <td>48.000000</td>\n",
              "      <td>5.000000</td>\n",
              "      <td>2.000000</td>\n",
              "      <td>NaN</td>\n",
              "      <td>1</td>\n",
              "      <td>-0.015000</td>\n",
              "    </tr>\n",
              "    <tr>\n",
              "      <th>332</th>\n",
              "      <td>2012-10-10</td>\n",
              "      <td>1118.000000</td>\n",
              "      <td>48.000000</td>\n",
              "      <td>47.000000</td>\n",
              "      <td>3.500000</td>\n",
              "      <td>2.000000</td>\n",
              "      <td>NaN</td>\n",
              "      <td>1</td>\n",
              "      <td>0.010000</td>\n",
              "    </tr>\n",
              "    <tr>\n",
              "      <th>333</th>\n",
              "      <td>2012-10-11</td>\n",
              "      <td>1335.250000</td>\n",
              "      <td>47.000000</td>\n",
              "      <td>46.500000</td>\n",
              "      <td>5.666667</td>\n",
              "      <td>1.666667</td>\n",
              "      <td>NaN</td>\n",
              "      <td>1</td>\n",
              "      <td>0.005000</td>\n",
              "    </tr>\n",
              "    <tr>\n",
              "      <th>334</th>\n",
              "      <td>2012-10-12</td>\n",
              "      <td>1231.500000</td>\n",
              "      <td>46.500000</td>\n",
              "      <td>47.000000</td>\n",
              "      <td>6.500000</td>\n",
              "      <td>NaN</td>\n",
              "      <td>NaN</td>\n",
              "      <td>1</td>\n",
              "      <td>-0.005000</td>\n",
              "    </tr>\n",
              "    <tr>\n",
              "      <th>335</th>\n",
              "      <td>2012-10-13</td>\n",
              "      <td>1163.000000</td>\n",
              "      <td>47.000000</td>\n",
              "      <td>47.500000</td>\n",
              "      <td>3.000000</td>\n",
              "      <td>NaN</td>\n",
              "      <td>NaN</td>\n",
              "      <td>1</td>\n",
              "      <td>-0.005000</td>\n",
              "    </tr>\n",
              "    <tr>\n",
              "      <th>336</th>\n",
              "      <td>2012-10-14</td>\n",
              "      <td>1000.000000</td>\n",
              "      <td>47.000000</td>\n",
              "      <td>49.000000</td>\n",
              "      <td>4.000000</td>\n",
              "      <td>NaN</td>\n",
              "      <td>NaN</td>\n",
              "      <td>1</td>\n",
              "      <td>-0.020000</td>\n",
              "    </tr>\n",
              "    <tr>\n",
              "      <th>337</th>\n",
              "      <td>2012-10-15</td>\n",
              "      <td>2700.000000</td>\n",
              "      <td>45.000000</td>\n",
              "      <td>51.000000</td>\n",
              "      <td>NaN</td>\n",
              "      <td>NaN</td>\n",
              "      <td>NaN</td>\n",
              "      <td>1</td>\n",
              "      <td>-0.060000</td>\n",
              "    </tr>\n",
              "    <tr>\n",
              "      <th>338</th>\n",
              "      <td>2012-10-16</td>\n",
              "      <td>1251.000000</td>\n",
              "      <td>47.000000</td>\n",
              "      <td>45.333333</td>\n",
              "      <td>6.500000</td>\n",
              "      <td>2.000000</td>\n",
              "      <td>NaN</td>\n",
              "      <td>1</td>\n",
              "      <td>0.016667</td>\n",
              "    </tr>\n",
              "    <tr>\n",
              "      <th>339</th>\n",
              "      <td>2012-10-17</td>\n",
              "      <td>935.333333</td>\n",
              "      <td>48.000000</td>\n",
              "      <td>46.666667</td>\n",
              "      <td>4.333333</td>\n",
              "      <td>2.000000</td>\n",
              "      <td>NaN</td>\n",
              "      <td>1</td>\n",
              "      <td>0.013333</td>\n",
              "    </tr>\n",
              "    <tr>\n",
              "      <th>340</th>\n",
              "      <td>2012-10-18</td>\n",
              "      <td>1084.500000</td>\n",
              "      <td>47.166667</td>\n",
              "      <td>47.333333</td>\n",
              "      <td>4.666667</td>\n",
              "      <td>2.000000</td>\n",
              "      <td>NaN</td>\n",
              "      <td>1</td>\n",
              "      <td>-0.001667</td>\n",
              "    </tr>\n",
              "    <tr>\n",
              "      <th>341</th>\n",
              "      <td>2012-10-19</td>\n",
              "      <td>1180.666667</td>\n",
              "      <td>46.666667</td>\n",
              "      <td>48.000000</td>\n",
              "      <td>5.000000</td>\n",
              "      <td>2.000000</td>\n",
              "      <td>NaN</td>\n",
              "      <td>1</td>\n",
              "      <td>-0.013333</td>\n",
              "    </tr>\n",
              "    <tr>\n",
              "      <th>342</th>\n",
              "      <td>2012-10-20</td>\n",
              "      <td>1132.333333</td>\n",
              "      <td>47.666667</td>\n",
              "      <td>48.000000</td>\n",
              "      <td>3.000000</td>\n",
              "      <td>NaN</td>\n",
              "      <td>NaN</td>\n",
              "      <td>1</td>\n",
              "      <td>-0.003333</td>\n",
              "    </tr>\n",
              "    <tr>\n",
              "      <th>343</th>\n",
              "      <td>2012-10-22</td>\n",
              "      <td>1364.000000</td>\n",
              "      <td>46.666667</td>\n",
              "      <td>47.000000</td>\n",
              "      <td>6.500000</td>\n",
              "      <td>2.000000</td>\n",
              "      <td>NaN</td>\n",
              "      <td>1</td>\n",
              "      <td>-0.003333</td>\n",
              "    </tr>\n",
              "    <tr>\n",
              "      <th>344</th>\n",
              "      <td>2012-10-23</td>\n",
              "      <td>1100.000000</td>\n",
              "      <td>47.500000</td>\n",
              "      <td>48.000000</td>\n",
              "      <td>4.000000</td>\n",
              "      <td>1.000000</td>\n",
              "      <td>NaN</td>\n",
              "      <td>1</td>\n",
              "      <td>-0.005000</td>\n",
              "    </tr>\n",
              "    <tr>\n",
              "      <th>345</th>\n",
              "      <td>2012-10-24</td>\n",
              "      <td>1386.500000</td>\n",
              "      <td>47.500000</td>\n",
              "      <td>48.000000</td>\n",
              "      <td>3.500000</td>\n",
              "      <td>2.000000</td>\n",
              "      <td>NaN</td>\n",
              "      <td>1</td>\n",
              "      <td>-0.005000</td>\n",
              "    </tr>\n",
              "    <tr>\n",
              "      <th>346</th>\n",
              "      <td>2012-10-25</td>\n",
              "      <td>1075.200000</td>\n",
              "      <td>48.400000</td>\n",
              "      <td>47.800000</td>\n",
              "      <td>3.000000</td>\n",
              "      <td>1.000000</td>\n",
              "      <td>NaN</td>\n",
              "      <td>1</td>\n",
              "      <td>0.006000</td>\n",
              "    </tr>\n",
              "    <tr>\n",
              "      <th>347</th>\n",
              "      <td>2012-10-26</td>\n",
              "      <td>994.000000</td>\n",
              "      <td>48.000000</td>\n",
              "      <td>48.000000</td>\n",
              "      <td>2.000000</td>\n",
              "      <td>NaN</td>\n",
              "      <td>NaN</td>\n",
              "      <td>1</td>\n",
              "      <td>0.000000</td>\n",
              "    </tr>\n",
              "    <tr>\n",
              "      <th>348</th>\n",
              "      <td>2012-10-27</td>\n",
              "      <td>2579.000000</td>\n",
              "      <td>46.500000</td>\n",
              "      <td>46.500000</td>\n",
              "      <td>5.500000</td>\n",
              "      <td>3.000000</td>\n",
              "      <td>NaN</td>\n",
              "      <td>1</td>\n",
              "      <td>0.000000</td>\n",
              "    </tr>\n",
              "    <tr>\n",
              "      <th>349</th>\n",
              "      <td>2012-10-28</td>\n",
              "      <td>1307.000000</td>\n",
              "      <td>47.333333</td>\n",
              "      <td>47.666667</td>\n",
              "      <td>6.000000</td>\n",
              "      <td>1.000000</td>\n",
              "      <td>NaN</td>\n",
              "      <td>1</td>\n",
              "      <td>-0.003333</td>\n",
              "    </tr>\n",
              "    <tr>\n",
              "      <th>350</th>\n",
              "      <td>2012-10-29</td>\n",
              "      <td>900.000000</td>\n",
              "      <td>48.500000</td>\n",
              "      <td>48.500000</td>\n",
              "      <td>3.000000</td>\n",
              "      <td>NaN</td>\n",
              "      <td>NaN</td>\n",
              "      <td>1</td>\n",
              "      <td>0.000000</td>\n",
              "    </tr>\n",
              "    <tr>\n",
              "      <th>351</th>\n",
              "      <td>2012-10-30</td>\n",
              "      <td>1115.000000</td>\n",
              "      <td>48.500000</td>\n",
              "      <td>47.000000</td>\n",
              "      <td>4.500000</td>\n",
              "      <td>NaN</td>\n",
              "      <td>NaN</td>\n",
              "      <td>1</td>\n",
              "      <td>0.015000</td>\n",
              "    </tr>\n",
              "    <tr>\n",
              "      <th>352</th>\n",
              "      <td>2012-10-31</td>\n",
              "      <td>10420.250000</td>\n",
              "      <td>48.000000</td>\n",
              "      <td>46.500000</td>\n",
              "      <td>4.000000</td>\n",
              "      <td>2.000000</td>\n",
              "      <td>NaN</td>\n",
              "      <td>1</td>\n",
              "      <td>0.015000</td>\n",
              "    </tr>\n",
              "  </tbody>\n",
              "</table>\n",
              "</div>"
            ],
            "text/plain": [
              "     Start Date  Number of Observations  ...  Question Iteration  Difference\n",
              "325  2012-10-01             1746.000000  ...                   1    0.025000\n",
              "326  2012-10-02              590.000000  ...                   1    0.040000\n",
              "327  2012-10-04             1061.500000  ...                   1   -0.028333\n",
              "328  2012-10-05             1000.000000  ...                   1   -0.005000\n",
              "329  2012-10-06              895.000000  ...                   1    0.010000\n",
              "330  2012-10-07             1197.333333  ...                   1   -0.003333\n",
              "331  2012-10-08             2030.000000  ...                   1   -0.015000\n",
              "332  2012-10-10             1118.000000  ...                   1    0.010000\n",
              "333  2012-10-11             1335.250000  ...                   1    0.005000\n",
              "334  2012-10-12             1231.500000  ...                   1   -0.005000\n",
              "335  2012-10-13             1163.000000  ...                   1   -0.005000\n",
              "336  2012-10-14             1000.000000  ...                   1   -0.020000\n",
              "337  2012-10-15             2700.000000  ...                   1   -0.060000\n",
              "338  2012-10-16             1251.000000  ...                   1    0.016667\n",
              "339  2012-10-17              935.333333  ...                   1    0.013333\n",
              "340  2012-10-18             1084.500000  ...                   1   -0.001667\n",
              "341  2012-10-19             1180.666667  ...                   1   -0.013333\n",
              "342  2012-10-20             1132.333333  ...                   1   -0.003333\n",
              "343  2012-10-22             1364.000000  ...                   1   -0.003333\n",
              "344  2012-10-23             1100.000000  ...                   1   -0.005000\n",
              "345  2012-10-24             1386.500000  ...                   1   -0.005000\n",
              "346  2012-10-25             1075.200000  ...                   1    0.006000\n",
              "347  2012-10-26              994.000000  ...                   1    0.000000\n",
              "348  2012-10-27             2579.000000  ...                   1    0.000000\n",
              "349  2012-10-28             1307.000000  ...                   1   -0.003333\n",
              "350  2012-10-29              900.000000  ...                   1    0.000000\n",
              "351  2012-10-30             1115.000000  ...                   1    0.015000\n",
              "352  2012-10-31            10420.250000  ...                   1    0.015000\n",
              "\n",
              "[28 rows x 9 columns]"
            ]
          },
          "metadata": {},
          "execution_count": 33
        }
      ]
    },
    {
      "cell_type": "code",
      "metadata": {
        "colab": {
          "base_uri": "https://localhost:8080/",
          "height": 297
        },
        "id": "pAH7to29sI28",
        "outputId": "9f7aa572-5973-41ac-b883-e469789c004a"
      },
      "source": [
        "fig = poll_df.plot('Start Date','Difference',figsize=(12,4),marker='o',linestyle='-',color='purple',xlim=(329,356))\n",
        "\n",
        "plt.axvline(x=326, linewidth=4, color='grey')\n",
        "plt.axvline(x=333, linewidth=4, color='grey')\n",
        "plt.axvline(x=343, linewidth=4, color='grey')"
      ],
      "execution_count": 36,
      "outputs": [
        {
          "output_type": "execute_result",
          "data": {
            "text/plain": [
              "<matplotlib.lines.Line2D at 0x7fe736a8c2d0>"
            ]
          },
          "metadata": {},
          "execution_count": 36
        },
        {
          "output_type": "display_data",
          "data": {
            "image/png": "[encoded data removed]",
            "text/plain": [
              "<Figure size 864x288 with 1 Axes>"
            ]
          },
          "metadata": {}
        }
      ]
    },
    {
      "cell_type": "markdown",
      "metadata": {
        "id": "Fv1Y5wDwtRX_"
      },
      "source": [
        "    1.) 寄付の金額とその平均的な額\n",
        "    2.) 候補者ごとの寄付の違い\n",
        "    3.) 民主党と共和党での寄付の違い\n",
        "    4.) 寄付した人々の属性について\n",
        "    5.) 寄付の総額になんらかのパターンがあるか？"
      ]
    },
    {
      "cell_type": "markdown",
      "metadata": {
        "id": "HRPqjHXvtWtH"
      },
      "source": [
        "##寄付の金額とその平均的な額"
      ]
    },
    {
      "cell_type": "code",
      "metadata": {
        "colab": {
          "base_uri": "https://localhost:8080/"
        },
        "id": "Awti_l0utkhv",
        "outputId": "02d04df4-11a5-4574-d1fd-2e6fdacd6d36"
      },
      "source": [
        "donor_df = pd.read_csv('Election_Donor_Data.csv')"
      ],
      "execution_count": 40,
      "outputs": [
        {
          "output_type": "stream",
          "name": "stderr",
          "text": [
            "/usr/local/lib/python3.7/dist-packages/IPython/core/interactiveshell.py:2718: DtypeWarning: Columns (6) have mixed types.Specify dtype option on import or set low_memory=False.\n",
            "  interactivity=interactivity, compiler=compiler, result=result)\n"
          ]
        }
      ]
    },
    {
      "cell_type": "code",
      "metadata": {
        "colab": {
          "base_uri": "https://localhost:8080/"
        },
        "id": "l-CepQXX2XzZ",
        "outputId": "52c16a1f-f1c9-4b83-a780-da40b2f1244a"
      },
      "source": [
        "donor_df.info()"
      ],
      "execution_count": 41,
      "outputs": [
        {
          "output_type": "stream",
          "name": "stdout",
          "text": [
            "<class 'pandas.core.frame.DataFrame'>\n",
            "RangeIndex: 1001731 entries, 0 to 1001730\n",
            "Data columns (total 16 columns):\n",
            " #   Column             Non-Null Count    Dtype  \n",
            "---  ------             --------------    -----  \n",
            " 0   cmte_id            1001731 non-null  object \n",
            " 1   cand_id            1001731 non-null  object \n",
            " 2   cand_nm            1001731 non-null  object \n",
            " 3   contbr_nm          1001731 non-null  object \n",
            " 4   contbr_city        1001712 non-null  object \n",
            " 5   contbr_st          1001727 non-null  object \n",
            " 6   contbr_zip         1001620 non-null  object \n",
            " 7   contbr_employer    988002 non-null   object \n",
            " 8   contbr_occupation  993301 non-null   object \n",
            " 9   contb_receipt_amt  1001731 non-null  float64\n",
            " 10  contb_receipt_dt   1001731 non-null  object \n",
            " 11  receipt_desc       14166 non-null    object \n",
            " 12  memo_cd            92482 non-null    object \n",
            " 13  memo_text          97770 non-null    object \n",
            " 14  form_tp            1001731 non-null  object \n",
            " 15  file_num           1001731 non-null  int64  \n",
            "dtypes: float64(1), int64(1), object(14)\n",
            "memory usage: 122.3+ MB\n"
          ]
        }
      ]
    },
    {
      "cell_type": "code",
      "metadata": {
        "colab": {
          "base_uri": "https://localhost:8080/",
          "height": 328
        },
        "id": "9CB1Tliz2dYA",
        "outputId": "b2d7e222-2d2e-444c-c147-8fd86fbb5706"
      },
      "source": [
        "donor_df.head()"
      ],
      "execution_count": 42,
      "outputs": [
        {
          "output_type": "execute_result",
          "data": {
            "text/html": [
              "<div>\n",
              "<style scoped>\n",
              "    .dataframe tbody tr th:only-of-type {\n",
              "        vertical-align: middle;\n",
              "    }\n",
              "\n",
              "    .dataframe tbody tr th {\n",
              "        vertical-align: top;\n",
              "    }\n",
              "\n",
              "    .dataframe thead th {\n",
              "        text-align: right;\n",
              "    }\n",
              "</style>\n",
              "<table border=\"1\" class=\"dataframe\">\n",
              "  <thead>\n",
              "    <tr style=\"text-align: right;\">\n",
              "      <th></th>\n",
              "      <th>cmte_id</th>\n",
              "      <th>cand_id</th>\n",
              "      <th>cand_nm</th>\n",
              "      <th>contbr_nm</th>\n",
              "      <th>contbr_city</th>\n",
              "      <th>contbr_st</th>\n",
              "      <th>contbr_zip</th>\n",
              "      <th>contbr_employer</th>\n",
              "      <th>contbr_occupation</th>\n",
              "      <th>contb_receipt_amt</th>\n",
              "      <th>contb_receipt_dt</th>\n",
              "      <th>receipt_desc</th>\n",
              "      <th>memo_cd</th>\n",
              "      <th>memo_text</th>\n",
              "      <th>form_tp</th>\n",
              "      <th>file_num</th>\n",
              "    </tr>\n",
              "  </thead>\n",
              "  <tbody>\n",
              "    <tr>\n",
              "      <th>0</th>\n",
              "      <td>C00410118</td>\n",
              "      <td>P20002978</td>\n",
              "      <td>Bachmann, Michelle</td>\n",
              "      <td>HARVEY, WILLIAM</td>\n",
              "      <td>MOBILE</td>\n",
              "      <td>AL</td>\n",
              "      <td>3.6601e+08</td>\n",
              "      <td>RETIRED</td>\n",
              "      <td>RETIRED</td>\n",
              "      <td>250.0</td>\n",
              "      <td>20-JUN-11</td>\n",
              "      <td>NaN</td>\n",
              "      <td>NaN</td>\n",
              "      <td>NaN</td>\n",
              "      <td>SA17A</td>\n",
              "      <td>736166</td>\n",
              "    </tr>\n",
              "    <tr>\n",
              "      <th>1</th>\n",
              "      <td>C00410118</td>\n",
              "      <td>P20002978</td>\n",
              "      <td>Bachmann, Michelle</td>\n",
              "      <td>HARVEY, WILLIAM</td>\n",
              "      <td>MOBILE</td>\n",
              "      <td>AL</td>\n",
              "      <td>3.6601e+08</td>\n",
              "      <td>RETIRED</td>\n",
              "      <td>RETIRED</td>\n",
              "      <td>50.0</td>\n",
              "      <td>23-JUN-11</td>\n",
              "      <td>NaN</td>\n",
              "      <td>NaN</td>\n",
              "      <td>NaN</td>\n",
              "      <td>SA17A</td>\n",
              "      <td>736166</td>\n",
              "    </tr>\n",
              "    <tr>\n",
              "      <th>2</th>\n",
              "      <td>C00410118</td>\n",
              "      <td>P20002978</td>\n",
              "      <td>Bachmann, Michelle</td>\n",
              "      <td>SMITH, LANIER</td>\n",
              "      <td>LANETT</td>\n",
              "      <td>AL</td>\n",
              "      <td>3.68633e+08</td>\n",
              "      <td>INFORMATION REQUESTED</td>\n",
              "      <td>INFORMATION REQUESTED</td>\n",
              "      <td>250.0</td>\n",
              "      <td>05-JUL-11</td>\n",
              "      <td>NaN</td>\n",
              "      <td>NaN</td>\n",
              "      <td>NaN</td>\n",
              "      <td>SA17A</td>\n",
              "      <td>749073</td>\n",
              "    </tr>\n",
              "    <tr>\n",
              "      <th>3</th>\n",
              "      <td>C00410118</td>\n",
              "      <td>P20002978</td>\n",
              "      <td>Bachmann, Michelle</td>\n",
              "      <td>BLEVINS, DARONDA</td>\n",
              "      <td>PIGGOTT</td>\n",
              "      <td>AR</td>\n",
              "      <td>7.24548e+08</td>\n",
              "      <td>NONE</td>\n",
              "      <td>RETIRED</td>\n",
              "      <td>250.0</td>\n",
              "      <td>01-AUG-11</td>\n",
              "      <td>NaN</td>\n",
              "      <td>NaN</td>\n",
              "      <td>NaN</td>\n",
              "      <td>SA17A</td>\n",
              "      <td>749073</td>\n",
              "    </tr>\n",
              "    <tr>\n",
              "      <th>4</th>\n",
              "      <td>C00410118</td>\n",
              "      <td>P20002978</td>\n",
              "      <td>Bachmann, Michelle</td>\n",
              "      <td>WARDENBURG, HAROLD</td>\n",
              "      <td>HOT SPRINGS NATION</td>\n",
              "      <td>AR</td>\n",
              "      <td>7.19016e+08</td>\n",
              "      <td>NONE</td>\n",
              "      <td>RETIRED</td>\n",
              "      <td>300.0</td>\n",
              "      <td>20-JUN-11</td>\n",
              "      <td>NaN</td>\n",
              "      <td>NaN</td>\n",
              "      <td>NaN</td>\n",
              "      <td>SA17A</td>\n",
              "      <td>736166</td>\n",
              "    </tr>\n",
              "  </tbody>\n",
              "</table>\n",
              "</div>"
            ],
            "text/plain": [
              "     cmte_id    cand_id             cand_nm  ... memo_text form_tp file_num\n",
              "0  C00410118  P20002978  Bachmann, Michelle  ...       NaN   SA17A   736166\n",
              "1  C00410118  P20002978  Bachmann, Michelle  ...       NaN   SA17A   736166\n",
              "2  C00410118  P20002978  Bachmann, Michelle  ...       NaN   SA17A   749073\n",
              "3  C00410118  P20002978  Bachmann, Michelle  ...       NaN   SA17A   749073\n",
              "4  C00410118  P20002978  Bachmann, Michelle  ...       NaN   SA17A   736166\n",
              "\n",
              "[5 rows x 16 columns]"
            ]
          },
          "metadata": {},
          "execution_count": 42
        }
      ]
    },
    {
      "cell_type": "code",
      "metadata": {
        "colab": {
          "base_uri": "https://localhost:8080/"
        },
        "id": "gJtxdYzc3Ua6",
        "outputId": "d161c014-d413-4910-be11-2cb8af501c23"
      },
      "source": [
        "donor_df['contb_receipt_amt'].value_counts()"
      ],
      "execution_count": 43,
      "outputs": [
        {
          "output_type": "execute_result",
          "data": {
            "text/plain": [
              "100.00    178188\n",
              "50.00     137584\n",
              "25.00     110345\n",
              "250.00     91182\n",
              "500.00     57984\n",
              "           ...  \n",
              "97.15          1\n",
              "122.32         1\n",
              "188.65         1\n",
              "122.40         1\n",
              "132.12         1\n",
              "Name: contb_receipt_amt, Length: 8079, dtype: int64"
            ]
          },
          "metadata": {},
          "execution_count": 43
        }
      ]
    },
    {
      "cell_type": "code",
      "metadata": {
        "colab": {
          "base_uri": "https://localhost:8080/"
        },
        "id": "WIkTaemb3kIH",
        "outputId": "9a2bd32e-89f6-406f-b8dd-9c7bb171606c"
      },
      "source": [
        "donor_df['contb_receipt_amt'].value_counts().shape"
      ],
      "execution_count": 46,
      "outputs": [
        {
          "output_type": "execute_result",
          "data": {
            "text/plain": [
              "(8079,)"
            ]
          },
          "metadata": {},
          "execution_count": 46
        }
      ]
    },
    {
      "cell_type": "code",
      "metadata": {
        "colab": {
          "base_uri": "https://localhost:8080/"
        },
        "id": "-7Ap6I6W3ygk",
        "outputId": "5b331f57-9fe2-4ff5-c123-a4c0172ad708"
      },
      "source": [
        "don_mean = donor_df['contb_receipt_amt'].mean()\n",
        "don_std = donor_df['contb_receipt_amt'].std()\n",
        "print('mean : {:0.2f} std :{:0.2f}'.format(don_mean,don_std))"
      ],
      "execution_count": 51,
      "outputs": [
        {
          "output_type": "stream",
          "name": "stdout",
          "text": [
            "mean : 298.24 std :3749.67\n"
          ]
        }
      ]
    },
    {
      "cell_type": "code",
      "metadata": {
        "colab": {
          "base_uri": "https://localhost:8080/"
        },
        "id": "jWS2JNhl4gHQ",
        "outputId": "0dabc908-a032-40c9-a886-f0b04fbc657c"
      },
      "source": [
        "top_donor = donor_df['contb_receipt_amt'].copy()\n",
        "top_donor.sort_values()"
      ],
      "execution_count": 52,
      "outputs": [
        {
          "output_type": "execute_result",
          "data": {
            "text/plain": [
              "114604     -30800.00\n",
              "226986     -25800.00\n",
              "101356      -7500.00\n",
              "398429      -5500.00\n",
              "250737      -5455.00\n",
              "             ...    \n",
              "319478     526246.17\n",
              "344419    1511192.17\n",
              "344539    1679114.65\n",
              "326651    1944042.43\n",
              "325136    2014490.51\n",
              "Name: contb_receipt_amt, Length: 1001731, dtype: float64"
            ]
          },
          "metadata": {},
          "execution_count": 52
        }
      ]
    },
    {
      "cell_type": "code",
      "metadata": {
        "colab": {
          "base_uri": "https://localhost:8080/"
        },
        "id": "LRchnMMa4sT5",
        "outputId": "90c4821c-c147-4237-89c9-64c2c0bb1f5b"
      },
      "source": [
        "top_donor = top_donor[top_donor > 0]\n",
        "top_donor.sort_values()\n",
        "top_donor.value_counts().head()"
      ],
      "execution_count": 53,
      "outputs": [
        {
          "output_type": "execute_result",
          "data": {
            "text/plain": [
              "100.0    178188\n",
              "50.0     137584\n",
              "25.0     110345\n",
              "250.0     91182\n",
              "500.0     57984\n",
              "Name: contb_receipt_amt, dtype: int64"
            ]
          },
          "metadata": {},
          "execution_count": 53
        }
      ]
    },
    {
      "cell_type": "code",
      "metadata": {
        "colab": {
          "base_uri": "https://localhost:8080/",
          "height": 283
        },
        "id": "D0T1e9_v5CAz",
        "outputId": "e1ff9229-acce-4e71-929a-658d4728c8c1"
      },
      "source": [
        "com_don = top_donor[top_donor < 2500]\n",
        "com_don.hist(bins=100)"
      ],
      "execution_count": 54,
      "outputs": [
        {
          "output_type": "execute_result",
          "data": {
            "text/plain": [
              "<matplotlib.axes._subplots.AxesSubplot at 0x7fe7408d5c10>"
            ]
          },
          "metadata": {},
          "execution_count": 54
        },
        {
          "output_type": "display_data",
          "data": {
            "image/png": "[encoded data removed]",
            "text/plain": [
              "<Figure size 432x288 with 1 Axes>"
            ]
          },
          "metadata": {}
        }
      ]
    },
    {
      "cell_type": "markdown",
      "metadata": {
        "id": "_pHNCHJgtZAP"
      },
      "source": [
        "##候補者ごとの寄付の違い\n"
      ]
    },
    {
      "cell_type": "code",
      "metadata": {
        "colab": {
          "base_uri": "https://localhost:8080/"
        },
        "id": "mOkZKbyotk-A",
        "outputId": "e653e7ad-d2c1-47f7-a54a-736142e36171"
      },
      "source": [
        "candidates = donor_df.cand_nm.unique()\n",
        "candidates"
      ],
      "execution_count": 56,
      "outputs": [
        {
          "output_type": "execute_result",
          "data": {
            "text/plain": [
              "array(['Bachmann, Michelle', 'Romney, Mitt', 'Obama, Barack',\n",
              "       \"Roemer, Charles E. 'Buddy' III\", 'Pawlenty, Timothy',\n",
              "       'Johnson, Gary Earl', 'Paul, Ron', 'Santorum, Rick',\n",
              "       'Cain, Herman', 'Gingrich, Newt', 'McCotter, Thaddeus G',\n",
              "       'Huntsman, Jon', 'Perry, Rick'], dtype=object)"
            ]
          },
          "metadata": {},
          "execution_count": 56
        }
      ]
    },
    {
      "cell_type": "code",
      "metadata": {
        "id": "q1nkoTQb5qpD"
      },
      "source": [
        "party_map = {'Bachmann, Michelle': 'Republican',\n",
        "           'Cain, Herman': 'Republican',\n",
        "           'Gingrich, Newt': 'Republican',\n",
        "           'Huntsman, Jon': 'Republican',\n",
        "           'Johnson, Gary Earl': 'Republican',\n",
        "           'McCotter, Thaddeus G': 'Republican',\n",
        "           'Obama, Barack': 'Democrat',\n",
        "           'Paul, Ron': 'Republican',\n",
        "           'Pawlenty, Timothy': 'Republican',\n",
        "           'Perry, Rick': 'Republican',\n",
        "           \"Roemer, Charles E. 'Buddy' III\": 'Republican',\n",
        "           'Romney, Mitt': 'Republican',\n",
        "           'Santorum, Rick': 'Republican'}"
      ],
      "execution_count": 57,
      "outputs": []
    },
    {
      "cell_type": "code",
      "metadata": {
        "id": "-XSl7Yod6AfU"
      },
      "source": [
        "donor_df['Party'] = donor_df.cand_nm.map(party_map)"
      ],
      "execution_count": 58,
      "outputs": []
    },
    {
      "cell_type": "markdown",
      "metadata": {
        "id": "KXIr2bsatcOx"
      },
      "source": [
        "##民主党と共和党での寄付の違い"
      ]
    },
    {
      "cell_type": "code",
      "metadata": {
        "colab": {
          "base_uri": "https://localhost:8080/",
          "height": 328
        },
        "id": "x4k1ukzCtlcH",
        "outputId": "b98e4e31-b31b-48dd-8ec5-5d28c2ef8d0f"
      },
      "source": [
        "donor_df = donor_df[donor_df.contb_receipt_amt >0]\n",
        "\n",
        "donor_df.head()"
      ],
      "execution_count": 59,
      "outputs": [
        {
          "output_type": "execute_result",
          "data": {
            "text/html": [
              "<div>\n",
              "<style scoped>\n",
              "    .dataframe tbody tr th:only-of-type {\n",
              "        vertical-align: middle;\n",
              "    }\n",
              "\n",
              "    .dataframe tbody tr th {\n",
              "        vertical-align: top;\n",
              "    }\n",
              "\n",
              "    .dataframe thead th {\n",
              "        text-align: right;\n",
              "    }\n",
              "</style>\n",
              "<table border=\"1\" class=\"dataframe\">\n",
              "  <thead>\n",
              "    <tr style=\"text-align: right;\">\n",
              "      <th></th>\n",
              "      <th>cmte_id</th>\n",
              "      <th>cand_id</th>\n",
              "      <th>cand_nm</th>\n",
              "      <th>contbr_nm</th>\n",
              "      <th>contbr_city</th>\n",
              "      <th>contbr_st</th>\n",
              "      <th>contbr_zip</th>\n",
              "      <th>contbr_employer</th>\n",
              "      <th>contbr_occupation</th>\n",
              "      <th>contb_receipt_amt</th>\n",
              "      <th>contb_receipt_dt</th>\n",
              "      <th>receipt_desc</th>\n",
              "      <th>memo_cd</th>\n",
              "      <th>memo_text</th>\n",
              "      <th>form_tp</th>\n",
              "      <th>file_num</th>\n",
              "      <th>Party</th>\n",
              "    </tr>\n",
              "  </thead>\n",
              "  <tbody>\n",
              "    <tr>\n",
              "      <th>0</th>\n",
              "      <td>C00410118</td>\n",
              "      <td>P20002978</td>\n",
              "      <td>Bachmann, Michelle</td>\n",
              "      <td>HARVEY, WILLIAM</td>\n",
              "      <td>MOBILE</td>\n",
              "      <td>AL</td>\n",
              "      <td>3.6601e+08</td>\n",
              "      <td>RETIRED</td>\n",
              "      <td>RETIRED</td>\n",
              "      <td>250.0</td>\n",
              "      <td>20-JUN-11</td>\n",
              "      <td>NaN</td>\n",
              "      <td>NaN</td>\n",
              "      <td>NaN</td>\n",
              "      <td>SA17A</td>\n",
              "      <td>736166</td>\n",
              "      <td>Republican</td>\n",
              "    </tr>\n",
              "    <tr>\n",
              "      <th>1</th>\n",
              "      <td>C00410118</td>\n",
              "      <td>P20002978</td>\n",
              "      <td>Bachmann, Michelle</td>\n",
              "      <td>HARVEY, WILLIAM</td>\n",
              "      <td>MOBILE</td>\n",
              "      <td>AL</td>\n",
              "      <td>3.6601e+08</td>\n",
              "      <td>RETIRED</td>\n",
              "      <td>RETIRED</td>\n",
              "      <td>50.0</td>\n",
              "      <td>23-JUN-11</td>\n",
              "      <td>NaN</td>\n",
              "      <td>NaN</td>\n",
              "      <td>NaN</td>\n",
              "      <td>SA17A</td>\n",
              "      <td>736166</td>\n",
              "      <td>Republican</td>\n",
              "    </tr>\n",
              "    <tr>\n",
              "      <th>2</th>\n",
              "      <td>C00410118</td>\n",
              "      <td>P20002978</td>\n",
              "      <td>Bachmann, Michelle</td>\n",
              "      <td>SMITH, LANIER</td>\n",
              "      <td>LANETT</td>\n",
              "      <td>AL</td>\n",
              "      <td>3.68633e+08</td>\n",
              "      <td>INFORMATION REQUESTED</td>\n",
              "      <td>INFORMATION REQUESTED</td>\n",
              "      <td>250.0</td>\n",
              "      <td>05-JUL-11</td>\n",
              "      <td>NaN</td>\n",
              "      <td>NaN</td>\n",
              "      <td>NaN</td>\n",
              "      <td>SA17A</td>\n",
              "      <td>749073</td>\n",
              "      <td>Republican</td>\n",
              "    </tr>\n",
              "    <tr>\n",
              "      <th>3</th>\n",
              "      <td>C00410118</td>\n",
              "      <td>P20002978</td>\n",
              "      <td>Bachmann, Michelle</td>\n",
              "      <td>BLEVINS, DARONDA</td>\n",
              "      <td>PIGGOTT</td>\n",
              "      <td>AR</td>\n",
              "      <td>7.24548e+08</td>\n",
              "      <td>NONE</td>\n",
              "      <td>RETIRED</td>\n",
              "      <td>250.0</td>\n",
              "      <td>01-AUG-11</td>\n",
              "      <td>NaN</td>\n",
              "      <td>NaN</td>\n",
              "      <td>NaN</td>\n",
              "      <td>SA17A</td>\n",
              "      <td>749073</td>\n",
              "      <td>Republican</td>\n",
              "    </tr>\n",
              "    <tr>\n",
              "      <th>4</th>\n",
              "      <td>C00410118</td>\n",
              "      <td>P20002978</td>\n",
              "      <td>Bachmann, Michelle</td>\n",
              "      <td>WARDENBURG, HAROLD</td>\n",
              "      <td>HOT SPRINGS NATION</td>\n",
              "      <td>AR</td>\n",
              "      <td>7.19016e+08</td>\n",
              "      <td>NONE</td>\n",
              "      <td>RETIRED</td>\n",
              "      <td>300.0</td>\n",
              "      <td>20-JUN-11</td>\n",
              "      <td>NaN</td>\n",
              "      <td>NaN</td>\n",
              "      <td>NaN</td>\n",
              "      <td>SA17A</td>\n",
              "      <td>736166</td>\n",
              "      <td>Republican</td>\n",
              "    </tr>\n",
              "  </tbody>\n",
              "</table>\n",
              "</div>"
            ],
            "text/plain": [
              "     cmte_id    cand_id             cand_nm  ... form_tp file_num       Party\n",
              "0  C00410118  P20002978  Bachmann, Michelle  ...   SA17A   736166  Republican\n",
              "1  C00410118  P20002978  Bachmann, Michelle  ...   SA17A   736166  Republican\n",
              "2  C00410118  P20002978  Bachmann, Michelle  ...   SA17A   749073  Republican\n",
              "3  C00410118  P20002978  Bachmann, Michelle  ...   SA17A   749073  Republican\n",
              "4  C00410118  P20002978  Bachmann, Michelle  ...   SA17A   736166  Republican\n",
              "\n",
              "[5 rows x 17 columns]"
            ]
          },
          "metadata": {},
          "execution_count": 59
        }
      ]
    },
    {
      "cell_type": "code",
      "metadata": {
        "colab": {
          "base_uri": "https://localhost:8080/"
        },
        "id": "EX3AzLVntl3E",
        "outputId": "49f20c2f-0182-4e3c-82d2-37bf91d7faab"
      },
      "source": [
        "donor_df.groupby('cand_nm')['contb_receipt_amt'].count()"
      ],
      "execution_count": 60,
      "outputs": [
        {
          "output_type": "execute_result",
          "data": {
            "text/plain": [
              "cand_nm\n",
              "Bachmann, Michelle                 13082\n",
              "Cain, Herman                       20052\n",
              "Gingrich, Newt                     46883\n",
              "Huntsman, Jon                       4066\n",
              "Johnson, Gary Earl                  1234\n",
              "McCotter, Thaddeus G                  73\n",
              "Obama, Barack                     589127\n",
              "Paul, Ron                         143161\n",
              "Pawlenty, Timothy                   3844\n",
              "Perry, Rick                        12709\n",
              "Roemer, Charles E. 'Buddy' III      5844\n",
              "Romney, Mitt                      105155\n",
              "Santorum, Rick                     46245\n",
              "Name: contb_receipt_amt, dtype: int64"
            ]
          },
          "metadata": {},
          "execution_count": 60
        }
      ]
    },
    {
      "cell_type": "code",
      "metadata": {
        "colab": {
          "base_uri": "https://localhost:8080/"
        },
        "id": "iMtEIFop6M8Q",
        "outputId": "3e91733a-8035-4d65-9a47-51594a08f831"
      },
      "source": [
        "donor_df.groupby('cand_nm')['contb_receipt_amt'].sum()"
      ],
      "execution_count": 61,
      "outputs": [
        {
          "output_type": "execute_result",
          "data": {
            "text/plain": [
              "cand_nm\n",
              "Bachmann, Michelle                2.711439e+06\n",
              "Cain, Herman                      7.101082e+06\n",
              "Gingrich, Newt                    1.283277e+07\n",
              "Huntsman, Jon                     3.330373e+06\n",
              "Johnson, Gary Earl                5.669616e+05\n",
              "McCotter, Thaddeus G              3.903000e+04\n",
              "Obama, Barack                     1.358774e+08\n",
              "Paul, Ron                         2.100962e+07\n",
              "Pawlenty, Timothy                 6.004819e+06\n",
              "Perry, Rick                       2.030575e+07\n",
              "Roemer, Charles E. 'Buddy' III    3.730099e+05\n",
              "Romney, Mitt                      8.833591e+07\n",
              "Santorum, Rick                    1.104316e+07\n",
              "Name: contb_receipt_amt, dtype: float64"
            ]
          },
          "metadata": {},
          "execution_count": 61
        }
      ]
    },
    {
      "cell_type": "code",
      "metadata": {
        "colab": {
          "base_uri": "https://localhost:8080/"
        },
        "id": "oyLiqxiD6Qcq",
        "outputId": "7d3af88a-f511-4511-b04e-f08566cfc4cb"
      },
      "source": [
        "cand_amount = donor_df.groupby('cand_nm')['contb_receipt_amt'].sum()\n",
        "\n",
        "i = 0\n",
        "\n",
        "for don in cand_amount:\n",
        "    print(\"{}は、{:.0f}ドル集めました。\\n\".format(cand_amount.index[i],don))\n",
        "    i += 1"
      ],
      "execution_count": 62,
      "outputs": [
        {
          "output_type": "stream",
          "name": "stdout",
          "text": [
            "Bachmann, Michelleは、2711439ドル集めました。\n",
            "\n",
            "Cain, Hermanは、7101082ドル集めました。\n",
            "\n",
            "Gingrich, Newtは、12832770ドル集めました。\n",
            "\n",
            "Huntsman, Jonは、3330373ドル集めました。\n",
            "\n",
            "Johnson, Gary Earlは、566962ドル集めました。\n",
            "\n",
            "McCotter, Thaddeus Gは、39030ドル集めました。\n",
            "\n",
            "Obama, Barackは、135877427ドル集めました。\n",
            "\n",
            "Paul, Ronは、21009620ドル集めました。\n",
            "\n",
            "Pawlenty, Timothyは、6004819ドル集めました。\n",
            "\n",
            "Perry, Rickは、20305754ドル集めました。\n",
            "\n",
            "Roemer, Charles E. 'Buddy' IIIは、373010ドル集めました。\n",
            "\n",
            "Romney, Mittは、88335908ドル集めました。\n",
            "\n",
            "Santorum, Rickは、11043159ドル集めました。\n",
            "\n"
          ]
        }
      ]
    },
    {
      "cell_type": "code",
      "metadata": {
        "colab": {
          "base_uri": "https://localhost:8080/",
          "height": 447
        },
        "id": "-7_IXfYx6XIJ",
        "outputId": "b9d90fa6-afd0-4080-fa49-477cd59d3cb4"
      },
      "source": [
        "cand_amount.plot(kind='bar')"
      ],
      "execution_count": 63,
      "outputs": [
        {
          "output_type": "execute_result",
          "data": {
            "text/plain": [
              "<matplotlib.axes._subplots.AxesSubplot at 0x7fe731564850>"
            ]
          },
          "metadata": {},
          "execution_count": 63
        },
        {
          "output_type": "display_data",
          "data": {
            "image/png": "[encoded data removed]",
            "text/plain": [
              "<Figure size 432x288 with 1 Axes>"
            ]
          },
          "metadata": {}
        }
      ]
    },
    {
      "cell_type": "code",
      "metadata": {
        "colab": {
          "base_uri": "https://localhost:8080/",
          "height": 353
        },
        "id": "Ablg5px66aGy",
        "outputId": "0eb59d29-a489-43de-fcbc-dc38917beefb"
      },
      "source": [
        "donor_df.groupby('Party')['contb_receipt_amt'].sum().plot(kind='bar')"
      ],
      "execution_count": 64,
      "outputs": [
        {
          "output_type": "execute_result",
          "data": {
            "text/plain": [
              "<matplotlib.axes._subplots.AxesSubplot at 0x7fe731457050>"
            ]
          },
          "metadata": {},
          "execution_count": 64
        },
        {
          "output_type": "display_data",
          "data": {
            "image/png": "[encoded data removed]",
            "text/plain": [
              "<Figure size 432x288 with 1 Axes>"
            ]
          },
          "metadata": {}
        }
      ]
    },
    {
      "cell_type": "markdown",
      "metadata": {
        "id": "PguQlJINtfjE"
      },
      "source": [
        "##寄付した人々の属性について"
      ]
    },
    {
      "cell_type": "code",
      "metadata": {
        "colab": {
          "base_uri": "https://localhost:8080/",
          "height": 392
        },
        "id": "8LAOR65X6doy",
        "outputId": "d7f39a15-c4d2-437f-c853-d451ea8287bb"
      },
      "source": [
        "occupation_df = donor_df.pivot_table('contb_receipt_amt',\n",
        "                                index='contbr_occupation',\n",
        "                                columns='Party', aggfunc='sum')\n",
        "occupation_df.head(10)"
      ],
      "execution_count": 66,
      "outputs": [
        {
          "output_type": "execute_result",
          "data": {
            "text/html": [
              "<div>\n",
              "<style scoped>\n",
              "    .dataframe tbody tr th:only-of-type {\n",
              "        vertical-align: middle;\n",
              "    }\n",
              "\n",
              "    .dataframe tbody tr th {\n",
              "        vertical-align: top;\n",
              "    }\n",
              "\n",
              "    .dataframe thead th {\n",
              "        text-align: right;\n",
              "    }\n",
              "</style>\n",
              "<table border=\"1\" class=\"dataframe\">\n",
              "  <thead>\n",
              "    <tr style=\"text-align: right;\">\n",
              "      <th>Party</th>\n",
              "      <th>Democrat</th>\n",
              "      <th>Republican</th>\n",
              "    </tr>\n",
              "    <tr>\n",
              "      <th>contbr_occupation</th>\n",
              "      <th></th>\n",
              "      <th></th>\n",
              "    </tr>\n",
              "  </thead>\n",
              "  <tbody>\n",
              "    <tr>\n",
              "      <th>MIXED-MEDIA ARTIST / STORYTELLER</th>\n",
              "      <td>100.0</td>\n",
              "      <td>NaN</td>\n",
              "    </tr>\n",
              "    <tr>\n",
              "      <th>AREA VICE PRESIDENT</th>\n",
              "      <td>250.0</td>\n",
              "      <td>NaN</td>\n",
              "    </tr>\n",
              "    <tr>\n",
              "      <th>RESEARCH ASSOCIATE</th>\n",
              "      <td>100.0</td>\n",
              "      <td>NaN</td>\n",
              "    </tr>\n",
              "    <tr>\n",
              "      <th>TEACHER</th>\n",
              "      <td>500.0</td>\n",
              "      <td>NaN</td>\n",
              "    </tr>\n",
              "    <tr>\n",
              "      <th>THERAPIST</th>\n",
              "      <td>3900.0</td>\n",
              "      <td>NaN</td>\n",
              "    </tr>\n",
              "    <tr>\n",
              "      <th>'MIS MANAGER</th>\n",
              "      <td>NaN</td>\n",
              "      <td>177.6</td>\n",
              "    </tr>\n",
              "    <tr>\n",
              "      <th>(PART-TIME) SALES CONSULTANT &amp; WRITER</th>\n",
              "      <td>NaN</td>\n",
              "      <td>285.0</td>\n",
              "    </tr>\n",
              "    <tr>\n",
              "      <th>(RETIRED)</th>\n",
              "      <td>NaN</td>\n",
              "      <td>250.0</td>\n",
              "    </tr>\n",
              "    <tr>\n",
              "      <th>-</th>\n",
              "      <td>5000.0</td>\n",
              "      <td>2114.8</td>\n",
              "    </tr>\n",
              "    <tr>\n",
              "      <th>--</th>\n",
              "      <td>NaN</td>\n",
              "      <td>75.0</td>\n",
              "    </tr>\n",
              "  </tbody>\n",
              "</table>\n",
              "</div>"
            ],
            "text/plain": [
              "Party                                  Democrat  Republican\n",
              "contbr_occupation                                          \n",
              "   MIXED-MEDIA ARTIST / STORYTELLER       100.0         NaN\n",
              " AREA VICE PRESIDENT                      250.0         NaN\n",
              " RESEARCH ASSOCIATE                       100.0         NaN\n",
              " TEACHER                                  500.0         NaN\n",
              " THERAPIST                               3900.0         NaN\n",
              "'MIS MANAGER                                NaN       177.6\n",
              "(PART-TIME) SALES CONSULTANT & WRITER       NaN       285.0\n",
              "(RETIRED)                                   NaN       250.0\n",
              "-                                        5000.0      2114.8\n",
              "--                                          NaN        75.0"
            ]
          },
          "metadata": {},
          "execution_count": 66
        }
      ]
    },
    {
      "cell_type": "code",
      "metadata": {
        "colab": {
          "base_uri": "https://localhost:8080/"
        },
        "id": "laZRvGkM6iuM",
        "outputId": "b588b3af-d06a-410a-c848-f3584181517c"
      },
      "source": [
        "occupation_df.shape"
      ],
      "execution_count": 67,
      "outputs": [
        {
          "output_type": "execute_result",
          "data": {
            "text/plain": [
              "(45067, 2)"
            ]
          },
          "metadata": {},
          "execution_count": 67
        }
      ]
    },
    {
      "cell_type": "code",
      "metadata": {
        "id": "gD4fZlAV6lQC"
      },
      "source": [
        "occupation_df = occupation_df[occupation_df.sum(1) > 1000000]"
      ],
      "execution_count": 68,
      "outputs": []
    },
    {
      "cell_type": "code",
      "metadata": {
        "colab": {
          "base_uri": "https://localhost:8080/"
        },
        "id": "QPNN1OPb6nvz",
        "outputId": "d9b1ccb0-e421-4a44-9a59-8e9404274771"
      },
      "source": [
        "occupation_df.shape"
      ],
      "execution_count": 69,
      "outputs": [
        {
          "output_type": "execute_result",
          "data": {
            "text/plain": [
              "(31, 2)"
            ]
          },
          "metadata": {},
          "execution_count": 69
        }
      ]
    },
    {
      "cell_type": "code",
      "metadata": {
        "colab": {
          "base_uri": "https://localhost:8080/",
          "height": 530
        },
        "id": "fqU4NylK6qwR",
        "outputId": "167901bd-e715-4961-c4bf-77648d236a08"
      },
      "source": [
        "occupation_df.plot(kind='bar')"
      ],
      "execution_count": 70,
      "outputs": [
        {
          "output_type": "execute_result",
          "data": {
            "text/plain": [
              "<matplotlib.axes._subplots.AxesSubplot at 0x7fe731448a90>"
            ]
          },
          "metadata": {},
          "execution_count": 70
        },
        {
          "output_type": "display_data",
          "data": {
            "image/png": "[encoded data removed]",
            "text/plain": [
              "<Figure size 432x288 with 1 Axes>"
            ]
          },
          "metadata": {}
        }
      ]
    },
    {
      "cell_type": "code",
      "metadata": {
        "colab": {
          "base_uri": "https://localhost:8080/",
          "height": 731
        },
        "id": "UZh68cfq6uIw",
        "outputId": "179d254b-2b71-45af-e5ca-a54b7ee5922f"
      },
      "source": [
        "occupation_df.plot(kind='barh',figsize=(10,12),cmap='seismic')"
      ],
      "execution_count": 71,
      "outputs": [
        {
          "output_type": "execute_result",
          "data": {
            "text/plain": [
              "<matplotlib.axes._subplots.AxesSubplot at 0x7fe7313ddb90>"
            ]
          },
          "metadata": {},
          "execution_count": 71
        },
        {
          "output_type": "display_data",
          "data": {
            "image/png": "[encoded data removed]",
            "text/plain": [
              "<Figure size 720x864 with 1 Axes>"
            ]
          },
          "metadata": {}
        }
      ]
    },
    {
      "cell_type": "markdown",
      "metadata": {
        "id": "nV1tcAgNth1L"
      },
      "source": [
        "##寄付の総額になんらかのパターンがあるか？"
      ]
    },
    {
      "cell_type": "code",
      "metadata": {
        "colab": {
          "base_uri": "https://localhost:8080/",
          "height": 1000
        },
        "id": "Kxwi_3JjtTAA",
        "outputId": "7ef25d22-9acd-4937-fb43-0dfbcca79a9b"
      },
      "source": [
        "occupation_df"
      ],
      "execution_count": 72,
      "outputs": [
        {
          "output_type": "execute_result",
          "data": {
            "text/html": [
              "<div>\n",
              "<style scoped>\n",
              "    .dataframe tbody tr th:only-of-type {\n",
              "        vertical-align: middle;\n",
              "    }\n",
              "\n",
              "    .dataframe tbody tr th {\n",
              "        vertical-align: top;\n",
              "    }\n",
              "\n",
              "    .dataframe thead th {\n",
              "        text-align: right;\n",
              "    }\n",
              "</style>\n",
              "<table border=\"1\" class=\"dataframe\">\n",
              "  <thead>\n",
              "    <tr style=\"text-align: right;\">\n",
              "      <th>Party</th>\n",
              "      <th>Democrat</th>\n",
              "      <th>Republican</th>\n",
              "    </tr>\n",
              "    <tr>\n",
              "      <th>contbr_occupation</th>\n",
              "      <th></th>\n",
              "      <th></th>\n",
              "    </tr>\n",
              "  </thead>\n",
              "  <tbody>\n",
              "    <tr>\n",
              "      <th>ATTORNEY</th>\n",
              "      <td>11141982.97</td>\n",
              "      <td>7.477194e+06</td>\n",
              "    </tr>\n",
              "    <tr>\n",
              "      <th>BANKER</th>\n",
              "      <td>224084.40</td>\n",
              "      <td>1.259469e+06</td>\n",
              "    </tr>\n",
              "    <tr>\n",
              "      <th>BUSINESS OWNER</th>\n",
              "      <td>449979.30</td>\n",
              "      <td>1.323342e+06</td>\n",
              "    </tr>\n",
              "    <tr>\n",
              "      <th>C.E.O.</th>\n",
              "      <td>1690.00</td>\n",
              "      <td>2.592983e+06</td>\n",
              "    </tr>\n",
              "    <tr>\n",
              "      <th>CEO</th>\n",
              "      <td>2073284.79</td>\n",
              "      <td>1.618057e+06</td>\n",
              "    </tr>\n",
              "    <tr>\n",
              "      <th>CHAIRMAN</th>\n",
              "      <td>496547.00</td>\n",
              "      <td>1.296093e+06</td>\n",
              "    </tr>\n",
              "    <tr>\n",
              "      <th>CONSULTANT</th>\n",
              "      <td>2459912.71</td>\n",
              "      <td>2.544725e+06</td>\n",
              "    </tr>\n",
              "    <tr>\n",
              "      <th>ENGINEER</th>\n",
              "      <td>951525.55</td>\n",
              "      <td>1.818374e+06</td>\n",
              "    </tr>\n",
              "    <tr>\n",
              "      <th>EXECUTIVE</th>\n",
              "      <td>1355161.05</td>\n",
              "      <td>4.138850e+06</td>\n",
              "    </tr>\n",
              "    <tr>\n",
              "      <th>FINANCE</th>\n",
              "      <td>296031.40</td>\n",
              "      <td>1.402515e+06</td>\n",
              "    </tr>\n",
              "    <tr>\n",
              "      <th>HOMEMAKER</th>\n",
              "      <td>4248875.80</td>\n",
              "      <td>1.363428e+07</td>\n",
              "    </tr>\n",
              "    <tr>\n",
              "      <th>INFORMATION REQUESTED</th>\n",
              "      <td>4866973.96</td>\n",
              "      <td>3.896616e+06</td>\n",
              "    </tr>\n",
              "    <tr>\n",
              "      <th>INFORMATION REQUESTED PER BEST EFFORTS</th>\n",
              "      <td>NaN</td>\n",
              "      <td>1.634053e+07</td>\n",
              "    </tr>\n",
              "    <tr>\n",
              "      <th>INVESTMENTS</th>\n",
              "      <td>160480.00</td>\n",
              "      <td>1.018668e+06</td>\n",
              "    </tr>\n",
              "    <tr>\n",
              "      <th>INVESTOR</th>\n",
              "      <td>884133.00</td>\n",
              "      <td>2.431769e+06</td>\n",
              "    </tr>\n",
              "    <tr>\n",
              "      <th>LAWYER</th>\n",
              "      <td>3160478.87</td>\n",
              "      <td>3.912243e+05</td>\n",
              "    </tr>\n",
              "    <tr>\n",
              "      <th>MANAGER</th>\n",
              "      <td>762883.22</td>\n",
              "      <td>1.444532e+06</td>\n",
              "    </tr>\n",
              "    <tr>\n",
              "      <th>NOT EMPLOYED</th>\n",
              "      <td>1709188.20</td>\n",
              "      <td>4.481973e+04</td>\n",
              "    </tr>\n",
              "    <tr>\n",
              "      <th>OWNER</th>\n",
              "      <td>1001567.36</td>\n",
              "      <td>2.408287e+06</td>\n",
              "    </tr>\n",
              "    <tr>\n",
              "      <th>PARTNER</th>\n",
              "      <td>395759.50</td>\n",
              "      <td>8.421771e+05</td>\n",
              "    </tr>\n",
              "    <tr>\n",
              "      <th>PHYSICIAN</th>\n",
              "      <td>3735124.94</td>\n",
              "      <td>3.594320e+06</td>\n",
              "    </tr>\n",
              "    <tr>\n",
              "      <th>PRESIDENT</th>\n",
              "      <td>1878509.95</td>\n",
              "      <td>4.720924e+06</td>\n",
              "    </tr>\n",
              "    <tr>\n",
              "      <th>PROFESSOR</th>\n",
              "      <td>2165071.08</td>\n",
              "      <td>2.967027e+05</td>\n",
              "    </tr>\n",
              "    <tr>\n",
              "      <th>REAL ESTATE</th>\n",
              "      <td>528902.09</td>\n",
              "      <td>1.625902e+06</td>\n",
              "    </tr>\n",
              "    <tr>\n",
              "      <th>RETIRED</th>\n",
              "      <td>25305116.38</td>\n",
              "      <td>2.356124e+07</td>\n",
              "    </tr>\n",
              "    <tr>\n",
              "      <th>SALES</th>\n",
              "      <td>392886.91</td>\n",
              "      <td>1.455465e+06</td>\n",
              "    </tr>\n",
              "    <tr>\n",
              "      <th>SELF-EMPLOYED</th>\n",
              "      <td>672393.40</td>\n",
              "      <td>1.640253e+06</td>\n",
              "    </tr>\n",
              "    <tr>\n",
              "      <th>STUDENT</th>\n",
              "      <td>628099.75</td>\n",
              "      <td>1.073284e+06</td>\n",
              "    </tr>\n",
              "    <tr>\n",
              "      <th>TEACHER</th>\n",
              "      <td>1250969.15</td>\n",
              "      <td>4.639849e+05</td>\n",
              "    </tr>\n",
              "    <tr>\n",
              "      <th>VICE PRESIDENT</th>\n",
              "      <td>325647.15</td>\n",
              "      <td>8.801623e+05</td>\n",
              "    </tr>\n",
              "    <tr>\n",
              "      <th>WRITER</th>\n",
              "      <td>1084188.88</td>\n",
              "      <td>2.279284e+05</td>\n",
              "    </tr>\n",
              "  </tbody>\n",
              "</table>\n",
              "</div>"
            ],
            "text/plain": [
              "Party                                      Democrat    Republican\n",
              "contbr_occupation                                                \n",
              "ATTORNEY                                11141982.97  7.477194e+06\n",
              "BANKER                                    224084.40  1.259469e+06\n",
              "BUSINESS OWNER                            449979.30  1.323342e+06\n",
              "C.E.O.                                      1690.00  2.592983e+06\n",
              "CEO                                      2073284.79  1.618057e+06\n",
              "CHAIRMAN                                  496547.00  1.296093e+06\n",
              "CONSULTANT                               2459912.71  2.544725e+06\n",
              "ENGINEER                                  951525.55  1.818374e+06\n",
              "EXECUTIVE                                1355161.05  4.138850e+06\n",
              "FINANCE                                   296031.40  1.402515e+06\n",
              "HOMEMAKER                                4248875.80  1.363428e+07\n",
              "INFORMATION REQUESTED                    4866973.96  3.896616e+06\n",
              "INFORMATION REQUESTED PER BEST EFFORTS          NaN  1.634053e+07\n",
              "INVESTMENTS                               160480.00  1.018668e+06\n",
              "INVESTOR                                  884133.00  2.431769e+06\n",
              "LAWYER                                   3160478.87  3.912243e+05\n",
              "MANAGER                                   762883.22  1.444532e+06\n",
              "NOT EMPLOYED                             1709188.20  4.481973e+04\n",
              "OWNER                                    1001567.36  2.408287e+06\n",
              "PARTNER                                   395759.50  8.421771e+05\n",
              "PHYSICIAN                                3735124.94  3.594320e+06\n",
              "PRESIDENT                                1878509.95  4.720924e+06\n",
              "PROFESSOR                                2165071.08  2.967027e+05\n",
              "REAL ESTATE                               528902.09  1.625902e+06\n",
              "RETIRED                                 25305116.38  2.356124e+07\n",
              "SALES                                     392886.91  1.455465e+06\n",
              "SELF-EMPLOYED                             672393.40  1.640253e+06\n",
              "STUDENT                                   628099.75  1.073284e+06\n",
              "TEACHER                                  1250969.15  4.639849e+05\n",
              "VICE PRESIDENT                            325647.15  8.801623e+05\n",
              "WRITER                                   1084188.88  2.279284e+05"
            ]
          },
          "metadata": {},
          "execution_count": 72
        }
      ]
    },
    {
      "cell_type": "code",
      "metadata": {
        "id": "opwMgkx4fsxn"
      },
      "source": [
        "occupation_df.drop(['INFORMATION REQUESTED PER BEST EFFORTS','INFORMATION REQUESTED'],axis=0,inplace=True)"
      ],
      "execution_count": 73,
      "outputs": []
    },
    {
      "cell_type": "code",
      "metadata": {
        "id": "FRed_QoK63UV"
      },
      "source": [
        "occupation_df.loc['CEO'] = occupation_df.loc['CEO'] + occupation_df.loc['C.E.O.']\n",
        "occupation_df.drop('C.E.O.',inplace=True)"
      ],
      "execution_count": 74,
      "outputs": []
    },
    {
      "cell_type": "code",
      "metadata": {
        "colab": {
          "base_uri": "https://localhost:8080/",
          "height": 731
        },
        "id": "TVyLyHGm66C8",
        "outputId": "2e56345c-2428-46f2-a8a5-f361bf8baba2"
      },
      "source": [
        "occupation_df.plot(kind='barh',figsize=(10,12),cmap='seismic')"
      ],
      "execution_count": 75,
      "outputs": [
        {
          "output_type": "execute_result",
          "data": {
            "text/plain": [
              "<matplotlib.axes._subplots.AxesSubplot at 0x7fe7312be9d0>"
            ]
          },
          "metadata": {},
          "execution_count": 75
        },
        {
          "output_type": "display_data",
          "data": {
            "image/png": "[encoded data removed]",
            "text/plain": [
              "<Figure size 720x864 with 1 Axes>"
            ]
          },
          "metadata": {}
        }
      ]
    }
  ]
}