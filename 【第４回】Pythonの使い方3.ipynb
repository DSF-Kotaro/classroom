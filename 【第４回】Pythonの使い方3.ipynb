{
  "nbformat": 4,
  "nbformat_minor": 0,
  "metadata": {
    "colab": {
      "name": "【第３回】Pythonの使い方3.ipynb",
      "provenance": [],
      "collapsed_sections": [],
      "authorship_tag": "ABX9TyPtvv5rcl0g+g2sppBz+Unx",
      "include_colab_link": true
    },
    "kernelspec": {
      "name": "python3",
      "display_name": "Python 3"
    },
    "language_info": {
      "name": "python"
    }
  },
  "cells": [
    {
      "cell_type": "markdown",
      "metadata": {
        "id": "view-in-github",
        "colab_type": "text"
      },
      "source": [
        "<a href=\"https://colab.research.google.com/github/DSF-Kotaro/classroom/blob/main/%E3%80%90%E7%AC%AC%EF%BC%93%E5%9B%9E%E3%80%91Python%E3%81%AE%E4%BD%BF%E3%81%84%E6%96%B93.ipynb\" target=\"_parent\"><img src=\"https://colab.research.google.com/assets/colab-badge.svg\" alt=\"Open In Colab\"/></a>"
      ]
    },
    {
      "cell_type": "markdown",
      "metadata": {
        "id": "8-nrkJMZKytA"
      },
      "source": [
        "#[６]変数を使う（Use variables）"
      ]
    },
    {
      "cell_type": "code",
      "metadata": {
        "colab": {
          "base_uri": "https://localhost:8080/"
        },
        "id": "6o14YrE-GsUN",
        "outputId": "c2f66967-c709-408d-eca1-2cd2e9a95f63"
      },
      "source": [
        "num1 = 5\n",
        "num2 = 9\n",
        "result1 = num1 + num2\n",
        "result2 = num1 - num2 \n",
        "result3 = num1 * num2\n",
        "print(result1)\n",
        "print(result2)\n",
        "print(result3)"
      ],
      "execution_count": null,
      "outputs": [
        {
          "output_type": "stream",
          "text": [
            "14\n",
            "-4\n",
            "45\n"
          ],
          "name": "stdout"
        }
      ]
    },
    {
      "cell_type": "code",
      "metadata": {
        "colab": {
          "base_uri": "https://localhost:8080/"
        },
        "id": "q54A6mYmLPAT",
        "outputId": "314f0255-d7b5-4d79-dee9-c068b8b94416"
      },
      "source": [
        "type(result1)"
      ],
      "execution_count": null,
      "outputs": [
        {
          "output_type": "execute_result",
          "data": {
            "text/plain": [
              "int"
            ]
          },
          "metadata": {
            "tags": []
          },
          "execution_count": 2
        }
      ]
    },
    {
      "cell_type": "code",
      "metadata": {
        "colab": {
          "base_uri": "https://localhost:8080/"
        },
        "id": "nzjjm0MWLaIL",
        "outputId": "3171d828-0a37-4652-da1e-cf9e817c1747"
      },
      "source": [
        "msg = 'Hello! Python'\n",
        "print(msg)"
      ],
      "execution_count": null,
      "outputs": [
        {
          "output_type": "stream",
          "text": [
            "Hello! Python\n"
          ],
          "name": "stdout"
        }
      ]
    },
    {
      "cell_type": "code",
      "metadata": {
        "colab": {
          "base_uri": "https://localhost:8080/"
        },
        "id": "AzFm2ba1LqJE",
        "outputId": "e8d91076-c169-41fd-ddac-03ed54ffb065"
      },
      "source": [
        "num1 = 5 + 6\n",
        "msg = '計算結果(Caluculation result) ='\n",
        "print(msg,num1)"
      ],
      "execution_count": null,
      "outputs": [
        {
          "output_type": "stream",
          "text": [
            "計算結果(Caluculation result) = 11\n"
          ],
          "name": "stdout"
        }
      ]
    },
    {
      "cell_type": "code",
      "metadata": {
        "colab": {
          "base_uri": "https://localhost:8080/"
        },
        "id": "bXK3r7FWLucu",
        "outputId": "de95ed8c-e8bb-45c2-8800-69737d5ea510"
      },
      "source": [
        "type(num1)"
      ],
      "execution_count": null,
      "outputs": [
        {
          "output_type": "execute_result",
          "data": {
            "text/plain": [
              "int"
            ]
          },
          "metadata": {
            "tags": []
          },
          "execution_count": 5
        }
      ]
    },
    {
      "cell_type": "code",
      "metadata": {
        "colab": {
          "base_uri": "https://localhost:8080/"
        },
        "id": "76CxuZPZMT_o",
        "outputId": "f3f10e63-f8ee-4a44-ec5d-292e65553404"
      },
      "source": [
        "type(msg)"
      ],
      "execution_count": null,
      "outputs": [
        {
          "output_type": "execute_result",
          "data": {
            "text/plain": [
              "str"
            ]
          },
          "metadata": {
            "tags": []
          },
          "execution_count": 6
        }
      ]
    },
    {
      "cell_type": "code",
      "metadata": {
        "colab": {
          "base_uri": "https://localhost:8080/",
          "height": 206
        },
        "id": "UL4pnVi5L-q-",
        "outputId": "fdaff5af-5e2a-481f-bde6-f2bfaf284ae1"
      },
      "source": [
        "num1 = 5 + 6\n",
        "msg = '計算結果(Caluculation result) =' + num1\n",
        "print(msg)"
      ],
      "execution_count": null,
      "outputs": [
        {
          "output_type": "error",
          "ename": "TypeError",
          "evalue": "ignored",
          "traceback": [
            "\u001b[0;31m---------------------------------------------------------------------------\u001b[0m",
            "\u001b[0;31mTypeError\u001b[0m                                 Traceback (most recent call last)",
            "\u001b[0;32m<ipython-input-7-91259c825c38>\u001b[0m in \u001b[0;36m<module>\u001b[0;34m()\u001b[0m\n\u001b[1;32m      1\u001b[0m \u001b[0mnum1\u001b[0m \u001b[0;34m=\u001b[0m \u001b[0;36m5\u001b[0m \u001b[0;34m+\u001b[0m \u001b[0;36m6\u001b[0m\u001b[0;34m\u001b[0m\u001b[0;34m\u001b[0m\u001b[0m\n\u001b[0;32m----> 2\u001b[0;31m \u001b[0mmsg\u001b[0m \u001b[0;34m=\u001b[0m \u001b[0;34m'計算結果(Caluculation result) ='\u001b[0m \u001b[0;34m+\u001b[0m \u001b[0mnum1\u001b[0m\u001b[0;34m\u001b[0m\u001b[0;34m\u001b[0m\u001b[0m\n\u001b[0m\u001b[1;32m      3\u001b[0m \u001b[0mprint\u001b[0m\u001b[0;34m(\u001b[0m\u001b[0mmsg\u001b[0m\u001b[0;34m)\u001b[0m\u001b[0;34m\u001b[0m\u001b[0;34m\u001b[0m\u001b[0m\n",
            "\u001b[0;31mTypeError\u001b[0m: can only concatenate str (not \"int\") to str"
          ]
        }
      ]
    },
    {
      "cell_type": "code",
      "metadata": {
        "colab": {
          "base_uri": "https://localhost:8080/"
        },
        "id": "R68YH0iTMMSp",
        "outputId": "7bcb4999-08d8-46ab-8896-f31d054d7747"
      },
      "source": [
        "num1 = 5 + 6\n",
        "msg = '計算結果(Caluculation result) =' + str(num1)\n",
        "print(msg)"
      ],
      "execution_count": null,
      "outputs": [
        {
          "output_type": "stream",
          "text": [
            "計算結果(Caluculation result) =11\n"
          ],
          "name": "stdout"
        }
      ]
    },
    {
      "cell_type": "code",
      "metadata": {
        "colab": {
          "base_uri": "https://localhost:8080/"
        },
        "id": "iM1CY_VmMQHD",
        "outputId": "dfbfd623-fe2b-44fb-dc55-524174d6be35"
      },
      "source": [
        "num1 = 9\n",
        "num2 = num1\n",
        "print(num1)\n",
        "print(num2)"
      ],
      "execution_count": null,
      "outputs": [
        {
          "output_type": "stream",
          "text": [
            "9\n",
            "9\n"
          ],
          "name": "stdout"
        }
      ]
    },
    {
      "cell_type": "code",
      "metadata": {
        "colab": {
          "base_uri": "https://localhost:8080/"
        },
        "id": "Cxw8MySuMgNZ",
        "outputId": "ca87a835-d552-4217-9f4c-c0547a36b102"
      },
      "source": [
        "num1 = 9                 \n",
        "num2 =num1 + 6          #num2 = 15\n",
        "num1 = 2                #num1 is rewritten from 9 to 2\n",
        "num2 = num1 + num2      #num2(new) = num1(new) + num2(old) = 2 + 15   \n",
        "print(num2)"
      ],
      "execution_count": null,
      "outputs": [
        {
          "output_type": "stream",
          "text": [
            "17\n"
          ],
          "name": "stdout"
        }
      ]
    },
    {
      "cell_type": "code",
      "metadata": {
        "colab": {
          "base_uri": "https://localhost:8080/",
          "height": 206
        },
        "id": "BWB672syMtCX",
        "outputId": "031e456d-f395-423a-e0a3-60812608cb86"
      },
      "source": [
        "num1 = 4\n",
        "num2 = 6\n",
        "\n",
        "num4 = num1 + num2 + num3"
      ],
      "execution_count": null,
      "outputs": [
        {
          "output_type": "error",
          "ename": "NameError",
          "evalue": "ignored",
          "traceback": [
            "\u001b[0;31m---------------------------------------------------------------------------\u001b[0m",
            "\u001b[0;31mNameError\u001b[0m                                 Traceback (most recent call last)",
            "\u001b[0;32m<ipython-input-11-8c52b8534cf3>\u001b[0m in \u001b[0;36m<module>\u001b[0;34m()\u001b[0m\n\u001b[1;32m      2\u001b[0m \u001b[0mnum2\u001b[0m \u001b[0;34m=\u001b[0m \u001b[0;36m6\u001b[0m\u001b[0;34m\u001b[0m\u001b[0;34m\u001b[0m\u001b[0m\n\u001b[1;32m      3\u001b[0m \u001b[0;34m\u001b[0m\u001b[0m\n\u001b[0;32m----> 4\u001b[0;31m \u001b[0mnum4\u001b[0m \u001b[0;34m=\u001b[0m \u001b[0mnum1\u001b[0m \u001b[0;34m+\u001b[0m \u001b[0mnum2\u001b[0m \u001b[0;34m+\u001b[0m \u001b[0mnum3\u001b[0m\u001b[0;34m\u001b[0m\u001b[0;34m\u001b[0m\u001b[0m\n\u001b[0m",
            "\u001b[0;31mNameError\u001b[0m: name 'num3' is not defined"
          ]
        }
      ]
    },
    {
      "cell_type": "markdown",
      "metadata": {
        "id": "WEG8n4VYOjIk"
      },
      "source": [
        "#[７]複合代入演算子（Compound assignment operator）"
      ]
    },
    {
      "cell_type": "code",
      "metadata": {
        "colab": {
          "base_uri": "https://localhost:8080/"
        },
        "id": "KRAq3TXUNlYN",
        "outputId": "6a5b829a-0d6a-45b8-ec61-eb476258fba6"
      },
      "source": [
        "num1 = 7\n",
        "num1 = num1 + 8\n",
        "print(num1)\n",
        "\n",
        "\n",
        "\n",
        "\n",
        "\n",
        "\n",
        "num1 = 7\n",
        "num1 += 8\n",
        "print(num1)"
      ],
      "execution_count": null,
      "outputs": [
        {
          "output_type": "stream",
          "text": [
            "15\n",
            "15\n"
          ],
          "name": "stdout"
        }
      ]
    },
    {
      "cell_type": "code",
      "metadata": {
        "colab": {
          "base_uri": "https://localhost:8080/"
        },
        "id": "n01k-OruPFeU",
        "outputId": "4fb7bdc8-7812-4902-e1bc-baa21be442d0"
      },
      "source": [
        "num2 = 11\n",
        "num2 = num2 - 15\n",
        "print(num2)\n",
        "\n",
        "\n",
        "num2 = 11\n",
        "num2 -= 15\n",
        "print(num2)"
      ],
      "execution_count": null,
      "outputs": [
        {
          "output_type": "stream",
          "text": [
            "-4\n",
            "-4\n"
          ],
          "name": "stdout"
        }
      ]
    },
    {
      "cell_type": "code",
      "metadata": {
        "colab": {
          "base_uri": "https://localhost:8080/"
        },
        "id": "K7FwExpaPifT",
        "outputId": "601eeff0-9652-4b4e-93ff-f755a3573bd2"
      },
      "source": [
        "num3 = 87\n",
        "num3 = num3 * 3\n",
        "print(num3)\n",
        "\n",
        "num3 = 87\n",
        "num3 *= 3\n",
        "print(num3)"
      ],
      "execution_count": null,
      "outputs": [
        {
          "output_type": "stream",
          "text": [
            "261\n",
            "261\n"
          ],
          "name": "stdout"
        }
      ]
    },
    {
      "cell_type": "code",
      "metadata": {
        "colab": {
          "base_uri": "https://localhost:8080/"
        },
        "id": "nbUgxMIBPxPf",
        "outputId": "eb268e5a-4b99-47c7-d209-d6a0b9ea6abc"
      },
      "source": [
        "num4 = 36\n",
        "num4 = num4 / 3\n",
        "print(num4)\n",
        "\n",
        "num4 = 36\n",
        "num4 /= 3\n",
        "print(num4)"
      ],
      "execution_count": null,
      "outputs": [
        {
          "output_type": "stream",
          "text": [
            "12.0\n",
            "12.0\n"
          ],
          "name": "stdout"
        }
      ]
    },
    {
      "cell_type": "code",
      "metadata": {
        "colab": {
          "base_uri": "https://localhost:8080/"
        },
        "id": "-951ieDNQAdH",
        "outputId": "4c2b75ac-9aa9-4d57-fa5f-6a20f938996a"
      },
      "source": [
        "num5 = 17\n",
        "num5 = num5 // 3\n",
        "print(num5)\n",
        "\n",
        "num5 = 17\n",
        "num5 //= 3\n",
        "print(num5)"
      ],
      "execution_count": null,
      "outputs": [
        {
          "output_type": "stream",
          "text": [
            "5\n",
            "5\n"
          ],
          "name": "stdout"
        }
      ]
    },
    {
      "cell_type": "code",
      "metadata": {
        "colab": {
          "base_uri": "https://localhost:8080/"
        },
        "id": "a9prRLi2QPtS",
        "outputId": "a50de123-52bc-4386-b158-838e1e143f22"
      },
      "source": [
        "num6 = 4\n",
        "num6 = num6 ** 8\n",
        "print(num6)\n",
        "\n",
        "num6 = 4\n",
        "num6 **=8\n",
        "print(num6)"
      ],
      "execution_count": null,
      "outputs": [
        {
          "output_type": "stream",
          "text": [
            "65536\n",
            "65536\n"
          ],
          "name": "stdout"
        }
      ]
    },
    {
      "cell_type": "code",
      "metadata": {
        "colab": {
          "base_uri": "https://localhost:8080/"
        },
        "id": "a4Z7Krt7QhMC",
        "outputId": "2399fa52-bceb-4a40-864d-8e264e151630"
      },
      "source": [
        "str1 = 'abc'\n",
        "str1 += 'def'\n",
        "print(str1)\n",
        "\n",
        "str1 *= 3\n",
        "print(str1)"
      ],
      "execution_count": null,
      "outputs": [
        {
          "output_type": "stream",
          "text": [
            "abcdef\n",
            "abcdefabcdefabcdef\n"
          ],
          "name": "stdout"
        }
      ]
    },
    {
      "cell_type": "code",
      "metadata": {
        "colab": {
          "base_uri": "https://localhost:8080/"
        },
        "id": "YV6wGgomQxYZ",
        "outputId": "0149654c-d522-4e5b-adc8-f51350af5d64"
      },
      "source": [
        "a = input('Input Sentence')\n",
        "print(a)"
      ],
      "execution_count": null,
      "outputs": [
        {
          "output_type": "stream",
          "text": [
            "Input Sentence Hello ! world\n",
            " Hello ! world\n"
          ],
          "name": "stdout"
        }
      ]
    },
    {
      "cell_type": "code",
      "metadata": {
        "colab": {
          "base_uri": "https://localhost:8080/"
        },
        "id": "juJc76ZzQ-Ux",
        "outputId": "dd4ce4c4-0a48-41a7-b358-213d3b07d8d4"
      },
      "source": [
        "num1 = input('Input a number1')\n",
        "num2 = input('input a number2')\n",
        "print(num1 + num2)"
      ],
      "execution_count": null,
      "outputs": [
        {
          "output_type": "stream",
          "text": [
            "Input a number11\n",
            "input a number22\n",
            "12\n"
          ],
          "name": "stdout"
        }
      ]
    },
    {
      "cell_type": "code",
      "metadata": {
        "colab": {
          "base_uri": "https://localhost:8080/"
        },
        "id": "wERwvTDoRqdw",
        "outputId": "b717c483-5c83-4dfb-f327-2b19ff0fb2a0"
      },
      "source": [
        "type(num1 + num2)"
      ],
      "execution_count": null,
      "outputs": [
        {
          "output_type": "execute_result",
          "data": {
            "text/plain": [
              "str"
            ]
          },
          "metadata": {
            "tags": []
          },
          "execution_count": 21
        }
      ]
    },
    {
      "cell_type": "code",
      "metadata": {
        "colab": {
          "base_uri": "https://localhost:8080/"
        },
        "id": "bNyHwEZLRbHB",
        "outputId": "2b7c4539-1da2-4a3d-cf12-303fd2bd97eb"
      },
      "source": [
        "num1 = input('Input a number1')\n",
        "num2 = input('input a number2')\n",
        "print(int(num1) + int(num2))"
      ],
      "execution_count": null,
      "outputs": [
        {
          "output_type": "stream",
          "text": [
            "Input a number15\n",
            "input a number298\n",
            "103\n"
          ],
          "name": "stdout"
        }
      ]
    },
    {
      "cell_type": "code",
      "metadata": {
        "colab": {
          "base_uri": "https://localhost:8080/"
        },
        "id": "a3qq2KjiRmSB",
        "outputId": "e796f60d-a5e7-4cb7-be56-b8767c2192d5"
      },
      "source": [
        "type(num1 + num2)"
      ],
      "execution_count": null,
      "outputs": [
        {
          "output_type": "execute_result",
          "data": {
            "text/plain": [
              "str"
            ]
          },
          "metadata": {
            "tags": []
          },
          "execution_count": 23
        }
      ]
    },
    {
      "cell_type": "markdown",
      "metadata": {
        "id": "BuDEVbD6SQWc"
      },
      "source": [
        "【８】比較演算子（Comparison Operator）"
      ]
    },
    {
      "cell_type": "code",
      "metadata": {
        "colab": {
          "base_uri": "https://localhost:8080/"
        },
        "id": "aDR-8ERURzDd",
        "outputId": "6b8a33b1-79c9-4cf9-c220-e25b1772d5c1"
      },
      "source": [
        "8 > 1"
      ],
      "execution_count": null,
      "outputs": [
        {
          "output_type": "execute_result",
          "data": {
            "text/plain": [
              "True"
            ]
          },
          "metadata": {
            "tags": []
          },
          "execution_count": 24
        }
      ]
    },
    {
      "cell_type": "code",
      "metadata": {
        "colab": {
          "base_uri": "https://localhost:8080/"
        },
        "id": "sHgIZvmhSYe2",
        "outputId": "e55ea4f0-d096-47bf-f384-9a5f312ae527"
      },
      "source": [
        "8 < 1"
      ],
      "execution_count": null,
      "outputs": [
        {
          "output_type": "execute_result",
          "data": {
            "text/plain": [
              "False"
            ]
          },
          "metadata": {
            "tags": []
          },
          "execution_count": 25
        }
      ]
    },
    {
      "cell_type": "code",
      "metadata": {
        "colab": {
          "base_uri": "https://localhost:8080/"
        },
        "id": "mWlNaQPcSaKC",
        "outputId": "e7e7c706-626f-4322-98b8-12b0970fe1b1"
      },
      "source": [
        "9 == 9"
      ],
      "execution_count": null,
      "outputs": [
        {
          "output_type": "execute_result",
          "data": {
            "text/plain": [
              "True"
            ]
          },
          "metadata": {
            "tags": []
          },
          "execution_count": 26
        }
      ]
    },
    {
      "cell_type": "code",
      "metadata": {
        "colab": {
          "base_uri": "https://localhost:8080/"
        },
        "id": "GIhmms99Sc-C",
        "outputId": "6754b878-e7fc-4e5b-ab50-09e4123dd4f0"
      },
      "source": [
        "9 != 9"
      ],
      "execution_count": null,
      "outputs": [
        {
          "output_type": "execute_result",
          "data": {
            "text/plain": [
              "False"
            ]
          },
          "metadata": {
            "tags": []
          },
          "execution_count": 27
        }
      ]
    },
    {
      "cell_type": "code",
      "metadata": {
        "colab": {
          "base_uri": "https://localhost:8080/"
        },
        "id": "UH-aOSTGSfXo",
        "outputId": "caa72d2f-37f0-41da-9544-90dfabc0f366"
      },
      "source": [
        "9 == 9.0"
      ],
      "execution_count": null,
      "outputs": [
        {
          "output_type": "execute_result",
          "data": {
            "text/plain": [
              "True"
            ]
          },
          "metadata": {
            "tags": []
          },
          "execution_count": 28
        }
      ]
    },
    {
      "cell_type": "code",
      "metadata": {
        "colab": {
          "base_uri": "https://localhost:8080/"
        },
        "id": "gCItEs6GSjfq",
        "outputId": "5894cbf4-8858-4204-e11c-6fde5f9a961a"
      },
      "source": [
        "9 is 9.0"
      ],
      "execution_count": null,
      "outputs": [
        {
          "output_type": "execute_result",
          "data": {
            "text/plain": [
              "False"
            ]
          },
          "metadata": {
            "tags": []
          },
          "execution_count": 29
        }
      ]
    },
    {
      "cell_type": "markdown",
      "metadata": {
        "id": "CeMHdOUJSrDs"
      },
      "source": [
        "#【８】if文（if statement）"
      ]
    },
    {
      "cell_type": "code",
      "metadata": {
        "colab": {
          "base_uri": "https://localhost:8080/"
        },
        "id": "28ogvW42SlrW",
        "outputId": "30a7160c-1e9c-4228-90b9-00e0e351d4ba"
      },
      "source": [
        "str1 = input('Input a text')\n",
        "\n",
        "if str1 == 'abc':\n",
        "  print('Entered Correctly')\n",
        "  print('If statement-block ends')\n",
        "\n",
        "print('This Program ends')"
      ],
      "execution_count": null,
      "outputs": [
        {
          "output_type": "stream",
          "text": [
            "Input a textabc\n",
            "Entered Correctly\n",
            "If statement-block ends\n",
            "This Program ends\n"
          ],
          "name": "stdout"
        }
      ]
    },
    {
      "cell_type": "code",
      "metadata": {
        "colab": {
          "base_uri": "https://localhost:8080/"
        },
        "id": "9_u31eerTh92",
        "outputId": "19ca49c6-b579-4987-bd11-ea08c2ccbfb9"
      },
      "source": [
        "str1 = input('Input a text')\n",
        "\n",
        "if str1 == 'abc':\n",
        "  print('Entered Correctly')\n",
        "  print('If statement-block ends')\n",
        "\n",
        "print('This Program ends')"
      ],
      "execution_count": null,
      "outputs": [
        {
          "output_type": "stream",
          "text": [
            "Input a textdef\n",
            "This Program ends\n"
          ],
          "name": "stdout"
        }
      ]
    },
    {
      "cell_type": "code",
      "metadata": {
        "colab": {
          "base_uri": "https://localhost:8080/"
        },
        "id": "1uv-RPzZTmoD",
        "outputId": "66f58614-af69-4d22-93b8-c0b869d73d7a"
      },
      "source": [
        "str1 = input('Input a text')\n",
        "\n",
        "if str1 == 'abc':\n",
        "  print('Entered Correctly')\n",
        "  print('If statement-block ends')\n",
        "\n",
        "else:\n",
        "  print(\"There was an error in the input\")\n",
        "\n",
        "print('This Program ends')"
      ],
      "execution_count": null,
      "outputs": [
        {
          "output_type": "stream",
          "text": [
            "Input a textabd\n",
            "There was an error in the input\n",
            "This Program ends\n"
          ],
          "name": "stdout"
        }
      ]
    },
    {
      "cell_type": "code",
      "metadata": {
        "colab": {
          "base_uri": "https://localhost:8080/"
        },
        "id": "F_6RQVImT9bm",
        "outputId": "584ccdcc-ef4c-410f-f22a-5625da502830"
      },
      "source": [
        "str1 = input('Input \"abc\" or \"123\"')\n",
        "\n",
        "if str1 == 'abc':\n",
        "  print('Entered Correctly')\n",
        "  print('You input \"abc\"')\n",
        "\n",
        "elif str1 == '123':\n",
        "  print('Entered Correctly')\n",
        "  print('You input \"123\"')\n",
        "\n",
        "else:\n",
        "  print(\"There was an error in the input\")\n",
        "\n",
        "print('This Program ends')"
      ],
      "execution_count": null,
      "outputs": [
        {
          "output_type": "stream",
          "text": [
            "Input \"abc\" or \"123\"123\n",
            "Entered Correctly\n",
            "You input \"123\"\n",
            "This Program ends\n"
          ],
          "name": "stdout"
        }
      ]
    },
    {
      "cell_type": "code",
      "metadata": {
        "colab": {
          "base_uri": "https://localhost:8080/"
        },
        "id": "ZEpaBd7_U_SB",
        "outputId": "c49f4e23-b31d-4802-a4de-7bcf68393e73"
      },
      "source": [
        "str1 = input('Input \"abc\" or \"123\" or \"ABC\"')\n",
        "\n",
        "if str1 == 'abc':\n",
        "  print('Entered Correctly')\n",
        "  print('You input \"abc\"')\n",
        "\n",
        "elif str1 == '123':\n",
        "  print('Entered Correctly')\n",
        "  print('You input \"123\"')\n",
        "\n",
        "elif str1 == 'ABC':\n",
        "  print('Entered Correctly')\n",
        "  print('You input \"ABC\"')\n",
        "\n",
        "else:\n",
        "  print(\"There was an error in the input\")\n",
        "\n",
        "print('This Program ends')"
      ],
      "execution_count": null,
      "outputs": [
        {
          "output_type": "stream",
          "text": [
            "Input \"abc\" or \"123\" or \"ABC\"ABC\n",
            "Entered Correctly\n",
            "You input \"ABC\"\n",
            "This Program ends\n"
          ],
          "name": "stdout"
        }
      ]
    },
    {
      "cell_type": "code",
      "metadata": {
        "colab": {
          "base_uri": "https://localhost:8080/"
        },
        "id": "uev-roPkVW3J",
        "outputId": "96ae7dc3-2e6b-4ba1-b138-24570cd24045"
      },
      "source": [
        "num1 = 100\n",
        "num2 = input('Input a number')\n",
        "\n",
        "if num1 > int(num2):\n",
        "  print(num2 + ' is smaller than 100.')\n",
        "\n",
        "elif num1 < int(num2):\n",
        "  print(num2 + ' is bigger than 100.')\n",
        "\n",
        "elif num1 == int(num2):\n",
        "  print(num2 + ' is 100.')\n",
        "\n",
        "elif num1 >= int(num2):\n",
        "  print(num2 + ' is 100 or less.')\n",
        "\n",
        "elif num1 <= int(num2):\n",
        "  print(str(num2) + ' is 100 or more.')\n",
        "\n",
        "else:\n",
        "  print(\"There was an error in the input\")\n",
        "\n",
        "print('This Program ends')"
      ],
      "execution_count": null,
      "outputs": [
        {
          "output_type": "stream",
          "text": [
            "Input a number65\n",
            "65 is smaller than 100.\n",
            "This Program ends\n"
          ],
          "name": "stdout"
        }
      ]
    },
    {
      "cell_type": "code",
      "metadata": {
        "colab": {
          "base_uri": "https://localhost:8080/"
        },
        "id": "PaC8iB7oW6ck",
        "outputId": "951c6a16-96e8-4666-c4f4-0a17779c957a"
      },
      "source": [
        "num1 = 100\n",
        "num2 = input('Input a number')\n",
        "\n",
        "if num1 > int(num2):\n",
        "  print(num2 + ' is smaller than 100.')\n",
        "\n",
        "elif num1 < int(num2):\n",
        "  print(num2 + ' is bigger than 100.')\n",
        "\n",
        "elif num1 == int(num2):\n",
        "  print(num2 + ' is 100.')\n",
        "\n",
        "if num1 >= int(num2):\n",
        "  print(num2 + ' is 100 or less.')\n",
        "\n",
        "\n",
        "\n",
        "\n",
        "elif num1 <= int(num2):\n",
        "  print(str(num2) + ' is 100 or more.')\n",
        "\n",
        "else:\n",
        "  print(\"There was an error in the input\")\n",
        "\n",
        "print('This Program ends')"
      ],
      "execution_count": null,
      "outputs": [
        {
          "output_type": "stream",
          "text": [
            "Input a number84\n",
            "84 is smaller than 100.\n",
            "84 is 100 or less.\n",
            "This Program ends\n"
          ],
          "name": "stdout"
        }
      ]
    },
    {
      "cell_type": "code",
      "metadata": {
        "colab": {
          "base_uri": "https://localhost:8080/"
        },
        "id": "H3qAko-rXXYq",
        "outputId": "02f9f142-da39-4c0c-bd1e-43b905292334"
      },
      "source": [
        "a = int(input('Input an integer '))\n",
        "if a < 10 and a >= 0:\n",
        "  print(str(a) + ' is more and less than 10')\n",
        "\n",
        "else:\n",
        "  print(str(a) + ' is less than 0 or bigger than or equall 10')"
      ],
      "execution_count": null,
      "outputs": [
        {
          "output_type": "stream",
          "text": [
            "Input an integer 3\n",
            "3 is more and less than 10\n"
          ],
          "name": "stdout"
        }
      ]
    },
    {
      "cell_type": "code",
      "metadata": {
        "colab": {
          "base_uri": "https://localhost:8080/"
        },
        "id": "qKY55plZYvCo",
        "outputId": "ffbeee6d-f176-4d4f-e431-305762746f20"
      },
      "source": [
        "b = int(input('Input an integer'))\n",
        "if b > 10 or b <= 0:\n",
        "  print(str(b) + ' is smaller than 0 ,or 10 or more')\n",
        "\n",
        "else:\n",
        "  print(str(b) + ' is 0 or more and less than 10 ')"
      ],
      "execution_count": null,
      "outputs": [
        {
          "output_type": "stream",
          "text": [
            "Input an integer2\n",
            "2 is 0 or more and less than 10 \n"
          ],
          "name": "stdout"
        }
      ]
    },
    {
      "cell_type": "code",
      "metadata": {
        "colab": {
          "base_uri": "https://localhost:8080/"
        },
        "id": "_nlUxwvfZ9b_",
        "outputId": "b92aec28-0ad2-4da4-d4f4-653843c1fc80"
      },
      "source": [
        "c = int(input('Input an integer'))\n",
        "if not c < 10:\n",
        "  print(str(c) + ' is not 10 or less')\n",
        "\n",
        "elif not c >= 0:\n",
        "  print(str(c) + ' is not more than 0 ')\n",
        "\n",
        "else:\n",
        "  print(str(c) + ' less than 10 ')"
      ],
      "execution_count": null,
      "outputs": [
        {
          "output_type": "stream",
          "text": [
            "Input an integer78\n",
            "78 is not 10 or less\n"
          ],
          "name": "stdout"
        }
      ]
    },
    {
      "cell_type": "markdown",
      "metadata": {
        "id": "J-tlyPE0jZ2w"
      },
      "source": [
        "##Blank"
      ]
    },
    {
      "cell_type": "markdown",
      "metadata": {
        "id": "gXhZauo0jcNK"
      },
      "source": [
        "##Blank"
      ]
    },
    {
      "cell_type": "code",
      "metadata": {
        "colab": {
          "base_uri": "https://localhost:8080/"
        },
        "id": "5yZsDeppa-qX",
        "outputId": "9bd8b1bc-f66a-4c69-be79-05c5ad0a1120"
      },
      "source": [
        "str1 = input('Input \"abc\"')\n",
        "\n",
        "if str1 == 'abc':\n",
        "  print('abc is correctly entered')\n",
        "  str2 = input('input \"123\"')\n",
        "  if str2 == '123':\n",
        "    print('123 is correctly entered')\n",
        "  else:\n",
        "    print(\"You didnt input 123\")\n",
        "else:\n",
        "  print(\"You didnt input abc\")\n",
        "\n",
        "print('This Program ends')"
      ],
      "execution_count": null,
      "outputs": [
        {
          "output_type": "stream",
          "text": [
            "Input \"abc\"abc\n",
            "abc is correctly entered\n",
            "input \"123\"123\n",
            "123 is correctly entered\n",
            "This Program ends\n"
          ],
          "name": "stdout"
        }
      ]
    }
  ]
}
