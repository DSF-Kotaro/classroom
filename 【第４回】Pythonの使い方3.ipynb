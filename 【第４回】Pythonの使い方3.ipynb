{
  "nbformat": 4,
  "nbformat_minor": 0,
  "metadata": {
    "colab": {
      "name": "【第４回】Pythonの使い方3.ipynb",
      "provenance": [],
      "collapsed_sections": [],
      "authorship_tag": "ABX9TyMwxUPGQWl5vk2aYo+T1qje",
      "include_colab_link": true
    },
    "kernelspec": {
      "name": "python3",
      "display_name": "Python 3"
    },
    "language_info": {
      "name": "python"
    }
  },
  "cells": [
    {
      "cell_type": "markdown",
      "metadata": {
        "id": "view-in-github",
        "colab_type": "text"
      },
      "source": [
        "<a href=\"https://colab.research.google.com/github/DSF-Kotaro/classroom/blob/main/%E3%80%90%E7%AC%AC%EF%BC%94%E5%9B%9E%E3%80%91Python%E3%81%AE%E4%BD%BF%E3%81%84%E6%96%B93.ipynb\" target=\"_parent\"><img src=\"https://colab.research.google.com/assets/colab-badge.svg\" alt=\"Open In Colab\"/></a>"
      ]
    },
    {
      "cell_type": "markdown",
      "metadata": {
        "id": "BuDEVbD6SQWc"
      },
      "source": [
        "【８】比較演算子（Comparison Operator）"
      ]
    },
    {
      "cell_type": "code",
      "metadata": {
        "colab": {
          "base_uri": "https://localhost:8080/"
        },
        "id": "aDR-8ERURzDd",
        "outputId": "6b8a33b1-79c9-4cf9-c220-e25b1772d5c1"
      },
      "source": [
        "8 > 1"
      ],
      "execution_count": null,
      "outputs": [
        {
          "output_type": "execute_result",
          "data": {
            "text/plain": [
              "True"
            ]
          },
          "metadata": {
            "tags": []
          },
          "execution_count": 24
        }
      ]
    },
    {
      "cell_type": "code",
      "metadata": {
        "colab": {
          "base_uri": "https://localhost:8080/"
        },
        "id": "sHgIZvmhSYe2",
        "outputId": "e55ea4f0-d096-47bf-f384-9a5f312ae527"
      },
      "source": [
        "8 < 1"
      ],
      "execution_count": null,
      "outputs": [
        {
          "output_type": "execute_result",
          "data": {
            "text/plain": [
              "False"
            ]
          },
          "metadata": {
            "tags": []
          },
          "execution_count": 25
        }
      ]
    },
    {
      "cell_type": "code",
      "metadata": {
        "colab": {
          "base_uri": "https://localhost:8080/"
        },
        "id": "mWlNaQPcSaKC",
        "outputId": "e7e7c706-626f-4322-98b8-12b0970fe1b1"
      },
      "source": [
        "9 == 9"
      ],
      "execution_count": null,
      "outputs": [
        {
          "output_type": "execute_result",
          "data": {
            "text/plain": [
              "True"
            ]
          },
          "metadata": {
            "tags": []
          },
          "execution_count": 26
        }
      ]
    },
    {
      "cell_type": "code",
      "metadata": {
        "colab": {
          "base_uri": "https://localhost:8080/"
        },
        "id": "GIhmms99Sc-C",
        "outputId": "6754b878-e7fc-4e5b-ab50-09e4123dd4f0"
      },
      "source": [
        "9 != 9"
      ],
      "execution_count": null,
      "outputs": [
        {
          "output_type": "execute_result",
          "data": {
            "text/plain": [
              "False"
            ]
          },
          "metadata": {
            "tags": []
          },
          "execution_count": 27
        }
      ]
    },
    {
      "cell_type": "code",
      "metadata": {
        "colab": {
          "base_uri": "https://localhost:8080/"
        },
        "id": "UH-aOSTGSfXo",
        "outputId": "caa72d2f-37f0-41da-9544-90dfabc0f366"
      },
      "source": [
        "9 == 9.0"
      ],
      "execution_count": null,
      "outputs": [
        {
          "output_type": "execute_result",
          "data": {
            "text/plain": [
              "True"
            ]
          },
          "metadata": {
            "tags": []
          },
          "execution_count": 28
        }
      ]
    },
    {
      "cell_type": "code",
      "metadata": {
        "colab": {
          "base_uri": "https://localhost:8080/"
        },
        "id": "gCItEs6GSjfq",
        "outputId": "5894cbf4-8858-4204-e11c-6fde5f9a961a"
      },
      "source": [
        "9 is 9.0"
      ],
      "execution_count": null,
      "outputs": [
        {
          "output_type": "execute_result",
          "data": {
            "text/plain": [
              "False"
            ]
          },
          "metadata": {
            "tags": []
          },
          "execution_count": 29
        }
      ]
    },
    {
      "cell_type": "markdown",
      "metadata": {
        "id": "CeMHdOUJSrDs"
      },
      "source": [
        "#【８】if文（if statement）"
      ]
    },
    {
      "cell_type": "code",
      "metadata": {
        "colab": {
          "base_uri": "https://localhost:8080/"
        },
        "id": "28ogvW42SlrW",
        "outputId": "30a7160c-1e9c-4228-90b9-00e0e351d4ba"
      },
      "source": [
        "str1 = input('Input a text')\n",
        "\n",
        "if str1 == 'abc':\n",
        "  print('Entered Correctly')\n",
        "  print('If statement-block ends')\n",
        "\n",
        "print('This Program ends')"
      ],
      "execution_count": null,
      "outputs": [
        {
          "output_type": "stream",
          "text": [
            "Input a textabc\n",
            "Entered Correctly\n",
            "If statement-block ends\n",
            "This Program ends\n"
          ],
          "name": "stdout"
        }
      ]
    },
    {
      "cell_type": "code",
      "metadata": {
        "colab": {
          "base_uri": "https://localhost:8080/"
        },
        "id": "9_u31eerTh92",
        "outputId": "19ca49c6-b579-4987-bd11-ea08c2ccbfb9"
      },
      "source": [
        "str1 = input('Input a text')\n",
        "\n",
        "if str1 == 'abc':\n",
        "  print('Entered Correctly')\n",
        "  print('If statement-block ends')\n",
        "\n",
        "print('This Program ends')"
      ],
      "execution_count": null,
      "outputs": [
        {
          "output_type": "stream",
          "text": [
            "Input a textdef\n",
            "This Program ends\n"
          ],
          "name": "stdout"
        }
      ]
    },
    {
      "cell_type": "code",
      "metadata": {
        "colab": {
          "base_uri": "https://localhost:8080/"
        },
        "id": "1uv-RPzZTmoD",
        "outputId": "66f58614-af69-4d22-93b8-c0b869d73d7a"
      },
      "source": [
        "str1 = input('Input a text')\n",
        "\n",
        "if str1 == 'abc':\n",
        "  print('Entered Correctly')\n",
        "  print('If statement-block ends')\n",
        "\n",
        "else:\n",
        "  print(\"There was an error in the input\")\n",
        "\n",
        "print('This Program ends')"
      ],
      "execution_count": null,
      "outputs": [
        {
          "output_type": "stream",
          "text": [
            "Input a textabd\n",
            "There was an error in the input\n",
            "This Program ends\n"
          ],
          "name": "stdout"
        }
      ]
    },
    {
      "cell_type": "code",
      "metadata": {
        "colab": {
          "base_uri": "https://localhost:8080/"
        },
        "id": "F_6RQVImT9bm",
        "outputId": "584ccdcc-ef4c-410f-f22a-5625da502830"
      },
      "source": [
        "str1 = input('Input \"abc\" or \"123\"')\n",
        "\n",
        "if str1 == 'abc':\n",
        "  print('Entered Correctly')\n",
        "  print('You input \"abc\"')\n",
        "\n",
        "elif str1 == '123':\n",
        "  print('Entered Correctly')\n",
        "  print('You input \"123\"')\n",
        "\n",
        "else:\n",
        "  print(\"There was an error in the input\")\n",
        "\n",
        "print('This Program ends')"
      ],
      "execution_count": null,
      "outputs": [
        {
          "output_type": "stream",
          "text": [
            "Input \"abc\" or \"123\"123\n",
            "Entered Correctly\n",
            "You input \"123\"\n",
            "This Program ends\n"
          ],
          "name": "stdout"
        }
      ]
    },
    {
      "cell_type": "code",
      "metadata": {
        "colab": {
          "base_uri": "https://localhost:8080/"
        },
        "id": "ZEpaBd7_U_SB",
        "outputId": "c49f4e23-b31d-4802-a4de-7bcf68393e73"
      },
      "source": [
        "str1 = input('Input \"abc\" or \"123\" or \"ABC\"')\n",
        "\n",
        "if str1 == 'abc':\n",
        "  print('Entered Correctly')\n",
        "  print('You input \"abc\"')\n",
        "\n",
        "elif str1 == '123':\n",
        "  print('Entered Correctly')\n",
        "  print('You input \"123\"')\n",
        "\n",
        "elif str1 == 'ABC':\n",
        "  print('Entered Correctly')\n",
        "  print('You input \"ABC\"')\n",
        "\n",
        "else:\n",
        "  print(\"There was an error in the input\")\n",
        "\n",
        "print('This Program ends')"
      ],
      "execution_count": null,
      "outputs": [
        {
          "output_type": "stream",
          "text": [
            "Input \"abc\" or \"123\" or \"ABC\"ABC\n",
            "Entered Correctly\n",
            "You input \"ABC\"\n",
            "This Program ends\n"
          ],
          "name": "stdout"
        }
      ]
    },
    {
      "cell_type": "code",
      "metadata": {
        "colab": {
          "base_uri": "https://localhost:8080/"
        },
        "id": "uev-roPkVW3J",
        "outputId": "96ae7dc3-2e6b-4ba1-b138-24570cd24045"
      },
      "source": [
        "num1 = 100\n",
        "num2 = input('Input a number')\n",
        "\n",
        "if num1 > int(num2):\n",
        "  print(num2 + ' is smaller than 100.')\n",
        "\n",
        "elif num1 < int(num2):\n",
        "  print(num2 + ' is bigger than 100.')\n",
        "\n",
        "elif num1 == int(num2):\n",
        "  print(num2 + ' is 100.')\n",
        "\n",
        "elif num1 >= int(num2):\n",
        "  print(num2 + ' is 100 or less.')\n",
        "\n",
        "elif num1 <= int(num2):\n",
        "  print(str(num2) + ' is 100 or more.')\n",
        "\n",
        "else:\n",
        "  print(\"There was an error in the input\")\n",
        "\n",
        "print('This Program ends')"
      ],
      "execution_count": null,
      "outputs": [
        {
          "output_type": "stream",
          "text": [
            "Input a number65\n",
            "65 is smaller than 100.\n",
            "This Program ends\n"
          ],
          "name": "stdout"
        }
      ]
    },
    {
      "cell_type": "code",
      "metadata": {
        "colab": {
          "base_uri": "https://localhost:8080/"
        },
        "id": "PaC8iB7oW6ck",
        "outputId": "951c6a16-96e8-4666-c4f4-0a17779c957a"
      },
      "source": [
        "num1 = 100\n",
        "num2 = input('Input a number')\n",
        "\n",
        "if num1 > int(num2):\n",
        "  print(num2 + ' is smaller than 100.')\n",
        "\n",
        "elif num1 < int(num2):\n",
        "  print(num2 + ' is bigger than 100.')\n",
        "\n",
        "elif num1 == int(num2):\n",
        "  print(num2 + ' is 100.')\n",
        "\n",
        "if num1 >= int(num2):\n",
        "  print(num2 + ' is 100 or less.')\n",
        "\n",
        "\n",
        "\n",
        "\n",
        "elif num1 <= int(num2):\n",
        "  print(str(num2) + ' is 100 or more.')\n",
        "\n",
        "else:\n",
        "  print(\"There was an error in the input\")\n",
        "\n",
        "print('This Program ends')"
      ],
      "execution_count": null,
      "outputs": [
        {
          "output_type": "stream",
          "text": [
            "Input a number84\n",
            "84 is smaller than 100.\n",
            "84 is 100 or less.\n",
            "This Program ends\n"
          ],
          "name": "stdout"
        }
      ]
    },
    {
      "cell_type": "code",
      "metadata": {
        "colab": {
          "base_uri": "https://localhost:8080/"
        },
        "id": "H3qAko-rXXYq",
        "outputId": "02f9f142-da39-4c0c-bd1e-43b905292334"
      },
      "source": [
        "a = int(input('Input an integer '))\n",
        "if a < 10 and a >= 0:\n",
        "  print(str(a) + ' is more and less than 10')\n",
        "\n",
        "else:\n",
        "  print(str(a) + ' is less than 0 or bigger than or equall 10')"
      ],
      "execution_count": null,
      "outputs": [
        {
          "output_type": "stream",
          "text": [
            "Input an integer 3\n",
            "3 is more and less than 10\n"
          ],
          "name": "stdout"
        }
      ]
    },
    {
      "cell_type": "code",
      "metadata": {
        "colab": {
          "base_uri": "https://localhost:8080/"
        },
        "id": "qKY55plZYvCo",
        "outputId": "ffbeee6d-f176-4d4f-e431-305762746f20"
      },
      "source": [
        "b = int(input('Input an integer'))\n",
        "if b > 10 or b <= 0:\n",
        "  print(str(b) + ' is smaller than 0 ,or 10 or more')\n",
        "\n",
        "else:\n",
        "  print(str(b) + ' is 0 or more and less than 10 ')"
      ],
      "execution_count": null,
      "outputs": [
        {
          "output_type": "stream",
          "text": [
            "Input an integer2\n",
            "2 is 0 or more and less than 10 \n"
          ],
          "name": "stdout"
        }
      ]
    },
    {
      "cell_type": "code",
      "metadata": {
        "colab": {
          "base_uri": "https://localhost:8080/"
        },
        "id": "_nlUxwvfZ9b_",
        "outputId": "b92aec28-0ad2-4da4-d4f4-653843c1fc80"
      },
      "source": [
        "c = int(input('Input an integer'))\n",
        "if not c < 10:\n",
        "  print(str(c) + ' is not 10 or less')\n",
        "\n",
        "elif not c >= 0:\n",
        "  print(str(c) + ' is not more than 0 ')\n",
        "\n",
        "else:\n",
        "  print(str(c) + ' less than 10 ')"
      ],
      "execution_count": null,
      "outputs": [
        {
          "output_type": "stream",
          "text": [
            "Input an integer78\n",
            "78 is not 10 or less\n"
          ],
          "name": "stdout"
        }
      ]
    },
    {
      "cell_type": "code",
      "metadata": {
        "colab": {
          "base_uri": "https://localhost:8080/"
        },
        "id": "5yZsDeppa-qX",
        "outputId": "9bd8b1bc-f66a-4c69-be79-05c5ad0a1120"
      },
      "source": [
        "str1 = input('Input \"abc\"')\n",
        "\n",
        "if str1 == 'abc':\n",
        "  print('abc is correctly entered')\n",
        "  str2 = input('input \"123\"')\n",
        "  if str2 == '123':\n",
        "    print('123 is correctly entered')\n",
        "  else:\n",
        "    print(\"You didnt input 123\")\n",
        "else:\n",
        "  print(\"You didnt input abc\")\n",
        "\n",
        "print('This Program ends')"
      ],
      "execution_count": null,
      "outputs": [
        {
          "output_type": "stream",
          "text": [
            "Input \"abc\"abc\n",
            "abc is correctly entered\n",
            "input \"123\"123\n",
            "123 is correctly entered\n",
            "This Program ends\n"
          ],
          "name": "stdout"
        }
      ]
    }
  ]
}